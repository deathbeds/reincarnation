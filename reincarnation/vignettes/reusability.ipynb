{
 "cells": [
  {
   "cell_type": "markdown",
   "metadata": {},
   "source": [
    "# A story about all the RRR's"
   ]
  },
  {
   "cell_type": "code",
   "execution_count": 1,
   "metadata": {},
   "outputs": [],
   "source": [
    "    from IPython import get_ipython\n",
    "\n",
    "    from reincarnation.vignettes import modernnotebooks\n",
    "    "
   ]
  },
  {
   "cell_type": "code",
   "execution_count": 2,
   "metadata": {},
   "outputs": [
    {
     "data": {
      "text/html": [
       "<style>\n",
       ".jp-RenderedHTMLCommon pre code {\n",
       "    text-decoration: line-through wavy;\n",
       "}\n",
       ".jp-RenderedHTMLCommon pre code:hover {\n",
       "    text-decoration: none;\n",
       "    \n",
       "}\n",
       ".jp-Placeholder-content .jp-MoreHorizIcon {\n",
       "    background-size: 32px;\n",
       "}\n",
       "\n",
       "@import url(\"https://cdn.jsdelivr.net/npm/firacode@1.205.0/distr/fira_code.css\")\n",
       "\n",
       ".CodeMirror * {\n",
       "  font-family: 'Fira Code' !important; \n",
       "  font-variant-ligatures: initial !important;\n",
       "}\n",
       "\n",
       ".cm-string {\n",
       "    font-variant-ligatures: none;\n",
       "}\n",
       "</style><style>\n",
       ".jp-mod-presentationMode .jp-SideBar,\n",
       ".jp-mod-presentationMode #jp-top-panel {\n",
       "    opacity: 0.0;\n",
       "    transition: all 0.2s;\n",
       "}\n",
       ".jp-mod-presentationMode .jp-SideBar:hover,\n",
       ".jp-mod-presentationMode #jp-top-panel:hover {\n",
       "    opacity: 0.9;\n",
       "    transition: all 0.2s;\n",
       "}\n",
       "\n",
       "</style><style>\n",
       ".jp-mod-presentationMode.jp-ApplicationShell,\n",
       ".jp-mod-presentationMode .p-TabBar-content{\n",
       "    background-color: var(--jp-layout-color0);\n",
       "}\n",
       "</style><style>\n",
       ".jp-mod-presentationMode .p-DockPanel-widget,\n",
       ".jp-mod-presentationMode #jp-left-stack{\n",
       "    border-color: transparent;\n",
       "}\n",
       ".jp-mod-presentationMode .jp-Toolbar-item,\n",
       ".jp-mod-presentationMode .jp-Toolbar {\n",
       "    opacity: 0.1;\n",
       "    transition: all 0.2s;\n",
       "}\n",
       ".jp-mod-presentationMode .jp-Toolbar-item:hover,\n",
       ".jp-mod-presentationMode .jp-Toolbar:hover {\n",
       "    opacity: 0.9;\n",
       "    transition: all 0.2s;\n",
       "}\n",
       "\n",
       "</style><style>\n",
       ".jp-mod-presentationMode .jp-OutputPrompt,\n",
       ".jp-mod-presentationMode .jp-InputPrompt {\n",
       "    max-width: 2rem !important;\n",
       "    transition: all 0.2s;\n",
       "}\n",
       ".jp-mod-presentationMode .jp-Cell.jp-mod-selected .jp-OutputPrompt,\n",
       ".jp-mod-presentationMode .jp-Cell.jp-mod-selected .jp-InputPrompt,\n",
       ".jp-mod-presentationMode .jp-Cell:hover .jp-OutputPrompt,\n",
       ".jp-mod-presentationMode .jp-Cell:hover .jp-InputPrompt {\n",
       "    max-width: 10rem !important;\n",
       "    transition: all 0.2s;\n",
       "}\n",
       "\n",
       ".jp-mod-presentationMode .jp-Cell {\n",
       "    margin-bottom: 5rem;\n",
       "}\n",
       "\n",
       ".jp-mod-presentationMode hr {\n",
       "    opacity: 0.1;\n",
       "}\n",
       "</style>\n",
       "    <style>\n",
       "    .jp-TableOfContents-content h1, \n",
       "    .jp-TableOfContents-content h2 {\n",
       "        margin-bottom: var(--jp-ui-font-size0)\n",
       "    }\n",
       "    </style>\n",
       "    \n",
       "    <style>\n",
       "    .jp-mod-presentationMode {\n",
       "        --jp-content-heading-line-height: 1.25 !important;\n",
       "    }\n",
       "    </style>\n",
       "    "
      ],
      "text/plain": [
       "<IPython.core.display.HTML object>"
      ]
     },
     "metadata": {},
     "output_type": "display_data"
    },
    {
     "data": {
      "text/html": [
       "\n",
       "<style>\n",
       ".flexed-container {display: flex; margin: 30px;}\n",
       ".flexed-container.flexed-row {flex-direction: row;}\n",
       ".flexed-container.flexed-column {flex-direction: column;}\n",
       ".flexed-container iframe {min-width: 350px;}\n",
       ".flexed-item {order: 0; margin: 20px;}\n",
       "</style>"
      ],
      "text/plain": [
       "<IPython.core.display.HTML object>"
      ]
     },
     "metadata": {},
     "output_type": "display_data"
    }
   ],
   "source": [
    "    %reload_ext reincarnation"
   ]
  },
  {
   "cell_type": "code",
   "execution_count": 7,
   "metadata": {},
   "outputs": [
    {
     "data": {
      "text/html": [
       "<div class=\"flexed-container flexed-row\"><div class=\"flexed-item\" style=\"order: 0;\"><blockquote><p><em>“telecommunication will be as natural an extension of individual work as face-to-face communication is now (40). Perhaps tongue-in-cheek, he claims that life will then be happier and there will be no more unemployment because...”</em></p>\n",
       "<p>– Annette Vee</p>\n",
       "</blockquote>\n",
       "</div><div class=\"flexed-item\" style=\"order: 0;\"><blockquote><h4>“the entire population of the world [will be] caught up in an <strong>infinite crescendo of on-line interactive debugging</strong>.”</h4>\n",
       "<p>– JD Licklider, The Johnny Appleseed of Computing</p>\n",
       "</blockquote>\n",
       "</div></div>"
      ],
      "text/plain": [
       "Row(content=['> _“telecommunication will be as natural an extension of individual work as face-to-face communication is now (40). Perhaps tongue-in-cheek, he claims that life will then be happier and there will be no more unemployment because...”_ \\n> \\n> – Annette Vee\\n', '> #### “the entire population of the world [will be] caught up in an **infinite crescendo of on-line interactive debugging**.”\\n> – JD Licklider, The Johnny Appleseed of Computing'])"
      ]
     },
     "metadata": {},
     "output_type": "display_data"
    }
   ],
   "source": [
    "\"\"\"- |\n",
    "    > _“telecommunication will be as natural an extension of individual work as face-to-face communication is now (40). Perhaps tongue-in-cheek, he claims that life will then be happier and there will be no more unemployment because...”_ \n",
    "    > \n",
    "    > – Annette Vee\n",
    "- |\n",
    "    > #### “the entire population of the world [will be] caught up in an **infinite crescendo of on-line interactive debugging**.”\n",
    "    > – JD Licklider, The Johnny Appleseed of Computing\"\"\""
   ]
  },
  {
   "cell_type": "markdown",
   "metadata": {},
   "source": [
    "## Collect idioms for telling stories."
   ]
  },
  {
   "cell_type": "code",
   "execution_count": 11,
   "metadata": {},
   "outputs": [
    {
     "data": {
      "text/html": [
       "<div class=\"flexed-container flexed-row\"><div class=\"flexed-item\" style=\"order: 0;\"><?xml version=\"1.0\" encoding=\"UTF-8\" standalone=\"no\"?>\r\n",
       "<!DOCTYPE svg PUBLIC \"-//W3C//DTD SVG 1.1//EN\"\r\n",
       " \"http://www.w3.org/Graphics/SVG/1.1/DTD/svg11.dtd\">\r\n",
       "<!-- Generated by graphviz version 2.38.0 (20140413.2041)\r\n",
       " -->\r\n",
       "<!-- Title: %3 Pages: 1 -->\r\n",
       "<svg width=\"320pt\" height=\"188pt\"\r\n",
       " viewBox=\"0.00 0.00 319.74 188.00\" xmlns=\"http://www.w3.org/2000/svg\" xmlns:xlink=\"http://www.w3.org/1999/xlink\">\r\n",
       "<g id=\"graph0\" class=\"graph\" transform=\"scale(1 1) rotate(0) translate(4 184)\">\r\n",
       "<title>%3</title>\r\n",
       "<polygon fill=\"white\" stroke=\"none\" points=\"-4,4 -4,-184 315.74,-184 315.74,4 -4,4\"/>\r\n",
       "<!-- Literacy -->\r\n",
       "<g id=\"node1\" class=\"node\"><title>Literacy</title>\r\n",
       "<ellipse fill=\"none\" stroke=\"black\" cx=\"188.046\" cy=\"-162\" rx=\"40.0939\" ry=\"18\"/>\r\n",
       "<text text-anchor=\"middle\" x=\"188.046\" y=\"-158.3\" font-family=\"Times New Roman,serif\" font-size=\"14.00\">Literacy</text>\r\n",
       "</g>\r\n",
       "<!-- Textual -->\r\n",
       "<g id=\"node2\" class=\"node\"><title>Textual</title>\r\n",
       "<ellipse fill=\"none\" stroke=\"black\" cx=\"129.046\" cy=\"-90\" rx=\"37.8943\" ry=\"18\"/>\r\n",
       "<text text-anchor=\"middle\" x=\"129.046\" y=\"-86.3\" font-family=\"Times New Roman,serif\" font-size=\"14.00\">Textual</text>\r\n",
       "</g>\r\n",
       "<!-- Literacy&#45;&gt;Textual -->\r\n",
       "<g id=\"edge1\" class=\"edge\"><title>Literacy&#45;&gt;Textual</title>\r\n",
       "<path fill=\"none\" stroke=\"black\" d=\"M174.361,-144.765C166.915,-135.93 157.559,-124.83 149.286,-115.014\"/>\r\n",
       "<polygon fill=\"black\" stroke=\"black\" points=\"151.776,-112.538 142.655,-107.147 146.424,-117.049 151.776,-112.538\"/>\r\n",
       "</g>\r\n",
       "<!-- Computational -->\r\n",
       "<g id=\"node3\" class=\"node\"><title>Computational</title>\r\n",
       "<ellipse fill=\"none\" stroke=\"black\" cx=\"248.046\" cy=\"-90\" rx=\"63.8893\" ry=\"18\"/>\r\n",
       "<text text-anchor=\"middle\" x=\"248.046\" y=\"-86.3\" font-family=\"Times New Roman,serif\" font-size=\"14.00\">Computational</text>\r\n",
       "</g>\r\n",
       "<!-- Literacy&#45;&gt;Computational -->\r\n",
       "<g id=\"edge2\" class=\"edge\"><title>Literacy&#45;&gt;Computational</title>\r\n",
       "<path fill=\"none\" stroke=\"black\" d=\"M201.962,-144.765C209.426,-136.056 218.777,-125.147 227.101,-115.435\"/>\r\n",
       "<polygon fill=\"black\" stroke=\"black\" points=\"229.938,-117.504 233.788,-107.633 224.623,-112.948 229.938,-117.504\"/>\r\n",
       "</g>\r\n",
       "<!-- Markdown -->\r\n",
       "<g id=\"node4\" class=\"node\"><title>Markdown</title>\r\n",
       "<ellipse fill=\"none\" stroke=\"black\" cx=\"50.0456\" cy=\"-18\" rx=\"50.0912\" ry=\"18\"/>\r\n",
       "<text text-anchor=\"middle\" x=\"50.0456\" y=\"-14.3\" font-family=\"Times New Roman,serif\" font-size=\"14.00\">Markdown</text>\r\n",
       "</g>\r\n",
       "<!-- Textual&#45;&gt;Markdown -->\r\n",
       "<g id=\"edge3\" class=\"edge\"><title>Textual&#45;&gt;Markdown</title>\r\n",
       "<path fill=\"none\" stroke=\"black\" d=\"M111.904,-73.811C101.257,-64.3774 87.3794,-52.0806 75.4671,-41.5254\"/>\r\n",
       "<polygon fill=\"black\" stroke=\"black\" points=\"77.7822,-38.9005 67.9765,-34.8882 73.1399,-44.1397 77.7822,-38.9005\"/>\r\n",
       "</g>\r\n",
       "<!-- Latex -->\r\n",
       "<g id=\"node5\" class=\"node\"><title>Latex</title>\r\n",
       "<ellipse fill=\"none\" stroke=\"black\" cx=\"149.046\" cy=\"-18\" rx=\"30.5947\" ry=\"18\"/>\r\n",
       "<text text-anchor=\"middle\" x=\"149.046\" y=\"-14.3\" font-family=\"Times New Roman,serif\" font-size=\"14.00\">Latex</text>\r\n",
       "</g>\r\n",
       "<!-- Textual&#45;&gt;Latex -->\r\n",
       "<g id=\"edge4\" class=\"edge\"><title>Textual&#45;&gt;Latex</title>\r\n",
       "<path fill=\"none\" stroke=\"black\" d=\"M133.887,-72.055C136.147,-64.1446 138.891,-54.5398 141.42,-45.6879\"/>\r\n",
       "<polygon fill=\"black\" stroke=\"black\" points=\"144.867,-46.3658 144.249,-35.789 138.136,-44.4427 144.867,-46.3658\"/>\r\n",
       "</g>\r\n",
       "<!-- script -->\r\n",
       "<g id=\"node6\" class=\"node\"><title>script</title>\r\n",
       "<ellipse fill=\"none\" stroke=\"black\" cx=\"248.046\" cy=\"-18\" rx=\"31.3957\" ry=\"18\"/>\r\n",
       "<text text-anchor=\"middle\" x=\"248.046\" y=\"-14.3\" font-family=\"Times New Roman,serif\" font-size=\"14.00\">script</text>\r\n",
       "</g>\r\n",
       "<!-- Computational&#45;&gt;script -->\r\n",
       "<g id=\"edge5\" class=\"edge\"><title>Computational&#45;&gt;script</title>\r\n",
       "<path fill=\"none\" stroke=\"black\" d=\"M248.046,-71.6966C248.046,-63.9827 248.046,-54.7125 248.046,-46.1124\"/>\r\n",
       "<polygon fill=\"black\" stroke=\"black\" points=\"251.546,-46.1043 248.046,-36.1043 244.546,-46.1044 251.546,-46.1043\"/>\r\n",
       "</g>\r\n",
       "</g>\r\n",
       "</svg>\r\n",
       "</div><div class=\"flexed-container flexed-column\"><div class=\"flexed-item\" style=\"order: 0;\"><h1>Reusability is procedural literacy</h1>\n",
       "<blockquote><p>... procedural literacy entails the ability to reconfigure basic concepts and rules to understand and solve problems, not just on the computer, but in general.</p>\n",
       "<blockquote><p><a href=\"http://bogost.com/downloads/I.%20Bogost%20Procedural%20Literacy.pdf\">Ian Bogost - Procedural Literacy: Problem Solving with Programming, Systems, &amp; Play</a></p>\n",
       "</blockquote>\n",
       "</blockquote>\n",
       "</div></div></div>"
      ],
      "text/plain": [
       "Row(content=['digraph {Literacy -> {Textual Computational } Textual -> {Markdown Latex} Computational->script}\\n', ['# Reusability is procedural literacy\\n> ... procedural literacy entails the ability to reconfigure basic concepts and rules to understand and solve problems, not just on the computer, but in general.\\n>> [Ian Bogost - Procedural Literacy: Problem Solving with Programming, Systems, & Play](http://bogost.com/downloads/I.%20Bogost%20Procedural%20Literacy.pdf)\\n']])"
      ]
     },
     "metadata": {},
     "output_type": "display_data"
    },
    {
     "data": {
      "text/html": [
       "<div class=\"flexed-container flexed-row\"><div class=\"flexed-item\" style=\"order: 0;\"><h2><em>Notebooks combine textual and computational literacy</em></h2>\n",
       "</div></div>"
      ],
      "text/plain": [
       "Row(content=['## _Notebooks combine textual and computational literacy_'])"
      ]
     },
     "metadata": {},
     "output_type": "display_data"
    }
   ],
   "source": [
    "    \"\"\"\n",
    "    - |\n",
    "        digraph {Literacy -> {Textual Computational } Textual -> {Markdown Latex} Computational->script}\n",
    "    - - |\n",
    "        # Reusability is procedural literacy\n",
    "\n",
    "        > ... procedural literacy entails the ability to reconfigure basic concepts and rules to understand and solve problems, not just on the computer, but in general.\n",
    "        >> [Ian Bogost - Procedural Literacy: Problem Solving with Programming, Systems, & Play](http://bogost.com/downloads/I.%20Bogost%20Procedural%20Literacy.pdf)\n",
    "    \"\"\"; \"\"\"- '## _Notebooks combine textual and computational literacy_'\n",
    "    \"\"\""
   ]
  },
  {
   "cell_type": "markdown",
   "metadata": {},
   "source": [
    "# Literacy Makes Programming a Human Problem\n",
    "\n",
    "> _Computational literacy builds on textual literacy because it entails textual writing and reading, but it is also quite distinct from textual literacy. In programming, one must build structures out of explicitly de ned components. As Wittgenstein argued, human language works differently: not through explicit definitions, but through use and exchange._\n",
    ">> [Annette Vee - Understanding Computer programming as a Literacy](http://licsjournal.org/OJS/index.php/LiCS/article/view/24/26)"
   ]
  },
  {
   "cell_type": "code",
   "execution_count": 12,
   "metadata": {},
   "outputs": [
    {
     "data": {
      "text/html": [
       "<div class=\"flexed-container flexed-row\"><div class=\"flexed-item\" style=\"order: 0;\"><?xml version=\"1.0\" encoding=\"UTF-8\" standalone=\"no\"?>\r\n",
       "<!DOCTYPE svg PUBLIC \"-//W3C//DTD SVG 1.1//EN\"\r\n",
       " \"http://www.w3.org/Graphics/SVG/1.1/DTD/svg11.dtd\">\r\n",
       "<!-- Generated by graphviz version 2.38.0 (20140413.2041)\r\n",
       " -->\r\n",
       "<!-- Title: %3 Pages: 1 -->\r\n",
       "<svg width=\"619pt\" height=\"130pt\"\r\n",
       " viewBox=\"0.00 0.00 618.66 130.00\" xmlns=\"http://www.w3.org/2000/svg\" xmlns:xlink=\"http://www.w3.org/1999/xlink\">\r\n",
       "<g id=\"graph0\" class=\"graph\" transform=\"scale(1 1) rotate(0) translate(4 126)\">\r\n",
       "<title>%3</title>\r\n",
       "<polygon fill=\"white\" stroke=\"none\" points=\"-4,4 -4,-126 614.659,-126 614.659,4 -4,4\"/>\r\n",
       "<g id=\"clust1\" class=\"cluster\"><title>cluster_literacy</title>\r\n",
       "<polygon fill=\"none\" stroke=\"black\" points=\"130.691,-19 130.691,-114 455.27,-114 455.27,-19 130.691,-19\"/>\r\n",
       "<text text-anchor=\"middle\" x=\"292.98\" y=\"-98.8\" font-family=\"Times New Roman,serif\" font-size=\"14.00\">Pillars of Literacy</text>\r\n",
       "</g>\r\n",
       "<!-- Material -->\r\n",
       "<g id=\"node1\" class=\"node\"><title>Material</title>\r\n",
       "<ellipse fill=\"none\" stroke=\"black\" cx=\"178.337\" cy=\"-65\" rx=\"39.7935\" ry=\"18\"/>\r\n",
       "<text text-anchor=\"middle\" x=\"178.337\" y=\"-61.3\" font-family=\"Times New Roman,serif\" font-size=\"14.00\">Material</text>\r\n",
       "</g>\r\n",
       "<!-- Cognitive -->\r\n",
       "<g id=\"node2\" class=\"node\"><title>Cognitive</title>\r\n",
       "<ellipse fill=\"none\" stroke=\"black\" cx=\"299.48\" cy=\"-45\" rx=\"45.4919\" ry=\"18\"/>\r\n",
       "<text text-anchor=\"middle\" x=\"299.48\" y=\"-41.3\" font-family=\"Times New Roman,serif\" font-size=\"14.00\">Cognitive</text>\r\n",
       "</g>\r\n",
       "<!-- Material&#45;&#45;Cognitive -->\r\n",
       "<g id=\"edge1\" class=\"edge\"><title>Material&#45;&#45;Cognitive</title>\r\n",
       "<path fill=\"none\" stroke=\"black\" d=\"M215.731,-58.8907C228.871,-56.6851 243.792,-54.1803 257.311,-51.9109\"/>\r\n",
       "</g>\r\n",
       "<!-- Social -->\r\n",
       "<g id=\"node3\" class=\"node\"><title>Social</title>\r\n",
       "<ellipse fill=\"none\" stroke=\"black\" cx=\"414.123\" cy=\"-45\" rx=\"33.2948\" ry=\"18\"/>\r\n",
       "<text text-anchor=\"middle\" x=\"414.123\" y=\"-41.3\" font-family=\"Times New Roman,serif\" font-size=\"14.00\">Social</text>\r\n",
       "</g>\r\n",
       "<!-- Cognitive&#45;&#45;Social -->\r\n",
       "<g id=\"edge2\" class=\"edge\"><title>Cognitive&#45;&#45;Social</title>\r\n",
       "<path fill=\"none\" stroke=\"black\" d=\"M344.999,-45C356.929,-45 369.599,-45 380.735,-45\"/>\r\n",
       "</g>\r\n",
       "<!-- Social&#45;&#45;Material -->\r\n",
       "<g id=\"edge3\" class=\"edge\"><title>Social&#45;&#45;Material</title>\r\n",
       "<path fill=\"none\" stroke=\"black\" d=\"M389.19,-57.0558C376.418,-62.8205 360.226,-69.089 344.976,-72 301.013,-80.3917 249.344,-76.0061 215.551,-71.2694\"/>\r\n",
       "</g>\r\n",
       "<!-- Textual -->\r\n",
       "<g id=\"node4\" class=\"node\"><title>Textual</title>\r\n",
       "<ellipse fill=\"none\" stroke=\"black\" cx=\"546.964\" cy=\"-72\" rx=\"37.8943\" ry=\"18\"/>\r\n",
       "<text text-anchor=\"middle\" x=\"546.964\" y=\"-68.3\" font-family=\"Times New Roman,serif\" font-size=\"14.00\">Textual</text>\r\n",
       "</g>\r\n",
       "<!-- Social&#45;&#45;Textual -->\r\n",
       "<g id=\"edge4\" class=\"edge\"><title>Social&#45;&#45;Textual</title>\r\n",
       "<path fill=\"none\" stroke=\"black\" d=\"M455.219,-53.274C473.42,-57.03 494.714,-61.4242 512.099,-65.0117\"/>\r\n",
       "</g>\r\n",
       "<!-- Computational -->\r\n",
       "<g id=\"node5\" class=\"node\"><title>Computational</title>\r\n",
       "<ellipse fill=\"none\" stroke=\"black\" cx=\"546.964\" cy=\"-18\" rx=\"63.8893\" ry=\"18\"/>\r\n",
       "<text text-anchor=\"middle\" x=\"546.964\" y=\"-14.3\" font-family=\"Times New Roman,serif\" font-size=\"14.00\">Computational</text>\r\n",
       "</g>\r\n",
       "<!-- Social&#45;&#45;Computational -->\r\n",
       "<g id=\"edge5\" class=\"edge\"><title>Social&#45;&#45;Computational</title>\r\n",
       "<path fill=\"none\" stroke=\"black\" d=\"M455.19,-36.7319C467.761,-34.1379 481.809,-31.2389 495.026,-28.5114\"/>\r\n",
       "</g>\r\n",
       "<!-- Notebooks -->\r\n",
       "<g id=\"node6\" class=\"node\"><title>Notebooks</title>\r\n",
       "<ellipse fill=\"none\" stroke=\"black\" cx=\"51.3454\" cy=\"-19\" rx=\"51.1914\" ry=\"18\"/>\r\n",
       "<text text-anchor=\"middle\" x=\"51.3454\" y=\"-15.3\" font-family=\"Times New Roman,serif\" font-size=\"14.00\">Notebooks</text>\r\n",
       "</g>\r\n",
       "<!-- Notebooks&#45;&#45;Material -->\r\n",
       "<g id=\"edge6\" class=\"edge\"><title>Notebooks&#45;&#45;Material</title>\r\n",
       "<path fill=\"none\" stroke=\"black\" d=\"M87.4953,-31.936C106.269,-38.8451 129.143,-47.2635 147.113,-53.8766\"/>\r\n",
       "</g>\r\n",
       "<!-- Notebooks&#45;&#45;Cognitive -->\r\n",
       "<g id=\"edge7\" class=\"edge\"><title>Notebooks&#45;&#45;Cognitive</title>\r\n",
       "<path fill=\"none\" stroke=\"black\" d=\"M100.68,-24.1057C145.621,-28.853 211.959,-35.8605 255.2,-40.4282\"/>\r\n",
       "</g>\r\n",
       "<!-- Notebooks&#45;&#45;Social -->\r\n",
       "<g id=\"edge8\" class=\"edge\"><title>Notebooks&#45;&#45;Social</title>\r\n",
       "<path fill=\"none\" stroke=\"black\" d=\"M100.251,-13.2798C158.635,-7.57786 260.016,-1.78256 344.976,-18 360.226,-20.911 376.418,-27.1795 389.19,-32.9442\"/>\r\n",
       "</g>\r\n",
       "</g>\r\n",
       "</svg>\r\n",
       "</div></div>"
      ],
      "text/plain": [
       "Row(content=['graph {rankdir=\"LR\" compound=true\\n       subgraph cluster_literacy {label=\"Pillars of Literacy\" Material -- Cognitive -- Social -- Material}\\n       Social -- {Textual Computational}[ltail=cluster_literacy]\\n       Notebooks -- {Material Cognitive Social}\\n      }\\n      \\n'])"
      ]
     },
     "metadata": {},
     "output_type": "display_data"
    },
    {
     "data": {
      "text/html": [
       "<div class=\"flexed-container flexed-row\"><div class=\"flexed-item\" style=\"order: 0;\"><blockquote><p>... “literacy” as a human facility with a <strong>symbolic</strong> and <strong>infrastructural technology</strong>—such as a textual writing system—that can be used for <strong>creative, communicative and rhetorical</strong> purposes. Literacy enables people to represent their ideas in texts that can travel away from immediate, interpersonal contexts (<strong>to write</strong>) and also to interpret texts produced by others (<strong>to read</strong>).</p>\n",
       "<blockquote><p><a href=\"http://licsjournal.org/OJS/index.php/LiCS/article/view/24/26\">Annette Vee - Understanding Computer programming as a Literacy</a></p>\n",
       "</blockquote>\n",
       "</blockquote>\n",
       "</div><div class=\"flexed-item\" style=\"order: 0;\">\n",
       "        <iframe\n",
       "            width=\"1000\"\n",
       "            height=\"450\"\n",
       "            src=\"http://licsjournal.org/OJS/index.php/LiCS/article/view/24/26\"\n",
       "            frameborder=\"0\"\n",
       "            allowfullscreen\n",
       "        ></iframe>\n",
       "        </div></div>"
      ],
      "text/plain": [
       "Row(content=['> ... “literacy” as a human facility with a **symbolic** and **infrastructural technology**—such as a textual writing system—that can be used for **creative, communicative and rhetorical** purposes. Literacy enables people to represent their ideas in texts that can travel away from immediate, interpersonal contexts (**to write**) and also to interpret texts produced by others (**to read**).\\n>> [Annette Vee - Understanding Computer programming as a Literacy](http://licsjournal.org/OJS/index.php/LiCS/article/view/24/26)\\n', {'html': {'src': 'http://licsjournal.org/OJS/index.php/LiCS/article/view/24/26', 'width': 1000}}])"
      ]
     },
     "metadata": {},
     "output_type": "display_data"
    }
   ],
   "source": [
    "    \"\"\"\n",
    "    - |\n",
    "        graph {rankdir=\"LR\" compound=true\n",
    "               subgraph cluster_literacy {label=\"Pillars of Literacy\" Material -- Cognitive -- Social -- Material}\n",
    "               Social -- {Textual Computational}[ltail=cluster_literacy]\n",
    "               Notebooks -- {Material Cognitive Social}\n",
    "              }\n",
    "              \n",
    "    \"\"\";\"\"\"\n",
    "    - | \n",
    "    \n",
    "        > ... “literacy” as a human facility with a **symbolic** and **infrastructural technology**—such as a textual writing system—that can be used for **creative, communicative and rhetorical** purposes. Literacy enables people to represent their ideas in texts that can travel away from immediate, interpersonal contexts (**to write**) and also to interpret texts produced by others (**to read**).\n",
    "        >> [Annette Vee - Understanding Computer programming as a Literacy](http://licsjournal.org/OJS/index.php/LiCS/article/view/24/26)\n",
    "\n",
    "    - html: \n",
    "        src: http://licsjournal.org/OJS/index.php/LiCS/article/view/24/26\n",
    "        width: 1000\n",
    "    \"\"\"\n",
    "    "
   ]
  },
  {
   "cell_type": "code",
   "execution_count": 13,
   "metadata": {},
   "outputs": [
    {
     "data": {
      "text/html": [
       "<div class=\"flexed-container flexed-row\"><div class=\"flexed-container flexed-column\"><div class=\"flexed-container flexed-row\"><div class=\"flexed-item\" style=\"order: 0;\"><img src=\"http://nbviewer.jupyter.org/github/jupyterday-atlanta-2016/oriole_jupyterday_atl/blob/master/don_knuth.jpg\"/></div><div class=\"flexed-item\" style=\"order: 0;\"><h1><a href=\"https://en.wikipedia.org/wiki/Donald_Knuth\">Donald Knuth</a></h1>\n",
       "<ul>\n",
       "<li><a href=\"https://en.wikipedia.org/wiki/TeX\">$\\TeX$</a></li>\n",
       "<li><a href=\"https://en.wikipedia.org/wiki/The_Art_of_Computer_Programming\">The Art of Computer Programming</a></li>\n",
       "<li><a href=\"http://yakshav.es/the-patron-saint-of-yakshaves/\">40 years of tests!</a></li>\n",
       "<li><a href=\"https://web.archive.org/web/20080820030403/http://www.americanscientist.org/bookshelf/pub/100-or-so-books-that-shaped-a-century-of-science\">Book of the Century</a></li>\n",
       "</ul>\n",
       "</div></div><div class=\"flexed-container flexed-row\"><div class=\"flexed-item\" style=\"order: 0;\"><blockquote><h3><em>By coining the phrase “literate programming,” I am imposing a moral commitment on everyone who hears the term;</em> <strong>surely nobody wants to admit writing an illiterate program</strong>.</h3>\n",
       "</blockquote>\n",
       "</div><div class=\"flexed-item\" style=\"order: 0;\">\n",
       "        <iframe\n",
       "            width=\"500\"\n",
       "            height=\"450\"\n",
       "            src=\"http://roxygen.org/knuth-literate-programming.pdf\"\n",
       "            frameborder=\"0\"\n",
       "            allowfullscreen\n",
       "        ></iframe>\n",
       "        </div></div></div></div>"
      ],
      "text/plain": [
       "Row(content=[[['http://nbviewer.jupyter.org/github/jupyterday-atlanta-2016/oriole_jupyterday_atl/blob/master/don_knuth.jpg', '# [Donald Knuth](https://en.wikipedia.org/wiki/Donald_Knuth)\\n\\n* [$\\\\TeX$](https://en.wikipedia.org/wiki/TeX)\\n* [The Art of Computer Programming](https://en.wikipedia.org/wiki/The_Art_of_Computer_Programming)\\n* [40 years of tests!](http://yakshav.es/the-patron-saint-of-yakshaves/)\\n* [Book of the Century](https://web.archive.org/web/20080820030403/http://www.americanscientist.org/bookshelf/pub/100-or-so-books-that-shaped-a-century-of-science)\\n'], ['> ### _By coining the phrase “literate programming,” I am imposing a moral commitment on everyone who hears the term;_ __surely nobody wants to admit writing an illiterate program__.\\n', {'html': 'http://roxygen.org/knuth-literate-programming.pdf'}]]])"
      ]
     },
     "metadata": {},
     "output_type": "display_data"
    }
   ],
   "source": [
    "    \"\"\"\n",
    "    - - - http://nbviewer.jupyter.org/github/jupyterday-atlanta-2016/oriole_jupyterday_atl/blob/master/don_knuth.jpg\n",
    "        - |\n",
    "            # [Donald Knuth](https://en.wikipedia.org/wiki/Donald_Knuth)\n",
    "            \n",
    "            * [$\\TeX$](https://en.wikipedia.org/wiki/TeX)\n",
    "            * [The Art of Computer Programming](https://en.wikipedia.org/wiki/The_Art_of_Computer_Programming)\n",
    "            * [40 years of tests!](http://yakshav.es/the-patron-saint-of-yakshaves/)\n",
    "            * [Book of the Century](https://web.archive.org/web/20080820030403/http://www.americanscientist.org/bookshelf/pub/100-or-so-books-that-shaped-a-century-of-science)\n",
    "      - - |\n",
    "          > ### _By coining the phrase “literate programming,” I am imposing a moral commitment on everyone who hears the term;_ __surely nobody wants to admit writing an illiterate program__.\n",
    "        - html: http://roxygen.org/knuth-literate-programming.pdf\n",
    "    \"\"\""
   ]
  },
  {
   "cell_type": "code",
   "execution_count": 72,
   "metadata": {},
   "outputs": [
    {
     "data": {
      "text/html": [
       "<div class=\"flexed-container flexed-row\"><div class=\"flexed-item\" style=\"order: 0;\"><img src=\"https://camo.githubusercontent.com/a8d4be63da2f73339f35839d4c006f080b13104a/68747470733a2f2f75706c6f61642e77696b696d656469612e6f72672f77696b6970656469612f636f6d6d6f6e732f342f34382f446174615f64726976656e5f6a6f75726e616c69736d5f70726f636573732e6a7067\"/></div><div class=\"flexed-item\" style=\"order: 0;\"><?xml version=\"1.0\" encoding=\"UTF-8\" standalone=\"no\"?>\r\n",
       "<!DOCTYPE svg PUBLIC \"-//W3C//DTD SVG 1.1//EN\"\r\n",
       " \"http://www.w3.org/Graphics/SVG/1.1/DTD/svg11.dtd\">\r\n",
       "<!-- Generated by graphviz version 2.38.0 (20140413.2041)\r\n",
       " -->\r\n",
       "<!-- Title: %3 Pages: 1 -->\r\n",
       "<svg width=\"128pt\" height=\"188pt\"\r\n",
       " viewBox=\"0.00 0.00 128.09 188.00\" xmlns=\"http://www.w3.org/2000/svg\" xmlns:xlink=\"http://www.w3.org/1999/xlink\">\r\n",
       "<g id=\"graph0\" class=\"graph\" transform=\"scale(1 1) rotate(0) translate(4 184)\">\r\n",
       "<title>%3</title>\r\n",
       "<polygon fill=\"white\" stroke=\"none\" points=\"-4,4 -4,-184 124.092,-184 124.092,4 -4,4\"/>\r\n",
       "<!-- data -->\r\n",
       "<g id=\"node1\" class=\"node\"><title>data</title>\r\n",
       "<ellipse fill=\"none\" stroke=\"black\" cx=\"70.6967\" cy=\"-162\" rx=\"27\" ry=\"18\"/>\r\n",
       "<text text-anchor=\"middle\" x=\"70.6967\" y=\"-158.3\" font-family=\"Times New Roman,serif\" font-size=\"14.00\">data</text>\r\n",
       "</g>\r\n",
       "<!-- science -->\r\n",
       "<g id=\"node2\" class=\"node\"><title>science</title>\r\n",
       "<ellipse fill=\"none\" stroke=\"black\" cx=\"37.6967\" cy=\"-90\" rx=\"37.8943\" ry=\"18\"/>\r\n",
       "<text text-anchor=\"middle\" x=\"37.6967\" y=\"-86.3\" font-family=\"Times New Roman,serif\" font-size=\"14.00\">science</text>\r\n",
       "</g>\r\n",
       "<!-- data&#45;&#45;science -->\r\n",
       "<g id=\"edge1\" class=\"edge\"><title>data&#45;&#45;science</title>\r\n",
       "<path fill=\"none\" stroke=\"black\" d=\"M62.8761,-144.411C57.6919,-133.414 50.9096,-119.027 45.6903,-107.956\"/>\r\n",
       "</g>\r\n",
       "<!-- computing -->\r\n",
       "<g id=\"node3\" class=\"node\"><title>computing</title>\r\n",
       "<ellipse fill=\"none\" stroke=\"black\" cx=\"70.6967\" cy=\"-18\" rx=\"49.2915\" ry=\"18\"/>\r\n",
       "<text text-anchor=\"middle\" x=\"70.6967\" y=\"-14.3\" font-family=\"Times New Roman,serif\" font-size=\"14.00\">computing</text>\r\n",
       "</g>\r\n",
       "<!-- science&#45;&#45;computing -->\r\n",
       "<g id=\"edge2\" class=\"edge\"><title>science&#45;&#45;computing</title>\r\n",
       "<path fill=\"none\" stroke=\"black\" d=\"M45.685,-72.055C50.8735,-61.0492 57.6081,-46.7636 62.7818,-35.789\"/>\r\n",
       "</g>\r\n",
       "<!-- computing&#45;&#45;data -->\r\n",
       "<g id=\"edge3\" class=\"edge\"><title>computing&#45;&#45;data</title>\r\n",
       "<path fill=\"none\" stroke=\"black\" d=\"M76.3748,-35.9624C79.5182,-46.2553 83.1035,-59.7309 84.6967,-72 86.7569,-87.8668 86.7569,-92.1332 84.6967,-108 83.1035,-120.269 79.5182,-133.745 76.3748,-144.038\"/>\r\n",
       "</g>\r\n",
       "</g>\r\n",
       "</svg>\r\n",
       "</div></div>"
      ],
      "text/plain": [
       "Row(content=[{'image': 'https://camo.githubusercontent.com/a8d4be63da2f73339f35839d4c006f080b13104a/68747470733a2f2f75706c6f61642e77696b696d656469612e6f72672f77696b6970656469612f636f6d6d6f6e732f342f34382f446174615f64726976656e5f6a6f75726e616c69736d5f70726f636573732e6a7067'}, 'graph {data--science--computing--data}'])"
      ]
     },
     "metadata": {},
     "output_type": "display_data"
    },
    {
     "data": {
      "text/html": [
       "<div class=\"flexed-container flexed-row\"><div class=\"flexed-item\" style=\"order: 0;\"><h4><a href=\"\">\"Literate computing\" and computational reproducibility: IPython in the age of data-driven journalism</a></h4>\n",
       "<blockquote><p>Our job with Jupyter<del>IPython</del> is to think deeply about questions regarding the intersection of <em><strong>computing, data and science</strong></em>, but it's clear \n",
       "to me at this point that we can contribute in contexts beyond pure scientific research. I hope we'll be able to provide folks who have \n",
       "a <em><strong>direct intersection with the public</strong></em>, such as journalists, with tools that help a more informed and productive debate.</p>\n",
       "</blockquote>\n",
       "</div></div>"
      ],
      "text/plain": [
       "Row(content=['#### [\"Literate computing\" and computational reproducibility: IPython in the age of data-driven journalism]()\\n> Our job with Jupyter~~IPython~~ is to think deeply about questions regarding the intersection of _**computing, data and science**_, but it\\'s clear \\nto me at this point that we can contribute in contexts beyond pure scientific research. I hope we\\'ll be able to provide folks who have \\na _**direct intersection with the public**_, such as journalists, with tools that help a more informed and productive debate.\\n'])"
      ]
     },
     "metadata": {},
     "output_type": "display_data"
    },
    {
     "data": {
      "image/svg+xml": [
       "<?xml version=\"1.0\" encoding=\"UTF-8\" standalone=\"no\"?>\r\n",
       "<!DOCTYPE svg PUBLIC \"-//W3C//DTD SVG 1.1//EN\"\r\n",
       " \"http://www.w3.org/Graphics/SVG/1.1/DTD/svg11.dtd\">\r\n",
       "<!-- Generated by graphviz version 2.38.0 (20140413.2041)\r\n",
       " -->\r\n",
       "<!-- Title: %3 Pages: 1 -->\r\n",
       "<svg width=\"523pt\" height=\"153pt\"\r\n",
       " viewBox=\"0.00 0.00 522.67 153.00\" xmlns=\"http://www.w3.org/2000/svg\" xmlns:xlink=\"http://www.w3.org/1999/xlink\">\r\n",
       "<g id=\"graph0\" class=\"graph\" transform=\"scale(1 1) rotate(0) translate(4 149)\">\r\n",
       "<title>%3</title>\r\n",
       "<polygon fill=\"white\" stroke=\"none\" points=\"-4,4 -4,-149 518.67,-149 518.67,4 -4,4\"/>\r\n",
       "<g id=\"clust1\" class=\"cluster\"><title>clusterc</title>\r\n",
       "<polygon fill=\"none\" stroke=\"black\" points=\"8,-8 8,-137 290.784,-137 290.784,-8 8,-8\"/>\r\n",
       "<text text-anchor=\"middle\" x=\"149.392\" y=\"-121.8\" font-family=\"Times New Roman,serif\" font-size=\"14.00\">literate computing</text>\r\n",
       "</g>\r\n",
       "<!-- data -->\r\n",
       "<g id=\"node1\" class=\"node\"><title>data</title>\r\n",
       "<ellipse fill=\"none\" stroke=\"black\" cx=\"43\" cy=\"-61\" rx=\"27\" ry=\"18\"/>\r\n",
       "<text text-anchor=\"middle\" x=\"43\" y=\"-57.3\" font-family=\"Times New Roman,serif\" font-size=\"14.00\">data</text>\r\n",
       "</g>\r\n",
       "<!-- interactive computing -->\r\n",
       "<g id=\"node2\" class=\"node\"><title>interactive computing</title>\r\n",
       "<ellipse fill=\"none\" stroke=\"black\" cx=\"194.392\" cy=\"-88\" rx=\"88.2844\" ry=\"18\"/>\r\n",
       "<text text-anchor=\"middle\" x=\"194.392\" y=\"-84.3\" font-family=\"Times New Roman,serif\" font-size=\"14.00\">interactive computing</text>\r\n",
       "</g>\r\n",
       "<!-- data&#45;&gt;interactive computing -->\r\n",
       "<g id=\"edge1\" class=\"edge\"><title>data&#45;&gt;interactive computing</title>\r\n",
       "<path fill=\"none\" stroke=\"black\" d=\"M70.0221,-60.4362C88.0818,-62.3929 112.865,-66.429 135.483,-70.9377\"/>\r\n",
       "<polygon fill=\"black\" stroke=\"black\" points=\"134.853,-74.3814 145.353,-72.9652 136.262,-67.5246 134.853,-74.3814\"/>\r\n",
       "</g>\r\n",
       "<!-- literate programming -->\r\n",
       "<g id=\"node3\" class=\"node\"><title>literate programming</title>\r\n",
       "<ellipse fill=\"none\" stroke=\"black\" cx=\"194.392\" cy=\"-34\" rx=\"85.2851\" ry=\"18\"/>\r\n",
       "<text text-anchor=\"middle\" x=\"194.392\" y=\"-30.3\" font-family=\"Times New Roman,serif\" font-size=\"14.00\">literate programming</text>\r\n",
       "</g>\r\n",
       "<!-- data&#45;&gt;literate programming -->\r\n",
       "<g id=\"edge3\" class=\"edge\"><title>data&#45;&gt;literate programming</title>\r\n",
       "<path fill=\"none\" stroke=\"black\" d=\"M66.3655,-51.9754C77.344,-49.0742 91.3533,-45.982 106.035,-43.1252\"/>\r\n",
       "<polygon fill=\"black\" stroke=\"black\" points=\"107.101,-46.4858 116.277,-41.1903 105.801,-39.6075 107.101,-46.4858\"/>\r\n",
       "</g>\r\n",
       "<!-- interactive computing&#45;&gt;data -->\r\n",
       "<g id=\"edge2\" class=\"edge\"><title>interactive computing&#45;&gt;data</title>\r\n",
       "<path fill=\"none\" stroke=\"black\" d=\"M113.964,-80.3827C100.564,-77.8925 87.3678,-75.1485 76.1099,-72.4641\"/>\r\n",
       "<polygon fill=\"black\" stroke=\"black\" points=\"76.9162,-69.0581 66.3655,-70.0246 75.2161,-75.8485 76.9162,-69.0581\"/>\r\n",
       "</g>\r\n",
       "<!-- machines -->\r\n",
       "<g id=\"node4\" class=\"node\"><title>machines</title>\r\n",
       "<ellipse fill=\"none\" stroke=\"black\" cx=\"362.98\" cy=\"-88\" rx=\"44.393\" ry=\"18\"/>\r\n",
       "<text text-anchor=\"middle\" x=\"362.98\" y=\"-84.3\" font-family=\"Times New Roman,serif\" font-size=\"14.00\">machines</text>\r\n",
       "</g>\r\n",
       "<!-- interactive computing&#45;&gt;machines -->\r\n",
       "<g id=\"edge5\" class=\"edge\"><title>interactive computing&#45;&gt;machines</title>\r\n",
       "<path fill=\"none\" stroke=\"black\" d=\"M283.077,-88C291.785,-88 300.429,-88 308.627,-88\"/>\r\n",
       "<polygon fill=\"black\" stroke=\"black\" points=\"308.743,-91.5001 318.743,-88 308.743,-84.5001 308.743,-91.5001\"/>\r\n",
       "</g>\r\n",
       "<!-- literate programming&#45;&gt;data -->\r\n",
       "<g id=\"edge4\" class=\"edge\"><title>literate programming&#45;&gt;data</title>\r\n",
       "<path fill=\"none\" stroke=\"black\" d=\"M145.957,-48.9066C124.654,-53.4363 99.922,-57.7542 80.152,-60.3438\"/>\r\n",
       "<polygon fill=\"black\" stroke=\"black\" points=\"79.5319,-56.8931 70.0221,-61.5638 80.3689,-63.8429 79.5319,-56.8931\"/>\r\n",
       "</g>\r\n",
       "<!-- literate programming&#45;&gt;machines -->\r\n",
       "<g id=\"edge6\" class=\"edge\"><title>literate programming&#45;&gt;machines</title>\r\n",
       "<path fill=\"none\" stroke=\"black\" d=\"M248.122,-48.0434C262.067,-51.9973 277.057,-56.4637 290.784,-61 300.669,-64.2664 311.209,-68.0781 321.067,-71.7906\"/>\r\n",
       "<polygon fill=\"black\" stroke=\"black\" points=\"320.056,-75.1511 330.647,-75.4462 322.552,-68.611 320.056,-75.1511\"/>\r\n",
       "</g>\r\n",
       "<!-- people -->\r\n",
       "<g id=\"node5\" class=\"node\"><title>people</title>\r\n",
       "<ellipse fill=\"none\" stroke=\"black\" cx=\"362.98\" cy=\"-34\" rx=\"35.194\" ry=\"18\"/>\r\n",
       "<text text-anchor=\"middle\" x=\"362.98\" y=\"-30.3\" font-family=\"Times New Roman,serif\" font-size=\"14.00\">people</text>\r\n",
       "</g>\r\n",
       "<!-- literate programming&#45;&gt;people -->\r\n",
       "<g id=\"edge7\" class=\"edge\"><title>literate programming&#45;&gt;people</title>\r\n",
       "<path fill=\"none\" stroke=\"black\" d=\"M279.662,-34C292.638,-34 305.581,-34 317.234,-34\"/>\r\n",
       "<polygon fill=\"black\" stroke=\"black\" points=\"317.536,-37.5001 327.536,-34 317.536,-30.5001 317.536,-37.5001\"/>\r\n",
       "</g>\r\n",
       "<!-- 🙉🙈🙊 -->\r\n",
       "<g id=\"node6\" class=\"node\"><title>🙉🙈🙊</title>\r\n",
       "<ellipse fill=\"none\" stroke=\"black\" cx=\"478.923\" cy=\"-61\" rx=\"35.9954\" ry=\"18\"/>\r\n",
       "<text text-anchor=\"middle\" x=\"478.923\" y=\"-57.3\" font-family=\"Times New Roman,serif\" font-size=\"14.00\">🙉🙈🙊</text>\r\n",
       "</g>\r\n",
       "<!-- machines&#45;&gt;🙉🙈🙊 -->\r\n",
       "<g id=\"edge8\" class=\"edge\"><title>machines&#45;&gt;🙉🙈🙊</title>\r\n",
       "<path fill=\"none\" stroke=\"black\" d=\"M401.605,-79.0844C412.623,-76.4736 424.736,-73.6032 436.003,-70.9334\"/>\r\n",
       "<polygon fill=\"black\" stroke=\"black\" points=\"437.134,-74.2625 446.057,-68.551 435.52,-67.4512 437.134,-74.2625\"/>\r\n",
       "</g>\r\n",
       "<!-- people&#45;&gt;🙉🙈🙊 -->\r\n",
       "<g id=\"edge9\" class=\"edge\"><title>people&#45;&gt;🙉🙈🙊</title>\r\n",
       "<path fill=\"none\" stroke=\"black\" d=\"M395.116,-41.3779C407.718,-44.364 422.459,-47.8571 435.983,-51.0618\"/>\r\n",
       "<polygon fill=\"black\" stroke=\"black\" points=\"435.495,-54.543 446.032,-53.4431 437.109,-47.7316 435.495,-54.543\"/>\r\n",
       "</g>\r\n",
       "</g>\r\n",
       "</svg>\r\n"
      ],
      "text/plain": [
       "<graphviz.files.Source at 0x22121b6a160>"
      ]
     },
     "metadata": {},
     "output_type": "display_data"
    },
    {
     "data": {
      "text/html": [
       "\n",
       "        <iframe\n",
       "            width=\"100%\"\n",
       "            height=\"450\"\n",
       "            src=\"http://blog.fperez.org/2013/04/literate-computing-and-computational.html\"\n",
       "            frameborder=\"0\"\n",
       "            allowfullscreen\n",
       "        ></iframe>\n",
       "        "
      ],
      "text/plain": [
       "<IPython.lib.display.IFrame at 0x22121b6a048>"
      ]
     },
     "metadata": {},
     "output_type": "display_data"
    }
   ],
   "source": [
    "\"\"\"\n",
    "- image: https://camo.githubusercontent.com/a8d4be63da2f73339f35839d4c006f080b13104a/68747470733a2f2f75706c6f61642e77696b696d656469612e6f72672f77696b6970656469612f636f6d6d6f6e732f342f34382f446174615f64726976656e5f6a6f75726e616c69736d5f70726f636573732e6a7067\n",
    "- graph {data--science--computing--data}\n",
    "\"\"\"\n",
    "\"\"\"\n",
    "- |\n",
    "\n",
    "\n",
    "    #### [\"Literate computing\" and computational reproducibility: IPython in the age of data-driven journalism]()\n",
    "    > Our job with Jupyter~~IPython~~ is to think deeply about questions regarding the intersection of _**computing, data and science**_, but it's clear \n",
    "    to me at this point that we can contribute in contexts beyond pure scientific research. I hope we'll be able to provide folks who have \n",
    "    a _**direct intersection with the public**_, such as journalists, with tools that help a more informed and productive debate.\n",
    "\n",
    "\"\"\" \n",
    "\n",
    "\"\"\"digraph {rankdir=\"LR\"; subgraph clusterc{ label=\"literate computing\"; data->\"interactive computing\" ->data -> \"literate programming\" ->data} {\"interactive computing\" \"literate programming\"} -> machines \"literate programming\" -> people {machines people} -> 🙉🙈🙊}\"\"\"\n",
    "\"\"\"http://blog.fperez.org/2013/04/literate-computing-and-computational.html\"\"\""
   ]
  },
  {
   "cell_type": "code",
   "execution_count": 91,
   "metadata": {},
   "outputs": [
    {
     "data": {
      "text/html": [
       "<div class=\"flexed-container flexed-row\"><div class=\"flexed-item\" style=\"order: 0;\">\n",
       "        <iframe\n",
       "            width=\"500\"\n",
       "            height=\"450\"\n",
       "            src=\"https://en.m.wikipedia.org/wiki/Guido_van_Rossum#Computer_Programming_for_Everybody\"\n",
       "            frameborder=\"0\"\n",
       "            allowfullscreen\n",
       "        ></iframe>\n",
       "        </div><div class=\"flexed-item\" style=\"order: 0;\"><blockquote><h3>We compare mass ability to read and write so ware with mass literacy, and predict equally pervasive changes to society. Hardware is now sufficiently fast and cheap to make mass computer education possible: the next big change will happen when most computer users have the knowledge and power to create and modify software.</h3>\n",
       "<blockquote><h2>Guido van Rossum, from <a href=\"https://www.python.org/doc/essays/cp4e/\">a 1999 DARPA grant application to support the teaching of computer programming.</a></h2>\n",
       "</blockquote>\n",
       "</blockquote>\n",
       "</div></div>"
      ],
      "text/plain": [
       "Row(content=['https://en.m.wikipedia.org/wiki/Guido_van_Rossum#Computer_Programming_for_Everybody', '> ### We compare mass ability to read and write so ware with mass literacy, and predict equally pervasive changes to society. Hardware is now sufficiently fast and cheap to make mass computer education possible: the next big change will happen when most computer users have the knowledge and power to create and modify software.\\n> > ## Guido van Rossum, from [a 1999 DARPA grant application to support the teaching of computer programming.](https://www.python.org/doc/essays/cp4e/)\\n'])"
      ]
     },
     "metadata": {},
     "output_type": "display_data"
    }
   ],
   "source": [
    "\"\"\"\n",
    "- https://en.m.wikipedia.org/wiki/Guido_van_Rossum#Computer_Programming_for_Everybody\n",
    "- |\n",
    "    > ### We compare mass ability to read and write so ware with mass literacy, and predict equally pervasive changes to society. Hardware is now sufficiently fast and cheap to make mass computer education possible: the next big change will happen when most computer users have the knowledge and power to create and modify software.\n",
    "    > > ## Guido van Rossum, from [a 1999 DARPA grant application to support the teaching of computer programming.](https://www.python.org/doc/essays/cp4e/)\n",
    "\n",
    "\"\"\""
   ]
  },
  {
   "cell_type": "code",
   "execution_count": 17,
   "metadata": {},
   "outputs": [
    {
     "data": {
      "text/html": [
       "<div class=\"flexed-container flexed-row\"><div class=\"flexed-item\" style=\"order: 0;\"><blockquote><p>When you really analyse it, Python’s whitespace sensitivity is actually the only logical choice for a programming language, because <strong>you only communicate your intent one way, and that intent is read the same way by humans and computers.</strong> The only reason to use a whitespace-insensitive language is that that’s the way we’ve always done things, and that’s never a good reason. That is why my programming language, Mars, has the same indentation rule as Python.</p>\n",
       "</blockquote>\n",
       "</div><div class=\"flexed-item\" style=\"order: 0;\">\n",
       "        <iframe\n",
       "            width=\"500\"\n",
       "            height=\"450\"\n",
       "            src=\"https://unspecified.wordpress.com/2011/10/18/why-pythons-whitespace-rule-is-right/\"\n",
       "            frameborder=\"0\"\n",
       "            allowfullscreen\n",
       "        ></iframe>\n",
       "        </div></div>"
      ],
      "text/plain": [
       "Row(content=['> When you really analyse it, Python’s whitespace sensitivity is actually the only logical choice for a programming language, because __you only communicate your intent one way, and that intent is read the same way by humans and computers.__ The only reason to use a whitespace-insensitive language is that that’s the way we’ve always done things, and that’s never a good reason. That is why my programming language, Mars, has the same indentation rule as Python.\\n', {'html': 'https://unspecified.wordpress.com/2011/10/18/why-pythons-whitespace-rule-is-right/'}])"
      ]
     },
     "metadata": {},
     "output_type": "display_data"
    }
   ],
   "source": [
    "    F\"\"\"{modernnotebooks.whitespace}\"\"\""
   ]
  },
  {
   "cell_type": "code",
   "execution_count": 19,
   "metadata": {},
   "outputs": [],
   "source": [
    "    import this\n",
    "    np = \"\"\"\n",
    "        # [Zen of NumPy](http://technicaldiscovery.blogspot.com/2010/11/zen-of-numpy.html?m=1)\n",
    "\n",
    "\n",
    "        * Strided is better than scattered\n",
    "        * Contiguous is better than strided\n",
    "        * Descriptive is better than imperative (use data-types)\n",
    "        * Array-oriented is often better than object-oriented\n",
    "        * Broadcasting is a great idea -- use where possible\n",
    "        * Vectorized is better than an explicit loop\n",
    "        * Unless it’s complicated --- then use numexpr, weave, or Cython\n",
    "        * Think in higher dimensions\"\"\"\n",
    "    sympy = \"\"\"\n",
    "        # [Zen of SymPy](https://github.com/sympy/sympy/wiki/The-Zen-of-SymPy)\n",
    "\n",
    "        * Unevaluated is better than evaluated.\n",
    "        * The user interface matters.\n",
    "        * Printing matters.\n",
    "        * Pure Python can be fast enough.\n",
    "        * If it's too slow, it's (probably) your fault.\n",
    "        * Documentation matters.\n",
    "        * Correctness is more important than speed.\n",
    "        * Push it in now and improve upon it later.\n",
    "        * Coverage by testing matters.\n",
    "        * Smart tests are better than random tests.\n",
    "        * But random tests sometimes find what your smartest test missed.\n",
    "        * The Python way is probably the right way.\n",
    "        * Community is more important than code.\n",
    "        \"\"\"\n",
    "    bobp = \"\"\"\n",
    "        # [The Best of the Best Practices (BOBP) Guide for Python](https://gist.github.com/sloria/7001839#file-bobp-python-md)\n",
    "\n",
    "        A \"Best of the Best Practices\" (BOBP) guide to developing in Python.\n",
    "\n",
    "        ## In General\n",
    "\n",
    "        ### Values\n",
    "\n",
    "        - \"Build tools for others that you want to be built for you.\" - Kenneth Reitz\n",
    "        - \"Simplicity is alway better than functionality.\" - Pieter Hintjens\n",
    "        - \"Fit the 90% use-case. Ignore the nay sayers.\" - Kenneth Reitz\n",
    "        - \"Beautiful is better than ugly.\" - [PEP 20][]\n",
    "        - Build for open source (even for closed source projects).\n",
    "\n",
    "        ### General Development Guidelines\n",
    "\n",
    "        - \"Explicit is better than implicit\" - [PEP 20][]\n",
    "        - \"Readability counts.\" - [PEP 20][]\n",
    "        - \"Anybody can fix anything.\" - [Khan Academy Development Docs][]\n",
    "        - Fix each [broken window](http://www.artima.com/intv/fixit2.html) (bad design, wrong decision, or poor code) *as soon as it is discovered*.\n",
    "        - \"Now is better than never.\" - [PEP 20][]\n",
    "        - __Test ruthlessly. Write docs for new features.__\n",
    "        - Even more important that Test-Driven Development--*Human-Driven Development*\n",
    "        - These guidelines may--and probably will--change.\"\"\""
   ]
  },
  {
   "cell_type": "code",
   "execution_count": 21,
   "metadata": {},
   "outputs": [
    {
     "data": {
      "text/html": [
       "<div class=\"flexed-container flexed-row\"><div class=\"flexed-item\" style=\"order: 0;\"><h1><a href=\"http://technicaldiscovery.blogspot.com/2010/11/zen-of-numpy.html?m=1\">Zen of NumPy</a></h1>\n",
       "<ul>\n",
       "<li>Strided is better than scattered</li>\n",
       "<li>Contiguous is better than strided</li>\n",
       "<li>Descriptive is better than imperative (use data-types)</li>\n",
       "<li>Array-oriented is often better than object-oriented</li>\n",
       "<li>Broadcasting is a great idea -- use where possible</li>\n",
       "<li>Vectorized is better than an explicit loop</li>\n",
       "<li>Unless it’s complicated --- then use numexpr, weave, or Cython</li>\n",
       "<li>Think in higher dimensions</li>\n",
       "</ul>\n",
       "</div><div class=\"flexed-item\" style=\"order: 0;\"><h1><a href=\"https://github.com/sympy/sympy/wiki/The-Zen-of-SymPy\">Zen of SymPy</a></h1>\n",
       "<ul>\n",
       "<li>Unevaluated is better than evaluated.</li>\n",
       "<li>The user interface matters.</li>\n",
       "<li>Printing matters.</li>\n",
       "<li>Pure Python can be fast enough.</li>\n",
       "<li>If it's too slow, it's (probably) your fault.</li>\n",
       "<li>Documentation matters.</li>\n",
       "<li>Correctness is more important than speed.</li>\n",
       "<li>Push it in now and improve upon it later.</li>\n",
       "<li>Coverage by testing matters.</li>\n",
       "<li>Smart tests are better than random tests.</li>\n",
       "<li>But random tests sometimes find what your smartest test missed.</li>\n",
       "<li>The Python way is probably the right way.</li>\n",
       "<li>Community is more important than code.</li>\n",
       "</ul>\n",
       "</div><div class=\"flexed-item\" style=\"order: 0;\"><h1><a href=\"https://gist.github.com/sloria/7001839#file-bobp-python-md\">The Best of the Best Practices (BOBP) Guide for Python</a></h1>\n",
       "<p>A \"Best of the Best Practices\" (BOBP) guide to developing in Python.</p>\n",
       "<h2>In General</h2>\n",
       "<h3>Values</h3>\n",
       "<ul>\n",
       "<li>\"Build tools for others that you want to be built for you.\" - Kenneth Reitz</li>\n",
       "<li>\"Simplicity is alway better than functionality.\" - Pieter Hintjens</li>\n",
       "<li>\"Fit the 90% use-case. Ignore the nay sayers.\" - Kenneth Reitz</li>\n",
       "<li>\"Beautiful is better than ugly.\" - [PEP 20][]</li>\n",
       "<li>Build for open source (even for closed source projects).\n",
       "### General Development Guidelines</li>\n",
       "<li>\"Explicit is better than implicit\" - [PEP 20][]</li>\n",
       "<li>\"Readability counts.\" - [PEP 20][]</li>\n",
       "<li>\"Anybody can fix anything.\" - [Khan Academy Development Docs][]</li>\n",
       "<li>Fix each <a href=\"http://www.artima.com/intv/fixit2.html\">broken window</a> (bad design, wrong decision, or poor code) <em>as soon as it is discovered</em>.</li>\n",
       "<li>\"Now is better than never.\" - [PEP 20][]</li>\n",
       "<li><strong>Test ruthlessly. Write docs for new features.</strong></li>\n",
       "<li>Even more important that Test-Driven Development--<em>Human-Driven Development</em></li>\n",
       "<li>These guidelines may--and probably will--change.</li>\n",
       "</ul>\n",
       "</div></div>"
      ],
      "text/plain": [
       "Row(content=['\\n# [Zen of NumPy](http://technicaldiscovery.blogspot.com/2010/11/zen-of-numpy.html?m=1)\\n* Strided is better than scattered\\n* Contiguous is better than strided\\n* Descriptive is better than imperative (use data-types)\\n* Array-oriented is often better than object-oriented\\n* Broadcasting is a great idea -- use where possible\\n* Vectorized is better than an explicit loop\\n* Unless it’s complicated --- then use numexpr, weave, or Cython\\n* Think in higher dimensions\\n', \"\\n# [Zen of SymPy](https://github.com/sympy/sympy/wiki/The-Zen-of-SymPy)\\n* Unevaluated is better than evaluated.\\n* The user interface matters.\\n* Printing matters.\\n* Pure Python can be fast enough.\\n* If it's too slow, it's (probably) your fault.\\n* Documentation matters.\\n* Correctness is more important than speed.\\n* Push it in now and improve upon it later.\\n* Coverage by testing matters.\\n* Smart tests are better than random tests.\\n* But random tests sometimes find what your smartest test missed.\\n* The Python way is probably the right way.\\n* Community is more important than code.\\n\", '\\n# [The Best of the Best Practices (BOBP) Guide for Python](https://gist.github.com/sloria/7001839#file-bobp-python-md)\\nA \"Best of the Best Practices\" (BOBP) guide to developing in Python.\\n## In General\\n### Values\\n- \"Build tools for others that you want to be built for you.\" - Kenneth Reitz\\n- \"Simplicity is alway better than functionality.\" - Pieter Hintjens\\n- \"Fit the 90% use-case. Ignore the nay sayers.\" - Kenneth Reitz\\n- \"Beautiful is better than ugly.\" - [PEP 20][]\\n- Build for open source (even for closed source projects).\\n### General Development Guidelines\\n- \"Explicit is better than implicit\" - [PEP 20][]\\n- \"Readability counts.\" - [PEP 20][]\\n- \"Anybody can fix anything.\" - [Khan Academy Development Docs][]\\n- Fix each [broken window](http://www.artima.com/intv/fixit2.html) (bad design, wrong decision, or poor code) *as soon as it is discovered*.\\n- \"Now is better than never.\" - [PEP 20][]\\n- __Test ruthlessly. Write docs for new features.__\\n- Even more important that Test-Driven Development--*Human-Driven Development*\\n- These guidelines may--and probably will--change.'])"
      ]
     },
     "metadata": {},
     "output_type": "display_data"
    }
   ],
   "source": [
    "    F\"\"\"\n",
    "    - |\n",
    "    {np}\n",
    "    - | \n",
    "    {sympy}\n",
    "    - | \n",
    "    {bobp}\"\"\""
   ]
  },
  {
   "cell_type": "code",
   "execution_count": 36,
   "metadata": {},
   "outputs": [],
   "source": [
    "    RRR = \"graph {rankdir=LR readable -- reusable -- reproducible -- readable}\""
   ]
  },
  {
   "cell_type": "code",
   "execution_count": 40,
   "metadata": {},
   "outputs": [
    {
     "data": {
      "text/html": [
       "<div class=\"flexed-container flexed-row\"><div class=\"flexed-item\" style=\"order: 0;\"><p>Notebooks can  create</p>\n",
       "</div><div class=\"flexed-item\" style=\"order: 0;\"><?xml version=\"1.0\" encoding=\"UTF-8\" standalone=\"no\"?>\r\n",
       "<!DOCTYPE svg PUBLIC \"-//W3C//DTD SVG 1.1//EN\"\r\n",
       " \"http://www.w3.org/Graphics/SVG/1.1/DTD/svg11.dtd\">\r\n",
       "<!-- Generated by graphviz version 2.38.0 (20140413.2041)\r\n",
       " -->\r\n",
       "<!-- Title: %3 Pages: 1 -->\r\n",
       "<svg width=\"356pt\" height=\"67pt\"\r\n",
       " viewBox=\"0.00 0.00 355.58 67.00\" xmlns=\"http://www.w3.org/2000/svg\" xmlns:xlink=\"http://www.w3.org/1999/xlink\">\r\n",
       "<g id=\"graph0\" class=\"graph\" transform=\"scale(1 1) rotate(0) translate(4 63)\">\r\n",
       "<title>%3</title>\r\n",
       "<polygon fill=\"white\" stroke=\"none\" points=\"-4,4 -4,-63 351.576,-63 351.576,4 -4,4\"/>\r\n",
       "<!-- readable -->\r\n",
       "<g id=\"node1\" class=\"node\"><title>readable</title>\r\n",
       "<ellipse fill=\"none\" stroke=\"black\" cx=\"40.9464\" cy=\"-18\" rx=\"40.8928\" ry=\"18\"/>\r\n",
       "<text text-anchor=\"middle\" x=\"40.9464\" y=\"-14.3\" font-family=\"Times New Roman,serif\" font-size=\"14.00\">readable</text>\r\n",
       "</g>\r\n",
       "<!-- reusable -->\r\n",
       "<g id=\"node2\" class=\"node\"><title>reusable</title>\r\n",
       "<ellipse fill=\"none\" stroke=\"black\" cx=\"158.189\" cy=\"-41\" rx=\"40.0939\" ry=\"18\"/>\r\n",
       "<text text-anchor=\"middle\" x=\"158.189\" y=\"-37.3\" font-family=\"Times New Roman,serif\" font-size=\"14.00\">reusable</text>\r\n",
       "</g>\r\n",
       "<!-- readable&#45;&#45;reusable -->\r\n",
       "<g id=\"edge1\" class=\"edge\"><title>readable&#45;&#45;reusable</title>\r\n",
       "<path fill=\"none\" stroke=\"black\" d=\"M78.4099,-25.2773C91.9941,-27.9884 107.4,-31.0632 120.963,-33.77\"/>\r\n",
       "</g>\r\n",
       "<!-- reproducible -->\r\n",
       "<g id=\"node3\" class=\"node\"><title>reproducible</title>\r\n",
       "<ellipse fill=\"none\" stroke=\"black\" cx=\"291.031\" cy=\"-18\" rx=\"56.59\" ry=\"18\"/>\r\n",
       "<text text-anchor=\"middle\" x=\"291.031\" y=\"-14.3\" font-family=\"Times New Roman,serif\" font-size=\"14.00\">reproducible</text>\r\n",
       "</g>\r\n",
       "<!-- reusable&#45;&#45;reproducible -->\r\n",
       "<g id=\"edge2\" class=\"edge\"><title>reusable&#45;&#45;reproducible</title>\r\n",
       "<path fill=\"none\" stroke=\"black\" d=\"M195.984,-34.532C209.892,-32.0872 225.949,-29.2645 240.816,-26.6513\"/>\r\n",
       "</g>\r\n",
       "<!-- reproducible&#45;&#45;readable -->\r\n",
       "<g id=\"edge3\" class=\"edge\"><title>reproducible&#45;&#45;readable</title>\r\n",
       "<path fill=\"none\" stroke=\"black\" d=\"M234.857,-15.1992C222.869,-14.6997 210.255,-14.257 198.486,-14 162.675,-13.218 153.699,-13.0577 117.893,-14 106.146,-14.3091 93.3874,-14.8868 81.7406,-15.5089\"/>\r\n",
       "</g>\r\n",
       "</g>\r\n",
       "</svg>\r\n",
       "</div><div class=\"flexed-item\" style=\"order: 0;\"><p>documents, but there is no style guidelines.</p>\n",
       "</div></div>"
      ],
      "text/plain": [
       "Row(content=[' Notebooks can  create', 'graph {rankdir=LR readable -- reusable -- reproducible -- readable}', ' documents, but there is no style guidelines.'])"
      ]
     },
     "metadata": {},
     "output_type": "display_data"
    },
    {
     "data": {
      "text/html": [
       "<div class=\"flexed-container flexed-row\"><div class=\"flexed-item\" style=\"order: 0;\"><h1>Notebook Style is not about Programming Style</h1>\n",
       "<hr>\n",
       "<blockquote><h2>What we learned about teaching with notebooks (in Oriole)</h2>\n",
       "<blockquote><p><a href=\"http://nbviewer.jupyter.org/github/jupyterday-atlanta-2016/oriole_jupyterday_atl/blob/master/oriole_talk.ipynb#What-we-learned-about-teaching-with-notebooks\">Paco Nathan - Oriole: a new learning medium based on Jupyter + Docker</a></p>\n",
       "</blockquote>\n",
       "</blockquote>\n",
       "</div><div class=\"flexed-item\" style=\"order: 0;\"><ul>\n",
       "<li>focus on a concise \"unit of thought\"</li>\n",
       "<li>invest the time and editorial effort to create a good introduction</li>\n",
       "<li>keep your narrative simple and reasonably linear</li>\n",
       "<li>\"chunk\" both the text and the code into understandable parts</li>\n",
       "<li>alternate between text, code, output, further links, etc.</li>\n",
       "<li>leverage markdown by providing interesting links for background, deep-dive, etc.</li>\n",
       "<li>code cells should not be long, &lt; 10 lines</li>\n",
       "<li>code cells must show that they've run, producing at least some output</li>\n",
       "<li>load data from the container, not the network</li>\n",
       "<li>clear all output then \"Run All\" -- or it didn't happen</li>\n",
       "<li>video narratives: there's text, and there's subtext...</li>\n",
       "<li>pause after each \"beat\" -- smile, breathe, allow people to follow you</li>\n",
       "</ul>\n",
       "</div></div>"
      ],
      "text/plain": [
       "Row(content=['# Notebook Style is not about Programming Style\\n---\\n> ## What we learned about teaching with notebooks (in Oriole)\\n>> [Paco Nathan - Oriole: a new learning medium based on Jupyter + Docker](http://nbviewer.jupyter.org/github/jupyterday-atlanta-2016/oriole_jupyterday_atl/blob/master/oriole_talk.ipynb#What-we-learned-about-teaching-with-notebooks)\\n', '* focus on a concise \"unit of thought\"\\n* invest the time and editorial effort to create a good introduction\\n* keep your narrative simple and reasonably linear\\n* \"chunk\" both the text and the code into understandable parts\\n* alternate between text, code, output, further links, etc.\\n* leverage markdown by providing interesting links for background, deep-dive, etc.\\n* code cells should not be long, < 10 lines\\n* code cells must show that they\\'ve run, producing at least some output\\n* load data from the container, not the network\\n* clear all output then \"Run All\" -- or it didn\\'t happen\\n* video narratives: there\\'s text, and there\\'s subtext...\\n* pause after each \"beat\" -- smile, breathe, allow people to follow you\\n'])"
      ]
     },
     "metadata": {},
     "output_type": "display_data"
    }
   ],
   "source": [
    "F\"\"\"\n",
    "- \" Notebooks can  create\"  \n",
    "- {RRR}\n",
    "- \" documents, but there is no style guidelines.\"\n",
    "\"\"\"\n",
    "F\"\"\"- |\n",
    "    # Notebook Style is not about Programming Style\n",
    "\n",
    "    ---\n",
    "\n",
    "    > ## What we learned about teaching with notebooks (in Oriole)\n",
    "    >> [Paco Nathan - Oriole: a new learning medium based on Jupyter + Docker](http://nbviewer.jupyter.org/github/jupyterday-atlanta-2016/oriole_jupyterday_atl/blob/master/oriole_talk.ipynb#What-we-learned-about-teaching-with-notebooks)\n",
    "- |\n",
    "{modernnotebooks.nbstyle}\n",
    "\"\"\""
   ]
  },
  {
   "cell_type": "code",
   "execution_count": 60,
   "metadata": {},
   "outputs": [],
   "source": [
    "replicable = 'graph {rankdir=LR subgraph cluster_' + RRR.lstrip('graph').replace('rankdir=LR', 'label=Replicable') +'}'"
   ]
  },
  {
   "cell_type": "code",
   "execution_count": 61,
   "metadata": {},
   "outputs": [
    {
     "data": {
      "text/html": [
       "<div class=\"flexed-container flexed-row\"><div class=\"flexed-container flexed-column\"><div class=\"flexed-item\" style=\"order: 0;\"><h2>Readability as a precursor to reproducibility</h2>\n",
       "</div></div><div class=\"flexed-item\" style=\"order: 0;\"><?xml version=\"1.0\" encoding=\"UTF-8\" standalone=\"no\"?>\r\n",
       "<!DOCTYPE svg PUBLIC \"-//W3C//DTD SVG 1.1//EN\"\r\n",
       " \"http://www.w3.org/Graphics/SVG/1.1/DTD/svg11.dtd\">\r\n",
       "<!-- Generated by graphviz version 2.38.0 (20140413.2041)\r\n",
       " -->\r\n",
       "<!-- Title: %3 Pages: 1 -->\r\n",
       "<svg width=\"388pt\" height=\"119pt\"\r\n",
       " viewBox=\"0.00 0.00 387.58 119.00\" xmlns=\"http://www.w3.org/2000/svg\" xmlns:xlink=\"http://www.w3.org/1999/xlink\">\r\n",
       "<g id=\"graph0\" class=\"graph\" transform=\"scale(1 1) rotate(0) translate(4 115)\">\r\n",
       "<title>%3</title>\r\n",
       "<polygon fill=\"white\" stroke=\"none\" points=\"-4,4 -4,-115 383.576,-115 383.576,4 -4,4\"/>\r\n",
       "<g id=\"clust1\" class=\"cluster\"><title>cluster_</title>\r\n",
       "<polygon fill=\"none\" stroke=\"black\" points=\"8,-8 8,-103 371.576,-103 371.576,-8 8,-8\"/>\r\n",
       "<text text-anchor=\"middle\" x=\"189.788\" y=\"-87.8\" font-family=\"Times New Roman,serif\" font-size=\"14.00\">Replicable</text>\r\n",
       "</g>\r\n",
       "<!-- readable -->\r\n",
       "<g id=\"node1\" class=\"node\"><title>readable</title>\r\n",
       "<ellipse fill=\"none\" stroke=\"black\" cx=\"56.9464\" cy=\"-44\" rx=\"40.8928\" ry=\"18\"/>\r\n",
       "<text text-anchor=\"middle\" x=\"56.9464\" y=\"-40.3\" font-family=\"Times New Roman,serif\" font-size=\"14.00\">readable</text>\r\n",
       "</g>\r\n",
       "<!-- reusable -->\r\n",
       "<g id=\"node2\" class=\"node\"><title>reusable</title>\r\n",
       "<ellipse fill=\"none\" stroke=\"black\" cx=\"174.189\" cy=\"-34\" rx=\"40.0939\" ry=\"18\"/>\r\n",
       "<text text-anchor=\"middle\" x=\"174.189\" y=\"-30.3\" font-family=\"Times New Roman,serif\" font-size=\"14.00\">reusable</text>\r\n",
       "</g>\r\n",
       "<!-- readable&#45;&#45;reusable -->\r\n",
       "<g id=\"edge1\" class=\"edge\"><title>readable&#45;&#45;reusable</title>\r\n",
       "<path fill=\"none\" stroke=\"black\" d=\"M97.2841,-40.5865C109.282,-39.5455 122.459,-38.402 134.419,-37.3642\"/>\r\n",
       "</g>\r\n",
       "<!-- reproducible -->\r\n",
       "<g id=\"node3\" class=\"node\"><title>reproducible</title>\r\n",
       "<ellipse fill=\"none\" stroke=\"black\" cx=\"307.031\" cy=\"-44\" rx=\"56.59\" ry=\"18\"/>\r\n",
       "<text text-anchor=\"middle\" x=\"307.031\" y=\"-40.3\" font-family=\"Times New Roman,serif\" font-size=\"14.00\">reproducible</text>\r\n",
       "</g>\r\n",
       "<!-- reusable&#45;&#45;reproducible -->\r\n",
       "<g id=\"edge2\" class=\"edge\"><title>reusable&#45;&#45;reproducible</title>\r\n",
       "<path fill=\"none\" stroke=\"black\" d=\"M214.092,-36.9733C225.843,-37.8714 238.968,-38.8745 251.54,-39.8354\"/>\r\n",
       "</g>\r\n",
       "<!-- reproducible&#45;&#45;readable -->\r\n",
       "<g id=\"edge3\" class=\"edge\"><title>reproducible&#45;&#45;readable</title>\r\n",
       "<path fill=\"none\" stroke=\"black\" d=\"M260.159,-54.2232C245.631,-57.0014 229.456,-59.6218 214.486,-61 178.817,-64.2837 169.495,-64.9359 133.893,-61 120.06,-59.4708 105.064,-56.4201 92.0804,-53.3199\"/>\r\n",
       "</g>\r\n",
       "</g>\r\n",
       "</svg>\r\n",
       "</div></div>"
      ],
      "text/plain": [
       "Row(content=[['## Readability as a precursor to reproducibility\\n'], 'graph {rankdir=LR subgraph cluster_ {label=Replicable readable -- reusable -- reproducible -- readable}}'])"
      ]
     },
     "metadata": {},
     "output_type": "display_data"
    },
    {
     "data": {
      "text/html": [
       "\n",
       "        <iframe\n",
       "            width=\"100%\"\n",
       "            height=\"450\"\n",
       "            src=\"http://gael-varoquaux.info/programming/of-software-and-science-reproducible-science-what-why-and-how.html\"\n",
       "            frameborder=\"0\"\n",
       "            allowfullscreen\n",
       "        ></iframe>\n",
       "        "
      ],
      "text/plain": [
       "<IPython.lib.display.IFrame at 0x21e3bce5f28>"
      ]
     },
     "metadata": {},
     "output_type": "display_data"
    }
   ],
   "source": [
    "F\"\"\"\n",
    "- - |\n",
    "      ## Readability as a precursor to reproducibility\n",
    "  \n",
    "- {replicable}\n",
    "\n",
    "\"\"\"; \"\"\"http://gael-varoquaux.info/programming/of-software-and-science-reproducible-science-what-why-and-how.html\"\"\""
   ]
  },
  {
   "cell_type": "markdown",
   "metadata": {},
   "source": [
    "# Restart and run all is a condition for reusability."
   ]
  }
 ],
 "metadata": {
  "kernelspec": {
   "display_name": "Python 3",
   "language": "python",
   "name": "python3"
  },
  "language_info": {
   "codemirror_mode": {
    "name": "ipython",
    "version": 3
   },
   "file_extension": ".py",
   "mimetype": "text/x-python",
   "name": "python",
   "nbconvert_exporter": "python",
   "pygments_lexer": "ipython3",
   "version": "3.6.5"
  }
 },
 "nbformat": 4,
 "nbformat_minor": 2
}
