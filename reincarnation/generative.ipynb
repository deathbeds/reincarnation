{
 "cells": [
  {
   "cell_type": "markdown",
   "metadata": {},
   "source": [
    "# [The Medium is the Message](https://en.wikipedia.org/wiki/The_medium_is_the_message)\n",
    "\n",
    "> For McLuhan, it was the medium itself that shaped and controlled \\\"the scale and form of human association and action\\\".\n",
    "\n",
    "![](https://media.winnipegfreepress.com/images/648*389/2561532.jpg)"
   ]
  },
  {
   "cell_type": "code",
   "execution_count": 1,
   "metadata": {},
   "outputs": [
    {
     "data": {
      "text/html": [
       "<style>\n",
       ".jp-RenderedHTMLCommon pre code {\n",
       "    opacity: 0.25;\n",
       "}\n",
       ".jp-RenderedHTMLCommon pre code:hover {\n",
       "    transition: opacity 0.2s;\n",
       "    opacity: 1;\n",
       "    \n",
       "}\n",
       ".jp-Placeholder-content .jp-MoreHorizIcon {\n",
       "    background-size: 32px;\n",
       "}\n",
       "\n",
       "@import url(\"https://cdn.jsdelivr.net/npm/firacode@1.205.0/distr/fira_code.css\")\n",
       "\n",
       ".CodeMirror * {\n",
       "  font-family: 'Fira Code' !important; \n",
       "  font-variant-ligatures: initial !important;\n",
       "}\n",
       "\n",
       ".cm-string {\n",
       "    font-variant-ligatures: none;\n",
       "}\n",
       "</style><style>\n",
       ".jp-mod-presentationMode .jp-SideBar,\n",
       ".jp-mod-presentationMode #jp-top-panel {\n",
       "    opacity: 0.0;\n",
       "    transition: all 0.2s;\n",
       "}\n",
       ".jp-mod-presentationMode .jp-SideBar:hover,\n",
       ".jp-mod-presentationMode #jp-top-panel:hover {\n",
       "    opacity: 0.9;\n",
       "    transition: all 0.2s;\n",
       "}\n",
       "\n",
       "</style><style>\n",
       ".jp-mod-presentationMode.jp-ApplicationShell,\n",
       ".jp-mod-presentationMode .p-TabBar-content{\n",
       "    background-color: var(--jp-layout-color0);\n",
       "}\n",
       "</style><style>\n",
       ".jp-mod-presentationMode .p-DockPanel-widget,\n",
       ".jp-mod-presentationMode #jp-left-stack{\n",
       "    border-color: transparent;\n",
       "}\n",
       ".jp-mod-presentationMode .jp-Toolbar-item,\n",
       ".jp-mod-presentationMode .jp-Toolbar {\n",
       "    opacity: 0.1;\n",
       "    transition: all 0.2s;\n",
       "}\n",
       ".jp-mod-presentationMode .jp-Toolbar-item:hover,\n",
       ".jp-mod-presentationMode .jp-Toolbar:hover {\n",
       "    opacity: 0.9;\n",
       "    transition: all 0.2s;\n",
       "}\n",
       "\n",
       "</style><style>\n",
       ".jp-mod-presentationMode .jp-OutputPrompt,\n",
       ".jp-mod-presentationMode .jp-InputPrompt {\n",
       "    max-width: 2rem !important;\n",
       "    transition: all 0.2s;\n",
       "}\n",
       ".jp-mod-presentationMode .jp-Cell.jp-mod-selected .jp-OutputPrompt,\n",
       ".jp-mod-presentationMode .jp-Cell.jp-mod-selected .jp-InputPrompt,\n",
       ".jp-mod-presentationMode .jp-Cell:hover .jp-OutputPrompt,\n",
       ".jp-mod-presentationMode .jp-Cell:hover .jp-InputPrompt {\n",
       "    max-width: 10rem !important;\n",
       "    transition: all 0.2s;\n",
       "}\n",
       "\n",
       ".jp-mod-presentationMode .jp-Cell {\n",
       "    margin-bottom: 5rem;\n",
       "}\n",
       "\n",
       ".jp-mod-presentationMode hr {\n",
       "    opacity: 0.1;\n",
       "}\n",
       "</style>\n",
       "    <style>\n",
       "    .jp-TableOfContents-content h1, \n",
       "    .jp-TableOfContents-content h2 {\n",
       "        margin-bottom: var(--jp-ui-font-size0)\n",
       "    }\n",
       "    </style>\n",
       "    \n",
       "    <style>\n",
       "    .jp-mod-presentationMode {\n",
       "        --jp-content-heading-line-height: 1.25 !important;\n",
       "    }\n",
       "    </style>\n",
       "    "
      ],
      "text/plain": [
       "<IPython.core.display.HTML object>"
      ]
     },
     "metadata": {},
     "output_type": "display_data"
    },
    {
     "data": {
      "text/html": [
       "\n",
       "<style>\n",
       ".flexed-container {display: flex; margin: 30px;}\n",
       ".flexed-container.flexed-row {flex-direction: row;}\n",
       ".flexed-container.flexed-column {flex-direction: column;}\n",
       ".flexed-container iframe {min-width: 350px;}\n",
       ".flexed-item {order: 0; margin: 20px;}\n",
       "</style>"
      ],
      "text/plain": [
       "<IPython.core.display.HTML object>"
      ]
     },
     "metadata": {},
     "output_type": "display_data"
    }
   ],
   "source": [
    "%reload_ext reincarnation"
   ]
  },
  {
   "cell_type": "code",
   "execution_count": 2,
   "metadata": {},
   "outputs": [
    {
     "data": {
      "text/markdown": [
       "# Pillars of Literacy\n",
       "    \n",
       "    \"\"\"graph {rankdir=\"LR\" compound=true\n",
       "           subgraph cluster_literacy {label=\"Pillars of Literacy\" Material -- Cognitive -- Social -- Material}\n",
       "           Social -- {Textual Computational}[ltail=cluster_literacy]\n",
       "          }\"\"\"\n",
       "    \n",
       "> ... “literacy” as a human facility with a **symbolic** and **infrastructural technology**—such as a textual writing system—that can be used for **creative, communicative and rhetorical** purposes. Literacy enables people to represent their ideas in texts that can travel away from immediate, interpersonal contexts (**to write**) and also to interpret texts produced by others (**to read**).\n",
       ">> [Annette Vee - Understanding Computer programming as a Literacy](http://licsjournal.org/OJS/index.php/LiCS/article/view/24/26)\n"
      ],
      "text/plain": [
       "<IPython.core.display.Markdown object>"
      ]
     },
     "metadata": {},
     "output_type": "display_data"
    },
    {
     "data": {
      "image/svg+xml": [
       "<?xml version=\"1.0\" encoding=\"UTF-8\" standalone=\"no\"?>\r\n",
       "<!DOCTYPE svg PUBLIC \"-//W3C//DTD SVG 1.1//EN\"\r\n",
       " \"http://www.w3.org/Graphics/SVG/1.1/DTD/svg11.dtd\">\r\n",
       "<!-- Generated by graphviz version 2.38.0 (20140413.2041)\r\n",
       " -->\r\n",
       "<!-- Title: %3 Pages: 1 -->\r\n",
       "<svg width=\"496pt\" height=\"120pt\"\r\n",
       " viewBox=\"0.00 0.00 495.97 120.00\" xmlns=\"http://www.w3.org/2000/svg\" xmlns:xlink=\"http://www.w3.org/1999/xlink\">\r\n",
       "<g id=\"graph0\" class=\"graph\" transform=\"scale(1 1) rotate(0) translate(4 116)\">\r\n",
       "<title>%3</title>\r\n",
       "<polygon fill=\"white\" stroke=\"none\" points=\"-4,4 -4,-116 491.968,-116 491.968,4 -4,4\"/>\r\n",
       "<g id=\"clust1\" class=\"cluster\"><title>cluster_literacy</title>\r\n",
       "<polygon fill=\"none\" stroke=\"black\" points=\"8,-9 8,-104 332.579,-104 332.579,-9 8,-9\"/>\r\n",
       "<text text-anchor=\"middle\" x=\"170.29\" y=\"-88.8\" font-family=\"Times New Roman,serif\" font-size=\"14.00\">Pillars of Literacy</text>\r\n",
       "</g>\r\n",
       "<!-- Material -->\r\n",
       "<g id=\"node1\" class=\"node\"><title>Material</title>\r\n",
       "<ellipse fill=\"none\" stroke=\"black\" cx=\"55.6465\" cy=\"-45\" rx=\"39.7935\" ry=\"18\"/>\r\n",
       "<text text-anchor=\"middle\" x=\"55.6465\" y=\"-41.3\" font-family=\"Times New Roman,serif\" font-size=\"14.00\">Material</text>\r\n",
       "</g>\r\n",
       "<!-- Cognitive -->\r\n",
       "<g id=\"node2\" class=\"node\"><title>Cognitive</title>\r\n",
       "<ellipse fill=\"none\" stroke=\"black\" cx=\"176.789\" cy=\"-35\" rx=\"45.4919\" ry=\"18\"/>\r\n",
       "<text text-anchor=\"middle\" x=\"176.789\" y=\"-31.3\" font-family=\"Times New Roman,serif\" font-size=\"14.00\">Cognitive</text>\r\n",
       "</g>\r\n",
       "<!-- Material&#45;&#45;Cognitive -->\r\n",
       "<g id=\"edge1\" class=\"edge\"><title>Material&#45;&#45;Cognitive</title>\r\n",
       "<path fill=\"none\" stroke=\"black\" d=\"M94.6715,-41.8084C106.521,-40.8139 119.685,-39.709 131.902,-38.6836\"/>\r\n",
       "</g>\r\n",
       "<!-- Social -->\r\n",
       "<g id=\"node3\" class=\"node\"><title>Social</title>\r\n",
       "<ellipse fill=\"none\" stroke=\"black\" cx=\"291.432\" cy=\"-45\" rx=\"33.2948\" ry=\"18\"/>\r\n",
       "<text text-anchor=\"middle\" x=\"291.432\" y=\"-41.3\" font-family=\"Times New Roman,serif\" font-size=\"14.00\">Social</text>\r\n",
       "</g>\r\n",
       "<!-- Cognitive&#45;&#45;Social -->\r\n",
       "<g id=\"edge2\" class=\"edge\"><title>Cognitive&#45;&#45;Social</title>\r\n",
       "<path fill=\"none\" stroke=\"black\" d=\"M221.34,-38.8663C233.722,-39.9655 246.973,-41.1419 258.525,-42.1674\"/>\r\n",
       "</g>\r\n",
       "<!-- Social&#45;&#45;Material -->\r\n",
       "<g id=\"edge3\" class=\"edge\"><title>Social&#45;&#45;Material</title>\r\n",
       "<path fill=\"none\" stroke=\"black\" d=\"M262.209,-53.6853C250.052,-56.9958 235.598,-60.3645 222.285,-62 182.146,-66.931 171.481,-66.5183 131.293,-62 117.557,-60.4556 102.661,-57.3604 89.816,-54.2292\"/>\r\n",
       "</g>\r\n",
       "<!-- Textual -->\r\n",
       "<g id=\"node4\" class=\"node\"><title>Textual</title>\r\n",
       "<ellipse fill=\"none\" stroke=\"black\" cx=\"424.273\" cy=\"-72\" rx=\"37.8943\" ry=\"18\"/>\r\n",
       "<text text-anchor=\"middle\" x=\"424.273\" y=\"-68.3\" font-family=\"Times New Roman,serif\" font-size=\"14.00\">Textual</text>\r\n",
       "</g>\r\n",
       "<!-- Social&#45;&#45;Textual -->\r\n",
       "<g id=\"edge4\" class=\"edge\"><title>Social&#45;&#45;Textual</title>\r\n",
       "<path fill=\"none\" stroke=\"black\" d=\"M332.528,-53.274C350.729,-57.03 372.023,-61.4242 389.408,-65.0117\"/>\r\n",
       "</g>\r\n",
       "<!-- Computational -->\r\n",
       "<g id=\"node5\" class=\"node\"><title>Computational</title>\r\n",
       "<ellipse fill=\"none\" stroke=\"black\" cx=\"424.273\" cy=\"-18\" rx=\"63.8893\" ry=\"18\"/>\r\n",
       "<text text-anchor=\"middle\" x=\"424.273\" y=\"-14.3\" font-family=\"Times New Roman,serif\" font-size=\"14.00\">Computational</text>\r\n",
       "</g>\r\n",
       "<!-- Social&#45;&#45;Computational -->\r\n",
       "<g id=\"edge5\" class=\"edge\"><title>Social&#45;&#45;Computational</title>\r\n",
       "<path fill=\"none\" stroke=\"black\" d=\"M332.499,-36.7319C345.07,-34.1379 359.118,-31.2389 372.335,-28.5114\"/>\r\n",
       "</g>\r\n",
       "</g>\r\n",
       "</svg>\r\n"
      ],
      "text/plain": [
       "<graphviz.files.Source at 0x23de98ae1d0>"
      ]
     },
     "metadata": {},
     "output_type": "display_data"
    }
   ],
   "source": [
    "# Pillars of Literacy\n",
    "    \n",
    "    \"\"\"graph {rankdir=\"LR\" compound=true\n",
    "           subgraph cluster_literacy {label=\"Pillars of Literacy\" Material -- Cognitive -- Social -- Material}\n",
    "           Social -- {Textual Computational}[ltail=cluster_literacy]\n",
    "          }\"\"\"\n",
    "    \n",
    "> ... “literacy” as a human facility with a **symbolic** and **infrastructural technology**—such as a textual writing system—that can be used for **creative, communicative and rhetorical** purposes. Literacy enables people to represent their ideas in texts that can travel away from immediate, interpersonal contexts (**to write**) and also to interpret texts produced by others (**to read**).\n",
    ">> [Annette Vee - Understanding Computer programming as a Literacy](http://licsjournal.org/OJS/index.php/LiCS/article/view/24/26)"
   ]
  },
  {
   "cell_type": "code",
   "execution_count": 62,
   "metadata": {},
   "outputs": [
    {
     "data": {
      "text/markdown": [
       "# Readability Enables Reproducibility and Reusability\n",
       "\n",
       "    \"\"\"graph {rankdir=\"LR\" reproducibility -- readability -- reusability -- reproducibility}\"\"\"\n"
      ],
      "text/plain": [
       "<IPython.core.display.Markdown object>"
      ]
     },
     "metadata": {},
     "output_type": "display_data"
    },
    {
     "data": {
      "image/svg+xml": [
       "<?xml version=\"1.0\" encoding=\"UTF-8\" standalone=\"no\"?>\r\n",
       "<!DOCTYPE svg PUBLIC \"-//W3C//DTD SVG 1.1//EN\"\r\n",
       " \"http://www.w3.org/Graphics/SVG/1.1/DTD/svg11.dtd\">\r\n",
       "<!-- Generated by graphviz version 2.38.0 (20140413.2041)\r\n",
       " -->\r\n",
       "<!-- Title: %3 Pages: 1 -->\r\n",
       "<svg width=\"398pt\" height=\"67pt\"\r\n",
       " viewBox=\"0.00 0.00 398.47 67.00\" xmlns=\"http://www.w3.org/2000/svg\" xmlns:xlink=\"http://www.w3.org/1999/xlink\">\r\n",
       "<g id=\"graph0\" class=\"graph\" transform=\"scale(1 1) rotate(0) translate(4 63)\">\r\n",
       "<title>%3</title>\r\n",
       "<polygon fill=\"white\" stroke=\"none\" points=\"-4,4 -4,-63 394.472,-63 394.472,4 -4,4\"/>\r\n",
       "<!-- reproducibility -->\r\n",
       "<g id=\"node1\" class=\"node\"><title>reproducibility</title>\r\n",
       "<ellipse fill=\"none\" stroke=\"black\" cx=\"63.6943\" cy=\"-18\" rx=\"63.8893\" ry=\"18\"/>\r\n",
       "<text text-anchor=\"middle\" x=\"63.6943\" y=\"-14.3\" font-family=\"Times New Roman,serif\" font-size=\"14.00\">reproducibility</text>\r\n",
       "</g>\r\n",
       "<!-- readability -->\r\n",
       "<g id=\"node2\" class=\"node\"><title>readability</title>\r\n",
       "<ellipse fill=\"none\" stroke=\"black\" cx=\"211.484\" cy=\"-41\" rx=\"48.1917\" ry=\"18\"/>\r\n",
       "<text text-anchor=\"middle\" x=\"211.484\" y=\"-37.3\" font-family=\"Times New Roman,serif\" font-size=\"14.00\">readability</text>\r\n",
       "</g>\r\n",
       "<!-- reproducibility&#45;&#45;readability -->\r\n",
       "<g id=\"edge1\" class=\"edge\"><title>reproducibility&#45;&#45;readability</title>\r\n",
       "<path fill=\"none\" stroke=\"black\" d=\"M119.811,-26.6953C135.293,-29.1378 151.915,-31.76 166.644,-34.0837\"/>\r\n",
       "</g>\r\n",
       "<!-- reusability -->\r\n",
       "<g id=\"node3\" class=\"node\"><title>reusability</title>\r\n",
       "<ellipse fill=\"none\" stroke=\"black\" cx=\"343.026\" cy=\"-18\" rx=\"47.3916\" ry=\"18\"/>\r\n",
       "<text text-anchor=\"middle\" x=\"343.026\" y=\"-14.3\" font-family=\"Times New Roman,serif\" font-size=\"14.00\">reusability</text>\r\n",
       "</g>\r\n",
       "<!-- readability&#45;&#45;reusability -->\r\n",
       "<g id=\"edge2\" class=\"edge\"><title>readability&#45;&#45;reusability</title>\r\n",
       "<path fill=\"none\" stroke=\"black\" d=\"M255.26,-33.4052C269.557,-30.8668 285.477,-28.0403 299.737,-25.5084\"/>\r\n",
       "</g>\r\n",
       "<!-- reusability&#45;&#45;reproducibility -->\r\n",
       "<g id=\"edge3\" class=\"edge\"><title>reusability&#45;&#45;reproducibility</title>\r\n",
       "<path fill=\"none\" stroke=\"black\" d=\"M295.819,-15.363C284.008,-14.7976 271.328,-14.2848 259.58,-14 216.841,-12.9638 206.132,-13.1342 163.389,-14 151.559,-14.2396 138.936,-14.6407 126.807,-15.0987\"/>\r\n",
       "</g>\r\n",
       "</g>\r\n",
       "</svg>\r\n"
      ],
      "text/plain": [
       "<graphviz.files.Source at 0x1a94b967f98>"
      ]
     },
     "metadata": {},
     "output_type": "display_data"
    }
   ],
   "source": [
    "# Readability Enables Reproducibility and Reusability\n",
    "\n",
    "    \"\"\"graph {rankdir=\"LR\" reproducibility -- readability -- reusability -- reproducibility}\"\"\""
   ]
  },
  {
   "cell_type": "code",
   "execution_count": 65,
   "metadata": {},
   "outputs": [
    {
     "data": {
      "text/markdown": [
       "> ... surely nobody wants to admit writing an illiterate program.\n",
       ">> Donald Knuth - Literate Programming\n",
       "\n",
       "# A good computational essay\n",
       "\n",
       "## Includes a narrative with clear communication.\n",
       "## Focuses on human readability and machine reproducibility.\n",
       "## Will contain readable code when possible.\n",
       "## May have many authors with different strengths.\n",
       "## Does not often value code.\n"
      ],
      "text/plain": [
       "<IPython.core.display.Markdown object>"
      ]
     },
     "metadata": {},
     "output_type": "display_data"
    }
   ],
   "source": [
    "> ... surely nobody wants to admit writing an illiterate program.\n",
    ">> Donald Knuth - Literate Programming\n",
    "\n",
    "# A good computational essay\n",
    "\n",
    "## Includes a narrative with clear communication.\n",
    "## Focuses on human readability and machine reproducibility.\n",
    "## Will contain readable code when possible.\n",
    "## May have many authors with different strengths.\n",
    "## Does not often value code."
   ]
  },
  {
   "cell_type": "code",
   "execution_count": 67,
   "metadata": {},
   "outputs": [
    {
     "data": {
      "text/markdown": [
       "### [\"Literate computing\" and computational reproducibility: IPython in the age of data-driven journalism](http://blog.fperez.org/2013/04/literate-computing-and-computational.html)\n",
       "> Our job with Jupyter~~IPython~~ is to think deeply about questions regarding the intersection of _**computing, data and science**_, but it's clear to me at this point that we can contribute in contexts beyond pure scientific research. I hope we'll be able to provide folks who have a _**direct intersection with the public**_, such as journalists, with tools that help a more informed and productive debate.\n",
       "\n",
       "> - [Fernando Perez](http://github.com/fperez)\n",
       "    \n",
       "    \"\"\"graph {rankdir=\"LR\"; data--science--computing--data subgraph cluster_science {science label=\"modern\\nfolk lore\"}} \"\"\"\n",
       "    \"\"\"http://blog.fperez.org/2013/04/literate-computing-and-computational.html\"\"\"\n"
      ],
      "text/plain": [
       "<IPython.core.display.Markdown object>"
      ]
     },
     "metadata": {},
     "output_type": "display_data"
    },
    {
     "data": {
      "image/svg+xml": [
       "<?xml version=\"1.0\" encoding=\"UTF-8\" standalone=\"no\"?>\r\n",
       "<!DOCTYPE svg PUBLIC \"-//W3C//DTD SVG 1.1//EN\"\r\n",
       " \"http://www.w3.org/Graphics/SVG/1.1/DTD/svg11.dtd\">\r\n",
       "<!-- Generated by graphviz version 2.38.0 (20140413.2041)\r\n",
       " -->\r\n",
       "<!-- Title: %3 Pages: 1 -->\r\n",
       "<svg width=\"324pt\" height=\"121pt\"\r\n",
       " viewBox=\"0.00 0.00 324.18 121.00\" xmlns=\"http://www.w3.org/2000/svg\" xmlns:xlink=\"http://www.w3.org/1999/xlink\">\r\n",
       "<g id=\"graph0\" class=\"graph\" transform=\"scale(1 1) rotate(0) translate(4 117)\">\r\n",
       "<title>%3</title>\r\n",
       "<polygon fill=\"white\" stroke=\"none\" points=\"-4,4 -4,-117 320.185,-117 320.185,4 -4,4\"/>\r\n",
       "<g id=\"clust1\" class=\"cluster\"><title>cluster_science</title>\r\n",
       "<polygon fill=\"none\" stroke=\"black\" points=\"8,-15 8,-105 99.3933,-105 99.3933,-15 8,-15\"/>\r\n",
       "<text text-anchor=\"middle\" x=\"53.6967\" y=\"-89.8\" font-family=\"Times New Roman,serif\" font-size=\"14.00\">modern</text>\r\n",
       "<text text-anchor=\"middle\" x=\"53.6967\" y=\"-74.8\" font-family=\"Times New Roman,serif\" font-size=\"14.00\">folk lore</text>\r\n",
       "</g>\r\n",
       "<!-- data -->\r\n",
       "<g id=\"node1\" class=\"node\"><title>data</title>\r\n",
       "<ellipse fill=\"none\" stroke=\"black\" cx=\"289.185\" cy=\"-41\" rx=\"27\" ry=\"18\"/>\r\n",
       "<text text-anchor=\"middle\" x=\"289.185\" y=\"-37.3\" font-family=\"Times New Roman,serif\" font-size=\"14.00\">data</text>\r\n",
       "</g>\r\n",
       "<!-- science -->\r\n",
       "<g id=\"node2\" class=\"node\"><title>science</title>\r\n",
       "<ellipse fill=\"none\" stroke=\"black\" cx=\"53.6967\" cy=\"-41\" rx=\"37.8943\" ry=\"18\"/>\r\n",
       "<text text-anchor=\"middle\" x=\"53.6967\" y=\"-37.3\" font-family=\"Times New Roman,serif\" font-size=\"14.00\">science</text>\r\n",
       "</g>\r\n",
       "<!-- data&#45;&#45;science -->\r\n",
       "<g id=\"edge1\" class=\"edge\"><title>data&#45;&#45;science</title>\r\n",
       "<path fill=\"none\" stroke=\"black\" d=\"M262.26,-43.0462C251.158,-43.8256 238.043,-44.6179 226.185,-45 182.3,-46.4142 171.284,-46.2066 127.393,-45 115.643,-44.677 102.835,-44.0607 91.2902,-43.407\"/>\r\n",
       "</g>\r\n",
       "<!-- computing -->\r\n",
       "<g id=\"node3\" class=\"node\"><title>computing</title>\r\n",
       "<ellipse fill=\"none\" stroke=\"black\" cx=\"176.789\" cy=\"-18\" rx=\"49.2915\" ry=\"18\"/>\r\n",
       "<text text-anchor=\"middle\" x=\"176.789\" y=\"-14.3\" font-family=\"Times New Roman,serif\" font-size=\"14.00\">computing</text>\r\n",
       "</g>\r\n",
       "<!-- science&#45;&#45;computing -->\r\n",
       "<g id=\"edge2\" class=\"edge\"><title>science&#45;&#45;computing</title>\r\n",
       "<path fill=\"none\" stroke=\"black\" d=\"M89.0729,-34.4706C102.638,-31.8942 118.373,-28.9055 132.686,-26.1869\"/>\r\n",
       "</g>\r\n",
       "<!-- computing&#45;&#45;data -->\r\n",
       "<g id=\"edge3\" class=\"edge\"><title>computing&#45;&#45;data</title>\r\n",
       "<path fill=\"none\" stroke=\"black\" d=\"M220.155,-26.8266C234.627,-29.8417 250.344,-33.1162 263.022,-35.7576\"/>\r\n",
       "</g>\r\n",
       "</g>\r\n",
       "</svg>\r\n"
      ],
      "text/plain": [
       "<graphviz.files.Source at 0x1a94bbfd358>"
      ]
     },
     "metadata": {},
     "output_type": "display_data"
    },
    {
     "data": {
      "text/html": [
       "\n",
       "        <iframe\n",
       "            width=\"100%\"\n",
       "            height=\"450\"\n",
       "            src=\"http://blog.fperez.org/2013/04/literate-computing-and-computational.html\"\n",
       "            frameborder=\"0\"\n",
       "            allowfullscreen\n",
       "        ></iframe>\n",
       "        "
      ],
      "text/plain": [
       "<IPython.lib.display.IFrame at 0x1a94bbfd0f0>"
      ]
     },
     "metadata": {},
     "output_type": "display_data"
    }
   ],
   "source": [
    "### [\"Literate computing\" and computational reproducibility: IPython in the age of data-driven journalism](http://blog.fperez.org/2013/04/literate-computing-and-computational.html)\n",
    "> Our job with Jupyter~~IPython~~ is to think deeply about questions regarding the intersection of _**computing, data and science**_, but it's clear to me at this point that we can contribute in contexts beyond pure scientific research. I hope we'll be able to provide folks who have a _**direct intersection with the public**_, such as journalists, with tools that help a more informed and productive debate.\n",
    "\n",
    "> - [Fernando Perez](http://github.com/fperez)\n",
    "    \n",
    "    \"\"\"graph {rankdir=\"LR\"; data--science--computing--data subgraph cluster_science {science label=\"modern\\nfolk lore\"}} \"\"\"\n",
    "    \"\"\"http://blog.fperez.org/2013/04/literate-computing-and-computational.html\"\"\""
   ]
  },
  {
   "cell_type": "code",
   "execution_count": 71,
   "metadata": {},
   "outputs": [
    {
     "data": {
      "text/markdown": [
       "# Literacy Makes Programming a Human Problem\n",
       "\n",
       "> Computational literacy builds on textual literacy because it entails textual writing and reading, but it is also quite distinct from textual literacy. In programming, one must build structures out of explicitly de ned components. As Wittgenstein argued, human language works differently: not through explicit definitions, but through use and exchange.\n",
       ">> [Annette Vee - Understanding Computer programming as a Literacy](http://licsjournal.org/OJS/index.php/LiCS/article/view/24/26)\n",
       "\n",
       "    \"\"\"http://licsjournal.org/OJS/index.php/LiCS/article/view/24/26\"\"\"\n"
      ],
      "text/plain": [
       "<IPython.core.display.Markdown object>"
      ]
     },
     "metadata": {},
     "output_type": "display_data"
    },
    {
     "data": {
      "text/html": [
       "\n",
       "        <iframe\n",
       "            width=\"100%\"\n",
       "            height=\"450\"\n",
       "            src=\"http://licsjournal.org/OJS/index.php/LiCS/article/view/24/26\"\n",
       "            frameborder=\"0\"\n",
       "            allowfullscreen\n",
       "        ></iframe>\n",
       "        "
      ],
      "text/plain": [
       "<IPython.lib.display.IFrame at 0x1a94bbfd080>"
      ]
     },
     "metadata": {},
     "output_type": "display_data"
    }
   ],
   "source": [
    "# Literacy Makes Programming a Human Problem\n",
    "\n",
    "> Computational literacy builds on textual literacy because it entails textual writing and reading, but it is also quite distinct from textual literacy. In programming, one must build structures out of explicitly de ned components. As Wittgenstein argued, human language works differently: not through explicit definitions, but through use and exchange.\n",
    ">> [Annette Vee - Understanding Computer programming as a Literacy](http://licsjournal.org/OJS/index.php/LiCS/article/view/24/26)\n",
    "\n",
    "    \"\"\"http://licsjournal.org/OJS/index.php/LiCS/article/view/24/26\"\"\""
   ]
  },
  {
   "cell_type": "code",
   "execution_count": 73,
   "metadata": {},
   "outputs": [
    {
     "data": {
      "text/markdown": [
       "# Generating Computational Essays is a Complex Interactive Efffort\n",
       "\n",
       "    \"\"\"digraph {\n",
       "        Literacy -> {\n",
       "            Textual Computational\n",
       "        }\n",
       "        Textual -> {Markdown Latex}\n",
       "        subgraph cluster_repl {\n",
       "            label=\"REPL\"\n",
       "            read -> evaluate -> print -> loop -> read}\n",
       "        Computational->read\n",
       "        evaluate -> test read -> documentation print -> display loop -> interact\n",
       "        display -> {HTML Images Videos Sound Maps \"...\"}\n",
       "    }\"\"\"\n",
       "    \n",
       "> [Jupyter Renderers](https://github.com/jupyterlab/jupyter-renderers)\n"
      ],
      "text/plain": [
       "<IPython.core.display.Markdown object>"
      ]
     },
     "metadata": {},
     "output_type": "display_data"
    },
    {
     "data": {
      "image/svg+xml": [
       "<?xml version=\"1.0\" encoding=\"UTF-8\" standalone=\"no\"?>\r\n",
       "<!DOCTYPE svg PUBLIC \"-//W3C//DTD SVG 1.1//EN\"\r\n",
       " \"http://www.w3.org/Graphics/SVG/1.1/DTD/svg11.dtd\">\r\n",
       "<!-- Generated by graphviz version 2.38.0 (20140413.2041)\r\n",
       " -->\r\n",
       "<!-- Title: %3 Pages: 1 -->\r\n",
       "<svg width=\"712pt\" height=\"479pt\"\r\n",
       " viewBox=\"0.00 0.00 712.05 479.00\" xmlns=\"http://www.w3.org/2000/svg\" xmlns:xlink=\"http://www.w3.org/1999/xlink\">\r\n",
       "<g id=\"graph0\" class=\"graph\" transform=\"scale(1 1) rotate(0) translate(4 475)\">\r\n",
       "<title>%3</title>\r\n",
       "<polygon fill=\"white\" stroke=\"none\" points=\"-4,4 -4,-475 708.046,-475 708.046,4 -4,4\"/>\r\n",
       "<g id=\"clust3\" class=\"cluster\"><title>cluster_repl</title>\r\n",
       "<polygon fill=\"none\" stroke=\"black\" points=\"194.046,-64 194.046,-355 310.046,-355 310.046,-64 194.046,-64\"/>\r\n",
       "<text text-anchor=\"middle\" x=\"252.046\" y=\"-339.8\" font-family=\"Times New Roman,serif\" font-size=\"14.00\">REPL</text>\r\n",
       "</g>\r\n",
       "<!-- Literacy -->\r\n",
       "<g id=\"node1\" class=\"node\"><title>Literacy</title>\r\n",
       "<ellipse fill=\"none\" stroke=\"black\" cx=\"202.046\" cy=\"-453\" rx=\"40.0939\" ry=\"18\"/>\r\n",
       "<text text-anchor=\"middle\" x=\"202.046\" y=\"-449.3\" font-family=\"Times New Roman,serif\" font-size=\"14.00\">Literacy</text>\r\n",
       "</g>\r\n",
       "<!-- Textual -->\r\n",
       "<g id=\"node2\" class=\"node\"><title>Textual</title>\r\n",
       "<ellipse fill=\"none\" stroke=\"black\" cx=\"143.046\" cy=\"-381\" rx=\"37.8943\" ry=\"18\"/>\r\n",
       "<text text-anchor=\"middle\" x=\"143.046\" y=\"-377.3\" font-family=\"Times New Roman,serif\" font-size=\"14.00\">Textual</text>\r\n",
       "</g>\r\n",
       "<!-- Literacy&#45;&gt;Textual -->\r\n",
       "<g id=\"edge1\" class=\"edge\"><title>Literacy&#45;&gt;Textual</title>\r\n",
       "<path fill=\"none\" stroke=\"black\" d=\"M188.361,-435.765C180.915,-426.93 171.559,-415.83 163.286,-406.014\"/>\r\n",
       "<polygon fill=\"black\" stroke=\"black\" points=\"165.776,-403.538 156.655,-398.147 160.424,-408.049 165.776,-403.538\"/>\r\n",
       "</g>\r\n",
       "<!-- Computational -->\r\n",
       "<g id=\"node3\" class=\"node\"><title>Computational</title>\r\n",
       "<ellipse fill=\"none\" stroke=\"black\" cx=\"262.046\" cy=\"-381\" rx=\"63.8893\" ry=\"18\"/>\r\n",
       "<text text-anchor=\"middle\" x=\"262.046\" y=\"-377.3\" font-family=\"Times New Roman,serif\" font-size=\"14.00\">Computational</text>\r\n",
       "</g>\r\n",
       "<!-- Literacy&#45;&gt;Computational -->\r\n",
       "<g id=\"edge2\" class=\"edge\"><title>Literacy&#45;&gt;Computational</title>\r\n",
       "<path fill=\"none\" stroke=\"black\" d=\"M215.962,-435.765C223.426,-427.056 232.777,-416.147 241.101,-406.435\"/>\r\n",
       "<polygon fill=\"black\" stroke=\"black\" points=\"243.938,-408.504 247.788,-398.633 238.623,-403.948 243.938,-408.504\"/>\r\n",
       "</g>\r\n",
       "<!-- Markdown -->\r\n",
       "<g id=\"node4\" class=\"node\"><title>Markdown</title>\r\n",
       "<ellipse fill=\"none\" stroke=\"black\" cx=\"50.0456\" cy=\"-306\" rx=\"50.0912\" ry=\"18\"/>\r\n",
       "<text text-anchor=\"middle\" x=\"50.0456\" y=\"-302.3\" font-family=\"Times New Roman,serif\" font-size=\"14.00\">Markdown</text>\r\n",
       "</g>\r\n",
       "<!-- Textual&#45;&gt;Markdown -->\r\n",
       "<g id=\"edge3\" class=\"edge\"><title>Textual&#45;&gt;Markdown</title>\r\n",
       "<path fill=\"none\" stroke=\"black\" d=\"M123.147,-365.62C118.488,-362.184 113.566,-358.497 109.046,-355 98.4385,-346.793 86.9615,-337.544 76.9743,-329.37\"/>\r\n",
       "<polygon fill=\"black\" stroke=\"black\" points=\"78.9346,-326.451 68.9872,-322.804 74.4892,-331.858 78.9346,-326.451\"/>\r\n",
       "</g>\r\n",
       "<!-- Latex -->\r\n",
       "<g id=\"node5\" class=\"node\"><title>Latex</title>\r\n",
       "<ellipse fill=\"none\" stroke=\"black\" cx=\"149.046\" cy=\"-306\" rx=\"30.5947\" ry=\"18\"/>\r\n",
       "<text text-anchor=\"middle\" x=\"149.046\" y=\"-302.3\" font-family=\"Times New Roman,serif\" font-size=\"14.00\">Latex</text>\r\n",
       "</g>\r\n",
       "<!-- Textual&#45;&gt;Latex -->\r\n",
       "<g id=\"edge4\" class=\"edge\"><title>Textual&#45;&gt;Latex</title>\r\n",
       "<path fill=\"none\" stroke=\"black\" d=\"M144.467,-362.7C145.162,-354.245 146.015,-343.869 146.796,-334.373\"/>\r\n",
       "<polygon fill=\"black\" stroke=\"black\" points=\"150.303,-334.429 147.634,-324.176 143.326,-333.855 150.303,-334.429\"/>\r\n",
       "</g>\r\n",
       "<!-- read -->\r\n",
       "<g id=\"node6\" class=\"node\"><title>read</title>\r\n",
       "<ellipse fill=\"none\" stroke=\"black\" cx=\"262.046\" cy=\"-306\" rx=\"27\" ry=\"18\"/>\r\n",
       "<text text-anchor=\"middle\" x=\"262.046\" y=\"-302.3\" font-family=\"Times New Roman,serif\" font-size=\"14.00\">read</text>\r\n",
       "</g>\r\n",
       "<!-- Computational&#45;&gt;read -->\r\n",
       "<g id=\"edge9\" class=\"edge\"><title>Computational&#45;&gt;read</title>\r\n",
       "<path fill=\"none\" stroke=\"black\" d=\"M262.046,-362.7C262.046,-354.245 262.046,-343.869 262.046,-334.373\"/>\r\n",
       "<polygon fill=\"black\" stroke=\"black\" points=\"265.546,-334.176 262.046,-324.176 258.546,-334.176 265.546,-334.176\"/>\r\n",
       "</g>\r\n",
       "<!-- evaluate -->\r\n",
       "<g id=\"node7\" class=\"node\"><title>evaluate</title>\r\n",
       "<ellipse fill=\"none\" stroke=\"black\" cx=\"262.046\" cy=\"-234\" rx=\"39.7935\" ry=\"18\"/>\r\n",
       "<text text-anchor=\"middle\" x=\"262.046\" y=\"-230.3\" font-family=\"Times New Roman,serif\" font-size=\"14.00\">evaluate</text>\r\n",
       "</g>\r\n",
       "<!-- read&#45;&gt;evaluate -->\r\n",
       "<g id=\"edge5\" class=\"edge\"><title>read&#45;&gt;evaluate</title>\r\n",
       "<path fill=\"none\" stroke=\"black\" d=\"M262.046,-287.697C262.046,-279.983 262.046,-270.712 262.046,-262.112\"/>\r\n",
       "<polygon fill=\"black\" stroke=\"black\" points=\"265.546,-262.104 262.046,-252.104 258.546,-262.104 265.546,-262.104\"/>\r\n",
       "</g>\r\n",
       "<!-- documentation -->\r\n",
       "<g id=\"node11\" class=\"node\"><title>documentation</title>\r\n",
       "<ellipse fill=\"none\" stroke=\"black\" cx=\"384.046\" cy=\"-234\" rx=\"64.189\" ry=\"18\"/>\r\n",
       "<text text-anchor=\"middle\" x=\"384.046\" y=\"-230.3\" font-family=\"Times New Roman,serif\" font-size=\"14.00\">documentation</text>\r\n",
       "</g>\r\n",
       "<!-- read&#45;&gt;documentation -->\r\n",
       "<g id=\"edge11\" class=\"edge\"><title>read&#45;&gt;documentation</title>\r\n",
       "<path fill=\"none\" stroke=\"black\" d=\"M281.918,-293.597C299.761,-283.36 326.389,-268.081 347.983,-255.692\"/>\r\n",
       "<polygon fill=\"black\" stroke=\"black\" points=\"349.956,-258.595 356.888,-250.582 346.473,-252.523 349.956,-258.595\"/>\r\n",
       "</g>\r\n",
       "<!-- print -->\r\n",
       "<g id=\"node8\" class=\"node\"><title>print</title>\r\n",
       "<ellipse fill=\"none\" stroke=\"black\" cx=\"262.046\" cy=\"-162\" rx=\"27.0966\" ry=\"18\"/>\r\n",
       "<text text-anchor=\"middle\" x=\"262.046\" y=\"-158.3\" font-family=\"Times New Roman,serif\" font-size=\"14.00\">print</text>\r\n",
       "</g>\r\n",
       "<!-- evaluate&#45;&gt;print -->\r\n",
       "<g id=\"edge6\" class=\"edge\"><title>evaluate&#45;&gt;print</title>\r\n",
       "<path fill=\"none\" stroke=\"black\" d=\"M262.046,-215.697C262.046,-207.983 262.046,-198.712 262.046,-190.112\"/>\r\n",
       "<polygon fill=\"black\" stroke=\"black\" points=\"265.546,-190.104 262.046,-180.104 258.546,-190.104 265.546,-190.104\"/>\r\n",
       "</g>\r\n",
       "<!-- test -->\r\n",
       "<g id=\"node10\" class=\"node\"><title>test</title>\r\n",
       "<ellipse fill=\"none\" stroke=\"black\" cx=\"345.046\" cy=\"-162\" rx=\"27\" ry=\"18\"/>\r\n",
       "<text text-anchor=\"middle\" x=\"345.046\" y=\"-158.3\" font-family=\"Times New Roman,serif\" font-size=\"14.00\">test</text>\r\n",
       "</g>\r\n",
       "<!-- evaluate&#45;&gt;test -->\r\n",
       "<g id=\"edge10\" class=\"edge\"><title>evaluate&#45;&gt;test</title>\r\n",
       "<path fill=\"none\" stroke=\"black\" d=\"M280.055,-217.811C292.137,-207.622 308.18,-194.092 321.303,-183.024\"/>\r\n",
       "<polygon fill=\"black\" stroke=\"black\" points=\"323.647,-185.626 329.035,-176.503 319.134,-180.275 323.647,-185.626\"/>\r\n",
       "</g>\r\n",
       "<!-- loop -->\r\n",
       "<g id=\"node9\" class=\"node\"><title>loop</title>\r\n",
       "<ellipse fill=\"none\" stroke=\"black\" cx=\"229.046\" cy=\"-90\" rx=\"27.0966\" ry=\"18\"/>\r\n",
       "<text text-anchor=\"middle\" x=\"229.046\" y=\"-86.3\" font-family=\"Times New Roman,serif\" font-size=\"14.00\">loop</text>\r\n",
       "</g>\r\n",
       "<!-- print&#45;&gt;loop -->\r\n",
       "<g id=\"edge7\" class=\"edge\"><title>print&#45;&gt;loop</title>\r\n",
       "<path fill=\"none\" stroke=\"black\" d=\"M254.225,-144.411C250.321,-136.129 245.51,-125.925 241.143,-116.662\"/>\r\n",
       "<polygon fill=\"black\" stroke=\"black\" points=\"244.24,-115.023 236.81,-107.47 237.908,-118.008 244.24,-115.023\"/>\r\n",
       "</g>\r\n",
       "<!-- display -->\r\n",
       "<g id=\"node12\" class=\"node\"><title>display</title>\r\n",
       "<ellipse fill=\"none\" stroke=\"black\" cx=\"428.046\" cy=\"-90\" rx=\"36.2938\" ry=\"18\"/>\r\n",
       "<text text-anchor=\"middle\" x=\"428.046\" y=\"-86.3\" font-family=\"Times New Roman,serif\" font-size=\"14.00\">display</text>\r\n",
       "</g>\r\n",
       "<!-- print&#45;&gt;display -->\r\n",
       "<g id=\"edge12\" class=\"edge\"><title>print&#45;&gt;display</title>\r\n",
       "<path fill=\"none\" stroke=\"black\" d=\"M284.433,-151.559C312.061,-139.909 359.389,-119.952 392.122,-106.148\"/>\r\n",
       "<polygon fill=\"black\" stroke=\"black\" points=\"393.502,-109.365 401.356,-102.255 390.782,-102.915 393.502,-109.365\"/>\r\n",
       "</g>\r\n",
       "<!-- loop&#45;&gt;read -->\r\n",
       "<g id=\"edge8\" class=\"edge\"><title>loop&#45;&gt;read</title>\r\n",
       "<path fill=\"none\" stroke=\"black\" d=\"M222.524,-107.676C211.828,-137.689 193.592,-202.302 213.046,-252 217.97,-264.581 227.438,-275.965 236.748,-284.929\"/>\r\n",
       "<polygon fill=\"black\" stroke=\"black\" points=\"234.66,-287.76 244.429,-291.863 239.351,-282.564 234.66,-287.76\"/>\r\n",
       "</g>\r\n",
       "<!-- interact -->\r\n",
       "<g id=\"node13\" class=\"node\"><title>interact</title>\r\n",
       "<ellipse fill=\"none\" stroke=\"black\" cx=\"155.046\" cy=\"-18\" rx=\"37.0935\" ry=\"18\"/>\r\n",
       "<text text-anchor=\"middle\" x=\"155.046\" y=\"-14.3\" font-family=\"Times New Roman,serif\" font-size=\"14.00\">interact</text>\r\n",
       "</g>\r\n",
       "<!-- loop&#45;&gt;interact -->\r\n",
       "<g id=\"edge13\" class=\"edge\"><title>loop&#45;&gt;interact</title>\r\n",
       "<path fill=\"none\" stroke=\"black\" d=\"M214.071,-74.8345C203.885,-65.1997 190.199,-52.2533 178.57,-41.2527\"/>\r\n",
       "<polygon fill=\"black\" stroke=\"black\" points=\"180.952,-38.6885 171.282,-34.3591 176.142,-43.7738 180.952,-38.6885\"/>\r\n",
       "</g>\r\n",
       "<!-- HTML -->\r\n",
       "<g id=\"node14\" class=\"node\"><title>HTML</title>\r\n",
       "<ellipse fill=\"none\" stroke=\"black\" cx=\"246.046\" cy=\"-18\" rx=\"36.2938\" ry=\"18\"/>\r\n",
       "<text text-anchor=\"middle\" x=\"246.046\" y=\"-14.3\" font-family=\"Times New Roman,serif\" font-size=\"14.00\">HTML</text>\r\n",
       "</g>\r\n",
       "<!-- display&#45;&gt;HTML -->\r\n",
       "<g id=\"edge14\" class=\"edge\"><title>display&#45;&gt;HTML</title>\r\n",
       "<path fill=\"none\" stroke=\"black\" d=\"M400.007,-78.2159C368.788,-66.2085 318.177,-46.7429 283.565,-33.4307\"/>\r\n",
       "<polygon fill=\"black\" stroke=\"black\" points=\"284.407,-30.0046 273.817,-29.6815 281.894,-36.538 284.407,-30.0046\"/>\r\n",
       "</g>\r\n",
       "<!-- Images -->\r\n",
       "<g id=\"node15\" class=\"node\"><title>Images</title>\r\n",
       "<ellipse fill=\"none\" stroke=\"black\" cx=\"337.046\" cy=\"-18\" rx=\"36.2938\" ry=\"18\"/>\r\n",
       "<text text-anchor=\"middle\" x=\"337.046\" y=\"-14.3\" font-family=\"Times New Roman,serif\" font-size=\"14.00\">Images</text>\r\n",
       "</g>\r\n",
       "<!-- display&#45;&gt;Images -->\r\n",
       "<g id=\"edge15\" class=\"edge\"><title>display&#45;&gt;Images</title>\r\n",
       "<path fill=\"none\" stroke=\"black\" d=\"M409.19,-74.496C396.135,-64.4532 378.56,-50.9344 364.026,-39.7541\"/>\r\n",
       "<polygon fill=\"black\" stroke=\"black\" points=\"365.937,-36.8084 355.877,-33.4855 361.669,-42.3568 365.937,-36.8084\"/>\r\n",
       "</g>\r\n",
       "<!-- Videos -->\r\n",
       "<g id=\"node16\" class=\"node\"><title>Videos</title>\r\n",
       "<ellipse fill=\"none\" stroke=\"black\" cx=\"428.046\" cy=\"-18\" rx=\"36.2938\" ry=\"18\"/>\r\n",
       "<text text-anchor=\"middle\" x=\"428.046\" y=\"-14.3\" font-family=\"Times New Roman,serif\" font-size=\"14.00\">Videos</text>\r\n",
       "</g>\r\n",
       "<!-- display&#45;&gt;Videos -->\r\n",
       "<g id=\"edge16\" class=\"edge\"><title>display&#45;&gt;Videos</title>\r\n",
       "<path fill=\"none\" stroke=\"black\" d=\"M428.046,-71.6966C428.046,-63.9827 428.046,-54.7125 428.046,-46.1124\"/>\r\n",
       "<polygon fill=\"black\" stroke=\"black\" points=\"431.546,-46.1043 428.046,-36.1043 424.546,-46.1044 431.546,-46.1043\"/>\r\n",
       "</g>\r\n",
       "<!-- Sound -->\r\n",
       "<g id=\"node17\" class=\"node\"><title>Sound</title>\r\n",
       "<ellipse fill=\"none\" stroke=\"black\" cx=\"517.046\" cy=\"-18\" rx=\"34.394\" ry=\"18\"/>\r\n",
       "<text text-anchor=\"middle\" x=\"517.046\" y=\"-14.3\" font-family=\"Times New Roman,serif\" font-size=\"14.00\">Sound</text>\r\n",
       "</g>\r\n",
       "<!-- display&#45;&gt;Sound -->\r\n",
       "<g id=\"edge17\" class=\"edge\"><title>display&#45;&gt;Sound</title>\r\n",
       "<path fill=\"none\" stroke=\"black\" d=\"M446.92,-74.1548C459.716,-64.0903 476.801,-50.6529 490.903,-39.5613\"/>\r\n",
       "<polygon fill=\"black\" stroke=\"black\" points=\"493.11,-42.2782 498.807,-33.345 488.783,-36.7761 493.11,-42.2782\"/>\r\n",
       "</g>\r\n",
       "<!-- Maps -->\r\n",
       "<g id=\"node18\" class=\"node\"><title>Maps</title>\r\n",
       "<ellipse fill=\"none\" stroke=\"black\" cx=\"601.046\" cy=\"-18\" rx=\"31.3957\" ry=\"18\"/>\r\n",
       "<text text-anchor=\"middle\" x=\"601.046\" y=\"-14.3\" font-family=\"Times New Roman,serif\" font-size=\"14.00\">Maps</text>\r\n",
       "</g>\r\n",
       "<!-- display&#45;&gt;Maps -->\r\n",
       "<g id=\"edge18\" class=\"edge\"><title>display&#45;&gt;Maps</title>\r\n",
       "<path fill=\"none\" stroke=\"black\" d=\"M455.639,-78.0254C482.37,-67.3694 524.034,-50.6949 560.046,-36 562.273,-35.0911 564.567,-34.1511 566.878,-33.2011\"/>\r\n",
       "<polygon fill=\"black\" stroke=\"black\" points=\"568.439,-36.3431 576.348,-29.2931 565.769,-29.8723 568.439,-36.3431\"/>\r\n",
       "</g>\r\n",
       "<!-- ... -->\r\n",
       "<g id=\"node19\" class=\"node\"><title>...</title>\r\n",
       "<ellipse fill=\"none\" stroke=\"black\" cx=\"677.046\" cy=\"-18\" rx=\"27\" ry=\"18\"/>\r\n",
       "<text text-anchor=\"middle\" x=\"677.046\" y=\"-14.3\" font-family=\"Times New Roman,serif\" font-size=\"14.00\">...</text>\r\n",
       "</g>\r\n",
       "<!-- display&#45;&gt;... -->\r\n",
       "<g id=\"edge19\" class=\"edge\"><title>display&#45;&gt;...</title>\r\n",
       "<path fill=\"none\" stroke=\"black\" d=\"M461.484,-82.8091C503.944,-74.4668 579.13,-58.078 641.046,-36 642.95,-35.321 644.889,-34.5752 646.83,-33.7867\"/>\r\n",
       "<polygon fill=\"black\" stroke=\"black\" points=\"648.641,-36.8149 656.4,-29.6009 645.836,-30.4016 648.641,-36.8149\"/>\r\n",
       "</g>\r\n",
       "</g>\r\n",
       "</svg>\r\n"
      ],
      "text/plain": [
       "<graphviz.files.Source at 0x1a94b991470>"
      ]
     },
     "metadata": {},
     "output_type": "display_data"
    }
   ],
   "source": [
    "# Generating Computational Essays is a Complex Interactive Efffort\n",
    "\n",
    "    \"\"\"digraph {\n",
    "        Literacy -> {\n",
    "            Textual Computational\n",
    "        }\n",
    "        Textual -> {Markdown Latex}\n",
    "        subgraph cluster_repl {\n",
    "            label=\"REPL\"\n",
    "            read -> evaluate -> print -> loop -> read}\n",
    "        Computational->read\n",
    "        evaluate -> test read -> documentation print -> display loop -> interact\n",
    "        display -> {HTML Images Videos Sound Maps \"...\"}\n",
    "    }\"\"\"\n",
    "    \n",
    "> [Jupyter Renderers](https://github.com/jupyterlab/jupyter-renderers)"
   ]
  },
  {
   "cell_type": "code",
   "execution_count": 74,
   "metadata": {},
   "outputs": [
    {
     "data": {
      "text/markdown": [
       "# Deathbeds\n",
       "\n",
       "Deathbeds is a notebook driven blog with reusable components to incrementally build new units.\n",
       "    \n",
       "    \"\"\"http://deathbeds.github.io\"\"\"\n"
      ],
      "text/plain": [
       "<IPython.core.display.Markdown object>"
      ]
     },
     "metadata": {},
     "output_type": "display_data"
    },
    {
     "data": {
      "text/html": [
       "\n",
       "        <iframe\n",
       "            width=\"100%\"\n",
       "            height=\"450\"\n",
       "            src=\"http://deathbeds.github.io\"\n",
       "            frameborder=\"0\"\n",
       "            allowfullscreen\n",
       "        ></iframe>\n",
       "        "
      ],
      "text/plain": [
       "<IPython.lib.display.IFrame at 0x1a94bbf4940>"
      ]
     },
     "metadata": {},
     "output_type": "display_data"
    }
   ],
   "source": [
    "# Deathbeds\n",
    "\n",
    "Deathbeds is a notebook driven blog with reusable components to incrementally build new units.\n",
    "    \n",
    "    \"\"\"http://deathbeds.github.io\"\"\""
   ]
  },
  {
   "cell_type": "code",
   "execution_count": 75,
   "metadata": {},
   "outputs": [
    {
     "data": {
      "text/markdown": [
       "    \"\"\"http://nytlabs.com/blog/2015/10/20/particles#summarization-and-synthesis\"\"\"\n"
      ],
      "text/plain": [
       "<IPython.core.display.Markdown object>"
      ]
     },
     "metadata": {},
     "output_type": "display_data"
    },
    {
     "data": {
      "text/html": [
       "\n",
       "        <iframe\n",
       "            width=\"100%\"\n",
       "            height=\"450\"\n",
       "            src=\"http://nytlabs.com/blog/2015/10/20/particles#summarization-and-synthesis\"\n",
       "            frameborder=\"0\"\n",
       "            allowfullscreen\n",
       "        ></iframe>\n",
       "        "
      ],
      "text/plain": [
       "<IPython.lib.display.IFrame at 0x1a94b98ac50>"
      ]
     },
     "metadata": {},
     "output_type": "display_data"
    }
   ],
   "source": [
    "    \"\"\"http://nytlabs.com/blog/2015/10/20/particles#summarization-and-synthesis\"\"\""
   ]
  },
  {
   "cell_type": "markdown",
   "metadata": {},
   "source": [
    "    df = λ.Path().attrgetter('parent').Path.glob('[0-9]*.ipynb').take(5).map(\n",
    "        λ[λ.identity(), λ.🐼.read_json(typ='Series')]\n",
    "    ).dict().🐼.concat()(__import__('deathbeds').__file__).reorder_levels((1, 0)).loc['cells'].apply(λ.🐼.Series()).stack().apply(λ.🐼.Series())\n",
    "\n",
    "    df['cell_type'].groupby(df.index.get_level_values(0)).value_counts().unstack(-1)"
   ]
  },
  {
   "cell_type": "code",
   "execution_count": 2,
   "metadata": {},
   "outputs": [
    {
     "data": {
      "text/markdown": [
       "    \"\"\"http://nbviewer.jupyter.org/github/deathbeds/importnb/blob/master/readme.ipynb\"\"\"\n"
      ],
      "text/plain": [
       "<IPython.core.display.Markdown object>"
      ]
     },
     "metadata": {},
     "output_type": "display_data"
    },
    {
     "data": {
      "text/html": [
       "\n",
       "        <iframe\n",
       "            width=\"100%\"\n",
       "            height=\"450\"\n",
       "            src=\"http://nbviewer.jupyter.org/github/deathbeds/importnb/blob/master/readme.ipynb\"\n",
       "            frameborder=\"0\"\n",
       "            allowfullscreen\n",
       "        ></iframe>\n",
       "        "
      ],
      "text/plain": [
       "<IPython.lib.display.IFrame at 0x1a94634fa58>"
      ]
     },
     "metadata": {},
     "output_type": "display_data"
    }
   ],
   "source": [
    "    \"\"\"http://nbviewer.jupyter.org/github/deathbeds/importnb/blob/master/readme.ipynb\"\"\""
   ]
  },
  {
   "cell_type": "code",
   "execution_count": 3,
   "metadata": {},
   "outputs": [
    {
     "data": {
      "text/markdown": [
       "## What assumptions can we make about notebooks?\n",
       "\n",
       "* They are available.\n",
       "            \n",
       "        f = λ.Path().Path.glob('*.ipynb') \n",
       "    \n",
       "\n",
       "* They are `nbformat`\n",
       "\n",
       "        #qgrid needs to get working\n",
       "        f / {λ.identity(): λ.🐼.read_json(typ='Series')} \n",
       "        df = f.merge().🐼.concat()().unstack(-1).cells.apply(λ.🐼.Series()).stack().apply(λ.🐼.Series()); df.sample(3)\n",
       "        \n",
       "* They are data.\n",
       "\n",
       "        \"\"\"http://nbviewer.jupyter.org/github/deathbeds/deathbeds.github.io/blob/master/deathbeds/2018-08-04-Notebooks-as-Tidy-DX.ipynb\"\"\"\n"
      ],
      "text/plain": [
       "<IPython.core.display.Markdown object>"
      ]
     },
     "metadata": {},
     "output_type": "display_data"
    },
    {
     "data": {
      "text/html": [
       "\n",
       "        <iframe\n",
       "            width=\"100%\"\n",
       "            height=\"450\"\n",
       "            src=\"http://nbviewer.jupyter.org/github/deathbeds/deathbeds.github.io/blob/master/deathbeds/2018-08-04-Notebooks-as-Tidy-DX.ipynb\"\n",
       "            frameborder=\"0\"\n",
       "            allowfullscreen\n",
       "        ></iframe>\n",
       "        "
      ],
      "text/plain": [
       "<IPython.lib.display.IFrame at 0x1a94a8d1ba8>"
      ]
     },
     "metadata": {},
     "output_type": "display_data"
    }
   ],
   "source": [
    "## What assumptions can we make about notebooks?\n",
    "\n",
    "* They are available.\n",
    "            \n",
    "        f = λ.Path().Path.glob('*.ipynb') \n",
    "    \n",
    "\n",
    "* They are `nbformat`\n",
    "\n",
    "        #qgrid needs to get working\n",
    "        f / {λ.identity(): λ.🐼.read_json(typ='Series')} \n",
    "        df = f.merge().🐼.concat()().unstack(-1).cells.apply(λ.🐼.Series()).stack().apply(λ.🐼.Series()); df.sample(3)\n",
    "        \n",
    "* They are data.\n",
    "\n",
    "        \"\"\"http://nbviewer.jupyter.org/github/deathbeds/deathbeds.github.io/blob/master/deathbeds/2018-08-04-Notebooks-as-Tidy-DX.ipynb\"\"\""
   ]
  },
  {
   "cell_type": "code",
   "execution_count": 76,
   "metadata": {},
   "outputs": [
    {
     "data": {
      "text/markdown": [
       "paco\n"
      ],
      "text/plain": [
       "<IPython.core.display.Markdown object>"
      ]
     },
     "metadata": {},
     "output_type": "display_data"
    }
   ],
   "source": [
    "paco"
   ]
  },
  {
   "cell_type": "code",
   "execution_count": 4,
   "metadata": {},
   "outputs": [
    {
     "data": {
      "text/markdown": [
       "* More than one UI can view it.\n",
       "    * [notebook]()\n",
       "    * [nteract]()\n",
       "    * [lab]\n",
       "    * [nbviewer]\n",
       "    * [binder]\n",
       "    * [cocalc]\n",
       "    * [colab]\n",
       "    * [github]\n",
       "\n",
       "* Trust\n",
       "* The dependencies are reproducible.\n"
      ],
      "text/plain": [
       "<IPython.core.display.Markdown object>"
      ]
     },
     "metadata": {},
     "output_type": "display_data"
    }
   ],
   "source": [
    "* More than one UI can view it.\n",
    "    * [notebook]()\n",
    "    * [nteract]()\n",
    "    * [lab]\n",
    "    * [nbviewer]\n",
    "    * [binder]\n",
    "    * [cocalc]\n",
    "    * [colab]\n",
    "    * [github]\n",
    "\n",
    "* Trust\n",
    "* The dependencies are reproducible."
   ]
  },
  {
   "cell_type": "code",
   "execution_count": 44,
   "metadata": {},
   "outputs": [
    {
     "data": {
      "text/markdown": [
       "# Hypothesis testing and the scientific method\n",
       "\n",
       "### Define a question\n",
       "### Gather information and resources\n",
       "### Form an explanatory hypothesis\n",
       "### Test the hypothesis by performing an experiment and collecting data in a reproducible manner\n",
       "### Analyze the data\n",
       "### Interpret the data and draw conclusions that serve as a starting point for new hypothesis\n",
       "### Publish results\n",
       "### Retest\n"
      ],
      "text/plain": [
       "<IPython.core.display.Markdown object>"
      ]
     },
     "metadata": {},
     "output_type": "display_data"
    }
   ],
   "source": [
    "# Hypothesis testing and the scientific method\n",
    "\n",
    "### Define a question\n",
    "### Gather information and resources\n",
    "### Form an explanatory hypothesis\n",
    "### Test the hypothesis by performing an experiment and collecting data in a reproducible manner\n",
    "### Analyze the data\n",
    "### Interpret the data and draw conclusions that serve as a starting point for new hypothesis\n",
    "### Publish results\n",
    "### Retest"
   ]
  },
  {
   "cell_type": "markdown",
   "metadata": {},
   "source": [
    "# We can't assume they are computable\n",
    "\n",
    "But they are **reusable** because computational essays are readable.\n",
    "\n",
    "Code adds computational facts and knowledge to human text."
   ]
  },
  {
   "cell_type": "markdown",
   "metadata": {},
   "source": [
    "# Literacy\n",
    "\n",
    "Textual computational literacy"
   ]
  },
  {
   "cell_type": "markdown",
   "metadata": {},
   "source": [
    "`pytest` importnb plugin"
   ]
  }
 ],
 "metadata": {
  "kernelspec": {
   "display_name": "Python 3",
   "language": "python",
   "name": "python3"
  },
  "language_info": {
   "codemirror_mode": {
    "name": "ipython",
    "version": 3
   },
   "file_extension": ".py",
   "mimetype": "text/x-python",
   "name": "python",
   "nbconvert_exporter": "python",
   "pygments_lexer": "ipython3",
   "version": "3.6.5"
  }
 },
 "nbformat": 4,
 "nbformat_minor": 2
}
