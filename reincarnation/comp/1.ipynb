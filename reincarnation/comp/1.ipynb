{
 "cells": [
  {
   "cell_type": "markdown",
   "metadata": {},
   "source": [
    "# Literacy + Reproducibility = Reusability"
   ]
  },
  {
   "cell_type": "code",
   "execution_count": 2,
   "metadata": {},
   "outputs": [
    {
     "data": {
      "text/html": [
       "<style>\n",
       ".jp-mod-presentationMode {\n",
       "    --jp-notebook-padding: 0;\n",
       "}\n",
       ".jp-RenderedHTMLCommon pre code {\n",
       "    opacity: 0.25;\n",
       "}\n",
       ".jp-Placeholder-content .jp-MoreHorizIcon {\n",
       "    background-size: 32px;\n",
       "}\n",
       "</style><style>\n",
       ".jp-mod-presentationMode .jp-SideBar,\n",
       ".jp-mod-presentationMode #jp-top-panel {\n",
       "    opacity: 0.0;\n",
       "    transition: all 0.2s;\n",
       "}\n",
       ".jp-mod-presentationMode .jp-SideBar:hover,\n",
       ".jp-mod-presentationMode #jp-top-panel:hover {\n",
       "    opacity: 0.9;\n",
       "    transition: all 0.2s;\n",
       "}</style><style>\n",
       ".jp-mod-presentationMode.jp-ApplicationShell,\n",
       ".jp-mod-presentationMode .p-TabBar-content{\n",
       "    background-color: var(--jp-layout-color0);\n",
       "}\n",
       "</style><style>\n",
       ".jp-mod-presentationMode .p-DockPanel-widget,\n",
       ".jp-mod-presentationMode #jp-left-stack{\n",
       "    border-color: transparent;\n",
       "}\n",
       ".jp-mod-presentationMode .jp-Toolbar-item,\n",
       ".jp-mod-presentationMode .jp-Toolbar {\n",
       "    opacity: 0.1;\n",
       "    transition: all 0.2s;\n",
       "}\n",
       ".jp-mod-presentationMode .jp-Toolbar-item:hover,\n",
       ".jp-mod-presentationMode .jp-Toolbar:hover {\n",
       "    opacity: 0.9;\n",
       "    transition: all 0.2s;\n",
       "}\n",
       "\n",
       ".jp-mod-presentationMode .jp-InputArea {\n",
       "    flex-direction: column;\n",
       "}\n",
       "\n",
       "</style><style>\n",
       ".jp-mod-presentationMode .jp-Notebook .jp-Cell .jp-InputPrompt, \n",
       ".jp-mod-presentationMode .jp-Notebook .jp-Cell .jp-OutputPrompt {\n",
       "    flex: 0 0 2rem !important;\n",
       "    opacity: 0;\n",
       "}\n",
       ".jp-mod-presentationMode .jp-Notebook .jp-Cell.jp-mod-active .jp-OutputPrompt,\n",
       ".jp-mod-presentationMode .jp-Notebook .jp-Cell.jp-mod-active .jp-OutputPrompt {\n",
       "    opacity: 0.5;\n",
       "}\n",
       ".jp-mod-presentationMode .jp-Notebook .jp-Cell .jp-InputPrompt, \n",
       ".jp-mod-presentationMode .jp-Notebook .jp-Cell .jp-OutputPrompt\n",
       "\n",
       ".jp-mod-presentationMode hr {\n",
       "    opacity: 0.1;\n",
       "}\n",
       "</style>\n",
       "    <style>\n",
       "    .jp-TableOfContents-content h1, \n",
       "    .jp-TableOfContents-content h2 {\n",
       "        margin-bottom: var(--jp-ui-font-size0);\n",
       "    }\n",
       "    </style>\n",
       "    \n",
       "    <style>\n",
       "    .jp-mod-presentationMode {\n",
       "        --jp-content-heading-line-height: 1.25 !important;\n",
       "    }\n",
       "    </style>\n",
       "    "
      ],
      "text/plain": [
       "<IPython.core.display.HTML object>"
      ]
     },
     "metadata": {},
     "output_type": "display_data"
    },
    {
     "data": {
      "text/html": [
       "\n",
       "<style>\n",
       ".flexed-container {display: flex; margin: 1em}\n",
       ".flexed-container.flexed-row {flex-direction: row;}\n",
       ".flexed-container.flexed-column {flex-direction: column;}\n",
       ".flexed-container iframe {min-width: 350px;}\n",
       ".flexed-item {order: 0; margin: !em}\n",
       "</style>"
      ],
      "text/plain": [
       "<IPython.core.display.HTML object>"
      ]
     },
     "metadata": {},
     "output_type": "display_data"
    }
   ],
   "source": [
    "%reload_ext reincarnation"
   ]
  },
  {
   "cell_type": "code",
   "execution_count": 34,
   "metadata": {},
   "outputs": [],
   "source": [
    "rrr = \"\"\"digraph {rankdir=TB readable -> reproducible -> reusable -> readable }\"\"\""
   ]
  },
  {
   "cell_type": "code",
   "execution_count": 35,
   "metadata": {},
   "outputs": [],
   "source": [
    "tech_rrr = \"\"\"digraph {\n",
    "    subgraph cluster_lit{\n",
    "        label=Literacies\n",
    "        readable -> reproducible -> reusable -> readable \n",
    "        subgraph cluster_text {label=Textual readable nbconvert nbviewer github}\n",
    "        subgraph cluster_procedural {label=Procedural reusable notebook lab nteract}\n",
    "        subgraph cluster_computational {label=Computational reproducible nbformat}\n",
    "    }\n",
    "}\"\"\""
   ]
  },
  {
   "cell_type": "code",
   "execution_count": 36,
   "metadata": {},
   "outputs": [],
   "source": [
    "interactive_rrr = ' '.join(\"\"\"digraph {\n",
    "    rankdir=LR\n",
    "    subgraph cluster_lit{\n",
    "        label=Literacies\n",
    "        readable -> reproducible -> reusable -> readable \n",
    "        subgraph cluster_text {label=Input readable}\n",
    "        subgraph cluster_procedural {label=Output reusable}\n",
    "        subgraph cluster_computational {label=Compute reproducible}\n",
    "    }\n",
    "}\"\"\".splitlines())"
   ]
  },
  {
   "cell_type": "code",
   "execution_count": 37,
   "metadata": {},
   "outputs": [],
   "source": [
    "lit_rrr = ' '.join(\"\"\"digraph {\n",
    "    rankdir=LR\n",
    "    subgraph cluster_lit{\n",
    "        label=Literacies\n",
    "        readable -> reproducible -> reusable -> readable \n",
    "        subgraph cluster_text {label=Textual readable}\n",
    "        subgraph cluster_procedural {label=Procedural reusable}\n",
    "        subgraph cluster_computational {label=Computational reproducible}\n",
    "    }\n",
    "}\"\"\".splitlines())"
   ]
  },
  {
   "cell_type": "code",
   "execution_count": 38,
   "metadata": {},
   "outputs": [
    {
     "data": {
      "text/html": [
       "<div class=\"flexed-container flexed-row\"><div class=\"flexed-item\" style=\"order: 0;\"><?xml version=\"1.0\" encoding=\"UTF-8\" standalone=\"no\"?>\n",
       "<!DOCTYPE svg PUBLIC \"-//W3C//DTD SVG 1.1//EN\"\n",
       " \"http://www.w3.org/Graphics/SVG/1.1/DTD/svg11.dtd\">\n",
       "<!-- Generated by graphviz version 2.38.0 (20140413.2041)\n",
       " -->\n",
       "<!-- Title: %3 Pages: 1 -->\n",
       "<svg width=\"179pt\" height=\"188pt\"\n",
       " viewBox=\"0.00 0.00 178.54 188.00\" xmlns=\"http://www.w3.org/2000/svg\" xmlns:xlink=\"http://www.w3.org/1999/xlink\">\n",
       "<g id=\"graph0\" class=\"graph\" transform=\"scale(1 1) rotate(0) translate(4 184)\">\n",
       "<title>%3</title>\n",
       "<polygon fill=\"white\" stroke=\"none\" points=\"-4,4 -4,-184 174.539,-184 174.539,4 -4,4\"/>\n",
       "<!-- readable -->\n",
       "<g id=\"node1\" class=\"node\"><title>readable</title>\n",
       "<ellipse fill=\"none\" stroke=\"black\" cx=\"119.194\" cy=\"-162\" rx=\"51.1914\" ry=\"18\"/>\n",
       "<text text-anchor=\"middle\" x=\"119.194\" y=\"-158.3\" font-family=\"Times,serif\" font-size=\"14.00\">readable</text>\n",
       "</g>\n",
       "<!-- reproducible -->\n",
       "<g id=\"node2\" class=\"node\"><title>reproducible</title>\n",
       "<ellipse fill=\"none\" stroke=\"black\" cx=\"70.1938\" cy=\"-90\" rx=\"70.3881\" ry=\"18\"/>\n",
       "<text text-anchor=\"middle\" x=\"70.1938\" y=\"-86.3\" font-family=\"Times,serif\" font-size=\"14.00\">reproducible</text>\n",
       "</g>\n",
       "<!-- readable&#45;&gt;reproducible -->\n",
       "<g id=\"edge1\" class=\"edge\"><title>readable&#45;&gt;reproducible</title>\n",
       "<path fill=\"none\" stroke=\"black\" d=\"M107.581,-144.411C101.688,-135.992 94.4033,-125.585 87.8343,-116.201\"/>\n",
       "<polygon fill=\"black\" stroke=\"black\" points=\"90.6651,-114.141 82.0631,-107.956 84.9305,-118.156 90.6651,-114.141\"/>\n",
       "</g>\n",
       "<!-- reusable -->\n",
       "<g id=\"node3\" class=\"node\"><title>reusable</title>\n",
       "<ellipse fill=\"none\" stroke=\"black\" cx=\"119.194\" cy=\"-18\" rx=\"50.8918\" ry=\"18\"/>\n",
       "<text text-anchor=\"middle\" x=\"119.194\" y=\"-14.3\" font-family=\"Times,serif\" font-size=\"14.00\">reusable</text>\n",
       "</g>\n",
       "<!-- reproducible&#45;&gt;reusable -->\n",
       "<g id=\"edge2\" class=\"edge\"><title>reproducible&#45;&gt;reusable</title>\n",
       "<path fill=\"none\" stroke=\"black\" d=\"M82.0553,-72.055C87.8935,-63.7147 95.0502,-53.4908 101.518,-44.2517\"/>\n",
       "<polygon fill=\"black\" stroke=\"black\" points=\"104.574,-45.9885 107.441,-35.789 98.8395,-41.9742 104.574,-45.9885\"/>\n",
       "</g>\n",
       "<!-- reusable&#45;&gt;readable -->\n",
       "<g id=\"edge3\" class=\"edge\"><title>reusable&#45;&gt;readable</title>\n",
       "<path fill=\"none\" stroke=\"black\" d=\"M131.609,-35.6845C138.247,-45.6627 145.747,-58.9127 149.194,-72 153.269,-87.4723 153.269,-92.5277 149.194,-108 146.662,-117.611 141.945,-127.31 136.989,-135.736\"/>\n",
       "<polygon fill=\"black\" stroke=\"black\" points=\"133.956,-133.984 131.609,-144.316 139.886,-137.703 133.956,-133.984\"/>\n",
       "</g>\n",
       "</g>\n",
       "</svg>\n",
       "</div><div class=\"flexed-item\" style=\"order: 0;\">\n",
       "        <iframe\n",
       "            width=\"500\"\n",
       "            height=\"450\"\n",
       "            src=\"http://gael-varoquaux.info/programming/of-software-and-science-reproducible-science-what-why-and-how.html\"\n",
       "            frameborder=\"0\"\n",
       "            allowfullscreen\n",
       "        ></iframe>\n",
       "        </div></div>"
      ],
      "text/plain": [
       "Row(content=['digraph {rankdir=TB readable -> reproducible -> reusable -> readable }', 'http://gael-varoquaux.info/programming/of-software-and-science-reproducible-science-what-why-and-how.html'])"
      ]
     },
     "metadata": {},
     "output_type": "display_data"
    }
   ],
   "source": [
    "    F\"\"\"- {rrr}\n",
    "    - http://gael-varoquaux.info/programming/of-software-and-science-reproducible-science-what-why-and-how.html\"\"\""
   ]
  },
  {
   "cell_type": "code",
   "execution_count": 8,
   "metadata": {},
   "outputs": [],
   "source": [
    "textual = \"\"\"\n",
    "- - |\n",
    "    # Literacy Makes Programming a Human Problem\n",
    "\n",
    "    > _Computational literacy builds on textual literacy because it entails textual writing and reading, but it is also quite distinct from textual literacy. In programming, one must \n",
    "    build structures out of explicitly defined components. As Wittgenstein argued, human language works differently: not through explicit definitions, but through use and exchange._\n",
    "    >> [Annette Vee - Understanding Computer programming as a Literacy](http://licsjournal.org/OJS/index.php/LiCS/article/view/24/26)\n",
    "  - html: \n",
    "        src: http://licsjournal.org/OJS/index.php/LiCS/article/view/24/26#\n",
    "        width: 100%\n",
    "    \n",
    "\"\"\"\n",
    "    "
   ]
  },
  {
   "cell_type": "code",
   "execution_count": 43,
   "metadata": {},
   "outputs": [],
   "source": [
    "computational = \"\"\"\n",
    "- - \"### Computational Literacy\"\n",
    "  - html: https://en.m.wikipedia.org/wiki/Guido_van_Rossum#Computer_Programming_for_Everybody\n",
    "  - |\n",
    "    > ### We compare mass ability to read and write so ware with mass literacy, and predict equally pervasive changes to society. Hardware is now sufficiently fast and cheap to make mass computer education possible: the next big change will happen when most computer users have the knowledge and power to create and modify software.\n",
    "    > > ## Guido van Rossum, from [a 1999 DARPA grant application to support the teaching of computer programming.](https://www.python.org/doc/essays/cp4e/)\n",
    "\n",
    "\"\"\""
   ]
  },
  {
   "cell_type": "code",
   "execution_count": 44,
   "metadata": {},
   "outputs": [],
   "source": [
    "    procedural = F\"\"\"\n",
    "    - - {rrr}\n",
    "      - |\n",
    "        # Reusability is procedural literacy\n",
    "\n",
    "        > ... procedural literacy entails the ability to reconfigure basic concepts and rules to understand and solve problems, not just on the computer, but in general.\n",
    "        >> [Ian Bogost - Procedural Literacy: Problem Solving with Programming, Systems, & Play](http://bogost.com/downloads/I.%20Bogost%20Procedural%20Literacy.pdf)\n",
    "    \"\"\""
   ]
  },
  {
   "cell_type": "code",
   "execution_count": 45,
   "metadata": {},
   "outputs": [
    {
     "data": {
      "image/svg+xml": [
       "<?xml version=\"1.0\" encoding=\"UTF-8\" standalone=\"no\"?>\n",
       "<!DOCTYPE svg PUBLIC \"-//W3C//DTD SVG 1.1//EN\"\n",
       " \"http://www.w3.org/Graphics/SVG/1.1/DTD/svg11.dtd\">\n",
       "<!-- Generated by graphviz version 2.38.0 (20140413.2041)\n",
       " -->\n",
       "<!-- Title: %3 Pages: 1 -->\n",
       "<svg width=\"472pt\" height=\"148pt\"\n",
       " viewBox=\"0.00 0.00 472.47 148.00\" xmlns=\"http://www.w3.org/2000/svg\" xmlns:xlink=\"http://www.w3.org/1999/xlink\">\n",
       "<g id=\"graph0\" class=\"graph\" transform=\"scale(1 1) rotate(0) translate(4 144)\">\n",
       "<title>%3</title>\n",
       "<polygon fill=\"white\" stroke=\"none\" points=\"-4,4 -4,-144 468.469,-144 468.469,4 -4,4\"/>\n",
       "<g id=\"clust1\" class=\"cluster\"><title>cluster_lit</title>\n",
       "<polygon fill=\"none\" stroke=\"black\" points=\"8,-8 8,-132 456.469,-132 456.469,-8 8,-8\"/>\n",
       "<text text-anchor=\"middle\" x=\"232.235\" y=\"-116.8\" font-family=\"Times,serif\" font-size=\"14.00\">Literacies</text>\n",
       "</g>\n",
       "<g id=\"clust2\" class=\"cluster\"><title>cluster_text</title>\n",
       "<polygon fill=\"none\" stroke=\"black\" points=\"16,-21 16,-96 134.691,-96 134.691,-21 16,-21\"/>\n",
       "<text text-anchor=\"middle\" x=\"75.3454\" y=\"-80.8\" font-family=\"Times,serif\" font-size=\"14.00\">Textual</text>\n",
       "</g>\n",
       "<g id=\"clust3\" class=\"cluster\"><title>cluster_procedural</title>\n",
       "<polygon fill=\"none\" stroke=\"black\" points=\"331.078,-21 331.078,-96 448.469,-96 448.469,-21 331.078,-21\"/>\n",
       "<text text-anchor=\"middle\" x=\"389.774\" y=\"-80.8\" font-family=\"Times,serif\" font-size=\"14.00\">Procedural</text>\n",
       "</g>\n",
       "<g id=\"clust4\" class=\"cluster\"><title>cluster_computational</title>\n",
       "<polygon fill=\"none\" stroke=\"black\" points=\"154.691,-16 154.691,-91 311.078,-91 311.078,-16 154.691,-16\"/>\n",
       "<text text-anchor=\"middle\" x=\"232.885\" y=\"-75.8\" font-family=\"Times,serif\" font-size=\"14.00\">Computational</text>\n",
       "</g>\n",
       "<!-- readable -->\n",
       "<g id=\"node1\" class=\"node\"><title>readable</title>\n",
       "<ellipse fill=\"none\" stroke=\"black\" cx=\"75.3454\" cy=\"-47\" rx=\"51.1914\" ry=\"18\"/>\n",
       "<text text-anchor=\"middle\" x=\"75.3454\" y=\"-43.3\" font-family=\"Times,serif\" font-size=\"14.00\">readable</text>\n",
       "</g>\n",
       "<!-- reproducible -->\n",
       "<g id=\"node2\" class=\"node\"><title>reproducible</title>\n",
       "<ellipse fill=\"none\" stroke=\"black\" cx=\"232.885\" cy=\"-42\" rx=\"70.3881\" ry=\"18\"/>\n",
       "<text text-anchor=\"middle\" x=\"232.885\" y=\"-38.3\" font-family=\"Times,serif\" font-size=\"14.00\">reproducible</text>\n",
       "</g>\n",
       "<!-- readable&#45;&gt;reproducible -->\n",
       "<g id=\"edge1\" class=\"edge\"><title>readable&#45;&gt;reproducible</title>\n",
       "<path fill=\"none\" stroke=\"black\" d=\"M126.845,-45.3766C135.223,-45.1073 144.085,-44.8224 152.967,-44.5369\"/>\n",
       "<polygon fill=\"black\" stroke=\"black\" points=\"153.096,-48.0347 162.978,-44.2151 152.871,-41.0383 153.096,-48.0347\"/>\n",
       "</g>\n",
       "<!-- reusable -->\n",
       "<g id=\"node3\" class=\"node\"><title>reusable</title>\n",
       "<ellipse fill=\"none\" stroke=\"black\" cx=\"389.774\" cy=\"-47\" rx=\"50.8918\" ry=\"18\"/>\n",
       "<text text-anchor=\"middle\" x=\"389.774\" y=\"-43.3\" font-family=\"Times,serif\" font-size=\"14.00\">reusable</text>\n",
       "</g>\n",
       "<!-- reproducible&#45;&gt;reusable -->\n",
       "<g id=\"edge2\" class=\"edge\"><title>reproducible&#45;&gt;reusable</title>\n",
       "<path fill=\"none\" stroke=\"black\" d=\"M302.723,-44.2222C311.55,-44.5071 320.528,-44.7969 329.191,-45.0766\"/>\n",
       "<polygon fill=\"black\" stroke=\"black\" points=\"329.079,-48.5747 339.187,-45.3993 329.305,-41.5784 329.079,-48.5747\"/>\n",
       "</g>\n",
       "<!-- reusable&#45;&gt;readable -->\n",
       "<g id=\"edge3\" class=\"edge\"><title>reusable&#45;&gt;readable</title>\n",
       "<path fill=\"none\" stroke=\"black\" d=\"M368.843,-63.659C353.97,-74.9517 332.584,-88.8927 311.078,-95 244.217,-113.988 221.588,-113.863 154.691,-95 136.764,-89.945 118.892,-79.5154 104.753,-69.6656\"/>\n",
       "<polygon fill=\"black\" stroke=\"black\" points=\"106.617,-66.694 96.4658,-63.6609 102.51,-72.3625 106.617,-66.694\"/>\n",
       "</g>\n",
       "</g>\n",
       "</svg>\n"
      ],
      "text/plain": [
       "<graphviz.files.Source at 0x7f9b68114470>"
      ]
     },
     "metadata": {},
     "output_type": "display_data"
    }
   ],
   "source": [
    "F\"\"\"{lit_rrr}\"\"\""
   ]
  },
  {
   "cell_type": "code",
   "execution_count": 46,
   "metadata": {},
   "outputs": [
    {
     "data": {
      "text/html": [
       "<div class=\"flexed-container flexed-row\"><div class=\"flexed-container flexed-column\"><div class=\"flexed-item\" style=\"order: 0;\"><h1>Literacy Makes Programming a Human Problem</h1>\n",
       "<blockquote><p><em>Computational literacy builds on textual literacy because it entails textual writing and reading, but it is also quite distinct from textual literacy. In programming, one must \n",
       "build structures out of explicitly defined components. As Wittgenstein argued, human language works differently: not through explicit definitions, but through use and exchange.</em></p>\n",
       "<blockquote><p><a href=\"http://licsjournal.org/OJS/index.php/LiCS/article/view/24/26\">Annette Vee - Understanding Computer programming as a Literacy</a></p>\n",
       "</blockquote>\n",
       "</blockquote>\n",
       "</div><div class=\"flexed-item\" style=\"order: 0;\">\n",
       "        <iframe\n",
       "            width=\"100%\"\n",
       "            height=\"450\"\n",
       "            src=\"http://licsjournal.org/OJS/index.php/LiCS/article/view/24/26#\"\n",
       "            frameborder=\"0\"\n",
       "            allowfullscreen\n",
       "        ></iframe>\n",
       "        </div></div><div class=\"flexed-container flexed-column\"><div class=\"flexed-item\" style=\"order: 0;\"><h3>Computational Literacy</h3>\n",
       "</div><div class=\"flexed-item\" style=\"order: 0;\">\n",
       "        <iframe\n",
       "            width=\"500\"\n",
       "            height=\"450\"\n",
       "            src=\"https://en.m.wikipedia.org/wiki/Guido_van_Rossum#Computer_Programming_for_Everybody\"\n",
       "            frameborder=\"0\"\n",
       "            allowfullscreen\n",
       "        ></iframe>\n",
       "        </div><div class=\"flexed-item\" style=\"order: 0;\"><blockquote><h3>We compare mass ability to read and write so ware with mass literacy, and predict equally pervasive changes to society. Hardware is now sufficiently fast and cheap to make mass computer education possible: the next big change will happen when most computer users have the knowledge and power to create and modify software.</h3>\n",
       "<blockquote><h2>Guido van Rossum, from <a href=\"https://www.python.org/doc/essays/cp4e/\">a 1999 DARPA grant application to support the teaching of computer programming.</a></h2>\n",
       "</blockquote>\n",
       "</blockquote>\n",
       "</div></div><div class=\"flexed-container flexed-column\"><div class=\"flexed-item\" style=\"order: 0;\"><?xml version=\"1.0\" encoding=\"UTF-8\" standalone=\"no\"?>\n",
       "<!DOCTYPE svg PUBLIC \"-//W3C//DTD SVG 1.1//EN\"\n",
       " \"http://www.w3.org/Graphics/SVG/1.1/DTD/svg11.dtd\">\n",
       "<!-- Generated by graphviz version 2.38.0 (20140413.2041)\n",
       " -->\n",
       "<!-- Title: %3 Pages: 1 -->\n",
       "<svg width=\"179pt\" height=\"188pt\"\n",
       " viewBox=\"0.00 0.00 178.54 188.00\" xmlns=\"http://www.w3.org/2000/svg\" xmlns:xlink=\"http://www.w3.org/1999/xlink\">\n",
       "<g id=\"graph0\" class=\"graph\" transform=\"scale(1 1) rotate(0) translate(4 184)\">\n",
       "<title>%3</title>\n",
       "<polygon fill=\"white\" stroke=\"none\" points=\"-4,4 -4,-184 174.539,-184 174.539,4 -4,4\"/>\n",
       "<!-- readable -->\n",
       "<g id=\"node1\" class=\"node\"><title>readable</title>\n",
       "<ellipse fill=\"none\" stroke=\"black\" cx=\"119.194\" cy=\"-162\" rx=\"51.1914\" ry=\"18\"/>\n",
       "<text text-anchor=\"middle\" x=\"119.194\" y=\"-158.3\" font-family=\"Times,serif\" font-size=\"14.00\">readable</text>\n",
       "</g>\n",
       "<!-- reproducible -->\n",
       "<g id=\"node2\" class=\"node\"><title>reproducible</title>\n",
       "<ellipse fill=\"none\" stroke=\"black\" cx=\"70.1938\" cy=\"-90\" rx=\"70.3881\" ry=\"18\"/>\n",
       "<text text-anchor=\"middle\" x=\"70.1938\" y=\"-86.3\" font-family=\"Times,serif\" font-size=\"14.00\">reproducible</text>\n",
       "</g>\n",
       "<!-- readable&#45;&gt;reproducible -->\n",
       "<g id=\"edge1\" class=\"edge\"><title>readable&#45;&gt;reproducible</title>\n",
       "<path fill=\"none\" stroke=\"black\" d=\"M107.581,-144.411C101.688,-135.992 94.4033,-125.585 87.8343,-116.201\"/>\n",
       "<polygon fill=\"black\" stroke=\"black\" points=\"90.6651,-114.141 82.0631,-107.956 84.9305,-118.156 90.6651,-114.141\"/>\n",
       "</g>\n",
       "<!-- reusable -->\n",
       "<g id=\"node3\" class=\"node\"><title>reusable</title>\n",
       "<ellipse fill=\"none\" stroke=\"black\" cx=\"119.194\" cy=\"-18\" rx=\"50.8918\" ry=\"18\"/>\n",
       "<text text-anchor=\"middle\" x=\"119.194\" y=\"-14.3\" font-family=\"Times,serif\" font-size=\"14.00\">reusable</text>\n",
       "</g>\n",
       "<!-- reproducible&#45;&gt;reusable -->\n",
       "<g id=\"edge2\" class=\"edge\"><title>reproducible&#45;&gt;reusable</title>\n",
       "<path fill=\"none\" stroke=\"black\" d=\"M82.0553,-72.055C87.8935,-63.7147 95.0502,-53.4908 101.518,-44.2517\"/>\n",
       "<polygon fill=\"black\" stroke=\"black\" points=\"104.574,-45.9885 107.441,-35.789 98.8395,-41.9742 104.574,-45.9885\"/>\n",
       "</g>\n",
       "<!-- reusable&#45;&gt;readable -->\n",
       "<g id=\"edge3\" class=\"edge\"><title>reusable&#45;&gt;readable</title>\n",
       "<path fill=\"none\" stroke=\"black\" d=\"M131.609,-35.6845C138.247,-45.6627 145.747,-58.9127 149.194,-72 153.269,-87.4723 153.269,-92.5277 149.194,-108 146.662,-117.611 141.945,-127.31 136.989,-135.736\"/>\n",
       "<polygon fill=\"black\" stroke=\"black\" points=\"133.956,-133.984 131.609,-144.316 139.886,-137.703 133.956,-133.984\"/>\n",
       "</g>\n",
       "</g>\n",
       "</svg>\n",
       "</div><div class=\"flexed-item\" style=\"order: 0;\"><h1>Reusability is procedural literacy</h1>\n",
       "<blockquote><p>... procedural literacy entails the ability to reconfigure basic concepts and rules to understand and solve problems, not just on the computer, but in general.</p>\n",
       "<blockquote><p><a href=\"http://bogost.com/downloads/I.%20Bogost%20Procedural%20Literacy.pdf\">Ian Bogost - Procedural Literacy: Problem Solving with Programming, Systems, &amp; Play</a></p>\n",
       "</blockquote>\n",
       "</blockquote>\n",
       "</div></div></div>"
      ],
      "text/plain": [
       "Row(content=[['# Literacy Makes Programming a Human Problem\\n> _Computational literacy builds on textual literacy because it entails textual writing and reading, but it is also quite distinct from textual literacy. In programming, one must \\nbuild structures out of explicitly defined components. As Wittgenstein argued, human language works differently: not through explicit definitions, but through use and exchange._\\n>> [Annette Vee - Understanding Computer programming as a Literacy](http://licsjournal.org/OJS/index.php/LiCS/article/view/24/26)\\n', {'html': {'src': 'http://licsjournal.org/OJS/index.php/LiCS/article/view/24/26#', 'width': '100%'}}], ['### Computational Literacy', {'html': 'https://en.m.wikipedia.org/wiki/Guido_van_Rossum#Computer_Programming_for_Everybody'}, '> ### We compare mass ability to read and write so ware with mass literacy, and predict equally pervasive changes to society. Hardware is now sufficiently fast and cheap to make mass computer education possible: the next big change will happen when most computer users have the knowledge and power to create and modify software.\\n> > ## Guido van Rossum, from [a 1999 DARPA grant application to support the teaching of computer programming.](https://www.python.org/doc/essays/cp4e/)\\n'], ['digraph {rankdir=TB readable -> reproducible -> reusable -> readable }', '# Reusability is procedural literacy\\n> ... procedural literacy entails the ability to reconfigure basic concepts and rules to understand and solve problems, not just on the computer, but in general.\\n>> [Ian Bogost - Procedural Literacy: Problem Solving with Programming, Systems, & Play](http://bogost.com/downloads/I.%20Bogost%20Procedural%20Literacy.pdf)\\n']])"
      ]
     },
     "metadata": {},
     "output_type": "display_data"
    }
   ],
   "source": [
    "F\"\"\"\n",
    "{textual}\n",
    "{computational}\n",
    "{procedural}\n",
    "\"\"\""
   ]
  },
  {
   "cell_type": "code",
   "execution_count": 50,
   "metadata": {},
   "outputs": [
    {
     "data": {
      "text/html": [
       "<div class=\"flexed-container flexed-row\"><div class=\"flexed-item\" style=\"order: 0;\"><h2>Notebook authors can create</h2>\n",
       "</div><div class=\"flexed-item\" style=\"order: 0;\"><?xml version=\"1.0\" encoding=\"UTF-8\" standalone=\"no\"?>\n",
       "<!DOCTYPE svg PUBLIC \"-//W3C//DTD SVG 1.1//EN\"\n",
       " \"http://www.w3.org/Graphics/SVG/1.1/DTD/svg11.dtd\">\n",
       "<!-- Generated by graphviz version 2.38.0 (20140413.2041)\n",
       " -->\n",
       "<!-- Title: %3 Pages: 1 -->\n",
       "<svg width=\"179pt\" height=\"188pt\"\n",
       " viewBox=\"0.00 0.00 178.54 188.00\" xmlns=\"http://www.w3.org/2000/svg\" xmlns:xlink=\"http://www.w3.org/1999/xlink\">\n",
       "<g id=\"graph0\" class=\"graph\" transform=\"scale(1 1) rotate(0) translate(4 184)\">\n",
       "<title>%3</title>\n",
       "<polygon fill=\"white\" stroke=\"none\" points=\"-4,4 -4,-184 174.539,-184 174.539,4 -4,4\"/>\n",
       "<!-- readable -->\n",
       "<g id=\"node1\" class=\"node\"><title>readable</title>\n",
       "<ellipse fill=\"none\" stroke=\"black\" cx=\"119.194\" cy=\"-162\" rx=\"51.1914\" ry=\"18\"/>\n",
       "<text text-anchor=\"middle\" x=\"119.194\" y=\"-158.3\" font-family=\"Times,serif\" font-size=\"14.00\">readable</text>\n",
       "</g>\n",
       "<!-- reproducible -->\n",
       "<g id=\"node2\" class=\"node\"><title>reproducible</title>\n",
       "<ellipse fill=\"none\" stroke=\"black\" cx=\"70.1938\" cy=\"-90\" rx=\"70.3881\" ry=\"18\"/>\n",
       "<text text-anchor=\"middle\" x=\"70.1938\" y=\"-86.3\" font-family=\"Times,serif\" font-size=\"14.00\">reproducible</text>\n",
       "</g>\n",
       "<!-- readable&#45;&gt;reproducible -->\n",
       "<g id=\"edge1\" class=\"edge\"><title>readable&#45;&gt;reproducible</title>\n",
       "<path fill=\"none\" stroke=\"black\" d=\"M107.581,-144.411C101.688,-135.992 94.4033,-125.585 87.8343,-116.201\"/>\n",
       "<polygon fill=\"black\" stroke=\"black\" points=\"90.6651,-114.141 82.0631,-107.956 84.9305,-118.156 90.6651,-114.141\"/>\n",
       "</g>\n",
       "<!-- reusable -->\n",
       "<g id=\"node3\" class=\"node\"><title>reusable</title>\n",
       "<ellipse fill=\"none\" stroke=\"black\" cx=\"119.194\" cy=\"-18\" rx=\"50.8918\" ry=\"18\"/>\n",
       "<text text-anchor=\"middle\" x=\"119.194\" y=\"-14.3\" font-family=\"Times,serif\" font-size=\"14.00\">reusable</text>\n",
       "</g>\n",
       "<!-- reproducible&#45;&gt;reusable -->\n",
       "<g id=\"edge2\" class=\"edge\"><title>reproducible&#45;&gt;reusable</title>\n",
       "<path fill=\"none\" stroke=\"black\" d=\"M82.0553,-72.055C87.8935,-63.7147 95.0502,-53.4908 101.518,-44.2517\"/>\n",
       "<polygon fill=\"black\" stroke=\"black\" points=\"104.574,-45.9885 107.441,-35.789 98.8395,-41.9742 104.574,-45.9885\"/>\n",
       "</g>\n",
       "<!-- reusable&#45;&gt;readable -->\n",
       "<g id=\"edge3\" class=\"edge\"><title>reusable&#45;&gt;readable</title>\n",
       "<path fill=\"none\" stroke=\"black\" d=\"M131.609,-35.6845C138.247,-45.6627 145.747,-58.9127 149.194,-72 153.269,-87.4723 153.269,-92.5277 149.194,-108 146.662,-117.611 141.945,-127.31 136.989,-135.736\"/>\n",
       "<polygon fill=\"black\" stroke=\"black\" points=\"133.956,-133.984 131.609,-144.316 139.886,-137.703 133.956,-133.984\"/>\n",
       "</g>\n",
       "</g>\n",
       "</svg>\n",
       "</div><div class=\"flexed-item\" style=\"order: 0;\"><h2>documents, but there is no style guidelines.</h2>\n",
       "</div></div>"
      ],
      "text/plain": [
       "Row(content=['## Notebook authors can create', 'digraph {rankdir=TB readable -> reproducible -> reusable -> readable }', '## documents, but there is no style guidelines.'])"
      ]
     },
     "metadata": {},
     "output_type": "display_data"
    }
   ],
   "source": [
    "F\"\"\"\n",
    "- \"## Notebook authors can create\"  \n",
    "- {rrr}\n",
    "- \"## documents, but there is no style guidelines.\"\n",
    "\"\"\"\n"
   ]
  },
  {
   "cell_type": "code",
   "execution_count": 14,
   "metadata": {},
   "outputs": [
    {
     "name": "stdout",
     "output_type": "stream",
     "text": [
      "The Zen of Python, by Tim Peters\n",
      "\n",
      "Beautiful is better than ugly.\n",
      "Explicit is better than implicit.\n",
      "Simple is better than complex.\n",
      "Complex is better than complicated.\n",
      "Flat is better than nested.\n",
      "Sparse is better than dense.\n",
      "Readability counts.\n",
      "Special cases aren't special enough to break the rules.\n",
      "Although practicality beats purity.\n",
      "Errors should never pass silently.\n",
      "Unless explicitly silenced.\n",
      "In the face of ambiguity, refuse the temptation to guess.\n",
      "There should be one-- and preferably only one --obvious way to do it.\n",
      "Although that way may not be obvious at first unless you're Dutch.\n",
      "Now is better than never.\n",
      "Although never is often better than *right* now.\n",
      "If the implementation is hard to explain, it's a bad idea.\n",
      "If the implementation is easy to explain, it may be a good idea.\n",
      "Namespaces are one honking great idea -- let's do more of those!\n"
     ]
    }
   ],
   "source": [
    "    import this"
   ]
  },
  {
   "cell_type": "code",
   "execution_count": 15,
   "metadata": {},
   "outputs": [
    {
     "data": {
      "text/html": [
       "\n",
       "        <iframe\n",
       "            width=\"100%\"\n",
       "            height=\"450\"\n",
       "            src=\"https://pymbook.readthedocs.io/en/latest/pep8.html#comments\"\n",
       "            frameborder=\"0\"\n",
       "            allowfullscreen\n",
       "        ></iframe>\n",
       "        "
      ],
      "text/plain": [
       "<IPython.lib.display.IFrame at 0x7f9b681aea90>"
      ]
     },
     "metadata": {},
     "output_type": "display_data"
    }
   ],
   "source": [
    "    \"\"\"https://pymbook.readthedocs.io/en/latest/pep8.html#comments\"\"\""
   ]
  },
  {
   "cell_type": "code",
   "execution_count": 16,
   "metadata": {},
   "outputs": [],
   "source": [
    "    np = \"\"\"\n",
    "        # [Zen of NumPy](http://technicaldiscovery.blogspot.com/2010/11/zen-of-numpy.html?m=1)\n",
    "\n",
    "\n",
    "        * Strided is better than scattered\n",
    "        * Contiguous is better than strided\n",
    "        * Descriptive is better than imperative (use data-types)\n",
    "        * Array-oriented is often better than object-oriented\n",
    "        * Broadcasting is a great idea -- use where possible\n",
    "        * Vectorized is better than an explicit loop\n",
    "        * Unless it’s complicated --- then use numexpr, weave, or Cython\n",
    "        * Think in higher dimensions\"\"\"\n",
    "    sympy = \"\"\"\n",
    "        # [Zen of SymPy](https://github.com/sympy/sympy/wiki/The-Zen-of-SymPy)\n",
    "\n",
    "        * Unevaluated is better than evaluated.\n",
    "        * The user interface matters.\n",
    "        * Printing matters.\n",
    "        * Pure Python can be fast enough.\n",
    "        * If it's too slow, it's (probably) your fault.\n",
    "        * Documentation matters.\n",
    "        * Correctness is more important than speed.\n",
    "        * Push it in now and improve upon it later.\n",
    "        * Coverage by testing matters.\n",
    "        * Smart tests are better than random tests.\n",
    "        * But random tests sometimes find what your smartest test missed.\n",
    "        * The Python way is probably the right way.\n",
    "        * Community is more important than code.\n",
    "        \"\"\"\n",
    "    bobp = \"\"\"\n",
    "        # [The Best of the Best Practices (BOBP) Guide for Python](https://gist.github.com/sloria/7001839#file-bobp-python-md)\n",
    "\n",
    "        A \"Best of the Best Practices\" (BOBP) guide to developing in Python.\n",
    "\n",
    "        ## In General\n",
    "\n",
    "        ### Values\n",
    "\n",
    "        - \"Build tools for others that you want to be built for you.\" - Kenneth Reitz\n",
    "        - \"Simplicity is alway better than functionality.\" - Pieter Hintjens\n",
    "        - \"Fit the 90% use-case. Ignore the nay sayers.\" - Kenneth Reitz\n",
    "        - \"Beautiful is better than ugly.\" - [PEP 20][]\n",
    "        - Build for open source (even for closed source projects).\n",
    "\n",
    "        ### General Development Guidelines\n",
    "\n",
    "        - \"Explicit is better than implicit\" - [PEP 20][]\n",
    "        - \"Readability counts.\" - [PEP 20][]\n",
    "        - \"Anybody can fix anything.\" - [Khan Academy Development Docs][]\n",
    "        - Fix each [broken window](http://www.artima.com/intv/fixit2.html) (bad design, wrong decision, or poor code) *as soon as it is discovered*.\n",
    "        - \"Now is better than never.\" - [PEP 20][]\n",
    "        - __Test ruthlessly. Write docs for new features.__\n",
    "        - Even more important that Test-Driven Development--*Human-Driven Development*\n",
    "        - These guidelines may--and probably will--change.\"\"\""
   ]
  },
  {
   "cell_type": "code",
   "execution_count": 17,
   "metadata": {},
   "outputs": [
    {
     "data": {
      "text/html": [
       "<div class=\"flexed-container flexed-row\"><div class=\"flexed-item\" style=\"order: 0;\"><h1><a href=\"http://technicaldiscovery.blogspot.com/2010/11/zen-of-numpy.html?m=1\">Zen of NumPy</a></h1>\n",
       "<ul>\n",
       "<li>Strided is better than scattered</li>\n",
       "<li>Contiguous is better than strided</li>\n",
       "<li>Descriptive is better than imperative (use data-types)</li>\n",
       "<li>Array-oriented is often better than object-oriented</li>\n",
       "<li>Broadcasting is a great idea -- use where possible</li>\n",
       "<li>Vectorized is better than an explicit loop</li>\n",
       "<li>Unless it’s complicated --- then use numexpr, weave, or Cython</li>\n",
       "<li>Think in higher dimensions</li>\n",
       "</ul>\n",
       "</div><div class=\"flexed-item\" style=\"order: 0;\"><h1><a href=\"https://github.com/sympy/sympy/wiki/The-Zen-of-SymPy\">Zen of SymPy</a></h1>\n",
       "<ul>\n",
       "<li>Unevaluated is better than evaluated.</li>\n",
       "<li>The user interface matters.</li>\n",
       "<li>Printing matters.</li>\n",
       "<li>Pure Python can be fast enough.</li>\n",
       "<li>If it's too slow, it's (probably) your fault.</li>\n",
       "<li>Documentation matters.</li>\n",
       "<li>Correctness is more important than speed.</li>\n",
       "<li>Push it in now and improve upon it later.</li>\n",
       "<li>Coverage by testing matters.</li>\n",
       "<li>Smart tests are better than random tests.</li>\n",
       "<li>But random tests sometimes find what your smartest test missed.</li>\n",
       "<li>The Python way is probably the right way.</li>\n",
       "<li>Community is more important than code.</li>\n",
       "</ul>\n",
       "</div><div class=\"flexed-item\" style=\"order: 0;\"><h1><a href=\"https://gist.github.com/sloria/7001839#file-bobp-python-md\">The Best of the Best Practices (BOBP) Guide for Python</a></h1>\n",
       "<p>A \"Best of the Best Practices\" (BOBP) guide to developing in Python.</p>\n",
       "<h2>In General</h2>\n",
       "<h3>Values</h3>\n",
       "<ul>\n",
       "<li>\"Build tools for others that you want to be built for you.\" - Kenneth Reitz</li>\n",
       "<li>\"Simplicity is alway better than functionality.\" - Pieter Hintjens</li>\n",
       "<li>\"Fit the 90% use-case. Ignore the nay sayers.\" - Kenneth Reitz</li>\n",
       "<li>\"Beautiful is better than ugly.\" - [PEP 20][]</li>\n",
       "<li>Build for open source (even for closed source projects).\n",
       "### General Development Guidelines</li>\n",
       "<li>\"Explicit is better than implicit\" - [PEP 20][]</li>\n",
       "<li>\"Readability counts.\" - [PEP 20][]</li>\n",
       "<li>\"Anybody can fix anything.\" - [Khan Academy Development Docs][]</li>\n",
       "<li>Fix each <a href=\"http://www.artima.com/intv/fixit2.html\">broken window</a> (bad design, wrong decision, or poor code) <em>as soon as it is discovered</em>.</li>\n",
       "<li>\"Now is better than never.\" - [PEP 20][]</li>\n",
       "<li><strong>Test ruthlessly. Write docs for new features.</strong></li>\n",
       "<li>Even more important that Test-Driven Development--<em>Human-Driven Development</em></li>\n",
       "<li>These guidelines may--and probably will--change.</li>\n",
       "</ul>\n",
       "</div></div>"
      ],
      "text/plain": [
       "Row(content=['\\n# [Zen of NumPy](http://technicaldiscovery.blogspot.com/2010/11/zen-of-numpy.html?m=1)\\n* Strided is better than scattered\\n* Contiguous is better than strided\\n* Descriptive is better than imperative (use data-types)\\n* Array-oriented is often better than object-oriented\\n* Broadcasting is a great idea -- use where possible\\n* Vectorized is better than an explicit loop\\n* Unless it’s complicated --- then use numexpr, weave, or Cython\\n* Think in higher dimensions\\n', \"\\n# [Zen of SymPy](https://github.com/sympy/sympy/wiki/The-Zen-of-SymPy)\\n* Unevaluated is better than evaluated.\\n* The user interface matters.\\n* Printing matters.\\n* Pure Python can be fast enough.\\n* If it's too slow, it's (probably) your fault.\\n* Documentation matters.\\n* Correctness is more important than speed.\\n* Push it in now and improve upon it later.\\n* Coverage by testing matters.\\n* Smart tests are better than random tests.\\n* But random tests sometimes find what your smartest test missed.\\n* The Python way is probably the right way.\\n* Community is more important than code.\\n\", '\\n# [The Best of the Best Practices (BOBP) Guide for Python](https://gist.github.com/sloria/7001839#file-bobp-python-md)\\nA \"Best of the Best Practices\" (BOBP) guide to developing in Python.\\n## In General\\n### Values\\n- \"Build tools for others that you want to be built for you.\" - Kenneth Reitz\\n- \"Simplicity is alway better than functionality.\" - Pieter Hintjens\\n- \"Fit the 90% use-case. Ignore the nay sayers.\" - Kenneth Reitz\\n- \"Beautiful is better than ugly.\" - [PEP 20][]\\n- Build for open source (even for closed source projects).\\n### General Development Guidelines\\n- \"Explicit is better than implicit\" - [PEP 20][]\\n- \"Readability counts.\" - [PEP 20][]\\n- \"Anybody can fix anything.\" - [Khan Academy Development Docs][]\\n- Fix each [broken window](http://www.artima.com/intv/fixit2.html) (bad design, wrong decision, or poor code) *as soon as it is discovered*.\\n- \"Now is better than never.\" - [PEP 20][]\\n- __Test ruthlessly. Write docs for new features.__\\n- Even more important that Test-Driven Development--*Human-Driven Development*\\n- These guidelines may--and probably will--change.'])"
      ]
     },
     "metadata": {},
     "output_type": "display_data"
    }
   ],
   "source": [
    "    F\"\"\"\n",
    "    - |\n",
    "    {np}\n",
    "    - | \n",
    "    {sympy}\n",
    "    - | \n",
    "    {bobp}\"\"\""
   ]
  },
  {
   "cell_type": "code",
   "execution_count": 18,
   "metadata": {},
   "outputs": [
    {
     "data": {
      "text/html": [
       "<div class=\"flexed-container flexed-row\"><div class=\"flexed-item\" style=\"order: 0;\"><h2>Computer programs have styleguides</h2>\n",
       "</div><div class=\"flexed-item\" style=\"order: 0;\"><h2>Computer programmers have idioms</h2>\n",
       "</div></div>"
      ],
      "text/plain": [
       "Row(content=['## Computer programs have styleguides\\n', '## Computer programmers have idioms\\n'])"
      ]
     },
     "metadata": {},
     "output_type": "display_data"
    }
   ],
   "source": [
    "\"\"\"\n",
    "- |\n",
    "    ## Computer programs have styleguides\n",
    "- |\n",
    "    ## Computer programmers have idioms\n",
    "\"\"\""
   ]
  },
  {
   "cell_type": "markdown",
   "metadata": {},
   "source": [
    "# Black is the only color"
   ]
  },
  {
   "cell_type": "code",
   "execution_count": 197,
   "metadata": {},
   "outputs": [],
   "source": [
    "    %%blacken\n",
    "    print(11)"
   ]
  },
  {
   "cell_type": "markdown",
   "metadata": {},
   "source": [
    "## Alan Perlisisms"
   ]
  },
  {
   "cell_type": "code",
   "execution_count": 165,
   "metadata": {},
   "outputs": [
    {
     "data": {
      "text/html": [
       "\n",
       "        <iframe\n",
       "            width=\"100%\"\n",
       "            height=\"450\"\n",
       "            src=\"http://www.cs.yale.edu/homes/perlis-alan/quotes.html\"\n",
       "            frameborder=\"0\"\n",
       "            allowfullscreen\n",
       "        ></iframe>\n",
       "        "
      ],
      "text/plain": [
       "<IPython.lib.display.IFrame at 0x2c62b34bf60>"
      ]
     },
     "metadata": {},
     "output_type": "display_data"
    }
   ],
   "source": [
    "\"\"\"http://www.cs.yale.edu/homes/perlis-alan/quotes.html\"\"\""
   ]
  },
  {
   "cell_type": "code",
   "execution_count": 99,
   "metadata": {},
   "outputs": [
    {
     "data": {
      "text/html": [
       "<div class=\"flexed-container flexed-row\"><div class=\"flexed-container flexed-column\"><div class=\"flexed-container flexed-row\"><div class=\"flexed-item\" style=\"order: 0;\"><img src=\"http://nbviewer.jupyter.org/github/jupyterday-atlanta-2016/oriole_jupyterday_atl/blob/master/don_knuth.jpg\"/></div><div class=\"flexed-item\" style=\"order: 0;\"><h1><a href=\"https://en.wikipedia.org/wiki/Donald_Knuth\">Donald Knuth</a></h1>\n",
       "<ul>\n",
       "<li><a href=\"https://en.wikipedia.org/wiki/TeX\">$\\TeX$</a></li>\n",
       "<li><a href=\"https://en.wikipedia.org/wiki/The_Art_of_Computer_Programming\">The Art of Computer Programming</a></li>\n",
       "<li><a href=\"http://yakshav.es/the-patron-saint-of-yakshaves/\">40 years of tests!</a></li>\n",
       "<li><a href=\"https://web.archive.org/web/20080820030403/http://www.americanscientist.org/bookshelf/pub/100-or-so-books-that-shaped-a-century-of-science\">Book of the Century</a></li>\n",
       "</ul>\n",
       "</div></div><div class=\"flexed-container flexed-row\"><div class=\"flexed-item\" style=\"order: 0;\"><blockquote><h3><em>By coining the phrase “literate programming,” I am imposincg a moral commitment on everyone who hears the term;</em> <strong>surely nobody wants to admit writing an illiterate program</strong>.</h3>\n",
       "</blockquote>\n",
       "</div><div class=\"flexed-item\" style=\"order: 0;\">\n",
       "        <iframe\n",
       "            width=\"500\"\n",
       "            height=\"450\"\n",
       "            src=\"http://roxygen.org/knuth-literate-programming.pdf\"\n",
       "            frameborder=\"0\"\n",
       "            allowfullscreen\n",
       "        ></iframe>\n",
       "        </div></div></div></div>"
      ],
      "text/plain": [
       "Row(content=[[['http://nbviewer.jupyter.org/github/jupyterday-atlanta-2016/oriole_jupyterday_atl/blob/master/don_knuth.jpg', '# [Donald Knuth](https://en.wikipedia.org/wiki/Donald_Knuth)\\n\\n* [$\\\\TeX$](https://en.wikipedia.org/wiki/TeX)\\n* [The Art of Computer Programming](https://en.wikipedia.org/wiki/The_Art_of_Computer_Programming)\\n* [40 years of tests!](http://yakshav.es/the-patron-saint-of-yakshaves/)\\n* [Book of the Century](https://web.archive.org/web/20080820030403/http://www.americanscientist.org/bookshelf/pub/100-or-so-books-that-shaped-a-century-of-science)\\n'], ['> ### _By coining the phrase “literate programming,” I am imposincg a moral commitment on everyone who hears the term;_ __surely nobody wants to admit writing an illiterate program__.\\n', {'html': 'http://roxygen.org/knuth-literate-programming.pdf'}]]])"
      ]
     },
     "metadata": {},
     "output_type": "display_data"
    }
   ],
   "source": [
    "    \"\"\"\n",
    "    - - - http://nbviewer.jupyter.org/github/jupyterday-atlanta-2016/oriole_jupyterday_atl/blob/master/don_knuth.jpg\n",
    "        - |\n",
    "            # [Donald Knuth](https://en.wikipedia.org/wiki/Donald_Knuth)\n",
    "            \n",
    "            * [$\\TeX$](https://en.wikipedia.org/wiki/TeX)\n",
    "            * [The Art of Computer Programming](https://en.wikipedia.org/wiki/The_Art_of_Computer_Programming)\n",
    "            * [40 years of tests!](http://yakshav.es/the-patron-saint-of-yakshaves/)\n",
    "            * [Book of the Century](https://web.archive.org/web/20080820030403/http://www.americanscientist.org/bookshelf/pub/100-or-so-books-that-shaped-a-century-of-science)\n",
    "      - - |\n",
    "          > ### _By coining the phrase “literate programming,” I am imposincg a moral commitment on everyone who hears the term;_ __surely nobody wants to admit writing an illiterate program__.\n",
    "        - html: http://roxygen.org/knuth-literate-programming.pdf\n",
    "    \"\"\""
   ]
  },
  {
   "cell_type": "code",
   "execution_count": 135,
   "metadata": {},
   "outputs": [
    {
     "data": {
      "text/html": [
       "<div class=\"flexed-container flexed-row\"><div class=\"flexed-container flexed-column\"><div class=\"flexed-item\" style=\"order: 0;\"><p>We can learn some best practices for the notebook from composing computational essays.</p>\n",
       "</div><div class=\"flexed-item\" style=\"order: 0;\">\n",
       "        <iframe\n",
       "            width=\"500\"\n",
       "            height=\"450\"\n",
       "            src=\"http://blog.stephenwolfram.com/2017/11/what-is-a-computational-essay/#a-new-form-of-student-work\"\n",
       "            frameborder=\"0\"\n",
       "            allowfullscreen\n",
       "        ></iframe>\n",
       "        </div></div><div class=\"flexed-item\" style=\"order: 0;\"><blockquote><p>When you write a computational essay, the code in your computational essay has to produce results that fit with the story you’re telling. It’s not like you’re doing a mathematical derivation, and then some teacher tells you you’ve got the wrong answer. <strong>You can immediately see what your code does, and whether it fits with the story you’re telling. If it doesn’t, well then maybe your code is wrong—or maybe your story is wrong.</strong></p>\n",
       "</blockquote>\n",
       "</div></div>"
      ],
      "text/plain": [
       "Row(content=[['We can learn some best practices for the notebook from composing computational essays.', {'html': 'http://blog.stephenwolfram.com/2017/11/what-is-a-computational-essay/#a-new-form-of-student-work'}], '> When you write a computational essay, the code in your computational essay has to produce results that fit with the story you’re telling. It’s not like you’re doing a mathematical derivation, and then some teacher tells you you’ve got the wrong answer. __You can immediately see what your code does, and whether it fits with the story you’re telling. If it doesn’t, well then maybe your code is wrong—or maybe your story is wrong.__'])"
      ]
     },
     "metadata": {},
     "output_type": "display_data"
    }
   ],
   "source": [
    "    \"\"\"\n",
    "    - - We can learn some best practices for the notebook from composing computational essays.\n",
    "      - html: http://blog.stephenwolfram.com/2017/11/what-is-a-computational-essay/#a-new-form-of-student-work\n",
    "    - \"> When you write a computational essay, the code in your computational essay has to produce results that fit with the story you’re telling. It’s not like you’re doing a mathematical derivation, and then some teacher tells you you’ve got the wrong answer. __You can immediately see what your code does, and whether it fits with the story you’re telling. If it doesn’t, well then maybe your code is wrong—or maybe your story is wrong.__\"\n",
    "    \"\"\""
   ]
  },
  {
   "cell_type": "code",
   "execution_count": 137,
   "metadata": {},
   "outputs": [],
   "source": [
    "    from textwrap import indent; nbstyle = indent(\"\"\"focus on a concise \"unit of thought\"\n",
    "    invest the time and editorial effort to create a good introduction\n",
    "    keep your narrative simple and reasonably linear\n",
    "    \"chunk\" both the text and the code into understandable parts\n",
    "    alternate between text, code, output, further links, etc.\n",
    "    leverage markdown by providing interesting links for background, deep-dive, etc.\n",
    "    code cells should not be long, < 10 lines\n",
    "    code cells must show that they've run, producing at least some output\n",
    "    load data from the container, not the network\n",
    "    **clear all output then \"Run All\" -- or it didn't happen**\n",
    "    video narratives: there's text, and there's subtext...\n",
    "    pause after each \"beat\" -- smile, breathe, allow people to follow you\"\"\", ' * ')"
   ]
  },
  {
   "cell_type": "code",
   "execution_count": 138,
   "metadata": {},
   "outputs": [
    {
     "data": {
      "text/html": [
       "<div class=\"flexed-container flexed-row\"><div class=\"flexed-item\" style=\"order: 0;\"><h1>Notebook Style is not about Programming Style</h1>\n",
       "<hr>\n",
       "<blockquote><h2>What we learned about teaching with notebooks (in Oriole)</h2>\n",
       "<blockquote><p><a href=\"http://nbviewer.jupyter.org/github/jupyterday-atlanta-2016/oriole_jupyterday_atl/blob/master/oriole_talk.ipynb#What-we-learned-about-teaching-with-notebooks\">Paco Nathan - Oriole: a new learning medium based on Jupyter + Docker</a></p>\n",
       "</blockquote>\n",
       "</blockquote>\n",
       "</div><div class=\"flexed-item\" style=\"order: 0;\"><ul>\n",
       "<li>focus on a concise \"unit of thought\"</li>\n",
       "<li>invest the time and editorial effort to create a good introduction</li>\n",
       "<li>keep your narrative simple and reasonably linear</li>\n",
       "<li>\"chunk\" both the text and the code into understandable parts</li>\n",
       "<li>alternate between text, code, output, further links, etc.</li>\n",
       "<li>leverage markdown by providing interesting links for background, deep-dive, etc.</li>\n",
       "<li>code cells should not be long, &lt; 10 lines</li>\n",
       "<li>code cells must show that they've run, producing at least some output</li>\n",
       "<li>load data from the container, not the network</li>\n",
       "<li><strong>clear all output then \"Run All\" -- or it didn't happen</strong></li>\n",
       "<li>video narratives: there's text, and there's subtext...</li>\n",
       "<li>pause after each \"beat\" -- smile, breathe, allow people to follow you</li>\n",
       "</ul>\n",
       "</div></div>"
      ],
      "text/plain": [
       "Row(content=['# Notebook Style is not about Programming Style\\n---\\n> ## What we learned about teaching with notebooks (in Oriole)\\n>> [Paco Nathan - Oriole: a new learning medium based on Jupyter + Docker](http://nbviewer.jupyter.org/github/jupyterday-atlanta-2016/oriole_jupyterday_atl/blob/master/oriole_talk.ipynb#What-we-learned-about-teaching-with-notebooks)\\n', '* focus on a concise \"unit of thought\"\\n* invest the time and editorial effort to create a good introduction\\n* keep your narrative simple and reasonably linear\\n* \"chunk\" both the text and the code into understandable parts\\n* alternate between text, code, output, further links, etc.\\n* leverage markdown by providing interesting links for background, deep-dive, etc.\\n* code cells should not be long, < 10 lines\\n* code cells must show that they\\'ve run, producing at least some output\\n* load data from the container, not the network\\n* **clear all output then \"Run All\" -- or it didn\\'t happen**\\n* video narratives: there\\'s text, and there\\'s subtext...\\n* pause after each \"beat\" -- smile, breathe, allow people to follow you\\n'])"
      ]
     },
     "metadata": {},
     "output_type": "display_data"
    }
   ],
   "source": [
    "F\"\"\"- |\n",
    "    # Notebook Style is not about Programming Style\n",
    "\n",
    "    ---\n",
    "\n",
    "    > ## What we learned about teaching with notebooks (in Oriole)\n",
    "    >> [Paco Nathan - Oriole: a new learning medium based on Jupyter + Docker](http://nbviewer.jupyter.org/github/jupyterday-atlanta-2016/oriole_jupyterday_atl/blob/master/oriole_talk.ipynb#What-we-learned-about-teaching-with-notebooks)\n",
    "- |\n",
    "{nbstyle}\n",
    "\"\"\""
   ]
  },
  {
   "cell_type": "markdown",
   "metadata": {},
   "source": [
    "# Over time style will develop but restart and run all will persist."
   ]
  },
  {
   "cell_type": "markdown",
   "metadata": {},
   "source": [
    "# Accessibility\n",
    "\n",
    "* # 👂\n",
    "* # 👁\n",
    "* # 👐\n",
    "* # 👅\n",
    "* # 👃 _the smell test_"
   ]
  },
  {
   "cell_type": "markdown",
   "metadata": {},
   "source": [
    "# Working better with a non-dominant ~~hand~~ ~~sense~~ worldview improves **learning** and **empathy** "
   ]
  },
  {
   "cell_type": "code",
   "execution_count": null,
   "metadata": {},
   "outputs": [],
   "source": [
    "    __import__('importnb').Remote().load(\n",
    "        'https://gist.githubusercontent.com/robclewley/a5730e22592724dbd11c67adf1eb0a05/raw/f7e99c4b32c803ca73d173ee52ffd4e76031ccd7/tqdm_audio_ticker.ipynb')"
   ]
  },
  {
   "cell_type": "markdown",
   "metadata": {},
   "source": [
    "    Benchmarks"
   ]
  }
 ],
 "metadata": {
  "kernelspec": {
   "display_name": "Python 3",
   "language": "python",
   "name": "python3"
  },
  "language_info": {
   "codemirror_mode": {
    "name": "ipython",
    "version": 3
   },
   "file_extension": ".py",
   "mimetype": "text/x-python",
   "name": "python",
   "nbconvert_exporter": "python",
   "pygments_lexer": "ipython3",
   "version": "3.6.6"
  }
 },
 "nbformat": 4,
 "nbformat_minor": 2
}
