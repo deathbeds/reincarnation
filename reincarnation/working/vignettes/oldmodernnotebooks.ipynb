{
 "cells": [
  {
   "cell_type": "markdown",
   "metadata": {},
   "source": [
    "# Importing Notebooks\n",
    "\n",
    "Common practices use the notebooks as __scratch pads__.  A simple reminder for a notebook to __restart and run all__ provides \n",
    "new opportunities for old ideas.  Notebooks contain code that should be reused, and not rewritten.  __code formatting is for computers.__\n",
    "\n",
    "This presentation is created from a notebook.\n",
    "\n",
    "    >>> from reincarnation.vignettes import modernnotebooks"
   ]
  },
  {
   "cell_type": "code",
   "execution_count": null,
   "metadata": {},
   "outputs": [
    {
     "data": {
      "text/html": [
       "<style>\n",
       ".jp-RenderedHTMLCommon pre code {\n",
       "    text-decoration: line-through wavy;\n",
       "}\n",
       ".jp-RenderedHTMLCommon pre code:hover {\n",
       "    text-decoration: none;\n",
       "    \n",
       "}\n",
       ".jp-Placeholder-content .jp-MoreHorizIcon {\n",
       "    background-size: 32px;\n",
       "}\n",
       "\n",
       "@import url(\"https://cdn.jsdelivr.net/npm/firacode@1.205.0/distr/fira_code.css\")\n",
       "\n",
       ".CodeMirror * {\n",
       "  font-family: 'Fira Code' !important; \n",
       "  font-variant-ligatures: initial !important;\n",
       "}\n",
       "\n",
       ".cm-string {\n",
       "    font-variant-ligatures: none;\n",
       "}\n",
       "</style><style>\n",
       ".jp-mod-presentationMode .jp-SideBar,\n",
       ".jp-mod-presentationMode #jp-top-panel {\n",
       "    opacity: 0.0;\n",
       "    transition: all 0.2s;\n",
       "}\n",
       ".jp-mod-presentationMode .jp-SideBar:hover,\n",
       ".jp-mod-presentationMode #jp-top-panel:hover {\n",
       "    opacity: 0.9;\n",
       "    transition: all 0.2s;\n",
       "}\n",
       "\n",
       "</style><style>\n",
       ".jp-mod-presentationMode.jp-ApplicationShell,\n",
       ".jp-mod-presentationMode .p-TabBar-content{\n",
       "    background-color: var(--jp-layout-color0);\n",
       "}\n",
       "</style><style>\n",
       ".jp-mod-presentationMode .p-DockPanel-widget,\n",
       ".jp-mod-presentationMode #jp-left-stack{\n",
       "    border-color: transparent;\n",
       "}\n",
       ".jp-mod-presentationMode .jp-Toolbar-item,\n",
       ".jp-mod-presentationMode .jp-Toolbar {\n",
       "    opacity: 0.1;\n",
       "    transition: all 0.2s;\n",
       "}\n",
       ".jp-mod-presentationMode .jp-Toolbar-item:hover,\n",
       ".jp-mod-presentationMode .jp-Toolbar:hover {\n",
       "    opacity: 0.9;\n",
       "    transition: all 0.2s;\n",
       "}\n",
       "\n",
       "</style><style>\n",
       ".jp-mod-presentationMode .jp-OutputPrompt,\n",
       ".jp-mod-presentationMode .jp-InputPrompt {\n",
       "    max-width: 2rem !important;\n",
       "    transition: all 0.2s;\n",
       "}\n",
       ".jp-mod-presentationMode .jp-Cell.jp-mod-selected .jp-OutputPrompt,\n",
       ".jp-mod-presentationMode .jp-Cell.jp-mod-selected .jp-InputPrompt,\n",
       ".jp-mod-presentationMode .jp-Cell:hover .jp-OutputPrompt,\n",
       ".jp-mod-presentationMode .jp-Cell:hover .jp-InputPrompt {\n",
       "    max-width: 10rem !important;\n",
       "    transition: all 0.2s;\n",
       "}\n",
       "\n",
       ".jp-mod-presentationMode .jp-Cell {\n",
       "    margin-bottom: 5rem;\n",
       "}\n",
       "\n",
       ".jp-mod-presentationMode hr {\n",
       "    opacity: 0.1;\n",
       "}\n",
       "</style>\n",
       "    <style>\n",
       "    .jp-TableOfContents-content h1, \n",
       "    .jp-TableOfContents-content h2 {\n",
       "        margin-bottom: var(--jp-ui-font-size0)\n",
       "    }\n",
       "    </style>\n",
       "    \n",
       "    <style>\n",
       "    .jp-mod-presentationMode {\n",
       "        --jp-content-heading-line-height: 1.25 !important;\n",
       "    }\n",
       "    </style>\n",
       "    "
      ],
      "text/plain": [
       "<IPython.core.display.HTML object>"
      ]
     },
     "metadata": {},
     "output_type": "display_data"
    }
   ],
   "source": [
    "    if __name__ == '__main__': \n",
    "        %reload_ext reincarnation"
   ]
  },
  {
   "cell_type": "code",
   "execution_count": null,
   "metadata": {},
   "outputs": [],
   "source": [
    "    whitespace = \"\"\"- |\n",
    "        > When you really analyse it, Python’s whitespace sensitivity is actually the only logical choice for a programming language, because __you only communicate your intent one way, and that intent is read the same way by humans and computers.__ The only reason to use a whitespace-insensitive language is that that’s the way we’ve always done things, and that’s never a good reason. That is why my programming language, Mars, has the same indentation rule as Python.\n",
    "    - html: https://unspecified.wordpress.com/2011/10/18/why-pythons-whitespace-rule-is-right/\"\"\";\"\"\"\n",
    "    - html: http://blog.stephenwolfram.com/2017/11/what-is-a-computational-essay/#a-new-form-of-student-work\n",
    "    - \"> When you write a computational essay, the code in your computational essay has to produce results that fit with the story you’re telling. It’s not like you’re doing a mathematical derivation, and then some teacher tells you you’ve got the wrong answer. __You can immediately see what your code does, and whether it fits with the story you’re telling. If it doesn’t, well then maybe your code is wrong—or maybe your story is wrong.__\"\n",
    "    \"\"\""
   ]
  },
  {
   "cell_type": "code",
   "execution_count": null,
   "metadata": {},
   "outputs": [],
   "source": [
    "    F\"{whitespace}\""
   ]
  },
  {
   "cell_type": "code",
   "execution_count": 4,
   "metadata": {},
   "outputs": [],
   "source": [
    "    from textwrap import indent; nbstyle = indent(\"\"\"focus on a concise \"unit of thought\"\n",
    "    invest the time and editorial effort to create a good introduction\n",
    "    keep your narrative simple and reasonably linear\n",
    "    \"chunk\" both the text and the code into understandable parts\n",
    "    alternate between text, code, output, further links, etc.\n",
    "    leverage markdown by providing interesting links for background, deep-dive, etc.\n",
    "    code cells should not be long, < 10 lines\n",
    "    code cells must show that they've run, producing at least some output\n",
    "    load data from the container, not the network\n",
    "    clear all output then \"Run All\" -- or it didn't happen\n",
    "    video narratives: there's text, and there's subtext...\n",
    "    pause after each \"beat\" -- smile, breathe, allow people to follow you\"\"\", ' * ')"
   ]
  },
  {
   "cell_type": "code",
   "execution_count": 5,
   "metadata": {},
   "outputs": [
    {
     "data": {
      "text/html": [
       "<div class=\"flexed-container flexed-row\"><div class=\"flexed-item\" style=\"order: 0;\">\n",
       "        <iframe\n",
       "            width=\"500\"\n",
       "            height=\"450\"\n",
       "            src=\"http://nbviewer.jupyter.org/github/jupyterday-atlanta-2016/oriole_jupyterday_atl/blob/master/oriole_talk.ipynb#\"\n",
       "            frameborder=\"0\"\n",
       "            allowfullscreen\n",
       "        ></iframe>\n",
       "        </div><div class=\"flexed-item\" style=\"order: 0;\"><ul>\n",
       "<li>focus on a concise \"unit of thought\"</li>\n",
       "<li>invest the time and editorial effort to create a good introduction</li>\n",
       "<li>keep your narrative simple and reasonably linear</li>\n",
       "<li>\"chunk\" both the text and the code into understandable parts</li>\n",
       "<li>alternate between text, code, output, further links, etc.</li>\n",
       "<li>leverage markdown by providing interesting links for background, deep-dive, etc.</li>\n",
       "<li>code cells should not be long, &lt; 10 lines</li>\n",
       "<li>code cells must show that they've run, producing at least some output</li>\n",
       "<li>load data from the container, not the network</li>\n",
       "<li>clear all output then \"Run All\" -- or it didn't happen</li>\n",
       "<li>video narratives: there's text, and there's subtext...</li>\n",
       "<li>pause after each \"beat\" -- smile, breathe, allow people to follow you</li>\n",
       "</ul>\n",
       "</div></div>"
      ],
      "text/plain": [
       "Row(content=['http://nbviewer.jupyter.org/github/jupyterday-atlanta-2016/oriole_jupyterday_atl/blob/master/oriole_talk.ipynb#', '* focus on a concise \"unit of thought\"\\n* invest the time and editorial effort to create a good introduction\\n* keep your narrative simple and reasonably linear\\n* \"chunk\" both the text and the code into understandable parts\\n* alternate between text, code, output, further links, etc.\\n* leverage markdown by providing interesting links for background, deep-dive, etc.\\n* code cells should not be long, < 10 lines\\n* code cells must show that they\\'ve run, producing at least some output\\n* load data from the container, not the network\\n* clear all output then \"Run All\" -- or it didn\\'t happen\\n* video narratives: there\\'s text, and there\\'s subtext...\\n* pause after each \"beat\" -- smile, breathe, allow people to follow you\\n'])"
      ]
     },
     "metadata": {},
     "output_type": "display_data"
    }
   ],
   "source": [
    "    F\"\"\"\n",
    "    - http://nbviewer.jupyter.org/github/jupyterday-atlanta-2016/oriole_jupyterday_atl/blob/master/oriole_talk.ipynb#\n",
    "    \n",
    "    - | \n",
    "    {nbstyle}\n",
    "    \"\"\""
   ]
  },
  {
   "cell_type": "code",
   "execution_count": 32,
   "metadata": {},
   "outputs": [],
   "source": [
    "    importnb_link = \"http://nbviewer.jupyter.org/github/deathbeds/importnb/blob/master/readme.ipynb\""
   ]
  },
  {
   "cell_type": "code",
   "execution_count": 44,
   "metadata": {},
   "outputs": [
    {
     "data": {
      "text/html": [
       "<div class=\"flexed-container flexed-row\"><div class=\"flexed-container flexed-column\"><div class=\"flexed-item\" style=\"order: 0;\"><h1><code>!importnb-install</code></h1>\n",
       "</div><div class=\"flexed-item\" style=\"order: 0;\">\n",
       "        <iframe\n",
       "            width=\"500\"\n",
       "            height=\"450\"\n",
       "            src=\"http://nbviewer.jupyter.org/github/deathbeds/importnb/blob/master/readme.ipynb\"\n",
       "            frameborder=\"0\"\n",
       "            allowfullscreen\n",
       "        ></iframe>\n",
       "        </div></div><div class=\"flexed-item\" style=\"order: 0;\"><ul>\n",
       "<li>pytest notebooks</li>\n",
       "<li>import notebooks as modules</li>\n",
       "<li>run notebooks as <code>ipython</code> scripts</li>\n",
       "<li>smart docstrings</li>\n",
       "</ul>\n",
       "<hr>\n",
       "<ul>\n",
       "<li>promotes sharing notebooks with tests and documentation</li>\n",
       "<li>enables incremental innovation</li>\n",
       "<li>creates readable, reusable, and reproducible notebooks</li>\n",
       "<li>provide a better interactive experience to reuse old modules</li>\n",
       "</ul>\n",
       "</div></div>"
      ],
      "text/plain": [
       "Row(content=[['# `!importnb-install`', 'http://nbviewer.jupyter.org/github/deathbeds/importnb/blob/master/readme.ipynb'], '* pytest notebooks\\n* import notebooks as modules\\n* run notebooks as `ipython` scripts\\n* smart docstrings\\n---\\n\\n* promotes sharing notebooks with tests and documentation\\n* enables incremental innovation\\n* creates readable, reusable, and reproducible notebooks\\n* provide a better interactive experience to reuse old modules\\n'])"
      ]
     },
     "metadata": {},
     "output_type": "display_data"
    }
   ],
   "source": [
    "    F\"\"\"- - \"# `!importnb-install`\" \n",
    "      - {importnb_link}\n",
    "    - |\n",
    "        * pytest notebooks\n",
    "        * import notebooks as modules\n",
    "        * run notebooks as `ipython` scripts\n",
    "        * smart docstrings\n",
    "    \n",
    "        ---\n",
    "        \n",
    "        * promotes sharing notebooks with tests and documentation\n",
    "        * enables incremental innovation\n",
    "        * creates readable, reusable, and reproducible notebooks\n",
    "        * provide a better interactive experience to reuse old modules\n",
    "    \"\"\""
   ]
  },
  {
   "cell_type": "code",
   "execution_count": 22,
   "metadata": {},
   "outputs": [],
   "source": [
    "    testing = \"http://nbviewer.jupyter.org/github/deathbeds/deathbeds.github.io/blob/master/deathbeds/2018-07-31-Testing-notebooks.ipynb\""
   ]
  },
  {
   "cell_type": "code",
   "execution_count": 23,
   "metadata": {},
   "outputs": [
    {
     "data": {
      "text/html": [
       "<div class=\"flexed-container flexed-row\"><div class=\"flexed-item\" style=\"order: 0;\"><h1><strong>Restart and run all</strong> or it didn't happen</h1>\n",
       "<p>A notebook that will restart and run all is reusable as a module and test.</p>\n",
       "</div><div class=\"flexed-item\" style=\"order: 0;\">\n",
       "        <iframe\n",
       "            width=\"500\"\n",
       "            height=\"450\"\n",
       "            src=\"http://nbviewer.jupyter.org/github/deathbeds/deathbeds.github.io/blob/master/deathbeds/2018-07-31-Testing-notebooks.ipynb\"\n",
       "            frameborder=\"0\"\n",
       "            allowfullscreen\n",
       "        ></iframe>\n",
       "        </div></div>"
      ],
      "text/plain": [
       "Row(content=[\"# **Restart and run all** or it didn't happen   \\n\\nA notebook that will restart and run all is reusable as a module and test.\\n\", 'http://nbviewer.jupyter.org/github/deathbeds/deathbeds.github.io/blob/master/deathbeds/2018-07-31-Testing-notebooks.ipynb'])"
      ]
     },
     "metadata": {},
     "output_type": "display_data"
    }
   ],
   "source": [
    "    F\"\"\"- |\n",
    "         # **Restart and run all** or it didn't happen   \n",
    "         \n",
    "         A notebook that will restart and run all is reusable as a module and test.\n",
    "    - {testing}\n",
    "    \"\"\""
   ]
  },
  {
   "cell_type": "markdown",
   "metadata": {},
   "source": [
    "# Carrying the IPython context\n",
    "\n",
    "One of the best features of notebooks are the interactive modifications that can be made to the running IPython context.  Often we include the statement below to use notebooks to write command line scripts and use magic functions."
   ]
  },
  {
   "cell_type": "code",
   "execution_count": 7,
   "metadata": {},
   "outputs": [],
   "source": [
    "    from IPython import get_ipython"
   ]
  },
  {
   "cell_type": "markdown",
   "metadata": {},
   "source": [
    "# [`deathbeds`](http://deathbeds.github.io) uses notebooks as blog posts and modules"
   ]
  },
  {
   "cell_type": "markdown",
   "metadata": {},
   "source": [
    "    import deathbeds\n",
    "    deathbeds.__blacken_the_interactive_black_formatter, deathbeds.__Emojis_in_code_cells, deathbeds.__HTML_Flexbox"
   ]
  },
  {
   "cell_type": "code",
   "execution_count": 8,
   "metadata": {},
   "outputs": [
    {
     "data": {
      "text/html": [
       "<div class=\"flexed-container flexed-row\"><div class=\"flexed-item\" style=\"order: 0;\"><h1>Command Line Scripts from Notebooks</h1>\n",
       "</div><div class=\"flexed-item\" style=\"order: 0;\">\n",
       "        <iframe\n",
       "            width=\"500\"\n",
       "            height=\"450\"\n",
       "            src=\"http://nbviewer.jupyter.org/github/deathbeds/deathbeds.github.io/blob/master/readme.ipynb#Developer\"\n",
       "            frameborder=\"0\"\n",
       "            allowfullscreen\n",
       "        ></iframe>\n",
       "        </div></div>"
      ],
      "text/plain": [
       "Row(content=['# Command Line Scripts from Notebooks', 'http://nbviewer.jupyter.org/github/deathbeds/deathbeds.github.io/blob/master/readme.ipynb#Developer'])"
      ]
     },
     "metadata": {},
     "output_type": "display_data"
    },
    {
     "data": {
      "text/html": [
       "<div class=\"flexed-container flexed-row\"><div class=\"flexed-item\" style=\"order: 0;\">\n",
       "        <iframe\n",
       "            width=\"500\"\n",
       "            height=\"450\"\n",
       "            src=\"http://nbviewer.jupyter.org/github/deathbeds/deathbeds.github.io/blob/master/deathbeds/2018-07-15-click-arguments-from-a-notebook.ipynb\"\n",
       "            frameborder=\"0\"\n",
       "            allowfullscreen\n",
       "        ></iframe>\n",
       "        </div><div class=\"flexed-item\" style=\"order: 0;\">\n",
       "        <iframe\n",
       "            width=\"500\"\n",
       "            height=\"450\"\n",
       "            src=\"http://nbviewer.jupyter.org/github/deathbeds/deathbeds.github.io/blob/master/deathbeds/2018-07-03-Luigi-command-line.ipynb\"\n",
       "            frameborder=\"0\"\n",
       "            allowfullscreen\n",
       "        ></iframe>\n",
       "        </div></div>"
      ],
      "text/plain": [
       "Row(content=['http://nbviewer.jupyter.org/github/deathbeds/deathbeds.github.io/blob/master/deathbeds/2018-07-15-click-arguments-from-a-notebook.ipynb', 'http://nbviewer.jupyter.org/github/deathbeds/deathbeds.github.io/blob/master/deathbeds/2018-07-03-Luigi-command-line.ipynb'])"
      ]
     },
     "metadata": {},
     "output_type": "display_data"
    },
    {
     "data": {
      "text/html": [
       "\n",
       "        <iframe\n",
       "            width=\"100%\"\n",
       "            height=\"450\"\n",
       "            src=\"http://nbviewer.jupyter.org/github/deathbeds/importnb/blob/master/src/importnb/notebooks/parameterize.ipynb\"\n",
       "            frameborder=\"0\"\n",
       "            allowfullscreen\n",
       "        ></iframe>\n",
       "        "
      ],
      "text/plain": [
       "<IPython.lib.display.IFrame at 0x26c3dd309b0>"
      ]
     },
     "metadata": {},
     "output_type": "display_data"
    }
   ],
   "source": [
    "    \"\"\"- \"# Command Line Scripts from Notebooks\"\n",
    "    - http://nbviewer.jupyter.org/github/deathbeds/deathbeds.github.io/blob/master/readme.ipynb#Developer\n",
    "    \"\"\"; \"\"\"\n",
    "    - http://nbviewer.jupyter.org/github/deathbeds/deathbeds.github.io/blob/master/deathbeds/2018-07-15-click-arguments-from-a-notebook.ipynb\n",
    "    - http://nbviewer.jupyter.org/github/deathbeds/deathbeds.github.io/blob/master/deathbeds/2018-07-03-Luigi-command-line.ipynb\"\"\"\n",
    "    \"\"\"http://nbviewer.jupyter.org/github/deathbeds/importnb/blob/master/src/importnb/notebooks/parameterize.ipynb\"\"\""
   ]
  },
  {
   "cell_type": "markdown",
   "metadata": {},
   "source": [
    "### Parameterize converts literal ast assignments"
   ]
  },
  {
   "cell_type": "code",
   "execution_count": 9,
   "metadata": {},
   "outputs": [],
   "source": [
    "    Ø = __name__ == '__main__' and not globals().get('__file__', None)"
   ]
  },
  {
   "cell_type": "code",
   "execution_count": 10,
   "metadata": {},
   "outputs": [
    {
     "name": "stdout",
     "output_type": "stream",
     "text": [
      "usage: importing_notebooks [-h]\n",
      "\n",
      "# Importing Notebooks Common practices use the notebooks as scratch pads. A\n",
      "simple reminder for a notebook to __restart and run all__ provides new\n",
      "opportunities for old ideas. Notebooks contain code that should be reused, and\n",
      "not rewritten. __code formatting is for computers.__ This presentation is\n",
      "created from a notebook. >>> from reincarnation.vignettes import\n",
      "importing_notebooks\n",
      "\n",
      "optional arguments:\n",
      "  -h, --help  show this help message and exit\n"
     ]
    }
   ],
   "source": [
    "    if Ø:\n",
    "        !ipython -m importing_notebooks -- --help"
   ]
  },
  {
   "cell_type": "markdown",
   "metadata": {},
   "source": [
    "    i_am_a_variable = \"ROAR\""
   ]
  },
  {
   "cell_type": "markdown",
   "metadata": {},
   "source": [
    "# Markdown docstrings\n",
    "\n",
    "A common pattern discovered working with notebooks is the need for docstrings while working elsewhere.  When importing notebook we choose the opinions that:\n",
    "\n",
    "* The first cell, if it is markdown, will be the module docstring\n",
    "* Any cell preceeding a function or class definition will become a docstring if one is not defined."
   ]
  },
  {
   "cell_type": "code",
   "execution_count": 27,
   "metadata": {},
   "outputs": [],
   "source": [
    "    from IPython.utils.capture import capture_output\n",
    "    if Ø:\n",
    "        with capture_output(): from reincarnation.vignettes import importing_notebooks "
   ]
  },
  {
   "cell_type": "code",
   "execution_count": 28,
   "metadata": {},
   "outputs": [],
   "source": [
    "    from os import sep; import pandas as pd"
   ]
  },
  {
   "cell_type": "code",
   "execution_count": 29,
   "metadata": {},
   "outputs": [
    {
     "data": {
      "text/html": [
       "<div class=\"flexed-container flexed-row\"><div class=\"flexed-item\" style=\"order: 0;\"><p>The docstring of this presentation <strong>&lt;module 'reincarnation.vignettes.importing_notebooks' from 'c:\\users\\deathbeds\\reincarnation\\reincarnation\\vignettes\\importing_notebooks.ipynb'&gt;</strong> is based on the first markdown cell of the notebook.</p>\n",
       "</div><div class=\"flexed-item\" style=\"order: 0;\"><h1>Importing Notebooks</h1>\n",
       "<p>Common practices use the notebooks as scratch pads.  A simple reminder for a notebook to <strong>restart and run all</strong> provides new opportunities for old ideas.  Notebooks contain code that should be reused, and not rewritten.  <strong>code formatting is for computers.</strong>\n",
       "This presentation is created from a notebook.</p>\n",
       "<blockquote><blockquote><blockquote><p>from reincarnation.vignettes import importing_notebooks</p>\n",
       "</blockquote>\n",
       "</blockquote>\n",
       "</blockquote>\n",
       "</div></div>"
      ],
      "text/plain": [
       "Row(content=[\"The docstring of this presentation __<module 'reincarnation.vignettes.importing_notebooks' from 'c:\\\\users\\\\deathbeds\\\\reincarnation\\\\reincarnation\\\\vignettes\\\\importing_notebooks.ipynb'>__ is based on the first markdown cell of the notebook.\\n\", '# Importing Notebooks\\nCommon practices use the notebooks as scratch pads.  A simple reminder for a notebook to __restart and run all__ provides new opportunities for old ideas.  Notebooks contain code that should be reused, and not rewritten.  __code formatting is for computers.__\\nThis presentation is created from a notebook.\\n>>> from reincarnation.vignettes import importing_notebooks '])"
      ]
     },
     "metadata": {},
     "output_type": "display_data"
    }
   ],
   "source": [
    "    if Ø: F\"\"\"\n",
    "    - |\n",
    "            The docstring of this presentation __{importing_notebooks}__ is based on the first markdown cell of the notebook.\n",
    "\n",
    "    - '{importing_notebooks.__doc__}'\n",
    "    \"\"\""
   ]
  },
  {
   "cell_type": "code",
   "execution_count": 30,
   "metadata": {},
   "outputs": [],
   "source": [
    "    def test_the_markdown_docstrings_match():\n",
    "        from reincarnation.vignettes import importing_notebooks \n",
    "        assert ''.join(pd.read_json(importing_notebooks.__file__, typ='Series').cells[0]['source']) == importing_notebooks.__doc__.strip()"
   ]
  },
  {
   "cell_type": "markdown",
   "metadata": {},
   "source": [
    "Notebooks should we run with IPython, not Python.  "
   ]
  },
  {
   "cell_type": "code",
   "execution_count": 31,
   "metadata": {},
   "outputs": [
    {
     "name": "stdout",
     "output_type": "stream",
     "text": [
      "============================= test session starts =============================\n",
      "platform win32 -- Python 3.6.5, pytest-3.5.1, py-1.5.3, pluggy-0.6.0\n",
      "Matplotlib: 2.2.2\n",
      "Freetype: 2.8.0\n",
      "rootdir: C:\\Users\\deathbeds\\reincarnation, inifile:\n",
      "plugins: xdist-1.22.5, testmon-0.9.12, remotedata-0.2.1, parallel-0.0.2, openfiles-0.3.0, mpl-0.9, localserver-0.4.1, forked-0.2, doctestplus-0.1.3, arraydiff-0.2, hypothesis-3.66.16, importnb-0.5.0\n",
      "collected 1 item\n",
      "<PytestModule 'reincarnation/vignettes/importing_notebooks.ipynb'>\n",
      "  <Function 'test_the_markdown_docstrings_match'>\n",
      "\n",
      "======================== no tests ran in 1.79 seconds =========================\n"
     ]
    }
   ],
   "source": [
    "    if Ø:\n",
    "        !ipython -m pytest -- --collect-only importing_notebooks.ipynb"
   ]
  },
  {
   "cell_type": "code",
   "execution_count": 20,
   "metadata": {},
   "outputs": [
    {
     "name": "stdout",
     "output_type": "stream",
     "text": [
      "Trying:\n",
      "    from reincarnation.vignettes import importing_notebooks\n",
      "Expecting nothing\n",
      "ok\n",
      "1 items had no tests:\n",
      "    reincarnation.vignettes.importing_notebooks.test_the_markdown_docstrings_match\n",
      "1 items passed all tests:\n",
      "   1 tests in reincarnation.vignettes.importing_notebooks\n",
      "1 tests in 2 items.\n",
      "1 passed and 0 failed.\n",
      "Test passed.\n",
      "TestResults(failed=0, attempted=1)\n"
     ]
    }
   ],
   "source": [
    "    if Ø: import doctest; print(doctest.testmod(importing_notebooks, verbose=2))"
   ]
  },
  {
   "cell_type": "code",
   "execution_count": 24,
   "metadata": {},
   "outputs": [
    {
     "data": {
      "text/html": [
       "<div class=\"flexed-container flexed-row\"><div class=\"flexed-item\" style=\"order: 0;\">\n",
       "        <iframe\n",
       "            width=\"500\"\n",
       "            height=\"450\"\n",
       "            src=\"http://nbviewer.jupyter.org/github/deathbeds/deathbeds.github.io/blob/master/deathbeds/2018-07-31-Testing-notebooks.ipynb\"\n",
       "            frameborder=\"0\"\n",
       "            allowfullscreen\n",
       "        ></iframe>\n",
       "        </div><div class=\"flexed-item\" style=\"order: 0;\"><h1>Learn more in our post about testing notebooks.</h1>\n",
       "</div></div>"
      ],
      "text/plain": [
       "Row(content=['http://nbviewer.jupyter.org/github/deathbeds/deathbeds.github.io/blob/master/deathbeds/2018-07-31-Testing-notebooks.ipynb', '# Learn more in our post about testing notebooks.'])"
      ]
     },
     "metadata": {},
     "output_type": "display_data"
    }
   ],
   "source": [
    "    F\"\"\"- {testing}\n",
    "    - '# Learn more in our post about testing notebooks.'\"\"\""
   ]
  },
  {
   "cell_type": "code",
   "execution_count": null,
   "metadata": {},
   "outputs": [],
   "source": []
  }
 ],
 "metadata": {
  "kernelspec": {
   "display_name": "Python 3",
   "language": "python",
   "name": "python3"
  },
  "language_info": {
   "codemirror_mode": {
    "name": "ipython",
    "version": 3
   },
   "file_extension": ".py",
   "mimetype": "text/x-python",
   "name": "python",
   "nbconvert_exporter": "python",
   "pygments_lexer": "ipython3",
   "version": "3.6.5"
  }
 },
 "nbformat": 4,
 "nbformat_minor": 2
}
