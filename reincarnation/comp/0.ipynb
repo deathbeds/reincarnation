{
 "cells": [
  {
   "cell_type": "markdown",
   "metadata": {},
   "source": [
    "# [0](0.ipynb)\n",
    "\n",
    "At deathbeds we use notebooks everyday.  Our notebooks are computational essays that are human and computer readable.  In this section of the presentation, we imagine the significance of Jupyter to its future users and how notebooks provide the basis for modern literacies.\n",
    "\n",
    "    >>> from reincarnation.comp import __0"
   ]
  },
  {
   "cell_type": "code",
   "execution_count": 3,
   "metadata": {},
   "outputs": [],
   "source": [
    "%reload_ext reincarnation\n",
    "from poser import λ"
   ]
  },
  {
   "cell_type": "markdown",
   "metadata": {},
   "source": [
    "# Congrat - u - **frigging** - lations Project Jupyter on the ACM award"
   ]
  },
  {
   "cell_type": "code",
   "execution_count": null,
   "metadata": {},
   "outputs": [],
   "source": [
    "import pandas; pandas.set_option('display.max_colwidth', -1)\n",
    "acm_awards = pandas.read_html(\"\"\"https://en.wikipedia.org/wiki/ACM_Software_System_Award\"\"\")[0].pipe(\n",
    "    lambda df: df.rename(columns=dict(zip(range(len(df.columns)), df.iloc[0]))).iloc[1:]).set_index('Year')\n",
    "acm_awards"
   ]
  },
  {
   "cell_type": "markdown",
   "metadata": {},
   "source": [
    "# What does this mean for Project Jupyter's users?"
   ]
  },
  {
   "cell_type": "markdown",
   "metadata": {},
   "source": [
    "## Congrat - u - frigging - lations to y'all for having **great taste**\n",
    "\n",
    "* you made the right bet\n",
    "* we can hardly imagine the breadth of future users\n",
    "* Jupyter is poised to become a daily piece of ~~computing~~ ~~work~~ life\n",
    "* Think about ~~your~~ ~~our~~ the notebooks in the aggregate\n",
    "* Future users are going to want to do some weird stuff\n",
    "* JupyterHub will connect people to notebooks because they aren't computer people\n",
    "* Work processing, graphic design, data analysis"
   ]
  },
  {
   "cell_type": "markdown",
   "metadata": {},
   "source": [
    "> ## Thank you for make it possible to draw on a computer\n",
    "\n",
    "> Jupyter makes me feel like I wizard reporter."
   ]
  },
  {
   "cell_type": "code",
   "execution_count": 3,
   "metadata": {},
   "outputs": [
    {
     "data": {
      "text/html": [
       "<div class=\"flexed-container flexed-row\"><div class=\"flexed-item\" style=\"order: 0;\"><img src=\"https://images.immediate.co.uk/volatile/sites/3/2017/08/96588.gif\"/></div><div class=\"flexed-item\" style=\"order: 0;\"><img src=\"https://zippy.gfycat.com/CheerfulComplexButterfly.gif\"/></div></div>"
      ],
      "text/plain": [
       "Row(content=['https://images.immediate.co.uk/volatile/sites/3/2017/08/96588.gif', 'https://zippy.gfycat.com/CheerfulComplexButterfly.gif'])"
      ]
     },
     "metadata": {},
     "output_type": "display_data"
    }
   ],
   "source": [
    "\"\"\"\n",
    "- https://images.immediate.co.uk/volatile/sites/3/2017/08/96588.gif\n",
    "- https://zippy.gfycat.com/CheerfulComplexButterfly.gif\n",
    "\"\"\""
   ]
  },
  {
   "cell_type": "markdown",
   "metadata": {},
   "source": [
    "    from deathbeds.__Literally_canvas_data import LiterallyCanvas\n",
    "    LiterallyCanvas()"
   ]
  },
  {
   "cell_type": "markdown",
   "metadata": {},
   "source": [
    "# Github is a Graveyard    \n",
    "    "
   ]
  },
  {
   "cell_type": "code",
   "execution_count": 24,
   "metadata": {},
   "outputs": [],
   "source": [
    "    _nbestimate_ = \"\"\"http://nbviewer.jupyter.org/github/parente/nbestimate/blob/master/estimate.ipynb\"\"\""
   ]
  },
  {
   "cell_type": "code",
   "execution_count": 26,
   "metadata": {},
   "outputs": [
    {
     "data": {
      "text/html": [
       "<div class=\"flexed-container flexed-row\"><div class=\"flexed-item\" style=\"order: 0;\">\n",
       "        <iframe\n",
       "            width=\"500\"\n",
       "            height=\"450\"\n",
       "            src=\"http://nbviewer.jupyter.org/github/parente/nbestimate/blob/master/estimate.ipynb\"\n",
       "            frameborder=\"0\"\n",
       "            allowfullscreen\n",
       "        ></iframe>\n",
       "        </div><div class=\"flexed-item\" style=\"order: 0;\"><table border=\"1\" class=\"dataframe\">  <thead>    <tr>      <th></th>      <th>Unnamed: 0_level_0</th>      <th>hits</th>    </tr>    <tr>      <th></th>      <th>date</th>      <th>Unnamed: 1_level_1</th>    </tr>  </thead>  <tbody>    <tr>      <th>0</th>      <td>2018-07-13</td>      <td>2492680</td>    </tr>    <tr>      <th>1</th>      <td>2018-07-29</td>      <td>2567227</td>    </tr>    <tr>      <th>2</th>      <td>2018-08-18</td>      <td>2660571</td>    </tr>  </tbody></table></div></div>"
      ],
      "text/plain": [
       "Row(content=[{'html': 'http://nbviewer.jupyter.org/github/parente/nbestimate/blob/master/estimate.ipynb'}, '<table border=\"1\" class=\"dataframe\">  <thead>    <tr>      <th></th>      <th>Unnamed: 0_level_0</th>      <th>hits</th>    </tr>    <tr>      <th></th>      <th>date</th>      <th>Unnamed: 1_level_1</th>    </tr>  </thead>  <tbody>    <tr>      <th>0</th>      <td>2018-07-13</td>      <td>2492680</td>    </tr>    <tr>      <th>1</th>      <td>2018-07-29</td>      <td>2567227</td>    </tr>    <tr>      <th>2</th>      <td>2018-08-18</td>      <td>2660571</td>    </tr>  </tbody></table>\\n'])"
      ]
     },
     "metadata": {},
     "output_type": "display_data"
    }
   ],
   "source": [
    "    f\"\"\"- html: {_nbestimate_}\n",
    "    - |\n",
    "\n",
    "        {''.join(λ.pandas.read_html().first()(_nbestimate_).to_html().splitlines())}\n",
    "    \"\"\""
   ]
  },
  {
   "cell_type": "code",
   "execution_count": 2,
   "metadata": {},
   "outputs": [
    {
     "data": {
      "text/html": [
       "<div class=\"flexed-container flexed-row\"><div class=\"flexed-container flexed-column\"><div class=\"flexed-item\" style=\"order: 0;\"><h1>Exploration and Explanation in Computational Notebook</h1>\n",
       "</div><div class=\"flexed-item\" style=\"order: 0;\"><blockquote><p><em>This figure\n",
       "should be considered as a <strong>lower-bound</strong> as analysts may have\n",
       "done a <strong>clean run</strong> of their notebook <strong>before sharing</strong> it online.</em></p>\n",
       "</blockquote>\n",
       "</div></div><div class=\"flexed-container flexed-column\"><div class=\"flexed-item\" style=\"order: 0;\"><blockquote><p><em>Finally, the <strong>exploratory and iterative</strong> nature of data analysis is\n",
       "reflected in the fact that <strong>nearly half</strong> (43.9%) of notebooks were\n",
       "uploaded to GitHub with a <strong>non-linear execution</strong> order.</em></p>\n",
       "</blockquote>\n",
       "</div><div class=\"flexed-item\" style=\"order: 0;\">\n",
       "        <iframe\n",
       "            width=\"500\"\n",
       "            height=\"450\"\n",
       "            src=\"http://adamrule.com/files/papers/chi_2018_computational_notebooks_camera_ready.pdf#page=5\"\n",
       "            frameborder=\"0\"\n",
       "            allowfullscreen\n",
       "        ></iframe>\n",
       "        </div></div></div>"
      ],
      "text/plain": [
       "Row(content=[['# Exploration and Explanation in Computational Notebook', '> _This figure\\nshould be considered as a **lower-bound** as analysts may have\\ndone a **clean run** of their notebook **before sharing** it online._  \\n'], ['> _Finally, the **exploratory and iterative** nature of data analysis is\\nreflected in the fact that **nearly half** (43.9%) of notebooks were\\nuploaded to GitHub with a **non-linear execution** order._\\n', {'html': 'http://adamrule.com/files/papers/chi_2018_computational_notebooks_camera_ready.pdf#page=5'}]])"
      ]
     },
     "metadata": {},
     "output_type": "display_data"
    }
   ],
   "source": [
    "\"\"\"\n",
    "- - '# Exploration and Explanation in Computational Notebook'\n",
    "  - |\n",
    "    > _This figure\n",
    "    should be considered as a **lower-bound** as analysts may have\n",
    "    done a **clean run** of their notebook **before sharing** it online._  \n",
    "- - |\n",
    "    > _Finally, the **exploratory and iterative** nature of data analysis is\n",
    "    reflected in the fact that **nearly half** (43.9%) of notebooks were\n",
    "    uploaded to GitHub with a **non-linear execution** order._\n",
    "  - html: http://adamrule.com/files/papers/chi_2018_computational_notebooks_camera_ready.pdf#page=5\n",
    "\"\"\""
   ]
  },
  {
   "cell_type": "code",
   "execution_count": 65,
   "metadata": {},
   "outputs": [
    {
     "data": {
      "text/html": [
       "<div class=\"flexed-container flexed-row\"><div class=\"flexed-container flexed-column\"><div class=\"flexed-item\" style=\"order: 0;\"><h2>In (Mainstream) Science Journalism</h2>\n",
       "</div><div class=\"flexed-item\" style=\"order: 0;\">\n",
       "        <iframe\n",
       "            width=\"500\"\n",
       "            height=\"450\"\n",
       "            src=\"http://nbviewer.jupyter.org/github/robertodealmeida/notebooks/blob/master/scientific_american/Scientific%20American%20graph.ipynb\"\n",
       "            frameborder=\"0\"\n",
       "            allowfullscreen\n",
       "        ></iframe>\n",
       "        </div></div><div class=\"flexed-container flexed-column\"><div class=\"flexed-item\" style=\"order: 0;\"><h2>IN SPAAACE</h2>\n",
       "</div><div class=\"flexed-item\" style=\"order: 0;\">\n",
       "        <iframe\n",
       "            width=\"500\"\n",
       "            height=\"450\"\n",
       "            src=\"http://nbviewer.jupyter.org/github/minrk/ligo-binder/blob/master/index.ipynb\"\n",
       "            frameborder=\"0\"\n",
       "            allowfullscreen\n",
       "        ></iframe>\n",
       "        </div></div></div>"
      ],
      "text/plain": [
       "Row(content=[['## In (Mainstream) Science Journalism\\n', {'text/html': 'http://nbviewer.jupyter.org/github/robertodealmeida/notebooks/blob/master/scientific_american/Scientific%20American%20graph.ipynb'}], ['## IN SPAAACE\\n', {'text/html': 'http://nbviewer.jupyter.org/github/minrk/ligo-binder/blob/master/index.ipynb'}]])"
      ]
     },
     "metadata": {},
     "output_type": "display_data"
    },
    {
     "data": {
      "text/html": [
       "\n",
       "        <iframe\n",
       "            width=\"100%\"\n",
       "            height=\"450\"\n",
       "            src=\"https://www.theatlantic.com/science/archive/2018/04/the-scientific-paper-is-obsolete/556676/\"\n",
       "            frameborder=\"0\"\n",
       "            allowfullscreen\n",
       "        ></iframe>\n",
       "        "
      ],
      "text/plain": [
       "<IPython.lib.display.IFrame at 0x7efd6e5d90f0>"
      ]
     },
     "metadata": {},
     "output_type": "display_data"
    }
   ],
   "source": [
    "    \"\"\"\n",
    "    - - |\n",
    "        ## In (Mainstream) Science Journalism\n",
    "      - text/html: http://nbviewer.jupyter.org/github/robertodealmeida/notebooks/blob/master/scientific_american/Scientific%20American%20graph.ipynb\n",
    "    - - |\n",
    "        ## IN SPAAACE\n",
    "      - text/html: http://nbviewer.jupyter.org/github/minrk/ligo-binder/blob/master/index.ipynb\n",
    "    \"\"\"\n",
    "    \"\"\"https://www.theatlantic.com/science/archive/2018/04/the-scientific-paper-is-obsolete/556676/\"\"\""
   ]
  },
  {
   "cell_type": "code",
   "execution_count": 11,
   "metadata": {},
   "outputs": [
    {
     "data": {
      "text/html": [
       "<div class=\"flexed-container flexed-row\"><div class=\"flexed-item\" style=\"order: 0;\"><h1>It's clear that this is not by accident</h1>\n",
       "</div><div class=\"flexed-item\" style=\"order: 0;\"><p><img src=\"https://camo.githubusercontent.com/a8d4be63da2f73339f35839d4c006f080b13104a/68747470733a2f2f75706c6f61642e77696b696d656469612e6f72672f77696b6970656469612f636f6d6d6f6e732f342f34382f446174615f64726976656e5f6a6f75726e616c69736d5f70726f636573732e6a7067\" alt=\"\"></p>\n",
       "</div></div>"
      ],
      "text/plain": [
       "Row(content=[\"# It's clear that this is not by accident\\n\", '![](https://camo.githubusercontent.com/a8d4be63da2f73339f35839d4c006f080b13104a/68747470733a2f2f75706c6f61642e77696b696d656469612e6f72672f77696b6970656469612f636f6d6d6f6e732f342f34382f446174615f64726976656e5f6a6f75726e616c69736d5f70726f636573732e6a7067)'])"
      ]
     },
     "metadata": {},
     "output_type": "display_data"
    }
   ],
   "source": [
    "\"\"\"\n",
    "- |\n",
    "    # It's clear that this is not by accident\n",
    "- '![](https://camo.githubusercontent.com/a8d4be63da2f73339f35839d4c006f080b13104a/68747470733a2f2f75706c6f61642e77696b696d656469612e6f72672f77696b6970656469612f636f6d6d6f6e732f342f34382f446174615f64726976656e5f6a6f75726e616c69736d5f70726f636573732e6a7067)'\n",
    "\"\"\""
   ]
  },
  {
   "cell_type": "code",
   "execution_count": 14,
   "metadata": {},
   "outputs": [
    {
     "data": {
      "image/svg+xml": [
       "<?xml version=\"1.0\" encoding=\"UTF-8\" standalone=\"no\"?>\r\n",
       "<!DOCTYPE svg PUBLIC \"-//W3C//DTD SVG 1.1//EN\"\r\n",
       " \"http://www.w3.org/Graphics/SVG/1.1/DTD/svg11.dtd\">\r\n",
       "<!-- Generated by graphviz version 2.38.0 (20140413.2041)\r\n",
       " -->\r\n",
       "<!-- Title: %3 Pages: 1 -->\r\n",
       "<svg width=\"308pt\" height=\"67pt\"\r\n",
       " viewBox=\"0.00 0.00 308.18 67.00\" xmlns=\"http://www.w3.org/2000/svg\" xmlns:xlink=\"http://www.w3.org/1999/xlink\">\r\n",
       "<g id=\"graph0\" class=\"graph\" transform=\"scale(1 1) rotate(0) translate(4 63)\">\r\n",
       "<title>%3</title>\r\n",
       "<polygon fill=\"white\" stroke=\"none\" points=\"-4,4 -4,-63 304.185,-63 304.185,4 -4,4\"/>\r\n",
       "<!-- data -->\r\n",
       "<g id=\"node1\" class=\"node\"><title>data</title>\r\n",
       "<ellipse fill=\"none\" stroke=\"black\" cx=\"27\" cy=\"-18\" rx=\"27\" ry=\"18\"/>\r\n",
       "<text text-anchor=\"middle\" x=\"27\" y=\"-14.3\" font-family=\"Times New Roman,serif\" font-size=\"14.00\">data</text>\r\n",
       "</g>\r\n",
       "<!-- science -->\r\n",
       "<g id=\"node2\" class=\"node\"><title>science</title>\r\n",
       "<ellipse fill=\"none\" stroke=\"black\" cx=\"127.697\" cy=\"-41\" rx=\"37.8943\" ry=\"18\"/>\r\n",
       "<text text-anchor=\"middle\" x=\"127.697\" y=\"-37.3\" font-family=\"Times New Roman,serif\" font-size=\"14.00\">science</text>\r\n",
       "</g>\r\n",
       "<!-- data&#45;&#45;science -->\r\n",
       "<g id=\"edge1\" class=\"edge\"><title>data&#45;&#45;science</title>\r\n",
       "<path fill=\"none\" stroke=\"black\" d=\"M52.6507,-23.7445C64.9835,-26.6185 80.0891,-30.1387 93.433,-33.2483\"/>\r\n",
       "</g>\r\n",
       "<!-- computing -->\r\n",
       "<g id=\"node3\" class=\"node\"><title>computing</title>\r\n",
       "<ellipse fill=\"none\" stroke=\"black\" cx=\"250.789\" cy=\"-18\" rx=\"49.2915\" ry=\"18\"/>\r\n",
       "<text text-anchor=\"middle\" x=\"250.789\" y=\"-14.3\" font-family=\"Times New Roman,serif\" font-size=\"14.00\">computing</text>\r\n",
       "</g>\r\n",
       "<!-- science&#45;&#45;computing -->\r\n",
       "<g id=\"edge2\" class=\"edge\"><title>science&#45;&#45;computing</title>\r\n",
       "<path fill=\"none\" stroke=\"black\" d=\"M163.073,-34.4706C176.638,-31.8942 192.373,-28.9055 206.686,-26.1869\"/>\r\n",
       "</g>\r\n",
       "<!-- computing&#45;&#45;data -->\r\n",
       "<g id=\"edge3\" class=\"edge\"><title>computing&#45;&#45;data</title>\r\n",
       "<path fill=\"none\" stroke=\"black\" d=\"M201.602,-15.3217C189.766,-14.7727 177.125,-14.2779 165.393,-14 131.895,-13.2066 123.491,-12.9208 90,-14 78.1413,-14.3821 65.0265,-15.1744 53.9246,-15.9538\"/>\r\n",
       "</g>\r\n",
       "</g>\r\n",
       "</svg>\r\n"
      ],
      "text/plain": [
       "<graphviz.files.Source at 0x223319fd550>"
      ]
     },
     "metadata": {},
     "output_type": "display_data"
    },
    {
     "data": {
      "text/html": [
       "<div class=\"flexed-container flexed-row\"><div class=\"flexed-item\" style=\"order: 0;\"><h4><a href=\"\">\"Literate computing\" and computational reproducibility: IPython in the age of data-driven journalism</a></h4>\n",
       "<blockquote><p>Our job with Jupyter<del>IPython</del> is to think deeply about questions regarding the intersection of <em><strong>computing, data and science</strong></em>, but it's clear \n",
       "to me at this point that we can contribute in contexts beyond pure scientific research. I hope we'll be able to provide folks who have \n",
       "a <em><strong>direct intersection with the public</strong></em>, such as journalists, with tools that help a more informed and productive debate.</p>\n",
       "</blockquote>\n",
       "</div></div>"
      ],
      "text/plain": [
       "Row(content=['#### [\"Literate computing\" and computational reproducibility: IPython in the age of data-driven journalism]()\\n> Our job with Jupyter~~IPython~~ is to think deeply about questions regarding the intersection of _**computing, data and science**_, but it\\'s clear \\nto me at this point that we can contribute in contexts beyond pure scientific research. I hope we\\'ll be able to provide folks who have \\na _**direct intersection with the public**_, such as journalists, with tools that help a more informed and productive debate.\\n'])"
      ]
     },
     "metadata": {},
     "output_type": "display_data"
    },
    {
     "data": {
      "text/html": [
       "\n",
       "        <iframe\n",
       "            width=\"100%\"\n",
       "            height=\"450\"\n",
       "            src=\"http://blog.fperez.org/2013/04/literate-computing-and-computational.html\"\n",
       "            frameborder=\"0\"\n",
       "            allowfullscreen\n",
       "        ></iframe>\n",
       "        "
      ],
      "text/plain": [
       "<IPython.lib.display.IFrame at 0x223319fd550>"
      ]
     },
     "metadata": {},
     "output_type": "display_data"
    }
   ],
   "source": [
    "\"\"\"graph {rankdir=LR data--science--computing--data}\"\"\"\n",
    "\"\"\"\n",
    "- |\n",
    "    #### [\"Literate computing\" and computational reproducibility: IPython in the age of data-driven journalism]()\n",
    "    > Our job with Jupyter~~IPython~~ is to think deeply about questions regarding the intersection of _**computing, data and science**_, but it's clear \n",
    "    to me at this point that we can contribute in contexts beyond pure scientific research. I hope we'll be able to provide folks who have \n",
    "    a _**direct intersection with the public**_, such as journalists, with tools that help a more informed and productive debate.\n",
    "\"\"\" \n",
    "\"\"\"http://blog.fperez.org/2013/04/literate-computing-and-computational.html\"\"\""
   ]
  },
  {
   "cell_type": "code",
   "execution_count": 33,
   "metadata": {},
   "outputs": [
    {
     "data": {
      "text/html": [
       "<div class=\"flexed-container flexed-row\"><div class=\"flexed-container flexed-column\"><div class=\"flexed-item\" style=\"order: 0;\"><h1>Notebooks are a basis for creativity in modern literacies</h1>\n",
       "</div></div><div class=\"flexed-container flexed-column\"><div class=\"flexed-item\" style=\"order: 0;\"><h1>Real data is <del>informing</del> informed by human design.</h1>\n",
       "</div></div></div>"
      ],
      "text/plain": [
       "Row(content=[['# Notebooks are a basis for creativity in modern literacies\\n'], ['# Real data is ~~informing~~ informed by human design.']])"
      ]
     },
     "metadata": {},
     "output_type": "display_data"
    }
   ],
   "source": [
    "\"\"\"- - |\n",
    "    # Notebooks are a basis for creativity in modern literacies\n",
    "- - |\n",
    "    # Real data is ~~informing~~ informed by human design.\"\"\""
   ]
  },
  {
   "cell_type": "markdown",
   "metadata": {},
   "source": [
    "# Deathbeds is our collaboration\n",
    "\n",
    "We apply literate programming and testing idioms to craft unique interactive computing experiences in notebooks.  We draw with code."
   ]
  },
  {
   "cell_type": "markdown",
   "metadata": {},
   "source": [
    "## Some of our creative inspirations"
   ]
  },
  {
   "cell_type": "code",
   "execution_count": 16,
   "metadata": {},
   "outputs": [
    {
     "data": {
      "text/html": [
       "<div class=\"flexed-container flexed-row\"><div class=\"flexed-container flexed-column\"><div class=\"flexed-item\" style=\"order: 0;\"><h2>Brett Victor &amp; Dynamicland</h2>\n",
       "</div><div class=\"flexed-item\" style=\"order: 0;\">\n",
       "        <iframe\n",
       "            width=\"500\"\n",
       "            height=\"450\"\n",
       "            src=\"http://worrydream.com/Tangle/\"\n",
       "            frameborder=\"0\"\n",
       "            allowfullscreen\n",
       "        ></iframe>\n",
       "        </div><div class=\"flexed-item\" style=\"order: 0;\">\n",
       "        <iframe\n",
       "            width=\"500\"\n",
       "            height=\"450\"\n",
       "            src=\"https://rsnous.com/posts/notes-from-dynamicland-geokit/#all-the-parts\"\n",
       "            frameborder=\"0\"\n",
       "            allowfullscreen\n",
       "        ></iframe>\n",
       "        </div></div><div class=\"flexed-container flexed-column\"><div class=\"flexed-item\" style=\"order: 0;\"><h2>Interactive Education</h2>\n",
       "</div><div class=\"flexed-item\" style=\"order: 0;\">\n",
       "        <iframe\n",
       "            width=\"500\"\n",
       "            height=\"450\"\n",
       "            src=\"https://idyll-lang.org/gallery/how-to-tune-a-guitar\"\n",
       "            frameborder=\"0\"\n",
       "            allowfullscreen\n",
       "        ></iframe>\n",
       "        </div></div><div class=\"flexed-container flexed-column\"><div class=\"flexed-item\" style=\"order: 0;\"><h2>P<strong>articles</strong> (New York Times)</h2>\n",
       "</div><div class=\"flexed-item\" style=\"order: 0;\">\n",
       "        <iframe\n",
       "            width=\"500\"\n",
       "            height=\"450\"\n",
       "            src=\"http://nytlabs.com/blog/2015/10/20/particles/\"\n",
       "            frameborder=\"0\"\n",
       "            allowfullscreen\n",
       "        ></iframe>\n",
       "        </div></div><div class=\"flexed-container flexed-column\"><div class=\"flexed-item\" style=\"order: 0;\"><h2>Rune Madsen</h2>\n",
       "</div><div class=\"flexed-item\" style=\"order: 0;\">\n",
       "        <iframe\n",
       "            width=\"500\"\n",
       "            height=\"450\"\n",
       "            src=\"http://printingcode.runemadsen.com/lecture-color/\"\n",
       "            frameborder=\"0\"\n",
       "            allowfullscreen\n",
       "        ></iframe>\n",
       "        </div></div><div class=\"flexed-container flexed-column\"><div class=\"flexed-item\" style=\"order: 0;\"><h2>The Bauhaus</h2>\n",
       "</div><div class=\"flexed-item\" style=\"order: 0;\">\n",
       "        <iframe\n",
       "            width=\"500\"\n",
       "            height=\"450\"\n",
       "            src=\"https://www.theartstory.org/movement-bauhaus.htm#key_ideas_header\"\n",
       "            frameborder=\"0\"\n",
       "            allowfullscreen\n",
       "        ></iframe>\n",
       "        </div></div><div class=\"flexed-item\" style=\"order: 0;\"><p>Lab notebooks</p>\n",
       "</div></div>"
      ],
      "text/plain": [
       "Row(content=[['## Brett Victor & Dynamicland', {'html': 'http://worrydream.com/Tangle/'}, {'html': 'https://rsnous.com/posts/notes-from-dynamicland-geokit/#all-the-parts'}], ['## Interactive Education', {'html': 'https://idyll-lang.org/gallery/how-to-tune-a-guitar'}], ['## P**articles** (New York Times)', {'html': 'http://nytlabs.com/blog/2015/10/20/particles/'}], ['## Rune Madsen', {'html': 'http://printingcode.runemadsen.com/lecture-color/'}], ['## The Bauhaus', {'html': 'https://www.theartstory.org/movement-bauhaus.htm#key_ideas_header'}], 'Lab notebooks'])"
      ]
     },
     "metadata": {},
     "output_type": "display_data"
    }
   ],
   "source": [
    "    \"\"\"\n",
    "    - - '## Brett Victor & Dynamicland'\n",
    "      - html: http://worrydream.com/Tangle/\n",
    "      - html: https://rsnous.com/posts/notes-from-dynamicland-geokit/#all-the-parts\n",
    "    - - '## Interactive Education'\n",
    "      - html: https://idyll-lang.org/gallery/how-to-tune-a-guitar\n",
    "    - - '## P**articles** (New York Times)'\n",
    "      - html: http://nytlabs.com/blog/2015/10/20/particles/\n",
    "    - - '## Rune Madsen'\n",
    "      - html: http://printingcode.runemadsen.com/lecture-color/\n",
    "    - - '## The Bauhaus'\n",
    "      - html: https://www.theartstory.org/movement-bauhaus.htm#key_ideas_header\n",
    "    - Lab notebooks\n",
    "    \"\"\""
   ]
  },
  {
   "cell_type": "code",
   "execution_count": null,
   "metadata": {},
   "outputs": [],
   "source": []
  }
 ],
 "metadata": {
  "kernelspec": {
   "display_name": "Python 3",
   "language": "python",
   "name": "python3"
  },
  "language_info": {
   "codemirror_mode": {
    "name": "ipython",
    "version": 3
   },
   "file_extension": ".py",
   "mimetype": "text/x-python",
   "name": "python",
   "nbconvert_exporter": "python",
   "pygments_lexer": "ipython3",
   "version": "3.6.5"
  }
 },
 "nbformat": 4,
 "nbformat_minor": 2
}
