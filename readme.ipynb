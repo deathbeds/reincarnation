{
 "cells": [
  {
   "cell_type": "markdown",
   "metadata": {},
   "source": [
    "# [Reincarnation of a notebook](https://conferences.oreilly.com/jupyter/jup-ny/public/schedule/detail/68439)\n",
    "\n",
    ">> 5:00pm–5:40pm Thursday, August 23, 2018 @ [JupyterCon](https://conferences.oreilly.com/jupyter/jup-ny)\n",
    "\n",
    "> presented by [__deathbeds__](https://github.com/deathbeds)\n",
    "\n",
    "To its author, a single Jupyter Notebook can represent a narrative, a program, or data. While this dynamic, interactive state of an editing session is fleeting, the work represented lies dormant, waiting to be unlocked. Confounding the rediscovery and reuse of notebooks are technical issues, some of which can be solved at the language-agnostic Jupyter level, while others are deeply embedded in the quirks of a particular kernel or language. At the human-machine interface, nontechnical issues arise, requiring style conventions and best practices to create literate notebooks for others.\n",
    "\n",
    "Tony Fast and Nick Bollweg explore conventions that create notebooks with value long past their inception as documents, software packages, test suites, and interactive applications. You’ll learn how to transform various passive states of notebooks and discover how core Jupyter technologies integrate into the larger scientific computing ecosystem to create readable, reusable, reproducible, and recyclable computable documents."
   ]
  }
 ],
 "metadata": {
  "kernelspec": {
   "display_name": "p6",
   "language": "python",
   "name": "other-env"
  },
  "language_info": {
   "codemirror_mode": {
    "name": "ipython",
    "version": 3
   },
   "file_extension": ".py",
   "mimetype": "text/x-python",
   "name": "python",
   "nbconvert_exporter": "python",
   "pygments_lexer": "ipython3",
   "version": "3.6.3"
  }
 },
 "nbformat": 4,
 "nbformat_minor": 2
}
