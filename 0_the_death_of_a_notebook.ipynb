{
 "cells": [
  {
   "cell_type": "markdown",
   "metadata": {},
   "source": [
    "# The Death of Notebooks\n",
    "# ⚰⚰⚰⚰⚰⚰⚰⚰⚰⚰⚰⚰⚰⚰\n",
    "\n",
    "It takes a lot of energy to maintain notebooks.  If people place their energy there then nothing will get done.\n",
    "\n",
    "Notebooks take nurturing. They require nutrients.\n"
   ]
  },
  {
   "cell_type": "code",
   "execution_count": 1,
   "metadata": {},
   "outputs": [
    {
     "data": {
      "text/html": [
       "<style>\n",
       ".jp-RenderedHTMLCommon pre code {\n",
       "    text-decoration: line-through wavy;\n",
       "}\n",
       ".jp-RenderedHTMLCommon pre code:hover {\n",
       "    text-decoration: none;\n",
       "    \n",
       "}\n",
       ".jp-Placeholder-content .jp-MoreHorizIcon {\n",
       "    background-size: 32px;\n",
       "}\n",
       "\n",
       "@import url(\"https://cdn.jsdelivr.net/npm/firacode@1.205.0/distr/fira_code.css\")\n",
       "\n",
       ".CodeMirror * {\n",
       "  font-family: 'Fira Code' !important; \n",
       "  font-variant-ligatures: initial !important;\n",
       "}\n",
       "\n",
       ".cm-string {\n",
       "    font-variant-ligatures: none;\n",
       "}\n",
       "</style><style>\n",
       ".jp-mod-presentationMode .jp-SideBar,\n",
       ".jp-mod-presentationMode #jp-top-panel {\n",
       "    opacity: 0.0;\n",
       "    transition: all 0.2s;\n",
       "}\n",
       ".jp-mod-presentationMode .jp-SideBar:hover,\n",
       ".jp-mod-presentationMode #jp-top-panel:hover {\n",
       "    opacity: 0.9;\n",
       "    transition: all 0.2s;\n",
       "}\n",
       "\n",
       "</style><style>\n",
       ".jp-mod-presentationMode.jp-ApplicationShell,\n",
       ".jp-mod-presentationMode .p-TabBar-content{\n",
       "    background-color: var(--jp-layout-color0);\n",
       "}\n",
       "</style><style>\n",
       ".jp-mod-presentationMode .p-DockPanel-widget,\n",
       ".jp-mod-presentationMode #jp-left-stack{\n",
       "    border-color: transparent;\n",
       "}\n",
       ".jp-mod-presentationMode .jp-Toolbar-item,\n",
       ".jp-mod-presentationMode .jp-Toolbar {\n",
       "    opacity: 0.1;\n",
       "    transition: all 0.2s;\n",
       "}\n",
       ".jp-mod-presentationMode .jp-Toolbar-item:hover,\n",
       ".jp-mod-presentationMode .jp-Toolbar:hover {\n",
       "    opacity: 0.9;\n",
       "    transition: all 0.2s;\n",
       "}\n",
       "\n",
       "</style><style>\n",
       ".jp-mod-presentationMode .jp-OutputPrompt,\n",
       ".jp-mod-presentationMode .jp-InputPrompt {\n",
       "    max-width: 2rem !important;\n",
       "    transition: all 0.2s;\n",
       "}\n",
       ".jp-mod-presentationMode .jp-Cell.jp-mod-selected .jp-OutputPrompt,\n",
       ".jp-mod-presentationMode .jp-Cell.jp-mod-selected .jp-InputPrompt,\n",
       ".jp-mod-presentationMode .jp-Cell:hover .jp-OutputPrompt,\n",
       ".jp-mod-presentationMode .jp-Cell:hover .jp-InputPrompt {\n",
       "    max-width: 10rem !important;\n",
       "    transition: all 0.2s;\n",
       "}\n",
       "\n",
       ".jp-mod-presentationMode .jp-Cell {\n",
       "    margin-bottom: 5rem;\n",
       "}\n",
       "\n",
       ".jp-mod-presentationMode hr {\n",
       "    opacity: 0.1;\n",
       "}\n",
       "</style>\n",
       "    <style>\n",
       "    .jp-TableOfContents-content h1, \n",
       "    .jp-TableOfContents-content h2 {\n",
       "        margin-bottom: var(--jp-ui-font-size0)\n",
       "    }\n",
       "    </style>\n",
       "    \n",
       "    <style>\n",
       "    .jp-mod-presentationMode {\n",
       "        --jp-content-heading-line-height: 1.25 !important;\n",
       "    }\n",
       "    </style>\n",
       "    "
      ],
      "text/plain": [
       "<IPython.core.display.HTML object>"
      ]
     },
     "metadata": {},
     "output_type": "display_data"
    }
   ],
   "source": [
    "from . import style; from poser import *"
   ]
  },
  {
   "cell_type": "code",
   "execution_count": 2,
   "metadata": {},
   "outputs": [
    {
     "data": {
      "text/markdown": [
       "## Github is a Graveyard\n",
       "\n",
       "    \"\"\"http://nbviewer.jupyter.org/github/parente/nbestimate/blob/master/estimate.ipynb\"\"\"\n",
       "\n",
       "    λ.pandas.read_html(\"\"\"http://nbviewer.jupyter.org/github/parente/nbestimate/blob/master/estimate.ipynb\"\"\"\n",
       "                      ).first()().iloc[::-1]\n"
      ],
      "text/plain": [
       "<IPython.core.display.Markdown object>"
      ]
     },
     "metadata": {},
     "output_type": "display_data"
    },
    {
     "data": {
      "text/html": [
       "\n",
       "        <iframe\n",
       "            width=\"600\"\n",
       "            height=\"400\"\n",
       "            src=\"http://nbviewer.jupyter.org/github/parente/nbestimate/blob/master/estimate.ipynb\"\n",
       "            frameborder=\"0\"\n",
       "            allowfullscreen\n",
       "        ></iframe>\n",
       "        "
      ],
      "text/plain": [
       "<IPython.lib.display.IFrame at 0x1e67cb7bc18>"
      ]
     },
     "metadata": {},
     "output_type": "display_data"
    },
    {
     "data": {
      "text/html": [
       "<div>\n",
       "<style scoped>\n",
       "    .dataframe tbody tr th:only-of-type {\n",
       "        vertical-align: middle;\n",
       "    }\n",
       "\n",
       "    .dataframe tbody tr th {\n",
       "        vertical-align: top;\n",
       "    }\n",
       "\n",
       "    .dataframe thead tr th {\n",
       "        text-align: left;\n",
       "    }\n",
       "</style>\n",
       "<table border=\"1\" class=\"dataframe\">\n",
       "  <thead>\n",
       "    <tr>\n",
       "      <th></th>\n",
       "      <th>Unnamed: 0_level_0</th>\n",
       "      <th>hits</th>\n",
       "    </tr>\n",
       "    <tr>\n",
       "      <th></th>\n",
       "      <th>date</th>\n",
       "      <th>Unnamed: 1_level_1</th>\n",
       "    </tr>\n",
       "  </thead>\n",
       "  <tbody>\n",
       "    <tr>\n",
       "      <th>2</th>\n",
       "      <td>2018-07-29</td>\n",
       "      <td>2567227</td>\n",
       "    </tr>\n",
       "    <tr>\n",
       "      <th>1</th>\n",
       "      <td>2018-07-13</td>\n",
       "      <td>2492680</td>\n",
       "    </tr>\n",
       "    <tr>\n",
       "      <th>0</th>\n",
       "      <td>2018-06-18</td>\n",
       "      <td>2368584</td>\n",
       "    </tr>\n",
       "  </tbody>\n",
       "</table>\n",
       "</div>"
      ],
      "text/plain": [
       "  Unnamed: 0_level_0               hits\n",
       "                date Unnamed: 1_level_1\n",
       "2         2018-07-29            2567227\n",
       "1         2018-07-13            2492680\n",
       "0         2018-06-18            2368584"
      ]
     },
     "execution_count": 2,
     "metadata": {},
     "output_type": "execute_result"
    }
   ],
   "source": [
    "## Github is a Graveyard\n",
    "\n",
    "    \"\"\"http://nbviewer.jupyter.org/github/parente/nbestimate/blob/master/estimate.ipynb\"\"\"\n",
    "\n",
    "    λ.🐼.read_html(\"\"\"http://nbviewer.jupyter.org/github/parente/nbestimate/blob/master/estimate.ipynb\"\"\"\n",
    "                      ).first()().iloc[::-1]"
   ]
  },
  {
   "cell_type": "code",
   "execution_count": 3,
   "metadata": {},
   "outputs": [
    {
     "data": {
      "text/markdown": [
       "## Restart and Run All or it didn't happen\n",
       "\n",
       "   \n",
       "    \"\"\"http://adamrule.com/files/papers/chi_2018_computational_notebooks_camera_ready.pdf\"\"\"\n",
       "\n",
       "> Finally, the exploratory and iterative nature of data analysis is\n",
       "reflected in the fact that nearly half (43.9%) of notebooks were\n",
       "uploaded to GitHub with a non-linear execution order. This\n",
       "means that analysts went back and re-ran earlier cells, rather\n",
       "than just linearly writing and executing code. This figure\n",
       "should be considered as a lower-bound as analysts may have\n",
       "done a clean run of their notebook before sharing it online. \n"
      ],
      "text/plain": [
       "<IPython.core.display.Markdown object>"
      ]
     },
     "metadata": {},
     "output_type": "display_data"
    },
    {
     "data": {
      "text/html": [
       "\n",
       "        <iframe\n",
       "            width=\"600\"\n",
       "            height=\"400\"\n",
       "            src=\"http://adamrule.com/files/papers/chi_2018_computational_notebooks_camera_ready.pdf\"\n",
       "            frameborder=\"0\"\n",
       "            allowfullscreen\n",
       "        ></iframe>\n",
       "        "
      ],
      "text/plain": [
       "<IPython.lib.display.IFrame at 0x1e67e6355f8>"
      ]
     },
     "metadata": {},
     "output_type": "display_data"
    }
   ],
   "source": [
    "## Restart and Run All or it didn't happen\n",
    "\n",
    "   \n",
    "    \"\"\"http://adamrule.com/files/papers/chi_2018_computational_notebooks_camera_ready.pdf\"\"\"\n",
    "\n",
    "> Finally, the exploratory and iterative nature of data analysis is\n",
    "reflected in the fact that nearly half (43.9%) of notebooks were\n",
    "uploaded to GitHub with a non-linear execution order. This\n",
    "means that analysts went back and re-ran earlier cells, rather\n",
    "than just linearly writing and executing code. This figure\n",
    "should be considered as a lower-bound as analysts may have\n",
    "done a clean run of their notebook before sharing it online. "
   ]
  },
  {
   "cell_type": "code",
   "execution_count": 4,
   "metadata": {},
   "outputs": [
    {
     "data": {
      "text/markdown": [
       "## Notebooks are for testing \n",
       "\n",
       "    \n",
       "* ### Ideas\n",
       "* ### Data\n",
       "* ### APIs\n",
       "    \n",
       "        \"\"\"graph {computing -- data -- science -- computing}\"\"\"\n",
       "\n",
       "* ### Something in the future\n"
      ],
      "text/plain": [
       "<IPython.core.display.Markdown object>"
      ]
     },
     "metadata": {},
     "output_type": "display_data"
    },
    {
     "data": {
      "image/svg+xml": [
       "<?xml version=\"1.0\" encoding=\"UTF-8\" standalone=\"no\"?>\r\n",
       "<!DOCTYPE svg PUBLIC \"-//W3C//DTD SVG 1.1//EN\"\r\n",
       " \"http://www.w3.org/Graphics/SVG/1.1/DTD/svg11.dtd\">\r\n",
       "<!-- Generated by graphviz version 2.38.0 (20140413.2041)\r\n",
       " -->\r\n",
       "<!-- Title: %3 Pages: 1 -->\r\n",
       "<svg width=\"111pt\" height=\"188pt\"\r\n",
       " viewBox=\"0.00 0.00 111.40 188.00\" xmlns=\"http://www.w3.org/2000/svg\" xmlns:xlink=\"http://www.w3.org/1999/xlink\">\r\n",
       "<g id=\"graph0\" class=\"graph\" transform=\"scale(1 1) rotate(0) translate(4 184)\">\r\n",
       "<title>%3</title>\r\n",
       "<polygon fill=\"white\" stroke=\"none\" points=\"-4,4 -4,-184 107.396,-184 107.396,4 -4,4\"/>\r\n",
       "<!-- computing -->\r\n",
       "<g id=\"node1\" class=\"node\"><title>computing</title>\r\n",
       "<ellipse fill=\"none\" stroke=\"black\" cx=\"54\" cy=\"-162\" rx=\"49.2915\" ry=\"18\"/>\r\n",
       "<text text-anchor=\"middle\" x=\"54\" y=\"-158.3\" font-family=\"Times New Roman,serif\" font-size=\"14.00\">computing</text>\r\n",
       "</g>\r\n",
       "<!-- data -->\r\n",
       "<g id=\"node2\" class=\"node\"><title>data</title>\r\n",
       "<ellipse fill=\"none\" stroke=\"black\" cx=\"27\" cy=\"-90\" rx=\"27\" ry=\"18\"/>\r\n",
       "<text text-anchor=\"middle\" x=\"27\" y=\"-86.3\" font-family=\"Times New Roman,serif\" font-size=\"14.00\">data</text>\r\n",
       "</g>\r\n",
       "<!-- computing&#45;&#45;data -->\r\n",
       "<g id=\"edge1\" class=\"edge\"><title>computing&#45;&#45;data</title>\r\n",
       "<path fill=\"none\" stroke=\"black\" d=\"M47.4641,-144.055C43.219,-133.049 37.7088,-118.764 33.4758,-107.789\"/>\r\n",
       "</g>\r\n",
       "<!-- science -->\r\n",
       "<g id=\"node3\" class=\"node\"><title>science</title>\r\n",
       "<ellipse fill=\"none\" stroke=\"black\" cx=\"54\" cy=\"-18\" rx=\"37.8943\" ry=\"18\"/>\r\n",
       "<text text-anchor=\"middle\" x=\"54\" y=\"-14.3\" font-family=\"Times New Roman,serif\" font-size=\"14.00\">science</text>\r\n",
       "</g>\r\n",
       "<!-- data&#45;&#45;science -->\r\n",
       "<g id=\"edge2\" class=\"edge\"><title>data&#45;&#45;science</title>\r\n",
       "<path fill=\"none\" stroke=\"black\" d=\"M33.3986,-72.411C37.6403,-61.4141 43.1894,-47.0274 47.4597,-35.9562\"/>\r\n",
       "</g>\r\n",
       "<!-- science&#45;&#45;computing -->\r\n",
       "<g id=\"edge3\" class=\"edge\"><title>science&#45;&#45;computing</title>\r\n",
       "<path fill=\"none\" stroke=\"black\" d=\"M57.6538,-36.0925C59.6758,-46.4315 61.9808,-59.9098 63,-72 64.3441,-87.9434 64.3441,-92.0566 63,-108 61.9808,-120.09 59.6758,-133.569 57.6538,-143.908\"/>\r\n",
       "</g>\r\n",
       "</g>\r\n",
       "</svg>\r\n"
      ],
      "text/plain": [
       "<graphviz.files.Source at 0x1e67cb7be48>"
      ]
     },
     "metadata": {},
     "output_type": "display_data"
    }
   ],
   "source": [
    "## Notebooks are for testing \n",
    "\n",
    "    \n",
    "* ### Ideas\n",
    "* ### Data\n",
    "* ### APIs\n",
    "    \n",
    "        \"\"\"graph {computing -- data -- science -- computing}\"\"\"\n",
    "\n",
    "* ### Something in the future"
   ]
  },
  {
   "cell_type": "code",
   "execution_count": 5,
   "metadata": {},
   "outputs": [
    {
     "data": {
      "text/markdown": [
       "## What assumptions do we make about notebooks\n",
       "\n",
       "\n",
       "\n",
       "\"\"\"http://nbviewer.jupyter.org/github/deathbeds/deathbeds.github.io/blob/master/deathbeds/2018-08-04-Notebooks-as-Tidy-DX.ipynb\"\"\"\n"
      ],
      "text/plain": [
       "<IPython.core.display.Markdown object>"
      ]
     },
     "metadata": {},
     "output_type": "display_data"
    }
   ],
   "source": [
    "## What assumptions do we make about notebooks\n",
    "\n",
    "\n",
    "\n",
    "\"\"\"http://nbviewer.jupyter.org/github/deathbeds/deathbeds.github.io/blob/master/deathbeds/2018-08-04-Notebooks-as-Tidy-DX.ipynb\"\"\""
   ]
  },
  {
   "cell_type": "code",
   "execution_count": 6,
   "metadata": {},
   "outputs": [
    {
     "data": {
      "text/markdown": [
       "* They are available.\n",
       "            \n",
       "        f = λ.Path().Path.glob('*.ipynb') \n",
       "    \n",
       "\n",
       "* They are `nbformat`\n",
       "\n",
       "\n",
       "        #qgrid needs to get working\n",
       "        f / {λ.identity(): λ.pandas.read_json(typ='Series')} \n",
       "        df = f.merge().pandas.concat()().unstack(-1).cells.apply(λ.pandas.Series()).stack().apply(λ.pandas.Series()); df.sample(3)\n"
      ],
      "text/plain": [
       "<IPython.core.display.Markdown object>"
      ]
     },
     "metadata": {},
     "output_type": "display_data"
    },
    {
     "data": {
      "text/html": [
       "<div>\n",
       "<style scoped>\n",
       "    .dataframe tbody tr th:only-of-type {\n",
       "        vertical-align: middle;\n",
       "    }\n",
       "\n",
       "    .dataframe tbody tr th {\n",
       "        vertical-align: top;\n",
       "    }\n",
       "\n",
       "    .dataframe thead th {\n",
       "        text-align: right;\n",
       "    }\n",
       "</style>\n",
       "<table border=\"1\" class=\"dataframe\">\n",
       "  <thead>\n",
       "    <tr style=\"text-align: right;\">\n",
       "      <th></th>\n",
       "      <th></th>\n",
       "      <th>cell_type</th>\n",
       "      <th>metadata</th>\n",
       "      <th>source</th>\n",
       "      <th>execution_count</th>\n",
       "      <th>outputs</th>\n",
       "    </tr>\n",
       "  </thead>\n",
       "  <tbody>\n",
       "    <tr>\n",
       "      <th>2_the_life_of_a_notebook.ipynb</th>\n",
       "      <th>1</th>\n",
       "      <td>code</td>\n",
       "      <td>{}</td>\n",
       "      <td>[![](https://user-images.githubusercontent.com...</td>\n",
       "      <td>3.0</td>\n",
       "      <td>[{'data': {'text/markdown': ['![](https://user...</td>\n",
       "    </tr>\n",
       "    <tr>\n",
       "      <th rowspan=\"2\" valign=\"top\">0_the_death_of_a_notebook-Copy1.ipynb</th>\n",
       "      <th>11</th>\n",
       "      <td>code</td>\n",
       "      <td>{}</td>\n",
       "      <td>[### Papermill\\n, \\n,     \"\"\"http://papermill....</td>\n",
       "      <td>10.0</td>\n",
       "      <td>[{'data': {'text/markdown': ['### Papermill\\n'...</td>\n",
       "    </tr>\n",
       "    <tr>\n",
       "      <th>5</th>\n",
       "      <td>code</td>\n",
       "      <td>{}</td>\n",
       "      <td>[## What assumptions do we make about notebook...</td>\n",
       "      <td>5.0</td>\n",
       "      <td>[{'data': {'text/markdown': ['## What assumpti...</td>\n",
       "    </tr>\n",
       "  </tbody>\n",
       "</table>\n",
       "</div>"
      ],
      "text/plain": [
       "                                         cell_type metadata  \\\n",
       "2_the_life_of_a_notebook.ipynb        1       code       {}   \n",
       "0_the_death_of_a_notebook-Copy1.ipynb 11      code       {}   \n",
       "                                      5       code       {}   \n",
       "\n",
       "                                                                                     source  \\\n",
       "2_the_life_of_a_notebook.ipynb        1   [![](https://user-images.githubusercontent.com...   \n",
       "0_the_death_of_a_notebook-Copy1.ipynb 11  [### Papermill\\n, \\n,     \"\"\"http://papermill....   \n",
       "                                      5   [## What assumptions do we make about notebook...   \n",
       "\n",
       "                                          execution_count  \\\n",
       "2_the_life_of_a_notebook.ipynb        1               3.0   \n",
       "0_the_death_of_a_notebook-Copy1.ipynb 11             10.0   \n",
       "                                      5               5.0   \n",
       "\n",
       "                                                                                    outputs  \n",
       "2_the_life_of_a_notebook.ipynb        1   [{'data': {'text/markdown': ['![](https://user...  \n",
       "0_the_death_of_a_notebook-Copy1.ipynb 11  [{'data': {'text/markdown': ['### Papermill\\n'...  \n",
       "                                      5   [{'data': {'text/markdown': ['## What assumpti...  "
      ]
     },
     "execution_count": 6,
     "metadata": {},
     "output_type": "execute_result"
    }
   ],
   "source": [
    "* They are available.\n",
    "            \n",
    "        f = λ.Path().Path.glob('*.ipynb') \n",
    "    \n",
    "\n",
    "* They are `nbformat`\n",
    "\n",
    "\n",
    "        #qgrid needs to get working\n",
    "        f / {λ.identity(): λ.🐼.read_json(typ='Series')} \n",
    "        df = f.merge().🐼.concat()().unstack(-1).cells.apply(λ.🐼.Series()).stack().apply(λ.🐼.Series()); df.sample(3)"
   ]
  },
  {
   "cell_type": "code",
   "execution_count": 7,
   "metadata": {},
   "outputs": [
    {
     "data": {
      "text/markdown": [
       "* More than one UI can view it.\n",
       "    * [notebok]()\n",
       "    * [nteract]\n",
       "    * [lab]\n",
       "    * [nbviewer]\n",
       "    * [binder]\n",
       "    * [cocalc]\n",
       "    * [colab]\n",
       "    * [github]\n",
       "\n",
       "* Trust\n",
       "* The dependencies are reproducible.\n"
      ],
      "text/plain": [
       "<IPython.core.display.Markdown object>"
      ]
     },
     "metadata": {},
     "output_type": "display_data"
    }
   ],
   "source": [
    "* More than one UI can view it.\n",
    "    * [notebok]()\n",
    "    * [nteract]\n",
    "    * [lab]\n",
    "    * [nbviewer]\n",
    "    * [binder]\n",
    "    * [cocalc]\n",
    "    * [colab]\n",
    "    * [github]\n",
    "\n",
    "* Trust\n",
    "* The dependencies are reproducible."
   ]
  },
  {
   "cell_type": "code",
   "execution_count": 8,
   "metadata": {},
   "outputs": [
    {
     "data": {
      "text/markdown": [
       "![](https://steemitimages.com/0x0/https://media.makeameme.org/created/sanka-ya-dead.jpg)\n"
      ],
      "text/plain": [
       "<IPython.core.display.Markdown object>"
      ]
     },
     "metadata": {},
     "output_type": "display_data"
    }
   ],
   "source": [
    "![](https://steemitimages.com/0x0/https://media.makeameme.org/created/sanka-ya-dead.jpg)"
   ]
  },
  {
   "cell_type": "code",
   "execution_count": 9,
   "metadata": {},
   "outputs": [
    {
     "data": {
      "text/markdown": [
       "## Restart and Run All is an informal test \n",
       "\n",
       "A notebook is dead if it is never used again.\n",
       "\n",
       "\n",
       "    \"\"\"graph {reusability -- reproducibility}\"\"\"\n"
      ],
      "text/plain": [
       "<IPython.core.display.Markdown object>"
      ]
     },
     "metadata": {},
     "output_type": "display_data"
    },
    {
     "data": {
      "image/svg+xml": [
       "<?xml version=\"1.0\" encoding=\"UTF-8\" standalone=\"no\"?>\r\n",
       "<!DOCTYPE svg PUBLIC \"-//W3C//DTD SVG 1.1//EN\"\r\n",
       " \"http://www.w3.org/Graphics/SVG/1.1/DTD/svg11.dtd\">\r\n",
       "<!-- Generated by graphviz version 2.38.0 (20140413.2041)\r\n",
       " -->\r\n",
       "<!-- Title: %3 Pages: 1 -->\r\n",
       "<svg width=\"135pt\" height=\"116pt\"\r\n",
       " viewBox=\"0.00 0.00 135.39 116.00\" xmlns=\"http://www.w3.org/2000/svg\" xmlns:xlink=\"http://www.w3.org/1999/xlink\">\r\n",
       "<g id=\"graph0\" class=\"graph\" transform=\"scale(1 1) rotate(0) translate(4 112)\">\r\n",
       "<title>%3</title>\r\n",
       "<polygon fill=\"white\" stroke=\"none\" points=\"-4,4 -4,-112 131.389,-112 131.389,4 -4,4\"/>\r\n",
       "<!-- reusability -->\r\n",
       "<g id=\"node1\" class=\"node\"><title>reusability</title>\r\n",
       "<ellipse fill=\"none\" stroke=\"black\" cx=\"63.6943\" cy=\"-90\" rx=\"47.3916\" ry=\"18\"/>\r\n",
       "<text text-anchor=\"middle\" x=\"63.6943\" y=\"-86.3\" font-family=\"Times New Roman,serif\" font-size=\"14.00\">reusability</text>\r\n",
       "</g>\r\n",
       "<!-- reproducibility -->\r\n",
       "<g id=\"node2\" class=\"node\"><title>reproducibility</title>\r\n",
       "<ellipse fill=\"none\" stroke=\"black\" cx=\"63.6943\" cy=\"-18\" rx=\"63.8893\" ry=\"18\"/>\r\n",
       "<text text-anchor=\"middle\" x=\"63.6943\" y=\"-14.3\" font-family=\"Times New Roman,serif\" font-size=\"14.00\">reproducibility</text>\r\n",
       "</g>\r\n",
       "<!-- reusability&#45;&#45;reproducibility -->\r\n",
       "<g id=\"edge1\" class=\"edge\"><title>reusability&#45;&#45;reproducibility</title>\r\n",
       "<path fill=\"none\" stroke=\"black\" d=\"M63.6943,-71.6966C63.6943,-60.8463 63.6943,-46.9167 63.6943,-36.1043\"/>\r\n",
       "</g>\r\n",
       "</g>\r\n",
       "</svg>\r\n"
      ],
      "text/plain": [
       "<graphviz.files.Source at 0x1e67e663d68>"
      ]
     },
     "metadata": {},
     "output_type": "display_data"
    }
   ],
   "source": [
    "## Restart and Run All is an informal test \n",
    "\n",
    "A notebook is dead if it is never used again.\n",
    "\n",
    "\n",
    "    \"\"\"graph {reusability -- reproducibility}\"\"\""
   ]
  },
  {
   "cell_type": "markdown",
   "metadata": {},
   "source": [
    "    !nbconvert jupyter --execute "
   ]
  },
  {
   "cell_type": "code",
   "execution_count": 10,
   "metadata": {},
   "outputs": [
    {
     "data": {
      "text/markdown": [
       "### Papermill\n",
       "\n",
       "    \"\"\"http://papermill.readthedocs.io/en/latest/usage.html#parameterizing-a-notebook\"\"\"\n"
      ],
      "text/plain": [
       "<IPython.core.display.Markdown object>"
      ]
     },
     "metadata": {},
     "output_type": "display_data"
    },
    {
     "data": {
      "text/html": [
       "\n",
       "        <iframe\n",
       "            width=\"600\"\n",
       "            height=\"400\"\n",
       "            src=\"http://papermill.readthedocs.io/en/latest/usage.html#parameterizing-a-notebook\"\n",
       "            frameborder=\"0\"\n",
       "            allowfullscreen\n",
       "        ></iframe>\n",
       "        "
      ],
      "text/plain": [
       "<IPython.lib.display.IFrame at 0x1e67e6dbc88>"
      ]
     },
     "metadata": {},
     "output_type": "display_data"
    }
   ],
   "source": [
    "### Papermill\n",
    "\n",
    "    \"\"\"http://papermill.readthedocs.io/en/latest/usage.html#parameterizing-a-notebook\"\"\""
   ]
  },
  {
   "cell_type": "code",
   "execution_count": 11,
   "metadata": {},
   "outputs": [
    {
     "data": {
      "text/markdown": [
       "## nbval - doctest for notebooks.\n",
       "\n",
       "    \"\"\"https://nbval.readthedocs.io/en/latest/\"\"\"\n"
      ],
      "text/plain": [
       "<IPython.core.display.Markdown object>"
      ]
     },
     "metadata": {},
     "output_type": "display_data"
    },
    {
     "data": {
      "text/html": [
       "\n",
       "        <iframe\n",
       "            width=\"600\"\n",
       "            height=\"400\"\n",
       "            src=\"https://nbval.readthedocs.io/en/latest/\"\n",
       "            frameborder=\"0\"\n",
       "            allowfullscreen\n",
       "        ></iframe>\n",
       "        "
      ],
      "text/plain": [
       "<IPython.lib.display.IFrame at 0x1e67e6630b8>"
      ]
     },
     "metadata": {},
     "output_type": "display_data"
    }
   ],
   "source": [
    "## nbval - doctest for notebooks.\n",
    "\n",
    "    \"\"\"https://nbval.readthedocs.io/en/latest/\"\"\""
   ]
  },
  {
   "cell_type": "code",
   "execution_count": 12,
   "metadata": {},
   "outputs": [
    {
     "data": {
      "text/markdown": [
       "    \"\"\"http://nbviewer.jupyter.org/github/deathbeds/deathbeds.github.io/blob/master/deathbeds/2018-07-31-Testing-notebooks.ipynb\"\"\"\n"
      ],
      "text/plain": [
       "<IPython.core.display.Markdown object>"
      ]
     },
     "metadata": {},
     "output_type": "display_data"
    },
    {
     "data": {
      "text/html": [
       "\n",
       "        <iframe\n",
       "            width=\"600\"\n",
       "            height=\"400\"\n",
       "            src=\"http://nbviewer.jupyter.org/github/deathbeds/deathbeds.github.io/blob/master/deathbeds/2018-07-31-Testing-notebooks.ipynb\"\n",
       "            frameborder=\"0\"\n",
       "            allowfullscreen\n",
       "        ></iframe>\n",
       "        "
      ],
      "text/plain": [
       "<IPython.lib.display.IFrame at 0x1e67e6e1b38>"
      ]
     },
     "metadata": {},
     "output_type": "display_data"
    }
   ],
   "source": [
    "    \"\"\"http://nbviewer.jupyter.org/github/deathbeds/deathbeds.github.io/blob/master/deathbeds/2018-07-31-Testing-notebooks.ipynb\"\"\""
   ]
  },
  {
   "cell_type": "markdown",
   "metadata": {},
   "source": [
    "`pytest` importnb plugin"
   ]
  }
 ],
 "metadata": {
  "kernelspec": {
   "display_name": "Python 3",
   "language": "python",
   "name": "python3"
  },
  "language_info": {
   "codemirror_mode": {
    "name": "ipython",
    "version": 3
   },
   "file_extension": ".py",
   "mimetype": "text/x-python",
   "name": "python",
   "nbconvert_exporter": "python",
   "pygments_lexer": "ipython3",
   "version": "3.6.5"
  }
 },
 "nbformat": 4,
 "nbformat_minor": 2
}
