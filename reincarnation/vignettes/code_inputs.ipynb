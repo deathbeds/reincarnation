{
 "cells": [
  {
   "cell_type": "markdown",
   "metadata": {},
   "source": [
    "# Changing how code is input"
   ]
  },
  {
   "cell_type": "code",
   "execution_count": 1,
   "metadata": {},
   "outputs": [
    {
     "data": {
      "text/html": [
       "<style>\n",
       ".jp-RenderedHTMLCommon pre code {\n",
       "    text-decoration: line-through wavy;\n",
       "}\n",
       ".jp-RenderedHTMLCommon pre code:hover {\n",
       "    text-decoration: none;\n",
       "    \n",
       "}\n",
       ".jp-Placeholder-content .jp-MoreHorizIcon {\n",
       "    background-size: 32px;\n",
       "}\n",
       "\n",
       "@import url(\"https://cdn.jsdelivr.net/npm/firacode@1.205.0/distr/fira_code.css\")\n",
       "\n",
       ".CodeMirror * {\n",
       "  font-family: 'Fira Code' !important; \n",
       "  font-variant-ligatures: initial !important;\n",
       "}\n",
       "\n",
       ".cm-string {\n",
       "    font-variant-ligatures: none;\n",
       "}\n",
       "</style><style>\n",
       ".jp-mod-presentationMode .jp-SideBar,\n",
       ".jp-mod-presentationMode #jp-top-panel {\n",
       "    opacity: 0.0;\n",
       "    transition: all 0.2s;\n",
       "}\n",
       ".jp-mod-presentationMode .jp-SideBar:hover,\n",
       ".jp-mod-presentationMode #jp-top-panel:hover {\n",
       "    opacity: 0.9;\n",
       "    transition: all 0.2s;\n",
       "}\n",
       "\n",
       "</style><style>\n",
       ".jp-mod-presentationMode.jp-ApplicationShell,\n",
       ".jp-mod-presentationMode .p-TabBar-content{\n",
       "    background-color: var(--jp-layout-color0);\n",
       "}\n",
       "</style><style>\n",
       ".jp-mod-presentationMode .p-DockPanel-widget,\n",
       ".jp-mod-presentationMode #jp-left-stack{\n",
       "    border-color: transparent;\n",
       "}\n",
       ".jp-mod-presentationMode .jp-Toolbar-item,\n",
       ".jp-mod-presentationMode .jp-Toolbar {\n",
       "    opacity: 0.1;\n",
       "    transition: all 0.2s;\n",
       "}\n",
       ".jp-mod-presentationMode .jp-Toolbar-item:hover,\n",
       ".jp-mod-presentationMode .jp-Toolbar:hover {\n",
       "    opacity: 0.9;\n",
       "    transition: all 0.2s;\n",
       "}\n",
       "\n",
       "</style><style>\n",
       ".jp-mod-presentationMode .jp-OutputPrompt,\n",
       ".jp-mod-presentationMode .jp-InputPrompt {\n",
       "    max-width: 2rem !important;\n",
       "    transition: all 0.2s;\n",
       "}\n",
       ".jp-mod-presentationMode .jp-Cell.jp-mod-selected .jp-OutputPrompt,\n",
       ".jp-mod-presentationMode .jp-Cell.jp-mod-selected .jp-InputPrompt,\n",
       ".jp-mod-presentationMode .jp-Cell:hover .jp-OutputPrompt,\n",
       ".jp-mod-presentationMode .jp-Cell:hover .jp-InputPrompt {\n",
       "    max-width: 10rem !important;\n",
       "    transition: all 0.2s;\n",
       "}\n",
       "\n",
       ".jp-mod-presentationMode .jp-Cell {\n",
       "    margin-bottom: 5rem;\n",
       "}\n",
       "\n",
       ".jp-mod-presentationMode hr {\n",
       "    opacity: 0.1;\n",
       "}\n",
       "</style>\n",
       "    <style>\n",
       "    .jp-TableOfContents-content h1, \n",
       "    .jp-TableOfContents-content h2 {\n",
       "        margin-bottom: var(--jp-ui-font-size0)\n",
       "    }\n",
       "    </style>\n",
       "    \n",
       "    <style>\n",
       "    .jp-mod-presentationMode {\n",
       "        --jp-content-heading-line-height: 1.25 !important;\n",
       "    }\n",
       "    </style>\n",
       "    "
      ],
      "text/plain": [
       "<IPython.core.display.HTML object>"
      ]
     },
     "metadata": {},
     "output_type": "display_data"
    },
    {
     "data": {
      "text/html": [
       "\n",
       "<style>\n",
       ".flexed-container {display: flex; margin: 30px;}\n",
       ".flexed-container.flexed-row {flex-direction: row;}\n",
       ".flexed-container.flexed-column {flex-direction: column;}\n",
       ".flexed-container iframe {min-width: 350px;}\n",
       ".flexed-item {order: 0; margin: 20px;}\n",
       "</style>"
      ],
      "text/plain": [
       "<IPython.core.display.HTML object>"
      ]
     },
     "metadata": {},
     "output_type": "display_data"
    }
   ],
   "source": [
    "    %reload_ext reincarnation"
   ]
  },
  {
   "cell_type": "markdown",
   "metadata": {},
   "source": [
    "# whats with the indented code?\n",
    "\n",
    "we program in markdown.\n",
    "\n",
    "ipython does this its nothing special  "
   ]
  },
  {
   "cell_type": "code",
   "execution_count": 14,
   "metadata": {},
   "outputs": [
    {
     "data": {
      "text/html": [
       "\n",
       "        <iframe\n",
       "            width=\"100%\"\n",
       "            height=\"450\"\n",
       "            src=\"http://nbviewer.jupyter.org/github/deathbeds/deathbeds.github.io/blob/master/deathbeds/2018-08-03-A-case-for-indented-code.ipynb\"\n",
       "            frameborder=\"0\"\n",
       "            allowfullscreen\n",
       "        ></iframe>\n",
       "        "
      ],
      "text/plain": [
       "<IPython.lib.display.IFrame at 0x23918f00588>"
      ]
     },
     "metadata": {},
     "output_type": "display_data"
    }
   ],
   "source": [
    "    \"\"\"http://nbviewer.jupyter.org/github/deathbeds/deathbeds.github.io/blob/master/deathbeds/2018-08-03-A-case-for-indented-code.ipynb\"\"\""
   ]
  },
  {
   "cell_type": "code",
   "execution_count": 2,
   "metadata": {},
   "outputs": [
    {
     "data": {
      "text/html": [
       "<div class=\"flexed-container flexed-row\"><div class=\"flexed-item\" style=\"order: 0;\"><h1>String Node Transformers</h1>\n",
       "<blockquote><h3>The string is a stark data structure and everywhere it is passed there is much duplication of process. It is a perfect vehicle for hiding information.</h3>\n",
       "<blockquote><ul>\n",
       "<li><a href=\"http://www.cs.yale.edu/homes/perlis-alan/quotes.html\">Alan Perlis</a></li>\n",
       "</ul>\n",
       "</blockquote>\n",
       "</blockquote>\n",
       "</div></div>"
      ],
      "text/plain": [
       "Row(content=['# String Node Transformers\\n> ### The string is a stark data structure and everywhere it is passed there is much duplication of process. It is a perfect vehicle for hiding information.\\n>> * [Alan Perlis](http://www.cs.yale.edu/homes/perlis-alan/quotes.html)\\n'])"
      ]
     },
     "metadata": {},
     "output_type": "display_data"
    }
   ],
   "source": [
    "    \"\"\"- |\n",
    "        # String Node Transformers\n",
    "\n",
    "\n",
    "        > ### The string is a stark data structure and everywhere it is passed there is much duplication of process. It is a perfect vehicle for hiding information.\n",
    "        >> * [Alan Perlis](http://www.cs.yale.edu/homes/perlis-alan/quotes.html)\n",
    "    \"\"\""
   ]
  },
  {
   "cell_type": "markdown",
   "metadata": {},
   "source": [
    "# other ways to do horrible things"
   ]
  },
  {
   "cell_type": "code",
   "execution_count": 15,
   "metadata": {},
   "outputs": [
    {
     "data": {
      "text/html": [
       "<div class=\"flexed-container flexed-row\"><div class=\"flexed-item\" style=\"order: 0;\">\n",
       "        <iframe\n",
       "            width=\"400\"\n",
       "            height=\"600\"\n",
       "            src=\"http://nbviewer.jupyter.org/github/deathbeds/deathbeds.github.io/blob/master/deathbeds/2018-06-19-String-Node-Transformer.ipynb\"\n",
       "            frameborder=\"0\"\n",
       "            allowfullscreen\n",
       "        ></iframe>\n",
       "        </div><div class=\"flexed-item\" style=\"order: 0;\">\n",
       "        <iframe\n",
       "            width=\"400\"\n",
       "            height=\"600\"\n",
       "            src=\"http://nbviewer.jupyter.org/github/deathbeds/deathbeds.github.io/blob/master/deathbeds/2018-07-07-A-Jinja2-Templating-Transformer.md.ipynb\"\n",
       "            frameborder=\"0\"\n",
       "            allowfullscreen\n",
       "        ></iframe>\n",
       "        </div><div class=\"flexed-container flexed-column\"><div class=\"flexed-item\" style=\"order: 0;\">\n",
       "        <iframe\n",
       "            width=\"500\"\n",
       "            height=\"300\"\n",
       "            src=\"http://nbviewer.jupyter.org/github/deathbeds/deathbeds.github.io/blob/master/deathbeds/2018-08-13-Flexbox-Transformer.ipynb\"\n",
       "            frameborder=\"0\"\n",
       "            allowfullscreen\n",
       "        ></iframe>\n",
       "        </div><div class=\"flexed-item\" style=\"order: 0;\">\n",
       "        <iframe\n",
       "            width=\"500\"\n",
       "            height=\"300\"\n",
       "            src=\"http://nbviewer.jupyter.org/github/deathbeds/deathbeds.github.io/blob/master/deathbeds/2018-08-16-HTML-Flexbox.ipynb\"\n",
       "            frameborder=\"0\"\n",
       "            allowfullscreen\n",
       "        ></iframe>\n",
       "        </div></div></div>"
      ],
      "text/plain": [
       "Row(content=[{'html': {'src': 'http://nbviewer.jupyter.org/github/deathbeds/deathbeds.github.io/blob/master/deathbeds/2018-06-19-String-Node-Transformer.ipynb', 'width': 400, 'height': 600}}, {'html': {'src': 'http://nbviewer.jupyter.org/github/deathbeds/deathbeds.github.io/blob/master/deathbeds/2018-07-07-A-Jinja2-Templating-Transformer.md.ipynb', 'width': 400, 'height': 600}}, [{'html': {'src': 'http://nbviewer.jupyter.org/github/deathbeds/deathbeds.github.io/blob/master/deathbeds/2018-08-13-Flexbox-Transformer.ipynb', 'height': 300}}, {'html': {'src': 'http://nbviewer.jupyter.org/github/deathbeds/deathbeds.github.io/blob/master/deathbeds/2018-08-16-HTML-Flexbox.ipynb', 'height': 300}}]])"
      ]
     },
     "metadata": {},
     "output_type": "display_data"
    }
   ],
   "source": [
    "    F\"\"\"\n",
    "    - html: \n",
    "        src: http://nbviewer.jupyter.org/github/deathbeds/deathbeds.github.io/blob/master/deathbeds/2018-06-19-String-Node-Transformer.ipynb\n",
    "        width: 400\n",
    "        height: 600\n",
    "    - html: \n",
    "        src: http://nbviewer.jupyter.org/github/deathbeds/deathbeds.github.io/blob/master/deathbeds/2018-07-07-A-Jinja2-Templating-Transformer.md.ipynb\n",
    "        width: 400\n",
    "        height: 600\n",
    "    - - html: \n",
    "            src: http://nbviewer.jupyter.org/github/deathbeds/deathbeds.github.io/blob/master/deathbeds/2018-08-13-Flexbox-Transformer.ipynb\n",
    "            height: 300\n",
    "      - html: \n",
    "          src: http://nbviewer.jupyter.org/github/deathbeds/deathbeds.github.io/blob/master/deathbeds/2018-08-16-HTML-Flexbox.ipynb\n",
    "          height: 300\n",
    "    \"\"\""
   ]
  },
  {
   "cell_type": "code",
   "execution_count": 4,
   "metadata": {},
   "outputs": [
    {
     "data": {
      "text/html": [
       "<div class=\"flexed-container flexed-row\"><div class=\"flexed-item\" style=\"order: 0;\"><h1>Hate programming in Javascript?  Wait 'til programs have emojis.</h1>\n",
       "</div><div class=\"flexed-item\" style=\"order: 0;\">\n",
       "        <iframe\n",
       "            width=\"800\"\n",
       "            height=\"450\"\n",
       "            src=\"http://nbviewer.jupyter.org/github/deathbeds/deathbeds.github.io/blob/master/deathbeds/2018-08-04-Emojis-in-code-cells.ipynb\"\n",
       "            frameborder=\"0\"\n",
       "            allowfullscreen\n",
       "        ></iframe>\n",
       "        </div></div>"
      ],
      "text/plain": [
       "Row(content=[\"# Hate programming in Javascript?  Wait 'til programs have emojis.\\n\", {'html': {'src': 'http://nbviewer.jupyter.org/github/deathbeds/deathbeds.github.io/blob/master/deathbeds/2018-08-04-Emojis-in-code-cells.ipynb', 'width': 800}}])"
      ]
     },
     "metadata": {},
     "output_type": "display_data"
    }
   ],
   "source": [
    "    \"\"\"\n",
    "    - |\n",
    "        # Hate programming in Javascript?  Wait 'til programs have emojis.\n",
    "    - html:\n",
    "        src: http://nbviewer.jupyter.org/github/deathbeds/deathbeds.github.io/blob/master/deathbeds/2018-08-04-Emojis-in-code-cells.ipynb\n",
    "        width: 800\n",
    "    \"\"\""
   ]
  },
  {
   "cell_type": "code",
   "execution_count": 7,
   "metadata": {},
   "outputs": [
    {
     "ename": "NameError",
     "evalue": "name 'pandas' is not defined",
     "output_type": "error",
     "traceback": [
      "\u001b[1;31m---------------------------------------------------------------------------\u001b[0m",
      "\u001b[1;31mNameError\u001b[0m                                 Traceback (most recent call last)",
      "\u001b[1;32m<ipython-input-7-8cc263ad4f75>\u001b[0m in \u001b[0;36m<module>\u001b[1;34m()\u001b[0m\n\u001b[0;32m      1\u001b[0m \u001b[1;32mimport\u001b[0m \u001b[0mpandas\u001b[0m\u001b[1;33m\u001b[0m\u001b[0m\n\u001b[1;32m----> 2\u001b[1;33m \u001b[1;32mfrom\u001b[0m \u001b[0mreincarnation\u001b[0m\u001b[1;33m.\u001b[0m\u001b[0mvignettes\u001b[0m \u001b[1;32mimport\u001b[0m \u001b[0mcode_inputs\u001b[0m\u001b[1;33m;\u001b[0m\u001b[1;33m\u001b[0m\u001b[0m\n\u001b[0m",
      "\u001b[1;32mc:\\users\\deathbeds\\reincarnation\\reincarnation\\vignettes\\code_inputs.ipynb\u001b[0m in \u001b[0;36m<module>\u001b[1;34m()\u001b[0m\n\u001b[0;32m    494\u001b[0m \u001b[1;33m\u001b[0m\u001b[0m\n\u001b[0;32m    495\u001b[0m \u001b[1;33m\u001b[0m\u001b[0m\n\u001b[1;32m--> 496\u001b[1;33m \u001b[0mdf\u001b[0m \u001b[1;33m=\u001b[0m \u001b[0mpandas\u001b[0m\u001b[1;33m.\u001b[0m\u001b[0mDataFrame\u001b[0m\u001b[1;33m(\u001b[0m\u001b[0mpandas\u001b[0m\u001b[1;33m.\u001b[0m\u001b[0mread_json\u001b[0m\u001b[1;33m(\u001b[0m\u001b[0mcode_inputs\u001b[0m\u001b[1;33m.\u001b[0m\u001b[0m__file__\u001b[0m\u001b[1;33m,\u001b[0m \u001b[0mtyp\u001b[0m\u001b[1;33m=\u001b[0m\u001b[1;34m'Series'\u001b[0m\u001b[1;33m)\u001b[0m\u001b[1;33m.\u001b[0m\u001b[0mcells\u001b[0m\u001b[1;33m)\u001b[0m\u001b[1;33m;\u001b[0m \u001b[0mdf\u001b[0m\u001b[1;33m\u001b[0m\u001b[0m\n\u001b[0m\u001b[0;32m    497\u001b[0m \u001b[1;33m\u001b[0m\u001b[0m\n\u001b[0;32m    498\u001b[0m \u001b[1;33m\u001b[0m\u001b[0m\n",
      "\u001b[1;31mNameError\u001b[0m: name 'pandas' is not defined"
     ]
    }
   ],
   "source": [
    "    %%capture\n",
    "    import pandas\n",
    "    from reincarnation.vignettes import code_inputs; \n",
    "    "
   ]
  },
  {
   "cell_type": "code",
   "execution_count": 9,
   "metadata": {},
   "outputs": [
    {
     "data": {
      "text/html": [
       "<div>\n",
       "<style scoped>\n",
       "    .dataframe tbody tr th:only-of-type {\n",
       "        vertical-align: middle;\n",
       "    }\n",
       "\n",
       "    .dataframe tbody tr th {\n",
       "        vertical-align: top;\n",
       "    }\n",
       "\n",
       "    .dataframe thead th {\n",
       "        text-align: right;\n",
       "    }\n",
       "</style>\n",
       "<table border=\"1\" class=\"dataframe\">\n",
       "  <thead>\n",
       "    <tr style=\"text-align: right;\">\n",
       "      <th></th>\n",
       "      <th>cell_type</th>\n",
       "      <th>execution_count</th>\n",
       "      <th>metadata</th>\n",
       "      <th>outputs</th>\n",
       "      <th>source</th>\n",
       "    </tr>\n",
       "  </thead>\n",
       "  <tbody>\n",
       "    <tr>\n",
       "      <th>0</th>\n",
       "      <td>markdown</td>\n",
       "      <td>NaN</td>\n",
       "      <td>{}</td>\n",
       "      <td>NaN</td>\n",
       "      <td>[# Changing how code is input]</td>\n",
       "    </tr>\n",
       "    <tr>\n",
       "      <th>1</th>\n",
       "      <td>code</td>\n",
       "      <td>1.0</td>\n",
       "      <td>{}</td>\n",
       "      <td>[{'data': {'text/html': ['&lt;style&gt;\\n', '.jp-Ren...</td>\n",
       "      <td>[    %reload_ext reincarnation]</td>\n",
       "    </tr>\n",
       "    <tr>\n",
       "      <th>2</th>\n",
       "      <td>code</td>\n",
       "      <td>2.0</td>\n",
       "      <td>{}</td>\n",
       "      <td>[{'data': {'text/html': ['&lt;div class=\"flexed-c...</td>\n",
       "      <td>[    \"\"\"- |\\n,         # String Node Transform...</td>\n",
       "    </tr>\n",
       "    <tr>\n",
       "      <th>3</th>\n",
       "      <td>code</td>\n",
       "      <td>3.0</td>\n",
       "      <td>{}</td>\n",
       "      <td>[{'data': {'text/html': ['&lt;div class=\"flexed-c...</td>\n",
       "      <td>[    F\"\"\"\\n,     - html: \\n,         src: http...</td>\n",
       "    </tr>\n",
       "    <tr>\n",
       "      <th>4</th>\n",
       "      <td>code</td>\n",
       "      <td>4.0</td>\n",
       "      <td>{}</td>\n",
       "      <td>[{'data': {'text/html': ['&lt;div class=\"flexed-c...</td>\n",
       "      <td>[    \"\"\"\\n,     - |\\n,         # Hate programm...</td>\n",
       "    </tr>\n",
       "    <tr>\n",
       "      <th>5</th>\n",
       "      <td>code</td>\n",
       "      <td>7.0</td>\n",
       "      <td>{}</td>\n",
       "      <td>[{'ename': 'NameError', 'evalue': 'name 'panda...</td>\n",
       "      <td>[    %%capture\\n,     import pandas\\n,     fro...</td>\n",
       "    </tr>\n",
       "    <tr>\n",
       "      <th>6</th>\n",
       "      <td>code</td>\n",
       "      <td>8.0</td>\n",
       "      <td>{}</td>\n",
       "      <td>[{'data': {'text/html': ['&lt;div&gt;\\n', '&lt;style sc...</td>\n",
       "      <td>[    df = ðŸ�¼.DataFrame(ðŸ�¼.read_json(code_i...</td>\n",
       "    </tr>\n",
       "    <tr>\n",
       "      <th>7</th>\n",
       "      <td>markdown</td>\n",
       "      <td>NaN</td>\n",
       "      <td>{}</td>\n",
       "      <td>NaN</td>\n",
       "      <td>[# Markdown Code Cells]</td>\n",
       "    </tr>\n",
       "    <tr>\n",
       "      <th>8</th>\n",
       "      <td>code</td>\n",
       "      <td>NaN</td>\n",
       "      <td>{}</td>\n",
       "      <td>[]</td>\n",
       "      <td>[    %reload_ext deathbeds.__Markdown_code_cel...</td>\n",
       "    </tr>\n",
       "    <tr>\n",
       "      <th>9</th>\n",
       "      <td>markdown</td>\n",
       "      <td>NaN</td>\n",
       "      <td>{}</td>\n",
       "      <td>NaN</td>\n",
       "      <td>[# Handwritten Code]</td>\n",
       "    </tr>\n",
       "    <tr>\n",
       "      <th>10</th>\n",
       "      <td>code</td>\n",
       "      <td>NaN</td>\n",
       "      <td>{}</td>\n",
       "      <td>[]</td>\n",
       "      <td>[    from deathbeds import __Literally_canvas_...</td>\n",
       "    </tr>\n",
       "    <tr>\n",
       "      <th>11</th>\n",
       "      <td>code</td>\n",
       "      <td>NaN</td>\n",
       "      <td>{}</td>\n",
       "      <td>[]</td>\n",
       "      <td>[]</td>\n",
       "    </tr>\n",
       "  </tbody>\n",
       "</table>\n",
       "</div>"
      ],
      "text/plain": [
       "   cell_type  execution_count metadata  \\\n",
       "0   markdown              NaN       {}   \n",
       "1       code              1.0       {}   \n",
       "2       code              2.0       {}   \n",
       "3       code              3.0       {}   \n",
       "4       code              4.0       {}   \n",
       "5       code              7.0       {}   \n",
       "6       code              8.0       {}   \n",
       "7   markdown              NaN       {}   \n",
       "8       code              NaN       {}   \n",
       "9   markdown              NaN       {}   \n",
       "10      code              NaN       {}   \n",
       "11      code              NaN       {}   \n",
       "\n",
       "                                              outputs  \\\n",
       "0                                                 NaN   \n",
       "1   [{'data': {'text/html': ['<style>\\n', '.jp-Ren...   \n",
       "2   [{'data': {'text/html': ['<div class=\"flexed-c...   \n",
       "3   [{'data': {'text/html': ['<div class=\"flexed-c...   \n",
       "4   [{'data': {'text/html': ['<div class=\"flexed-c...   \n",
       "5   [{'ename': 'NameError', 'evalue': 'name 'panda...   \n",
       "6   [{'data': {'text/html': ['<div>\\n', '<style sc...   \n",
       "7                                                 NaN   \n",
       "8                                                  []   \n",
       "9                                                 NaN   \n",
       "10                                                 []   \n",
       "11                                                 []   \n",
       "\n",
       "                                               source  \n",
       "0                      [# Changing how code is input]  \n",
       "1                     [    %reload_ext reincarnation]  \n",
       "2   [    \"\"\"- |\\n,         # String Node Transform...  \n",
       "3   [    F\"\"\"\\n,     - html: \\n,         src: http...  \n",
       "4   [    \"\"\"\\n,     - |\\n,         # Hate programm...  \n",
       "5   [    %%capture\\n,     import pandas\\n,     fro...  \n",
       "6   [    df = ðŸ�¼.DataFrame(ðŸ�¼.read_json(code_i...  \n",
       "7                             [# Markdown Code Cells]  \n",
       "8   [    %reload_ext deathbeds.__Markdown_code_cel...  \n",
       "9                                [# Handwritten Code]  \n",
       "10  [    from deathbeds import __Literally_canvas_...  \n",
       "11                                                 []  "
      ]
     },
     "execution_count": 9,
     "metadata": {},
     "output_type": "execute_result"
    }
   ],
   "source": [
    "    df = 🐼.DataFrame(🐼.read_json(code_inputs.__file__, typ='Series').cells); df"
   ]
  },
  {
   "cell_type": "markdown",
   "metadata": {},
   "source": [
    "# Markdown Code Cells"
   ]
  },
  {
   "cell_type": "code",
   "execution_count": 11,
   "metadata": {},
   "outputs": [
    {
     "data": {
      "text/html": [
       "<div class=\"flexed-container flexed-row\"><div class=\"flexed-item\" style=\"order: 0;\"><blockquote><p><code>pidgin</code></p>\n",
       "</blockquote>\n",
       "<ul>\n",
       "<li>markdown</li>\n",
       "<li>jinja</li>\n",
       "<li>graphviz</li>\n",
       "</ul>\n",
       "</div><div class=\"flexed-item\" style=\"order: 0;\">\n",
       "        <iframe\n",
       "            width=\"500\"\n",
       "            height=\"450\"\n",
       "            src=\"http://nbviewer.jupyter.org/github/deathbeds/rites/blob/master/readme.ipynb?flush_cache=true\"\n",
       "            frameborder=\"0\"\n",
       "            allowfullscreen\n",
       "        ></iframe>\n",
       "        </div></div>"
      ],
      "text/plain": [
       "Row(content=['> `pidgin`\\n\\n* markdown\\n* jinja\\n* graphviz\\n', 'http://nbviewer.jupyter.org/github/deathbeds/rites/blob/master/readme.ipynb?flush_cache=true'])"
      ]
     },
     "metadata": {},
     "output_type": "display_data"
    }
   ],
   "source": [
    "    %reload_ext deathbeds.__Markdown_code_cells\n",
    "    %unload_ext deathbeds.__Markdown_code_cells\n",
    "    \"\"\"- |\n",
    "        > `pidgin`\n",
    "        \n",
    "        * markdown\n",
    "        * jinja\n",
    "        * graphviz\n",
    "    - http://nbviewer.jupyter.org/github/deathbeds/rites/blob/master/readme.ipynb?flush_cache=true\n",
    "    \"\"\""
   ]
  },
  {
   "cell_type": "markdown",
   "metadata": {},
   "source": [
    "# Handwritten Code"
   ]
  },
  {
   "cell_type": "code",
   "execution_count": null,
   "metadata": {},
   "outputs": [],
   "source": [
    "    from deathbeds import __Literally_canvas_data as literally; literally.reincarnation_canvas()"
   ]
  },
  {
   "cell_type": "code",
   "execution_count": null,
   "metadata": {},
   "outputs": [],
   "source": []
  }
 ],
 "metadata": {
  "kernelspec": {
   "display_name": "Python 3",
   "language": "python",
   "name": "python3"
  },
  "language_info": {
   "codemirror_mode": {
    "name": "ipython",
    "version": 3
   },
   "file_extension": ".py",
   "mimetype": "text/x-python",
   "name": "python",
   "nbconvert_exporter": "python",
   "pygments_lexer": "ipython3",
   "version": "3.6.5"
  }
 },
 "nbformat": 4,
 "nbformat_minor": 2
}
