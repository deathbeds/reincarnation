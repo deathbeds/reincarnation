{
 "cells": [
  {
   "cell_type": "markdown",
   "metadata": {},
   "source": [
    "# [1](1.ipynb)\n",
    "\n",
    "Tomorrow there will be more notebooks than there are today.  Authors will use notebooks to learn and iterate in their domain of expertise.  Each domain, or culture, requires a set of core literacies to participate.  And when data is involved, notebooks provide a substrate for modern literacies.  "
   ]
  },
  {
   "cell_type": "code",
   "execution_count": 1,
   "metadata": {},
   "outputs": [
    {
     "data": {
      "text/html": [
       "<style>\n",
       ".jp-mod-presentationMode {\n",
       "    --jp-notebook-padding: 0;\n",
       "}\n",
       ".jp-RenderedHTMLCommon pre code {\n",
       "    opacity: 0.25;\n",
       "}\n",
       ".jp-Placeholder-content .jp-MoreHorizIcon {\n",
       "    background-size: 32px;\n",
       "}\n",
       "</style><style>\n",
       ".jp-mod-presentationMode .jp-SideBar,\n",
       ".jp-mod-presentationMode #jp-top-panel {\n",
       "    opacity: 0.0;\n",
       "    transition: all 0.2s;\n",
       "}\n",
       ".jp-mod-presentationMode .jp-SideBar:hover,\n",
       ".jp-mod-presentationMode #jp-top-panel:hover {\n",
       "    opacity: 0.9;\n",
       "    transition: all 0.2s;\n",
       "}</style><style>\n",
       ".jp-mod-presentationMode.jp-ApplicationShell,\n",
       ".jp-mod-presentationMode .p-TabBar-content{\n",
       "    background-color: var(--jp-layout-color0);\n",
       "}\n",
       "</style><style>\n",
       ".jp-mod-presentationMode .p-DockPanel-widget,\n",
       ".jp-mod-presentationMode #jp-left-stack{\n",
       "    border-color: transparent;\n",
       "}\n",
       ".jp-mod-presentationMode .jp-Toolbar-item,\n",
       ".jp-mod-presentationMode .jp-Toolbar {\n",
       "    opacity: 0.1;\n",
       "    transition: all 0.2s;\n",
       "}\n",
       ".jp-mod-presentationMode .jp-Toolbar-item:hover,\n",
       ".jp-mod-presentationMode .jp-Toolbar:hover {\n",
       "    opacity: 0.9;\n",
       "    transition: all 0.2s;\n",
       "}\n",
       "\n",
       ".jp-mod-presentationMode .jp-InputArea {\n",
       "    flex-direction: column;\n",
       "}\n",
       "\n",
       "</style><style>\n",
       ".jp-mod-presentationMode .jp-Notebook .jp-Cell .jp-InputPrompt, \n",
       ".jp-mod-presentationMode .jp-Notebook .jp-Cell .jp-OutputPrompt {\n",
       "    flex: 0 0 2rem !important;\n",
       "    opacity: 0;\n",
       "}\n",
       ".jp-mod-presentationMode .jp-Notebook .jp-Cell.jp-mod-active .jp-OutputPrompt,\n",
       ".jp-mod-presentationMode .jp-Notebook .jp-Cell.jp-mod-active .jp-OutputPrompt {\n",
       "    opacity: 0.5;\n",
       "}\n",
       ".jp-mod-presentationMode .jp-Notebook .jp-Cell .jp-InputPrompt, \n",
       ".jp-mod-presentationMode .jp-Notebook .jp-Cell .jp-OutputPrompt\n",
       "\n",
       ".jp-mod-presentationMode hr {\n",
       "    opacity: 0.1;\n",
       "}\n",
       "</style>\n",
       "    <style>\n",
       "    .jp-TableOfContents-content h1, \n",
       "    .jp-TableOfContents-content h2 {\n",
       "        margin-bottom: var(--jp-ui-font-size0);\n",
       "    }\n",
       "    </style>\n",
       "    \n",
       "    <style>\n",
       "    .jp-mod-presentationMode {\n",
       "        --jp-content-heading-line-height: 1.25 !important;\n",
       "    }\n",
       "    </style>\n",
       "    "
      ],
      "text/plain": [
       "<IPython.core.display.HTML object>"
      ]
     },
     "metadata": {},
     "output_type": "display_data"
    },
    {
     "data": {
      "text/html": [
       "\n",
       "<style>\n",
       ".flexed-container {display: flex; margin: 1em}\n",
       ".flexed-container.flexed-row {flex-direction: row;}\n",
       ".flexed-container.flexed-column {flex-direction: column;}\n",
       ".flexed-container iframe {min-width: 350px;}\n",
       ".flexed-item {order: 0; margin: !em}\n",
       "</style>"
      ],
      "text/plain": [
       "<IPython.core.display.HTML object>"
      ]
     },
     "metadata": {},
     "output_type": "display_data"
    }
   ],
   "source": [
    "%reload_ext reincarnation"
   ]
  },
  {
   "cell_type": "code",
   "execution_count": 39,
   "metadata": {},
   "outputs": [],
   "source": [
    "    lit = \"\"\"digraph {label=literacy rankdir=LR textual -> computational -> procedural -> textual}\"\"\"\n",
    "    nb = \"\"\"digraph {label=jupyter rankdir=LR markdown -> code -> notebooks -> markdown}\"\"\""
   ]
  },
  {
   "cell_type": "code",
   "execution_count": 49,
   "metadata": {},
   "outputs": [
    {
     "data": {
      "text/html": [
       "<div class=\"flexed-container flexed-row\"><div class=\"flexed-item\" style=\"order: 0;\"><ul>\n",
       "<li>Notebook features map nicely to literacy</li>\n",
       "</ul>\n",
       "</div></div>"
      ],
      "text/plain": [
       "Row(content=['* Notebook features map nicely to literacy'])"
      ]
     },
     "metadata": {},
     "output_type": "display_data"
    },
    {
     "data": {
      "text/html": [
       "<div class=\"flexed-container flexed-row\"><div class=\"flexed-item\" style=\"order: 0;\"><?xml version=\"1.0\" encoding=\"UTF-8\" standalone=\"no\"?>\r\n",
       "<!DOCTYPE svg PUBLIC \"-//W3C//DTD SVG 1.1//EN\"\r\n",
       " \"http://www.w3.org/Graphics/SVG/1.1/DTD/svg11.dtd\">\r\n",
       "<!-- Generated by graphviz version 2.38.0 (20140413.2041)\r\n",
       " -->\r\n",
       "<!-- Title: %3 Pages: 1 -->\r\n",
       "<svg width=\"335pt\" height=\"90pt\"\r\n",
       " viewBox=\"0.00 0.00 334.78 90.00\" xmlns=\"http://www.w3.org/2000/svg\" xmlns:xlink=\"http://www.w3.org/1999/xlink\">\r\n",
       "<g id=\"graph0\" class=\"graph\" transform=\"scale(1 1) rotate(0) translate(4 86)\">\r\n",
       "<title>%3</title>\r\n",
       "<polygon fill=\"white\" stroke=\"none\" points=\"-4,4 -4,-86 330.777,-86 330.777,4 -4,4\"/>\r\n",
       "<text text-anchor=\"middle\" x=\"163.389\" y=\"-7.8\" font-family=\"Times New Roman,serif\" font-size=\"14.00\">jupyter</text>\r\n",
       "<!-- markdown -->\r\n",
       "<g id=\"node1\" class=\"node\"><title>markdown</title>\r\n",
       "<ellipse fill=\"none\" stroke=\"black\" cx=\"49.3956\" cy=\"-41\" rx=\"49.2915\" ry=\"18\"/>\r\n",
       "<text text-anchor=\"middle\" x=\"49.3956\" y=\"-37.3\" font-family=\"Times New Roman,serif\" font-size=\"14.00\">markdown</text>\r\n",
       "</g>\r\n",
       "<!-- code -->\r\n",
       "<g id=\"node2\" class=\"node\"><title>code</title>\r\n",
       "<ellipse fill=\"none\" stroke=\"black\" cx=\"163.389\" cy=\"-64\" rx=\"28.6953\" ry=\"18\"/>\r\n",
       "<text text-anchor=\"middle\" x=\"163.389\" y=\"-60.3\" font-family=\"Times New Roman,serif\" font-size=\"14.00\">code</text>\r\n",
       "</g>\r\n",
       "<!-- markdown&#45;&gt;code -->\r\n",
       "<g id=\"edge1\" class=\"edge\"><title>markdown&#45;&gt;code</title>\r\n",
       "<path fill=\"none\" stroke=\"black\" d=\"M92.7354,-49.6953C103.72,-51.9511 115.45,-54.3603 126.093,-56.5459\"/>\r\n",
       "<polygon fill=\"black\" stroke=\"black\" points=\"125.404,-59.9774 135.903,-58.5607 126.812,-53.1205 125.404,-59.9774\"/>\r\n",
       "</g>\r\n",
       "<!-- notebooks -->\r\n",
       "<g id=\"node3\" class=\"node\"><title>notebooks</title>\r\n",
       "<ellipse fill=\"none\" stroke=\"black\" cx=\"277.382\" cy=\"-41\" rx=\"49.2915\" ry=\"18\"/>\r\n",
       "<text text-anchor=\"middle\" x=\"277.382\" y=\"-37.3\" font-family=\"Times New Roman,serif\" font-size=\"14.00\">notebooks</text>\r\n",
       "</g>\r\n",
       "<!-- code&#45;&gt;notebooks -->\r\n",
       "<g id=\"edge2\" class=\"edge\"><title>code&#45;&gt;notebooks</title>\r\n",
       "<path fill=\"none\" stroke=\"black\" d=\"M190.929,-58.5493C200.835,-56.515 212.46,-54.1276 223.889,-51.7804\"/>\r\n",
       "<polygon fill=\"black\" stroke=\"black\" points=\"224.743,-55.1781 233.835,-49.7378 223.335,-48.3212 224.743,-55.1781\"/>\r\n",
       "</g>\r\n",
       "<!-- notebooks&#45;&gt;markdown -->\r\n",
       "<g id=\"edge3\" class=\"edge\"><title>notebooks&#45;&gt;markdown</title>\r\n",
       "<path fill=\"none\" stroke=\"black\" d=\"M228.195,-38.3217C216.359,-37.7727 203.718,-37.2779 191.986,-37 166.573,-36.3981 160.204,-36.3981 134.791,-37 126.359,-37.1997 117.457,-37.5115 108.722,-37.875\"/>\r\n",
       "<polygon fill=\"black\" stroke=\"black\" points=\"108.418,-34.3848 98.5822,-38.3217 108.727,-41.3781 108.418,-34.3848\"/>\r\n",
       "</g>\r\n",
       "</g>\r\n",
       "</svg>\r\n",
       "</div><div class=\"flexed-item\" style=\"order: 0;\"><?xml version=\"1.0\" encoding=\"UTF-8\" standalone=\"no\"?>\r\n",
       "<!DOCTYPE svg PUBLIC \"-//W3C//DTD SVG 1.1//EN\"\r\n",
       " \"http://www.w3.org/Graphics/SVG/1.1/DTD/svg11.dtd\">\r\n",
       "<!-- Generated by graphviz version 2.38.0 (20140413.2041)\r\n",
       " -->\r\n",
       "<!-- Title: %3 Pages: 1 -->\r\n",
       "<svg width=\"372pt\" height=\"90pt\"\r\n",
       " viewBox=\"0.00 0.00 372.47 90.00\" xmlns=\"http://www.w3.org/2000/svg\" xmlns:xlink=\"http://www.w3.org/1999/xlink\">\r\n",
       "<g id=\"graph0\" class=\"graph\" transform=\"scale(1 1) rotate(0) translate(4 86)\">\r\n",
       "<title>%3</title>\r\n",
       "<polygon fill=\"white\" stroke=\"none\" points=\"-4,4 -4,-86 368.474,-86 368.474,4 -4,4\"/>\r\n",
       "<text text-anchor=\"middle\" x=\"182.237\" y=\"-7.8\" font-family=\"Times New Roman,serif\" font-size=\"14.00\">literacy</text>\r\n",
       "<!-- textual -->\r\n",
       "<g id=\"node1\" class=\"node\"><title>textual</title>\r\n",
       "<ellipse fill=\"none\" stroke=\"black\" cx=\"34.4469\" cy=\"-41\" rx=\"34.394\" ry=\"18\"/>\r\n",
       "<text text-anchor=\"middle\" x=\"34.4469\" y=\"-37.3\" font-family=\"Times New Roman,serif\" font-size=\"14.00\">textual</text>\r\n",
       "</g>\r\n",
       "<!-- computational -->\r\n",
       "<g id=\"node2\" class=\"node\"><title>computational</title>\r\n",
       "<ellipse fill=\"none\" stroke=\"black\" cx=\"166.638\" cy=\"-64\" rx=\"61.99\" ry=\"18\"/>\r\n",
       "<text text-anchor=\"middle\" x=\"166.638\" y=\"-60.3\" font-family=\"Times New Roman,serif\" font-size=\"14.00\">computational</text>\r\n",
       "</g>\r\n",
       "<!-- textual&#45;&gt;computational -->\r\n",
       "<g id=\"edge1\" class=\"edge\"><title>textual&#45;&gt;computational</title>\r\n",
       "<path fill=\"none\" stroke=\"black\" d=\"M67.2954,-46.6264C78.225,-48.5573 90.8639,-50.7901 103.364,-52.9984\"/>\r\n",
       "<polygon fill=\"black\" stroke=\"black\" points=\"102.867,-56.4647 113.323,-54.7579 104.085,-49.5715 102.867,-56.4647\"/>\r\n",
       "</g>\r\n",
       "<!-- procedural -->\r\n",
       "<g id=\"node3\" class=\"node\"><title>procedural</title>\r\n",
       "<ellipse fill=\"none\" stroke=\"black\" cx=\"314.428\" cy=\"-41\" rx=\"50.0912\" ry=\"18\"/>\r\n",
       "<text text-anchor=\"middle\" x=\"314.428\" y=\"-37.3\" font-family=\"Times New Roman,serif\" font-size=\"14.00\">procedural</text>\r\n",
       "</g>\r\n",
       "<!-- computational&#45;&gt;procedural -->\r\n",
       "<g id=\"edge2\" class=\"edge\"><title>computational&#45;&gt;procedural</title>\r\n",
       "<path fill=\"none\" stroke=\"black\" d=\"M221.511,-55.501C233.551,-53.6015 246.336,-51.5846 258.422,-49.6779\"/>\r\n",
       "<polygon fill=\"black\" stroke=\"black\" points=\"259.045,-53.123 268.377,-48.1073 257.954,-46.2085 259.045,-53.123\"/>\r\n",
       "</g>\r\n",
       "<!-- procedural&#45;&gt;textual -->\r\n",
       "<g id=\"edge3\" class=\"edge\"><title>procedural&#45;&gt;textual</title>\r\n",
       "<path fill=\"none\" stroke=\"black\" d=\"M264.871,-38.3217C252.943,-37.7727 240.205,-37.2779 228.383,-37 173.514,-35.7104 159.755,-35.4214 104.894,-37 96.4833,-37.242 87.5068,-37.6486 78.8954,-38.1122\"/>\r\n",
       "<polygon fill=\"black\" stroke=\"black\" points=\"78.419,-34.6336 68.6351,-38.6988 78.8186,-41.6222 78.419,-34.6336\"/>\r\n",
       "</g>\r\n",
       "</g>\r\n",
       "</svg>\r\n",
       "</div></div>"
      ],
      "text/plain": [
       "Row(content=['digraph {label=jupyter rankdir=LR markdown -> code -> notebooks -> markdown}', 'digraph {label=literacy rankdir=LR textual -> computational -> procedural -> textual}'])"
      ]
     },
     "metadata": {},
     "output_type": "display_data"
    }
   ],
   "source": [
    "    \"\"\"- '* Notebook features map nicely to literacy' \"\"\"\n",
    "    F\"\"\"\n",
    "    - {nb}\n",
    "    - {lit}\n",
    "    \"\"\""
   ]
  },
  {
   "cell_type": "code",
   "execution_count": 41,
   "metadata": {},
   "outputs": [
    {
     "data": {
      "text/html": [
       "<div class=\"flexed-container flexed-row\"><div class=\"flexed-container flexed-column\"><div class=\"flexed-item\" style=\"order: 0;\"><h3>Literacy Makes Programming a Human Problem</h3>\n",
       "<blockquote><p><em>Computational literacy builds on textual literacy because it entails textual writing and reading, but it is also quite distinct from textual literacy. In programming, one must \n",
       "build structures out of explicitly defined components. As Wittgenstein argued, human language works differently: not through explicit definitions, but through use and exchange.</em></p>\n",
       "<blockquote><p><a href=\"http://licsjournal.org/OJS/index.php/LiCS/article/view/24/26\">Annette Vee - Understanding Computer programming as a Literacy</a></p>\n",
       "</blockquote>\n",
       "</blockquote>\n",
       "</div><div class=\"flexed-item\" style=\"order: 0;\">\n",
       "        <iframe\n",
       "            width=\"100%\"\n",
       "            height=\"450\"\n",
       "            src=\"http://licsjournal.org/OJS/index.php/LiCS/article/view/24/26#\"\n",
       "            frameborder=\"0\"\n",
       "            allowfullscreen\n",
       "        ></iframe>\n",
       "        </div></div></div>"
      ],
      "text/plain": [
       "Row(content=[['### Literacy Makes Programming a Human Problem\\n> _Computational literacy builds on textual literacy because it entails textual writing and reading, but it is also quite distinct from textual literacy. In programming, one must \\nbuild structures out of explicitly defined components. As Wittgenstein argued, human language works differently: not through explicit definitions, but through use and exchange._\\n>> [Annette Vee - Understanding Computer programming as a Literacy](http://licsjournal.org/OJS/index.php/LiCS/article/view/24/26)\\n', {'html': {'src': 'http://licsjournal.org/OJS/index.php/LiCS/article/view/24/26#', 'width': '100%'}}]])"
      ]
     },
     "metadata": {},
     "output_type": "display_data"
    }
   ],
   "source": [
    "\"\"\"\n",
    "- - |\n",
    "    ### Literacy Makes Programming a Human Problem\n",
    "\n",
    "    > _Computational literacy builds on textual literacy because it entails textual writing and reading, but it is also quite distinct from textual literacy. In programming, one must \n",
    "    build structures out of explicitly defined components. As Wittgenstein argued, human language works differently: not through explicit definitions, but through use and exchange._\n",
    "    >> [Annette Vee - Understanding Computer programming as a Literacy](http://licsjournal.org/OJS/index.php/LiCS/article/view/24/26)\n",
    "  - html: \n",
    "        src: http://licsjournal.org/OJS/index.php/LiCS/article/view/24/26#\n",
    "        width: 100%\n",
    "    \n",
    "\"\"\"\n",
    "    "
   ]
  },
  {
   "cell_type": "code",
   "execution_count": 42,
   "metadata": {},
   "outputs": [
    {
     "data": {
      "text/html": [
       "<div class=\"flexed-container flexed-row\"><div class=\"flexed-container flexed-column\"><div class=\"flexed-item\" style=\"order: 0;\"><h3>Computational Literacy</h3>\n",
       "</div><div class=\"flexed-item\" style=\"order: 0;\">\n",
       "        <iframe\n",
       "            width=\"500\"\n",
       "            height=\"450\"\n",
       "            src=\"https://en.m.wikipedia.org/wiki/Guido_van_Rossum#Computer_Programming_for_Everybody\"\n",
       "            frameborder=\"0\"\n",
       "            allowfullscreen\n",
       "        ></iframe>\n",
       "        </div><div class=\"flexed-item\" style=\"order: 0;\"><blockquote><h3>We compare mass ability to read and write so ware with mass literacy, and predict equally pervasive changes to society. Hardware is now sufficiently fast and cheap to make mass computer education possible: the next big change will happen when most computer users have the knowledge and power to create and modify software.</h3>\n",
       "<blockquote><h2>Guido van Rossum, from <a href=\"https://www.python.org/doc/essays/cp4e/\">a 1999 DARPA grant application to support the teaching of computer programming.</a></h2>\n",
       "</blockquote>\n",
       "</blockquote>\n",
       "</div></div></div>"
      ],
      "text/plain": [
       "Row(content=[['### Computational Literacy', {'html': 'https://en.m.wikipedia.org/wiki/Guido_van_Rossum#Computer_Programming_for_Everybody'}, '> ### We compare mass ability to read and write so ware with mass literacy, and predict equally pervasive changes to society. Hardware is now sufficiently fast and cheap to make mass computer education possible: the next big change will happen when most computer users have the knowledge and power to create and modify software.\\n> > ## Guido van Rossum, from [a 1999 DARPA grant application to support the teaching of computer programming.](https://www.python.org/doc/essays/cp4e/)\\n']])"
      ]
     },
     "metadata": {},
     "output_type": "display_data"
    }
   ],
   "source": [
    "\"\"\"\n",
    "- - \"### Computational Literacy\"\n",
    "  - html: https://en.m.wikipedia.org/wiki/Guido_van_Rossum#Computer_Programming_for_Everybody\n",
    "  - |\n",
    "    > ### We compare mass ability to read and write so ware with mass literacy, and predict equally pervasive changes to society. Hardware is now sufficiently fast and cheap to make mass computer education possible: the next big change will happen when most computer users have the knowledge and power to create and modify software.\n",
    "    > > ## Guido van Rossum, from [a 1999 DARPA grant application to support the teaching of computer programming.](https://www.python.org/doc/essays/cp4e/)\n",
    "\n",
    "\"\"\""
   ]
  },
  {
   "cell_type": "markdown",
   "metadata": {},
   "source": [
    "### procedural literacy\n",
    "\n",
    "> ... procedural literacy entails the ability to reconfigure basic concepts and rules to understand and solve problems, not just on the computer, but in general.\n",
    ">> [Ian Bogost - Procedural Literacy: Problem Solving with Programming, Systems, & Play](http://bogost.com/downloads/I.%20Bogost%20Procedural%20Literacy.pdf)"
   ]
  },
  {
   "cell_type": "markdown",
   "metadata": {},
   "source": [
    "# deathbeds is Markdown first"
   ]
  },
  {
   "cell_type": "code",
   "execution_count": 48,
   "metadata": {},
   "outputs": [
    {
     "data": {
      "text/html": [
       "\n",
       "        <iframe\n",
       "            width=\"100%\"\n",
       "            height=\"450\"\n",
       "            src=\"http://nbviewer.jupyter.org/github/deathbeds/deathbeds.github.io/blob/master/deathbeds/2018-08-03-A-case-for-indented-code.ipynb\"\n",
       "            frameborder=\"0\"\n",
       "            allowfullscreen\n",
       "        ></iframe>\n",
       "        "
      ],
      "text/plain": [
       "<IPython.lib.display.IFrame at 0x23764fbc278>"
      ]
     },
     "metadata": {},
     "output_type": "display_data"
    }
   ],
   "source": [
    "    \"\"\"http://nbviewer.jupyter.org/github/deathbeds/deathbeds.github.io/blob/master/deathbeds/2018-08-03-A-case-for-indented-code.ipynb\"\"\""
   ]
  },
  {
   "cell_type": "markdown",
   "metadata": {},
   "source": [
    "# Literacy + Reproducibility = Replicability"
   ]
  },
  {
   "cell_type": "code",
   "execution_count": 45,
   "metadata": {},
   "outputs": [],
   "source": [
    "rrr = \"\"\"digraph {label=replicability rankdir=LR readable -> reproducible -> reusable -> readable }\"\"\""
   ]
  },
  {
   "cell_type": "code",
   "execution_count": 53,
   "metadata": {},
   "outputs": [
    {
     "data": {
      "image/svg+xml": [
       "<?xml version=\"1.0\" encoding=\"UTF-8\" standalone=\"no\"?>\r\n",
       "<!DOCTYPE svg PUBLIC \"-//W3C//DTD SVG 1.1//EN\"\r\n",
       " \"http://www.w3.org/Graphics/SVG/1.1/DTD/svg11.dtd\">\r\n",
       "<!-- Generated by graphviz version 2.38.0 (20140413.2041)\r\n",
       " -->\r\n",
       "<!-- Title: %3 Pages: 1 -->\r\n",
       "<svg width=\"372pt\" height=\"90pt\"\r\n",
       " viewBox=\"0.00 0.00 372.47 90.00\" xmlns=\"http://www.w3.org/2000/svg\" xmlns:xlink=\"http://www.w3.org/1999/xlink\">\r\n",
       "<g id=\"graph0\" class=\"graph\" transform=\"scale(1 1) rotate(0) translate(4 86)\">\r\n",
       "<title>%3</title>\r\n",
       "<polygon fill=\"white\" stroke=\"none\" points=\"-4,4 -4,-86 368.474,-86 368.474,4 -4,4\"/>\r\n",
       "<text text-anchor=\"middle\" x=\"182.237\" y=\"-7.8\" font-family=\"Times New Roman,serif\" font-size=\"14.00\">literacy</text>\r\n",
       "<!-- textual -->\r\n",
       "<g id=\"node1\" class=\"node\"><title>textual</title>\r\n",
       "<ellipse fill=\"none\" stroke=\"black\" cx=\"34.4469\" cy=\"-41\" rx=\"34.394\" ry=\"18\"/>\r\n",
       "<text text-anchor=\"middle\" x=\"34.4469\" y=\"-37.3\" font-family=\"Times New Roman,serif\" font-size=\"14.00\">textual</text>\r\n",
       "</g>\r\n",
       "<!-- computational -->\r\n",
       "<g id=\"node2\" class=\"node\"><title>computational</title>\r\n",
       "<ellipse fill=\"none\" stroke=\"black\" cx=\"166.638\" cy=\"-64\" rx=\"61.99\" ry=\"18\"/>\r\n",
       "<text text-anchor=\"middle\" x=\"166.638\" y=\"-60.3\" font-family=\"Times New Roman,serif\" font-size=\"14.00\">computational</text>\r\n",
       "</g>\r\n",
       "<!-- textual&#45;&gt;computational -->\r\n",
       "<g id=\"edge1\" class=\"edge\"><title>textual&#45;&gt;computational</title>\r\n",
       "<path fill=\"none\" stroke=\"black\" d=\"M67.2954,-46.6264C78.225,-48.5573 90.8639,-50.7901 103.364,-52.9984\"/>\r\n",
       "<polygon fill=\"black\" stroke=\"black\" points=\"102.867,-56.4647 113.323,-54.7579 104.085,-49.5715 102.867,-56.4647\"/>\r\n",
       "</g>\r\n",
       "<!-- procedural -->\r\n",
       "<g id=\"node3\" class=\"node\"><title>procedural</title>\r\n",
       "<ellipse fill=\"none\" stroke=\"black\" cx=\"314.428\" cy=\"-41\" rx=\"50.0912\" ry=\"18\"/>\r\n",
       "<text text-anchor=\"middle\" x=\"314.428\" y=\"-37.3\" font-family=\"Times New Roman,serif\" font-size=\"14.00\">procedural</text>\r\n",
       "</g>\r\n",
       "<!-- computational&#45;&gt;procedural -->\r\n",
       "<g id=\"edge2\" class=\"edge\"><title>computational&#45;&gt;procedural</title>\r\n",
       "<path fill=\"none\" stroke=\"black\" d=\"M221.511,-55.501C233.551,-53.6015 246.336,-51.5846 258.422,-49.6779\"/>\r\n",
       "<polygon fill=\"black\" stroke=\"black\" points=\"259.045,-53.123 268.377,-48.1073 257.954,-46.2085 259.045,-53.123\"/>\r\n",
       "</g>\r\n",
       "<!-- procedural&#45;&gt;textual -->\r\n",
       "<g id=\"edge3\" class=\"edge\"><title>procedural&#45;&gt;textual</title>\r\n",
       "<path fill=\"none\" stroke=\"black\" d=\"M264.871,-38.3217C252.943,-37.7727 240.205,-37.2779 228.383,-37 173.514,-35.7104 159.755,-35.4214 104.894,-37 96.4833,-37.242 87.5068,-37.6486 78.8954,-38.1122\"/>\r\n",
       "<polygon fill=\"black\" stroke=\"black\" points=\"78.419,-34.6336 68.6351,-38.6988 78.8186,-41.6222 78.419,-34.6336\"/>\r\n",
       "</g>\r\n",
       "</g>\r\n",
       "</svg>\r\n"
      ],
      "text/plain": [
       "<graphviz.files.Source at 0x23765b00898>"
      ]
     },
     "metadata": {},
     "output_type": "display_data"
    },
    {
     "data": {
      "image/svg+xml": [
       "<?xml version=\"1.0\" encoding=\"UTF-8\" standalone=\"no\"?>\r\n",
       "<!DOCTYPE svg PUBLIC \"-//W3C//DTD SVG 1.1//EN\"\r\n",
       " \"http://www.w3.org/Graphics/SVG/1.1/DTD/svg11.dtd\">\r\n",
       "<!-- Generated by graphviz version 2.38.0 (20140413.2041)\r\n",
       " -->\r\n",
       "<!-- Title: %3 Pages: 1 -->\r\n",
       "<svg width=\"335pt\" height=\"90pt\"\r\n",
       " viewBox=\"0.00 0.00 334.78 90.00\" xmlns=\"http://www.w3.org/2000/svg\" xmlns:xlink=\"http://www.w3.org/1999/xlink\">\r\n",
       "<g id=\"graph0\" class=\"graph\" transform=\"scale(1 1) rotate(0) translate(4 86)\">\r\n",
       "<title>%3</title>\r\n",
       "<polygon fill=\"white\" stroke=\"none\" points=\"-4,4 -4,-86 330.777,-86 330.777,4 -4,4\"/>\r\n",
       "<text text-anchor=\"middle\" x=\"163.389\" y=\"-7.8\" font-family=\"Times New Roman,serif\" font-size=\"14.00\">jupyter</text>\r\n",
       "<!-- markdown -->\r\n",
       "<g id=\"node1\" class=\"node\"><title>markdown</title>\r\n",
       "<ellipse fill=\"none\" stroke=\"black\" cx=\"49.3956\" cy=\"-41\" rx=\"49.2915\" ry=\"18\"/>\r\n",
       "<text text-anchor=\"middle\" x=\"49.3956\" y=\"-37.3\" font-family=\"Times New Roman,serif\" font-size=\"14.00\">markdown</text>\r\n",
       "</g>\r\n",
       "<!-- code -->\r\n",
       "<g id=\"node2\" class=\"node\"><title>code</title>\r\n",
       "<ellipse fill=\"none\" stroke=\"black\" cx=\"163.389\" cy=\"-64\" rx=\"28.6953\" ry=\"18\"/>\r\n",
       "<text text-anchor=\"middle\" x=\"163.389\" y=\"-60.3\" font-family=\"Times New Roman,serif\" font-size=\"14.00\">code</text>\r\n",
       "</g>\r\n",
       "<!-- markdown&#45;&gt;code -->\r\n",
       "<g id=\"edge1\" class=\"edge\"><title>markdown&#45;&gt;code</title>\r\n",
       "<path fill=\"none\" stroke=\"black\" d=\"M92.7354,-49.6953C103.72,-51.9511 115.45,-54.3603 126.093,-56.5459\"/>\r\n",
       "<polygon fill=\"black\" stroke=\"black\" points=\"125.404,-59.9774 135.903,-58.5607 126.812,-53.1205 125.404,-59.9774\"/>\r\n",
       "</g>\r\n",
       "<!-- notebooks -->\r\n",
       "<g id=\"node3\" class=\"node\"><title>notebooks</title>\r\n",
       "<ellipse fill=\"none\" stroke=\"black\" cx=\"277.382\" cy=\"-41\" rx=\"49.2915\" ry=\"18\"/>\r\n",
       "<text text-anchor=\"middle\" x=\"277.382\" y=\"-37.3\" font-family=\"Times New Roman,serif\" font-size=\"14.00\">notebooks</text>\r\n",
       "</g>\r\n",
       "<!-- code&#45;&gt;notebooks -->\r\n",
       "<g id=\"edge2\" class=\"edge\"><title>code&#45;&gt;notebooks</title>\r\n",
       "<path fill=\"none\" stroke=\"black\" d=\"M190.929,-58.5493C200.835,-56.515 212.46,-54.1276 223.889,-51.7804\"/>\r\n",
       "<polygon fill=\"black\" stroke=\"black\" points=\"224.743,-55.1781 233.835,-49.7378 223.335,-48.3212 224.743,-55.1781\"/>\r\n",
       "</g>\r\n",
       "<!-- notebooks&#45;&gt;markdown -->\r\n",
       "<g id=\"edge3\" class=\"edge\"><title>notebooks&#45;&gt;markdown</title>\r\n",
       "<path fill=\"none\" stroke=\"black\" d=\"M228.195,-38.3217C216.359,-37.7727 203.718,-37.2779 191.986,-37 166.573,-36.3981 160.204,-36.3981 134.791,-37 126.359,-37.1997 117.457,-37.5115 108.722,-37.875\"/>\r\n",
       "<polygon fill=\"black\" stroke=\"black\" points=\"108.418,-34.3848 98.5822,-38.3217 108.727,-41.3781 108.418,-34.3848\"/>\r\n",
       "</g>\r\n",
       "</g>\r\n",
       "</svg>\r\n"
      ],
      "text/plain": [
       "<graphviz.files.Source at 0x23765b00828>"
      ]
     },
     "metadata": {},
     "output_type": "display_data"
    },
    {
     "data": {
      "image/svg+xml": [
       "<?xml version=\"1.0\" encoding=\"UTF-8\" standalone=\"no\"?>\r\n",
       "<!DOCTYPE svg PUBLIC \"-//W3C//DTD SVG 1.1//EN\"\r\n",
       " \"http://www.w3.org/Graphics/SVG/1.1/DTD/svg11.dtd\">\r\n",
       "<!-- Generated by graphviz version 2.38.0 (20140413.2041)\r\n",
       " -->\r\n",
       "<!-- Title: %3 Pages: 1 -->\r\n",
       "<svg width=\"356pt\" height=\"90pt\"\r\n",
       " viewBox=\"0.00 0.00 355.58 90.00\" xmlns=\"http://www.w3.org/2000/svg\" xmlns:xlink=\"http://www.w3.org/1999/xlink\">\r\n",
       "<g id=\"graph0\" class=\"graph\" transform=\"scale(1 1) rotate(0) translate(4 86)\">\r\n",
       "<title>%3</title>\r\n",
       "<polygon fill=\"white\" stroke=\"none\" points=\"-4,4 -4,-86 351.576,-86 351.576,4 -4,4\"/>\r\n",
       "<text text-anchor=\"middle\" x=\"173.788\" y=\"-7.8\" font-family=\"Times New Roman,serif\" font-size=\"14.00\">replicability</text>\r\n",
       "<!-- readable -->\r\n",
       "<g id=\"node1\" class=\"node\"><title>readable</title>\r\n",
       "<ellipse fill=\"none\" stroke=\"black\" cx=\"40.9464\" cy=\"-41\" rx=\"40.8928\" ry=\"18\"/>\r\n",
       "<text text-anchor=\"middle\" x=\"40.9464\" y=\"-37.3\" font-family=\"Times New Roman,serif\" font-size=\"14.00\">readable</text>\r\n",
       "</g>\r\n",
       "<!-- reproducible -->\r\n",
       "<g id=\"node2\" class=\"node\"><title>reproducible</title>\r\n",
       "<ellipse fill=\"none\" stroke=\"black\" cx=\"174.438\" cy=\"-64\" rx=\"56.59\" ry=\"18\"/>\r\n",
       "<text text-anchor=\"middle\" x=\"174.438\" y=\"-60.3\" font-family=\"Times New Roman,serif\" font-size=\"14.00\">reproducible</text>\r\n",
       "</g>\r\n",
       "<!-- readable&#45;&gt;reproducible -->\r\n",
       "<g id=\"edge1\" class=\"edge\"><title>readable&#45;&gt;reproducible</title>\r\n",
       "<path fill=\"none\" stroke=\"black\" d=\"M79.2748,-47.5294C90.1893,-49.4385 102.398,-51.5739 114.313,-53.6581\"/>\r\n",
       "<polygon fill=\"black\" stroke=\"black\" points=\"113.765,-57.1152 124.218,-55.3907 114.971,-50.2199 113.765,-57.1152\"/>\r\n",
       "</g>\r\n",
       "<!-- reusable -->\r\n",
       "<g id=\"node3\" class=\"node\"><title>reusable</title>\r\n",
       "<ellipse fill=\"none\" stroke=\"black\" cx=\"307.279\" cy=\"-41\" rx=\"40.0939\" ry=\"18\"/>\r\n",
       "<text text-anchor=\"middle\" x=\"307.279\" y=\"-37.3\" font-family=\"Times New Roman,serif\" font-size=\"14.00\">reusable</text>\r\n",
       "</g>\r\n",
       "<!-- reproducible&#45;&gt;reusable -->\r\n",
       "<g id=\"edge2\" class=\"edge\"><title>reproducible&#45;&gt;reusable</title>\r\n",
       "<path fill=\"none\" stroke=\"black\" d=\"M224.53,-55.3702C235.967,-53.3598 248.115,-51.2244 259.451,-49.2317\"/>\r\n",
       "<polygon fill=\"black\" stroke=\"black\" points=\"260.346,-52.6281 269.589,-47.4496 259.134,-45.7338 260.346,-52.6281\"/>\r\n",
       "</g>\r\n",
       "<!-- reusable&#45;&gt;readable -->\r\n",
       "<g id=\"edge3\" class=\"edge\"><title>reusable&#45;&gt;readable</title>\r\n",
       "<path fill=\"none\" stroke=\"black\" d=\"M267.215,-38.5299C255.563,-37.8998 242.76,-37.3126 230.983,-37 180.738,-35.6664 168.138,-35.6778 117.893,-37 109.45,-37.2222 100.484,-37.5831 91.7841,-37.9995\"/>\r\n",
       "<polygon fill=\"black\" stroke=\"black\" points=\"91.5504,-34.5068 81.7406,-38.5089 91.9051,-41.4978 91.5504,-34.5068\"/>\r\n",
       "</g>\r\n",
       "</g>\r\n",
       "</svg>\r\n"
      ],
      "text/plain": [
       "<graphviz.files.Source at 0x237627d2320>"
      ]
     },
     "metadata": {},
     "output_type": "display_data"
    }
   ],
   "source": [
    "    F\"\"\"{lit}\"\"\"; F\"\"\"{nb}\"\"\"; F\"\"\"{rrr}\"\"\""
   ]
  },
  {
   "cell_type": "code",
   "execution_count": 47,
   "metadata": {},
   "outputs": [
    {
     "data": {
      "text/html": [
       "\n",
       "        <iframe\n",
       "            width=\"100%\"\n",
       "            height=\"450\"\n",
       "            src=\"http://gael-varoquaux.info/programming/of-software-and-science-reproducible-science-what-why-and-how.html\"\n",
       "            frameborder=\"0\"\n",
       "            allowfullscreen\n",
       "        ></iframe>\n",
       "        "
      ],
      "text/plain": [
       "<IPython.lib.display.IFrame at 0x237627d23c8>"
      ]
     },
     "metadata": {},
     "output_type": "display_data"
    }
   ],
   "source": [
    "    \"\"\"http://gael-varoquaux.info/programming/of-software-and-science-reproducible-science-what-why-and-how.html\"\"\""
   ]
  },
  {
   "cell_type": "code",
   "execution_count": null,
   "metadata": {},
   "outputs": [],
   "source": [
    "F\"\"\"\n",
    "- \"## Notebook authors can create\"  \n",
    "- {rrr}\n",
    "- \"## documents, but there is no style guidelines.\"\n",
    "\"\"\"\n"
   ]
  },
  {
   "cell_type": "code",
   "execution_count": null,
   "metadata": {},
   "outputs": [],
   "source": [
    "    import this"
   ]
  },
  {
   "cell_type": "code",
   "execution_count": null,
   "metadata": {},
   "outputs": [],
   "source": [
    "    \"\"\"https://pymbook.readthedocs.io/en/latest/pep8.html#comments\"\"\""
   ]
  },
  {
   "cell_type": "code",
   "execution_count": null,
   "metadata": {},
   "outputs": [],
   "source": [
    "    np = \"\"\"\n",
    "        # [Zen of NumPy](http://technicaldiscovery.blogspot.com/2010/11/zen-of-numpy.html?m=1)\n",
    "\n",
    "\n",
    "        * Strided is better than scattered\n",
    "        * Contiguous is better than strided\n",
    "        * Descriptive is better than imperative (use data-types)\n",
    "        * Array-oriented is often better than object-oriented\n",
    "        * Broadcasting is a great idea -- use where possible\n",
    "        * Vectorized is better than an explicit loop\n",
    "        * Unless it’s complicated --- then use numexpr, weave, or Cython\n",
    "        * Think in higher dimensions\"\"\"\n",
    "    sympy = \"\"\"\n",
    "        # [Zen of SymPy](https://github.com/sympy/sympy/wiki/The-Zen-of-SymPy)\n",
    "\n",
    "        * Unevaluated is better than evaluated.\n",
    "        * The user interface matters.\n",
    "        * Printing matters.\n",
    "        * Pure Python can be fast enough.\n",
    "        * If it's too slow, it's (probably) your fault.\n",
    "        * Documentation matters.\n",
    "        * Correctness is more important than speed.\n",
    "        * Push it in now and improve upon it later.\n",
    "        * Coverage by testing matters.\n",
    "        * Smart tests are better than random tests.\n",
    "        * But random tests sometimes find what your smartest test missed.\n",
    "        * The Python way is probably the right way.\n",
    "        * Community is more important than code.\n",
    "        \"\"\"\n",
    "    bobp = \"\"\"\n",
    "        # [The Best of the Best Practices (BOBP) Guide for Python](https://gist.github.com/sloria/7001839#file-bobp-python-md)\n",
    "\n",
    "        A \"Best of the Best Practices\" (BOBP) guide to developing in Python.\n",
    "\n",
    "        ## In General\n",
    "\n",
    "        ### Values\n",
    "\n",
    "        - \"Build tools for others that you want to be built for you.\" - Kenneth Reitz\n",
    "        - \"Simplicity is alway better than functionality.\" - Pieter Hintjens\n",
    "        - \"Fit the 90% use-case. Ignore the nay sayers.\" - Kenneth Reitz\n",
    "        - \"Beautiful is better than ugly.\" - [PEP 20][]\n",
    "        - Build for open source (even for closed source projects).\n",
    "\n",
    "        ### General Development Guidelines\n",
    "\n",
    "        - \"Explicit is better than implicit\" - [PEP 20][]\n",
    "        - \"Readability counts.\" - [PEP 20][]\n",
    "        - \"Anybody can fix anything.\" - [Khan Academy Development Docs][]\n",
    "        - Fix each [broken window](http://www.artima.com/intv/fixit2.html) (bad design, wrong decision, or poor code) *as soon as it is discovered*.\n",
    "        - \"Now is better than never.\" - [PEP 20][]\n",
    "        - __Test ruthlessly. Write docs for new features.__\n",
    "        - Even more important that Test-Driven Development--*Human-Driven Development*\n",
    "        - These guidelines may--and probably will--change.\"\"\""
   ]
  },
  {
   "cell_type": "code",
   "execution_count": null,
   "metadata": {},
   "outputs": [],
   "source": [
    "    F\"\"\"\n",
    "    - |\n",
    "    {np}\n",
    "    - | \n",
    "    {sympy}\n",
    "    - | \n",
    "    {bobp}\"\"\""
   ]
  },
  {
   "cell_type": "code",
   "execution_count": null,
   "metadata": {},
   "outputs": [],
   "source": [
    "\"\"\"\n",
    "- |\n",
    "    ## Computer programs have styleguides\n",
    "- |\n",
    "    ## Computer programmers have idioms\n",
    "\"\"\""
   ]
  },
  {
   "cell_type": "markdown",
   "metadata": {},
   "source": [
    "# Black is the only color"
   ]
  },
  {
   "cell_type": "code",
   "execution_count": null,
   "metadata": {},
   "outputs": [],
   "source": [
    "    #%%blacken\n",
    "    #print(11)"
   ]
  },
  {
   "cell_type": "markdown",
   "metadata": {},
   "source": [
    "## Alan Perlisisms"
   ]
  },
  {
   "cell_type": "code",
   "execution_count": null,
   "metadata": {},
   "outputs": [],
   "source": [
    "\"\"\"http://www.cs.yale.edu/homes/perlis-alan/quotes.html\"\"\""
   ]
  },
  {
   "cell_type": "code",
   "execution_count": null,
   "metadata": {},
   "outputs": [],
   "source": [
    "    \"\"\"\n",
    "    - - - http://nbviewer.jupyter.org/github/jupyterday-atlanta-2016/oriole_jupyterday_atl/blob/master/don_knuth.jpg\n",
    "        - |\n",
    "            # [Donald Knuth](https://en.wikipedia.org/wiki/Donald_Knuth)\n",
    "            \n",
    "            * [$\\TeX$](https://en.wikipedia.org/wiki/TeX)\n",
    "            * [The Art of Computer Programming](https://en.wikipedia.org/wiki/The_Art_of_Computer_Programming)\n",
    "            * [40 years of tests!](http://yakshav.es/the-patron-saint-of-yakshaves/)\n",
    "            * [Book of the Century](https://web.archive.org/web/20080820030403/http://www.americanscientist.org/bookshelf/pub/100-or-so-books-that-shaped-a-century-of-science)\n",
    "      - - |\n",
    "          > ### _By coining the phrase “literate programming,” I am imposincg a moral commitment on everyone who hears the term;_ __surely nobody wants to admit writing an illiterate program__.\n",
    "        - html: http://roxygen.org/knuth-literate-programming.pdf\n",
    "    \"\"\""
   ]
  },
  {
   "cell_type": "code",
   "execution_count": null,
   "metadata": {},
   "outputs": [],
   "source": [
    "    \"\"\"\n",
    "    - - We can learn some best practices for the notebook from composing computational essays.\n",
    "      - html: http://blog.stephenwolfram.com/2017/11/what-is-a-computational-essay/#a-new-form-of-student-work\n",
    "    - \"> When you write a computational essay, the code in your computational essay has to produce results that fit with the story you’re telling. It’s not like you’re doing a mathematical derivation, and then some teacher tells you you’ve got the wrong answer. __You can immediately see what your code does, and whether it fits with the story you’re telling. If it doesn’t, well then maybe your code is wrong—or maybe your story is wrong.__\"\n",
    "    \"\"\""
   ]
  },
  {
   "cell_type": "code",
   "execution_count": null,
   "metadata": {},
   "outputs": [],
   "source": [
    "    from textwrap import indent; nbstyle = indent(\"\"\"focus on a concise \"unit of thought\"\n",
    "    invest the time and editorial effort to create a good introduction\n",
    "    keep your narrative simple and reasonably linear\n",
    "    \"chunk\" both the text and the code into understandable parts\n",
    "    alternate between text, code, output, further links, etc.\n",
    "    leverage markdown by providing interesting links for background, deep-dive, etc.\n",
    "    code cells should not be long, < 10 lines\n",
    "    code cells must show that they've run, producing at least some output\n",
    "    load data from the container, not the network\n",
    "    **clear all output then \"Run All\" -- or it didn't happen**\n",
    "    video narratives: there's text, and there's subtext...\n",
    "    pause after each \"beat\" -- smile, breathe, allow people to follow you\"\"\", ' * ')"
   ]
  },
  {
   "cell_type": "code",
   "execution_count": null,
   "metadata": {},
   "outputs": [],
   "source": [
    "F\"\"\"- |\n",
    "    # Notebook Style is not about Programming Style\n",
    "\n",
    "    ---\n",
    "\n",
    "    > ## What we learned about teaching with notebooks (in Oriole)\n",
    "    >> [Paco Nathan - Oriole: a new learning medium based on Jupyter + Docker](http://nbviewer.jupyter.org/github/jupyterday-atlanta-2016/oriole_jupyterday_atl/blob/master/oriole_talk.ipynb#What-we-learned-about-teaching-with-notebooks)\n",
    "- |\n",
    "{nbstyle}\n",
    "\"\"\""
   ]
  },
  {
   "cell_type": "markdown",
   "metadata": {},
   "source": [
    "# Over time style will develop but restart and run all will persist."
   ]
  },
  {
   "cell_type": "markdown",
   "metadata": {},
   "source": [
    "# Accessibility\n",
    "\n",
    "* # 👂\n",
    "* # 👁\n",
    "* # 👐\n",
    "* # 👅\n",
    "* # 👃 _the smell test_"
   ]
  },
  {
   "cell_type": "markdown",
   "metadata": {},
   "source": [
    "# Working better with a non-dominant ~~hand~~ ~~sense~~ worldview improves **learning** and **empathy** "
   ]
  },
  {
   "cell_type": "code",
   "execution_count": null,
   "metadata": {},
   "outputs": [],
   "source": [
    "    __import__('importnb').Remote().load(\n",
    "        'https://gist.githubusercontent.com/robclewley/a5730e22592724dbd11c67adf1eb0a05/raw/f7e99c4b32c803ca73d173ee52ffd4e76031ccd7/tqdm_audio_ticker.ipynb')"
   ]
  },
  {
   "cell_type": "markdown",
   "metadata": {},
   "source": [
    "    Benchmarks"
   ]
  }
 ],
 "metadata": {
  "kernelspec": {
   "display_name": "Python 3",
   "language": "python",
   "name": "python3"
  },
  "language_info": {
   "codemirror_mode": {
    "name": "ipython",
    "version": 3
   },
   "file_extension": ".py",
   "mimetype": "text/x-python",
   "name": "python",
   "nbconvert_exporter": "python",
   "pygments_lexer": "ipython3",
   "version": "3.6.6"
  }
 },
 "nbformat": 4,
 "nbformat_minor": 2
}
