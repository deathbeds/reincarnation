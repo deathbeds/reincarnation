{
 "cells": [
  {
   "cell_type": "markdown",
   "metadata": {},
   "source": [
    "# The Death of Notebooks\n",
    "# ⚰⚰⚰⚰⚰⚰⚰⚰⚰⚰⚰⚰⚰⚰\n"
   ]
  },
  {
   "cell_type": "code",
   "execution_count": 1,
   "metadata": {},
   "outputs": [
    {
     "data": {
      "text/html": [
       "<style>\n",
       ".jp-RenderedHTMLCommon pre code {\n",
       "    opacity: 0.25;\n",
       "}\n",
       ".jp-RenderedHTMLCommon pre code:hover {\n",
       "    transition: opacity 0.2s;\n",
       "    opacity: 1;\n",
       "    \n",
       "}\n",
       ".jp-Placeholder-content .jp-MoreHorizIcon {\n",
       "    background-size: 32px;\n",
       "}\n",
       "\n",
       "@import url(\"https://cdn.jsdelivr.net/npm/firacode@1.205.0/distr/fira_code.css\")\n",
       "\n",
       ".CodeMirror * {\n",
       "  font-family: 'Fira Code' !important; \n",
       "  font-variant-ligatures: initial !important;\n",
       "}\n",
       "\n",
       ".cm-string {\n",
       "    font-variant-ligatures: none;\n",
       "}\n",
       "</style><style>\n",
       ".jp-mod-presentationMode .jp-SideBar,\n",
       ".jp-mod-presentationMode #jp-top-panel {\n",
       "    opacity: 0.0;\n",
       "    transition: all 0.2s;\n",
       "}\n",
       ".jp-mod-presentationMode .jp-SideBar:hover,\n",
       ".jp-mod-presentationMode #jp-top-panel:hover {\n",
       "    opacity: 0.9;\n",
       "    transition: all 0.2s;\n",
       "}\n",
       "\n",
       "</style><style>\n",
       ".jp-mod-presentationMode.jp-ApplicationShell,\n",
       ".jp-mod-presentationMode .p-TabBar-content{\n",
       "    background-color: var(--jp-layout-color0);\n",
       "}\n",
       "</style><style>\n",
       ".jp-mod-presentationMode .p-DockPanel-widget,\n",
       ".jp-mod-presentationMode #jp-left-stack{\n",
       "    border-color: transparent;\n",
       "}\n",
       ".jp-mod-presentationMode .jp-Toolbar-item,\n",
       ".jp-mod-presentationMode .jp-Toolbar {\n",
       "    opacity: 0.1;\n",
       "    transition: all 0.2s;\n",
       "}\n",
       ".jp-mod-presentationMode .jp-Toolbar-item:hover,\n",
       ".jp-mod-presentationMode .jp-Toolbar:hover {\n",
       "    opacity: 0.9;\n",
       "    transition: all 0.2s;\n",
       "}\n",
       "\n",
       "</style><style>\n",
       ".jp-mod-presentationMode .jp-OutputPrompt,\n",
       ".jp-mod-presentationMode .jp-InputPrompt {\n",
       "    max-width: 2rem !important;\n",
       "    transition: all 0.2s;\n",
       "}\n",
       ".jp-mod-presentationMode .jp-Cell.jp-mod-selected .jp-OutputPrompt,\n",
       ".jp-mod-presentationMode .jp-Cell.jp-mod-selected .jp-InputPrompt,\n",
       ".jp-mod-presentationMode .jp-Cell:hover .jp-OutputPrompt,\n",
       ".jp-mod-presentationMode .jp-Cell:hover .jp-InputPrompt {\n",
       "    max-width: 10rem !important;\n",
       "    transition: all 0.2s;\n",
       "}\n",
       "\n",
       ".jp-mod-presentationMode .jp-Cell {\n",
       "    margin-bottom: 5rem;\n",
       "}\n",
       "\n",
       ".jp-mod-presentationMode hr {\n",
       "    opacity: 0.1;\n",
       "}\n",
       "</style>\n",
       "    <style>\n",
       "    .jp-TableOfContents-content h1, \n",
       "    .jp-TableOfContents-content h2 {\n",
       "        margin-bottom: var(--jp-ui-font-size0)\n",
       "    }\n",
       "    </style>\n",
       "    \n",
       "    <style>\n",
       "    .jp-mod-presentationMode {\n",
       "        --jp-content-heading-line-height: 1.25 !important;\n",
       "    }\n",
       "    </style>\n",
       "    "
      ],
      "text/plain": [
       "<IPython.core.display.HTML object>"
      ]
     },
     "metadata": {},
     "output_type": "display_data"
    },
    {
     "data": {
      "text/html": [
       "\n",
       "<style>\n",
       ".flexed-container {display: flex; margin: 30px;}\n",
       ".flexed-container.flexed-row {flex-direction: row;}\n",
       ".flexed-container.flexed-column {flex-direction: column;}\n",
       ".flexed-container iframe {min-width: 350px;}\n",
       ".flexed-item {order: 0; margin: 20px;}\n",
       "</style>"
      ],
      "text/plain": [
       "<IPython.core.display.HTML object>"
      ]
     },
     "metadata": {},
     "output_type": "display_data"
    }
   ],
   "source": [
    "%reload_ext reincarnation"
   ]
  },
  {
   "cell_type": "code",
   "execution_count": 2,
   "metadata": {},
   "outputs": [
    {
     "data": {
      "text/html": [
       "<div class=\"flexed-container flexed-row\"><div class=\"flexed-item\" style=\"order: 0;\"><h1>Lab Notebooks Designed Our Future</h1>\n",
       "</div><div class=\"flexed-item\" style=\"order: 0;\">\n",
       "        <iframe\n",
       "            width=\"100%\"\n",
       "            height=\"450\"\n",
       "            src=\"https://en.m.wikipedia.org/wiki/Lab_notebook\"\n",
       "            frameborder=\"0\"\n",
       "            allowfullscreen\n",
       "        ></iframe>\n",
       "        </div><div class=\"flexed-item\" style=\"order: 0;\">\n",
       "        <iframe\n",
       "            width=\"100%\"\n",
       "            height=\"450\"\n",
       "            src=\"https://anaconda.org/nbcio/data-in-thomas-jefferson-s-garden-notebook/notebook\"\n",
       "            frameborder=\"0\"\n",
       "            allowfullscreen\n",
       "        ></iframe>\n",
       "        </div></div>"
      ],
      "text/plain": [
       "Row(content=['# Lab Notebooks Designed Our Future', {'html': 'https://en.m.wikipedia.org/wiki/Lab_notebook'}, {'html': 'https://anaconda.org/nbcio/data-in-thomas-jefferson-s-garden-notebook/notebook'}])"
      ]
     },
     "metadata": {},
     "output_type": "display_data"
    }
   ],
   "source": [
    "\n",
    "    \"# Lab Notebooks Designed Our Future\"\n",
    "\n",
    "    F\"\"\"[{In[-1].splitlines()[0]},\n",
    "    html: \"https://en.m.wikipedia.org/wiki/Lab_notebook\",\n",
    "    html: \"https://anaconda.org/nbcio/data-in-thomas-jefferson-s-garden-notebook/notebook\",\n",
    "    ]\"\"\""
   ]
  },
  {
   "cell_type": "code",
   "execution_count": 6,
   "metadata": {},
   "outputs": [],
   "source": [
    "    \n",
    "    \n",
    "    \"\"\"[\"http://www.openculture.com/2016/03/3900-pages-of-paul-klees-personal-notebooks-are-now-online.html\",\n",
    "    \"https://upload.wikimedia.org/wikipedia/commons/8/8a/H96566k.jpg\"]\"\"\"\n",
    "\n",
    "# Science Affected the way we could engineer discovery    "
   ]
  },
  {
   "cell_type": "code",
   "execution_count": 9,
   "metadata": {},
   "outputs": [
    {
     "data": {
      "text/html": [
       "<div class=\"flexed-container flexed-row\"><div class=\"flexed-item\" style=\"order: 0;\"><h1>The beginning of the human-silicon age.</h1>\n",
       "</div><div class=\"flexed-container flexed-column\"><div class=\"flexed-item\" style=\"order: 0;\"><h3>Mother of all demos</h3>\n",
       "<blockquote><p><em>So in my office I have a console like this, and there are 12 others that are computer supplies.  And we try now-a-days to do our daily work on here.  So this characterizes the way I could sit here and look at a <strong>clear blank piece of paper</strong>, that's the way I start many projects.</em></p>\n",
       "<p>Doug Englebart - <a href=\"https://github.com/atduskgreg/MoAD-Transcript\"><em>Mother of all demos</em></a></p>\n",
       "</blockquote>\n",
       "</div></div></div>"
      ],
      "text/plain": [
       "Row(content=['# The beginning of the human-silicon age.', [\"### Mother of all demos\\n> _So in my office I have a console like this, and there are 12 others that are computer supplies.  And we try now-a-days to do our daily work on here.  So this characterizes the way I could sit here and look at a __clear blank piece of paper__, that's the way I start many projects._\\n>\\n> Doug Englebart - [_Mother of all demos_](https://github.com/atduskgreg/MoAD-Transcript)\\n\"]])"
      ]
     },
     "metadata": {},
     "output_type": "display_data"
    },
    {
     "data": {
      "text/html": [
       "<div class=\"flexed-container flexed-row\"><div class=\"flexed-item\" style=\"order: 0;\"><img src=\"https://upload.wikimedia.org/wikipedia/commons/c/cc/SRI_Computer_Mouse.jpg\"/></div></div>"
      ],
      "text/plain": [
       "Row(content=['https://upload.wikimedia.org/wikipedia/commons/c/cc/SRI_Computer_Mouse.jpg'])"
      ]
     },
     "metadata": {},
     "output_type": "display_data"
    },
    {
     "data": {
      "text/html": [
       "<div class=\"flexed-container flexed-row\"><div class=\"flexed-item\" style=\"order: 0;\">\n",
       "        <iframe\n",
       "            width=\"100%\"\n",
       "            height=\"450\"\n",
       "            src=\"https://player.vimeo.com/video/28199826\"\n",
       "            frameborder=\"0\"\n",
       "            allowfullscreen\n",
       "        ></iframe>\n",
       "        </div><div class=\"flexed-item\" style=\"order: 0;\">\n",
       "        <iframe\n",
       "            width=\"100%\"\n",
       "            height=\"450\"\n",
       "            src=\"https://en.m.wikipedia.org/wiki/VisiCalc\"\n",
       "            frameborder=\"0\"\n",
       "            allowfullscreen\n",
       "        ></iframe>\n",
       "        </div></div>"
      ],
      "text/plain": [
       "Row(content=[{'html': 'https://player.vimeo.com/video/28199826'}, {'html': 'https://en.m.wikipedia.org/wiki/VisiCalc'}])"
      ]
     },
     "metadata": {},
     "output_type": "display_data"
    }
   ],
   "source": [
    "    \n",
    "    \"\"\"- \"# The beginning of the human-silicon age.\"\n",
    "    - - |\n",
    "        ### Mother of all demos\n",
    "        > _So in my office I have a console like this, and there are 12 others that are computer supplies.  And we try now-a-days to do our daily work on here.  So this characterizes the way I could sit here and look at a __clear blank piece of paper__, that's the way I start many projects._\n",
    "        >\n",
    "        > Doug Englebart - [_Mother of all demos_](https://github.com/atduskgreg/MoAD-Transcript)\n",
    "    \"\"\";\"\"\"\n",
    "    - https://upload.wikimedia.org/wikipedia/commons/c/cc/SRI_Computer_Mouse.jpg\n",
    "    \"\"\"; \"\"\"- html: https://player.vimeo.com/video/28199826\n",
    "    - html: https://en.m.wikipedia.org/wiki/VisiCalc\"\"\""
   ]
  },
  {
   "cell_type": "code",
   "execution_count": 21,
   "metadata": {},
   "outputs": [
    {
     "data": {
      "text/markdown": [
       "    \"\"\"https://www.high.org/exhibition/basquiat-notebooks/\"\"\"\n"
      ],
      "text/plain": [
       "<IPython.core.display.Markdown object>"
      ]
     },
     "metadata": {},
     "output_type": "display_data"
    },
    {
     "data": {
      "text/html": [
       "\n",
       "        <iframe\n",
       "            width=\"100%\"\n",
       "            height=\"450\"\n",
       "            src=\"https://www.high.org/exhibition/basquiat-notebooks/\"\n",
       "            frameborder=\"0\"\n",
       "            allowfullscreen\n",
       "        ></iframe>\n",
       "        "
      ],
      "text/plain": [
       "<IPython.lib.display.IFrame at 0x2231efba550>"
      ]
     },
     "metadata": {},
     "output_type": "display_data"
    }
   ],
   "source": [
    "    \"\"\"https://www.high.org/exhibition/basquiat-notebooks/\"\"\""
   ]
  },
  {
   "cell_type": "code",
   "execution_count": 3,
   "metadata": {},
   "outputs": [
    {
     "data": {
      "text/html": [
       "<div class=\"flexed-container flexed-row\"><div class=\"flexed-item\" style=\"order: 0;\">\n",
       "        <iframe\n",
       "            width=\"100%\"\n",
       "            height=\"450\"\n",
       "            src=\"https://patentimages.storage.googleapis.com/83/a7/4c/45eb89984d5a96/US8407580.pdf#page=4\"\n",
       "            frameborder=\"0\"\n",
       "            allowfullscreen\n",
       "        ></iframe>\n",
       "        </div><div class=\"flexed-item\" style=\"order: 0;\">\n",
       "        <iframe\n",
       "            width=\"100%\"\n",
       "            height=\"450\"\n",
       "            src=\"http://reference.wolfram.com/language/tutorial/UsingANotebookInterface.html\"\n",
       "            frameborder=\"0\"\n",
       "            allowfullscreen\n",
       "        ></iframe>\n",
       "        </div></div>"
      ],
      "text/plain": [
       "Row(content=[{'text/html': 'https://patentimages.storage.googleapis.com/83/a7/4c/45eb89984d5a96/US8407580.pdf#page=4'}, 'http://reference.wolfram.com/language/tutorial/UsingANotebookInterface.html'])"
      ]
     },
     "metadata": {},
     "output_type": "display_data"
    },
    {
     "data": {
      "text/html": [
       "\n",
       "        <iframe\n",
       "            width=\"100%\"\n",
       "            height=\"450\"\n",
       "            src=\"http://blog.stephenwolfram.com/2017/11/what-is-a-computational-essay/\"\n",
       "            frameborder=\"0\"\n",
       "            allowfullscreen\n",
       "        ></iframe>\n",
       "        "
      ],
      "text/plain": [
       "<IPython.lib.display.IFrame at 0x19962838b38>"
      ]
     },
     "metadata": {},
     "output_type": "display_data"
    }
   ],
   "source": [
    "   \n",
    "    \"\"\"- text/html: https://patentimages.storage.googleapis.com/83/a7/4c/45eb89984d5a96/US8407580.pdf#page=4\n",
    "    - http://reference.wolfram.com/language/tutorial/UsingANotebookInterface.html\n",
    "    \"\"\"; \"\"\"http://blog.stephenwolfram.com/2017/11/what-is-a-computational-essay/\"\"\""
   ]
  },
  {
   "cell_type": "markdown",
   "metadata": {},
   "source": [
    "## Github is a Graveyard    \n",
    "    "
   ]
  },
  {
   "cell_type": "code",
   "execution_count": 4,
   "metadata": {},
   "outputs": [],
   "source": [
    "    \n",
    "    nbestimate = \"\"\"http://nbviewer.jupyter.org/github/parente/nbestimate/blob/master/estimate.ipynb\"\"\"\n",
    "    nbframe = λ.🐼.read_html(nbestimate).first()().iloc[::-1]"
   ]
  },
  {
   "cell_type": "code",
   "execution_count": 5,
   "metadata": {},
   "outputs": [
    {
     "data": {
      "text/html": [
       "<div class=\"flexed-container flexed-row\"><div class=\"flexed-item\" style=\"order: 0;\">\n",
       "        <iframe\n",
       "            width=\"100%\"\n",
       "            height=\"450\"\n",
       "            src=\"http://nbviewer.jupyter.org/github/parente/nbestimate/blob/master/estimate.ipynb\"\n",
       "            frameborder=\"0\"\n",
       "            allowfullscreen\n",
       "        ></iframe>\n",
       "        </div><div class=\"flexed-item\" style=\"order: 0;\"><table border=\"1\" class=\"dataframe\">  <thead>    <tr>      <th></th>      <th>Unnamed: 0_level_0</th>      <th>hits</th>    </tr>    <tr>      <th></th>      <th>date</th>      <th>Unnamed: 1_level_1</th>    </tr>  </thead>  <tbody>    <tr>      <th>2</th>      <td>2018-07-29</td>      <td>2567227</td>    </tr>    <tr>      <th>1</th>      <td>2018-07-13</td>      <td>2492680</td>    </tr>    <tr>      <th>0</th>      <td>2018-06-18</td>      <td>2368584</td>    </tr>  </tbody></table></div></div>"
      ],
      "text/plain": [
       "Row(content=[{'html': 'http://nbviewer.jupyter.org/github/parente/nbestimate/blob/master/estimate.ipynb'}, '<table border=\"1\" class=\"dataframe\">  <thead>    <tr>      <th></th>      <th>Unnamed: 0_level_0</th>      <th>hits</th>    </tr>    <tr>      <th></th>      <th>date</th>      <th>Unnamed: 1_level_1</th>    </tr>  </thead>  <tbody>    <tr>      <th>2</th>      <td>2018-07-29</td>      <td>2567227</td>    </tr>    <tr>      <th>1</th>      <td>2018-07-13</td>      <td>2492680</td>    </tr>    <tr>      <th>0</th>      <td>2018-06-18</td>      <td>2368584</td>    </tr>  </tbody></table>'])"
      ]
     },
     "metadata": {},
     "output_type": "display_data"
    }
   ],
   "source": [
    "\n",
    "    F\"\"\"- html: {nbestimate}\n",
    "    - '{''.join(nbframe.to_html().splitlines())}'\n",
    "    \"\"\""
   ]
  },
  {
   "cell_type": "code",
   "execution_count": 12,
   "metadata": {},
   "outputs": [
    {
     "data": {
      "text/markdown": [
       "> Finally, the **exploratory and iterative** nature of data analysis is\n",
       "reflected in the fact that **nearly half** (43.9%) of notebooks were\n",
       "uploaded to GitHub with a **non-linear execution** order. This\n",
       "means that analysts went back and re-ran earlier cells, rather\n",
       "than just linearly writing and executing code. This figure\n",
       "should be considered as a **lower-bound** as analysts may have\n",
       "done a **clean run** of their notebook **before sharing** it online.     \n",
       "    \n",
       "    \"\"\"http://adamrule.com/files/papers/chi_2018_computational_notebooks_camera_ready.pdf#page=5\"\"\"\n"
      ],
      "text/plain": [
       "<IPython.core.display.Markdown object>"
      ]
     },
     "metadata": {},
     "output_type": "display_data"
    },
    {
     "data": {
      "text/html": [
       "\n",
       "        <iframe\n",
       "            width=\"100%\"\n",
       "            height=\"450\"\n",
       "            src=\"http://adamrule.com/files/papers/chi_2018_computational_notebooks_camera_ready.pdf#page=5\"\n",
       "            frameborder=\"0\"\n",
       "            allowfullscreen\n",
       "        ></iframe>\n",
       "        "
      ],
      "text/plain": [
       "<IPython.lib.display.IFrame at 0x218073d7198>"
      ]
     },
     "metadata": {},
     "output_type": "display_data"
    }
   ],
   "source": [
    "> Finally, the **exploratory and iterative** nature of data analysis is\n",
    "reflected in the fact that **nearly half** (43.9%) of notebooks were\n",
    "uploaded to GitHub with a **non-linear execution** order. This\n",
    "means that analysts went back and re-ran earlier cells, rather\n",
    "than just linearly writing and executing code. This figure\n",
    "should be considered as a **lower-bound** as analysts may have\n",
    "done a **clean run** of their notebook **before sharing** it online.     \n",
    "    \n",
    "    \"\"\"http://adamrule.com/files/papers/chi_2018_computational_notebooks_camera_ready.pdf#page=5\"\"\""
   ]
  },
  {
   "cell_type": "code",
   "execution_count": null,
   "metadata": {},
   "outputs": [],
   "source": [
    "# Notebooks share Computable Ideas\n",
    "\n",
    "Add links to the projects we are testing.\n",
    "    \n",
    "    \"\"\"http://nbviewer.jupyter.org/github/deathbeds/deathbeds.github.io/blob/master/deathbeds/2018-08-14-Benchmarking-imports.ipynb\"\"\"\n",
    "    \n",
    "[../deathbeds.github.io/deathbeds/2018-08-14-Benchmarking-imports.ipynb](../deathbeds.github.io/deathbeds/2018-08-14-Benchmarking-imports.ipynb)"
   ]
  },
  {
   "cell_type": "code",
   "execution_count": 16,
   "metadata": {},
   "outputs": [
    {
     "data": {
      "text/markdown": [
       "# Restart and run all or it didn't happen\n",
       "   \n",
       "    \"\"\"[html: \"http://docs.python-guide.org/en/latest/writing/tests/\",\n",
       "    html: \"http://nbviewer.jupyter.org/github/deathbeds/deathbeds.github.io/blob/master/deathbeds/2018-07-31-Testing-notebooks.ipynb\"]\"\"\"\n",
       "\n"
      ],
      "text/plain": [
       "<IPython.core.display.Markdown object>"
      ]
     },
     "metadata": {},
     "output_type": "display_data"
    },
    {
     "data": {
      "text/html": [
       "<div class=\"flexed-container\">\n",
       "        <iframe\n",
       "            width=\"100%\"\n",
       "            height=\"450\"\n",
       "            src=\"http://docs.python-guide.org/en/latest/writing/tests/\"\n",
       "            frameborder=\"0\"\n",
       "            allowfullscreen\n",
       "        ></iframe>\n",
       "        \n",
       "        <iframe\n",
       "            width=\"100%\"\n",
       "            height=\"450\"\n",
       "            src=\"http://nbviewer.jupyter.org/github/deathbeds/deathbeds.github.io/blob/master/deathbeds/2018-07-31-Testing-notebooks.ipynb\"\n",
       "            frameborder=\"0\"\n",
       "            allowfullscreen\n",
       "        ></iframe>\n",
       "        </div>"
      ],
      "text/plain": [
       "Row(content=[{'html': 'http://docs.python-guide.org/en/latest/writing/tests/'}, {'html': 'http://nbviewer.jupyter.org/github/deathbeds/deathbeds.github.io/blob/master/deathbeds/2018-07-31-Testing-notebooks.ipynb'}])"
      ]
     },
     "metadata": {},
     "output_type": "display_data"
    }
   ],
   "source": [
    "# Restart and run all or it didn't happen\n",
    "   \n",
    "    \"\"\"[html: \"http://docs.python-guide.org/en/latest/writing/tests/\",\n",
    "    html: \"http://nbviewer.jupyter.org/github/deathbeds/deathbeds.github.io/blob/master/deathbeds/2018-07-31-Testing-notebooks.ipynb\"]\"\"\"\n",
    "\n"
   ]
  },
  {
   "cell_type": "code",
   "execution_count": 17,
   "metadata": {},
   "outputs": [
    {
     "data": {
      "text/markdown": [
       "## Restart and Run All is an informal test \n",
       "\n",
       "A notebook is💀dead💀if it is never used again.\n",
       "\n",
       "    \"\"\"graph {reproducibility}\"\"\"\n",
       "    if __name__ == '__main__' and 'tmp' not in __import__('sys').argv[0]:\n",
       "        !jupyter nbconvert --execute --to markdown readme.ipynb\n"
      ],
      "text/plain": [
       "<IPython.core.display.Markdown object>"
      ]
     },
     "metadata": {},
     "output_type": "display_data"
    },
    {
     "data": {
      "image/svg+xml": [
       "<?xml version=\"1.0\" encoding=\"UTF-8\" standalone=\"no\"?>\r\n",
       "<!DOCTYPE svg PUBLIC \"-//W3C//DTD SVG 1.1//EN\"\r\n",
       " \"http://www.w3.org/Graphics/SVG/1.1/DTD/svg11.dtd\">\r\n",
       "<!-- Generated by graphviz version 2.38.0 (20140413.2041)\r\n",
       " -->\r\n",
       "<!-- Title: %3 Pages: 1 -->\r\n",
       "<svg width=\"135pt\" height=\"44pt\"\r\n",
       " viewBox=\"0.00 0.00 135.39 44.00\" xmlns=\"http://www.w3.org/2000/svg\" xmlns:xlink=\"http://www.w3.org/1999/xlink\">\r\n",
       "<g id=\"graph0\" class=\"graph\" transform=\"scale(1 1) rotate(0) translate(4 40)\">\r\n",
       "<title>%3</title>\r\n",
       "<polygon fill=\"white\" stroke=\"none\" points=\"-4,4 -4,-40 131.389,-40 131.389,4 -4,4\"/>\r\n",
       "<!-- reproducibility -->\r\n",
       "<g id=\"node1\" class=\"node\"><title>reproducibility</title>\r\n",
       "<ellipse fill=\"none\" stroke=\"black\" cx=\"63.6943\" cy=\"-18\" rx=\"63.8893\" ry=\"18\"/>\r\n",
       "<text text-anchor=\"middle\" x=\"63.6943\" y=\"-14.3\" font-family=\"Times New Roman,serif\" font-size=\"14.00\">reproducibility</text>\r\n",
       "</g>\r\n",
       "</g>\r\n",
       "</svg>\r\n"
      ],
      "text/plain": [
       "<graphviz.files.Source at 0x2180981cb38>"
      ]
     },
     "metadata": {},
     "output_type": "display_data"
    },
    {
     "name": "stderr",
     "output_type": "stream",
     "text": [
      "[NbConvertApp] Converting notebook readme.ipynb to markdown\n",
      "[NbConvertApp] Executing notebook with kernel: python3\n",
      "[NbConvertApp] Writing 1529 bytes to readme.md\n"
     ]
    }
   ],
   "source": [
    "## Restart and Run All is an informal test \n",
    "\n",
    "A notebook is💀dead💀if it is never used again.\n",
    "\n",
    "    \"\"\"graph {reproducibility}\"\"\"\n",
    "    if __name__ == '__main__' and 'tmp' not in __import__('sys').argv[0]:\n",
    "        !jupyter nbconvert --execute --to markdown readme.ipynb"
   ]
  },
  {
   "cell_type": "code",
   "execution_count": 10,
   "metadata": {},
   "outputs": [
    {
     "data": {
      "text/markdown": [
       "# Computational Essays Can `assert` Truth\n",
       "\n",
       "If notebooks restart and run all that can be used with Papermill or nbval.\n",
       "\n",
       "    \"\"\"[text/html: \"https://nbval.readthedocs.io/en/latest/\", text/html: \"http://papermill.readthedocs.io/en/latest/usage.html#parameterizing-a-notebook\"]\"\"\"\n"
      ],
      "text/plain": [
       "<IPython.core.display.Markdown object>"
      ]
     },
     "metadata": {},
     "output_type": "display_data"
    },
    {
     "data": {
      "text/html": [
       "<div class=\"flexed-container flexed-row\"><div class=\"flexed-item\" style=\"order: 0;\">\n",
       "        <iframe\n",
       "            width=\"100%\"\n",
       "            height=\"450\"\n",
       "            src=\"https://nbval.readthedocs.io/en/latest/\"\n",
       "            frameborder=\"0\"\n",
       "            allowfullscreen\n",
       "        ></iframe>\n",
       "        </div><div class=\"flexed-item\" style=\"order: 0;\">\n",
       "        <iframe\n",
       "            width=\"100%\"\n",
       "            height=\"450\"\n",
       "            src=\"http://papermill.readthedocs.io/en/latest/usage.html#parameterizing-a-notebook\"\n",
       "            frameborder=\"0\"\n",
       "            allowfullscreen\n",
       "        ></iframe>\n",
       "        </div></div>"
      ],
      "text/plain": [
       "Row(content=[{'text/html': 'https://nbval.readthedocs.io/en/latest/'}, {'text/html': 'http://papermill.readthedocs.io/en/latest/usage.html#parameterizing-a-notebook'}])"
      ]
     },
     "metadata": {},
     "output_type": "display_data"
    }
   ],
   "source": [
    "# Computational Essays Can `assert` Truth\n",
    "\n",
    "If notebooks restart and run all that can be used with Papermill or nbval.\n",
    "\n",
    "    \"\"\"[text/html: \"https://nbval.readthedocs.io/en/latest/\", text/html: \"http://papermill.readthedocs.io/en/latest/usage.html#parameterizing-a-notebook\"]\"\"\""
   ]
  },
  {
   "cell_type": "code",
   "execution_count": 20,
   "metadata": {},
   "outputs": [
    {
     "data": {
      "text/markdown": [
       "    \"\"\"- graph {rankdir=\"LR\" reproducibility -- reusability}\n",
       "    - http://gael-varoquaux.info/programming/of-software-and-science-reproducible-science-what-why-and-how.html\"\"\"\n"
      ],
      "text/plain": [
       "<IPython.core.display.Markdown object>"
      ]
     },
     "metadata": {},
     "output_type": "display_data"
    },
    {
     "data": {
      "text/html": [
       "<div class=\"flexed-container\"><?xml version=\"1.0\" encoding=\"UTF-8\" standalone=\"no\"?>\r\n",
       "<!DOCTYPE svg PUBLIC \"-//W3C//DTD SVG 1.1//EN\"\r\n",
       " \"http://www.w3.org/Graphics/SVG/1.1/DTD/svg11.dtd\">\r\n",
       "<!-- Generated by graphviz version 2.38.0 (20140413.2041)\r\n",
       " -->\r\n",
       "<!-- Title: %3 Pages: 1 -->\r\n",
       "<svg width=\"266pt\" height=\"44pt\"\r\n",
       " viewBox=\"0.00 0.00 266.28 44.00\" xmlns=\"http://www.w3.org/2000/svg\" xmlns:xlink=\"http://www.w3.org/1999/xlink\">\r\n",
       "<g id=\"graph0\" class=\"graph\" transform=\"scale(1 1) rotate(0) translate(4 40)\">\r\n",
       "<title>%3</title>\r\n",
       "<polygon fill=\"white\" stroke=\"none\" points=\"-4,4 -4,-40 262.28,-40 262.28,4 -4,4\"/>\r\n",
       "<!-- reproducibility -->\r\n",
       "<g id=\"node1\" class=\"node\"><title>reproducibility</title>\r\n",
       "<ellipse fill=\"none\" stroke=\"black\" cx=\"63.6943\" cy=\"-18\" rx=\"63.8893\" ry=\"18\"/>\r\n",
       "<text text-anchor=\"middle\" x=\"63.6943\" y=\"-14.3\" font-family=\"Times New Roman,serif\" font-size=\"14.00\">reproducibility</text>\r\n",
       "</g>\r\n",
       "<!-- reusability -->\r\n",
       "<g id=\"node2\" class=\"node\"><title>reusability</title>\r\n",
       "<ellipse fill=\"none\" stroke=\"black\" cx=\"210.834\" cy=\"-18\" rx=\"47.3916\" ry=\"18\"/>\r\n",
       "<text text-anchor=\"middle\" x=\"210.834\" y=\"-14.3\" font-family=\"Times New Roman,serif\" font-size=\"14.00\">reusability</text>\r\n",
       "</g>\r\n",
       "<!-- reproducibility&#45;&#45;reusability -->\r\n",
       "<g id=\"edge1\" class=\"edge\"><title>reproducibility&#45;&#45;reusability</title>\r\n",
       "<path fill=\"none\" stroke=\"black\" d=\"M127.511,-18C139.462,-18 151.773,-18 163.115,-18\"/>\r\n",
       "</g>\r\n",
       "</g>\r\n",
       "</svg>\r\n",
       "\n",
       "        <iframe\n",
       "            width=\"100%\"\n",
       "            height=\"450\"\n",
       "            src=\"http://gael-varoquaux.info/programming/of-software-and-science-reproducible-science-what-why-and-how.html\"\n",
       "            frameborder=\"0\"\n",
       "            allowfullscreen\n",
       "        ></iframe>\n",
       "        </div>"
      ],
      "text/plain": [
       "Row(content=['graph {rankdir=\"LR\" reproducibility -- reusability}', 'http://gael-varoquaux.info/programming/of-software-and-science-reproducible-science-what-why-and-how.html'])"
      ]
     },
     "metadata": {},
     "output_type": "display_data"
    }
   ],
   "source": [
    "    \"\"\"- graph {rankdir=\"LR\" reproducibility -- reusability}\n",
    "    - http://gael-varoquaux.info/programming/of-software-and-science-reproducible-science-what-why-and-how.html\"\"\""
   ]
  },
  {
   "cell_type": "code",
   "execution_count": 19,
   "metadata": {},
   "outputs": [
    {
     "data": {
      "text/markdown": [
       "# Importnb\n",
       "\n",
       "    from importnb import Notebook\n",
       "    \n",
       "    with Notebook():...\n",
       "    \n",
       "    \"\"\"http://nbviewer.jupyter.org/github/deathbeds/importnb/blob/master/readme.ipynb\"\"\"\n"
      ],
      "text/plain": [
       "<IPython.core.display.Markdown object>"
      ]
     },
     "metadata": {},
     "output_type": "display_data"
    },
    {
     "data": {
      "text/html": [
       "\n",
       "        <iframe\n",
       "            width=\"100%\"\n",
       "            height=\"450\"\n",
       "            src=\"http://nbviewer.jupyter.org/github/deathbeds/importnb/blob/master/readme.ipynb\"\n",
       "            frameborder=\"0\"\n",
       "            allowfullscreen\n",
       "        ></iframe>\n",
       "        "
      ],
      "text/plain": [
       "<IPython.lib.display.IFrame at 0x1eba7e1bd30>"
      ]
     },
     "metadata": {},
     "output_type": "display_data"
    }
   ],
   "source": [
    "# Importnb\n",
    "\n",
    "    from importnb import Notebook\n",
    "    \n",
    "    with Notebook():...\n",
    "    \n",
    "    \"\"\"http://nbviewer.jupyter.org/github/deathbeds/importnb/blob/master/readme.ipynb\"\"\""
   ]
  },
  {
   "cell_type": "markdown",
   "metadata": {},
   "source": [
    "# Notebooks are a place for ideas"
   ]
  },
  {
   "cell_type": "code",
   "execution_count": 45,
   "metadata": {},
   "outputs": [
    {
     "data": {
      "text/markdown": [
       "## What assumptions can we make about notebooks?\n",
       "\n",
       "* They are available.\n",
       "            \n",
       "        f = λ.Path().Path.glob('*.ipynb') \n",
       "    \n",
       "\n",
       "* They are `nbformat`\n",
       "\n",
       "        #qgrid needs to get working\n",
       "        f / {λ.identity(): λ.🐼.read_json(typ='Series')} \n",
       "        df = f.merge().🐼.concat()().unstack(-1).cells.apply(λ.🐼.Series()).stack().apply(λ.🐼.Series());\n",
       "        \n",
       "* They are data.\n",
       "\n",
       "        df.sample(3)\n"
      ],
      "text/plain": [
       "<IPython.core.display.Markdown object>"
      ]
     },
     "metadata": {},
     "output_type": "display_data"
    },
    {
     "data": {
      "text/html": [
       "<div>\n",
       "<style scoped>\n",
       "    .dataframe tbody tr th:only-of-type {\n",
       "        vertical-align: middle;\n",
       "    }\n",
       "\n",
       "    .dataframe tbody tr th {\n",
       "        vertical-align: top;\n",
       "    }\n",
       "\n",
       "    .dataframe thead th {\n",
       "        text-align: right;\n",
       "    }\n",
       "</style>\n",
       "<table border=\"1\" class=\"dataframe\">\n",
       "  <thead>\n",
       "    <tr style=\"text-align: right;\">\n",
       "      <th></th>\n",
       "      <th></th>\n",
       "      <th>cell_type</th>\n",
       "      <th>metadata</th>\n",
       "      <th>source</th>\n",
       "      <th>execution_count</th>\n",
       "      <th>outputs</th>\n",
       "    </tr>\n",
       "  </thead>\n",
       "  <tbody>\n",
       "    <tr>\n",
       "      <th>readme.ipynb</th>\n",
       "      <th>2</th>\n",
       "      <td>markdown</td>\n",
       "      <td>{}</td>\n",
       "      <td>[# [The Death of Notebooks](./1_the_death_of_n...</td>\n",
       "      <td>NaN</td>\n",
       "      <td>NaN</td>\n",
       "    </tr>\n",
       "    <tr>\n",
       "      <th rowspan=\"2\" valign=\"top\">.ipynb</th>\n",
       "      <th>3</th>\n",
       "      <td>code</td>\n",
       "      <td>{}</td>\n",
       "      <td>[## Restart and Run All or it didn't happen\\n,...</td>\n",
       "      <td>3.0</td>\n",
       "      <td>[{'data': {'text/markdown': [\"## Restart and R...</td>\n",
       "    </tr>\n",
       "    <tr>\n",
       "      <th>18</th>\n",
       "      <td>markdown</td>\n",
       "      <td>{}</td>\n",
       "      <td>[## Interactive Computing]</td>\n",
       "      <td>NaN</td>\n",
       "      <td>NaN</td>\n",
       "    </tr>\n",
       "  </tbody>\n",
       "</table>\n",
       "</div>"
      ],
      "text/plain": [
       "                cell_type metadata  \\\n",
       "readme.ipynb 2   markdown       {}   \n",
       ".ipynb       3       code       {}   \n",
       "             18  markdown       {}   \n",
       "\n",
       "                                                            source  \\\n",
       "readme.ipynb 2   [# [The Death of Notebooks](./1_the_death_of_n...   \n",
       ".ipynb       3   [## Restart and Run All or it didn't happen\\n,...   \n",
       "             18                         [## Interactive Computing]   \n",
       "\n",
       "                 execution_count  \\\n",
       "readme.ipynb 2               NaN   \n",
       ".ipynb       3               3.0   \n",
       "             18              NaN   \n",
       "\n",
       "                                                           outputs  \n",
       "readme.ipynb 2                                                 NaN  \n",
       ".ipynb       3   [{'data': {'text/markdown': [\"## Restart and R...  \n",
       "             18                                                NaN  "
      ]
     },
     "execution_count": 45,
     "metadata": {},
     "output_type": "execute_result"
    }
   ],
   "source": [
    "## What assumptions can we make about notebooks?\n",
    "\n",
    "* They are available.\n",
    "            \n",
    "        f = λ.Path().Path.glob('*.ipynb') \n",
    "    \n",
    "\n",
    "* They are `nbformat`\n",
    "\n",
    "        #qgrid needs to get working\n",
    "        f / {λ.identity(): λ.🐼.read_json(typ='Series')} \n",
    "        df = f.merge().🐼.concat()().unstack(-1).cells.apply(λ.🐼.Series()).stack().apply(λ.🐼.Series());\n",
    "        \n",
    "* They are data.\n",
    "\n",
    "        df.sample(3)"
   ]
  },
  {
   "cell_type": "code",
   "execution_count": 51,
   "metadata": {},
   "outputs": [
    {
     "data": {
      "text/markdown": [
       "    F\"\"\"http://nbviewer.jupyter.org/github/deathbeds/deathbeds.github.io/blob/master/deathbeds/2018-08-04-Notebooks-as-Tidy-DX.ipynb\n",
       "    \"\"\"\n",
       "    with capture_output():\n",
       "        %reload_ext deathbeds.__Notebooks_as_Tidy_DX\n"
      ],
      "text/plain": [
       "<IPython.core.display.Markdown object>"
      ]
     },
     "metadata": {},
     "output_type": "display_data"
    },
    {
     "data": {
      "text/html": [
       "\n",
       "        <iframe\n",
       "            width=\"100%\"\n",
       "            height=\"450\"\n",
       "            src=\"http://nbviewer.jupyter.org/github/deathbeds/deathbeds.github.io/blob/master/deathbeds/2018-08-04-Notebooks-as-Tidy-DX.ipynb\n",
       "\"\n",
       "            frameborder=\"0\"\n",
       "            allowfullscreen\n",
       "        ></iframe>\n",
       "        "
      ],
      "text/plain": [
       "<IPython.lib.display.IFrame at 0x2375c8669b0>"
      ]
     },
     "metadata": {},
     "output_type": "display_data"
    }
   ],
   "source": [
    "    F\"\"\"http://nbviewer.jupyter.org/github/deathbeds/deathbeds.github.io/blob/master/deathbeds/2018-08-04-Notebooks-as-Tidy-DX.ipynb\n",
    "    \"\"\"\n",
    "    with capture_output():\n",
    "        %reload_ext deathbeds.__Notebooks_as_Tidy_DX\n"
   ]
  },
  {
   "cell_type": "code",
   "execution_count": 16,
   "metadata": {},
   "outputs": [
    {
     "data": {
      "text/markdown": [
       "* More than one UI can view it.\n",
       "    * [notebook]()\n",
       "    * [nteract]()\n",
       "    * [lab]\n",
       "    * [nbviewer]\n",
       "    * [binder]\n",
       "    * [cocalc]\n",
       "    * [colab]\n",
       "    * [github]\n",
       "\n",
       "* Trust\n",
       "* The dependencies are reproducible.\n"
      ],
      "text/plain": [
       "<IPython.core.display.Markdown object>"
      ]
     },
     "metadata": {},
     "output_type": "display_data"
    }
   ],
   "source": [
    "* More than one UI can view it.\n",
    "    * [notebook]()\n",
    "    * [nteract]()\n",
    "    * [lab]\n",
    "    * [nbviewer]\n",
    "    * [binder]\n",
    "    * [cocalc]\n",
    "    * [colab]\n",
    "    * [github]\n",
    "\n",
    "* Trust\n",
    "* The dependencies are reproducible."
   ]
  },
  {
   "cell_type": "markdown",
   "metadata": {},
   "source": [
    "# We can't assume they are computable\n",
    "\n",
    "But they are **reusable** because computational essays are readable.\n",
    "\n",
    "Code adds computational facts and knowledge to human text."
   ]
  },
  {
   "cell_type": "markdown",
   "metadata": {},
   "source": [
    "# Literacy\n",
    "\n",
    "Textual computational literacy"
   ]
  },
  {
   "cell_type": "markdown",
   "metadata": {},
   "source": [
    "`pytest` importnb plugin"
   ]
  }
 ],
 "metadata": {
  "kernelspec": {
   "display_name": "Python 3",
   "language": "python",
   "name": "python3"
  },
  "language_info": {
   "codemirror_mode": {
    "name": "ipython",
    "version": 3
   },
   "file_extension": ".py",
   "mimetype": "text/x-python",
   "name": "python",
   "nbconvert_exporter": "python",
   "pygments_lexer": "ipython3",
   "version": "3.6.5"
  }
 },
 "nbformat": 4,
 "nbformat_minor": 2
}
