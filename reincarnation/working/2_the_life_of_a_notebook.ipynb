{
 "cells": [
  {
   "cell_type": "markdown",
   "metadata": {},
   "source": [
    "# The Life of Notebooks\n",
    "# ⚰⚰⚰⚰⚰⚰⚰⚰⚰⚰⚰⚰⚰⚰\n",
    "\n",
    "It takes a lot of energy to maintain notebooks.  If people place their energy there then nothing will get done.\n",
    "\n",
    "Notebooks take nurturing. They require nutrients.\n"
   ]
  },
  {
   "cell_type": "markdown",
   "metadata": {},
   "source": [
    "![](https://user-images.githubusercontent.com/4236275/43620235-b5ba1dca-969f-11e8-9504-93798d10a4b1.png)"
   ]
  },
  {
   "cell_type": "code",
   "execution_count": 1,
   "metadata": {},
   "outputs": [
    {
     "data": {
      "text/html": [
       "<style>\n",
       ".jp-RenderedHTMLCommon pre code {\n",
       "    text-decoration: line-through wavy;\n",
       "}\n",
       ".jp-RenderedHTMLCommon pre code:hover {\n",
       "    text-decoration: none;\n",
       "    \n",
       "}\n",
       ".jp-Placeholder-content .jp-MoreHorizIcon {\n",
       "    background-size: 32px;\n",
       "}\n",
       "\n",
       "@import url(\"https://cdn.jsdelivr.net/npm/firacode@1.205.0/distr/fira_code.css\")\n",
       "\n",
       ".CodeMirror * {\n",
       "  font-family: 'Fira Code' !important; \n",
       "  font-variant-ligatures: initial !important;\n",
       "}\n",
       "\n",
       ".cm-string {\n",
       "    font-variant-ligatures: none;\n",
       "}\n",
       "</style><style>\n",
       ".jp-mod-presentationMode .jp-SideBar,\n",
       ".jp-mod-presentationMode #jp-top-panel {\n",
       "    opacity: 0.0;\n",
       "    transition: all 0.2s;\n",
       "}\n",
       ".jp-mod-presentationMode .jp-SideBar:hover,\n",
       ".jp-mod-presentationMode #jp-top-panel:hover {\n",
       "    opacity: 0.9;\n",
       "    transition: all 0.2s;\n",
       "}\n",
       "\n",
       "</style><style>\n",
       ".jp-mod-presentationMode.jp-ApplicationShell,\n",
       ".jp-mod-presentationMode .p-TabBar-content{\n",
       "    background-color: var(--jp-layout-color0);\n",
       "}\n",
       "</style><style>\n",
       ".jp-mod-presentationMode .p-DockPanel-widget,\n",
       ".jp-mod-presentationMode #jp-left-stack{\n",
       "    border-color: transparent;\n",
       "}\n",
       ".jp-mod-presentationMode .jp-Toolbar-item,\n",
       ".jp-mod-presentationMode .jp-Toolbar {\n",
       "    opacity: 0.1;\n",
       "    transition: all 0.2s;\n",
       "}\n",
       ".jp-mod-presentationMode .jp-Toolbar-item:hover,\n",
       ".jp-mod-presentationMode .jp-Toolbar:hover {\n",
       "    opacity: 0.9;\n",
       "    transition: all 0.2s;\n",
       "}\n",
       "\n",
       "</style><style>\n",
       ".jp-mod-presentationMode .jp-OutputPrompt,\n",
       ".jp-mod-presentationMode .jp-InputPrompt {\n",
       "    max-width: 2rem !important;\n",
       "    transition: all 0.2s;\n",
       "}\n",
       ".jp-mod-presentationMode .jp-Cell.jp-mod-selected .jp-OutputPrompt,\n",
       ".jp-mod-presentationMode .jp-Cell.jp-mod-selected .jp-InputPrompt,\n",
       ".jp-mod-presentationMode .jp-Cell:hover .jp-OutputPrompt,\n",
       ".jp-mod-presentationMode .jp-Cell:hover .jp-InputPrompt {\n",
       "    max-width: 10rem !important;\n",
       "    transition: all 0.2s;\n",
       "}\n",
       "\n",
       ".jp-mod-presentationMode .jp-Cell {\n",
       "    margin-bottom: 5rem;\n",
       "}\n",
       "\n",
       ".jp-mod-presentationMode hr {\n",
       "    opacity: 0.1;\n",
       "}\n",
       "</style>\n",
       "    <style>\n",
       "    .jp-TableOfContents-content h1, \n",
       "    .jp-TableOfContents-content h2 {\n",
       "        margin-bottom: var(--jp-ui-font-size0)\n",
       "    }\n",
       "    </style>\n",
       "    \n",
       "    <style>\n",
       "    .jp-mod-presentationMode {\n",
       "        --jp-content-heading-line-height: 1.25 !important;\n",
       "    }\n",
       "    </style>\n",
       "    "
      ],
      "text/plain": [
       "<IPython.core.display.HTML object>"
      ]
     },
     "metadata": {},
     "output_type": "display_data"
    }
   ],
   "source": [
    "    from . import master; from poser import *"
   ]
  },
  {
   "cell_type": "code",
   "execution_count": 2,
   "metadata": {},
   "outputs": [
    {
     "data": {
      "text/markdown": [
       "    souper = λ.requests.get().attrgetter('text').bs4.BeautifulSoup()\n",
       "    nyt = \"\"\"http://nytlabs.com/blog/2015/10/20/particles\"\"\"\n",
       "    __name__ == '__main__' and (\n",
       "        λ[souper].methodcaller('select', 'h1,h2,h3').map(lambda x: f\"{'  '*(int(x.name[1])-1)}* [{x.text}]({nyt}#{x.attrs.get('id', '')})\"\n",
       "        )['\\n'.join].IPython.display.Markdown()\n",
       "    )(nyt)\n"
      ],
      "text/plain": [
       "<IPython.core.display.Markdown object>"
      ]
     },
     "metadata": {},
     "output_type": "display_data"
    },
    {
     "name": "stderr",
     "output_type": "stream",
     "text": [
      "C:\\Anaconda3\\lib\\site-packages\\bs4\\__init__.py:181: UserWarning: No parser was explicitly specified, so I'm using the best available HTML parser for this system (\"lxml\"). This usually isn't a problem, but if you run this code on another system, or in a different virtual environment, it may use a different parser and behave differently.\n",
      "\n",
      "The code that caused this warning is on line 193 of the file C:\\Anaconda3\\lib\\runpy.py. To get rid of this warning, change code that looks like this:\n",
      "\n",
      " BeautifulSoup(YOUR_MARKUP})\n",
      "\n",
      "to this:\n",
      "\n",
      " BeautifulSoup(YOUR_MARKUP, \"lxml\")\n",
      "\n",
      "  markup_type=markup_type))\n"
     ]
    },
    {
     "data": {
      "text/markdown": [
       "* [The Future of News Is Not An Article](http://nytlabs.com/blog/2015/10/20/particles#)\n",
       "    * [Letting go of old constraints](http://nytlabs.com/blog/2015/10/20/particles#letting-go-of-old-constraints)\n",
       "    * [1. Enhanced tools for journalists](http://nytlabs.com/blog/2015/10/20/particles#enhanced-tools-for-journalists)\n",
       "    * [2. Summarization and synthesis](http://nytlabs.com/blog/2015/10/20/particles#summarization-and-synthesis)\n",
       "    * [3. Adaptive content](http://nytlabs.com/blog/2015/10/20/particles#adaptive-content)\n",
       "    * [Ephemeral and evergreen](http://nytlabs.com/blog/2015/10/20/particles#ephemeral-and-evergreen)"
      ],
      "text/plain": [
       "<IPython.core.display.Markdown object>"
      ]
     },
     "execution_count": 2,
     "metadata": {},
     "output_type": "execute_result"
    }
   ],
   "source": [
    "    souper = λ.requests.get().attrgetter('text').bs4.BeautifulSoup()\n",
    "    nyt = \"\"\"http://nytlabs.com/blog/2015/10/20/particles\"\"\"\n",
    "    __name__ == '__main__' and (\n",
    "        λ[souper].methodcaller('select', 'h1,h2,h3').map(lambda x: f\"{'  '*(int(x.name[1])-1)}* [{x.text}]({nyt}#{x.attrs.get('id', '')})\"\n",
    "        )['\\n'.join].IPython.display.Markdown()\n",
    "    )(nyt)"
   ]
  },
  {
   "cell_type": "code",
   "execution_count": 3,
   "metadata": {},
   "outputs": [
    {
     "data": {
      "text/markdown": [
       "    \"\"\" http://nytlabs.com/blog/2015/10/20/particles/\"\"\"\n"
      ],
      "text/plain": [
       "<IPython.core.display.Markdown object>"
      ]
     },
     "metadata": {},
     "output_type": "display_data"
    },
    {
     "data": {
      "text/plain": [
       "' http://nytlabs.com/blog/2015/10/20/particles/'"
      ]
     },
     "execution_count": 3,
     "metadata": {},
     "output_type": "execute_result"
    }
   ],
   "source": [
    "    \"\"\" http://nytlabs.com/blog/2015/10/20/particles/\"\"\""
   ]
  },
  {
   "cell_type": "markdown",
   "metadata": {},
   "source": [
    "# Notebooks as particles"
   ]
  },
  {
   "cell_type": "markdown",
   "metadata": {},
   "source": [
    "* Each of our notebooks starts with the line below."
   ]
  },
  {
   "cell_type": "code",
   "execution_count": 4,
   "metadata": {},
   "outputs": [
    {
     "data": {
      "text/markdown": [
       "    from . import master; from poser import *\n"
      ],
      "text/plain": [
       "<IPython.core.display.Markdown object>"
      ]
     },
     "metadata": {},
     "output_type": "display_data"
    }
   ],
   "source": [
    "    from . import master; from poser import *"
   ]
  },
  {
   "cell_type": "code",
   "execution_count": 14,
   "metadata": {},
   "outputs": [
    {
     "data": {
      "text/markdown": [
       "    formatted_source = λ.inspect.getsource().black.format_str(line_length=50).print()\n",
       "    formatted_source(master)\n"
      ],
      "text/plain": [
       "<IPython.core.display.Markdown object>"
      ]
     },
     "metadata": {},
     "output_type": "display_data"
    },
    {
     "name": "stdout",
     "output_type": "stream",
     "text": [
      "\n",
      "\n",
      "from deathbeds import __style__\n",
      "\n",
      "\n",
      "from IPython.utils.capture import capture_output\n",
      "\n",
      "\n",
      "with capture_output():\n",
      "    get_ipython().run_line_magic(\n",
      "        \"load_ext\",\n",
      "        \"deathbeds.__Notebooks_as_Tidy_DX\",\n",
      "    )\n",
      "    get_ipython().run_line_magic(\n",
      "        \"load_ext\",\n",
      "        \"deathbeds.__Markdown_code_cells\",\n",
      "    )\n",
      "    get_ipython().run_line_magic(\n",
      "        \"load_ext\",\n",
      "        \"deathbeds.__Emojis_in_code_cells\",\n",
      "    )\n",
      "    get_ipython().run_line_magic(\n",
      "        \"load_ext\",\n",
      "        \"deathbeds.__String_Node_Transformer\",\n",
      "    )\n",
      "\n",
      "\n",
      "from requests_cache import install_cache\n",
      "\n",
      "install_cache(\"reincarnation\")\n",
      "\n"
     ]
    }
   ],
   "source": [
    "    formatted_source = λ.inspect.getsource().black.format_str(line_length=50).print()\n",
    "    formatted_source(master)"
   ]
  },
  {
   "cell_type": "markdown",
   "metadata": {},
   "source": [
    "## The notebook loader\n",
    "\n",
    "importnb"
   ]
  },
  {
   "cell_type": "code",
   "execution_count": 15,
   "metadata": {},
   "outputs": [
    {
     "data": {
      "text/markdown": [
       "    assert λ.nbformat.read(master.__file__, as_version=4)(), \"\"\"The style module comes from a notebook source.\"\"\"\n",
       "    master.__loader__\n"
      ],
      "text/plain": [
       "<IPython.core.display.Markdown object>"
      ]
     },
     "metadata": {},
     "output_type": "display_data"
    },
    {
     "data": {
      "text/plain": [
       "<imported.loader.Notebook at 0x1f50b4bda48>"
      ]
     },
     "execution_count": 15,
     "metadata": {},
     "output_type": "execute_result"
    }
   ],
   "source": [
    "    assert λ.nbformat.read(master.__file__, as_version=4)(), \"\"\"The style module comes from a notebook source.\"\"\"\n",
    "    master.__loader__"
   ]
  },
  {
   "cell_type": "code",
   "execution_count": 16,
   "metadata": {},
   "outputs": [
    {
     "data": {
      "text/markdown": [
       "    import deathbeds.__Notebooks_as_Tidy_DX\n",
       "    formatted_source(deathbeds.__Notebooks_as_Tidy_DX.load_ipython_extension)\n"
      ],
      "text/plain": [
       "<IPython.core.display.Markdown object>"
      ]
     },
     "metadata": {},
     "output_type": "display_data"
    },
    {
     "name": "stdout",
     "output_type": "stream",
     "text": [
      "def load_ipython_extension(ip):\n",
      "    ip.set_hook(\n",
      "        \"complete_command\", event, re_key=\".*\"\n",
      "    )\n",
      "\n"
     ]
    }
   ],
   "source": [
    "    import deathbeds.__Notebooks_as_Tidy_DX\n",
    "    formatted_source(deathbeds.__Notebooks_as_Tidy_DX.load_ipython_extension)"
   ]
  },
  {
   "cell_type": "markdown",
   "metadata": {},
   "source": [
    "    impor # Completion demo"
   ]
  },
  {
   "cell_type": "code",
   "execution_count": 21,
   "metadata": {},
   "outputs": [
    {
     "data": {
      "text/markdown": [
       "# Formatting code is not for humans\n",
       "\n",
       "Use [black]()\n"
      ],
      "text/plain": [
       "<IPython.core.display.Markdown object>"
      ]
     },
     "metadata": {},
     "output_type": "display_data"
    }
   ],
   "source": [
    "# Formatting code is not for humans\n",
    "\n",
    "Use [black]()"
   ]
  },
  {
   "cell_type": "markdown",
   "metadata": {},
   "source": [
    "# Worry about your future code.\n",
    "# Worry about your future friends."
   ]
  },
  {
   "cell_type": "code",
   "execution_count": 4,
   "metadata": {},
   "outputs": [
    {
     "data": {
      "text/markdown": [
       "ktop\n"
      ],
      "text/plain": [
       "<IPython.core.display.Markdown object>"
      ]
     },
     "metadata": {},
     "output_type": "display_data"
    }
   ],
   "source": [
    "ktop"
   ]
  },
  {
   "cell_type": "code",
   "execution_count": 5,
   "metadata": {},
   "outputs": [
    {
     "data": {
      "text/markdown": [
       "    \"\"\"http://droettboom.com/blog/2018/04/04/python-in-the-browser/\"\"\"\n"
      ],
      "text/plain": [
       "<IPython.core.display.Markdown object>"
      ]
     },
     "metadata": {},
     "output_type": "display_data"
    },
    {
     "data": {
      "text/html": [
       "\n",
       "        <iframe\n",
       "            width=\"600\"\n",
       "            height=\"400\"\n",
       "            src=\"http://droettboom.com/blog/2018/04/04/python-in-the-browser/\"\n",
       "            frameborder=\"0\"\n",
       "            allowfullscreen\n",
       "        ></iframe>\n",
       "        "
      ],
      "text/plain": [
       "<IPython.lib.display.IFrame at 0x270079ee908>"
      ]
     },
     "metadata": {},
     "output_type": "display_data"
    }
   ],
   "source": [
    "    \"\"\"http://droettboom.com/blog/2018/04/04/python-in-the-browser/\"\"\""
   ]
  },
  {
   "cell_type": "code",
   "execution_count": 6,
   "metadata": {},
   "outputs": [
    {
     "data": {
      "text/markdown": [
       "    \"\"\"https://deathbeds.github.io/jyve/lab/\"\"\"\n"
      ],
      "text/plain": [
       "<IPython.core.display.Markdown object>"
      ]
     },
     "metadata": {},
     "output_type": "display_data"
    },
    {
     "data": {
      "text/html": [
       "\n",
       "        <iframe\n",
       "            width=\"600\"\n",
       "            height=\"400\"\n",
       "            src=\"https://deathbeds.github.io/jyve/lab/\"\n",
       "            frameborder=\"0\"\n",
       "            allowfullscreen\n",
       "        ></iframe>\n",
       "        "
      ],
      "text/plain": [
       "<IPython.lib.display.IFrame at 0x27009485e80>"
      ]
     },
     "metadata": {},
     "output_type": "display_data"
    }
   ],
   "source": [
    "    \"\"\"https://deathbeds.github.io/jyve/lab/\"\"\""
   ]
  },
  {
   "cell_type": "code",
   "execution_count": null,
   "metadata": {},
   "outputs": [],
   "source": []
  }
 ],
 "metadata": {
  "kernelspec": {
   "display_name": "Python 3",
   "language": "python",
   "name": "python3"
  },
  "language_info": {
   "codemirror_mode": {
    "name": "ipython",
    "version": 3
   },
   "file_extension": ".py",
   "mimetype": "text/x-python",
   "name": "python",
   "nbconvert_exporter": "python",
   "pygments_lexer": "ipython3",
   "version": "3.6.5"
  }
 },
 "nbformat": 4,
 "nbformat_minor": 2
}
