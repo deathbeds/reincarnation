{
 "cells": [
  {
   "cell_type": "markdown",
   "metadata": {},
   "source": [
    "# The Death of Notebooks\n",
    "# ⚰⚰⚰⚰⚰⚰⚰⚰⚰⚰⚰⚰⚰⚰"
   ]
  },
  {
   "cell_type": "code",
   "execution_count": 1,
   "metadata": {},
   "outputs": [
    {
     "data": {
      "text/html": [
       "<style>\n",
       ".jp-RenderedHTMLCommon pre code {\n",
       "    opacity: 0.25;\n",
       "}\n",
       ".jp-RenderedHTMLCommon pre code:hover {\n",
       "    transition: opacity 0.2s;\n",
       "    opacity: 1;\n",
       "    \n",
       "}\n",
       ".jp-Placeholder-content .jp-MoreHorizIcon {\n",
       "    background-size: 32px;\n",
       "}\n",
       "\n",
       "@import url(\"https://cdn.jsdelivr.net/npm/firacode@1.205.0/distr/fira_code.css\")\n",
       "\n",
       ".CodeMirror * {\n",
       "  font-family: 'Fira Code' !important; \n",
       "  font-variant-ligatures: initial !important;\n",
       "}\n",
       "\n",
       ".cm-string {\n",
       "    font-variant-ligatures: none;\n",
       "}\n",
       "</style><style>\n",
       ".jp-mod-presentationMode .jp-SideBar,\n",
       ".jp-mod-presentationMode #jp-top-panel {\n",
       "    opacity: 0.0;\n",
       "    transition: all 0.2s;\n",
       "}\n",
       ".jp-mod-presentationMode .jp-SideBar:hover,\n",
       ".jp-mod-presentationMode #jp-top-panel:hover {\n",
       "    opacity: 0.9;\n",
       "    transition: all 0.2s;\n",
       "}\n",
       "\n",
       "</style><style>\n",
       ".jp-mod-presentationMode.jp-ApplicationShell,\n",
       ".jp-mod-presentationMode .p-TabBar-content{\n",
       "    background-color: var(--jp-layout-color0);\n",
       "}\n",
       "</style><style>\n",
       ".jp-mod-presentationMode .p-DockPanel-widget,\n",
       ".jp-mod-presentationMode #jp-left-stack{\n",
       "    border-color: transparent;\n",
       "}\n",
       ".jp-mod-presentationMode .jp-Toolbar-item,\n",
       ".jp-mod-presentationMode .jp-Toolbar {\n",
       "    opacity: 0.1;\n",
       "    transition: all 0.2s;\n",
       "}\n",
       ".jp-mod-presentationMode .jp-Toolbar-item:hover,\n",
       ".jp-mod-presentationMode .jp-Toolbar:hover {\n",
       "    opacity: 0.9;\n",
       "    transition: all 0.2s;\n",
       "}\n",
       "\n",
       "</style><style>\n",
       ".jp-mod-presentationMode .jp-OutputPrompt,\n",
       ".jp-mod-presentationMode .jp-InputPrompt {\n",
       "    max-width: 2rem !important;\n",
       "    transition: all 0.2s;\n",
       "}\n",
       ".jp-mod-presentationMode .jp-Cell.jp-mod-selected .jp-OutputPrompt,\n",
       ".jp-mod-presentationMode .jp-Cell.jp-mod-selected .jp-InputPrompt,\n",
       ".jp-mod-presentationMode .jp-Cell:hover .jp-OutputPrompt,\n",
       ".jp-mod-presentationMode .jp-Cell:hover .jp-InputPrompt {\n",
       "    max-width: 10rem !important;\n",
       "    transition: all 0.2s;\n",
       "}\n",
       "\n",
       ".jp-mod-presentationMode .jp-Cell {\n",
       "    margin-bottom: 5rem;\n",
       "}\n",
       "\n",
       ".jp-mod-presentationMode hr {\n",
       "    opacity: 0.1;\n",
       "}\n",
       "</style>\n",
       "    <style>\n",
       "    .jp-TableOfContents-content h1, \n",
       "    .jp-TableOfContents-content h2 {\n",
       "        margin-bottom: var(--jp-ui-font-size0)\n",
       "    }\n",
       "    </style>\n",
       "    \n",
       "    <style>\n",
       "    .jp-mod-presentationMode {\n",
       "        --jp-content-heading-line-height: 1.25 !important;\n",
       "    }\n",
       "    </style>\n",
       "    "
      ],
      "text/plain": [
       "<IPython.core.display.HTML object>"
      ]
     },
     "metadata": {},
     "output_type": "display_data"
    }
   ],
   "source": [
    "%reload_ext reincarnation"
   ]
  },
  {
   "cell_type": "code",
   "execution_count": 2,
   "metadata": {},
   "outputs": [
    {
     "data": {
      "text/markdown": [
       "# Lab Notebooks Designed Our Future\n",
       "\n",
       "    \"\"\"- text/html: https://en.m.wikipedia.org/wiki/Lab_notebook\n",
       "    - text/html: https://anaconda.org/nbcio/data-in-thomas-jefferson-s-garden-notebook/notebook\n",
       "    - http://www.openculture.com/2016/03/3900-pages-of-paul-klees-personal-notebooks-are-now-online.html\n",
       "    - https://upload.wikimedia.org/wikipedia/commons/8/8a/H96566k.jpg\n",
       "    \"\"\"\n"
      ],
      "text/plain": [
       "<IPython.core.display.Markdown object>"
      ]
     },
     "metadata": {},
     "output_type": "display_data"
    },
    {
     "data": {
      "application/vnd.jupyter.widget-view+json": {
       "model_id": "6a2bd2647a1c4723a645e70dafb0cbfa",
       "version_major": 2,
       "version_minor": 0
      },
      "text/plain": [
       "VBox(children=(Box(children=(Output(layout=Layout(display='flex', flex='1', min_width='200px')), Output(layout…"
      ]
     },
     "metadata": {},
     "output_type": "display_data"
    }
   ],
   "source": [
    "# Lab Notebooks Designed Our Future\n",
    "\n",
    "    \"\"\"- text/html: https://en.m.wikipedia.org/wiki/Lab_notebook\n",
    "    - text/html: https://anaconda.org/nbcio/data-in-thomas-jefferson-s-garden-notebook/notebook\n",
    "    - http://www.openculture.com/2016/03/3900-pages-of-paul-klees-personal-notebooks-are-now-online.html\n",
    "    - https://upload.wikimedia.org/wikipedia/commons/8/8a/H96566k.jpg\n",
    "    \"\"\""
   ]
  },
  {
   "cell_type": "code",
   "execution_count": 3,
   "metadata": {},
   "outputs": [
    {
     "data": {
      "text/markdown": [
       "# Science Affected the way we do science\n",
       "    \n",
       "    \"\"\"- https://upload.wikimedia.org/wikipedia/commons/c/cc/SRI_Computer_Mouse.jpg\n",
       "    - text/html: https://player.vimeo.com/video/28199826\n",
       "    - text/html: https://en.m.wikipedia.org/wiki/VisiCalc\n",
       "    \"\"\"\n"
      ],
      "text/plain": [
       "<IPython.core.display.Markdown object>"
      ]
     },
     "metadata": {},
     "output_type": "display_data"
    },
    {
     "data": {
      "application/vnd.jupyter.widget-view+json": {
       "model_id": "42c039dc60064e279863802b41aa5cbf",
       "version_major": 2,
       "version_minor": 0
      },
      "text/plain": [
       "VBox(children=(Box(children=(Output(layout=Layout(display='flex', flex='1', min_width='200px')), Output(layout…"
      ]
     },
     "metadata": {},
     "output_type": "display_data"
    }
   ],
   "source": [
    "# Science Affected the way we do science\n",
    "    \n",
    "    \"\"\"- https://upload.wikimedia.org/wikipedia/commons/c/cc/SRI_Computer_Mouse.jpg\n",
    "    - text/html: https://player.vimeo.com/video/28199826\n",
    "    - text/html: https://en.m.wikipedia.org/wiki/VisiCalc\n",
    "    \"\"\""
   ]
  },
  {
   "cell_type": "code",
   "execution_count": 4,
   "metadata": {},
   "outputs": [
    {
     "data": {
      "text/markdown": [
       "    \"\"\"https://www.high.org/exhibition/basquiat-notebooks/\"\"\"\n"
      ],
      "text/plain": [
       "<IPython.core.display.Markdown object>"
      ]
     },
     "metadata": {},
     "output_type": "display_data"
    },
    {
     "data": {
      "text/html": [
       "\n",
       "        <iframe\n",
       "            width=\"100%\"\n",
       "            height=\"450\"\n",
       "            src=\"https://www.high.org/exhibition/basquiat-notebooks/\"\n",
       "            frameborder=\"0\"\n",
       "            allowfullscreen\n",
       "        ></iframe>\n",
       "        "
      ],
      "text/plain": [
       "<IPython.lib.display.IFrame at 0x1eba6842518>"
      ]
     },
     "metadata": {},
     "output_type": "display_data"
    }
   ],
   "source": [
    "    \"\"\"https://www.high.org/exhibition/basquiat-notebooks/\"\"\""
   ]
  },
  {
   "cell_type": "markdown",
   "metadata": {},
   "source": [
    "###### Restart and Run All is an informal test \n",
    "\n",
    "A notebook is dead if it is never used again.\n",
    "\n",
    "\n",
    "    \"\"\"graph {reusability -- reproducibility}\"\"\"\n",
    "    # !nbconvert jupyter --execute 0_the_death_of_a_notebook.ipynb"
   ]
  },
  {
   "cell_type": "code",
   "execution_count": 5,
   "metadata": {},
   "outputs": [
    {
     "data": {
      "text/markdown": [
       "# Computational Essays guide Exploration\n",
       "\n",
       "    \"\"\"http://blog.stephenwolfram.com/2017/11/what-is-a-computational-essay/\"\"\"\n"
      ],
      "text/plain": [
       "<IPython.core.display.Markdown object>"
      ]
     },
     "metadata": {},
     "output_type": "display_data"
    },
    {
     "data": {
      "text/html": [
       "\n",
       "        <iframe\n",
       "            width=\"100%\"\n",
       "            height=\"450\"\n",
       "            src=\"http://blog.stephenwolfram.com/2017/11/what-is-a-computational-essay/\"\n",
       "            frameborder=\"0\"\n",
       "            allowfullscreen\n",
       "        ></iframe>\n",
       "        "
      ],
      "text/plain": [
       "<IPython.lib.display.IFrame at 0x1eba4bf1278>"
      ]
     },
     "metadata": {},
     "output_type": "display_data"
    }
   ],
   "source": [
    "# Computational Essays guide Exploration\n",
    "\n",
    "    \"\"\"http://blog.stephenwolfram.com/2017/11/what-is-a-computational-essay/\"\"\""
   ]
  },
  {
   "cell_type": "code",
   "execution_count": 6,
   "metadata": {},
   "outputs": [
    {
     "data": {
      "text/markdown": [
       "## Github is a Graveyard\n",
       "\n",
       "    \"\"\"http://nbviewer.jupyter.org/github/parente/nbestimate/blob/master/estimate.ipynb\"\"\"\n",
       "\n",
       "    λ.🐼.read_html(\"\"\"http://nbviewer.jupyter.org/github/parente/nbestimate/blob/master/estimate.ipynb\"\"\"\n",
       "                      ).first()().iloc[::-1]\n"
      ],
      "text/plain": [
       "<IPython.core.display.Markdown object>"
      ]
     },
     "metadata": {},
     "output_type": "display_data"
    },
    {
     "data": {
      "text/html": [
       "\n",
       "        <iframe\n",
       "            width=\"100%\"\n",
       "            height=\"450\"\n",
       "            src=\"http://nbviewer.jupyter.org/github/parente/nbestimate/blob/master/estimate.ipynb\"\n",
       "            frameborder=\"0\"\n",
       "            allowfullscreen\n",
       "        ></iframe>\n",
       "        "
      ],
      "text/plain": [
       "<IPython.lib.display.IFrame at 0x1eba68647b8>"
      ]
     },
     "metadata": {},
     "output_type": "display_data"
    },
    {
     "data": {
      "text/html": [
       "<div>\n",
       "<style scoped>\n",
       "    .dataframe tbody tr th:only-of-type {\n",
       "        vertical-align: middle;\n",
       "    }\n",
       "\n",
       "    .dataframe tbody tr th {\n",
       "        vertical-align: top;\n",
       "    }\n",
       "\n",
       "    .dataframe thead tr th {\n",
       "        text-align: left;\n",
       "    }\n",
       "</style>\n",
       "<table border=\"1\" class=\"dataframe\">\n",
       "  <thead>\n",
       "    <tr>\n",
       "      <th></th>\n",
       "      <th>Unnamed: 0_level_0</th>\n",
       "      <th>hits</th>\n",
       "    </tr>\n",
       "    <tr>\n",
       "      <th></th>\n",
       "      <th>date</th>\n",
       "      <th>Unnamed: 1_level_1</th>\n",
       "    </tr>\n",
       "  </thead>\n",
       "  <tbody>\n",
       "    <tr>\n",
       "      <th>2</th>\n",
       "      <td>2018-07-29</td>\n",
       "      <td>2567227</td>\n",
       "    </tr>\n",
       "    <tr>\n",
       "      <th>1</th>\n",
       "      <td>2018-07-13</td>\n",
       "      <td>2492680</td>\n",
       "    </tr>\n",
       "    <tr>\n",
       "      <th>0</th>\n",
       "      <td>2018-06-18</td>\n",
       "      <td>2368584</td>\n",
       "    </tr>\n",
       "  </tbody>\n",
       "</table>\n",
       "</div>"
      ],
      "text/plain": [
       "  Unnamed: 0_level_0               hits\n",
       "                date Unnamed: 1_level_1\n",
       "2         2018-07-29            2567227\n",
       "1         2018-07-13            2492680\n",
       "0         2018-06-18            2368584"
      ]
     },
     "execution_count": 6,
     "metadata": {},
     "output_type": "execute_result"
    }
   ],
   "source": [
    "## Github is a Graveyard\n",
    "\n",
    "    \"\"\"http://nbviewer.jupyter.org/github/parente/nbestimate/blob/master/estimate.ipynb\"\"\"\n",
    "\n",
    "    λ.🐼.read_html(\"\"\"http://nbviewer.jupyter.org/github/parente/nbestimate/blob/master/estimate.ipynb\"\"\"\n",
    "                      ).first()().iloc[::-1]"
   ]
  },
  {
   "cell_type": "code",
   "execution_count": 7,
   "metadata": {},
   "outputs": [
    {
     "data": {
      "text/markdown": [
       "    \"\"\"http://adamrule.com/files/papers/chi_2018_computational_notebooks_camera_ready.pdf#page=5\"\"\"\n",
       "\n",
       "> Finally, the **exploratory and iterative** nature of data analysis is\n",
       "reflected in the fact that **nearly half** (43.9%) of notebooks were\n",
       "uploaded to GitHub with a **non-linear execution** order. This\n",
       "means that analysts went back and re-ran earlier cells, rather\n",
       "than just linearly writing and executing code. This figure\n",
       "should be considered as a **lower-bound** as analysts may have\n",
       "done a **clean run** of their notebook **before sharing** it online. \n"
      ],
      "text/plain": [
       "<IPython.core.display.Markdown object>"
      ]
     },
     "metadata": {},
     "output_type": "display_data"
    },
    {
     "data": {
      "text/html": [
       "\n",
       "        <iframe\n",
       "            width=\"100%\"\n",
       "            height=\"450\"\n",
       "            src=\"http://adamrule.com/files/papers/chi_2018_computational_notebooks_camera_ready.pdf#page=5\"\n",
       "            frameborder=\"0\"\n",
       "            allowfullscreen\n",
       "        ></iframe>\n",
       "        "
      ],
      "text/plain": [
       "<IPython.lib.display.IFrame at 0x1eba8cf8240>"
      ]
     },
     "metadata": {},
     "output_type": "display_data"
    }
   ],
   "source": [
    "    \"\"\"http://adamrule.com/files/papers/chi_2018_computational_notebooks_camera_ready.pdf#page=5\"\"\"\n",
    "\n",
    "> Finally, the **exploratory and iterative** nature of data analysis is\n",
    "reflected in the fact that **nearly half** (43.9%) of notebooks were\n",
    "uploaded to GitHub with a **non-linear execution** order. This\n",
    "means that analysts went back and re-ran earlier cells, rather\n",
    "than just linearly writing and executing code. This figure\n",
    "should be considered as a **lower-bound** as analysts may have\n",
    "done a **clean run** of their notebook **before sharing** it online. "
   ]
  },
  {
   "cell_type": "code",
   "execution_count": 8,
   "metadata": {},
   "outputs": [
    {
     "data": {
      "text/markdown": [
       "# Notebooks share Computable Ideas\n",
       "\n",
       "Add links to the projects we are testing.\n",
       "    \n",
       "    \"\"\"http://nbviewer.jupyter.org/github/deathbeds/deathbeds.github.io/blob/master/deathbeds/2018-08-14-Benchmarking-imports.ipynb\"\"\"\n",
       "    \n",
       "[../deathbeds.github.io/deathbeds/2018-08-14-Benchmarking-imports.ipynb](../deathbeds.github.io/deathbeds/2018-08-14-Benchmarking-imports.ipynb)\n"
      ],
      "text/plain": [
       "<IPython.core.display.Markdown object>"
      ]
     },
     "metadata": {},
     "output_type": "display_data"
    },
    {
     "data": {
      "text/html": [
       "\n",
       "        <iframe\n",
       "            width=\"100%\"\n",
       "            height=\"450\"\n",
       "            src=\"http://nbviewer.jupyter.org/github/deathbeds/deathbeds.github.io/blob/master/deathbeds/2018-08-14-Benchmarking-imports.ipynb\"\n",
       "            frameborder=\"0\"\n",
       "            allowfullscreen\n",
       "        ></iframe>\n",
       "        "
      ],
      "text/plain": [
       "<IPython.lib.display.IFrame at 0x1eba6864c18>"
      ]
     },
     "metadata": {},
     "output_type": "display_data"
    }
   ],
   "source": [
    "# Notebooks share Computable Ideas\n",
    "\n",
    "Add links to the projects we are testing.\n",
    "    \n",
    "    \"\"\"http://nbviewer.jupyter.org/github/deathbeds/deathbeds.github.io/blob/master/deathbeds/2018-08-14-Benchmarking-imports.ipynb\"\"\"\n",
    "    \n",
    "[../deathbeds.github.io/deathbeds/2018-08-14-Benchmarking-imports.ipynb](../deathbeds.github.io/deathbeds/2018-08-14-Benchmarking-imports.ipynb)"
   ]
  },
  {
   "cell_type": "code",
   "execution_count": 9,
   "metadata": {},
   "outputs": [
    {
     "data": {
      "text/markdown": [
       "    \"\"\"http://docs.python-guide.org/en/latest/writing/tests/\"\"\"\n"
      ],
      "text/plain": [
       "<IPython.core.display.Markdown object>"
      ]
     },
     "metadata": {},
     "output_type": "display_data"
    },
    {
     "data": {
      "text/html": [
       "\n",
       "        <iframe\n",
       "            width=\"100%\"\n",
       "            height=\"450\"\n",
       "            src=\"http://docs.python-guide.org/en/latest/writing/tests/\"\n",
       "            frameborder=\"0\"\n",
       "            allowfullscreen\n",
       "        ></iframe>\n",
       "        "
      ],
      "text/plain": [
       "<IPython.lib.display.IFrame at 0x1eba4bf1160>"
      ]
     },
     "metadata": {},
     "output_type": "display_data"
    }
   ],
   "source": [
    "    \"\"\"http://docs.python-guide.org/en/latest/writing/tests/\"\"\""
   ]
  },
  {
   "cell_type": "code",
   "execution_count": 10,
   "metadata": {},
   "outputs": [
    {
     "data": {
      "text/markdown": [
       "# Restart and run all or it didn't happen\n",
       "    \n",
       "    \"\"\"http://nbviewer.jupyter.org/github/deathbeds/deathbeds.github.io/blob/master/deathbeds/2018-07-31-Testing-notebooks.ipynb\"\"\"\n"
      ],
      "text/plain": [
       "<IPython.core.display.Markdown object>"
      ]
     },
     "metadata": {},
     "output_type": "display_data"
    },
    {
     "data": {
      "text/html": [
       "\n",
       "        <iframe\n",
       "            width=\"100%\"\n",
       "            height=\"450\"\n",
       "            src=\"http://nbviewer.jupyter.org/github/deathbeds/deathbeds.github.io/blob/master/deathbeds/2018-07-31-Testing-notebooks.ipynb\"\n",
       "            frameborder=\"0\"\n",
       "            allowfullscreen\n",
       "        ></iframe>\n",
       "        "
      ],
      "text/plain": [
       "<IPython.lib.display.IFrame at 0x1eba6864c18>"
      ]
     },
     "metadata": {},
     "output_type": "display_data"
    }
   ],
   "source": [
    "# Restart and run all or it didn't happen\n",
    "    \n",
    "    \"\"\"http://nbviewer.jupyter.org/github/deathbeds/deathbeds.github.io/blob/master/deathbeds/2018-07-31-Testing-notebooks.ipynb\"\"\""
   ]
  },
  {
   "cell_type": "code",
   "execution_count": 11,
   "metadata": {},
   "outputs": [
    {
     "data": {
      "text/markdown": [
       "## Restart and Run All is an informal test \n",
       "\n",
       "A notebook is dead if it is never used again.\n",
       "\n",
       "\n",
       "    \"\"\"graph {reproducibility}\"\"\"\n",
       "    if __name__ == '__main__' and 'tmp' not in __import__('sys').argv[0]:\n",
       "        !jupyter nbconvert --execute --to markdown readme.ipynb\n"
      ],
      "text/plain": [
       "<IPython.core.display.Markdown object>"
      ]
     },
     "metadata": {},
     "output_type": "display_data"
    },
    {
     "data": {
      "image/svg+xml": [
       "<?xml version=\"1.0\" encoding=\"UTF-8\" standalone=\"no\"?>\r\n",
       "<!DOCTYPE svg PUBLIC \"-//W3C//DTD SVG 1.1//EN\"\r\n",
       " \"http://www.w3.org/Graphics/SVG/1.1/DTD/svg11.dtd\">\r\n",
       "<!-- Generated by graphviz version 2.38.0 (20140413.2041)\r\n",
       " -->\r\n",
       "<!-- Title: %3 Pages: 1 -->\r\n",
       "<svg width=\"135pt\" height=\"44pt\"\r\n",
       " viewBox=\"0.00 0.00 135.39 44.00\" xmlns=\"http://www.w3.org/2000/svg\" xmlns:xlink=\"http://www.w3.org/1999/xlink\">\r\n",
       "<g id=\"graph0\" class=\"graph\" transform=\"scale(1 1) rotate(0) translate(4 40)\">\r\n",
       "<title>%3</title>\r\n",
       "<polygon fill=\"white\" stroke=\"none\" points=\"-4,4 -4,-40 131.389,-40 131.389,4 -4,4\"/>\r\n",
       "<!-- reproducibility -->\r\n",
       "<g id=\"node1\" class=\"node\"><title>reproducibility</title>\r\n",
       "<ellipse fill=\"none\" stroke=\"black\" cx=\"63.6943\" cy=\"-18\" rx=\"63.8893\" ry=\"18\"/>\r\n",
       "<text text-anchor=\"middle\" x=\"63.6943\" y=\"-14.3\" font-family=\"Times New Roman,serif\" font-size=\"14.00\">reproducibility</text>\r\n",
       "</g>\r\n",
       "</g>\r\n",
       "</svg>\r\n"
      ],
      "text/plain": [
       "<graphviz.files.Source at 0x1eba6864b38>"
      ]
     },
     "metadata": {},
     "output_type": "display_data"
    },
    {
     "name": "stderr",
     "output_type": "stream",
     "text": [
      "[NbConvertApp] Converting notebook readme.ipynb to markdown\n",
      "[NbConvertApp] Executing notebook with kernel: python3\n",
      "[NbConvertApp] Writing 1529 bytes to readme.md\n"
     ]
    }
   ],
   "source": [
    "## Restart and Run All is an informal test \n",
    "\n",
    "A notebook is dead if it is never used again.\n",
    "\n",
    "\n",
    "    \"\"\"graph {reproducibility}\"\"\"\n",
    "    if __name__ == '__main__' and 'tmp' not in __import__('sys').argv[0]:\n",
    "        !jupyter nbconvert --execute --to markdown readme.ipynb"
   ]
  },
  {
   "cell_type": "code",
   "execution_count": 17,
   "metadata": {},
   "outputs": [
    {
     "data": {
      "text/markdown": [
       "# Computational Essays Can Test Truth\n",
       "\n",
       "If notebooks restart and run all that can be used with Papermill or nbval.\n",
       "\n",
       "    \"\"\"- text/html: https://nbval.readthedocs.io/en/latest/\n",
       "    - text/html: http://papermill.readthedocs.io/en/latest/usage.html#parameterizing-a-notebook\n",
       "    \"\"\"\n"
      ],
      "text/plain": [
       "<IPython.core.display.Markdown object>"
      ]
     },
     "metadata": {},
     "output_type": "display_data"
    },
    {
     "data": {
      "application/vnd.jupyter.widget-view+json": {
       "model_id": "24e386f2d1e44b2d837ee16ec7948579",
       "version_major": 2,
       "version_minor": 0
      },
      "text/plain": [
       "VBox(children=(Box(children=(Output(layout=Layout(display='flex', flex='1', min_width='200px')), Output(layout…"
      ]
     },
     "metadata": {},
     "output_type": "display_data"
    }
   ],
   "source": [
    "# Computational Essays Can Test Truth\n",
    "\n",
    "If notebooks restart and run all that can be used with Papermill or nbval.\n",
    "\n",
    "    \"\"\"- text/html: https://nbval.readthedocs.io/en/latest/\n",
    "    - text/html: http://papermill.readthedocs.io/en/latest/usage.html#parameterizing-a-notebook\n",
    "    \"\"\""
   ]
  },
  {
   "cell_type": "code",
   "execution_count": 18,
   "metadata": {},
   "outputs": [
    {
     "data": {
      "text/markdown": [
       "    \"\"\"graph {rankdir=\"LR\" reproducibility -- reusability}\"\"\"\n"
      ],
      "text/plain": [
       "<IPython.core.display.Markdown object>"
      ]
     },
     "metadata": {},
     "output_type": "display_data"
    },
    {
     "data": {
      "image/svg+xml": [
       "<?xml version=\"1.0\" encoding=\"UTF-8\" standalone=\"no\"?>\r\n",
       "<!DOCTYPE svg PUBLIC \"-//W3C//DTD SVG 1.1//EN\"\r\n",
       " \"http://www.w3.org/Graphics/SVG/1.1/DTD/svg11.dtd\">\r\n",
       "<!-- Generated by graphviz version 2.38.0 (20140413.2041)\r\n",
       " -->\r\n",
       "<!-- Title: %3 Pages: 1 -->\r\n",
       "<svg width=\"266pt\" height=\"44pt\"\r\n",
       " viewBox=\"0.00 0.00 266.28 44.00\" xmlns=\"http://www.w3.org/2000/svg\" xmlns:xlink=\"http://www.w3.org/1999/xlink\">\r\n",
       "<g id=\"graph0\" class=\"graph\" transform=\"scale(1 1) rotate(0) translate(4 40)\">\r\n",
       "<title>%3</title>\r\n",
       "<polygon fill=\"white\" stroke=\"none\" points=\"-4,4 -4,-40 262.28,-40 262.28,4 -4,4\"/>\r\n",
       "<!-- reproducibility -->\r\n",
       "<g id=\"node1\" class=\"node\"><title>reproducibility</title>\r\n",
       "<ellipse fill=\"none\" stroke=\"black\" cx=\"63.6943\" cy=\"-18\" rx=\"63.8893\" ry=\"18\"/>\r\n",
       "<text text-anchor=\"middle\" x=\"63.6943\" y=\"-14.3\" font-family=\"Times New Roman,serif\" font-size=\"14.00\">reproducibility</text>\r\n",
       "</g>\r\n",
       "<!-- reusability -->\r\n",
       "<g id=\"node2\" class=\"node\"><title>reusability</title>\r\n",
       "<ellipse fill=\"none\" stroke=\"black\" cx=\"210.834\" cy=\"-18\" rx=\"47.3916\" ry=\"18\"/>\r\n",
       "<text text-anchor=\"middle\" x=\"210.834\" y=\"-14.3\" font-family=\"Times New Roman,serif\" font-size=\"14.00\">reusability</text>\r\n",
       "</g>\r\n",
       "<!-- reproducibility&#45;&#45;reusability -->\r\n",
       "<g id=\"edge1\" class=\"edge\"><title>reproducibility&#45;&#45;reusability</title>\r\n",
       "<path fill=\"none\" stroke=\"black\" d=\"M127.511,-18C139.462,-18 151.773,-18 163.115,-18\"/>\r\n",
       "</g>\r\n",
       "</g>\r\n",
       "</svg>\r\n"
      ],
      "text/plain": [
       "<graphviz.files.Source at 0x1eba5407dd8>"
      ]
     },
     "metadata": {},
     "output_type": "display_data"
    }
   ],
   "source": [
    "    \"\"\"graph {rankdir=\"LR\" reproducibility -- reusability}\"\"\""
   ]
  },
  {
   "cell_type": "code",
   "execution_count": 19,
   "metadata": {},
   "outputs": [
    {
     "data": {
      "text/markdown": [
       "# Importnb\n",
       "\n",
       "    from importnb import Notebook\n",
       "    \n",
       "    with Notebook():...\n",
       "    \n",
       "    \"\"\"http://nbviewer.jupyter.org/github/deathbeds/importnb/blob/master/readme.ipynb\"\"\"\n"
      ],
      "text/plain": [
       "<IPython.core.display.Markdown object>"
      ]
     },
     "metadata": {},
     "output_type": "display_data"
    },
    {
     "data": {
      "text/html": [
       "\n",
       "        <iframe\n",
       "            width=\"100%\"\n",
       "            height=\"450\"\n",
       "            src=\"http://nbviewer.jupyter.org/github/deathbeds/importnb/blob/master/readme.ipynb\"\n",
       "            frameborder=\"0\"\n",
       "            allowfullscreen\n",
       "        ></iframe>\n",
       "        "
      ],
      "text/plain": [
       "<IPython.lib.display.IFrame at 0x1eba7e1bd30>"
      ]
     },
     "metadata": {},
     "output_type": "display_data"
    }
   ],
   "source": [
    "# Importnb\n",
    "\n",
    "    from importnb import Notebook\n",
    "    \n",
    "    with Notebook():...\n",
    "    \n",
    "    \"\"\"http://nbviewer.jupyter.org/github/deathbeds/importnb/blob/master/readme.ipynb\"\"\""
   ]
  },
  {
   "cell_type": "markdown",
   "metadata": {},
   "source": [
    "# Notebooks are a place for ideas"
   ]
  },
  {
   "cell_type": "code",
   "execution_count": 15,
   "metadata": {},
   "outputs": [
    {
     "data": {
      "text/markdown": [
       "## What assumptions can we make about notebooks?\n",
       "\n",
       "* They are available.\n",
       "            \n",
       "        f = λ.Path().Path.glob('*.ipynb') \n",
       "    \n",
       "\n",
       "* They are `nbformat`\n",
       "\n",
       "        #qgrid needs to get working\n",
       "        f / {λ.identity(): λ.🐼.read_json(typ='Series')} \n",
       "        df = f.merge().🐼.concat()().unstack(-1).cells.apply(λ.🐼.Series()).stack().apply(λ.🐼.Series()); df.sample(3)\n",
       "        \n",
       "* They are data.\n",
       "\n",
       "        \"\"\"http://nbviewer.jupyter.org/github/deathbeds/deathbeds.github.io/blob/master/deathbeds/2018-08-04-Notebooks-as-Tidy-DX.ipynb\"\"\"\n"
      ],
      "text/plain": [
       "<IPython.core.display.Markdown object>"
      ]
     },
     "metadata": {},
     "output_type": "display_data"
    },
    {
     "data": {
      "text/html": [
       "\n",
       "        <iframe\n",
       "            width=\"100%\"\n",
       "            height=\"450\"\n",
       "            src=\"http://nbviewer.jupyter.org/github/deathbeds/deathbeds.github.io/blob/master/deathbeds/2018-08-04-Notebooks-as-Tidy-DX.ipynb\"\n",
       "            frameborder=\"0\"\n",
       "            allowfullscreen\n",
       "        ></iframe>\n",
       "        "
      ],
      "text/plain": [
       "<IPython.lib.display.IFrame at 0x1eba4b3beb8>"
      ]
     },
     "metadata": {},
     "output_type": "display_data"
    }
   ],
   "source": [
    "## What assumptions can we make about notebooks?\n",
    "\n",
    "* They are available.\n",
    "            \n",
    "        f = λ.Path().Path.glob('*.ipynb') \n",
    "    \n",
    "\n",
    "* They are `nbformat`\n",
    "\n",
    "        #qgrid needs to get working\n",
    "        f / {λ.identity(): λ.🐼.read_json(typ='Series')} \n",
    "        df = f.merge().🐼.concat()().unstack(-1).cells.apply(λ.🐼.Series()).stack().apply(λ.🐼.Series()); df.sample(3)\n",
    "        \n",
    "* They are data.\n",
    "\n",
    "        \"\"\"http://nbviewer.jupyter.org/github/deathbeds/deathbeds.github.io/blob/master/deathbeds/2018-08-04-Notebooks-as-Tidy-DX.ipynb\"\"\""
   ]
  },
  {
   "cell_type": "code",
   "execution_count": 16,
   "metadata": {},
   "outputs": [
    {
     "data": {
      "text/markdown": [
       "* More than one UI can view it.\n",
       "    * [notebook]()\n",
       "    * [nteract]()\n",
       "    * [lab]\n",
       "    * [nbviewer]\n",
       "    * [binder]\n",
       "    * [cocalc]\n",
       "    * [colab]\n",
       "    * [github]\n",
       "\n",
       "* Trust\n",
       "* The dependencies are reproducible.\n"
      ],
      "text/plain": [
       "<IPython.core.display.Markdown object>"
      ]
     },
     "metadata": {},
     "output_type": "display_data"
    }
   ],
   "source": [
    "* More than one UI can view it.\n",
    "    * [notebook]()\n",
    "    * [nteract]()\n",
    "    * [lab]\n",
    "    * [nbviewer]\n",
    "    * [binder]\n",
    "    * [cocalc]\n",
    "    * [colab]\n",
    "    * [github]\n",
    "\n",
    "* Trust\n",
    "* The dependencies are reproducible."
   ]
  },
  {
   "cell_type": "markdown",
   "metadata": {},
   "source": [
    "# We can't assume they are computable\n",
    "\n",
    "But they are **reusable** because computational essays are readable.\n",
    "\n",
    "Code adds computational facts and knowledge to human text."
   ]
  },
  {
   "cell_type": "markdown",
   "metadata": {},
   "source": [
    "# Literacy\n",
    "\n",
    "Textual computational literacy"
   ]
  },
  {
   "cell_type": "markdown",
   "metadata": {},
   "source": [
    "`pytest` importnb plugin"
   ]
  }
 ],
 "metadata": {
  "kernelspec": {
   "display_name": "Python 3",
   "language": "python",
   "name": "python3"
  },
  "language_info": {
   "codemirror_mode": {
    "name": "ipython",
    "version": 3
   },
   "file_extension": ".py",
   "mimetype": "text/x-python",
   "name": "python",
   "nbconvert_exporter": "python",
   "pygments_lexer": "ipython3",
   "version": "3.6.5"
  }
 },
 "nbformat": 4,
 "nbformat_minor": 2
}
