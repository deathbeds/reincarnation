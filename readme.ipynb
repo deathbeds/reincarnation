{
 "cells": [
  {
   "cell_type": "markdown",
   "metadata": {},
   "source": [
    "![](https://user-images.githubusercontent.com/4236275/43620235-b5ba1dca-969f-11e8-9504-93798d10a4b1.png)"
   ]
  },
  {
   "cell_type": "code",
   "execution_count": 3,
   "metadata": {},
   "outputs": [
    {
     "data": {
      "text/html": [
       "\n",
       "<style>\n",
       ".flexed-container {display: flex; margin: 1em}\n",
       ".flexed-container.flexed-row {flex-direction: row;}\n",
       ".flexed-container.flexed-column {flex-direction: column;}\n",
       ".flexed-container iframe {min-width: 350px;}\n",
       ".flexed-item {order: 0; margin: !em}\n",
       "</style>"
      ],
      "text/plain": [
       "<IPython.core.display.HTML object>"
      ]
     },
     "metadata": {},
     "output_type": "display_data"
    }
   ],
   "source": [
    "    # import deathbeds.__timeline\n",
    "    %reload_ext importnb\n",
    "    %reload_ext deathbeds"
   ]
  },
  {
   "cell_type": "code",
   "execution_count": 2,
   "metadata": {},
   "outputs": [
    {
     "data": {
      "text/html": [
       "<div class=\"flexed-container flexed-row\"><div class=\"flexed-container flexed-column\"><div class=\"flexed-item\" style=\"order: 0;\"><h1><code>deathbeds</code> blog</h1>\n",
       "</div><div class=\"flexed-item\" style=\"order: 0;\">\n",
       "        <iframe\n",
       "            width=\"500\"\n",
       "            height=\"450\"\n",
       "            src=\"https://nbviewer.jupyter.org/github/deathbeds/deathbeds.github.io/blob/master/readme.ipynb?flush_cache=true\"\n",
       "            frameborder=\"0\"\n",
       "            allowfullscreen\n",
       "        ></iframe>\n",
       "        </div></div><div class=\"flexed-container flexed-column\"><div class=\"flexed-item\" style=\"order: 0;\">\n",
       "        <iframe\n",
       "            width=\"500\"\n",
       "            height=\"450\"\n",
       "            src=\"https://nbviewer.jupyter.org/github/deathbeds/deathbeds.github.io/tree/master/deathbeds/\"\n",
       "            frameborder=\"0\"\n",
       "            allowfullscreen\n",
       "        ></iframe>\n",
       "        </div><div class=\"flexed-item\" style=\"order: 0;\"><h1>hosted on <a href=\"https://nbviewer.jupyter.org\"><code>nbviewer</code></a></h1>\n",
       "</div></div></div>"
      ],
      "text/plain": [
       "Row(content=[['# `deathbeds` blog', {'html': 'https://nbviewer.jupyter.org/github/deathbeds/deathbeds.github.io/blob/master/readme.ipynb?flush_cache=true'}], [{'html': 'https://nbviewer.jupyter.org/github/deathbeds/deathbeds.github.io/tree/master/deathbeds/'}, '# hosted on [`nbviewer`](https://nbviewer.jupyter.org)']])"
      ]
     },
     "metadata": {},
     "output_type": "display_data"
    }
   ],
   "source": [
    "    F\"\"\"\n",
    "    - - \"# `deathbeds` blog\"\n",
    "      - html: https://nbviewer.jupyter.org/github/deathbeds/deathbeds.github.io/blob/master/readme.ipynb?flush_cache=true\n",
    "    - - html: https://nbviewer.jupyter.org/github/deathbeds/deathbeds.github.io/tree/master/deathbeds/\n",
    "      - \"# hosted on [`nbviewer`](https://nbviewer.jupyter.org)\"\n",
    "    \"\"\""
   ]
  },
  {
   "cell_type": "markdown",
   "metadata": {},
   "source": [
    "# [Reincarnation of a notebook](https://conferences.oreilly.com/jupyter/jup-ny/public/schedule/detail/68439)\n",
    "\n",
    ">> 1:50pm–2:30pm Thursday, August 23, 2018 @ [JupyterCon](https://conferences.oreilly.com/jupyter/jup-ny)\n",
    "\n",
    "> presented by [__deathbeds__](https://github.com/deathbeds)\n",
    "\n",
    "To its author, a single Jupyter Notebook can represent a narrative, a program, or data. While this dynamic, interactive state of an editing session is fleeting, the work represented lies dormant, waiting to be unlocked. Confounding the rediscovery and reuse of notebooks are technical issues, some of which can be solved at the language-agnostic Jupyter level, while others are deeply embedded in the quirks of a particular kernel or language. At the human-machine interface, nontechnical issues arise, requiring style conventions and best practices to create literate notebooks for others.\n",
    "\n",
    "Tony Fast and Nick Bollweg explore conventions that create notebooks with value long past their inception as documents, software packages, test suites, and interactive applications. You’ll learn how to transform various passive states of notebooks and discover how core Jupyter technologies integrate into the larger scientific computing ecosystem to create readable, reusable, reproducible, and recyclable computable documents."
   ]
  },
  {
   "cell_type": "markdown",
   "metadata": {},
   "source": [
    "# [The Death of Notebooks](./1_the_death_of_notebooks.ipynb)"
   ]
  },
  {
   "cell_type": "markdown",
   "metadata": {},
   "source": [
    "# [The Life of Notebooks](./1_the_life_of_notebooks.ipynb)"
   ]
  }
 ],
 "metadata": {
  "kernelspec": {
   "display_name": "Python 3",
   "language": "python",
   "name": "python3"
  },
  "language_info": {
   "codemirror_mode": {
    "name": "ipython",
    "version": 3
   },
   "file_extension": ".py",
   "mimetype": "text/x-python",
   "name": "python",
   "nbconvert_exporter": "python",
   "pygments_lexer": "ipython3",
   "version": "3.6.6"
  }
 },
 "nbformat": 4,
 "nbformat_minor": 2
}
