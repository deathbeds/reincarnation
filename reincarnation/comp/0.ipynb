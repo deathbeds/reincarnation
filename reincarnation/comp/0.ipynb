{
 "cells": [
  {
   "cell_type": "markdown",
   "metadata": {},
   "source": [
    "# [0](0.ipynb)\n",
    "\n",
    "At deathbeds we use notebooks everyday.  Our notebooks are computational essays that are human and computer readable.  In this section of the presentation, we imagine the significance of Jupyter to its future users and how notebooks provide the basis for modern literacies.\n",
    "\n",
    "    >>> from reincarnation.comp import __0"
   ]
  },
  {
   "cell_type": "code",
   "execution_count": 1,
   "metadata": {},
   "outputs": [
    {
     "data": {
      "text/html": [
       "<style>\n",
       ".jp-mod-presentationMode {\n",
       "    --jp-notebook-padding: 0;\n",
       "}\n",
       ".jp-RenderedHTMLCommon pre code {\n",
       "    opacity: 0.25;\n",
       "}\n",
       ".jp-Placeholder-content .jp-MoreHorizIcon {\n",
       "    background-size: 32px;\n",
       "}\n",
       "</style><style>\n",
       ".jp-mod-presentationMode .jp-SideBar,\n",
       ".jp-mod-presentationMode #jp-top-panel {\n",
       "    opacity: 0.0;\n",
       "    transition: all 0.2s;\n",
       "}\n",
       ".jp-mod-presentationMode .jp-SideBar:hover,\n",
       ".jp-mod-presentationMode #jp-top-panel:hover {\n",
       "    opacity: 0.9;\n",
       "    transition: all 0.2s;\n",
       "}</style><style>\n",
       ".jp-mod-presentationMode.jp-ApplicationShell,\n",
       ".jp-mod-presentationMode .p-TabBar-content{\n",
       "    background-color: var(--jp-layout-color0);\n",
       "}\n",
       "</style><style>\n",
       ".jp-mod-presentationMode .p-DockPanel-widget,\n",
       ".jp-mod-presentationMode #jp-left-stack{\n",
       "    border-color: transparent;\n",
       "}\n",
       ".jp-mod-presentationMode .jp-Toolbar-item,\n",
       ".jp-mod-presentationMode .jp-Toolbar {\n",
       "    opacity: 0.1;\n",
       "    transition: all 0.2s;\n",
       "}\n",
       ".jp-mod-presentationMode .jp-Toolbar-item:hover,\n",
       ".jp-mod-presentationMode .jp-Toolbar:hover {\n",
       "    opacity: 0.9;\n",
       "    transition: all 0.2s;\n",
       "}\n",
       "\n",
       ".jp-mod-presentationMode .jp-InputArea {\n",
       "    flex-direction: column;\n",
       "}\n",
       "\n",
       "</style><style>\n",
       ".jp-mod-presentationMode .jp-Notebook .jp-Cell .jp-InputPrompt, \n",
       ".jp-mod-presentationMode .jp-Notebook .jp-Cell .jp-OutputPrompt {\n",
       "    flex: 0 0 2rem !important;\n",
       "    opacity: 0;\n",
       "}\n",
       ".jp-mod-presentationMode .jp-Notebook .jp-Cell.jp-mod-active .jp-OutputPrompt,\n",
       ".jp-mod-presentationMode .jp-Notebook .jp-Cell.jp-mod-active .jp-OutputPrompt {\n",
       "    opacity: 0.5;\n",
       "}\n",
       ".jp-mod-presentationMode .jp-Notebook .jp-Cell .jp-InputPrompt, \n",
       ".jp-mod-presentationMode .jp-Notebook .jp-Cell .jp-OutputPrompt\n",
       "\n",
       ".jp-mod-presentationMode hr {\n",
       "    opacity: 0.1;\n",
       "}\n",
       "</style>\n",
       "    <style>\n",
       "    .jp-TableOfContents-content h1, \n",
       "    .jp-TableOfContents-content h2 {\n",
       "        margin-bottom: var(--jp-ui-font-size0);\n",
       "    }\n",
       "    </style>\n",
       "    \n",
       "    <style>\n",
       "    .jp-mod-presentationMode {\n",
       "        --jp-content-heading-line-height: 1.25 !important;\n",
       "    }\n",
       "    </style>\n",
       "    "
      ],
      "text/plain": [
       "<IPython.core.display.HTML object>"
      ]
     },
     "metadata": {},
     "output_type": "display_data"
    },
    {
     "data": {
      "text/html": [
       "\n",
       "<style>\n",
       ".flexed-container {display: flex; margin: 1em}\n",
       ".flexed-container.flexed-row {flex-direction: row;}\n",
       ".flexed-container.flexed-column {flex-direction: column;}\n",
       ".flexed-container iframe {min-width: 350px;}\n",
       ".flexed-item {order: 0; margin: !em}\n",
       "</style>"
      ],
      "text/plain": [
       "<IPython.core.display.HTML object>"
      ]
     },
     "metadata": {},
     "output_type": "display_data"
    }
   ],
   "source": [
    "%reload_ext reincarnation\n",
    "from poser import λ"
   ]
  },
  {
   "cell_type": "markdown",
   "metadata": {},
   "source": [
    "# Congrat - u - **frigging** - lations Project Jupyter on the ACM award"
   ]
  },
  {
   "cell_type": "code",
   "execution_count": 2,
   "metadata": {},
   "outputs": [
    {
     "data": {
      "text/html": [
       "<div>\n",
       "<style scoped>\n",
       "    .dataframe tbody tr th:only-of-type {\n",
       "        vertical-align: middle;\n",
       "    }\n",
       "\n",
       "    .dataframe tbody tr th {\n",
       "        vertical-align: top;\n",
       "    }\n",
       "\n",
       "    .dataframe thead th {\n",
       "        text-align: right;\n",
       "    }\n",
       "</style>\n",
       "<table border=\"1\" class=\"dataframe\">\n",
       "  <thead>\n",
       "    <tr style=\"text-align: right;\">\n",
       "      <th></th>\n",
       "      <th>Project</th>\n",
       "      <th>Recipients</th>\n",
       "    </tr>\n",
       "    <tr>\n",
       "      <th>Year</th>\n",
       "      <th></th>\n",
       "      <th></th>\n",
       "    </tr>\n",
       "  </thead>\n",
       "  <tbody>\n",
       "    <tr>\n",
       "      <th>2017</th>\n",
       "      <td>Project Jupyter</td>\n",
       "      <td>Fernando Pérez, Brian E. Granger, Min Ragan-Kelley, Paul Ivanov, Thomas Kluyver, Jason Grout, Matthias Bussonnier, Damián Avila, Steven Silvester, Jonathan Frederic, Kyle Kelley, Jessica Hamrick, Carol Willing, Sylvain Corlay, Peter Parente</td>\n",
       "    </tr>\n",
       "    <tr>\n",
       "      <th>2016</th>\n",
       "      <td>Andrew File System</td>\n",
       "      <td>John H. Howard, Michael L. Kazar, David A. Nichols, Sherri Nichols, Mahadev Satyanarayanan, Robert N. Sidebotham, Alfred Spector, Michael West</td>\n",
       "    </tr>\n",
       "    <tr>\n",
       "      <th>2015</th>\n",
       "      <td>GCC</td>\n",
       "      <td>Richard Stallman</td>\n",
       "    </tr>\n",
       "    <tr>\n",
       "      <th>2014</th>\n",
       "      <td>Mach</td>\n",
       "      <td>Rick Rashid, Avie Tevanian</td>\n",
       "    </tr>\n",
       "    <tr>\n",
       "      <th>2013</th>\n",
       "      <td>Coq</td>\n",
       "      <td>Thierry Coquand, Gérard Pierre Huet, Christine Paulin-Mohring, Bruno Barras, Jean-Christophe Filliâtre, Hugo Herbelin, Chetan Murthy, Yves Bertot and Pierre Castéran</td>\n",
       "    </tr>\n",
       "    <tr>\n",
       "      <th>2012</th>\n",
       "      <td>LLVM</td>\n",
       "      <td>Vikram S. Adve, Evan Cheng and Chris Lattner</td>\n",
       "    </tr>\n",
       "    <tr>\n",
       "      <th>2011</th>\n",
       "      <td>Eclipse</td>\n",
       "      <td>John Wiegand, Dave Thomson, Gregory Adams, Philippe Mulet, Julian Jones, John Duimovich, Kevin Haaland, Stephen Northover, and Erich Gamma</td>\n",
       "    </tr>\n",
       "    <tr>\n",
       "      <th>2010</th>\n",
       "      <td>GroupLens Collaborative Filtering Recommender Systems</td>\n",
       "      <td>Peter Bergstrom, Lee R. Gordon, Jonathan L. Herlocker, Neophytos Iacovou, Joseph A. Konstan, Shyong (Tony) K. Lam, David Maltz, Sean M. McNee, Bradley N. Miller, Paul J. Resnick, John T. Riedl, Mitesh Suchak</td>\n",
       "    </tr>\n",
       "    <tr>\n",
       "      <th>2009</th>\n",
       "      <td>VMware Workstation for Linux 1.0</td>\n",
       "      <td>Edouard Bugnion, Scott Devine, Mendel Rosenblum, Jeremy Sugerman, Edward Y. Wang</td>\n",
       "    </tr>\n",
       "    <tr>\n",
       "      <th>2008</th>\n",
       "      <td>Gamma Parallel Database System</td>\n",
       "      <td>David DeWitt, Robert Gerber, Murali Krishna, Donovan Schneider, Shahram Ghandeharizadeh, Goetz Graefe, Michael Heytens, Hui-I Hsiao, Jeffrey Naughton, Anoop Sharma</td>\n",
       "    </tr>\n",
       "    <tr>\n",
       "      <th>2007</th>\n",
       "      <td>Statemate</td>\n",
       "      <td>David Harel, Hagi Lachover, Amnon Naamad, Amir Pnueli, Michal Politi, Rivi Sherman, Mark Trakhtenbrot, Aron Trauring</td>\n",
       "    </tr>\n",
       "    <tr>\n",
       "      <th>2006</th>\n",
       "      <td>Eiffel[2]</td>\n",
       "      <td>Bertrand Meyer</td>\n",
       "    </tr>\n",
       "    <tr>\n",
       "      <th>2005</th>\n",
       "      <td>The Boyer-Moore Theorem Prover</td>\n",
       "      <td>Robert S. Boyer, Matt Kaufmann, J Strother Moore</td>\n",
       "    </tr>\n",
       "    <tr>\n",
       "      <th>2004</th>\n",
       "      <td>Secure Network Programming</td>\n",
       "      <td>Raghuram Bindignavle, Simon S. Lam, Shaowen Su, Thomas Y. C. Woo</td>\n",
       "    </tr>\n",
       "    <tr>\n",
       "      <th>2003</th>\n",
       "      <td>make</td>\n",
       "      <td>Stuart Feldman</td>\n",
       "    </tr>\n",
       "    <tr>\n",
       "      <th>2002</th>\n",
       "      <td>Java</td>\n",
       "      <td>James Gosling</td>\n",
       "    </tr>\n",
       "    <tr>\n",
       "      <th>2001</th>\n",
       "      <td>SPIN model checker</td>\n",
       "      <td>Gerard Holzmann</td>\n",
       "    </tr>\n",
       "    <tr>\n",
       "      <th>1999</th>\n",
       "      <td>The Apache Group</td>\n",
       "      <td>Brian Behlendorf, Roy Fielding, Rob Hartill, David Robinson, Cliff Skolnick, Randy Terbush, Robert S. Thau, Andrew Wilson</td>\n",
       "    </tr>\n",
       "    <tr>\n",
       "      <th>1998</th>\n",
       "      <td>S</td>\n",
       "      <td>John Chambers</td>\n",
       "    </tr>\n",
       "    <tr>\n",
       "      <th>1997</th>\n",
       "      <td>Tcl/Tk</td>\n",
       "      <td>John Ousterhout</td>\n",
       "    </tr>\n",
       "    <tr>\n",
       "      <th>1996</th>\n",
       "      <td>NCSA Mosaic</td>\n",
       "      <td>Marc Andreessen, Eric Bina</td>\n",
       "    </tr>\n",
       "    <tr>\n",
       "      <th>1995</th>\n",
       "      <td>World Wide Web</td>\n",
       "      <td>Tim Berners-Lee, Robert Cailliau</td>\n",
       "    </tr>\n",
       "    <tr>\n",
       "      <th>1994</th>\n",
       "      <td>Remote Procedure Call</td>\n",
       "      <td>Andrew Birrell, Bruce Nelson</td>\n",
       "    </tr>\n",
       "    <tr>\n",
       "      <th>1993</th>\n",
       "      <td>Sketchpad</td>\n",
       "      <td>Ivan Sutherland</td>\n",
       "    </tr>\n",
       "    <tr>\n",
       "      <th>1992</th>\n",
       "      <td>Interlisp</td>\n",
       "      <td>Daniel Bobrow, Richard R. Burton, L. Peter Deutsch, Ronald Kaplan, Larry Masinter, Warren Teitelman</td>\n",
       "    </tr>\n",
       "    <tr>\n",
       "      <th>1991</th>\n",
       "      <td>TCP/IP</td>\n",
       "      <td>Vinton G. Cerf, Robert E. Kahn</td>\n",
       "    </tr>\n",
       "    <tr>\n",
       "      <th>1990</th>\n",
       "      <td>NLS</td>\n",
       "      <td>Douglas C. Engelbart, William English, Jeff Rulifson</td>\n",
       "    </tr>\n",
       "    <tr>\n",
       "      <th>1989</th>\n",
       "      <td>PostScript[3]</td>\n",
       "      <td>Douglas K. Brotz, Charles M. Geschke, William H. Paxton, Edward A. Taft, John E. Warnock</td>\n",
       "    </tr>\n",
       "    <tr>\n",
       "      <th>1988</th>\n",
       "      <td>INGRES</td>\n",
       "      <td>Gerald Held, Michael Stonebraker, Eugene Wong</td>\n",
       "    </tr>\n",
       "    <tr>\n",
       "      <th>1988</th>\n",
       "      <td>System R</td>\n",
       "      <td>Donald Chamberlin, Jim Gray, Raymond Lorie, Gianfranco Putzolu, Patricia Selinger, Irving Traiger</td>\n",
       "    </tr>\n",
       "    <tr>\n",
       "      <th>1987</th>\n",
       "      <td>Smalltalk</td>\n",
       "      <td>Adele Goldberg, Daniel Henry Holmes Ingalls, Jr., Alan C. Kay</td>\n",
       "    </tr>\n",
       "    <tr>\n",
       "      <th>1986</th>\n",
       "      <td>TeX</td>\n",
       "      <td>Donald E. Knuth</td>\n",
       "    </tr>\n",
       "    <tr>\n",
       "      <th>1985</th>\n",
       "      <td>VisiCalc</td>\n",
       "      <td>Dan Bricklin, Bob Frankston</td>\n",
       "    </tr>\n",
       "    <tr>\n",
       "      <th>1984</th>\n",
       "      <td>Xerox Alto</td>\n",
       "      <td>Butler W. Lampson, Robert Taylor, Charles P. Thacker</td>\n",
       "    </tr>\n",
       "    <tr>\n",
       "      <th>1983</th>\n",
       "      <td>UNIX</td>\n",
       "      <td>Dennis Ritchie, Ken Thompson</td>\n",
       "    </tr>\n",
       "  </tbody>\n",
       "</table>\n",
       "</div>"
      ],
      "text/plain": [
       "                                                    Project  \\\n",
       "Year                                                          \n",
       "2017  Project Jupyter                                         \n",
       "2016  Andrew File System                                      \n",
       "2015  GCC                                                     \n",
       "2014  Mach                                                    \n",
       "2013  Coq                                                     \n",
       "2012  LLVM                                                    \n",
       "2011  Eclipse                                                 \n",
       "2010  GroupLens Collaborative Filtering Recommender Systems   \n",
       "2009  VMware Workstation for Linux 1.0                        \n",
       "2008  Gamma Parallel Database System                          \n",
       "2007  Statemate                                               \n",
       "2006  Eiffel[2]                                               \n",
       "2005  The Boyer-Moore Theorem Prover                          \n",
       "2004  Secure Network Programming                              \n",
       "2003  make                                                    \n",
       "2002  Java                                                    \n",
       "2001  SPIN model checker                                      \n",
       "1999  The Apache Group                                        \n",
       "1998  S                                                       \n",
       "1997  Tcl/Tk                                                  \n",
       "1996  NCSA Mosaic                                             \n",
       "1995  World Wide Web                                          \n",
       "1994  Remote Procedure Call                                   \n",
       "1993  Sketchpad                                               \n",
       "1992  Interlisp                                               \n",
       "1991  TCP/IP                                                  \n",
       "1990  NLS                                                     \n",
       "1989  PostScript[3]                                           \n",
       "1988  INGRES                                                  \n",
       "1988  System R                                                \n",
       "1987  Smalltalk                                               \n",
       "1986  TeX                                                     \n",
       "1985  VisiCalc                                                \n",
       "1984  Xerox Alto                                              \n",
       "1983  UNIX                                                    \n",
       "\n",
       "                                                                                                                                                                                                                                            Recipients  \n",
       "Year                                                                                                                                                                                                                                                    \n",
       "2017  Fernando Pérez, Brian E. Granger, Min Ragan-Kelley, Paul Ivanov, Thomas Kluyver, Jason Grout, Matthias Bussonnier, Damián Avila, Steven Silvester, Jonathan Frederic, Kyle Kelley, Jessica Hamrick, Carol Willing, Sylvain Corlay, Peter Parente  \n",
       "2016  John H. Howard, Michael L. Kazar, David A. Nichols, Sherri Nichols, Mahadev Satyanarayanan, Robert N. Sidebotham, Alfred Spector, Michael West                                                                                                    \n",
       "2015  Richard Stallman                                                                                                                                                                                                                                  \n",
       "2014  Rick Rashid, Avie Tevanian                                                                                                                                                                                                                        \n",
       "2013  Thierry Coquand, Gérard Pierre Huet, Christine Paulin-Mohring, Bruno Barras, Jean-Christophe Filliâtre, Hugo Herbelin, Chetan Murthy, Yves Bertot and Pierre Castéran                                                                             \n",
       "2012  Vikram S. Adve, Evan Cheng and Chris Lattner                                                                                                                                                                                                      \n",
       "2011  John Wiegand, Dave Thomson, Gregory Adams, Philippe Mulet, Julian Jones, John Duimovich, Kevin Haaland, Stephen Northover, and Erich Gamma                                                                                                        \n",
       "2010  Peter Bergstrom, Lee R. Gordon, Jonathan L. Herlocker, Neophytos Iacovou, Joseph A. Konstan, Shyong (Tony) K. Lam, David Maltz, Sean M. McNee, Bradley N. Miller, Paul J. Resnick, John T. Riedl, Mitesh Suchak                                   \n",
       "2009  Edouard Bugnion, Scott Devine, Mendel Rosenblum, Jeremy Sugerman, Edward Y. Wang                                                                                                                                                                  \n",
       "2008  David DeWitt, Robert Gerber, Murali Krishna, Donovan Schneider, Shahram Ghandeharizadeh, Goetz Graefe, Michael Heytens, Hui-I Hsiao, Jeffrey Naughton, Anoop Sharma                                                                               \n",
       "2007  David Harel, Hagi Lachover, Amnon Naamad, Amir Pnueli, Michal Politi, Rivi Sherman, Mark Trakhtenbrot, Aron Trauring                                                                                                                              \n",
       "2006  Bertrand Meyer                                                                                                                                                                                                                                    \n",
       "2005  Robert S. Boyer, Matt Kaufmann, J Strother Moore                                                                                                                                                                                                  \n",
       "2004  Raghuram Bindignavle, Simon S. Lam, Shaowen Su, Thomas Y. C. Woo                                                                                                                                                                                  \n",
       "2003  Stuart Feldman                                                                                                                                                                                                                                    \n",
       "2002  James Gosling                                                                                                                                                                                                                                     \n",
       "2001  Gerard Holzmann                                                                                                                                                                                                                                   \n",
       "1999  Brian Behlendorf, Roy Fielding, Rob Hartill, David Robinson, Cliff Skolnick, Randy Terbush, Robert S. Thau, Andrew Wilson                                                                                                                         \n",
       "1998  John Chambers                                                                                                                                                                                                                                     \n",
       "1997  John Ousterhout                                                                                                                                                                                                                                   \n",
       "1996  Marc Andreessen, Eric Bina                                                                                                                                                                                                                        \n",
       "1995  Tim Berners-Lee, Robert Cailliau                                                                                                                                                                                                                  \n",
       "1994  Andrew Birrell, Bruce Nelson                                                                                                                                                                                                                      \n",
       "1993  Ivan Sutherland                                                                                                                                                                                                                                   \n",
       "1992  Daniel Bobrow, Richard R. Burton, L. Peter Deutsch, Ronald Kaplan, Larry Masinter, Warren Teitelman                                                                                                                                               \n",
       "1991  Vinton G. Cerf, Robert E. Kahn                                                                                                                                                                                                                    \n",
       "1990  Douglas C. Engelbart, William English, Jeff Rulifson                                                                                                                                                                                              \n",
       "1989  Douglas K. Brotz, Charles M. Geschke, William H. Paxton, Edward A. Taft, John E. Warnock                                                                                                                                                          \n",
       "1988  Gerald Held, Michael Stonebraker, Eugene Wong                                                                                                                                                                                                     \n",
       "1988  Donald Chamberlin, Jim Gray, Raymond Lorie, Gianfranco Putzolu, Patricia Selinger, Irving Traiger                                                                                                                                                 \n",
       "1987  Adele Goldberg, Daniel Henry Holmes Ingalls, Jr., Alan C. Kay                                                                                                                                                                                     \n",
       "1986  Donald E. Knuth                                                                                                                                                                                                                                   \n",
       "1985  Dan Bricklin, Bob Frankston                                                                                                                                                                                                                       \n",
       "1984  Butler W. Lampson, Robert Taylor, Charles P. Thacker                                                                                                                                                                                              \n",
       "1983  Dennis Ritchie, Ken Thompson                                                                                                                                                                                                                      "
      ]
     },
     "execution_count": 2,
     "metadata": {},
     "output_type": "execute_result"
    }
   ],
   "source": [
    "import pandas; pandas.set_option('display.max_colwidth', -1)\n",
    "acm_awards = pandas.read_html(\"\"\"https://en.wikipedia.org/wiki/ACM_Software_System_Award\"\"\")[0].pipe(\n",
    "    lambda df: df.rename(columns=dict(zip(range(len(df.columns)), df.iloc[0]))).iloc[1:]).set_index('Year')\n",
    "acm_awards"
   ]
  },
  {
   "cell_type": "markdown",
   "metadata": {},
   "source": [
    "# What does this mean for Project Jupyter's users?"
   ]
  },
  {
   "cell_type": "markdown",
   "metadata": {},
   "source": [
    "## Congrat - u - frigging - lations to y'all for having **great taste**\n",
    "\n",
    "* you made the right bet\n",
    "* we can hardly imagine the breadth of future users\n",
    "* Jupyter is poised to become a daily piece of ~~computing~~ ~~work~~ life\n",
    "* Think about ~~your~~ ~~our~~ the notebooks in the aggregate\n",
    "* Future users are going to want to do some weird stuff\n",
    "* JupyterHub will connect people to notebooks because they aren't computer people\n",
    "* Work processing, graphic design, data analysis"
   ]
  },
  {
   "cell_type": "markdown",
   "metadata": {},
   "source": [
    "> ## Thank you for make it possible to draw on a computer\n",
    "\n",
    "> Jupyter makes me feel like I am wizard reporter.  Matlab is for muggles."
   ]
  },
  {
   "cell_type": "code",
   "execution_count": 3,
   "metadata": {},
   "outputs": [
    {
     "data": {
      "text/html": [
       "<div class=\"flexed-container flexed-row\"><div class=\"flexed-item\" style=\"order: 0;\"><img src=\"https://images.immediate.co.uk/volatile/sites/3/2017/08/96588.gif\"/></div><div class=\"flexed-item\" style=\"order: 0;\"><img src=\"https://zippy.gfycat.com/CheerfulComplexButterfly.gif\"/></div></div>"
      ],
      "text/plain": [
       "Row(content=['https://images.immediate.co.uk/volatile/sites/3/2017/08/96588.gif', 'https://zippy.gfycat.com/CheerfulComplexButterfly.gif'])"
      ]
     },
     "metadata": {},
     "output_type": "display_data"
    }
   ],
   "source": [
    "\"\"\"\n",
    "- https://images.immediate.co.uk/volatile/sites/3/2017/08/96588.gif\n",
    "- https://zippy.gfycat.com/CheerfulComplexButterfly.gif\n",
    "\"\"\""
   ]
  },
  {
   "cell_type": "code",
   "execution_count": 15,
   "metadata": {},
   "outputs": [
    {
     "data": {
      "application/literallycanvas+json": "{\"colors\":{\"primary\":\"hsla(0, 0%, 0%, 1)\",\"secondary\":\"hsla(0, 0%, 100%, 1)\",\"background\":\"transparent\"},\"position\":{\"x\":0,\"y\":0},\"scale\":1,\"shapes\":[],\"backgroundShapes\":[],\"imageSize\":{\"width\":\"infinite\",\"height\":\"infinite\"}}"
     },
     "execution_count": 15,
     "metadata": {},
     "output_type": "execute_result"
    }
   ],
   "source": [
    "    %%🎮\n",
    "    from deathbeds.__Literally_canvas_data import LiterallyCanvas\n",
    "    LiterallyCanvas()"
   ]
  },
  {
   "cell_type": "markdown",
   "metadata": {},
   "source": [
    "# Github is a Graveyard    \n",
    "    "
   ]
  },
  {
   "cell_type": "code",
   "execution_count": 4,
   "metadata": {},
   "outputs": [],
   "source": [
    "    _nbestimate_ = \"\"\"http://nbviewer.jupyter.org/github/parente/nbestimate/blob/master/estimate.ipynb\"\"\""
   ]
  },
  {
   "cell_type": "code",
   "execution_count": 5,
   "metadata": {},
   "outputs": [
    {
     "data": {
      "text/html": [
       "<div class=\"flexed-container flexed-row\"><div class=\"flexed-item\" style=\"order: 0;\">\n",
       "        <iframe\n",
       "            width=\"500\"\n",
       "            height=\"450\"\n",
       "            src=\"http://nbviewer.jupyter.org/github/parente/nbestimate/blob/master/estimate.ipynb\"\n",
       "            frameborder=\"0\"\n",
       "            allowfullscreen\n",
       "        ></iframe>\n",
       "        </div><div class=\"flexed-item\" style=\"order: 0;\"><table border=\"1\" class=\"dataframe\">  <thead>    <tr>      <th></th>      <th>Unnamed: 0_level_0</th>      <th>hits</th>    </tr>    <tr>      <th></th>      <th>date</th>      <th>Unnamed: 1_level_1</th>    </tr>  </thead>  <tbody>    <tr>      <th>0</th>      <td>2018-07-29</td>      <td>2567227</td>    </tr>    <tr>      <th>1</th>      <td>2018-08-18</td>      <td>2660571</td>    </tr>    <tr>      <th>2</th>      <td>2018-08-22</td>      <td>2682877</td>    </tr>  </tbody></table></div></div>"
      ],
      "text/plain": [
       "Row(content=[{'html': 'http://nbviewer.jupyter.org/github/parente/nbestimate/blob/master/estimate.ipynb'}, '<table border=\"1\" class=\"dataframe\">  <thead>    <tr>      <th></th>      <th>Unnamed: 0_level_0</th>      <th>hits</th>    </tr>    <tr>      <th></th>      <th>date</th>      <th>Unnamed: 1_level_1</th>    </tr>  </thead>  <tbody>    <tr>      <th>0</th>      <td>2018-07-29</td>      <td>2567227</td>    </tr>    <tr>      <th>1</th>      <td>2018-08-18</td>      <td>2660571</td>    </tr>    <tr>      <th>2</th>      <td>2018-08-22</td>      <td>2682877</td>    </tr>  </tbody></table>\\n'])"
      ]
     },
     "metadata": {},
     "output_type": "display_data"
    }
   ],
   "source": [
    "    f\"\"\"- html: {_nbestimate_}\n",
    "    - |\n",
    "\n",
    "        {''.join(λ.pandas.read_html().first()(_nbestimate_).to_html().splitlines())}\n",
    "    \"\"\""
   ]
  },
  {
   "cell_type": "code",
   "execution_count": 6,
   "metadata": {},
   "outputs": [
    {
     "data": {
      "text/html": [
       "<div class=\"flexed-container flexed-row\"><div class=\"flexed-container flexed-column\"><div class=\"flexed-item\" style=\"order: 0;\"><h1>Exploration and Explanation in Computational Notebook</h1>\n",
       "</div><div class=\"flexed-item\" style=\"order: 0;\"><blockquote><p><em>This figure\n",
       "should be considered as a <strong>lower-bound</strong> as analysts may have\n",
       "done a <strong>clean run</strong> of their notebook <strong>before sharing</strong> it online.</em></p>\n",
       "</blockquote>\n",
       "</div></div><div class=\"flexed-container flexed-column\"><div class=\"flexed-item\" style=\"order: 0;\"><blockquote><p><em>Finally, the <strong>exploratory and iterative</strong> nature of data analysis is\n",
       "reflected in the fact that <strong>nearly half</strong> (43.9%) of notebooks were\n",
       "uploaded to GitHub with a <strong>non-linear execution</strong> order.</em></p>\n",
       "</blockquote>\n",
       "</div><div class=\"flexed-item\" style=\"order: 0;\">\n",
       "        <iframe\n",
       "            width=\"500\"\n",
       "            height=\"450\"\n",
       "            src=\"http://adamrule.com/files/papers/chi_2018_computational_notebooks_camera_ready.pdf#page=5\"\n",
       "            frameborder=\"0\"\n",
       "            allowfullscreen\n",
       "        ></iframe>\n",
       "        </div></div></div>"
      ],
      "text/plain": [
       "Row(content=[['# Exploration and Explanation in Computational Notebook', '> _This figure\\nshould be considered as a **lower-bound** as analysts may have\\ndone a **clean run** of their notebook **before sharing** it online._  \\n'], ['> _Finally, the **exploratory and iterative** nature of data analysis is\\nreflected in the fact that **nearly half** (43.9%) of notebooks were\\nuploaded to GitHub with a **non-linear execution** order._\\n', {'html': 'http://adamrule.com/files/papers/chi_2018_computational_notebooks_camera_ready.pdf#page=5'}]])"
      ]
     },
     "metadata": {},
     "output_type": "display_data"
    }
   ],
   "source": [
    "\"\"\"\n",
    "- - '# Exploration and Explanation in Computational Notebook'\n",
    "  - |\n",
    "    > _This figure\n",
    "    should be considered as a **lower-bound** as analysts may have\n",
    "    done a **clean run** of their notebook **before sharing** it online._  \n",
    "- - |\n",
    "    > _Finally, the **exploratory and iterative** nature of data analysis is\n",
    "    reflected in the fact that **nearly half** (43.9%) of notebooks were\n",
    "    uploaded to GitHub with a **non-linear execution** order._\n",
    "  - html: http://adamrule.com/files/papers/chi_2018_computational_notebooks_camera_ready.pdf#page=5\n",
    "\"\"\""
   ]
  },
  {
   "cell_type": "markdown",
   "metadata": {},
   "source": [
    "The 2016 Jupyter indicated that Jupyter was extending to more diverse applications in\n",
    "science, business, and the digital humanities.\n",
    "\n",
    "    "
   ]
  },
  {
   "cell_type": "code",
   "execution_count": 7,
   "metadata": {},
   "outputs": [
    {
     "data": {
      "text/html": [
       "<div>\n",
       "<style scoped>\n",
       "    .dataframe tbody tr th:only-of-type {\n",
       "        vertical-align: middle;\n",
       "    }\n",
       "\n",
       "    .dataframe tbody tr th {\n",
       "        vertical-align: top;\n",
       "    }\n",
       "\n",
       "    .dataframe thead th {\n",
       "        text-align: right;\n",
       "    }\n",
       "</style>\n",
       "<table border=\"1\" class=\"dataframe\">\n",
       "  <thead>\n",
       "    <tr style=\"text-align: right;\">\n",
       "      <th></th>\n",
       "      <th>counts</th>\n",
       "    </tr>\n",
       "  </thead>\n",
       "  <tbody>\n",
       "    <tr>\n",
       "      <th>Computer science</th>\n",
       "      <td>49</td>\n",
       "    </tr>\n",
       "    <tr>\n",
       "      <th>Data science</th>\n",
       "      <td>32</td>\n",
       "    </tr>\n",
       "    <tr>\n",
       "      <th>Physics</th>\n",
       "      <td>31</td>\n",
       "    </tr>\n",
       "    <tr>\n",
       "      <th>Biology</th>\n",
       "      <td>22</td>\n",
       "    </tr>\n",
       "    <tr>\n",
       "      <th>Mathematics</th>\n",
       "      <td>19</td>\n",
       "    </tr>\n",
       "    <tr>\n",
       "      <th>Statistics</th>\n",
       "      <td>17</td>\n",
       "    </tr>\n",
       "    <tr>\n",
       "      <th>Machine learning</th>\n",
       "      <td>13</td>\n",
       "    </tr>\n",
       "    <tr>\n",
       "      <th>Electrical engineering</th>\n",
       "      <td>9</td>\n",
       "    </tr>\n",
       "    <tr>\n",
       "      <th>Earth science</th>\n",
       "      <td>9</td>\n",
       "    </tr>\n",
       "    <tr>\n",
       "      <th>Chemistry</th>\n",
       "      <td>7</td>\n",
       "    </tr>\n",
       "    <tr>\n",
       "      <th>Mechanical engineering</th>\n",
       "      <td>6</td>\n",
       "    </tr>\n",
       "    <tr>\n",
       "      <th>Planetary/space science</th>\n",
       "      <td>6</td>\n",
       "    </tr>\n",
       "    <tr>\n",
       "      <th>Psychology</th>\n",
       "      <td>5</td>\n",
       "    </tr>\n",
       "    <tr>\n",
       "      <th>Economics</th>\n",
       "      <td>4</td>\n",
       "    </tr>\n",
       "    <tr>\n",
       "      <th>Literature</th>\n",
       "      <td>3</td>\n",
       "    </tr>\n",
       "    <tr>\n",
       "      <th>History</th>\n",
       "      <td>2</td>\n",
       "    </tr>\n",
       "    <tr>\n",
       "      <th>Sociology</th>\n",
       "      <td>2</td>\n",
       "    </tr>\n",
       "    <tr>\n",
       "      <th>Geography</th>\n",
       "      <td>2</td>\n",
       "    </tr>\n",
       "    <tr>\n",
       "      <th>Telecommunication</th>\n",
       "      <td>1</td>\n",
       "    </tr>\n",
       "    <tr>\n",
       "      <th>Linguistics</th>\n",
       "      <td>1</td>\n",
       "    </tr>\n",
       "    <tr>\n",
       "      <th>Artificial Intelligence</th>\n",
       "      <td>1</td>\n",
       "    </tr>\n",
       "    <tr>\n",
       "      <th>Finance</th>\n",
       "      <td>1</td>\n",
       "    </tr>\n",
       "    <tr>\n",
       "      <th>Robotics</th>\n",
       "      <td>1</td>\n",
       "    </tr>\n",
       "    <tr>\n",
       "      <th>Arts</th>\n",
       "      <td>1</td>\n",
       "    </tr>\n",
       "    <tr>\n",
       "      <th>Library science</th>\n",
       "      <td>1</td>\n",
       "    </tr>\n",
       "    <tr>\n",
       "      <th>General elementary data &amp; programming skills</th>\n",
       "      <td>1</td>\n",
       "    </tr>\n",
       "    <tr>\n",
       "      <th>Political science</th>\n",
       "      <td>1</td>\n",
       "    </tr>\n",
       "    <tr>\n",
       "      <th>Journalism</th>\n",
       "      <td>1</td>\n",
       "    </tr>\n",
       "    <tr>\n",
       "      <th>Environmental Science</th>\n",
       "      <td>1</td>\n",
       "    </tr>\n",
       "    <tr>\n",
       "      <th>Chemical and Biological Engineering</th>\n",
       "      <td>1</td>\n",
       "    </tr>\n",
       "    <tr>\n",
       "      <th>Medicine</th>\n",
       "      <td>1</td>\n",
       "    </tr>\n",
       "    <tr>\n",
       "      <th>Software Engineering</th>\n",
       "      <td>1</td>\n",
       "    </tr>\n",
       "    <tr>\n",
       "      <th>Civil Engineering</th>\n",
       "      <td>1</td>\n",
       "    </tr>\n",
       "    <tr>\n",
       "      <th>Chemical Engineering</th>\n",
       "      <td>1</td>\n",
       "    </tr>\n",
       "    <tr>\n",
       "      <th>astrophysics</th>\n",
       "      <td>1</td>\n",
       "    </tr>\n",
       "    <tr>\n",
       "      <th>Materials Engineering</th>\n",
       "      <td>1</td>\n",
       "    </tr>\n",
       "    <tr>\n",
       "      <th>Signal Processing</th>\n",
       "      <td>1</td>\n",
       "    </tr>\n",
       "  </tbody>\n",
       "</table>\n",
       "</div>"
      ],
      "text/plain": [
       "                                              counts\n",
       "Computer science                              49    \n",
       "Data science                                  32    \n",
       "Physics                                       31    \n",
       "Biology                                       22    \n",
       "Mathematics                                   19    \n",
       "Statistics                                    17    \n",
       "Machine learning                              13    \n",
       "Electrical engineering                        9     \n",
       "Earth science                                 9     \n",
       "Chemistry                                     7     \n",
       "Mechanical engineering                        6     \n",
       "Planetary/space science                       6     \n",
       "Psychology                                    5     \n",
       "Economics                                     4     \n",
       "Literature                                    3     \n",
       "History                                       2     \n",
       "Sociology                                     2     \n",
       "Geography                                     2     \n",
       "Telecommunication                             1     \n",
       "Linguistics                                   1     \n",
       "Artificial Intelligence                       1     \n",
       "Finance                                       1     \n",
       "Robotics                                      1     \n",
       "Arts                                          1     \n",
       "Library science                               1     \n",
       "General elementary data & programming skills  1     \n",
       "Political science                             1     \n",
       "Journalism                                    1     \n",
       "Environmental Science                         1     \n",
       "Chemical and Biological Engineering           1     \n",
       "Medicine                                      1     \n",
       "Software Engineering                          1     \n",
       "Civil Engineering                             1     \n",
       "Chemical Engineering                          1     \n",
       "astrophysics                                  1     \n",
       "Materials Engineering                         1     \n",
       "Signal Processing                             1     "
      ]
     },
     "execution_count": 7,
     "metadata": {},
     "output_type": "execute_result"
    }
   ],
   "source": [
    "    λ.pandas.read_csv(\"https://raw.githubusercontent.com/jupyter/surveys/master/surveys/2016-05-education-survey/responses.csv\")()['What field(s) is your course most related to?'].str.split(',', expand=True).unstack().dropna().reset_index(0, drop=True).apply(str.strip).value_counts().to_frame('counts')"
   ]
  },
  {
   "cell_type": "markdown",
   "metadata": {},
   "source": [
    "# Notebooks are being used in journalism"
   ]
  },
  {
   "cell_type": "code",
   "execution_count": 8,
   "metadata": {},
   "outputs": [
    {
     "data": {
      "text/html": [
       "<div class=\"flexed-container flexed-row\"><div class=\"flexed-container flexed-column\"><div class=\"flexed-item\" style=\"order: 0;\"><h2>In (Mainstream) Science Journalism</h2>\n",
       "</div><div class=\"flexed-item\" style=\"order: 0;\">\n",
       "        <iframe\n",
       "            width=\"500\"\n",
       "            height=\"450\"\n",
       "            src=\"http://nbviewer.jupyter.org/github/robertodealmeida/notebooks/blob/master/scientific_american/Scientific%20American%20graph.ipynb\"\n",
       "            frameborder=\"0\"\n",
       "            allowfullscreen\n",
       "        ></iframe>\n",
       "        </div></div><div class=\"flexed-container flexed-column\"><div class=\"flexed-item\" style=\"order: 0;\"><h2>IN SPAAACE</h2>\n",
       "</div><div class=\"flexed-item\" style=\"order: 0;\">\n",
       "        <iframe\n",
       "            width=\"500\"\n",
       "            height=\"450\"\n",
       "            src=\"http://nbviewer.jupyter.org/github/minrk/ligo-binder/blob/master/index.ipynb\"\n",
       "            frameborder=\"0\"\n",
       "            allowfullscreen\n",
       "        ></iframe>\n",
       "        </div></div></div>"
      ],
      "text/plain": [
       "Row(content=[['## In (Mainstream) Science Journalism\\n', {'text/html': 'http://nbviewer.jupyter.org/github/robertodealmeida/notebooks/blob/master/scientific_american/Scientific%20American%20graph.ipynb'}], ['## IN SPAAACE\\n', {'text/html': 'http://nbviewer.jupyter.org/github/minrk/ligo-binder/blob/master/index.ipynb'}]])"
      ]
     },
     "metadata": {},
     "output_type": "display_data"
    },
    {
     "data": {
      "text/html": [
       "\n",
       "        <iframe\n",
       "            width=\"100%\"\n",
       "            height=\"450\"\n",
       "            src=\"https://www.theatlantic.com/science/archive/2018/04/the-scientific-paper-is-obsolete/556676/\"\n",
       "            frameborder=\"0\"\n",
       "            allowfullscreen\n",
       "        ></iframe>\n",
       "        "
      ],
      "text/plain": [
       "<IPython.lib.display.IFrame at 0x1e3b7ce7438>"
      ]
     },
     "metadata": {},
     "output_type": "display_data"
    }
   ],
   "source": [
    "    \"\"\"\n",
    "    - - |\n",
    "        ## In (Mainstream) Science Journalism\n",
    "      - text/html: http://nbviewer.jupyter.org/github/robertodealmeida/notebooks/blob/master/scientific_american/Scientific%20American%20graph.ipynb\n",
    "    - - |\n",
    "        ## IN SPAAACE\n",
    "      - text/html: http://nbviewer.jupyter.org/github/minrk/ligo-binder/blob/master/index.ipynb\n",
    "    \"\"\"\n",
    "    \"\"\"https://www.theatlantic.com/science/archive/2018/04/the-scientific-paper-is-obsolete/556676/\"\"\""
   ]
  },
  {
   "cell_type": "code",
   "execution_count": 9,
   "metadata": {},
   "outputs": [
    {
     "data": {
      "text/html": [
       "<div class=\"flexed-container flexed-row\"><div class=\"flexed-item\" style=\"order: 0;\"><h1>It's clear that this is not by accident</h1>\n",
       "</div><div class=\"flexed-item\" style=\"order: 0;\"><p><img src=\"https://camo.githubusercontent.com/a8d4be63da2f73339f35839d4c006f080b13104a/68747470733a2f2f75706c6f61642e77696b696d656469612e6f72672f77696b6970656469612f636f6d6d6f6e732f342f34382f446174615f64726976656e5f6a6f75726e616c69736d5f70726f636573732e6a7067\" alt=\"\"></p>\n",
       "</div></div>"
      ],
      "text/plain": [
       "Row(content=[\"# It's clear that this is not by accident\\n\", '![](https://camo.githubusercontent.com/a8d4be63da2f73339f35839d4c006f080b13104a/68747470733a2f2f75706c6f61642e77696b696d656469612e6f72672f77696b6970656469612f636f6d6d6f6e732f342f34382f446174615f64726976656e5f6a6f75726e616c69736d5f70726f636573732e6a7067)'])"
      ]
     },
     "metadata": {},
     "output_type": "display_data"
    }
   ],
   "source": [
    "\"\"\"\n",
    "- |\n",
    "    # It's clear that this is not by accident\n",
    "- '![](https://camo.githubusercontent.com/a8d4be63da2f73339f35839d4c006f080b13104a/68747470733a2f2f75706c6f61642e77696b696d656469612e6f72672f77696b6970656469612f636f6d6d6f6e732f342f34382f446174615f64726976656e5f6a6f75726e616c69736d5f70726f636573732e6a7067)'\n",
    "\"\"\""
   ]
  },
  {
   "cell_type": "code",
   "execution_count": 10,
   "metadata": {},
   "outputs": [
    {
     "data": {
      "image/svg+xml": [
       "<?xml version=\"1.0\" encoding=\"UTF-8\" standalone=\"no\"?>\r\n",
       "<!DOCTYPE svg PUBLIC \"-//W3C//DTD SVG 1.1//EN\"\r\n",
       " \"http://www.w3.org/Graphics/SVG/1.1/DTD/svg11.dtd\">\r\n",
       "<!-- Generated by graphviz version 2.38.0 (20140413.2041)\r\n",
       " -->\r\n",
       "<!-- Title: %3 Pages: 1 -->\r\n",
       "<svg width=\"308pt\" height=\"67pt\"\r\n",
       " viewBox=\"0.00 0.00 308.18 67.00\" xmlns=\"http://www.w3.org/2000/svg\" xmlns:xlink=\"http://www.w3.org/1999/xlink\">\r\n",
       "<g id=\"graph0\" class=\"graph\" transform=\"scale(1 1) rotate(0) translate(4 63)\">\r\n",
       "<title>%3</title>\r\n",
       "<polygon fill=\"white\" stroke=\"none\" points=\"-4,4 -4,-63 304.185,-63 304.185,4 -4,4\"/>\r\n",
       "<!-- data -->\r\n",
       "<g id=\"node1\" class=\"node\"><title>data</title>\r\n",
       "<ellipse fill=\"none\" stroke=\"black\" cx=\"27\" cy=\"-18\" rx=\"27\" ry=\"18\"/>\r\n",
       "<text text-anchor=\"middle\" x=\"27\" y=\"-14.3\" font-family=\"Times New Roman,serif\" font-size=\"14.00\">data</text>\r\n",
       "</g>\r\n",
       "<!-- science -->\r\n",
       "<g id=\"node2\" class=\"node\"><title>science</title>\r\n",
       "<ellipse fill=\"none\" stroke=\"black\" cx=\"127.697\" cy=\"-41\" rx=\"37.8943\" ry=\"18\"/>\r\n",
       "<text text-anchor=\"middle\" x=\"127.697\" y=\"-37.3\" font-family=\"Times New Roman,serif\" font-size=\"14.00\">science</text>\r\n",
       "</g>\r\n",
       "<!-- data&#45;&#45;science -->\r\n",
       "<g id=\"edge1\" class=\"edge\"><title>data&#45;&#45;science</title>\r\n",
       "<path fill=\"none\" stroke=\"black\" d=\"M52.6507,-23.7445C64.9835,-26.6185 80.0891,-30.1387 93.433,-33.2483\"/>\r\n",
       "</g>\r\n",
       "<!-- computing -->\r\n",
       "<g id=\"node3\" class=\"node\"><title>computing</title>\r\n",
       "<ellipse fill=\"none\" stroke=\"black\" cx=\"250.789\" cy=\"-18\" rx=\"49.2915\" ry=\"18\"/>\r\n",
       "<text text-anchor=\"middle\" x=\"250.789\" y=\"-14.3\" font-family=\"Times New Roman,serif\" font-size=\"14.00\">computing</text>\r\n",
       "</g>\r\n",
       "<!-- science&#45;&#45;computing -->\r\n",
       "<g id=\"edge2\" class=\"edge\"><title>science&#45;&#45;computing</title>\r\n",
       "<path fill=\"none\" stroke=\"black\" d=\"M163.073,-34.4706C176.638,-31.8942 192.373,-28.9055 206.686,-26.1869\"/>\r\n",
       "</g>\r\n",
       "<!-- computing&#45;&#45;data -->\r\n",
       "<g id=\"edge3\" class=\"edge\"><title>computing&#45;&#45;data</title>\r\n",
       "<path fill=\"none\" stroke=\"black\" d=\"M201.602,-15.3217C189.766,-14.7727 177.125,-14.2779 165.393,-14 131.895,-13.2066 123.491,-12.9208 90,-14 78.1413,-14.3821 65.0265,-15.1744 53.9246,-15.9538\"/>\r\n",
       "</g>\r\n",
       "</g>\r\n",
       "</svg>\r\n"
      ],
      "text/plain": [
       "<graphviz.files.Source at 0x1e3bc0e2f60>"
      ]
     },
     "metadata": {},
     "output_type": "display_data"
    },
    {
     "data": {
      "text/html": [
       "<div class=\"flexed-container flexed-row\"><div class=\"flexed-item\" style=\"order: 0;\"><h4><a href=\"\">\"Literate computing\" and computational reproducibility: IPython in the age of data-driven journalism</a></h4>\n",
       "<blockquote><p>Our job with Jupyter<del>IPython</del> is to think deeply about questions regarding the intersection of <em><strong>computing, data and science</strong></em>, but it's clear \n",
       "to me at this point that we can contribute in contexts beyond pure scientific research. I hope we'll be able to provide folks who have \n",
       "a <em><strong>direct intersection with the public</strong></em>, such as journalists, with tools that help a more informed and productive debate.</p>\n",
       "</blockquote>\n",
       "</div></div>"
      ],
      "text/plain": [
       "Row(content=['#### [\"Literate computing\" and computational reproducibility: IPython in the age of data-driven journalism]()\\n> Our job with Jupyter~~IPython~~ is to think deeply about questions regarding the intersection of _**computing, data and science**_, but it\\'s clear \\nto me at this point that we can contribute in contexts beyond pure scientific research. I hope we\\'ll be able to provide folks who have \\na _**direct intersection with the public**_, such as journalists, with tools that help a more informed and productive debate.\\n'])"
      ]
     },
     "metadata": {},
     "output_type": "display_data"
    },
    {
     "data": {
      "text/html": [
       "\n",
       "        <iframe\n",
       "            width=\"100%\"\n",
       "            height=\"450\"\n",
       "            src=\"http://blog.fperez.org/2013/04/literate-computing-and-computational.html\"\n",
       "            frameborder=\"0\"\n",
       "            allowfullscreen\n",
       "        ></iframe>\n",
       "        "
      ],
      "text/plain": [
       "<IPython.lib.display.IFrame at 0x1e3bc0e2f60>"
      ]
     },
     "metadata": {},
     "output_type": "display_data"
    },
    {
     "data": {
      "text/html": [
       "<div class=\"flexed-container flexed-row\"><div class=\"flexed-item\" style=\"order: 0;\"><blockquote><p>As Hamming famously said in 1962, \"The purpose of computing is insight, not numbers.\".</p>\n",
       "</blockquote>\n",
       "</div></div>"
      ],
      "text/plain": [
       "Row(content=['> As Hamming famously said in 1962, \"The purpose of computing is insight, not numbers.\". '])"
      ]
     },
     "metadata": {},
     "output_type": "display_data"
    }
   ],
   "source": [
    "\"\"\"graph {rankdir=LR data--science--computing--data}\"\"\"\n",
    "\"\"\"\n",
    "- |\n",
    "    #### [\"Literate computing\" and computational reproducibility: IPython in the age of data-driven journalism]()\n",
    "    > Our job with Jupyter~~IPython~~ is to think deeply about questions regarding the intersection of _**computing, data and science**_, but it's clear \n",
    "    to me at this point that we can contribute in contexts beyond pure scientific research. I hope we'll be able to provide folks who have \n",
    "    a _**direct intersection with the public**_, such as journalists, with tools that help a more informed and productive debate.\n",
    "\"\"\" \n",
    "\"\"\"http://blog.fperez.org/2013/04/literate-computing-and-computational.html\"\"\"\n",
    "\"\"\"- >\n",
    "    > As Hamming famously said in 1962, \"The purpose of computing is insight, not numbers.\". \"\"\""
   ]
  },
  {
   "cell_type": "markdown",
   "metadata": {},
   "source": [
    "# Deathbeds is our collaboration\n",
    "\n",
    "We apply literate programming and testing idioms to craft unique interactive computing experiences in notebooks.  We draw with code."
   ]
  },
  {
   "cell_type": "code",
   "execution_count": 11,
   "metadata": {},
   "outputs": [
    {
     "data": {
      "text/html": [
       "<div class=\"flexed-container flexed-row\"><div class=\"flexed-container flexed-column\"><div class=\"flexed-item\" style=\"order: 0;\"><h1>Notebooks are a basis for creativity in modern literacies</h1>\n",
       "</div></div><div class=\"flexed-container flexed-column\"><div class=\"flexed-item\" style=\"order: 0;\"><h1>Real data is <del>informing</del> informed by human design.</h1>\n",
       "</div></div></div>"
      ],
      "text/plain": [
       "Row(content=[['# Notebooks are a basis for creativity in modern literacies\\n'], ['# Real data is ~~informing~~ informed by human design.']])"
      ]
     },
     "metadata": {},
     "output_type": "display_data"
    }
   ],
   "source": [
    "\"\"\"- - |\n",
    "    # Notebooks are a basis for creativity in modern literacies\n",
    "- - |\n",
    "    # Real data is ~~informing~~ informed by human design.\"\"\""
   ]
  },
  {
   "cell_type": "markdown",
   "metadata": {},
   "source": [
    "## Our ideas in notebook are iterable and reusable."
   ]
  },
  {
   "cell_type": "markdown",
   "metadata": {},
   "source": [
    "    %%🎮\n",
    "    %%capture\n",
    "    from reincarnation.comp import __0 as zero\n",
    "    "
   ]
  },
  {
   "cell_type": "markdown",
   "metadata": {},
   "source": [
    "    %%🎮\n",
    "    import deathbeds\n",
    "    deathbeds.__blacken_the_interactive_black_formatter, deathbeds.__Emojis_in_code_cells, deathbeds.__HTML_Flexbox"
   ]
  },
  {
   "cell_type": "markdown",
   "metadata": {},
   "source": [
    "## Some of our creative inspirations"
   ]
  },
  {
   "cell_type": "code",
   "execution_count": 12,
   "metadata": {},
   "outputs": [
    {
     "data": {
      "text/html": [
       "<div class=\"flexed-container flexed-row\"><div class=\"flexed-container flexed-column\"><div class=\"flexed-item\" style=\"order: 0;\"><h2>Brett Victor &amp; Dynamicland</h2>\n",
       "</div><div class=\"flexed-item\" style=\"order: 0;\">\n",
       "        <iframe\n",
       "            width=\"500\"\n",
       "            height=\"450\"\n",
       "            src=\"http://worrydream.com/Tangle/\"\n",
       "            frameborder=\"0\"\n",
       "            allowfullscreen\n",
       "        ></iframe>\n",
       "        </div><div class=\"flexed-item\" style=\"order: 0;\">\n",
       "        <iframe\n",
       "            width=\"500\"\n",
       "            height=\"450\"\n",
       "            src=\"https://rsnous.com/posts/notes-from-dynamicland-geokit/#all-the-parts\"\n",
       "            frameborder=\"0\"\n",
       "            allowfullscreen\n",
       "        ></iframe>\n",
       "        </div></div><div class=\"flexed-container flexed-column\"><div class=\"flexed-item\" style=\"order: 0;\"><h2>Interactive Education</h2>\n",
       "</div><div class=\"flexed-item\" style=\"order: 0;\">\n",
       "        <iframe\n",
       "            width=\"500\"\n",
       "            height=\"450\"\n",
       "            src=\"https://idyll-lang.org/gallery/how-to-tune-a-guitar\"\n",
       "            frameborder=\"0\"\n",
       "            allowfullscreen\n",
       "        ></iframe>\n",
       "        </div></div><div class=\"flexed-container flexed-column\"><div class=\"flexed-item\" style=\"order: 0;\"><h2>P<strong>articles</strong> (New York Times)</h2>\n",
       "</div><div class=\"flexed-item\" style=\"order: 0;\">\n",
       "        <iframe\n",
       "            width=\"500\"\n",
       "            height=\"450\"\n",
       "            src=\"http://nytlabs.com/blog/2015/10/20/particles/\"\n",
       "            frameborder=\"0\"\n",
       "            allowfullscreen\n",
       "        ></iframe>\n",
       "        </div></div><div class=\"flexed-container flexed-column\"><div class=\"flexed-item\" style=\"order: 0;\"><h2>Rune Madsen</h2>\n",
       "</div><div class=\"flexed-item\" style=\"order: 0;\">\n",
       "        <iframe\n",
       "            width=\"500\"\n",
       "            height=\"450\"\n",
       "            src=\"http://printingcode.runemadsen.com/lecture-color/\"\n",
       "            frameborder=\"0\"\n",
       "            allowfullscreen\n",
       "        ></iframe>\n",
       "        </div></div><div class=\"flexed-container flexed-column\"><div class=\"flexed-item\" style=\"order: 0;\"><h2>The Bauhaus</h2>\n",
       "</div><div class=\"flexed-item\" style=\"order: 0;\">\n",
       "        <iframe\n",
       "            width=\"500\"\n",
       "            height=\"450\"\n",
       "            src=\"https://www.theartstory.org/movement-bauhaus.htm#key_ideas_header\"\n",
       "            frameborder=\"0\"\n",
       "            allowfullscreen\n",
       "        ></iframe>\n",
       "        </div></div></div>"
      ],
      "text/plain": [
       "Row(content=[['## Brett Victor & Dynamicland', {'html': 'http://worrydream.com/Tangle/'}, {'html': 'https://rsnous.com/posts/notes-from-dynamicland-geokit/#all-the-parts'}], ['## Interactive Education', {'html': 'https://idyll-lang.org/gallery/how-to-tune-a-guitar'}], ['## P**articles** (New York Times)', {'html': 'http://nytlabs.com/blog/2015/10/20/particles/'}], ['## Rune Madsen', {'html': 'http://printingcode.runemadsen.com/lecture-color/'}], ['## The Bauhaus', {'html': 'https://www.theartstory.org/movement-bauhaus.htm#key_ideas_header'}]])"
      ]
     },
     "metadata": {},
     "output_type": "display_data"
    }
   ],
   "source": [
    "    \"\"\"\n",
    "    - - '## Brett Victor & Dynamicland'\n",
    "      - html: http://worrydream.com/Tangle/\n",
    "      - html: https://rsnous.com/posts/notes-from-dynamicland-geokit/#all-the-parts\n",
    "    - - '## Interactive Education'\n",
    "      - html: https://idyll-lang.org/gallery/how-to-tune-a-guitar\n",
    "    - - '## P**articles** (New York Times)'\n",
    "      - html: http://nytlabs.com/blog/2015/10/20/particles/\n",
    "    - - '## Rune Madsen'\n",
    "      - html: http://printingcode.runemadsen.com/lecture-color/\n",
    "    - - '## The Bauhaus'\n",
    "      - html: https://www.theartstory.org/movement-bauhaus.htm#key_ideas_header\n",
    "    \"\"\""
   ]
  },
  {
   "cell_type": "code",
   "execution_count": 13,
   "metadata": {},
   "outputs": [
    {
     "data": {
      "text/html": [
       "<div class=\"flexed-container flexed-row\"><div class=\"flexed-item\" style=\"order: 0;\">\n",
       "        <iframe\n",
       "            width=\"1000\"\n",
       "            height=\"450\"\n",
       "            src=\"https://en.m.wikipedia.org/wiki/Lab_notebook\"\n",
       "            frameborder=\"0\"\n",
       "            allowfullscreen\n",
       "        ></iframe>\n",
       "        </div></div>"
      ],
      "text/plain": [
       "Row(content=[{'text/html': {'src': 'https://en.m.wikipedia.org/wiki/Lab_notebook', 'width': 1000}}])"
      ]
     },
     "metadata": {},
     "output_type": "display_data"
    },
    {
     "data": {
      "text/html": [
       "<div class=\"flexed-container flexed-row\"><div class=\"flexed-item\" style=\"order: 0;\">\n",
       "        <iframe\n",
       "            width=\"500\"\n",
       "            height=\"450\"\n",
       "            src=\"https://sites.dartmouth.edu/library/2014/11/14/ciphering-books-2/\"\n",
       "            frameborder=\"0\"\n",
       "            allowfullscreen\n",
       "        ></iframe>\n",
       "        </div><div class=\"flexed-item\" style=\"order: 0;\">\n",
       "        <iframe\n",
       "            width=\"500\"\n",
       "            height=\"450\"\n",
       "            src=\"https://anaconda.org/nbcio/data-in-thomas-jefferson-s-garden-notebook/notebook\"\n",
       "            frameborder=\"0\"\n",
       "            allowfullscreen\n",
       "        ></iframe>\n",
       "        </div><div class=\"flexed-item\" style=\"order: 0;\">\n",
       "        <iframe\n",
       "            width=\"500\"\n",
       "            height=\"450\"\n",
       "            src=\"http://www.openculture.com/2016/03/3900-pages-of-paul-klees-personal-notebooks-are-now-online.html\"\n",
       "            frameborder=\"0\"\n",
       "            allowfullscreen\n",
       "        ></iframe>\n",
       "        </div></div>"
      ],
      "text/plain": [
       "Row(content=[{'text/html': 'https://sites.dartmouth.edu/library/2014/11/14/ciphering-books-2/'}, {'text/html': 'https://anaconda.org/nbcio/data-in-thomas-jefferson-s-garden-notebook/notebook'}, {'text/html': 'http://www.openculture.com/2016/03/3900-pages-of-paul-klees-personal-notebooks-are-now-online.html'}])"
      ]
     },
     "metadata": {},
     "output_type": "display_data"
    },
    {
     "data": {
      "text/html": [
       "\n",
       "        <iframe\n",
       "            width=\"100%\"\n",
       "            height=\"450\"\n",
       "            src=\"https://upload.wikimedia.org/wikipedia/commons/8/8a/H96566k.jpg\"\n",
       "            frameborder=\"0\"\n",
       "            allowfullscreen\n",
       "        ></iframe>\n",
       "        "
      ],
      "text/plain": [
       "<IPython.lib.display.IFrame at 0x1e3b7ce70f0>"
      ]
     },
     "metadata": {},
     "output_type": "display_data"
    }
   ],
   "source": [
    "    \"\"\"- text/html: {src: \"https://en.m.wikipedia.org/wiki/Lab_notebook\", width: 1000}\"\"\"; \"\"\"\n",
    "    - text/html: https://sites.dartmouth.edu/library/2014/11/14/ciphering-books-2/\n",
    "    - text/html: https://anaconda.org/nbcio/data-in-thomas-jefferson-s-garden-notebook/notebook\n",
    "    - text/html: http://www.openculture.com/2016/03/3900-pages-of-paul-klees-personal-notebooks-are-now-online.html\"\"\"\n",
    "    \"\"\"https://upload.wikimedia.org/wikipedia/commons/8/8a/H96566k.jpg\"\"\""
   ]
  },
  {
   "cell_type": "markdown",
   "metadata": {},
   "source": [
    "# [👉](1.ipynb)\n"
   ]
  },
  {
   "cell_type": "code",
   "execution_count": null,
   "metadata": {},
   "outputs": [],
   "source": []
  }
 ],
 "metadata": {
  "kernelspec": {
   "display_name": "Python 3",
   "language": "python",
   "name": "python3"
  },
  "language_info": {
   "codemirror_mode": {
    "name": "ipython",
    "version": 3
   },
   "file_extension": ".py",
   "mimetype": "text/x-python",
   "name": "python",
   "nbconvert_exporter": "python",
   "pygments_lexer": "ipython3",
   "version": "3.6.5"
  }
 },
 "nbformat": 4,
 "nbformat_minor": 2
}
