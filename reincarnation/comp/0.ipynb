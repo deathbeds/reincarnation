{
 "cells": [
  {
   "cell_type": "code",
   "execution_count": 1,
   "metadata": {},
   "outputs": [
    {
     "data": {
      "text/html": [
       "<style>\n",
       ".jp-mod-presentationMode {\n",
       "    --jp-notebook-padding: 0;\n",
       "}\n",
       ".jp-RenderedHTMLCommon pre code {\n",
       "    opacity: 0.25;\n",
       "}\n",
       ".jp-Placeholder-content .jp-MoreHorizIcon {\n",
       "    background-size: 32px;\n",
       "}\n",
       "</style><style>\n",
       ".jp-mod-presentationMode .jp-SideBar,\n",
       ".jp-mod-presentationMode #jp-top-panel {\n",
       "    opacity: 0.0;\n",
       "    transition: all 0.2s;\n",
       "}\n",
       ".jp-mod-presentationMode .jp-SideBar:hover,\n",
       ".jp-mod-presentationMode #jp-top-panel:hover {\n",
       "    opacity: 0.9;\n",
       "    transition: all 0.2s;\n",
       "}</style><style>\n",
       ".jp-mod-presentationMode.jp-ApplicationShell,\n",
       ".jp-mod-presentationMode .p-TabBar-content{\n",
       "    background-color: var(--jp-layout-color0);\n",
       "}\n",
       "</style><style>\n",
       ".jp-mod-presentationMode .p-DockPanel-widget,\n",
       ".jp-mod-presentationMode #jp-left-stack{\n",
       "    border-color: transparent;\n",
       "}\n",
       ".jp-mod-presentationMode .jp-Toolbar-item,\n",
       ".jp-mod-presentationMode .jp-Toolbar {\n",
       "    opacity: 0.1;\n",
       "    transition: all 0.2s;\n",
       "}\n",
       ".jp-mod-presentationMode .jp-Toolbar-item:hover,\n",
       ".jp-mod-presentationMode .jp-Toolbar:hover {\n",
       "    opacity: 0.9;\n",
       "    transition: all 0.2s;\n",
       "}\n",
       "\n",
       ".jp-mod-presentationMode .jp-InputArea {\n",
       "    flex-direction: column;\n",
       "}\n",
       "\n",
       "</style><style>\n",
       ".jp-mod-presentationMode .jp-Notebook .jp-Cell .jp-InputPrompt, \n",
       ".jp-mod-presentationMode .jp-Notebook .jp-Cell .jp-OutputPrompt {\n",
       "    flex: 0 0 2rem !important;\n",
       "    opacity: 0;\n",
       "}\n",
       ".jp-mod-presentationMode .jp-Notebook .jp-Cell.jp-mod-active .jp-OutputPrompt,\n",
       ".jp-mod-presentationMode .jp-Notebook .jp-Cell.jp-mod-active .jp-OutputPrompt {\n",
       "    opacity: 0.5;\n",
       "}\n",
       ".jp-mod-presentationMode .jp-Notebook .jp-Cell .jp-InputPrompt, \n",
       ".jp-mod-presentationMode .jp-Notebook .jp-Cell .jp-OutputPrompt\n",
       "\n",
       ".jp-mod-presentationMode hr {\n",
       "    opacity: 0.1;\n",
       "}\n",
       "</style>\n",
       "    <style>\n",
       "    .jp-TableOfContents-content h1, \n",
       "    .jp-TableOfContents-content h2 {\n",
       "        margin-bottom: var(--jp-ui-font-size0);\n",
       "    }\n",
       "    </style>\n",
       "    \n",
       "    <style>\n",
       "    .jp-mod-presentationMode {\n",
       "        --jp-content-heading-line-height: 1.25 !important;\n",
       "    }\n",
       "    </style>\n",
       "    "
      ],
      "text/plain": [
       "<IPython.core.display.HTML object>"
      ]
     },
     "metadata": {},
     "output_type": "display_data"
    },
    {
     "data": {
      "text/html": [
       "\n",
       "<style>\n",
       ".flexed-container {display: flex; margin: 1em}\n",
       ".flexed-container.flexed-row {flex-direction: row;}\n",
       ".flexed-container.flexed-column {flex-direction: column;}\n",
       ".flexed-container iframe {min-width: 350px;}\n",
       ".flexed-item {order: 0; margin: !em}\n",
       "</style>"
      ],
      "text/plain": [
       "<IPython.core.display.HTML object>"
      ]
     },
     "metadata": {},
     "output_type": "display_data"
    }
   ],
   "source": [
    "%reload_ext reincarnation"
   ]
  },
  {
   "cell_type": "markdown",
   "metadata": {},
   "source": [
    "# Congrat - u - frigging - lations Project Jupyter on the ACM award"
   ]
  },
  {
   "cell_type": "code",
   "execution_count": 2,
   "metadata": {},
   "outputs": [
    {
     "data": {
      "text/html": [
       "<div>\n",
       "<style scoped>\n",
       "    .dataframe tbody tr th:only-of-type {\n",
       "        vertical-align: middle;\n",
       "    }\n",
       "\n",
       "    .dataframe tbody tr th {\n",
       "        vertical-align: top;\n",
       "    }\n",
       "\n",
       "    .dataframe thead th {\n",
       "        text-align: right;\n",
       "    }\n",
       "</style>\n",
       "<table border=\"1\" class=\"dataframe\">\n",
       "  <thead>\n",
       "    <tr style=\"text-align: right;\">\n",
       "      <th></th>\n",
       "      <th>Project</th>\n",
       "      <th>Recipients</th>\n",
       "    </tr>\n",
       "    <tr>\n",
       "      <th>Year</th>\n",
       "      <th></th>\n",
       "      <th></th>\n",
       "    </tr>\n",
       "  </thead>\n",
       "  <tbody>\n",
       "    <tr>\n",
       "      <th>2017</th>\n",
       "      <td>Project Jupyter</td>\n",
       "      <td>Fernando Pérez, Brian E. Granger, Min Ragan-Kelley, Paul Ivanov, Thomas Kluyver, Jason Grout, Matthias Bussonnier, Damián Avila, Steven Silvester, Jonathan Frederic, Kyle Kelley, Jessica Hamrick, Carol Willing, Sylvain Corlay, Peter Parente</td>\n",
       "    </tr>\n",
       "    <tr>\n",
       "      <th>2016</th>\n",
       "      <td>Andrew File System</td>\n",
       "      <td>John H. Howard, Michael L. Kazar, David A. Nichols, Sherri Nichols, Mahadev Satyanarayanan, Robert N. Sidebotham, Alfred Spector, Michael West</td>\n",
       "    </tr>\n",
       "    <tr>\n",
       "      <th>2015</th>\n",
       "      <td>GCC</td>\n",
       "      <td>Richard Stallman</td>\n",
       "    </tr>\n",
       "    <tr>\n",
       "      <th>2014</th>\n",
       "      <td>Mach</td>\n",
       "      <td>Rick Rashid, Avie Tevanian</td>\n",
       "    </tr>\n",
       "    <tr>\n",
       "      <th>2013</th>\n",
       "      <td>Coq</td>\n",
       "      <td>Thierry Coquand, Gérard Pierre Huet, Christine Paulin-Mohring, Bruno Barras, Jean-Christophe Filliâtre, Hugo Herbelin, Chetan Murthy, Yves Bertot and Pierre Castéran</td>\n",
       "    </tr>\n",
       "    <tr>\n",
       "      <th>2012</th>\n",
       "      <td>LLVM</td>\n",
       "      <td>Vikram S. Adve, Evan Cheng and Chris Lattner</td>\n",
       "    </tr>\n",
       "    <tr>\n",
       "      <th>2011</th>\n",
       "      <td>Eclipse</td>\n",
       "      <td>John Wiegand, Dave Thomson, Gregory Adams, Philippe Mulet, Julian Jones, John Duimovich, Kevin Haaland, Stephen Northover, and Erich Gamma</td>\n",
       "    </tr>\n",
       "    <tr>\n",
       "      <th>2010</th>\n",
       "      <td>GroupLens Collaborative Filtering Recommender Systems</td>\n",
       "      <td>Peter Bergstrom, Lee R. Gordon, Jonathan L. Herlocker, Neophytos Iacovou, Joseph A. Konstan, Shyong (Tony) K. Lam, David Maltz, Sean M. McNee, Bradley N. Miller, Paul J. Resnick, John T. Riedl, Mitesh Suchak</td>\n",
       "    </tr>\n",
       "    <tr>\n",
       "      <th>2009</th>\n",
       "      <td>VMware Workstation for Linux 1.0</td>\n",
       "      <td>Edouard Bugnion, Scott Devine, Mendel Rosenblum, Jeremy Sugerman, Edward Y. Wang</td>\n",
       "    </tr>\n",
       "    <tr>\n",
       "      <th>2008</th>\n",
       "      <td>Gamma Parallel Database System</td>\n",
       "      <td>David DeWitt, Robert Gerber, Murali Krishna, Donovan Schneider, Shahram Ghandeharizadeh, Goetz Graefe, Michael Heytens, Hui-I Hsiao, Jeffrey Naughton, Anoop Sharma</td>\n",
       "    </tr>\n",
       "    <tr>\n",
       "      <th>2007</th>\n",
       "      <td>Statemate</td>\n",
       "      <td>David Harel, Hagi Lachover, Amnon Naamad, Amir Pnueli, Michal Politi, Rivi Sherman, Mark Trakhtenbrot, Aron Trauring</td>\n",
       "    </tr>\n",
       "    <tr>\n",
       "      <th>2006</th>\n",
       "      <td>Eiffel[2]</td>\n",
       "      <td>Bertrand Meyer</td>\n",
       "    </tr>\n",
       "    <tr>\n",
       "      <th>2005</th>\n",
       "      <td>The Boyer-Moore Theorem Prover</td>\n",
       "      <td>Robert S. Boyer, Matt Kaufmann, J Strother Moore</td>\n",
       "    </tr>\n",
       "    <tr>\n",
       "      <th>2004</th>\n",
       "      <td>Secure Network Programming</td>\n",
       "      <td>Raghuram Bindignavle, Simon S. Lam, Shaowen Su, Thomas Y. C. Woo</td>\n",
       "    </tr>\n",
       "    <tr>\n",
       "      <th>2003</th>\n",
       "      <td>make</td>\n",
       "      <td>Stuart Feldman</td>\n",
       "    </tr>\n",
       "    <tr>\n",
       "      <th>2002</th>\n",
       "      <td>Java</td>\n",
       "      <td>James Gosling</td>\n",
       "    </tr>\n",
       "    <tr>\n",
       "      <th>2001</th>\n",
       "      <td>SPIN model checker</td>\n",
       "      <td>Gerard Holzmann</td>\n",
       "    </tr>\n",
       "    <tr>\n",
       "      <th>1999</th>\n",
       "      <td>The Apache Group</td>\n",
       "      <td>Brian Behlendorf, Roy Fielding, Rob Hartill, David Robinson, Cliff Skolnick, Randy Terbush, Robert S. Thau, Andrew Wilson</td>\n",
       "    </tr>\n",
       "    <tr>\n",
       "      <th>1998</th>\n",
       "      <td>S</td>\n",
       "      <td>John Chambers</td>\n",
       "    </tr>\n",
       "    <tr>\n",
       "      <th>1997</th>\n",
       "      <td>Tcl/Tk</td>\n",
       "      <td>John Ousterhout</td>\n",
       "    </tr>\n",
       "    <tr>\n",
       "      <th>1996</th>\n",
       "      <td>NCSA Mosaic</td>\n",
       "      <td>Marc Andreessen, Eric Bina</td>\n",
       "    </tr>\n",
       "    <tr>\n",
       "      <th>1995</th>\n",
       "      <td>World Wide Web</td>\n",
       "      <td>Tim Berners-Lee, Robert Cailliau</td>\n",
       "    </tr>\n",
       "    <tr>\n",
       "      <th>1994</th>\n",
       "      <td>Remote Procedure Call</td>\n",
       "      <td>Andrew Birrell, Bruce Nelson</td>\n",
       "    </tr>\n",
       "    <tr>\n",
       "      <th>1993</th>\n",
       "      <td>Sketchpad</td>\n",
       "      <td>Ivan Sutherland</td>\n",
       "    </tr>\n",
       "    <tr>\n",
       "      <th>1992</th>\n",
       "      <td>Interlisp</td>\n",
       "      <td>Daniel Bobrow, Richard R. Burton, L. Peter Deutsch, Ronald Kaplan, Larry Masinter, Warren Teitelman</td>\n",
       "    </tr>\n",
       "    <tr>\n",
       "      <th>1991</th>\n",
       "      <td>TCP/IP</td>\n",
       "      <td>Vinton G. Cerf, Robert E. Kahn</td>\n",
       "    </tr>\n",
       "    <tr>\n",
       "      <th>1990</th>\n",
       "      <td>NLS</td>\n",
       "      <td>Douglas C. Engelbart, William English, Jeff Rulifson</td>\n",
       "    </tr>\n",
       "    <tr>\n",
       "      <th>1989</th>\n",
       "      <td>PostScript[3]</td>\n",
       "      <td>Douglas K. Brotz, Charles M. Geschke, William H. Paxton, Edward A. Taft, John E. Warnock</td>\n",
       "    </tr>\n",
       "    <tr>\n",
       "      <th>1988</th>\n",
       "      <td>INGRES</td>\n",
       "      <td>Gerald Held, Michael Stonebraker, Eugene Wong</td>\n",
       "    </tr>\n",
       "    <tr>\n",
       "      <th>1988</th>\n",
       "      <td>System R</td>\n",
       "      <td>Donald Chamberlin, Jim Gray, Raymond Lorie, Gianfranco Putzolu, Patricia Selinger, Irving Traiger</td>\n",
       "    </tr>\n",
       "    <tr>\n",
       "      <th>1987</th>\n",
       "      <td>Smalltalk</td>\n",
       "      <td>Adele Goldberg, Daniel Henry Holmes Ingalls, Jr., Alan C. Kay</td>\n",
       "    </tr>\n",
       "    <tr>\n",
       "      <th>1986</th>\n",
       "      <td>TeX</td>\n",
       "      <td>Donald E. Knuth</td>\n",
       "    </tr>\n",
       "    <tr>\n",
       "      <th>1985</th>\n",
       "      <td>VisiCalc</td>\n",
       "      <td>Dan Bricklin, Bob Frankston</td>\n",
       "    </tr>\n",
       "    <tr>\n",
       "      <th>1984</th>\n",
       "      <td>Xerox Alto</td>\n",
       "      <td>Butler W. Lampson, Robert Taylor, Charles P. Thacker</td>\n",
       "    </tr>\n",
       "    <tr>\n",
       "      <th>1983</th>\n",
       "      <td>UNIX</td>\n",
       "      <td>Dennis Ritchie, Ken Thompson</td>\n",
       "    </tr>\n",
       "  </tbody>\n",
       "</table>\n",
       "</div>"
      ],
      "text/plain": [
       "                                                    Project  \\\n",
       "Year                                                          \n",
       "2017  Project Jupyter                                         \n",
       "2016  Andrew File System                                      \n",
       "2015  GCC                                                     \n",
       "2014  Mach                                                    \n",
       "2013  Coq                                                     \n",
       "2012  LLVM                                                    \n",
       "2011  Eclipse                                                 \n",
       "2010  GroupLens Collaborative Filtering Recommender Systems   \n",
       "2009  VMware Workstation for Linux 1.0                        \n",
       "2008  Gamma Parallel Database System                          \n",
       "2007  Statemate                                               \n",
       "2006  Eiffel[2]                                               \n",
       "2005  The Boyer-Moore Theorem Prover                          \n",
       "2004  Secure Network Programming                              \n",
       "2003  make                                                    \n",
       "2002  Java                                                    \n",
       "2001  SPIN model checker                                      \n",
       "1999  The Apache Group                                        \n",
       "1998  S                                                       \n",
       "1997  Tcl/Tk                                                  \n",
       "1996  NCSA Mosaic                                             \n",
       "1995  World Wide Web                                          \n",
       "1994  Remote Procedure Call                                   \n",
       "1993  Sketchpad                                               \n",
       "1992  Interlisp                                               \n",
       "1991  TCP/IP                                                  \n",
       "1990  NLS                                                     \n",
       "1989  PostScript[3]                                           \n",
       "1988  INGRES                                                  \n",
       "1988  System R                                                \n",
       "1987  Smalltalk                                               \n",
       "1986  TeX                                                     \n",
       "1985  VisiCalc                                                \n",
       "1984  Xerox Alto                                              \n",
       "1983  UNIX                                                    \n",
       "\n",
       "                                                                                                                                                                                                                                            Recipients  \n",
       "Year                                                                                                                                                                                                                                                    \n",
       "2017  Fernando Pérez, Brian E. Granger, Min Ragan-Kelley, Paul Ivanov, Thomas Kluyver, Jason Grout, Matthias Bussonnier, Damián Avila, Steven Silvester, Jonathan Frederic, Kyle Kelley, Jessica Hamrick, Carol Willing, Sylvain Corlay, Peter Parente  \n",
       "2016  John H. Howard, Michael L. Kazar, David A. Nichols, Sherri Nichols, Mahadev Satyanarayanan, Robert N. Sidebotham, Alfred Spector, Michael West                                                                                                    \n",
       "2015  Richard Stallman                                                                                                                                                                                                                                  \n",
       "2014  Rick Rashid, Avie Tevanian                                                                                                                                                                                                                        \n",
       "2013  Thierry Coquand, Gérard Pierre Huet, Christine Paulin-Mohring, Bruno Barras, Jean-Christophe Filliâtre, Hugo Herbelin, Chetan Murthy, Yves Bertot and Pierre Castéran                                                                             \n",
       "2012  Vikram S. Adve, Evan Cheng and Chris Lattner                                                                                                                                                                                                      \n",
       "2011  John Wiegand, Dave Thomson, Gregory Adams, Philippe Mulet, Julian Jones, John Duimovich, Kevin Haaland, Stephen Northover, and Erich Gamma                                                                                                        \n",
       "2010  Peter Bergstrom, Lee R. Gordon, Jonathan L. Herlocker, Neophytos Iacovou, Joseph A. Konstan, Shyong (Tony) K. Lam, David Maltz, Sean M. McNee, Bradley N. Miller, Paul J. Resnick, John T. Riedl, Mitesh Suchak                                   \n",
       "2009  Edouard Bugnion, Scott Devine, Mendel Rosenblum, Jeremy Sugerman, Edward Y. Wang                                                                                                                                                                  \n",
       "2008  David DeWitt, Robert Gerber, Murali Krishna, Donovan Schneider, Shahram Ghandeharizadeh, Goetz Graefe, Michael Heytens, Hui-I Hsiao, Jeffrey Naughton, Anoop Sharma                                                                               \n",
       "2007  David Harel, Hagi Lachover, Amnon Naamad, Amir Pnueli, Michal Politi, Rivi Sherman, Mark Trakhtenbrot, Aron Trauring                                                                                                                              \n",
       "2006  Bertrand Meyer                                                                                                                                                                                                                                    \n",
       "2005  Robert S. Boyer, Matt Kaufmann, J Strother Moore                                                                                                                                                                                                  \n",
       "2004  Raghuram Bindignavle, Simon S. Lam, Shaowen Su, Thomas Y. C. Woo                                                                                                                                                                                  \n",
       "2003  Stuart Feldman                                                                                                                                                                                                                                    \n",
       "2002  James Gosling                                                                                                                                                                                                                                     \n",
       "2001  Gerard Holzmann                                                                                                                                                                                                                                   \n",
       "1999  Brian Behlendorf, Roy Fielding, Rob Hartill, David Robinson, Cliff Skolnick, Randy Terbush, Robert S. Thau, Andrew Wilson                                                                                                                         \n",
       "1998  John Chambers                                                                                                                                                                                                                                     \n",
       "1997  John Ousterhout                                                                                                                                                                                                                                   \n",
       "1996  Marc Andreessen, Eric Bina                                                                                                                                                                                                                        \n",
       "1995  Tim Berners-Lee, Robert Cailliau                                                                                                                                                                                                                  \n",
       "1994  Andrew Birrell, Bruce Nelson                                                                                                                                                                                                                      \n",
       "1993  Ivan Sutherland                                                                                                                                                                                                                                   \n",
       "1992  Daniel Bobrow, Richard R. Burton, L. Peter Deutsch, Ronald Kaplan, Larry Masinter, Warren Teitelman                                                                                                                                               \n",
       "1991  Vinton G. Cerf, Robert E. Kahn                                                                                                                                                                                                                    \n",
       "1990  Douglas C. Engelbart, William English, Jeff Rulifson                                                                                                                                                                                              \n",
       "1989  Douglas K. Brotz, Charles M. Geschke, William H. Paxton, Edward A. Taft, John E. Warnock                                                                                                                                                          \n",
       "1988  Gerald Held, Michael Stonebraker, Eugene Wong                                                                                                                                                                                                     \n",
       "1988  Donald Chamberlin, Jim Gray, Raymond Lorie, Gianfranco Putzolu, Patricia Selinger, Irving Traiger                                                                                                                                                 \n",
       "1987  Adele Goldberg, Daniel Henry Holmes Ingalls, Jr., Alan C. Kay                                                                                                                                                                                     \n",
       "1986  Donald E. Knuth                                                                                                                                                                                                                                   \n",
       "1985  Dan Bricklin, Bob Frankston                                                                                                                                                                                                                       \n",
       "1984  Butler W. Lampson, Robert Taylor, Charles P. Thacker                                                                                                                                                                                              \n",
       "1983  Dennis Ritchie, Ken Thompson                                                                                                                                                                                                                      "
      ]
     },
     "execution_count": 2,
     "metadata": {},
     "output_type": "execute_result"
    }
   ],
   "source": [
    "import pandas; pandas.set_option('display.max_colwidth', -1)\n",
    "acm_awards = pandas.read_html(\"\"\"https://en.wikipedia.org/wiki/ACM_Software_System_Award\"\"\")[0].pipe(\n",
    "    lambda df: df.rename(columns=dict(zip(range(len(df.columns)), df.iloc[0]))).iloc[1:]).set_index('Year')\n",
    "acm_awards"
   ]
  },
  {
   "cell_type": "markdown",
   "metadata": {},
   "source": [
    "Thank you for make it possible to draw on a computer"
   ]
  },
  {
   "cell_type": "code",
   "execution_count": 3,
   "metadata": {},
   "outputs": [
    {
     "data": {
      "text/html": [
       "<div class=\"flexed-container flexed-row\"><div class=\"flexed-item\" style=\"order: 0;\"><img src=\"https://images.immediate.co.uk/volatile/sites/3/2017/08/96588.gif\"/></div><div class=\"flexed-item\" style=\"order: 0;\"><img src=\"https://zippy.gfycat.com/CheerfulComplexButterfly.gif\"/></div></div>"
      ],
      "text/plain": [
       "Row(content=['https://images.immediate.co.uk/volatile/sites/3/2017/08/96588.gif', 'https://zippy.gfycat.com/CheerfulComplexButterfly.gif'])"
      ]
     },
     "metadata": {},
     "output_type": "display_data"
    }
   ],
   "source": [
    "\"\"\"\n",
    "- https://images.immediate.co.uk/volatile/sites/3/2017/08/96588.gif\n",
    "- https://zippy.gfycat.com/CheerfulComplexButterfly.gif\n",
    "\"\"\""
   ]
  },
  {
   "cell_type": "markdown",
   "metadata": {},
   "source": [
    "# What does this mean for Project Jupyter users?"
   ]
  },
  {
   "cell_type": "markdown",
   "metadata": {},
   "source": [
    "## Congrat - u - frigging - lations to y'all for having **great taste**\n",
    "\n",
    "* you made the right bet\n",
    "* we can hardly imagine the breadth of future users\n",
    "* Jupyter is poised to become a daily piece of ~~computing~~ ~~work~~ life\n",
    "* Think about ~~your~~ ~~our~~ the notebooks in the aggregate\n",
    "* Future users are going to want to do some weird stuff\n",
    "* JupyterHub will connect people to notebooks because they aren't computer people\n",
    "* Work processing, graphic design, data analysis"
   ]
  },
  {
   "cell_type": "code",
   "execution_count": 4,
   "metadata": {},
   "outputs": [
    {
     "data": {
      "text/html": [
       "<div class=\"flexed-container flexed-row\"><div class=\"flexed-container flexed-column\"><div class=\"flexed-item\" style=\"order: 0;\"><h1>Exploration and Explanation in Computational Notebook</h1>\n",
       "</div><div class=\"flexed-item\" style=\"order: 0;\"><blockquote><p><em>Finally, the <strong>exploratory and iterative</strong> nature of data analysis is\n",
       "reflected in the fact that <strong>nearly half</strong> (43.9%) of notebooks were\n",
       "uploaded to GitHub with a <strong>non-linear execution</strong> order.</em>\n",
       "<em>This figure\n",
       "should be considered as a <strong>lower-bound</strong> as analysts may have\n",
       "done a <strong>clean run</strong> of their notebook <strong>before sharing</strong> it online.</em></p>\n",
       "</blockquote>\n",
       "</div></div><div class=\"flexed-item\" style=\"order: 0;\">\n",
       "        <iframe\n",
       "            width=\"500\"\n",
       "            height=\"450\"\n",
       "            src=\"http://adamrule.com/files/papers/chi_2018_computational_notebooks_camera_ready.pdf\"\n",
       "            frameborder=\"0\"\n",
       "            allowfullscreen\n",
       "        ></iframe>\n",
       "        </div></div>"
      ],
      "text/plain": [
       "Row(content=[['# Exploration and Explanation in Computational Notebook', '> _Finally, the **exploratory and iterative** nature of data analysis is\\nreflected in the fact that **nearly half** (43.9%) of notebooks were\\nuploaded to GitHub with a **non-linear execution** order._\\n> _This figure\\nshould be considered as a **lower-bound** as analysts may have\\ndone a **clean run** of their notebook **before sharing** it online._  \\n'], {'html': 'http://adamrule.com/files/papers/chi_2018_computational_notebooks_camera_ready.pdf'}])"
      ]
     },
     "metadata": {},
     "output_type": "display_data"
    }
   ],
   "source": [
    "\"\"\"\n",
    "- - '# Exploration and Explanation in Computational Notebook'\n",
    "  - |\n",
    "    > _Finally, the **exploratory and iterative** nature of data analysis is\n",
    "    reflected in the fact that **nearly half** (43.9%) of notebooks were\n",
    "    uploaded to GitHub with a **non-linear execution** order._\n",
    "    > _This figure\n",
    "    should be considered as a **lower-bound** as analysts may have\n",
    "    done a **clean run** of their notebook **before sharing** it online._  \n",
    "- html: http://adamrule.com/files/papers/chi_2018_computational_notebooks_camera_ready.pdf\n",
    "\"\"\""
   ]
  },
  {
   "cell_type": "markdown",
   "metadata": {},
   "source": [
    "# Github is a Graveyard    \n",
    "    "
   ]
  },
  {
   "cell_type": "code",
   "execution_count": 5,
   "metadata": {},
   "outputs": [],
   "source": [
    "    _nbestimate_ = \"\"\"http://nbviewer.jupyter.org/github/parente/nbestimate/blob/master/estimate.ipynb\"\"\""
   ]
  },
  {
   "cell_type": "code",
   "execution_count": 6,
   "metadata": {},
   "outputs": [
    {
     "data": {
      "text/html": [
       "<div class=\"flexed-container flexed-row\"><div class=\"flexed-item\" style=\"order: 0;\"><p><a href=\"http://nbviewer.jupyter.org/github/parente/nbestimate/blob/master/estimate.ipynb\">http://nbviewer.jupyter.org/github/parente/nbestimate/blob/master/estimate.ipynb</a></p>\n",
       "</div><div class=\"flexed-item\" style=\"order: 0;\"><table border=\"1\" class=\"dataframe\">  <thead>    <tr>      <th></th>      <th>Unnamed: 0_level_0</th>      <th>hits</th>    </tr>    <tr>      <th></th>      <th>date</th>      <th>Unnamed: 1_level_1</th>    </tr>  </thead>  <tbody>    <tr>      <th>0</th>      <td>2018-07-13</td>      <td>2492680</td>    </tr>    <tr>      <th>1</th>      <td>2018-07-29</td>      <td>2567227</td>    </tr>    <tr>      <th>2</th>      <td>2018-08-18</td>      <td>2660571</td>    </tr>  </tbody></table></div></div>"
      ],
      "text/plain": [
       "Row(content=['http://nbviewer.jupyter.org/github/parente/nbestimate/blob/master/estimate.ipynb', '<table border=\"1\" class=\"dataframe\">  <thead>    <tr>      <th></th>      <th>Unnamed: 0_level_0</th>      <th>hits</th>    </tr>    <tr>      <th></th>      <th>date</th>      <th>Unnamed: 1_level_1</th>    </tr>  </thead>  <tbody>    <tr>      <th>0</th>      <td>2018-07-13</td>      <td>2492680</td>    </tr>    <tr>      <th>1</th>      <td>2018-07-29</td>      <td>2567227</td>    </tr>    <tr>      <th>2</th>      <td>2018-08-18</td>      <td>2660571</td>    </tr>  </tbody></table>\\n'])"
      ]
     },
     "metadata": {},
     "output_type": "display_data"
    }
   ],
   "source": [
    "    f\"\"\"- {_nbestimate_}\n",
    "    - |\n",
    "\n",
    "        {''.join(λ.pandas.read_html().first()(_nbestimate_).to_html().splitlines())}\n",
    "    \"\"\""
   ]
  },
  {
   "cell_type": "code",
   "execution_count": 7,
   "metadata": {},
   "outputs": [
    {
     "data": {
      "text/html": [
       "<div class=\"flexed-container flexed-row\"><div class=\"flexed-item\" style=\"order: 0;\">\n",
       "        <iframe\n",
       "            width=\"500\"\n",
       "            height=\"450\"\n",
       "            src=\"http://nbviewer.jupyter.org/github/robertodealmeida/notebooks/blob/master/scientific_american/Scientific%20American%20graph.ipynb\"\n",
       "            frameborder=\"0\"\n",
       "            allowfullscreen\n",
       "        ></iframe>\n",
       "        </div><div class=\"flexed-item\" style=\"order: 0;\">\n",
       "        <iframe\n",
       "            width=\"500\"\n",
       "            height=\"450\"\n",
       "            src=\"http://nbviewer.jupyter.org/github/minrk/ligo-binder/blob/master/index.ipynb\"\n",
       "            frameborder=\"0\"\n",
       "            allowfullscreen\n",
       "        ></iframe>\n",
       "        </div></div>"
      ],
      "text/plain": [
       "Row(content=[{'text/html': 'http://nbviewer.jupyter.org/github/robertodealmeida/notebooks/blob/master/scientific_american/Scientific%20American%20graph.ipynb'}, {'text/html': 'http://nbviewer.jupyter.org/github/minrk/ligo-binder/blob/master/index.ipynb'}])"
      ]
     },
     "metadata": {},
     "output_type": "display_data"
    },
    {
     "data": {
      "text/html": [
       "\n",
       "        <iframe\n",
       "            width=\"100%\"\n",
       "            height=\"450\"\n",
       "            src=\"https://www.theatlantic.com/science/archive/2018/04/the-scientific-paper-is-obsolete/556676/\"\n",
       "            frameborder=\"0\"\n",
       "            allowfullscreen\n",
       "        ></iframe>\n",
       "        "
      ],
      "text/plain": [
       "<IPython.lib.display.IFrame at 0x7efd9c10a240>"
      ]
     },
     "metadata": {},
     "output_type": "display_data"
    }
   ],
   "source": [
    "    \"\"\"- text/html: http://nbviewer.jupyter.org/github/robertodealmeida/notebooks/blob/master/scientific_american/Scientific%20American%20graph.ipynb\n",
    "    - text/html: http://nbviewer.jupyter.org/github/minrk/ligo-binder/blob/master/index.ipynb\n",
    "    \"\"\"; \"\"\"https://www.theatlantic.com/science/archive/2018/04/the-scientific-paper-is-obsolete/556676/\"\"\""
   ]
  },
  {
   "cell_type": "markdown",
   "metadata": {},
   "source": [
    "![](https://camo.githubusercontent.com/a8d4be63da2f73339f35839d4c006f080b13104a/68747470733a2f2f75706c6f61642e77696b696d656469612e6f72672f77696b6970656469612f636f6d6d6f6e732f342f34382f446174615f64726976656e5f6a6f75726e616c69736d5f70726f636573732e6a7067)"
   ]
  },
  {
   "cell_type": "markdown",
   "metadata": {},
   "source": [
    "Its clear that this is not by accident"
   ]
  },
  {
   "cell_type": "code",
   "execution_count": 8,
   "metadata": {},
   "outputs": [
    {
     "data": {
      "text/html": [
       "<div class=\"flexed-container flexed-row\"><div class=\"flexed-item\" style=\"order: 0;\"><?xml version=\"1.0\" encoding=\"UTF-8\" standalone=\"no\"?>\n",
       "<!DOCTYPE svg PUBLIC \"-//W3C//DTD SVG 1.1//EN\"\n",
       " \"http://www.w3.org/Graphics/SVG/1.1/DTD/svg11.dtd\">\n",
       "<!-- Generated by graphviz version 2.38.0 (20140413.2041)\n",
       " -->\n",
       "<!-- Title: %3 Pages: 1 -->\n",
       "<svg width=\"152pt\" height=\"188pt\"\n",
       " viewBox=\"0.00 0.00 151.59 188.00\" xmlns=\"http://www.w3.org/2000/svg\" xmlns:xlink=\"http://www.w3.org/1999/xlink\">\n",
       "<g id=\"graph0\" class=\"graph\" transform=\"scale(1 1) rotate(0) translate(4 184)\">\n",
       "<title>%3</title>\n",
       "<polygon fill=\"white\" stroke=\"none\" points=\"-4,4 -4,-184 147.591,-184 147.591,4 -4,4\"/>\n",
       "<!-- data -->\n",
       "<g id=\"node1\" class=\"node\"><title>data</title>\n",
       "<ellipse fill=\"none\" stroke=\"black\" cx=\"83.1459\" cy=\"-162\" rx=\"31.3957\" ry=\"18\"/>\n",
       "<text text-anchor=\"middle\" x=\"83.1459\" y=\"-158.3\" font-family=\"Times,serif\" font-size=\"14.00\">data</text>\n",
       "</g>\n",
       "<!-- science -->\n",
       "<g id=\"node2\" class=\"node\"><title>science</title>\n",
       "<ellipse fill=\"none\" stroke=\"black\" cx=\"46.1459\" cy=\"-90\" rx=\"46.2923\" ry=\"18\"/>\n",
       "<text text-anchor=\"middle\" x=\"46.1459\" y=\"-86.3\" font-family=\"Times,serif\" font-size=\"14.00\">science</text>\n",
       "</g>\n",
       "<!-- data&#45;&#45;science -->\n",
       "<g id=\"edge1\" class=\"edge\"><title>data&#45;&#45;science</title>\n",
       "<path fill=\"none\" stroke=\"black\" d=\"M74.3774,-144.411C68.5648,-133.414 60.9604,-119.027 55.1085,-107.956\"/>\n",
       "</g>\n",
       "<!-- computing -->\n",
       "<g id=\"node3\" class=\"node\"><title>computing</title>\n",
       "<ellipse fill=\"none\" stroke=\"black\" cx=\"83.1459\" cy=\"-18\" rx=\"60.3893\" ry=\"18\"/>\n",
       "<text text-anchor=\"middle\" x=\"83.1459\" y=\"-14.3\" font-family=\"Times,serif\" font-size=\"14.00\">computing</text>\n",
       "</g>\n",
       "<!-- science&#45;&#45;computing -->\n",
       "<g id=\"edge2\" class=\"edge\"><title>science&#45;&#45;computing</title>\n",
       "<path fill=\"none\" stroke=\"black\" d=\"M55.1026,-72.055C60.8343,-61.2111 68.2492,-47.183 74.0147,-36.2753\"/>\n",
       "</g>\n",
       "<!-- computing&#45;&#45;data -->\n",
       "<g id=\"edge3\" class=\"edge\"><title>computing&#45;&#45;data</title>\n",
       "<path fill=\"none\" stroke=\"black\" d=\"M90.6256,-36.2958C94.6188,-46.4778 99.1188,-59.7278 101.146,-72 103.753,-87.7861 103.753,-92.2139 101.146,-108 99.0871,-120.464 94.4776,-133.937 90.4388,-144.179\"/>\n",
       "</g>\n",
       "</g>\n",
       "</svg>\n",
       "</div><div class=\"flexed-item\" style=\"order: 0;\"><h4><a href=\"\">\"Literate computing\" and computational reproducibility: IPython in the age of data-driven journalism</a></h4>\n",
       "<blockquote><p>Our job with Jupyter<del>IPython</del> is to think deeply about questions regarding the intersection of <em><strong>computing, data and science</strong></em>, but it's clear \n",
       "to me at this point that we can contribute in contexts beyond pure scientific research. I hope we'll be able to provide folks who have \n",
       "a <em><strong>direct intersection with the public</strong></em>, such as journalists, with tools that help a more informed and productive debate.</p>\n",
       "</blockquote>\n",
       "</div></div>"
      ],
      "text/plain": [
       "Row(content=['graph {data--science--computing--data}', '#### [\"Literate computing\" and computational reproducibility: IPython in the age of data-driven journalism]()\\n> Our job with Jupyter~~IPython~~ is to think deeply about questions regarding the intersection of _**computing, data and science**_, but it\\'s clear \\nto me at this point that we can contribute in contexts beyond pure scientific research. I hope we\\'ll be able to provide folks who have \\na _**direct intersection with the public**_, such as journalists, with tools that help a more informed and productive debate.\\n'])"
      ]
     },
     "metadata": {},
     "output_type": "display_data"
    },
    {
     "data": {
      "text/html": [
       "\n",
       "        <iframe\n",
       "            width=\"100%\"\n",
       "            height=\"450\"\n",
       "            src=\"http://blog.fperez.org/2013/04/literate-computing-and-computational.html\"\n",
       "            frameborder=\"0\"\n",
       "            allowfullscreen\n",
       "        ></iframe>\n",
       "        "
      ],
      "text/plain": [
       "<IPython.lib.display.IFrame at 0x7efd9da1ef98>"
      ]
     },
     "metadata": {},
     "output_type": "display_data"
    }
   ],
   "source": [
    "\"\"\"\n",
    "- graph {data--science--computing--data}\n",
    "- |\n",
    "\n",
    "\n",
    "    #### [\"Literate computing\" and computational reproducibility: IPython in the age of data-driven journalism]()\n",
    "    > Our job with Jupyter~~IPython~~ is to think deeply about questions regarding the intersection of _**computing, data and science**_, but it's clear \n",
    "    to me at this point that we can contribute in contexts beyond pure scientific research. I hope we'll be able to provide folks who have \n",
    "    a _**direct intersection with the public**_, such as journalists, with tools that help a more informed and productive debate.\n",
    "\n",
    "\"\"\" \n",
    "\"\"\"http://blog.fperez.org/2013/04/literate-computing-and-computational.html\"\"\""
   ]
  },
  {
   "cell_type": "markdown",
   "metadata": {},
   "source": [
    "# Notebooks are a basis for creativity in modern literacies\n",
    "\n",
    "Real data is changing to form of human design."
   ]
  },
  {
   "cell_type": "markdown",
   "metadata": {},
   "source": [
    "## Some of our creative inspirations"
   ]
  },
  {
   "cell_type": "code",
   "execution_count": 10,
   "metadata": {},
   "outputs": [
    {
     "data": {
      "text/html": [
       "<div class=\"flexed-container flexed-row\"><div class=\"flexed-container flexed-column\"><div class=\"flexed-item\" style=\"order: 0;\"><p>Something like a mood board</p>\n",
       "</div><div class=\"flexed-item\" style=\"order: 0;\">\n",
       "        <iframe\n",
       "            width=\"500\"\n",
       "            height=\"450\"\n",
       "            src=\"https://player.vimeo.com/video/36579366\"\n",
       "            frameborder=\"0\"\n",
       "            allowfullscreen\n",
       "        ></iframe>\n",
       "        </div></div><div class=\"flexed-item\" style=\"order: 0;\">\n",
       "        <iframe\n",
       "            width=\"500\"\n",
       "            height=\"450\"\n",
       "            src=\"http://worrydream.com/Tangle/\"\n",
       "            frameborder=\"0\"\n",
       "            allowfullscreen\n",
       "        ></iframe>\n",
       "        </div></div>"
      ],
      "text/plain": [
       "Row(content=[['Something like a mood board', {'html': 'https://player.vimeo.com/video/36579366'}], {'html': 'http://worrydream.com/Tangle/'}])"
      ]
     },
     "metadata": {},
     "output_type": "display_data"
    },
    {
     "data": {
      "text/html": [
       "\n",
       "        <iframe\n",
       "            width=\"100%\"\n",
       "            height=\"450\"\n",
       "            src=\"https://idyll-lang.org/gallery/how-to-tune-a-guitar\"\n",
       "            frameborder=\"0\"\n",
       "            allowfullscreen\n",
       "        ></iframe>\n",
       "        "
      ],
      "text/plain": [
       "<IPython.lib.display.IFrame at 0x7efd9c493160>"
      ]
     },
     "metadata": {},
     "output_type": "display_data"
    },
    {
     "data": {
      "text/html": [
       "<div class=\"flexed-container flexed-row\"><div class=\"flexed-item\" style=\"order: 0;\"><p><a href=\"http://nytlabs.com/blog/2015/10/20/particles/\">http://nytlabs.com/blog/2015/10/20/particles/</a></p>\n",
       "</div><div class=\"flexed-item\" style=\"order: 0;\"><p><a href=\"http://printingcode.runemadsen.com/lecture-color/\">http://printingcode.runemadsen.com/lecture-color/</a></p>\n",
       "</div></div>"
      ],
      "text/plain": [
       "Row(content=['http://nytlabs.com/blog/2015/10/20/particles/', 'http://printingcode.runemadsen.com/lecture-color/'])"
      ]
     },
     "metadata": {},
     "output_type": "display_data"
    },
    {
     "data": {
      "text/html": [
       "\n",
       "        <iframe\n",
       "            width=\"100%\"\n",
       "            height=\"450\"\n",
       "            src=\"https://www.theartstory.org/movement-bauhaus.htm#key_ideas_header\"\n",
       "            frameborder=\"0\"\n",
       "            allowfullscreen\n",
       "        ></iframe>\n",
       "        "
      ],
      "text/plain": [
       "<IPython.lib.display.IFrame at 0x7efd9c493160>"
      ]
     },
     "metadata": {},
     "output_type": "display_data"
    },
    {
     "data": {
      "text/html": [
       "<div class=\"flexed-container flexed-row\"><div class=\"flexed-item\" style=\"order: 0;\"><p>Old lab notebooks</p>\n",
       "</div></div>"
      ],
      "text/plain": [
       "Row(content=['Old lab notebooks'])"
      ]
     },
     "metadata": {},
     "output_type": "display_data"
    }
   ],
   "source": [
    "    \"\"\"\n",
    "    - - \"Something like a mood board\"\n",
    "      - html: https://player.vimeo.com/video/36579366\n",
    "    - html: http://worrydream.com/Tangle/\"\"\"\n",
    "    \"\"\"https://idyll-lang.org/gallery/how-to-tune-a-guitar\"\"\"\n",
    "    \"\"\"\n",
    "    - http://nytlabs.com/blog/2015/10/20/particles/\n",
    "    - http://printingcode.runemadsen.com/lecture-color/\"\"\"\n",
    "    \"\"\"https://www.theartstory.org/movement-bauhaus.htm#key_ideas_header\"\"\"\n",
    "    \"\"\"- Old lab notebooks\"\"\""
   ]
  },
  {
   "cell_type": "code",
   "execution_count": null,
   "metadata": {},
   "outputs": [],
   "source": []
  }
 ],
 "metadata": {
  "kernelspec": {
   "display_name": "Python 3",
   "language": "python",
   "name": "python3"
  },
  "language_info": {
   "codemirror_mode": {
    "name": "ipython",
    "version": 3
   },
   "file_extension": ".py",
   "mimetype": "text/x-python",
   "name": "python",
   "nbconvert_exporter": "python",
   "pygments_lexer": "ipython3",
   "version": "3.6.6"
  }
 },
 "nbformat": 4,
 "nbformat_minor": 2
}
