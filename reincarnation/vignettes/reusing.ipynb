{
 "cells": [
  {
   "cell_type": "markdown",
   "metadata": {},
   "source": [
    "# Importing Notebooks\n",
    "\n",
    "Common practices use the notebooks as __scratch pads__.  A simple reminder for a notebook to __restart and run all__ provides \n",
    "new opportunities for old ideas.  Notebooks contain code that should be reused, and not rewritten.  __code formatting is for computers.__\n",
    "\n",
    "This presentation is created from a notebook.\n",
    "\n",
    "    >>> from reincarnation.vignettes import modernnotebooks"
   ]
  },
  {
   "cell_type": "code",
   "execution_count": 9,
   "metadata": {},
   "outputs": [],
   "source": [
    "    if __name__ == '__main__': \n",
    "        %reload_ext reincarnation"
   ]
  },
  {
   "cell_type": "code",
   "execution_count": 10,
   "metadata": {},
   "outputs": [],
   "source": [
    "    testing = \"http://nbviewer.jupyter.org/github/deathbeds/deathbeds.github.io/blob/master/deathbeds/2018-07-31-Testing-notebooks.ipynb\""
   ]
  },
  {
   "cell_type": "code",
   "execution_count": 11,
   "metadata": {},
   "outputs": [
    {
     "data": {
      "text/html": [
       "<div class=\"flexed-container flexed-row\"><div class=\"flexed-item\" style=\"order: 0;\"><h1><strong>Restart and run all</strong> or it didn't happen</h1>\n",
       "<p>A notebook that will restart and run all is reusable as a module and test.</p>\n",
       "</div><div class=\"flexed-item\" style=\"order: 0;\">\n",
       "        <iframe\n",
       "            width=\"500\"\n",
       "            height=\"450\"\n",
       "            src=\"http://nbviewer.jupyter.org/github/deathbeds/deathbeds.github.io/blob/master/deathbeds/2018-07-31-Testing-notebooks.ipynb\"\n",
       "            frameborder=\"0\"\n",
       "            allowfullscreen\n",
       "        ></iframe>\n",
       "        </div></div>"
      ],
      "text/plain": [
       "Row(content=[\"# **Restart and run all** or it didn't happen   \\n\\nA notebook that will restart and run all is reusable as a module and test.\\n\", 'http://nbviewer.jupyter.org/github/deathbeds/deathbeds.github.io/blob/master/deathbeds/2018-07-31-Testing-notebooks.ipynb'])"
      ]
     },
     "metadata": {},
     "output_type": "display_data"
    }
   ],
   "source": [
    "    F\"\"\"- |\n",
    "         # **Restart and run all** or it didn't happen   \n",
    "         \n",
    "         A notebook that will restart and run all is reusable as a module and test.\n",
    "    - {testing}\n",
    "    \"\"\""
   ]
  },
  {
   "cell_type": "code",
   "execution_count": 12,
   "metadata": {},
   "outputs": [],
   "source": [
    "    importnb_link = \"http://nbviewer.jupyter.org/github/deathbeds/importnb/blob/master/readme.ipynb\""
   ]
  },
  {
   "cell_type": "code",
   "execution_count": 14,
   "metadata": {},
   "outputs": [
    {
     "data": {
      "text/html": [
       "<div class=\"flexed-container flexed-row\"><div class=\"flexed-container flexed-column\"><div class=\"flexed-item\" style=\"order: 0;\"><h1><code>!importnb-install</code></h1>\n",
       "</div><div class=\"flexed-item\" style=\"order: 0;\">\n",
       "        <iframe\n",
       "            width=\"500\"\n",
       "            height=\"450\"\n",
       "            src=\"http://nbviewer.jupyter.org/github/deathbeds/importnb/blob/master/readme.ipynb\"\n",
       "            frameborder=\"0\"\n",
       "            allowfullscreen\n",
       "        ></iframe>\n",
       "        </div></div><div class=\"flexed-item\" style=\"order: 0;\"><ul>\n",
       "<li>pytest notebooks</li>\n",
       "<li>import notebooks as modules</li>\n",
       "<li>run notebooks as <code>ipython</code> scripts</li>\n",
       "<li>smart docstrings</li>\n",
       "</ul>\n",
       "<hr>\n",
       "<ul>\n",
       "<li>promotes sharing notebooks with tests and documentation</li>\n",
       "<li>enables incremental innovation</li>\n",
       "<li>creates readable, reusable, and reproducible notebooks</li>\n",
       "<li>provide a better interactive experience to reuse old modules</li>\n",
       "</ul>\n",
       "</div></div>"
      ],
      "text/plain": [
       "Row(content=[['# `!importnb-install`', 'http://nbviewer.jupyter.org/github/deathbeds/importnb/blob/master/readme.ipynb'], '* pytest notebooks\\n* import notebooks as modules\\n* run notebooks as `ipython` scripts\\n* smart docstrings\\n---\\n\\n* promotes sharing notebooks with tests and documentation\\n* enables incremental innovation\\n* creates readable, reusable, and reproducible notebooks\\n* provide a better interactive experience to reuse old modules\\n'])"
      ]
     },
     "metadata": {},
     "output_type": "display_data"
    }
   ],
   "source": [
    "    F\"\"\"- - \"# `!importnb-install`\" \n",
    "      - {importnb_link}\n",
    "    - |\n",
    "        * pytest notebooks\n",
    "        * import notebooks as modules\n",
    "        * run notebooks as `ipython` scripts\n",
    "        * smart docstrings\n",
    "    \n",
    "        ---\n",
    "        \n",
    "        * promotes sharing notebooks with tests and documentation\n",
    "        * enables incremental innovation\n",
    "        * creates readable, reusable, and reproducible notebooks\n",
    "        * provide a better interactive experience to reuse old modules\n",
    "    \"\"\""
   ]
  },
  {
   "cell_type": "markdown",
   "metadata": {},
   "source": [
    "# Carrying the IPython context\n",
    "\n",
    "One of the best features of notebooks are the interactive modifications that can be made to the running IPython context.  Often we include the statement below to use notebooks to write command line scripts and use magic functions."
   ]
  },
  {
   "cell_type": "code",
   "execution_count": 15,
   "metadata": {},
   "outputs": [],
   "source": [
    "    from IPython import get_ipython"
   ]
  },
  {
   "cell_type": "markdown",
   "metadata": {},
   "source": [
    "# [`deathbeds`](http://deathbeds.github.io) uses notebooks as blog posts and modules"
   ]
  },
  {
   "cell_type": "markdown",
   "metadata": {},
   "source": [
    "    import deathbeds\n",
    "    deathbeds.__blacken_the_interactive_black_formatter, deathbeds.__Emojis_in_code_cells, deathbeds.__HTML_Flexbox"
   ]
  },
  {
   "cell_type": "code",
   "execution_count": 17,
   "metadata": {},
   "outputs": [
    {
     "data": {
      "text/html": [
       "<div class=\"flexed-container flexed-row\"><div class=\"flexed-item\" style=\"order: 0;\"><h1>Command Line Scripts from Notebooks</h1>\n",
       "</div><div class=\"flexed-item\" style=\"order: 0;\">\n",
       "        <iframe\n",
       "            width=\"500\"\n",
       "            height=\"450\"\n",
       "            src=\"http://nbviewer.jupyter.org/github/deathbeds/deathbeds.github.io/blob/master/readme.ipynb#Developer\"\n",
       "            frameborder=\"0\"\n",
       "            allowfullscreen\n",
       "        ></iframe>\n",
       "        </div></div>"
      ],
      "text/plain": [
       "Row(content=['# Command Line Scripts from Notebooks', 'http://nbviewer.jupyter.org/github/deathbeds/deathbeds.github.io/blob/master/readme.ipynb#Developer'])"
      ]
     },
     "metadata": {},
     "output_type": "display_data"
    },
    {
     "data": {
      "text/html": [
       "<div class=\"flexed-container flexed-row\"><div class=\"flexed-item\" style=\"order: 0;\">\n",
       "        <iframe\n",
       "            width=\"500\"\n",
       "            height=\"450\"\n",
       "            src=\"http://nbviewer.jupyter.org/github/deathbeds/deathbeds.github.io/blob/master/deathbeds/2018-07-15-click-arguments-from-a-notebook.ipynb\"\n",
       "            frameborder=\"0\"\n",
       "            allowfullscreen\n",
       "        ></iframe>\n",
       "        </div><div class=\"flexed-item\" style=\"order: 0;\">\n",
       "        <iframe\n",
       "            width=\"500\"\n",
       "            height=\"450\"\n",
       "            src=\"http://nbviewer.jupyter.org/github/deathbeds/deathbeds.github.io/blob/master/deathbeds/2018-07-03-Luigi-command-line.ipynb\"\n",
       "            frameborder=\"0\"\n",
       "            allowfullscreen\n",
       "        ></iframe>\n",
       "        </div></div>"
      ],
      "text/plain": [
       "Row(content=['http://nbviewer.jupyter.org/github/deathbeds/deathbeds.github.io/blob/master/deathbeds/2018-07-15-click-arguments-from-a-notebook.ipynb', 'http://nbviewer.jupyter.org/github/deathbeds/deathbeds.github.io/blob/master/deathbeds/2018-07-03-Luigi-command-line.ipynb'])"
      ]
     },
     "metadata": {},
     "output_type": "display_data"
    },
    {
     "data": {
      "text/html": [
       "\n",
       "        <iframe\n",
       "            width=\"100%\"\n",
       "            height=\"450\"\n",
       "            src=\"http://nbviewer.jupyter.org/github/deathbeds/importnb/blob/master/src/importnb/notebooks/parameterize.ipynb\"\n",
       "            frameborder=\"0\"\n",
       "            allowfullscreen\n",
       "        ></iframe>\n",
       "        "
      ],
      "text/plain": [
       "<IPython.lib.display.IFrame at 0x28098837a58>"
      ]
     },
     "metadata": {},
     "output_type": "display_data"
    }
   ],
   "source": [
    "    \"\"\"- \"# Command Line Scripts from Notebooks\"\n",
    "    - http://nbviewer.jupyter.org/github/deathbeds/deathbeds.github.io/blob/master/readme.ipynb#Developer\n",
    "    \"\"\"; \"\"\"\n",
    "    - http://nbviewer.jupyter.org/github/deathbeds/deathbeds.github.io/blob/master/deathbeds/2018-07-15-click-arguments-from-a-notebook.ipynb\n",
    "    - http://nbviewer.jupyter.org/github/deathbeds/deathbeds.github.io/blob/master/deathbeds/2018-07-03-Luigi-command-line.ipynb\"\"\"\n",
    "    \"\"\"http://nbviewer.jupyter.org/github/deathbeds/importnb/blob/master/src/importnb/notebooks/parameterize.ipynb\"\"\""
   ]
  },
  {
   "cell_type": "markdown",
   "metadata": {},
   "source": [
    "### Parameterize converts literal ast assignments"
   ]
  },
  {
   "cell_type": "code",
   "execution_count": 18,
   "metadata": {},
   "outputs": [],
   "source": [
    "    Ø = __name__ == '__main__' and not globals().get('__file__', None)"
   ]
  },
  {
   "cell_type": "code",
   "execution_count": 25,
   "metadata": {},
   "outputs": [
    {
     "name": "stdout",
     "output_type": "stream",
     "text": [
      "usage: modernnotebooks [-h] [--whitespace WHITESPACE]\n",
      "                       [--importnb_link IMPORTNB_LINK] [--testing TESTING]\n",
      "\n",
      "# Importing Notebooks Common practices use the notebooks as __scratch pads__.\n",
      "A simple reminder for a notebook to __restart and run all__ provides new\n",
      "opportunities for old ideas. Notebooks contain code that should be reused, and\n",
      "not rewritten. __code formatting is for computers.__ This presentation is\n",
      "created from a notebook. >>> from reincarnation.vignettes import\n",
      "modernnotebooks\n",
      "\n",
      "optional arguments:\n",
      "  -h, --help            show this help message and exit\n",
      "  --whitespace WHITESPACE\n",
      "                        whitespace : str = - | > When you really analyse it,\n",
      "                        Python’s whitespace sensitivity is actually the only\n",
      "                        logical choice for a programming language, because\n",
      "                        __you only communicate your intent one way, and that\n",
      "                        intent is read the same way by humans and computers.__\n",
      "                        The only reason to use a whitespace-insensitive\n",
      "                        language is that that’s the way we’ve always done\n",
      "                        things, and that’s never a good reason. That is why my\n",
      "                        programming language, Mars, has the same indentation\n",
      "                        rule as Python. - html:\n",
      "                        https://unspecified.wordpress.com/2011/10/18/why-\n",
      "                        pythons-whitespace-rule-is-right/\n",
      "  --importnb_link IMPORTNB_LINK\n",
      "                        importnb_link : str = http://nbviewer.jupyter.org/gith\n",
      "                        ub/deathbeds/importnb/blob/master/readme.ipynb\n",
      "  --testing TESTING     testing : str = http://nbviewer.jupyter.org/github/dea\n",
      "                        thbeds/deathbeds.github.io/blob/master/deathbeds/2018-\n",
      "                        07-31-Testing-notebooks.ipynb\n"
     ]
    }
   ],
   "source": [
    "    if Ø:\n",
    "        !ipython -m reusing.ipynb -- --help"
   ]
  },
  {
   "cell_type": "markdown",
   "metadata": {},
   "source": [
    "    i_am_a_variable = \"ROAR\""
   ]
  },
  {
   "cell_type": "markdown",
   "metadata": {},
   "source": [
    "# Markdown docstrings\n",
    "\n",
    "A common pattern discovered working with notebooks is the need for docstrings while working elsewhere.  When importing notebook we choose the opinions that:\n",
    "\n",
    "* The first cell, if it is markdown, will be the module docstring\n",
    "* Any cell preceeding a function or class definition will become a docstring if one is not defined."
   ]
  },
  {
   "cell_type": "code",
   "execution_count": 26,
   "metadata": {},
   "outputs": [],
   "source": [
    "    from IPython.utils.capture import capture_output\n",
    "    if Ø:\n",
    "        with capture_output(): from reincarnation.vignettes import reusing"
   ]
  },
  {
   "cell_type": "code",
   "execution_count": 27,
   "metadata": {},
   "outputs": [],
   "source": [
    "    from os import sep; import pandas as pd"
   ]
  },
  {
   "cell_type": "code",
   "execution_count": 29,
   "metadata": {},
   "outputs": [
    {
     "data": {
      "text/html": [
       "<div class=\"flexed-container flexed-row\"><div class=\"flexed-item\" style=\"order: 0;\"><p>The docstring of this presentation <strong>&lt;module 'reincarnation.vignettes.modernnotebooks' from 'c:\\users\\deathbeds\\reincarnation\\reincarnation\\vignettes\\modernnotebooks.ipynb'&gt;</strong> is based on the first markdown cell of the notebook.</p>\n",
       "</div><div class=\"flexed-item\" style=\"order: 0;\"><h1>Importing Notebooks</h1>\n",
       "<p>Common practices use the notebooks as <strong>scratch pads</strong>.  A simple reminder for a notebook to <strong>restart and run all</strong> provides new opportunities for old ideas.  Notebooks contain code that should be reused, and not rewritten.  <strong>code formatting is for computers.</strong>\n",
       "This presentation is created from a notebook.</p>\n",
       "<blockquote><blockquote><blockquote><p>from reincarnation.vignettes import modernnotebooks</p>\n",
       "</blockquote>\n",
       "</blockquote>\n",
       "</blockquote>\n",
       "</div></div>"
      ],
      "text/plain": [
       "Row(content=[\"The docstring of this presentation __<module 'reincarnation.vignettes.modernnotebooks' from 'c:\\\\users\\\\deathbeds\\\\reincarnation\\\\reincarnation\\\\vignettes\\\\modernnotebooks.ipynb'>__ is based on the first markdown cell of the notebook.\\n\", '# Importing Notebooks\\nCommon practices use the notebooks as __scratch pads__.  A simple reminder for a notebook to __restart and run all__ provides new opportunities for old ideas.  Notebooks contain code that should be reused, and not rewritten.  __code formatting is for computers.__\\nThis presentation is created from a notebook.\\n>>> from reincarnation.vignettes import modernnotebooks '])"
      ]
     },
     "metadata": {},
     "output_type": "display_data"
    }
   ],
   "source": [
    "    if Ø: F\"\"\"\n",
    "    - |\n",
    "            The docstring of this presentation __{reusing}__ is based on the first markdown cell of the notebook.\n",
    "\n",
    "    - '{reusing.__doc__}'\n",
    "    \"\"\""
   ]
  },
  {
   "cell_type": "code",
   "execution_count": 31,
   "metadata": {},
   "outputs": [],
   "source": [
    "    def test_the_markdown_docstrings_match():\n",
    "        from reincarnation.vignettes import reusing\n",
    "        assert ''.join(pd.read_json(reusing.__file__, typ='Series').cells[0]['source']) == reusing.__doc__.strip()"
   ]
  },
  {
   "cell_type": "markdown",
   "metadata": {},
   "source": [
    "# Notebooks are IPython, not Python.  "
   ]
  },
  {
   "cell_type": "markdown",
   "metadata": {},
   "source": [
    "## Pytest"
   ]
  },
  {
   "cell_type": "code",
   "execution_count": 33,
   "metadata": {},
   "outputs": [
    {
     "name": "stdout",
     "output_type": "stream",
     "text": [
      "============================= test session starts =============================\n",
      "platform win32 -- Python 3.6.5, pytest-3.5.1, py-1.5.3, pluggy-0.6.0\n",
      "Matplotlib: 2.2.2\n",
      "Freetype: 2.8.0\n",
      "rootdir: C:\\Users\\deathbeds\\reincarnation, inifile:\n",
      "plugins: xdist-1.22.5, testmon-0.9.12, remotedata-0.2.1, parallel-0.0.2, openfiles-0.3.0, mpl-0.9, localserver-0.4.1, forked-0.2, doctestplus-0.1.3, arraydiff-0.2, hypothesis-3.66.16, importnb-0.5.0\n",
      "collected 1 item\n",
      "<PytestModule 'reincarnation/vignettes/modernnotebooks.ipynb'>\n",
      "  <Function 'test_the_markdown_docstrings_match'>\n",
      "\n",
      "======================== no tests ran in 1.36 seconds =========================\n"
     ]
    }
   ],
   "source": [
    "    if Ø:\n",
    "        !ipython -m pytest -- --collect-only reusing.ipynb"
   ]
  },
  {
   "cell_type": "markdown",
   "metadata": {},
   "source": [
    "## Doctest\n",
    "\n",
    "`doctest` just works in a running IPython session."
   ]
  },
  {
   "cell_type": "code",
   "execution_count": 35,
   "metadata": {},
   "outputs": [
    {
     "name": "stdout",
     "output_type": "stream",
     "text": [
      "2 items had no tests:\n",
      "    __main__\n",
      "    __main__.test_the_markdown_docstrings_match\n",
      "0 tests in 2 items.\n",
      "0 passed and 0 failed.\n",
      "Test passed.\n",
      "TestResults(failed=0, attempted=0)\n",
      "Trying:\n",
      "    from reincarnation.vignettes import modernnotebooks\n",
      "Expecting nothing\n",
      "ok\n",
      "1 items had no tests:\n",
      "    reincarnation.vignettes.modernnotebooks.test_the_markdown_docstrings_match\n",
      "1 items passed all tests:\n",
      "   1 tests in reincarnation.vignettes.modernnotebooks\n",
      "1 tests in 2 items.\n",
      "1 passed and 0 failed.\n",
      "Test passed.\n",
      "TestResults(failed=0, attempted=1)\n"
     ]
    }
   ],
   "source": [
    "    if Ø: \n",
    "        import doctest\n",
    "        print(doctest.testmod(__import__(__name__), verbose=2))\n",
    "        print(doctest.testmod(reusing, verbose=2))"
   ]
  },
  {
   "cell_type": "code",
   "execution_count": 36,
   "metadata": {},
   "outputs": [
    {
     "data": {
      "text/html": [
       "<div class=\"flexed-container flexed-row\"><div class=\"flexed-item\" style=\"order: 0;\">\n",
       "        <iframe\n",
       "            width=\"500\"\n",
       "            height=\"450\"\n",
       "            src=\"http://nbviewer.jupyter.org/github/deathbeds/deathbeds.github.io/blob/master/deathbeds/2018-07-31-Testing-notebooks.ipynb\"\n",
       "            frameborder=\"0\"\n",
       "            allowfullscreen\n",
       "        ></iframe>\n",
       "        </div><div class=\"flexed-item\" style=\"order: 0;\"><h1>Learn more in our post about testing notebooks.</h1>\n",
       "</div></div>"
      ],
      "text/plain": [
       "Row(content=['http://nbviewer.jupyter.org/github/deathbeds/deathbeds.github.io/blob/master/deathbeds/2018-07-31-Testing-notebooks.ipynb', '# Learn more in our post about testing notebooks.'])"
      ]
     },
     "metadata": {},
     "output_type": "display_data"
    }
   ],
   "source": [
    "    F\"\"\"- {testing}\n",
    "    - '# Learn more in our post about testing notebooks.'\"\"\""
   ]
  }
 ],
 "metadata": {
  "kernelspec": {
   "display_name": "Python 3",
   "language": "python",
   "name": "python3"
  },
  "language_info": {
   "codemirror_mode": {
    "name": "ipython",
    "version": 3
   },
   "file_extension": ".py",
   "mimetype": "text/x-python",
   "name": "python",
   "nbconvert_exporter": "python",
   "pygments_lexer": "ipython3",
   "version": "3.6.5"
  }
 },
 "nbformat": 4,
 "nbformat_minor": 2
}
