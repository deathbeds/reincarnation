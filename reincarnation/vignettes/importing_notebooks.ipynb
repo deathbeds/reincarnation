{
 "cells": [
  {
   "cell_type": "markdown",
   "metadata": {},
   "source": [
    "# Importing Notebooks\n",
    "\n",
    "Common practices use the notebooks as scratch pads.  A simple reminder for a notebook to __restart and run all__ provides \n",
    "new opportunities for old ideas.  Notebooks contain code that should be reused, and not rewritten.  __code formatting is for computers.__"
   ]
  },
  {
   "cell_type": "code",
   "execution_count": 1,
   "metadata": {},
   "outputs": [
    {
     "data": {
      "text/html": [
       "<style>\n",
       ".jp-RenderedHTMLCommon pre code {\n",
       "    text-decoration: line-through wavy;\n",
       "}\n",
       ".jp-RenderedHTMLCommon pre code:hover {\n",
       "    text-decoration: none;\n",
       "    \n",
       "}\n",
       ".jp-Placeholder-content .jp-MoreHorizIcon {\n",
       "    background-size: 32px;\n",
       "}\n",
       "\n",
       "@import url(\"https://cdn.jsdelivr.net/npm/firacode@1.205.0/distr/fira_code.css\")\n",
       "\n",
       ".CodeMirror * {\n",
       "  font-family: 'Fira Code' !important; \n",
       "  font-variant-ligatures: initial !important;\n",
       "}\n",
       "\n",
       ".cm-string {\n",
       "    font-variant-ligatures: none;\n",
       "}\n",
       "</style><style>\n",
       ".jp-mod-presentationMode .jp-SideBar,\n",
       ".jp-mod-presentationMode #jp-top-panel {\n",
       "    opacity: 0.0;\n",
       "    transition: all 0.2s;\n",
       "}\n",
       ".jp-mod-presentationMode .jp-SideBar:hover,\n",
       ".jp-mod-presentationMode #jp-top-panel:hover {\n",
       "    opacity: 0.9;\n",
       "    transition: all 0.2s;\n",
       "}\n",
       "\n",
       "</style><style>\n",
       ".jp-mod-presentationMode.jp-ApplicationShell,\n",
       ".jp-mod-presentationMode .p-TabBar-content{\n",
       "    background-color: var(--jp-layout-color0);\n",
       "}\n",
       "</style><style>\n",
       ".jp-mod-presentationMode .p-DockPanel-widget,\n",
       ".jp-mod-presentationMode #jp-left-stack{\n",
       "    border-color: transparent;\n",
       "}\n",
       ".jp-mod-presentationMode .jp-Toolbar-item,\n",
       ".jp-mod-presentationMode .jp-Toolbar {\n",
       "    opacity: 0.1;\n",
       "    transition: all 0.2s;\n",
       "}\n",
       ".jp-mod-presentationMode .jp-Toolbar-item:hover,\n",
       ".jp-mod-presentationMode .jp-Toolbar:hover {\n",
       "    opacity: 0.9;\n",
       "    transition: all 0.2s;\n",
       "}\n",
       "\n",
       "</style><style>\n",
       ".jp-mod-presentationMode .jp-OutputPrompt,\n",
       ".jp-mod-presentationMode .jp-InputPrompt {\n",
       "    max-width: 2rem !important;\n",
       "    transition: all 0.2s;\n",
       "}\n",
       ".jp-mod-presentationMode .jp-Cell.jp-mod-selected .jp-OutputPrompt,\n",
       ".jp-mod-presentationMode .jp-Cell.jp-mod-selected .jp-InputPrompt,\n",
       ".jp-mod-presentationMode .jp-Cell:hover .jp-OutputPrompt,\n",
       ".jp-mod-presentationMode .jp-Cell:hover .jp-InputPrompt {\n",
       "    max-width: 10rem !important;\n",
       "    transition: all 0.2s;\n",
       "}\n",
       "\n",
       ".jp-mod-presentationMode .jp-Cell {\n",
       "    margin-bottom: 5rem;\n",
       "}\n",
       "\n",
       ".jp-mod-presentationMode hr {\n",
       "    opacity: 0.1;\n",
       "}\n",
       "</style>\n",
       "    <style>\n",
       "    .jp-TableOfContents-content h1, \n",
       "    .jp-TableOfContents-content h2 {\n",
       "        margin-bottom: var(--jp-ui-font-size0)\n",
       "    }\n",
       "    </style>\n",
       "    \n",
       "    <style>\n",
       "    .jp-mod-presentationMode {\n",
       "        --jp-content-heading-line-height: 1.25 !important;\n",
       "    }\n",
       "    </style>\n",
       "    "
      ],
      "text/plain": [
       "<IPython.core.display.HTML object>"
      ]
     },
     "metadata": {},
     "output_type": "display_data"
    },
    {
     "data": {
      "text/html": [
       "\n",
       "<style>\n",
       ".flexed-container {display: flex; margin: 30px;}\n",
       ".flexed-container.flexed-row {flex-direction: row;}\n",
       ".flexed-container.flexed-column {flex-direction: column;}\n",
       ".flexed-container iframe {min-width: 350px;}\n",
       ".flexed-item {order: 0; margin: 20px;}\n",
       "</style>"
      ],
      "text/plain": [
       "<IPython.core.display.HTML object>"
      ]
     },
     "metadata": {},
     "output_type": "display_data"
    }
   ],
   "source": [
    "    if __name__ == '__main__': \n",
    "        %reload_ext reincarnation"
   ]
  },
  {
   "cell_type": "code",
   "execution_count": 2,
   "metadata": {},
   "outputs": [
    {
     "data": {
      "text/html": [
       "<div class=\"flexed-container flexed-row\"><div class=\"flexed-item\" style=\"order: 0;\"><blockquote><p>When you really analyse it, Python’s whitespace sensitivity is actually the only logical choice for a programming language, because <strong>you only communicate your intent one way, and that intent is read the same way by humans and computers.</strong> The only reason to use a whitespace-insensitive language is that that’s the way we’ve always done things, and that’s never a good reason. That is why my programming language, Mars, has the same indentation rule as Python.</p>\n",
       "</blockquote>\n",
       "</div><div class=\"flexed-item\" style=\"order: 0;\">\n",
       "        <iframe\n",
       "            width=\"500\"\n",
       "            height=\"450\"\n",
       "            src=\"https://unspecified.wordpress.com/2011/10/18/why-pythons-whitespace-rule-is-right/\"\n",
       "            frameborder=\"0\"\n",
       "            allowfullscreen\n",
       "        ></iframe>\n",
       "        </div></div>"
      ],
      "text/plain": [
       "Row(content=['> When you really analyse it, Python’s whitespace sensitivity is actually the only logical choice for a programming language, because __you only communicate your intent one way, and that intent is read the same way by humans and computers.__ The only reason to use a whitespace-insensitive language is that that’s the way we’ve always done things, and that’s never a good reason. That is why my programming language, Mars, has the same indentation rule as Python.\\n', {'html': 'https://unspecified.wordpress.com/2011/10/18/why-pythons-whitespace-rule-is-right/'}])"
      ]
     },
     "metadata": {},
     "output_type": "display_data"
    },
    {
     "data": {
      "text/html": [
       "<div class=\"flexed-container flexed-row\"><div class=\"flexed-item\" style=\"order: 0;\">\n",
       "        <iframe\n",
       "            width=\"500\"\n",
       "            height=\"450\"\n",
       "            src=\"http://blog.stephenwolfram.com/2017/11/what-is-a-computational-essay/#a-new-form-of-student-work\"\n",
       "            frameborder=\"0\"\n",
       "            allowfullscreen\n",
       "        ></iframe>\n",
       "        </div><div class=\"flexed-item\" style=\"order: 0;\"><blockquote><p>When you write a computational essay, the code in your computational essay has to produce results that fit with the story you’re telling. It’s not like you’re doing a mathematical derivation, and then some teacher tells you you’ve got the wrong answer. <strong>You can immediately see what your code does, and whether it fits with the story you’re telling. If it doesn’t, well then maybe your code is wrong—or maybe your story is wrong.</strong></p>\n",
       "</blockquote>\n",
       "</div></div>"
      ],
      "text/plain": [
       "Row(content=[{'html': 'http://blog.stephenwolfram.com/2017/11/what-is-a-computational-essay/#a-new-form-of-student-work'}, '> When you write a computational essay, the code in your computational essay has to produce results that fit with the story you’re telling. It’s not like you’re doing a mathematical derivation, and then some teacher tells you you’ve got the wrong answer. __You can immediately see what your code does, and whether it fits with the story you’re telling. If it doesn’t, well then maybe your code is wrong—or maybe your story is wrong.__'])"
      ]
     },
     "metadata": {},
     "output_type": "display_data"
    }
   ],
   "source": [
    "    \"\"\"- |\n",
    "        > When you really analyse it, Python’s whitespace sensitivity is actually the only logical choice for a programming language, because __you only communicate your intent one way, and that intent is read the same way by humans and computers.__ The only reason to use a whitespace-insensitive language is that that’s the way we’ve always done things, and that’s never a good reason. That is why my programming language, Mars, has the same indentation rule as Python.\n",
    "    - html: https://unspecified.wordpress.com/2011/10/18/why-pythons-whitespace-rule-is-right/\"\"\";\"\"\"\n",
    "    - html: http://blog.stephenwolfram.com/2017/11/what-is-a-computational-essay/#a-new-form-of-student-work\n",
    "    - \"> When you write a computational essay, the code in your computational essay has to produce results that fit with the story you’re telling. It’s not like you’re doing a mathematical derivation, and then some teacher tells you you’ve got the wrong answer. __You can immediately see what your code does, and whether it fits with the story you’re telling. If it doesn’t, well then maybe your code is wrong—or maybe your story is wrong.__\"\n",
    "    \"\"\""
   ]
  },
  {
   "cell_type": "code",
   "execution_count": 3,
   "metadata": {},
   "outputs": [],
   "source": [
    "    from textwrap import indent; styleguide = indent(\"\"\"focus on a concise \"unit of thought\"\n",
    "    invest the time and editorial effort to create a good introduction\n",
    "    keep your narrative simple and reasonably linear\n",
    "    \"chunk\" both the text and the code into understandable parts\n",
    "    alternate between text, code, output, further links, etc.\n",
    "    leverage markdown by providing interesting links for background, deep-dive, etc.\n",
    "    code cells should not be long, < 10 lines\n",
    "    code cells must show that they've run, producing at least some output\n",
    "    load data from the container, not the network\n",
    "    clear all output then \"Run All\" -- or it didn't happen\n",
    "    video narratives: there's text, and there's subtext...\n",
    "    pause after each \"beat\" -- smile, breathe, allow people to follow you\"\"\", '* ')"
   ]
  },
  {
   "cell_type": "code",
   "execution_count": 4,
   "metadata": {},
   "outputs": [
    {
     "data": {
      "text/html": [
       "<div class=\"flexed-container flexed-row\"><div class=\"flexed-item\" style=\"order: 0;\">\n",
       "        <iframe\n",
       "            width=\"500\"\n",
       "            height=\"450\"\n",
       "            src=\"http://nbviewer.jupyter.org/github/jupyterday-atlanta-2016/oriole_jupyterday_atl/blob/master/oriole_talk.ipynb#\"\n",
       "            frameborder=\"0\"\n",
       "            allowfullscreen\n",
       "        ></iframe>\n",
       "        </div><div class=\"flexed-item\" style=\"order: 0;\"><ul>\n",
       "<li>focus on a concise \"unit of thought\"</li>\n",
       "<li>invest the time and editorial effort to create a good introduction</li>\n",
       "<li>keep your narrative simple and reasonably linear</li>\n",
       "<li>\"chunk\" both the text and the code into understandable parts</li>\n",
       "<li>alternate between text, code, output, further links, etc.</li>\n",
       "<li>leverage markdown by providing interesting links for background, deep-dive, etc.</li>\n",
       "<li>code cells should not be long, &lt; 10 lines</li>\n",
       "<li>code cells must show that they've run, producing at least some output</li>\n",
       "<li>load data from the container, not the network</li>\n",
       "<li>clear all output then \"Run All\" -- or it didn't happen</li>\n",
       "<li>video narratives: there's text, and there's subtext...</li>\n",
       "<li>pause after each \"beat\" -- smile, breathe, allow people to follow you</li>\n",
       "</ul>\n",
       "</div></div>"
      ],
      "text/plain": [
       "Row(content=['http://nbviewer.jupyter.org/github/jupyterday-atlanta-2016/oriole_jupyterday_atl/blob/master/oriole_talk.ipynb#', '* focus on a concise \"unit of thought\"\\n* invest the time and editorial effort to create a good introduction\\n* keep your narrative simple and reasonably linear\\n* \"chunk\" both the text and the code into understandable parts\\n* alternate between text, code, output, further links, etc.\\n* leverage markdown by providing interesting links for background, deep-dive, etc.\\n* code cells should not be long, < 10 lines\\n* code cells must show that they\\'ve run, producing at least some output\\n* load data from the container, not the network\\n* clear all output then \"Run All\" -- or it didn\\'t happen\\n* video narratives: there\\'s text, and there\\'s subtext...\\n* pause after each \"beat\" -- smile, breathe, allow people to follow you\\n'])"
      ]
     },
     "metadata": {},
     "output_type": "display_data"
    }
   ],
   "source": [
    "    F\"\"\"\n",
    "    - http://nbviewer.jupyter.org/github/jupyterday-atlanta-2016/oriole_jupyterday_atl/blob/master/oriole_talk.ipynb#\n",
    "    \n",
    "    - | \n",
    "    {indent(styleguide, '    ')}\n",
    "    \"\"\""
   ]
  },
  {
   "cell_type": "code",
   "execution_count": 5,
   "metadata": {},
   "outputs": [
    {
     "data": {
      "text/html": [
       "<div class=\"flexed-container flexed-row\"><div class=\"flexed-item\" style=\"order: 0;\">\n",
       "        <iframe\n",
       "            width=\"500\"\n",
       "            height=\"450\"\n",
       "            src=\"http://nbviewer.jupyter.org/github/deathbeds/importnb/blob/master/readme.ipynb\"\n",
       "            frameborder=\"0\"\n",
       "            allowfullscreen\n",
       "        ></iframe>\n",
       "        </div><div class=\"flexed-item\" style=\"order: 0;\"><ul>\n",
       "<li>pytest notebooks</li>\n",
       "<li>import notebooks as modules</li>\n",
       "<li>run notebooks as <code>ipython</code> scripts</li>\n",
       "<li>smart docstrings</li>\n",
       "</ul>\n",
       "<hr>\n",
       "<ul>\n",
       "<li>promotes sharing notebooks with tests and documentation</li>\n",
       "<li>enables incremental innovation</li>\n",
       "<li>creates readable, reusable, and reproducible notebooks</li>\n",
       "</ul>\n",
       "</div></div>"
      ],
      "text/plain": [
       "Row(content=['http://nbviewer.jupyter.org/github/deathbeds/importnb/blob/master/readme.ipynb', '* pytest notebooks\\n* import notebooks as modules\\n* run notebooks as `ipython` scripts\\n* smart docstrings\\n---\\n\\n* promotes sharing notebooks with tests and documentation\\n* enables incremental innovation\\n* creates readable, reusable, and reproducible notebooks\\n'])"
      ]
     },
     "metadata": {},
     "output_type": "display_data"
    }
   ],
   "source": [
    "    \"\"\"- http://nbviewer.jupyter.org/github/deathbeds/importnb/blob/master/readme.ipynb\n",
    "    - |\n",
    "        * pytest notebooks\n",
    "        * import notebooks as modules\n",
    "        * run notebooks as `ipython` scripts\n",
    "        * smart docstrings\n",
    "    \n",
    "        ---\n",
    "        \n",
    "        * promotes sharing notebooks with tests and documentation\n",
    "        * enables incremental innovation\n",
    "        * creates readable, reusable, and reproducible notebooks\n",
    "    \"\"\""
   ]
  },
  {
   "cell_type": "code",
   "execution_count": 6,
   "metadata": {},
   "outputs": [
    {
     "data": {
      "text/html": [
       "<div class=\"flexed-container flexed-row\"><div class=\"flexed-item\" style=\"order: 0;\"><h1><strong>Restart and run all</strong> or it didn't happen</h1>\n",
       "<p>A notebook that will restart and run all is reusable as a module and test.</p>\n",
       "</div><div class=\"flexed-item\" style=\"order: 0;\">\n",
       "        <iframe\n",
       "            width=\"500\"\n",
       "            height=\"450\"\n",
       "            src=\"http://nbviewer.jupyter.org/github/deathbeds/deathbeds.github.io/blob/master/deathbeds/2018-07-31-Testing-notebooks.ipynb\"\n",
       "            frameborder=\"0\"\n",
       "            allowfullscreen\n",
       "        ></iframe>\n",
       "        </div></div>"
      ],
      "text/plain": [
       "Row(content=[\"# **Restart and run all** or it didn't happen   \\n\\nA notebook that will restart and run all is reusable as a module and test.\\n\", 'http://nbviewer.jupyter.org/github/deathbeds/deathbeds.github.io/blob/master/deathbeds/2018-07-31-Testing-notebooks.ipynb'])"
      ]
     },
     "metadata": {},
     "output_type": "display_data"
    }
   ],
   "source": [
    "    \"\"\"- |\n",
    "         # **Restart and run all** or it didn't happen   \n",
    "         \n",
    "         A notebook that will restart and run all is reusable as a module and test.\n",
    "    - http://nbviewer.jupyter.org/github/deathbeds/deathbeds.github.io/blob/master/deathbeds/2018-07-31-Testing-notebooks.ipynb\n",
    "    \"\"\""
   ]
  },
  {
   "cell_type": "markdown",
   "metadata": {},
   "source": [
    "# [`deathbeds`](http://deathbeds.github.io) uses notebooks as blog posts and modules"
   ]
  },
  {
   "cell_type": "markdown",
   "metadata": {},
   "source": [
    "    import deathbeds\n",
    "    deathbeds.__blacken_the_interactive_black_formatter, deathbeds.__Emojis_in_code_cells, deathbeds.__HTML_Flexbox"
   ]
  },
  {
   "cell_type": "code",
   "execution_count": 7,
   "metadata": {},
   "outputs": [
    {
     "data": {
      "text/html": [
       "<div class=\"flexed-container flexed-row\"><div class=\"flexed-item\" style=\"order: 0;\"><h1>Command Line Scripts from Notebooks</h1>\n",
       "</div><div class=\"flexed-item\" style=\"order: 0;\">\n",
       "        <iframe\n",
       "            width=\"500\"\n",
       "            height=\"450\"\n",
       "            src=\"http://nbviewer.jupyter.org/github/deathbeds/deathbeds.github.io/blob/master/readme.ipynb#Developer\"\n",
       "            frameborder=\"0\"\n",
       "            allowfullscreen\n",
       "        ></iframe>\n",
       "        </div></div>"
      ],
      "text/plain": [
       "Row(content=['# Command Line Scripts from Notebooks', 'http://nbviewer.jupyter.org/github/deathbeds/deathbeds.github.io/blob/master/readme.ipynb#Developer'])"
      ]
     },
     "metadata": {},
     "output_type": "display_data"
    },
    {
     "data": {
      "text/html": [
       "<div class=\"flexed-container flexed-row\"><div class=\"flexed-item\" style=\"order: 0;\">\n",
       "        <iframe\n",
       "            width=\"500\"\n",
       "            height=\"450\"\n",
       "            src=\"http://nbviewer.jupyter.org/github/deathbeds/deathbeds.github.io/blob/master/deathbeds/2018-07-15-click-arguments-from-a-notebook.ipynb\"\n",
       "            frameborder=\"0\"\n",
       "            allowfullscreen\n",
       "        ></iframe>\n",
       "        </div><div class=\"flexed-item\" style=\"order: 0;\">\n",
       "        <iframe\n",
       "            width=\"500\"\n",
       "            height=\"450\"\n",
       "            src=\"http://nbviewer.jupyter.org/github/deathbeds/deathbeds.github.io/blob/master/deathbeds/2018-07-03-Luigi-command-line.ipynb\"\n",
       "            frameborder=\"0\"\n",
       "            allowfullscreen\n",
       "        ></iframe>\n",
       "        </div></div>"
      ],
      "text/plain": [
       "Row(content=['http://nbviewer.jupyter.org/github/deathbeds/deathbeds.github.io/blob/master/deathbeds/2018-07-15-click-arguments-from-a-notebook.ipynb', 'http://nbviewer.jupyter.org/github/deathbeds/deathbeds.github.io/blob/master/deathbeds/2018-07-03-Luigi-command-line.ipynb'])"
      ]
     },
     "metadata": {},
     "output_type": "display_data"
    },
    {
     "data": {
      "text/html": [
       "\n",
       "        <iframe\n",
       "            width=\"100%\"\n",
       "            height=\"450\"\n",
       "            src=\"http://nbviewer.jupyter.org/github/deathbeds/importnb/blob/master/src/importnb/notebooks/parameterize.ipynb\"\n",
       "            frameborder=\"0\"\n",
       "            allowfullscreen\n",
       "        ></iframe>\n",
       "        "
      ],
      "text/plain": [
       "<IPython.lib.display.IFrame at 0x224a39bbda0>"
      ]
     },
     "metadata": {},
     "output_type": "display_data"
    }
   ],
   "source": [
    "    \"\"\"- \"# Command Line Scripts from Notebooks\"\n",
    "    - http://nbviewer.jupyter.org/github/deathbeds/deathbeds.github.io/blob/master/readme.ipynb#Developer\n",
    "    \"\"\"; \"\"\"\n",
    "    - http://nbviewer.jupyter.org/github/deathbeds/deathbeds.github.io/blob/master/deathbeds/2018-07-15-click-arguments-from-a-notebook.ipynb\n",
    "    - http://nbviewer.jupyter.org/github/deathbeds/deathbeds.github.io/blob/master/deathbeds/2018-07-03-Luigi-command-line.ipynb\"\"\"\n",
    "    \"\"\"http://nbviewer.jupyter.org/github/deathbeds/importnb/blob/master/src/importnb/notebooks/parameterize.ipynb\"\"\""
   ]
  },
  {
   "cell_type": "code",
   "execution_count": 11,
   "metadata": {},
   "outputs": [],
   "source": [
    "    i_am_a_variable = \"ROAR\""
   ]
  },
  {
   "cell_type": "code",
   "execution_count": 12,
   "metadata": {},
   "outputs": [
    {
     "name": "stdout",
     "output_type": "stream",
     "text": [
      "usage: importing_notebooks [-h] [--i_am_a_variable I_AM_A_VARIABLE]\n",
      "\n",
      "# Importing Notebooks\n",
      "\n",
      "optional arguments:\n",
      "  -h, --help            show this help message and exit\n",
      "  --i_am_a_variable I_AM_A_VARIABLE\n",
      "                        i_am_a_variable : str = ROAR\n"
     ]
    }
   ],
   "source": [
    "    if not globals().get('__file__', None):\n",
    "        !ipython -m importing_notebooks -- --help"
   ]
  },
  {
   "cell_type": "code",
   "execution_count": null,
   "metadata": {},
   "outputs": [],
   "source": []
  }
 ],
 "metadata": {
  "kernelspec": {
   "display_name": "Python 3",
   "language": "python",
   "name": "python3"
  },
  "language_info": {
   "codemirror_mode": {
    "name": "ipython",
    "version": 3
   },
   "file_extension": ".py",
   "mimetype": "text/x-python",
   "name": "python",
   "nbconvert_exporter": "python",
   "pygments_lexer": "ipython3",
   "version": "3.6.5"
  }
 },
 "nbformat": 4,
 "nbformat_minor": 2
}
