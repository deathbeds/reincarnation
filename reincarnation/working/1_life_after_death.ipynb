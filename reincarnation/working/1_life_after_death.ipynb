{
 "cells": [
  {
   "cell_type": "markdown",
   "metadata": {},
   "source": [
    "# Life after Death\n",
    "\n",
    "Some notebooks were meant to live on.\n"
   ]
  },
  {
   "cell_type": "code",
   "execution_count": 6,
   "metadata": {},
   "outputs": [
    {
     "data": {
      "text/html": [
       "<style>\n",
       ".jp-RenderedHTMLCommon pre code {\n",
       "    text-decoration: line-through wavy;\n",
       "}\n",
       ".jp-RenderedHTMLCommon pre code:hover {\n",
       "    text-decoration: none;\n",
       "    \n",
       "}\n",
       ".jp-Placeholder-content .jp-MoreHorizIcon {\n",
       "    background-size: 32px;\n",
       "}\n",
       "\n",
       "@import url(\"https://cdn.jsdelivr.net/npm/firacode@1.205.0/distr/fira_code.css\")\n",
       "\n",
       ".CodeMirror * {\n",
       "  font-family: 'Fira Code' !important; \n",
       "  font-variant-ligatures: initial !important;\n",
       "}\n",
       "\n",
       ".cm-string {\n",
       "    font-variant-ligatures: none;\n",
       "}\n",
       "</style><style>\n",
       ".jp-mod-presentationMode .jp-SideBar,\n",
       ".jp-mod-presentationMode #jp-top-panel {\n",
       "    opacity: 0.0;\n",
       "    transition: all 0.2s;\n",
       "}\n",
       ".jp-mod-presentationMode .jp-SideBar:hover,\n",
       ".jp-mod-presentationMode #jp-top-panel:hover {\n",
       "    opacity: 0.9;\n",
       "    transition: all 0.2s;\n",
       "}\n",
       "\n",
       "</style><style>\n",
       ".jp-mod-presentationMode.jp-ApplicationShell,\n",
       ".jp-mod-presentationMode .p-TabBar-content{\n",
       "    background-color: var(--jp-layout-color0);\n",
       "}\n",
       "</style><style>\n",
       ".jp-mod-presentationMode .p-DockPanel-widget,\n",
       ".jp-mod-presentationMode #jp-left-stack{\n",
       "    border-color: transparent;\n",
       "}\n",
       ".jp-mod-presentationMode .jp-Toolbar-item,\n",
       ".jp-mod-presentationMode .jp-Toolbar {\n",
       "    opacity: 0.1;\n",
       "    transition: all 0.2s;\n",
       "}\n",
       ".jp-mod-presentationMode .jp-Toolbar-item:hover,\n",
       ".jp-mod-presentationMode .jp-Toolbar:hover {\n",
       "    opacity: 0.9;\n",
       "    transition: all 0.2s;\n",
       "}\n",
       "\n",
       "</style><style>\n",
       ".jp-mod-presentationMode .jp-OutputPrompt,\n",
       ".jp-mod-presentationMode .jp-InputPrompt {\n",
       "    max-width: 2rem !important;\n",
       "    transition: all 0.2s;\n",
       "}\n",
       ".jp-mod-presentationMode .jp-Cell.jp-mod-selected .jp-OutputPrompt,\n",
       ".jp-mod-presentationMode .jp-Cell.jp-mod-selected .jp-InputPrompt,\n",
       ".jp-mod-presentationMode .jp-Cell:hover .jp-OutputPrompt,\n",
       ".jp-mod-presentationMode .jp-Cell:hover .jp-InputPrompt {\n",
       "    max-width: 10rem !important;\n",
       "    transition: all 0.2s;\n",
       "}\n",
       "\n",
       ".jp-mod-presentationMode .jp-Cell {\n",
       "    margin-bottom: 5rem;\n",
       "}\n",
       "\n",
       ".jp-mod-presentationMode hr {\n",
       "    opacity: 0.1;\n",
       "}\n",
       "</style>\n",
       "    <style>\n",
       "    .jp-TableOfContents-content h1, \n",
       "    .jp-TableOfContents-content h2 {\n",
       "        margin-bottom: var(--jp-ui-font-size0)\n",
       "    }\n",
       "    </style>\n",
       "    \n",
       "    <style>\n",
       "    .jp-mod-presentationMode {\n",
       "        --jp-content-heading-line-height: 1.25 !important;\n",
       "    }\n",
       "    </style>\n",
       "    "
      ],
      "text/plain": [
       "<IPython.core.display.HTML object>"
      ]
     },
     "metadata": {},
     "output_type": "display_data"
    }
   ],
   "source": [
    "from . import master; from poser import *"
   ]
  },
  {
   "cell_type": "code",
   "execution_count": null,
   "metadata": {},
   "outputs": [],
   "source": [
    "The future is a word processor "
   ]
  },
  {
   "cell_type": "code",
   "execution_count": 7,
   "metadata": {},
   "outputs": [
    {
     "data": {
      "text/markdown": [
       "# Restart and run all or it didn't happen\n"
      ],
      "text/plain": [
       "<IPython.core.display.Markdown object>"
      ]
     },
     "metadata": {},
     "output_type": "display_data"
    }
   ],
   "source": [
    "# Restart and run all or it didn't happen"
   ]
  },
  {
   "cell_type": "code",
   "execution_count": 8,
   "metadata": {},
   "outputs": [
    {
     "data": {
      "text/markdown": [
       "    \"\"\"https://unspecified.wordpress.com/2011/10/18/why-pythons-whitespace-rule-is-right/\"\"\"\n",
       "    \n",
       "> When you really analyse it, Python’s whitespace sensitivity is actually the only logical choice\n",
       "for a programming language, because you only communicate your intent one way, and __that intent is \n",
       "read the same way by humans and computers__. The only reason to use a whitespace-insensitive language is that that’s the way we’ve always done things, and that’s never a good reason.\n"
      ],
      "text/plain": [
       "<IPython.core.display.Markdown object>"
      ]
     },
     "metadata": {},
     "output_type": "display_data"
    },
    {
     "data": {
      "text/html": [
       "\n",
       "        <iframe\n",
       "            width=\"600\"\n",
       "            height=\"400\"\n",
       "            src=\"https://unspecified.wordpress.com/2011/10/18/why-pythons-whitespace-rule-is-right/\"\n",
       "            frameborder=\"0\"\n",
       "            allowfullscreen\n",
       "        ></iframe>\n",
       "        "
      ],
      "text/plain": [
       "<IPython.lib.display.IFrame at 0x19e92fc1eb8>"
      ]
     },
     "metadata": {},
     "output_type": "display_data"
    }
   ],
   "source": [
    "    \"\"\"https://unspecified.wordpress.com/2011/10/18/why-pythons-whitespace-rule-is-right/\"\"\"\n",
    "    \n",
    "> When you really analyse it, Python’s whitespace sensitivity is actually the only logical choice\n",
    "for a programming language, because you only communicate your intent one way, and __that intent is \n",
    "read the same way by humans and computers__. The only reason to use a whitespace-insensitive language is that that’s the way we’ve always done things, and that’s never a good reason."
   ]
  },
  {
   "cell_type": "code",
   "execution_count": 9,
   "metadata": {},
   "outputs": [
    {
     "data": {
      "text/markdown": [
       "## Readability as a precursor to reproducibility\n",
       "\n",
       "    \n",
       "    \"\"\"graph {readability -- reusability -- reproducibility -- readability}\"\"\"\n"
      ],
      "text/plain": [
       "<IPython.core.display.Markdown object>"
      ]
     },
     "metadata": {},
     "output_type": "display_data"
    },
    {
     "data": {
      "image/svg+xml": [
       "<?xml version=\"1.0\" encoding=\"UTF-8\" standalone=\"no\"?>\r\n",
       "<!DOCTYPE svg PUBLIC \"-//W3C//DTD SVG 1.1//EN\"\r\n",
       " \"http://www.w3.org/Graphics/SVG/1.1/DTD/svg11.dtd\">\r\n",
       "<!-- Generated by graphviz version 2.38.0 (20140413.2041)\r\n",
       " -->\r\n",
       "<!-- Title: %3 Pages: 1 -->\r\n",
       "<svg width=\"156pt\" height=\"188pt\"\r\n",
       " viewBox=\"0.00 0.00 156.14 188.00\" xmlns=\"http://www.w3.org/2000/svg\" xmlns:xlink=\"http://www.w3.org/1999/xlink\">\r\n",
       "<g id=\"graph0\" class=\"graph\" transform=\"scale(1 1) rotate(0) translate(4 184)\">\r\n",
       "<title>%3</title>\r\n",
       "<polygon fill=\"white\" stroke=\"none\" points=\"-4,4 -4,-184 152.14,-184 152.14,4 -4,4\"/>\r\n",
       "<!-- readability -->\r\n",
       "<g id=\"node1\" class=\"node\"><title>readability</title>\r\n",
       "<ellipse fill=\"none\" stroke=\"black\" cx=\"84.4458\" cy=\"-162\" rx=\"48.1917\" ry=\"18\"/>\r\n",
       "<text text-anchor=\"middle\" x=\"84.4458\" y=\"-158.3\" font-family=\"Times New Roman,serif\" font-size=\"14.00\">readability</text>\r\n",
       "</g>\r\n",
       "<!-- reusability -->\r\n",
       "<g id=\"node2\" class=\"node\"><title>reusability</title>\r\n",
       "<ellipse fill=\"none\" stroke=\"black\" cx=\"47.4458\" cy=\"-90\" rx=\"47.3916\" ry=\"18\"/>\r\n",
       "<text text-anchor=\"middle\" x=\"47.4458\" y=\"-86.3\" font-family=\"Times New Roman,serif\" font-size=\"14.00\">reusability</text>\r\n",
       "</g>\r\n",
       "<!-- readability&#45;&#45;reusability -->\r\n",
       "<g id=\"edge1\" class=\"edge\"><title>readability&#45;&#45;reusability</title>\r\n",
       "<path fill=\"none\" stroke=\"black\" d=\"M75.4891,-144.055C69.6718,-133.049 62.1208,-118.764 56.32,-107.789\"/>\r\n",
       "</g>\r\n",
       "<!-- reproducibility -->\r\n",
       "<g id=\"node3\" class=\"node\"><title>reproducibility</title>\r\n",
       "<ellipse fill=\"none\" stroke=\"black\" cx=\"84.4458\" cy=\"-18\" rx=\"63.8893\" ry=\"18\"/>\r\n",
       "<text text-anchor=\"middle\" x=\"84.4458\" y=\"-14.3\" font-family=\"Times New Roman,serif\" font-size=\"14.00\">reproducibility</text>\r\n",
       "</g>\r\n",
       "<!-- reusability&#45;&#45;reproducibility -->\r\n",
       "<g id=\"edge2\" class=\"edge\"><title>reusability&#45;&#45;reproducibility</title>\r\n",
       "<path fill=\"none\" stroke=\"black\" d=\"M56.4025,-72.055C62.1342,-61.2111 69.5491,-47.183 75.3146,-36.2753\"/>\r\n",
       "</g>\r\n",
       "<!-- reproducibility&#45;&#45;readability -->\r\n",
       "<g id=\"edge3\" class=\"edge\"><title>reproducibility&#45;&#45;readability</title>\r\n",
       "<path fill=\"none\" stroke=\"black\" d=\"M92.3387,-36.2548C96.553,-46.4231 101.303,-59.6731 103.446,-72 106.186,-87.7636 106.186,-92.2364 103.446,-108 101.27,-120.519 96.4039,-133.991 92.1416,-144.22\"/>\r\n",
       "</g>\r\n",
       "</g>\r\n",
       "</svg>\r\n"
      ],
      "text/plain": [
       "<graphviz.files.Source at 0x19e94f7e160>"
      ]
     },
     "metadata": {},
     "output_type": "display_data"
    }
   ],
   "source": [
    "## Readability as a precursor to reproducibility\n",
    "\n",
    "    \n",
    "    \"\"\"graph {readability -- reusability -- reproducibility -- readability}\"\"\""
   ]
  },
  {
   "cell_type": "code",
   "execution_count": 10,
   "metadata": {},
   "outputs": [
    {
     "data": {
      "text/markdown": [
       "## [Literate Computing](http://blog.fperez.org/2013/04/literate-computing-and-computational.html)\n",
       "\n",
       "    \"\"\"http://nbviewer.jupyter.org/github/deathbeds/wtf/blob/master/interactive.ipynb\"\"\"\n"
      ],
      "text/plain": [
       "<IPython.core.display.Markdown object>"
      ]
     },
     "metadata": {},
     "output_type": "display_data"
    },
    {
     "data": {
      "text/html": [
       "\n",
       "        <iframe\n",
       "            width=\"600\"\n",
       "            height=\"400\"\n",
       "            src=\"http://nbviewer.jupyter.org/github/deathbeds/wtf/blob/master/interactive.ipynb\"\n",
       "            frameborder=\"0\"\n",
       "            allowfullscreen\n",
       "        ></iframe>\n",
       "        "
      ],
      "text/plain": [
       "<IPython.lib.display.IFrame at 0x19e94f6dc88>"
      ]
     },
     "metadata": {},
     "output_type": "display_data"
    }
   ],
   "source": [
    "## [Literate Computing](http://blog.fperez.org/2013/04/literate-computing-and-computational.html)\n",
    "\n",
    "    \"\"\"http://nbviewer.jupyter.org/github/deathbeds/wtf/blob/master/interactive.ipynb\"\"\""
   ]
  },
  {
   "cell_type": "code",
   "execution_count": 11,
   "metadata": {},
   "outputs": [
    {
     "data": {
      "text/markdown": [
       "    \"\"\"graph {narrative -- input media -- output {narrative compute media} -- notebooks -- {blogs pdf source markdown html presentation}\n",
       "    subgraph cluster_nb {narrative compute media label=\"Computational Essays\"}}\"\"\"\n"
      ],
      "text/plain": [
       "<IPython.core.display.Markdown object>"
      ]
     },
     "metadata": {},
     "output_type": "display_data"
    },
    {
     "data": {
      "image/svg+xml": [
       "<?xml version=\"1.0\" encoding=\"UTF-8\" standalone=\"no\"?>\r\n",
       "<!DOCTYPE svg PUBLIC \"-//W3C//DTD SVG 1.1//EN\"\r\n",
       " \"http://www.w3.org/Graphics/SVG/1.1/DTD/svg11.dtd\">\r\n",
       "<!-- Generated by graphviz version 2.38.0 (20140413.2041)\r\n",
       " -->\r\n",
       "<!-- Title: %3 Pages: 1 -->\r\n",
       "<svg width=\"545pt\" height=\"227pt\"\r\n",
       " viewBox=\"0.00 0.00 545.14 227.00\" xmlns=\"http://www.w3.org/2000/svg\" xmlns:xlink=\"http://www.w3.org/1999/xlink\">\r\n",
       "<g id=\"graph0\" class=\"graph\" transform=\"scale(1 1) rotate(0) translate(4 223)\">\r\n",
       "<title>%3</title>\r\n",
       "<polygon fill=\"white\" stroke=\"none\" points=\"-4,4 -4,-223 541.142,-223 541.142,4 -4,4\"/>\r\n",
       "<g id=\"clust3\" class=\"cluster\"><title>cluster_nb</title>\r\n",
       "<polygon fill=\"none\" stroke=\"black\" points=\"88.5473,-136 88.5473,-211 373.547,-211 373.547,-136 88.5473,-136\"/>\r\n",
       "<text text-anchor=\"middle\" x=\"231.047\" y=\"-195.8\" font-family=\"Times New Roman,serif\" font-size=\"14.00\">Computational Essays</text>\r\n",
       "</g>\r\n",
       "<!-- narrative -->\r\n",
       "<g id=\"node1\" class=\"node\"><title>narrative</title>\r\n",
       "<ellipse fill=\"none\" stroke=\"black\" cx=\"138.547\" cy=\"-162\" rx=\"41.6928\" ry=\"18\"/>\r\n",
       "<text text-anchor=\"middle\" x=\"138.547\" y=\"-158.3\" font-family=\"Times New Roman,serif\" font-size=\"14.00\">narrative</text>\r\n",
       "</g>\r\n",
       "<!-- input -->\r\n",
       "<g id=\"node2\" class=\"node\"><title>input</title>\r\n",
       "<ellipse fill=\"none\" stroke=\"black\" cx=\"138.547\" cy=\"-90\" rx=\"28.6953\" ry=\"18\"/>\r\n",
       "<text text-anchor=\"middle\" x=\"138.547\" y=\"-86.3\" font-family=\"Times New Roman,serif\" font-size=\"14.00\">input</text>\r\n",
       "</g>\r\n",
       "<!-- narrative&#45;&#45;input -->\r\n",
       "<g id=\"edge1\" class=\"edge\"><title>narrative&#45;&#45;input</title>\r\n",
       "<path fill=\"none\" stroke=\"black\" d=\"M138.547,-143.697C138.547,-132.846 138.547,-118.917 138.547,-108.104\"/>\r\n",
       "</g>\r\n",
       "<!-- notebooks -->\r\n",
       "<g id=\"node6\" class=\"node\"><title>notebooks</title>\r\n",
       "<ellipse fill=\"none\" stroke=\"black\" cx=\"237.547\" cy=\"-90\" rx=\"49.2915\" ry=\"18\"/>\r\n",
       "<text text-anchor=\"middle\" x=\"237.547\" y=\"-86.3\" font-family=\"Times New Roman,serif\" font-size=\"14.00\">notebooks</text>\r\n",
       "</g>\r\n",
       "<!-- narrative&#45;&#45;notebooks -->\r\n",
       "<g id=\"edge3\" class=\"edge\"><title>narrative&#45;&#45;notebooks</title>\r\n",
       "<path fill=\"none\" stroke=\"black\" d=\"M159.543,-146.155C176.116,-134.436 199.157,-118.145 215.898,-106.308\"/>\r\n",
       "</g>\r\n",
       "<!-- media -->\r\n",
       "<g id=\"node3\" class=\"node\"><title>media</title>\r\n",
       "<ellipse fill=\"none\" stroke=\"black\" cx=\"333.547\" cy=\"-162\" rx=\"32.4942\" ry=\"18\"/>\r\n",
       "<text text-anchor=\"middle\" x=\"333.547\" y=\"-158.3\" font-family=\"Times New Roman,serif\" font-size=\"14.00\">media</text>\r\n",
       "</g>\r\n",
       "<!-- output -->\r\n",
       "<g id=\"node4\" class=\"node\"><title>output</title>\r\n",
       "<ellipse fill=\"none\" stroke=\"black\" cx=\"339.547\" cy=\"-90\" rx=\"34.394\" ry=\"18\"/>\r\n",
       "<text text-anchor=\"middle\" x=\"339.547\" y=\"-86.3\" font-family=\"Times New Roman,serif\" font-size=\"14.00\">output</text>\r\n",
       "</g>\r\n",
       "<!-- media&#45;&#45;output -->\r\n",
       "<g id=\"edge2\" class=\"edge\"><title>media&#45;&#45;output</title>\r\n",
       "<path fill=\"none\" stroke=\"black\" d=\"M335.03,-143.697C335.96,-132.846 337.154,-118.917 338.081,-108.104\"/>\r\n",
       "</g>\r\n",
       "<!-- media&#45;&#45;notebooks -->\r\n",
       "<g id=\"edge4\" class=\"edge\"><title>media&#45;&#45;notebooks</title>\r\n",
       "<path fill=\"none\" stroke=\"black\" d=\"M314.581,-147.17C298.516,-135.456 275.5,-118.674 258.814,-106.507\"/>\r\n",
       "</g>\r\n",
       "<!-- compute -->\r\n",
       "<g id=\"node5\" class=\"node\"><title>compute</title>\r\n",
       "<ellipse fill=\"none\" stroke=\"black\" cx=\"240.547\" cy=\"-162\" rx=\"42.4939\" ry=\"18\"/>\r\n",
       "<text text-anchor=\"middle\" x=\"240.547\" y=\"-158.3\" font-family=\"Times New Roman,serif\" font-size=\"14.00\">compute</text>\r\n",
       "</g>\r\n",
       "<!-- compute&#45;&#45;notebooks -->\r\n",
       "<g id=\"edge5\" class=\"edge\"><title>compute&#45;&#45;notebooks</title>\r\n",
       "<path fill=\"none\" stroke=\"black\" d=\"M239.806,-143.697C239.341,-132.846 238.744,-118.917 238.28,-108.104\"/>\r\n",
       "</g>\r\n",
       "<!-- blogs -->\r\n",
       "<g id=\"node7\" class=\"node\"><title>blogs</title>\r\n",
       "<ellipse fill=\"none\" stroke=\"black\" cx=\"30.5473\" cy=\"-18\" rx=\"30.5947\" ry=\"18\"/>\r\n",
       "<text text-anchor=\"middle\" x=\"30.5473\" y=\"-14.3\" font-family=\"Times New Roman,serif\" font-size=\"14.00\">blogs</text>\r\n",
       "</g>\r\n",
       "<!-- notebooks&#45;&#45;blogs -->\r\n",
       "<g id=\"edge6\" class=\"edge\"><title>notebooks&#45;&#45;blogs</title>\r\n",
       "<path fill=\"none\" stroke=\"black\" d=\"M200.061,-78.2093C165.987,-68.1403 114.477,-52.2645 70.5473,-36 65.3109,-34.0613 59.7595,-31.8229 54.5128,-29.6201\"/>\r\n",
       "</g>\r\n",
       "<!-- pdf -->\r\n",
       "<g id=\"node8\" class=\"node\"><title>pdf</title>\r\n",
       "<ellipse fill=\"none\" stroke=\"black\" cx=\"106.547\" cy=\"-18\" rx=\"27\" ry=\"18\"/>\r\n",
       "<text text-anchor=\"middle\" x=\"106.547\" y=\"-14.3\" font-family=\"Times New Roman,serif\" font-size=\"14.00\">pdf</text>\r\n",
       "</g>\r\n",
       "<!-- notebooks&#45;&#45;pdf -->\r\n",
       "<g id=\"edge7\" class=\"edge\"><title>notebooks&#45;&#45;pdf</title>\r\n",
       "<path fill=\"none\" stroke=\"black\" d=\"M210.721,-74.6655C185.87,-61.3859 149.445,-41.9225 126.906,-29.8787\"/>\r\n",
       "</g>\r\n",
       "<!-- source -->\r\n",
       "<g id=\"node9\" class=\"node\"><title>source</title>\r\n",
       "<ellipse fill=\"none\" stroke=\"black\" cx=\"186.547\" cy=\"-18\" rx=\"35.194\" ry=\"18\"/>\r\n",
       "<text text-anchor=\"middle\" x=\"186.547\" y=\"-14.3\" font-family=\"Times New Roman,serif\" font-size=\"14.00\">source</text>\r\n",
       "</g>\r\n",
       "<!-- notebooks&#45;&#45;source -->\r\n",
       "<g id=\"edge8\" class=\"edge\"><title>notebooks&#45;&#45;source</title>\r\n",
       "<path fill=\"none\" stroke=\"black\" d=\"M225.461,-72.411C217.213,-61.0907 206.349,-46.1782 198.196,-34.9881\"/>\r\n",
       "</g>\r\n",
       "<!-- markdown -->\r\n",
       "<g id=\"node10\" class=\"node\"><title>markdown</title>\r\n",
       "<ellipse fill=\"none\" stroke=\"black\" cx=\"288.547\" cy=\"-18\" rx=\"49.2915\" ry=\"18\"/>\r\n",
       "<text text-anchor=\"middle\" x=\"288.547\" y=\"-14.3\" font-family=\"Times New Roman,serif\" font-size=\"14.00\">markdown</text>\r\n",
       "</g>\r\n",
       "<!-- notebooks&#45;&#45;markdown -->\r\n",
       "<g id=\"edge9\" class=\"edge\"><title>notebooks&#45;&#45;markdown</title>\r\n",
       "<path fill=\"none\" stroke=\"black\" d=\"M249.634,-72.411C257.763,-61.2524 268.436,-46.6036 276.548,-35.4699\"/>\r\n",
       "</g>\r\n",
       "<!-- html -->\r\n",
       "<g id=\"node11\" class=\"node\"><title>html</title>\r\n",
       "<ellipse fill=\"none\" stroke=\"black\" cx=\"382.547\" cy=\"-18\" rx=\"27\" ry=\"18\"/>\r\n",
       "<text text-anchor=\"middle\" x=\"382.547\" y=\"-14.3\" font-family=\"Times New Roman,serif\" font-size=\"14.00\">html</text>\r\n",
       "</g>\r\n",
       "<!-- notebooks&#45;&#45;html -->\r\n",
       "<g id=\"edge10\" class=\"edge\"><title>notebooks&#45;&#45;html</title>\r\n",
       "<path fill=\"none\" stroke=\"black\" d=\"M266.195,-75.1703C294.091,-61.703 335.863,-41.5374 361.033,-29.3864\"/>\r\n",
       "</g>\r\n",
       "<!-- presentation -->\r\n",
       "<g id=\"node12\" class=\"node\"><title>presentation</title>\r\n",
       "<ellipse fill=\"none\" stroke=\"black\" cx=\"482.547\" cy=\"-18\" rx=\"54.6905\" ry=\"18\"/>\r\n",
       "<text text-anchor=\"middle\" x=\"482.547\" y=\"-14.3\" font-family=\"Times New Roman,serif\" font-size=\"14.00\">presentation</text>\r\n",
       "</g>\r\n",
       "<!-- notebooks&#45;&#45;presentation -->\r\n",
       "<g id=\"edge11\" class=\"edge\"><title>notebooks&#45;&#45;presentation</title>\r\n",
       "<path fill=\"none\" stroke=\"black\" d=\"M274.996,-78.1916C282.15,-76.1321 289.579,-73.9967 296.547,-72 346.901,-57.5716 404.955,-41.0469 442.626,-30.3386\"/>\r\n",
       "</g>\r\n",
       "</g>\r\n",
       "</svg>\r\n"
      ],
      "text/plain": [
       "<graphviz.files.Source at 0x19e94f6d6a0>"
      ]
     },
     "metadata": {},
     "output_type": "display_data"
    }
   ],
   "source": [
    "    \"\"\"graph {narrative -- input media -- output {narrative compute media} -- notebooks -- {blogs pdf source markdown html presentation}\n",
    "    subgraph cluster_nb {narrative compute media label=\"Computational Essays\"}}\"\"\""
   ]
  },
  {
   "cell_type": "code",
   "execution_count": 12,
   "metadata": {},
   "outputs": [
    {
     "data": {
      "text/markdown": [
       "    \"\"\"digraph {\n",
       "            Literacy -> {\n",
       "                Textual Computational\n",
       "            }\n",
       "            Textual -> {Markdown Latex}\n",
       "            subgraph cluster_repl {\n",
       "                label=\"REPL\"\n",
       "                read -> evaluate -> print print -> read [label=\"loop\\n[interact]\"]}\n",
       "            Computational->read\n",
       "            evaluate -> test read -> documentation print -> display\n",
       "            display -> {HTML Images Videos Sound Maps \"...\"}}\"\"\"\n"
      ],
      "text/plain": [
       "<IPython.core.display.Markdown object>"
      ]
     },
     "metadata": {},
     "output_type": "display_data"
    },
    {
     "data": {
      "image/svg+xml": [
       "<?xml version=\"1.0\" encoding=\"UTF-8\" standalone=\"no\"?>\r\n",
       "<!DOCTYPE svg PUBLIC \"-//W3C//DTD SVG 1.1//EN\"\r\n",
       " \"http://www.w3.org/Graphics/SVG/1.1/DTD/svg11.dtd\">\r\n",
       "<!-- Generated by graphviz version 2.38.0 (20140413.2041)\r\n",
       " -->\r\n",
       "<!-- Title: %3 Pages: 1 -->\r\n",
       "<svg width=\"531pt\" height=\"503pt\"\r\n",
       " viewBox=\"0.00 0.00 530.74 503.00\" xmlns=\"http://www.w3.org/2000/svg\" xmlns:xlink=\"http://www.w3.org/1999/xlink\">\r\n",
       "<g id=\"graph0\" class=\"graph\" transform=\"scale(1 1) rotate(0) translate(4 499)\">\r\n",
       "<title>%3</title>\r\n",
       "<polygon fill=\"white\" stroke=\"none\" points=\"-4,4 -4,-499 526.741,-499 526.741,4 -4,4\"/>\r\n",
       "<g id=\"clust3\" class=\"cluster\"><title>cluster_repl</title>\r\n",
       "<polygon fill=\"none\" stroke=\"black\" points=\"202.397,-138 202.397,-359 384.397,-359 384.397,-138 202.397,-138\"/>\r\n",
       "<text text-anchor=\"middle\" x=\"293.397\" y=\"-343.8\" font-family=\"Times New Roman,serif\" font-size=\"14.00\">REPL</text>\r\n",
       "</g>\r\n",
       "<!-- Literacy -->\r\n",
       "<g id=\"node1\" class=\"node\"><title>Literacy</title>\r\n",
       "<ellipse fill=\"none\" stroke=\"black\" cx=\"218.397\" cy=\"-477\" rx=\"40.0939\" ry=\"18\"/>\r\n",
       "<text text-anchor=\"middle\" x=\"218.397\" y=\"-473.3\" font-family=\"Times New Roman,serif\" font-size=\"14.00\">Literacy</text>\r\n",
       "</g>\r\n",
       "<!-- Textual -->\r\n",
       "<g id=\"node2\" class=\"node\"><title>Textual</title>\r\n",
       "<ellipse fill=\"none\" stroke=\"black\" cx=\"144.397\" cy=\"-404\" rx=\"37.8943\" ry=\"18\"/>\r\n",
       "<text text-anchor=\"middle\" x=\"144.397\" y=\"-400.3\" font-family=\"Times New Roman,serif\" font-size=\"14.00\">Textual</text>\r\n",
       "</g>\r\n",
       "<!-- Literacy&#45;&gt;Textual -->\r\n",
       "<g id=\"edge1\" class=\"edge\"><title>Literacy&#45;&gt;Textual</title>\r\n",
       "<path fill=\"none\" stroke=\"black\" d=\"M201.974,-460.243C191.941,-450.617 178.948,-438.151 167.845,-427.497\"/>\r\n",
       "<polygon fill=\"black\" stroke=\"black\" points=\"170.158,-424.867 160.519,-420.469 165.312,-429.918 170.158,-424.867\"/>\r\n",
       "</g>\r\n",
       "<!-- Computational -->\r\n",
       "<g id=\"node3\" class=\"node\"><title>Computational</title>\r\n",
       "<ellipse fill=\"none\" stroke=\"black\" cx=\"268.397\" cy=\"-404\" rx=\"63.8893\" ry=\"18\"/>\r\n",
       "<text text-anchor=\"middle\" x=\"268.397\" y=\"-400.3\" font-family=\"Times New Roman,serif\" font-size=\"14.00\">Computational</text>\r\n",
       "</g>\r\n",
       "<!-- Literacy&#45;&gt;Computational -->\r\n",
       "<g id=\"edge2\" class=\"edge\"><title>Literacy&#45;&gt;Computational</title>\r\n",
       "<path fill=\"none\" stroke=\"black\" d=\"M229.993,-459.533C236.152,-450.788 243.851,-439.856 250.735,-430.08\"/>\r\n",
       "<polygon fill=\"black\" stroke=\"black\" points=\"253.62,-432.062 256.516,-421.871 247.896,-428.032 253.62,-432.062\"/>\r\n",
       "</g>\r\n",
       "<!-- Markdown -->\r\n",
       "<g id=\"node4\" class=\"node\"><title>Markdown</title>\r\n",
       "<ellipse fill=\"none\" stroke=\"black\" cx=\"144.397\" cy=\"-310\" rx=\"50.0912\" ry=\"18\"/>\r\n",
       "<text text-anchor=\"middle\" x=\"144.397\" y=\"-306.3\" font-family=\"Times New Roman,serif\" font-size=\"14.00\">Markdown</text>\r\n",
       "</g>\r\n",
       "<!-- Textual&#45;&gt;Markdown -->\r\n",
       "<g id=\"edge3\" class=\"edge\"><title>Textual&#45;&gt;Markdown</title>\r\n",
       "<path fill=\"none\" stroke=\"black\" d=\"M144.397,-385.696C144.397,-372.46 144.397,-353.947 144.397,-338.663\"/>\r\n",
       "<polygon fill=\"black\" stroke=\"black\" points=\"147.897,-338.227 144.397,-328.227 140.897,-338.227 147.897,-338.227\"/>\r\n",
       "</g>\r\n",
       "<!-- Latex -->\r\n",
       "<g id=\"node5\" class=\"node\"><title>Latex</title>\r\n",
       "<ellipse fill=\"none\" stroke=\"black\" cx=\"45.3968\" cy=\"-310\" rx=\"30.5947\" ry=\"18\"/>\r\n",
       "<text text-anchor=\"middle\" x=\"45.3968\" y=\"-306.3\" font-family=\"Times New Roman,serif\" font-size=\"14.00\">Latex</text>\r\n",
       "</g>\r\n",
       "<!-- Textual&#45;&gt;Latex -->\r\n",
       "<g id=\"edge4\" class=\"edge\"><title>Textual&#45;&gt;Latex</title>\r\n",
       "<path fill=\"none\" stroke=\"black\" d=\"M123.247,-389.051C111.559,-380.905 97.0842,-370.073 85.3968,-359 77.6822,-351.691 70.0142,-342.946 63.4868,-334.935\"/>\r\n",
       "<polygon fill=\"black\" stroke=\"black\" points=\"66.1019,-332.6 57.1434,-326.944 60.6191,-336.952 66.1019,-332.6\"/>\r\n",
       "</g>\r\n",
       "<!-- read -->\r\n",
       "<g id=\"node6\" class=\"node\"><title>read</title>\r\n",
       "<ellipse fill=\"none\" stroke=\"black\" cx=\"295.397\" cy=\"-310\" rx=\"27\" ry=\"18\"/>\r\n",
       "<text text-anchor=\"middle\" x=\"295.397\" y=\"-306.3\" font-family=\"Times New Roman,serif\" font-size=\"14.00\">read</text>\r\n",
       "</g>\r\n",
       "<!-- Computational&#45;&gt;read -->\r\n",
       "<g id=\"edge8\" class=\"edge\"><title>Computational&#45;&gt;read</title>\r\n",
       "<path fill=\"none\" stroke=\"black\" d=\"M273.475,-385.696C277.422,-372.247 282.968,-353.35 287.494,-337.928\"/>\r\n",
       "<polygon fill=\"black\" stroke=\"black\" points=\"290.975,-338.497 290.432,-327.916 284.258,-336.526 290.975,-338.497\"/>\r\n",
       "</g>\r\n",
       "<!-- evaluate -->\r\n",
       "<g id=\"node7\" class=\"node\"><title>evaluate</title>\r\n",
       "<ellipse fill=\"none\" stroke=\"black\" cx=\"336.397\" cy=\"-237\" rx=\"39.7935\" ry=\"18\"/>\r\n",
       "<text text-anchor=\"middle\" x=\"336.397\" y=\"-233.3\" font-family=\"Times New Roman,serif\" font-size=\"14.00\">evaluate</text>\r\n",
       "</g>\r\n",
       "<!-- read&#45;&gt;evaluate -->\r\n",
       "<g id=\"edge5\" class=\"edge\"><title>read&#45;&gt;evaluate</title>\r\n",
       "<path fill=\"none\" stroke=\"black\" d=\"M304.7,-292.889C309.714,-284.208 316.015,-273.295 321.677,-263.491\"/>\r\n",
       "<polygon fill=\"black\" stroke=\"black\" points=\"324.876,-264.95 326.846,-254.54 318.814,-261.45 324.876,-264.95\"/>\r\n",
       "</g>\r\n",
       "<!-- documentation -->\r\n",
       "<g id=\"node10\" class=\"node\"><title>documentation</title>\r\n",
       "<ellipse fill=\"none\" stroke=\"black\" cx=\"458.397\" cy=\"-237\" rx=\"64.189\" ry=\"18\"/>\r\n",
       "<text text-anchor=\"middle\" x=\"458.397\" y=\"-233.3\" font-family=\"Times New Roman,serif\" font-size=\"14.00\">documentation</text>\r\n",
       "</g>\r\n",
       "<!-- read&#45;&gt;documentation -->\r\n",
       "<g id=\"edge10\" class=\"edge\"><title>read&#45;&gt;documentation</title>\r\n",
       "<path fill=\"none\" stroke=\"black\" d=\"M317.38,-299.425C342.501,-288.482 384.212,-270.314 415.769,-256.568\"/>\r\n",
       "<polygon fill=\"black\" stroke=\"black\" points=\"417.437,-259.659 425.207,-252.457 414.641,-253.242 417.437,-259.659\"/>\r\n",
       "</g>\r\n",
       "<!-- print -->\r\n",
       "<g id=\"node8\" class=\"node\"><title>print</title>\r\n",
       "<ellipse fill=\"none\" stroke=\"black\" cx=\"262.397\" cy=\"-164\" rx=\"27.0966\" ry=\"18\"/>\r\n",
       "<text text-anchor=\"middle\" x=\"262.397\" y=\"-160.3\" font-family=\"Times New Roman,serif\" font-size=\"14.00\">print</text>\r\n",
       "</g>\r\n",
       "<!-- evaluate&#45;&gt;print -->\r\n",
       "<g id=\"edge6\" class=\"edge\"><title>evaluate&#45;&gt;print</title>\r\n",
       "<path fill=\"none\" stroke=\"black\" d=\"M319.974,-220.243C309.595,-210.285 296.049,-197.288 284.703,-186.402\"/>\r\n",
       "<polygon fill=\"black\" stroke=\"black\" points=\"286.905,-183.664 277.266,-179.267 282.059,-188.715 286.905,-183.664\"/>\r\n",
       "</g>\r\n",
       "<!-- test -->\r\n",
       "<g id=\"node9\" class=\"node\"><title>test</title>\r\n",
       "<ellipse fill=\"none\" stroke=\"black\" cx=\"419.397\" cy=\"-164\" rx=\"27\" ry=\"18\"/>\r\n",
       "<text text-anchor=\"middle\" x=\"419.397\" y=\"-160.3\" font-family=\"Times New Roman,serif\" font-size=\"14.00\">test</text>\r\n",
       "</g>\r\n",
       "<!-- evaluate&#45;&gt;test -->\r\n",
       "<g id=\"edge9\" class=\"edge\"><title>evaluate&#45;&gt;test</title>\r\n",
       "<path fill=\"none\" stroke=\"black\" d=\"M354.407,-220.594C366.488,-210.259 382.531,-196.536 395.654,-185.31\"/>\r\n",
       "<polygon fill=\"black\" stroke=\"black\" points=\"398.062,-187.856 403.386,-178.696 393.512,-182.537 398.062,-187.856\"/>\r\n",
       "</g>\r\n",
       "<!-- print&#45;&gt;read -->\r\n",
       "<g id=\"edge7\" class=\"edge\"><title>print&#45;&gt;read</title>\r\n",
       "<path fill=\"none\" stroke=\"black\" d=\"M251.711,-180.738C240.688,-199.066 226.523,-230.02 237.397,-255 243.715,-269.516 256.072,-281.893 267.762,-291.12\"/>\r\n",
       "<polygon fill=\"black\" stroke=\"black\" points=\"265.942,-294.128 276.061,-297.269 270.109,-288.503 265.942,-294.128\"/>\r\n",
       "<text text-anchor=\"middle\" x=\"262.397\" y=\"-240.8\" font-family=\"Times New Roman,serif\" font-size=\"14.00\">loop</text>\r\n",
       "<text text-anchor=\"middle\" x=\"262.397\" y=\"-225.8\" font-family=\"Times New Roman,serif\" font-size=\"14.00\">[interact]</text>\r\n",
       "</g>\r\n",
       "<!-- display -->\r\n",
       "<g id=\"node11\" class=\"node\"><title>display</title>\r\n",
       "<ellipse fill=\"none\" stroke=\"black\" cx=\"262.397\" cy=\"-91\" rx=\"36.2938\" ry=\"18\"/>\r\n",
       "<text text-anchor=\"middle\" x=\"262.397\" y=\"-87.3\" font-family=\"Times New Roman,serif\" font-size=\"14.00\">display</text>\r\n",
       "</g>\r\n",
       "<!-- print&#45;&gt;display -->\r\n",
       "<g id=\"edge11\" class=\"edge\"><title>print&#45;&gt;display</title>\r\n",
       "<path fill=\"none\" stroke=\"black\" d=\"M262.397,-145.813C262.397,-137.789 262.397,-128.047 262.397,-119.069\"/>\r\n",
       "<polygon fill=\"black\" stroke=\"black\" points=\"265.897,-119.029 262.397,-109.029 258.897,-119.029 265.897,-119.029\"/>\r\n",
       "</g>\r\n",
       "<!-- HTML -->\r\n",
       "<g id=\"node12\" class=\"node\"><title>HTML</title>\r\n",
       "<ellipse fill=\"none\" stroke=\"black\" cx=\"36.3968\" cy=\"-18\" rx=\"36.2938\" ry=\"18\"/>\r\n",
       "<text text-anchor=\"middle\" x=\"36.3968\" y=\"-14.3\" font-family=\"Times New Roman,serif\" font-size=\"14.00\">HTML</text>\r\n",
       "</g>\r\n",
       "<!-- display&#45;&gt;HTML -->\r\n",
       "<g id=\"edge12\" class=\"edge\"><title>display&#45;&gt;HTML</title>\r\n",
       "<path fill=\"none\" stroke=\"black\" d=\"M231.316,-81.3154C195.289,-71.1011 134.224,-53.332 82.3968,-36 79.6716,-35.0887 76.8655,-34.1221 74.0472,-33.1308\"/>\r\n",
       "<polygon fill=\"black\" stroke=\"black\" points=\"75.112,-29.7945 64.5175,-29.7091 72.7464,-36.3826 75.112,-29.7945\"/>\r\n",
       "</g>\r\n",
       "<!-- Images -->\r\n",
       "<g id=\"node13\" class=\"node\"><title>Images</title>\r\n",
       "<ellipse fill=\"none\" stroke=\"black\" cx=\"127.397\" cy=\"-18\" rx=\"36.2938\" ry=\"18\"/>\r\n",
       "<text text-anchor=\"middle\" x=\"127.397\" y=\"-14.3\" font-family=\"Times New Roman,serif\" font-size=\"14.00\">Images</text>\r\n",
       "</g>\r\n",
       "<!-- display&#45;&gt;Images -->\r\n",
       "<g id=\"edge13\" class=\"edge\"><title>display&#45;&gt;Images</title>\r\n",
       "<path fill=\"none\" stroke=\"black\" d=\"M238.261,-77.3066C216.568,-65.8977 184.513,-49.0389 160.443,-36.38\"/>\r\n",
       "<polygon fill=\"black\" stroke=\"black\" points=\"161.803,-33.1406 151.323,-31.5835 158.545,-39.336 161.803,-33.1406\"/>\r\n",
       "</g>\r\n",
       "<!-- Videos -->\r\n",
       "<g id=\"node14\" class=\"node\"><title>Videos</title>\r\n",
       "<ellipse fill=\"none\" stroke=\"black\" cx=\"218.397\" cy=\"-18\" rx=\"36.2938\" ry=\"18\"/>\r\n",
       "<text text-anchor=\"middle\" x=\"218.397\" y=\"-14.3\" font-family=\"Times New Roman,serif\" font-size=\"14.00\">Videos</text>\r\n",
       "</g>\r\n",
       "<!-- display&#45;&gt;Videos -->\r\n",
       "<g id=\"edge14\" class=\"edge\"><title>display&#45;&gt;Videos</title>\r\n",
       "<path fill=\"none\" stroke=\"black\" d=\"M252.192,-73.5327C246.749,-64.7508 239.94,-53.7627 233.862,-43.9555\"/>\r\n",
       "<polygon fill=\"black\" stroke=\"black\" points=\"236.789,-42.0344 228.547,-35.378 230.839,-45.7218 236.789,-42.0344\"/>\r\n",
       "</g>\r\n",
       "<!-- Sound -->\r\n",
       "<g id=\"node15\" class=\"node\"><title>Sound</title>\r\n",
       "<ellipse fill=\"none\" stroke=\"black\" cx=\"307.397\" cy=\"-18\" rx=\"34.394\" ry=\"18\"/>\r\n",
       "<text text-anchor=\"middle\" x=\"307.397\" y=\"-14.3\" font-family=\"Times New Roman,serif\" font-size=\"14.00\">Sound</text>\r\n",
       "</g>\r\n",
       "<!-- display&#45;&gt;Sound -->\r\n",
       "<g id=\"edge15\" class=\"edge\"><title>display&#45;&gt;Sound</title>\r\n",
       "<path fill=\"none\" stroke=\"black\" d=\"M272.834,-73.5327C278.4,-64.7508 285.364,-53.7627 291.58,-43.9555\"/>\r\n",
       "<polygon fill=\"black\" stroke=\"black\" points=\"294.619,-45.6981 297.016,-35.378 288.707,-41.9507 294.619,-45.6981\"/>\r\n",
       "</g>\r\n",
       "<!-- Maps -->\r\n",
       "<g id=\"node16\" class=\"node\"><title>Maps</title>\r\n",
       "<ellipse fill=\"none\" stroke=\"black\" cx=\"391.397\" cy=\"-18\" rx=\"31.3957\" ry=\"18\"/>\r\n",
       "<text text-anchor=\"middle\" x=\"391.397\" y=\"-14.3\" font-family=\"Times New Roman,serif\" font-size=\"14.00\">Maps</text>\r\n",
       "</g>\r\n",
       "<!-- display&#45;&gt;Maps -->\r\n",
       "<g id=\"edge16\" class=\"edge\"><title>display&#45;&gt;Maps</title>\r\n",
       "<path fill=\"none\" stroke=\"black\" d=\"M285.758,-77.1424C306.689,-65.6223 337.539,-48.6424 360.504,-36.0031\"/>\r\n",
       "<polygon fill=\"black\" stroke=\"black\" points=\"362.427,-38.9398 369.5,-31.0517 359.052,-32.8073 362.427,-38.9398\"/>\r\n",
       "</g>\r\n",
       "<!-- ... -->\r\n",
       "<g id=\"node17\" class=\"node\"><title>...</title>\r\n",
       "<ellipse fill=\"none\" stroke=\"black\" cx=\"467.397\" cy=\"-18\" rx=\"27\" ry=\"18\"/>\r\n",
       "<text text-anchor=\"middle\" x=\"467.397\" y=\"-14.3\" font-family=\"Times New Roman,serif\" font-size=\"14.00\">...</text>\r\n",
       "</g>\r\n",
       "<!-- display&#45;&gt;... -->\r\n",
       "<g id=\"edge17\" class=\"edge\"><title>display&#45;&gt;...</title>\r\n",
       "<path fill=\"none\" stroke=\"black\" d=\"M293.353,-81.4415C327.573,-71.6744 384.11,-54.6257 431.397,-36 433.23,-35.2781 435.1,-34.5062 436.978,-33.7044\"/>\r\n",
       "<polygon fill=\"black\" stroke=\"black\" points=\"438.584,-36.8205 446.28,-29.5395 435.723,-30.4316 438.584,-36.8205\"/>\r\n",
       "</g>\r\n",
       "</g>\r\n",
       "</svg>\r\n"
      ],
      "text/plain": [
       "<graphviz.files.Source at 0x19e94f6d8d0>"
      ]
     },
     "metadata": {},
     "output_type": "display_data"
    }
   ],
   "source": [
    "    \"\"\"digraph {\n",
    "            Literacy -> {\n",
    "                Textual Computational\n",
    "            }\n",
    "            Textual -> {Markdown Latex}\n",
    "            subgraph cluster_repl {\n",
    "                label=\"REPL\"\n",
    "                read -> evaluate -> print print -> read [label=\"loop\\n[interact]\"]}\n",
    "            Computational->read\n",
    "            evaluate -> test read -> documentation print -> display\n",
    "            display -> {HTML Images Videos Sound Maps \"...\"}}\"\"\""
   ]
  },
  {
   "cell_type": "code",
   "execution_count": 13,
   "metadata": {},
   "outputs": [
    {
     "data": {
      "text/markdown": [
       "# The Graph Biz\n"
      ],
      "text/plain": [
       "<IPython.core.display.Markdown object>"
      ]
     },
     "metadata": {},
     "output_type": "display_data"
    }
   ],
   "source": [
    "# The Graph Biz"
   ]
  },
  {
   "cell_type": "markdown",
   "metadata": {},
   "source": [
    "    !conda install -yc conda-forge sympy antlr-python-runtime"
   ]
  },
  {
   "cell_type": "code",
   "execution_count": 2,
   "metadata": {},
   "outputs": [
    {
     "data": {
      "text/plain": [
       "x + 1"
      ]
     },
     "execution_count": 2,
     "metadata": {},
     "output_type": "execute_result"
    }
   ],
   "source": [
    "    import sympy\n",
    "    import sympy.parsing.latex\n",
    "    sympy.parsing.latex.parse_latex('x + 1')"
   ]
  },
  {
   "cell_type": "code",
   "execution_count": 4,
   "metadata": {},
   "outputs": [
    {
     "ename": "IndentationError",
     "evalue": "unexpected indent (<ipython-input-4-e08d8abe6150>, line 3)",
     "output_type": "error",
     "traceback": [
      "\u001b[1;36m  File \u001b[1;32m\"<ipython-input-4-e08d8abe6150>\"\u001b[1;36m, line \u001b[1;32m3\u001b[0m\n\u001b[1;33m    \"\"\"digraph {\u001b[0m\n\u001b[1;37m    ^\u001b[0m\n\u001b[1;31mIndentationError\u001b[0m\u001b[1;31m:\u001b[0m unexpected indent\n"
     ]
    }
   ],
   "source": [
    "# $ 💸💸💸B_{ill}\\$💰Y_{all}💸💸💸$ \n",
    "\n",
    "    \"\"\"digraph {\n",
    "        layout=circo\n",
    "        LaTeX -> \"sympy.parsing.latex.parse_latex\" -> \"sympy.Expression\"\n",
    "        -> \"sympy.printing.latex.print_latex\" -> LaTeX\n",
    "        \"sympy.parsing.latex.parse_latex\" -> \"antlr-python-runtime\" -> \"antlr\" -> \"java\"\n",
    "    }\"\"\""
   ]
  },
  {
   "cell_type": "markdown",
   "metadata": {},
   "source": [
    "## Interactive Computing"
   ]
  },
  {
   "cell_type": "code",
   "execution_count": 12,
   "metadata": {},
   "outputs": [
    {
     "data": {
      "text/markdown": [
       "    \"\"\"http://nbviewer.jupyter.org/github/deathbeds/deathbeds.github.io/blob/master/deathbeds/2018-07-06-Markdown-code-cells.ipynb\"\"\"\n"
      ],
      "text/plain": [
       "<IPython.core.display.Markdown object>"
      ]
     },
     "metadata": {},
     "output_type": "display_data"
    },
    {
     "data": {
      "text/html": [
       "\n",
       "        <iframe\n",
       "            width=\"600\"\n",
       "            height=\"400\"\n",
       "            src=\"http://nbviewer.jupyter.org/github/deathbeds/deathbeds.github.io/blob/master/deathbeds/2018-07-06-Markdown-code-cells.ipynb\"\n",
       "            frameborder=\"0\"\n",
       "            allowfullscreen\n",
       "        ></iframe>\n",
       "        "
      ],
      "text/plain": [
       "<IPython.lib.display.IFrame at 0x2d1998557f0>"
      ]
     },
     "metadata": {},
     "output_type": "display_data"
    }
   ],
   "source": [
    "    \"\"\"http://nbviewer.jupyter.org/github/deathbeds/deathbeds.github.io/blob/master/deathbeds/2018-07-06-Markdown-code-cells.ipynb\"\"\""
   ]
  },
  {
   "cell_type": "code",
   "execution_count": 13,
   "metadata": {},
   "outputs": [
    {
     "data": {
      "text/markdown": [
       "    \"\"\"http://nbviewer.jupyter.org/github/deathbeds/deathbeds.github.io/blob/master/deathbeds/2018-07-20-Literate-Markdown-Kernel.ipynb\"\"\"\n"
      ],
      "text/plain": [
       "<IPython.core.display.Markdown object>"
      ]
     },
     "metadata": {},
     "output_type": "display_data"
    },
    {
     "data": {
      "text/html": [
       "\n",
       "        <iframe\n",
       "            width=\"600\"\n",
       "            height=\"400\"\n",
       "            src=\"http://nbviewer.jupyter.org/github/deathbeds/deathbeds.github.io/blob/master/deathbeds/2018-07-20-Literate-Markdown-Kernel.ipynb\"\n",
       "            frameborder=\"0\"\n",
       "            allowfullscreen\n",
       "        ></iframe>\n",
       "        "
      ],
      "text/plain": [
       "<IPython.lib.display.IFrame at 0x2d199855e80>"
      ]
     },
     "metadata": {},
     "output_type": "display_data"
    }
   ],
   "source": [
    "    \"\"\"http://nbviewer.jupyter.org/github/deathbeds/deathbeds.github.io/blob/master/deathbeds/2018-07-20-Literate-Markdown-Kernel.ipynb\"\"\""
   ]
  },
  {
   "cell_type": "code",
   "execution_count": 15,
   "metadata": {},
   "outputs": [],
   "source": [
    "## Readable and Reproducible Notebooks\n",
    "## Narrative and Code as Data"
   ]
  },
  {
   "cell_type": "code",
   "execution_count": 16,
   "metadata": {},
   "outputs": [
    {
     "data": {
      "text/markdown": [
       "![](https://media.giphy.com/media/A0UK8ewpztydG/giphy.gif)\n"
      ],
      "text/plain": [
       "<IPython.core.display.Markdown object>"
      ]
     },
     "metadata": {},
     "output_type": "display_data"
    }
   ],
   "source": [
    "![](https://media.giphy.com/media/A0UK8ewpztydG/giphy.gif)"
   ]
  },
  {
   "cell_type": "code",
   "execution_count": 18,
   "metadata": {},
   "outputs": [
    {
     "data": {
      "text/markdown": [
       "    \"\"\"http://localhost:8888/notebooks/ktop/notebooks/01%20Introduction.ipynb\"\"\"\n"
      ],
      "text/plain": [
       "<IPython.core.display.Markdown object>"
      ]
     },
     "metadata": {},
     "output_type": "display_data"
    },
    {
     "data": {
      "text/html": [
       "\n",
       "        <iframe\n",
       "            width=\"600\"\n",
       "            height=\"400\"\n",
       "            src=\"http://localhost:8888/notebooks/ktop/notebooks/01%20Introduction.ipynb\"\n",
       "            frameborder=\"0\"\n",
       "            allowfullscreen\n",
       "        ></iframe>\n",
       "        "
      ],
      "text/plain": [
       "<IPython.lib.display.IFrame at 0x2d1998889b0>"
      ]
     },
     "metadata": {},
     "output_type": "display_data"
    }
   ],
   "source": [
    "    \"\"\"http://localhost:8888/notebooks/ktop/notebooks/01%20Introduction.ipynb\"\"\""
   ]
  },
  {
   "cell_type": "code",
   "execution_count": 15,
   "metadata": {},
   "outputs": [
    {
     "data": {
      "text/markdown": [
       "## Readable and Reproducible Notebooks\n",
       "## Narrative and Code as Data\n",
       "\n",
       "## Program like a basketball player\n",
       "\n",
       "> The assumption by the golden age funders was that some of the special people they were funding would be able to come up with good goals and methods, and that a \"baseball percentage\" of successes (batting around .350 say) by top people would be enough to make the vision happen.\n",
       "\n",
       "> * [Some excerpts from recent Alan Kay emails](http://worrydream.com/2017-12-30-alan/)\n",
       "\n",
       "\n",
       "Readable and reproducible notebooks are documentation, \n",
       "testing, scripts, and source code.  These features are key\n",
       "to successful software.  A literate document is more reusable \n",
       "as code and narrative.\n"
      ],
      "text/plain": [
       "<IPython.core.display.Markdown object>"
      ]
     },
     "metadata": {},
     "output_type": "display_data"
    }
   ],
   "source": [
    "## Program like a basketball player\n",
    "\n",
    "> The assumption by the golden age funders was that some of the special people they were funding would be able to come up with good goals and methods, and that a \"baseball percentage\" of successes (batting around .350 say) by top people would be enough to make the vision happen.\n",
    "\n",
    "> * [Some excerpts from recent Alan Kay emails](http://worrydream.com/2017-12-30-alan/)\n",
    "\n",
    "\n",
    "Readable and reproducible notebooks are documentation, \n",
    "testing, scripts, and source code.  These features are key\n",
    "to successful software.  A literate document is more reusable \n",
    "as code and narrative."
   ]
  },
  {
   "cell_type": "code",
   "execution_count": null,
   "metadata": {},
   "outputs": [],
   "source": [
    "    "
   ]
  }
 ],
 "metadata": {
  "kernelspec": {
   "display_name": "Python 3",
   "language": "python",
   "name": "python3"
  },
  "language_info": {
   "codemirror_mode": {
    "name": "ipython",
    "version": 3
   },
   "file_extension": ".py",
   "mimetype": "text/x-python",
   "name": "python",
   "nbconvert_exporter": "python",
   "pygments_lexer": "ipython3",
   "version": "3.6.5"
  }
 },
 "nbformat": 4,
 "nbformat_minor": 2
}
