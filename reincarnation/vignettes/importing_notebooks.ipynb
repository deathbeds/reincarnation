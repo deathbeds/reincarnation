{
 "cells": [
  {
   "cell_type": "code",
   "execution_count": 12,
   "metadata": {},
   "outputs": [
    {
     "data": {
      "text/markdown": [
       "    if __name__ == '__main__': \n",
       "        %reload_ext reincarnation\n"
      ],
      "text/plain": [
       "<IPython.core.display.Markdown object>"
      ]
     },
     "metadata": {},
     "output_type": "display_data"
    }
   ],
   "source": [
    "    if __name__ == '__main__': \n",
    "        %reload_ext reincarnation"
   ]
  },
  {
   "cell_type": "code",
   "execution_count": 13,
   "metadata": {},
   "outputs": [
    {
     "data": {
      "text/html": [
       "<div class=\"flexed-container flexed-row\"><div class=\"flexed-item\" style=\"order: 0;\">\n",
       "        <iframe\n",
       "            width=\"500\"\n",
       "            height=\"450\"\n",
       "            src=\"http://nbviewer.jupyter.org/github/deathbeds/importnb/blob/master/readme.ipynb\"\n",
       "            frameborder=\"0\"\n",
       "            allowfullscreen\n",
       "        ></iframe>\n",
       "        </div><div class=\"flexed-item\" style=\"order: 0;\"><ul>\n",
       "<li>pytest notebooks</li>\n",
       "<li>import notebooks as modules</li>\n",
       "<li>run notebooks as <code>ipython</code> scripts</li>\n",
       "<li>smart docstrings</li>\n",
       "</ul>\n",
       "<hr>\n",
       "<ul>\n",
       "<li>promotes sharing notebooks with tests and documentation</li>\n",
       "<li>enables incremental innovation</li>\n",
       "<li>creates readable, reusable, and reproducible notebooks</li>\n",
       "</ul>\n",
       "</div></div>"
      ],
      "text/plain": [
       "Row(content=[{'html': 'http://nbviewer.jupyter.org/github/deathbeds/importnb/blob/master/readme.ipynb'}, '* pytest notebooks\\n* import notebooks as modules\\n* run notebooks as `ipython` scripts\\n* smart docstrings\\n---\\n* promotes sharing notebooks with tests and documentation\\n* enables incremental innovation\\n* creates readable, reusable, and reproducible notebooks\\n'])"
      ]
     },
     "metadata": {},
     "output_type": "display_data"
    }
   ],
   "source": [
    "    \n",
    "    \"\"\"- html: http://nbviewer.jupyter.org/github/deathbeds/importnb/blob/master/readme.ipynb\n",
    "    - |\n",
    "        * pytest notebooks\n",
    "        * import notebooks as modules\n",
    "        * run notebooks as `ipython` scripts\n",
    "        * smart docstrings\n",
    "    \n",
    "        ---\n",
    "        \n",
    "        * promotes sharing notebooks with tests and documentation\n",
    "        * enables incremental innovation\n",
    "        * creates readable, reusable, and reproducible notebooks\n",
    "    \"\"\""
   ]
  },
  {
   "cell_type": "code",
   "execution_count": 26,
   "metadata": {},
   "outputs": [
    {
     "data": {
      "text/html": [
       "<div class=\"flexed-container flexed-row\"><div class=\"flexed-item\" style=\"order: 0;\"><h1><strong>Restart and run all</strong> or it didn't happen</h1>\n",
       "<p>A notebook that will restart and run all is reusable as a module and test.</p>\n",
       "</div><div class=\"flexed-item\" style=\"order: 0;\">\n",
       "        <iframe\n",
       "            width=\"500\"\n",
       "            height=\"450\"\n",
       "            src=\"http://nbviewer.jupyter.org/github/deathbeds/deathbeds.github.io/blob/master/deathbeds/2018-07-31-Testing-notebooks.ipynb\"\n",
       "            frameborder=\"0\"\n",
       "            allowfullscreen\n",
       "        ></iframe>\n",
       "        </div></div>"
      ],
      "text/plain": [
       "Row(content=[\"# **Restart and run all** or it didn't happen   \\nA notebook that will restart and run all is reusable as a module and test.\\n\", {'html': 'http://nbviewer.jupyter.org/github/deathbeds/deathbeds.github.io/blob/master/deathbeds/2018-07-31-Testing-notebooks.ipynb'}])"
      ]
     },
     "metadata": {},
     "output_type": "display_data"
    }
   ],
   "source": [
    "    \n",
    "    \"\"\"- |\n",
    "         # **Restart and run all** or it didn't happen   \n",
    "         \n",
    "         A notebook that will restart and run all is reusable as a module and test.\n",
    "    - html: http://nbviewer.jupyter.org/github/deathbeds/deathbeds.github.io/blob/master/deathbeds/2018-07-31-Testing-notebooks.ipynb\n",
    "    \"\"\""
   ]
  },
  {
   "cell_type": "markdown",
   "metadata": {},
   "source": [
    "# [`deathbeds`](http://deathbeds.github.io) uses notebooks as blog posts and modules"
   ]
  },
  {
   "cell_type": "markdown",
   "metadata": {},
   "source": [
    "    import deathbeds\n",
    "    deathbeds.__blacken_the_interactive_black_formatter, deathbeds.__Emojis_in_code_cells, deathbeds.__HTML_Flexbox"
   ]
  },
  {
   "cell_type": "code",
   "execution_count": null,
   "metadata": {},
   "outputs": [],
   "source": []
  }
 ],
 "metadata": {
  "kernelspec": {
   "display_name": "Python 3",
   "language": "python",
   "name": "python3"
  },
  "language_info": {
   "codemirror_mode": {
    "name": "ipython",
    "version": 3
   },
   "file_extension": ".py",
   "mimetype": "text/x-python",
   "name": "python",
   "nbconvert_exporter": "python",
   "pygments_lexer": "ipython3",
   "version": "3.6.5"
  }
 },
 "nbformat": 4,
 "nbformat_minor": 2
}
