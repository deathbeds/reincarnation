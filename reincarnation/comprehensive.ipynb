{
 "cells": [
  {
   "cell_type": "markdown",
   "metadata": {},
   "source": [
    "# What is Old is New"
   ]
  },
  {
   "cell_type": "code",
   "execution_count": 1,
   "metadata": {},
   "outputs": [
    {
     "data": {
      "text/html": [
       "<style>\n",
       ".jp-RenderedHTMLCommon pre code {\n",
       "    text-decoration: line-through wavy;\n",
       "}\n",
       ".jp-RenderedHTMLCommon pre code:hover {\n",
       "    text-decoration: none;\n",
       "    \n",
       "}\n",
       ".jp-Placeholder-content .jp-MoreHorizIcon {\n",
       "    background-size: 32px;\n",
       "}\n",
       "\n",
       "@import url(\"https://cdn.jsdelivr.net/npm/firacode@1.205.0/distr/fira_code.css\")\n",
       "\n",
       ".CodeMirror * {\n",
       "  font-family: 'Fira Code' !important; \n",
       "  font-variant-ligatures: initial !important;\n",
       "}\n",
       "\n",
       ".cm-string {\n",
       "    font-variant-ligatures: none;\n",
       "}\n",
       "</style><style>\n",
       ".jp-mod-presentationMode .jp-SideBar,\n",
       ".jp-mod-presentationMode #jp-top-panel {\n",
       "    opacity: 0.0;\n",
       "    transition: all 0.2s;\n",
       "}\n",
       ".jp-mod-presentationMode .jp-SideBar:hover,\n",
       ".jp-mod-presentationMode #jp-top-panel:hover {\n",
       "    opacity: 0.9;\n",
       "    transition: all 0.2s;\n",
       "}\n",
       "\n",
       "</style><style>\n",
       ".jp-mod-presentationMode.jp-ApplicationShell,\n",
       ".jp-mod-presentationMode .p-TabBar-content{\n",
       "    background-color: var(--jp-layout-color0);\n",
       "}\n",
       "</style><style>\n",
       ".jp-mod-presentationMode .p-DockPanel-widget,\n",
       ".jp-mod-presentationMode #jp-left-stack{\n",
       "    border-color: transparent;\n",
       "}\n",
       ".jp-mod-presentationMode .jp-Toolbar-item,\n",
       ".jp-mod-presentationMode .jp-Toolbar {\n",
       "    opacity: 0.1;\n",
       "    transition: all 0.2s;\n",
       "}\n",
       ".jp-mod-presentationMode .jp-Toolbar-item:hover,\n",
       ".jp-mod-presentationMode .jp-Toolbar:hover {\n",
       "    opacity: 0.9;\n",
       "    transition: all 0.2s;\n",
       "}\n",
       "\n",
       "</style><style>\n",
       ".jp-mod-presentationMode .jp-OutputPrompt,\n",
       ".jp-mod-presentationMode .jp-InputPrompt {\n",
       "    max-width: 2rem !important;\n",
       "    transition: all 0.2s;\n",
       "}\n",
       ".jp-mod-presentationMode .jp-Cell.jp-mod-selected .jp-OutputPrompt,\n",
       ".jp-mod-presentationMode .jp-Cell.jp-mod-selected .jp-InputPrompt,\n",
       ".jp-mod-presentationMode .jp-Cell:hover .jp-OutputPrompt,\n",
       ".jp-mod-presentationMode .jp-Cell:hover .jp-InputPrompt {\n",
       "    max-width: 10rem !important;\n",
       "    transition: all 0.2s;\n",
       "}\n",
       "\n",
       ".jp-mod-presentationMode .jp-Cell {\n",
       "    margin-bottom: 5rem;\n",
       "}\n",
       "\n",
       ".jp-mod-presentationMode hr {\n",
       "    opacity: 0.1;\n",
       "}\n",
       "</style>\n",
       "    <style>\n",
       "    .jp-TableOfContents-content h1, \n",
       "    .jp-TableOfContents-content h2 {\n",
       "        margin-bottom: var(--jp-ui-font-size0)\n",
       "    }\n",
       "    </style>\n",
       "    \n",
       "    <style>\n",
       "    .jp-mod-presentationMode {\n",
       "        --jp-content-heading-line-height: 1.25 !important;\n",
       "    }\n",
       "    </style>\n",
       "    "
      ],
      "text/plain": [
       "<IPython.core.display.HTML object>"
      ]
     },
     "metadata": {},
     "output_type": "display_data"
    },
    {
     "data": {
      "text/html": [
       "\n",
       "<style>\n",
       ".flexed-container {display: flex; margin: 30px;}\n",
       ".flexed-container.flexed-row {flex-direction: row;}\n",
       ".flexed-container.flexed-column {flex-direction: column;}\n",
       ".flexed-container iframe {min-width: 350px;}\n",
       ".flexed-item {order: 0; margin: 20px;}\n",
       "</style>"
      ],
      "text/plain": [
       "<IPython.core.display.HTML object>"
      ]
     },
     "metadata": {},
     "output_type": "display_data"
    }
   ],
   "source": [
    "%reload_ext reincarnation"
   ]
  },
  {
   "cell_type": "markdown",
   "metadata": {},
   "source": [
    "# Congrat - u - fucking - lations Project Jupyter on the ACM award"
   ]
  },
  {
   "cell_type": "code",
   "execution_count": 2,
   "metadata": {},
   "outputs": [
    {
     "data": {
      "text/html": [
       "<div>\n",
       "<style scoped>\n",
       "    .dataframe tbody tr th:only-of-type {\n",
       "        vertical-align: middle;\n",
       "    }\n",
       "\n",
       "    .dataframe tbody tr th {\n",
       "        vertical-align: top;\n",
       "    }\n",
       "\n",
       "    .dataframe thead th {\n",
       "        text-align: right;\n",
       "    }\n",
       "</style>\n",
       "<table border=\"1\" class=\"dataframe\">\n",
       "  <thead>\n",
       "    <tr style=\"text-align: right;\">\n",
       "      <th></th>\n",
       "      <th>Project</th>\n",
       "      <th>Recipients</th>\n",
       "    </tr>\n",
       "    <tr>\n",
       "      <th>Year</th>\n",
       "      <th></th>\n",
       "      <th></th>\n",
       "    </tr>\n",
       "  </thead>\n",
       "  <tbody>\n",
       "    <tr>\n",
       "      <th>2017</th>\n",
       "      <td>Project Jupyter</td>\n",
       "      <td>Fernando Pérez, Brian E. Granger, Min Ragan-Kelley, Paul Ivanov, Thomas Kluyver, Jason Grout, Matthias Bussonnier, Damián Avila, Steven Silvester, Jonathan Frederic, Kyle Kelley, Jessica Hamrick, Carol Willing, Sylvain Corlay, Peter Parente</td>\n",
       "    </tr>\n",
       "    <tr>\n",
       "      <th>2016</th>\n",
       "      <td>Andrew File System</td>\n",
       "      <td>John H. Howard, Michael L. Kazar, David A. Nichols, Sherri Nichols, Mahadev Satyanarayanan, Robert N. Sidebotham, Alfred Spector, Michael West</td>\n",
       "    </tr>\n",
       "    <tr>\n",
       "      <th>2015</th>\n",
       "      <td>GCC</td>\n",
       "      <td>Richard Stallman</td>\n",
       "    </tr>\n",
       "    <tr>\n",
       "      <th>2014</th>\n",
       "      <td>Mach</td>\n",
       "      <td>Rick Rashid, Avie Tevanian</td>\n",
       "    </tr>\n",
       "    <tr>\n",
       "      <th>2013</th>\n",
       "      <td>Coq</td>\n",
       "      <td>Thierry Coquand, Gérard Pierre Huet, Christine Paulin-Mohring, Bruno Barras, Jean-Christophe Filliâtre, Hugo Herbelin, Chetan Murthy, Yves Bertot and Pierre Castéran</td>\n",
       "    </tr>\n",
       "    <tr>\n",
       "      <th>2012</th>\n",
       "      <td>LLVM</td>\n",
       "      <td>Vikram S. Adve, Evan Cheng and Chris Lattner</td>\n",
       "    </tr>\n",
       "    <tr>\n",
       "      <th>2011</th>\n",
       "      <td>Eclipse</td>\n",
       "      <td>John Wiegand, Dave Thomson, Gregory Adams, Philippe Mulet, Julian Jones, John Duimovich, Kevin Haaland, Stephen Northover, and Erich Gamma</td>\n",
       "    </tr>\n",
       "    <tr>\n",
       "      <th>2010</th>\n",
       "      <td>GroupLens Collaborative Filtering Recommender Systems</td>\n",
       "      <td>Peter Bergstrom, Lee R. Gordon, Jonathan L. Herlocker, Neophytos Iacovou, Joseph A. Konstan, Shyong (Tony) K. Lam, David Maltz, Sean M. McNee, Bradley N. Miller, Paul J. Resnick, John T. Riedl, Mitesh Suchak</td>\n",
       "    </tr>\n",
       "    <tr>\n",
       "      <th>2009</th>\n",
       "      <td>VMware Workstation for Linux 1.0</td>\n",
       "      <td>Edouard Bugnion, Scott Devine, Mendel Rosenblum, Jeremy Sugerman, Edward Y. Wang</td>\n",
       "    </tr>\n",
       "    <tr>\n",
       "      <th>2008</th>\n",
       "      <td>Gamma Parallel Database System</td>\n",
       "      <td>David DeWitt, Robert Gerber, Murali Krishna, Donovan Schneider, Shahram Ghandeharizadeh, Goetz Graefe, Michael Heytens, Hui-I Hsiao, Jeffrey Naughton, Anoop Sharma</td>\n",
       "    </tr>\n",
       "    <tr>\n",
       "      <th>2007</th>\n",
       "      <td>Statemate</td>\n",
       "      <td>David Harel, Hagi Lachover, Amnon Naamad, Amir Pnueli, Michal Politi, Rivi Sherman, Mark Trakhtenbrot, Aron Trauring</td>\n",
       "    </tr>\n",
       "    <tr>\n",
       "      <th>2006</th>\n",
       "      <td>Eiffel[2]</td>\n",
       "      <td>Bertrand Meyer</td>\n",
       "    </tr>\n",
       "    <tr>\n",
       "      <th>2005</th>\n",
       "      <td>The Boyer-Moore Theorem Prover</td>\n",
       "      <td>Robert S. Boyer, Matt Kaufmann, J Strother Moore</td>\n",
       "    </tr>\n",
       "    <tr>\n",
       "      <th>2004</th>\n",
       "      <td>Secure Network Programming</td>\n",
       "      <td>Raghuram Bindignavle, Simon S. Lam, Shaowen Su, Thomas Y. C. Woo</td>\n",
       "    </tr>\n",
       "    <tr>\n",
       "      <th>2003</th>\n",
       "      <td>make</td>\n",
       "      <td>Stuart Feldman</td>\n",
       "    </tr>\n",
       "    <tr>\n",
       "      <th>2002</th>\n",
       "      <td>Java</td>\n",
       "      <td>James Gosling</td>\n",
       "    </tr>\n",
       "    <tr>\n",
       "      <th>2001</th>\n",
       "      <td>SPIN model checker</td>\n",
       "      <td>Gerard Holzmann</td>\n",
       "    </tr>\n",
       "    <tr>\n",
       "      <th>1999</th>\n",
       "      <td>The Apache Group</td>\n",
       "      <td>Brian Behlendorf, Roy Fielding, Rob Hartill, David Robinson, Cliff Skolnick, Randy Terbush, Robert S. Thau, Andrew Wilson</td>\n",
       "    </tr>\n",
       "    <tr>\n",
       "      <th>1998</th>\n",
       "      <td>S</td>\n",
       "      <td>John Chambers</td>\n",
       "    </tr>\n",
       "    <tr>\n",
       "      <th>1997</th>\n",
       "      <td>Tcl/Tk</td>\n",
       "      <td>John Ousterhout</td>\n",
       "    </tr>\n",
       "    <tr>\n",
       "      <th>1996</th>\n",
       "      <td>NCSA Mosaic</td>\n",
       "      <td>Marc Andreessen, Eric Bina</td>\n",
       "    </tr>\n",
       "    <tr>\n",
       "      <th>1995</th>\n",
       "      <td>World Wide Web</td>\n",
       "      <td>Tim Berners-Lee, Robert Cailliau</td>\n",
       "    </tr>\n",
       "    <tr>\n",
       "      <th>1994</th>\n",
       "      <td>Remote Procedure Call</td>\n",
       "      <td>Andrew Birrell, Bruce Nelson</td>\n",
       "    </tr>\n",
       "    <tr>\n",
       "      <th>1993</th>\n",
       "      <td>Sketchpad</td>\n",
       "      <td>Ivan Sutherland</td>\n",
       "    </tr>\n",
       "    <tr>\n",
       "      <th>1992</th>\n",
       "      <td>Interlisp</td>\n",
       "      <td>Daniel Bobrow, Richard R. Burton, L. Peter Deutsch, Ronald Kaplan, Larry Masinter, Warren Teitelman</td>\n",
       "    </tr>\n",
       "    <tr>\n",
       "      <th>1991</th>\n",
       "      <td>TCP/IP</td>\n",
       "      <td>Vinton G. Cerf, Robert E. Kahn</td>\n",
       "    </tr>\n",
       "    <tr>\n",
       "      <th>1990</th>\n",
       "      <td>NLS</td>\n",
       "      <td>Douglas C. Engelbart, William English, Jeff Rulifson</td>\n",
       "    </tr>\n",
       "    <tr>\n",
       "      <th>1989</th>\n",
       "      <td>PostScript[3]</td>\n",
       "      <td>Douglas K. Brotz, Charles M. Geschke, William H. Paxton, Edward A. Taft, John E. Warnock</td>\n",
       "    </tr>\n",
       "    <tr>\n",
       "      <th>1988</th>\n",
       "      <td>INGRES</td>\n",
       "      <td>Gerald Held, Michael Stonebraker, Eugene Wong</td>\n",
       "    </tr>\n",
       "    <tr>\n",
       "      <th>1988</th>\n",
       "      <td>System R</td>\n",
       "      <td>Donald Chamberlin, Jim Gray, Raymond Lorie, Gianfranco Putzolu, Patricia Selinger, Irving Traiger</td>\n",
       "    </tr>\n",
       "    <tr>\n",
       "      <th>1987</th>\n",
       "      <td>Smalltalk</td>\n",
       "      <td>Adele Goldberg, Daniel Henry Holmes Ingalls, Jr., Alan C. Kay</td>\n",
       "    </tr>\n",
       "    <tr>\n",
       "      <th>1986</th>\n",
       "      <td>TeX</td>\n",
       "      <td>Donald E. Knuth</td>\n",
       "    </tr>\n",
       "    <tr>\n",
       "      <th>1985</th>\n",
       "      <td>VisiCalc</td>\n",
       "      <td>Dan Bricklin, Bob Frankston</td>\n",
       "    </tr>\n",
       "    <tr>\n",
       "      <th>1984</th>\n",
       "      <td>Xerox Alto</td>\n",
       "      <td>Butler W. Lampson, Robert Taylor, Charles P. Thacker</td>\n",
       "    </tr>\n",
       "    <tr>\n",
       "      <th>1983</th>\n",
       "      <td>UNIX</td>\n",
       "      <td>Dennis Ritchie, Ken Thompson</td>\n",
       "    </tr>\n",
       "  </tbody>\n",
       "</table>\n",
       "</div>"
      ],
      "text/plain": [
       "                                                    Project  \\\n",
       "Year                                                          \n",
       "2017  Project Jupyter                                         \n",
       "2016  Andrew File System                                      \n",
       "2015  GCC                                                     \n",
       "2014  Mach                                                    \n",
       "2013  Coq                                                     \n",
       "2012  LLVM                                                    \n",
       "2011  Eclipse                                                 \n",
       "2010  GroupLens Collaborative Filtering Recommender Systems   \n",
       "2009  VMware Workstation for Linux 1.0                        \n",
       "2008  Gamma Parallel Database System                          \n",
       "2007  Statemate                                               \n",
       "2006  Eiffel[2]                                               \n",
       "2005  The Boyer-Moore Theorem Prover                          \n",
       "2004  Secure Network Programming                              \n",
       "2003  make                                                    \n",
       "2002  Java                                                    \n",
       "2001  SPIN model checker                                      \n",
       "1999  The Apache Group                                        \n",
       "1998  S                                                       \n",
       "1997  Tcl/Tk                                                  \n",
       "1996  NCSA Mosaic                                             \n",
       "1995  World Wide Web                                          \n",
       "1994  Remote Procedure Call                                   \n",
       "1993  Sketchpad                                               \n",
       "1992  Interlisp                                               \n",
       "1991  TCP/IP                                                  \n",
       "1990  NLS                                                     \n",
       "1989  PostScript[3]                                           \n",
       "1988  INGRES                                                  \n",
       "1988  System R                                                \n",
       "1987  Smalltalk                                               \n",
       "1986  TeX                                                     \n",
       "1985  VisiCalc                                                \n",
       "1984  Xerox Alto                                              \n",
       "1983  UNIX                                                    \n",
       "\n",
       "                                                                                                                                                                                                                                            Recipients  \n",
       "Year                                                                                                                                                                                                                                                    \n",
       "2017  Fernando Pérez, Brian E. Granger, Min Ragan-Kelley, Paul Ivanov, Thomas Kluyver, Jason Grout, Matthias Bussonnier, Damián Avila, Steven Silvester, Jonathan Frederic, Kyle Kelley, Jessica Hamrick, Carol Willing, Sylvain Corlay, Peter Parente  \n",
       "2016  John H. Howard, Michael L. Kazar, David A. Nichols, Sherri Nichols, Mahadev Satyanarayanan, Robert N. Sidebotham, Alfred Spector, Michael West                                                                                                    \n",
       "2015  Richard Stallman                                                                                                                                                                                                                                  \n",
       "2014  Rick Rashid, Avie Tevanian                                                                                                                                                                                                                        \n",
       "2013  Thierry Coquand, Gérard Pierre Huet, Christine Paulin-Mohring, Bruno Barras, Jean-Christophe Filliâtre, Hugo Herbelin, Chetan Murthy, Yves Bertot and Pierre Castéran                                                                             \n",
       "2012  Vikram S. Adve, Evan Cheng and Chris Lattner                                                                                                                                                                                                      \n",
       "2011  John Wiegand, Dave Thomson, Gregory Adams, Philippe Mulet, Julian Jones, John Duimovich, Kevin Haaland, Stephen Northover, and Erich Gamma                                                                                                        \n",
       "2010  Peter Bergstrom, Lee R. Gordon, Jonathan L. Herlocker, Neophytos Iacovou, Joseph A. Konstan, Shyong (Tony) K. Lam, David Maltz, Sean M. McNee, Bradley N. Miller, Paul J. Resnick, John T. Riedl, Mitesh Suchak                                   \n",
       "2009  Edouard Bugnion, Scott Devine, Mendel Rosenblum, Jeremy Sugerman, Edward Y. Wang                                                                                                                                                                  \n",
       "2008  David DeWitt, Robert Gerber, Murali Krishna, Donovan Schneider, Shahram Ghandeharizadeh, Goetz Graefe, Michael Heytens, Hui-I Hsiao, Jeffrey Naughton, Anoop Sharma                                                                               \n",
       "2007  David Harel, Hagi Lachover, Amnon Naamad, Amir Pnueli, Michal Politi, Rivi Sherman, Mark Trakhtenbrot, Aron Trauring                                                                                                                              \n",
       "2006  Bertrand Meyer                                                                                                                                                                                                                                    \n",
       "2005  Robert S. Boyer, Matt Kaufmann, J Strother Moore                                                                                                                                                                                                  \n",
       "2004  Raghuram Bindignavle, Simon S. Lam, Shaowen Su, Thomas Y. C. Woo                                                                                                                                                                                  \n",
       "2003  Stuart Feldman                                                                                                                                                                                                                                    \n",
       "2002  James Gosling                                                                                                                                                                                                                                     \n",
       "2001  Gerard Holzmann                                                                                                                                                                                                                                   \n",
       "1999  Brian Behlendorf, Roy Fielding, Rob Hartill, David Robinson, Cliff Skolnick, Randy Terbush, Robert S. Thau, Andrew Wilson                                                                                                                         \n",
       "1998  John Chambers                                                                                                                                                                                                                                     \n",
       "1997  John Ousterhout                                                                                                                                                                                                                                   \n",
       "1996  Marc Andreessen, Eric Bina                                                                                                                                                                                                                        \n",
       "1995  Tim Berners-Lee, Robert Cailliau                                                                                                                                                                                                                  \n",
       "1994  Andrew Birrell, Bruce Nelson                                                                                                                                                                                                                      \n",
       "1993  Ivan Sutherland                                                                                                                                                                                                                                   \n",
       "1992  Daniel Bobrow, Richard R. Burton, L. Peter Deutsch, Ronald Kaplan, Larry Masinter, Warren Teitelman                                                                                                                                               \n",
       "1991  Vinton G. Cerf, Robert E. Kahn                                                                                                                                                                                                                    \n",
       "1990  Douglas C. Engelbart, William English, Jeff Rulifson                                                                                                                                                                                              \n",
       "1989  Douglas K. Brotz, Charles M. Geschke, William H. Paxton, Edward A. Taft, John E. Warnock                                                                                                                                                          \n",
       "1988  Gerald Held, Michael Stonebraker, Eugene Wong                                                                                                                                                                                                     \n",
       "1988  Donald Chamberlin, Jim Gray, Raymond Lorie, Gianfranco Putzolu, Patricia Selinger, Irving Traiger                                                                                                                                                 \n",
       "1987  Adele Goldberg, Daniel Henry Holmes Ingalls, Jr., Alan C. Kay                                                                                                                                                                                     \n",
       "1986  Donald E. Knuth                                                                                                                                                                                                                                   \n",
       "1985  Dan Bricklin, Bob Frankston                                                                                                                                                                                                                       \n",
       "1984  Butler W. Lampson, Robert Taylor, Charles P. Thacker                                                                                                                                                                                              \n",
       "1983  Dennis Ritchie, Ken Thompson                                                                                                                                                                                                                      "
      ]
     },
     "execution_count": 2,
     "metadata": {},
     "output_type": "execute_result"
    }
   ],
   "source": [
    "import pandas; pandas.set_option('display.max_colwidth', -1)\n",
    "acm_awards = pandas.read_html(\"\"\"https://en.wikipedia.org/wiki/ACM_Software_System_Award\"\"\")[0].pipe(\n",
    "    lambda df: df.rename(columns=dict(zip(range(len(df.columns)), df.iloc[0]))).iloc[1:]).set_index('Year')\n",
    "acm_awards"
   ]
  },
  {
   "cell_type": "markdown",
   "metadata": {},
   "source": [
    "Thank you for make it possible to draw on a computer"
   ]
  },
  {
   "cell_type": "code",
   "execution_count": 41,
   "metadata": {},
   "outputs": [
    {
     "data": {
      "text/html": [
       "<div class=\"flexed-container flexed-row\"><div class=\"flexed-item\" style=\"order: 0;\">\n",
       "        <iframe\n",
       "            width=\"500\"\n",
       "            height=\"450\"\n",
       "            src=\"https://images.immediate.co.uk/volatile/sites/3/2017/08/96588.gif?quality=90&lb=620,413&background=white\"\n",
       "            frameborder=\"0\"\n",
       "            allowfullscreen\n",
       "        ></iframe>\n",
       "        </div><div class=\"flexed-item\" style=\"order: 0;\"><img src=\"https://zippy.gfycat.com/CheerfulComplexButterfly.gif\"/></div></div>"
      ],
      "text/plain": [
       "Row(content=['https://images.immediate.co.uk/volatile/sites/3/2017/08/96588.gif?quality=90&lb=620,413&background=white', 'https://zippy.gfycat.com/CheerfulComplexButterfly.gif'])"
      ]
     },
     "metadata": {},
     "output_type": "display_data"
    }
   ],
   "source": [
    "\"\"\"- https://images.immediate.co.uk/volatile/sites/3/2017/08/96588.gif?quality=90&lb=620,413&background=white\n",
    "- https://zippy.gfycat.com/CheerfulComplexButterfly.gif\"\"\""
   ]
  },
  {
   "cell_type": "markdown",
   "metadata": {},
   "source": [
    "# What does this mean for Project Jupyter users?"
   ]
  },
  {
   "cell_type": "markdown",
   "metadata": {},
   "source": [
    "# Congrat - u - fucking - lations to y'all for having great taste\n",
    "\n",
    "* you made the right bet\n",
    "* we can hardly imagine the breadth of future users.\n",
    "* Jupyter is poised to become a daily piece of computing infrasructure.\n",
    "* Think about notebooks n the aggregate\n",
    "* Future users are going to want to do some weird shit\n",
    "* Work processing, graphic design, data analysis.  a microsoft suite"
   ]
  },
  {
   "cell_type": "code",
   "execution_count": 44,
   "metadata": {},
   "outputs": [
    {
     "data": {
      "text/html": [
       "<div class=\"flexed-container flexed-row\"><div class=\"flexed-item\" style=\"order: 0;\"><h1>Exploration and Explanation in Computational Notebook</h1>\n",
       "</div></div>"
      ],
      "text/plain": [
       "Row(content=['# Exploration and Explanation in Computational Notebook'])"
      ]
     },
     "metadata": {},
     "output_type": "display_data"
    },
    {
     "data": {
      "text/html": [
       "<div class=\"flexed-container flexed-row\"><div class=\"flexed-item\" style=\"order: 0;\"><blockquote><p>Finally, the <strong>exploratory and iterative</strong> nature of data analysis is\n",
       "reflected in the fact that <strong>nearly half</strong> (43.9%) of notebooks were\n",
       "uploaded to GitHub with a <strong>non-linear execution</strong> order. This\n",
       "means that analysts went back and re-ran earlier cells, rather\n",
       "than just linearly writing and executing code. This figure\n",
       "should be considered as a <strong>lower-bound</strong> as analysts may have\n",
       "done a <strong>clean run</strong> of their notebook <strong>before sharing</strong> it online.</p>\n",
       "</blockquote>\n",
       "</div><div class=\"flexed-item\" style=\"order: 0;\">\n",
       "        <iframe\n",
       "            width=\"500\"\n",
       "            height=\"450\"\n",
       "            src=\"http://adamrule.com/files/papers/chi_2018_computational_notebooks_camera_ready.pdf#page=5\"\n",
       "            frameborder=\"0\"\n",
       "            allowfullscreen\n",
       "        ></iframe>\n",
       "        </div></div>"
      ],
      "text/plain": [
       "Row(content=['> Finally, the **exploratory and iterative** nature of data analysis is\\nreflected in the fact that **nearly half** (43.9%) of notebooks were\\nuploaded to GitHub with a **non-linear execution** order. This\\nmeans that analysts went back and re-ran earlier cells, rather\\nthan just linearly writing and executing code. This figure\\nshould be considered as a **lower-bound** as analysts may have\\ndone a **clean run** of their notebook **before sharing** it online.     \\n', 'http://adamrule.com/files/papers/chi_2018_computational_notebooks_camera_ready.pdf#page=5'])"
      ]
     },
     "metadata": {},
     "output_type": "display_data"
    }
   ],
   "source": [
    "\"\"\"- '# Exploration and Explanation in Computational Notebook'\"\"\";\"\"\"\n",
    "- |\n",
    "    > Finally, the **exploratory and iterative** nature of data analysis is\n",
    "    reflected in the fact that **nearly half** (43.9%) of notebooks were\n",
    "    uploaded to GitHub with a **non-linear execution** order. This\n",
    "    means that analysts went back and re-ran earlier cells, rather\n",
    "    than just linearly writing and executing code. This figure\n",
    "    should be considered as a **lower-bound** as analysts may have\n",
    "    done a **clean run** of their notebook **before sharing** it online.     \n",
    "    \n",
    "\n",
    "- http://adamrule.com/files/papers/chi_2018_computational_notebooks_camera_ready.pdf#page=5\"\"\""
   ]
  },
  {
   "cell_type": "markdown",
   "metadata": {},
   "source": [
    "# Github is a Graveyard    \n",
    "    "
   ]
  },
  {
   "cell_type": "code",
   "execution_count": 3,
   "metadata": {},
   "outputs": [],
   "source": [
    "    _nbestimate_ = \"\"\"http://nbviewer.jupyter.org/github/parente/nbestimate/blob/master/estimate.ipynb\"\"\""
   ]
  },
  {
   "cell_type": "code",
   "execution_count": 4,
   "metadata": {},
   "outputs": [
    {
     "data": {
      "text/html": [
       "<div class=\"flexed-container flexed-row\"><div class=\"flexed-item\" style=\"order: 0;\">\n",
       "        <iframe\n",
       "            width=\"500\"\n",
       "            height=\"450\"\n",
       "            src=\"http://nbviewer.jupyter.org/github/parente/nbestimate/blob/master/estimate.ipynb\"\n",
       "            frameborder=\"0\"\n",
       "            allowfullscreen\n",
       "        ></iframe>\n",
       "        </div><div class=\"flexed-item\" style=\"order: 0;\"><table border=\"1\" class=\"dataframe\">  <thead>    <tr>      <th></th>      <th>Unnamed: 0_level_0</th>      <th>hits</th>    </tr>    <tr>      <th></th>      <th>date</th>      <th>Unnamed: 1_level_1</th>    </tr>  </thead>  <tbody>    <tr>      <th>0</th>      <td>2018-07-13</td>      <td>2492680</td>    </tr>    <tr>      <th>1</th>      <td>2018-07-29</td>      <td>2567227</td>    </tr>    <tr>      <th>2</th>      <td>2018-08-18</td>      <td>2660571</td>    </tr>  </tbody></table></div></div>"
      ],
      "text/plain": [
       "Row(content=['http://nbviewer.jupyter.org/github/parente/nbestimate/blob/master/estimate.ipynb', '<table border=\"1\" class=\"dataframe\">  <thead>    <tr>      <th></th>      <th>Unnamed: 0_level_0</th>      <th>hits</th>    </tr>    <tr>      <th></th>      <th>date</th>      <th>Unnamed: 1_level_1</th>    </tr>  </thead>  <tbody>    <tr>      <th>0</th>      <td>2018-07-13</td>      <td>2492680</td>    </tr>    <tr>      <th>1</th>      <td>2018-07-29</td>      <td>2567227</td>    </tr>    <tr>      <th>2</th>      <td>2018-08-18</td>      <td>2660571</td>    </tr>  </tbody></table>\\n'])"
      ]
     },
     "metadata": {},
     "output_type": "display_data"
    }
   ],
   "source": [
    "    f\"\"\"- {_nbestimate_}\n",
    "    - |\n",
    "\n",
    "        {''.join(λ.pandas.read_html().first()(_nbestimate_).to_html().splitlines())}\n",
    "    \"\"\""
   ]
  },
  {
   "cell_type": "markdown",
   "metadata": {},
   "source": [
    "![](https://camo.githubusercontent.com/a8d4be63da2f73339f35839d4c006f080b13104a/68747470733a2f2f75706c6f61642e77696b696d656469612e6f72672f77696b6970656469612f636f6d6d6f6e732f342f34382f446174615f64726976656e5f6a6f75726e616c69736d5f70726f636573732e6a7067)"
   ]
  },
  {
   "cell_type": "code",
   "execution_count": 42,
   "metadata": {},
   "outputs": [
    {
     "data": {
      "text/html": [
       "<div class=\"flexed-container flexed-row\"><div class=\"flexed-item\" style=\"order: 0;\">\n",
       "        <iframe\n",
       "            width=\"500\"\n",
       "            height=\"450\"\n",
       "            src=\"http://nbviewer.jupyter.org/github/robertodealmeida/notebooks/blob/master/scientific_american/Scientific%20American%20graph.ipynb\"\n",
       "            frameborder=\"0\"\n",
       "            allowfullscreen\n",
       "        ></iframe>\n",
       "        </div><div class=\"flexed-item\" style=\"order: 0;\">\n",
       "        <iframe\n",
       "            width=\"500\"\n",
       "            height=\"450\"\n",
       "            src=\"http://nbviewer.jupyter.org/github/minrk/ligo-binder/blob/master/index.ipynb\"\n",
       "            frameborder=\"0\"\n",
       "            allowfullscreen\n",
       "        ></iframe>\n",
       "        </div></div>"
      ],
      "text/plain": [
       "Row(content=[{'text/html': 'http://nbviewer.jupyter.org/github/robertodealmeida/notebooks/blob/master/scientific_american/Scientific%20American%20graph.ipynb'}, {'text/html': 'http://nbviewer.jupyter.org/github/minrk/ligo-binder/blob/master/index.ipynb'}])"
      ]
     },
     "metadata": {},
     "output_type": "display_data"
    },
    {
     "data": {
      "text/html": [
       "\n",
       "        <iframe\n",
       "            width=\"100%\"\n",
       "            height=\"450\"\n",
       "            src=\"https://www.theatlantic.com/science/archive/2018/04/the-scientific-paper-is-obsolete/556676/\"\n",
       "            frameborder=\"0\"\n",
       "            allowfullscreen\n",
       "        ></iframe>\n",
       "        "
      ],
      "text/plain": [
       "<IPython.lib.display.IFrame at 0x2c62b2c97f0>"
      ]
     },
     "metadata": {},
     "output_type": "display_data"
    }
   ],
   "source": [
    "    \"\"\"- text/html: http://nbviewer.jupyter.org/github/robertodealmeida/notebooks/blob/master/scientific_american/Scientific%20American%20graph.ipynb\n",
    "    - text/html: http://nbviewer.jupyter.org/github/minrk/ligo-binder/blob/master/index.ipynb\n",
    "    \"\"\"; \"\"\"https://www.theatlantic.com/science/archive/2018/04/the-scientific-paper-is-obsolete/556676/\"\"\""
   ]
  },
  {
   "cell_type": "markdown",
   "metadata": {},
   "source": [
    "Its clear that this is not by accident"
   ]
  },
  {
   "cell_type": "code",
   "execution_count": 151,
   "metadata": {},
   "outputs": [
    {
     "data": {
      "text/html": [
       "<div class=\"flexed-container flexed-row\"><div class=\"flexed-item\" style=\"order: 0;\"><?xml version=\"1.0\" encoding=\"UTF-8\" standalone=\"no\"?>\r\n",
       "<!DOCTYPE svg PUBLIC \"-//W3C//DTD SVG 1.1//EN\"\r\n",
       " \"http://www.w3.org/Graphics/SVG/1.1/DTD/svg11.dtd\">\r\n",
       "<!-- Generated by graphviz version 2.38.0 (20140413.2041)\r\n",
       " -->\r\n",
       "<!-- Title: %3 Pages: 1 -->\r\n",
       "<svg width=\"128pt\" height=\"188pt\"\r\n",
       " viewBox=\"0.00 0.00 128.09 188.00\" xmlns=\"http://www.w3.org/2000/svg\" xmlns:xlink=\"http://www.w3.org/1999/xlink\">\r\n",
       "<g id=\"graph0\" class=\"graph\" transform=\"scale(1 1) rotate(0) translate(4 184)\">\r\n",
       "<title>%3</title>\r\n",
       "<polygon fill=\"white\" stroke=\"none\" points=\"-4,4 -4,-184 124.092,-184 124.092,4 -4,4\"/>\r\n",
       "<!-- data -->\r\n",
       "<g id=\"node1\" class=\"node\"><title>data</title>\r\n",
       "<ellipse fill=\"none\" stroke=\"black\" cx=\"70.6967\" cy=\"-162\" rx=\"27\" ry=\"18\"/>\r\n",
       "<text text-anchor=\"middle\" x=\"70.6967\" y=\"-158.3\" font-family=\"Times New Roman,serif\" font-size=\"14.00\">data</text>\r\n",
       "</g>\r\n",
       "<!-- science -->\r\n",
       "<g id=\"node2\" class=\"node\"><title>science</title>\r\n",
       "<ellipse fill=\"none\" stroke=\"black\" cx=\"37.6967\" cy=\"-90\" rx=\"37.8943\" ry=\"18\"/>\r\n",
       "<text text-anchor=\"middle\" x=\"37.6967\" y=\"-86.3\" font-family=\"Times New Roman,serif\" font-size=\"14.00\">science</text>\r\n",
       "</g>\r\n",
       "<!-- data&#45;&#45;science -->\r\n",
       "<g id=\"edge1\" class=\"edge\"><title>data&#45;&#45;science</title>\r\n",
       "<path fill=\"none\" stroke=\"black\" d=\"M62.8761,-144.411C57.6919,-133.414 50.9096,-119.027 45.6903,-107.956\"/>\r\n",
       "</g>\r\n",
       "<!-- computing -->\r\n",
       "<g id=\"node3\" class=\"node\"><title>computing</title>\r\n",
       "<ellipse fill=\"none\" stroke=\"black\" cx=\"70.6967\" cy=\"-18\" rx=\"49.2915\" ry=\"18\"/>\r\n",
       "<text text-anchor=\"middle\" x=\"70.6967\" y=\"-14.3\" font-family=\"Times New Roman,serif\" font-size=\"14.00\">computing</text>\r\n",
       "</g>\r\n",
       "<!-- science&#45;&#45;computing -->\r\n",
       "<g id=\"edge2\" class=\"edge\"><title>science&#45;&#45;computing</title>\r\n",
       "<path fill=\"none\" stroke=\"black\" d=\"M45.685,-72.055C50.8735,-61.0492 57.6081,-46.7636 62.7818,-35.789\"/>\r\n",
       "</g>\r\n",
       "<!-- computing&#45;&#45;data -->\r\n",
       "<g id=\"edge3\" class=\"edge\"><title>computing&#45;&#45;data</title>\r\n",
       "<path fill=\"none\" stroke=\"black\" d=\"M76.3748,-35.9624C79.5182,-46.2553 83.1035,-59.7309 84.6967,-72 86.7569,-87.8668 86.7569,-92.1332 84.6967,-108 83.1035,-120.269 79.5182,-133.745 76.3748,-144.038\"/>\r\n",
       "</g>\r\n",
       "</g>\r\n",
       "</svg>\r\n",
       "</div><div class=\"flexed-item\" style=\"order: 0;\"><h4><a href=\"\">\"Literate computing\" and computational reproducibility: IPython in the age of data-driven journalism</a></h4>\n",
       "<blockquote><p>Our job with Jupyter<del>IPython</del> is to think deeply about questions regarding the intersection of <em><strong>computing, data and science</strong></em>, but it's clear \n",
       "to me at this point that we can contribute in contexts beyond pure scientific research. I hope we'll be able to provide folks who have \n",
       "a <em><strong>direct intersection with the public</strong></em>, such as journalists, with tools that help a more informed and productive debate.</p>\n",
       "</blockquote>\n",
       "</div></div>"
      ],
      "text/plain": [
       "Row(content=['graph {data--science--computing--data}', '#### [\"Literate computing\" and computational reproducibility: IPython in the age of data-driven journalism]()\\n> Our job with Jupyter~~IPython~~ is to think deeply about questions regarding the intersection of _**computing, data and science**_, but it\\'s clear \\nto me at this point that we can contribute in contexts beyond pure scientific research. I hope we\\'ll be able to provide folks who have \\na _**direct intersection with the public**_, such as journalists, with tools that help a more informed and productive debate.\\n'])"
      ]
     },
     "metadata": {},
     "output_type": "display_data"
    },
    {
     "data": {
      "text/html": [
       "\n",
       "        <iframe\n",
       "            width=\"100%\"\n",
       "            height=\"450\"\n",
       "            src=\"http://blog.fperez.org/2013/04/literate-computing-and-computational.html\"\n",
       "            frameborder=\"0\"\n",
       "            allowfullscreen\n",
       "        ></iframe>\n",
       "        "
      ],
      "text/plain": [
       "<IPython.lib.display.IFrame at 0x2c62b34be10>"
      ]
     },
     "metadata": {},
     "output_type": "display_data"
    }
   ],
   "source": [
    "\"\"\"\n",
    "- graph {data--science--computing--data}\n",
    "- |\n",
    "\n",
    "\n",
    "    #### [\"Literate computing\" and computational reproducibility: IPython in the age of data-driven journalism]()\n",
    "    > Our job with Jupyter~~IPython~~ is to think deeply about questions regarding the intersection of _**computing, data and science**_, but it's clear \n",
    "    to me at this point that we can contribute in contexts beyond pure scientific research. I hope we'll be able to provide folks who have \n",
    "    a _**direct intersection with the public**_, such as journalists, with tools that help a more informed and productive debate.\n",
    "\n",
    "\"\"\" \n",
    "\"\"\"http://blog.fperez.org/2013/04/literate-computing-and-computational.html\"\"\""
   ]
  },
  {
   "cell_type": "markdown",
   "metadata": {},
   "source": [
    "# Notebooks are a basis for modern literacies\n",
    "\n",
    "As data becomes more compute and narrative will meet.  We are inspired by that"
   ]
  },
  {
   "cell_type": "markdown",
   "metadata": {},
   "source": [
    "Let's do some weird shit with notebooks"
   ]
  },
  {
   "cell_type": "code",
   "execution_count": 147,
   "metadata": {},
   "outputs": [
    {
     "data": {
      "text/html": [
       "<div class=\"flexed-container flexed-row\"><div class=\"flexed-container flexed-column\"><div class=\"flexed-item\" style=\"order: 0;\"><p>Something like a mood board</p>\n",
       "</div><div class=\"flexed-item\" style=\"order: 0;\">\n",
       "        <iframe\n",
       "            width=\"500\"\n",
       "            height=\"450\"\n",
       "            src=\"https://player.vimeo.com/video/36579366\"\n",
       "            frameborder=\"0\"\n",
       "            allowfullscreen\n",
       "        ></iframe>\n",
       "        </div></div><div class=\"flexed-item\" style=\"order: 0;\">\n",
       "        <iframe\n",
       "            width=\"500\"\n",
       "            height=\"450\"\n",
       "            src=\"http://worrydream.com/Tangle/\"\n",
       "            frameborder=\"0\"\n",
       "            allowfullscreen\n",
       "        ></iframe>\n",
       "        </div></div>"
      ],
      "text/plain": [
       "Row(content=[['Something like a mood board', 'https://player.vimeo.com/video/36579366'], 'http://worrydream.com/Tangle/'])"
      ]
     },
     "metadata": {},
     "output_type": "display_data"
    },
    {
     "data": {
      "text/html": [
       "\n",
       "        <iframe\n",
       "            width=\"100%\"\n",
       "            height=\"450\"\n",
       "            src=\"https://idyll-lang.org/gallery/how-to-tune-a-guitar\"\n",
       "            frameborder=\"0\"\n",
       "            allowfullscreen\n",
       "        ></iframe>\n",
       "        "
      ],
      "text/plain": [
       "<IPython.lib.display.IFrame at 0x2c62b34b588>"
      ]
     },
     "metadata": {},
     "output_type": "display_data"
    },
    {
     "data": {
      "text/html": [
       "<div class=\"flexed-container flexed-row\"><div class=\"flexed-item\" style=\"order: 0;\">\n",
       "        <iframe\n",
       "            width=\"500\"\n",
       "            height=\"450\"\n",
       "            src=\"http://nytlabs.com/blog/2015/10/20/particles/\"\n",
       "            frameborder=\"0\"\n",
       "            allowfullscreen\n",
       "        ></iframe>\n",
       "        </div><div class=\"flexed-item\" style=\"order: 0;\">\n",
       "        <iframe\n",
       "            width=\"500\"\n",
       "            height=\"450\"\n",
       "            src=\"http://printingcode.runemadsen.com/lecture-color/\"\n",
       "            frameborder=\"0\"\n",
       "            allowfullscreen\n",
       "        ></iframe>\n",
       "        </div></div>"
      ],
      "text/plain": [
       "Row(content=['http://nytlabs.com/blog/2015/10/20/particles/', 'http://printingcode.runemadsen.com/lecture-color/'])"
      ]
     },
     "metadata": {},
     "output_type": "display_data"
    },
    {
     "data": {
      "text/html": [
       "\n",
       "        <iframe\n",
       "            width=\"100%\"\n",
       "            height=\"450\"\n",
       "            src=\"https://www.theartstory.org/movement-bauhaus.htm#key_ideas_header\"\n",
       "            frameborder=\"0\"\n",
       "            allowfullscreen\n",
       "        ></iframe>\n",
       "        "
      ],
      "text/plain": [
       "<IPython.lib.display.IFrame at 0x2c62b34b588>"
      ]
     },
     "metadata": {},
     "output_type": "display_data"
    },
    {
     "data": {
      "text/html": [
       "<div class=\"flexed-container flexed-row\"><div class=\"flexed-item\" style=\"order: 0;\"><p>Old lab notebooks</p>\n",
       "</div></div>"
      ],
      "text/plain": [
       "Row(content=['Old lab notebooks'])"
      ]
     },
     "metadata": {},
     "output_type": "display_data"
    }
   ],
   "source": [
    "    \n",
    "    \n",
    "    \"\"\"\n",
    "    - - \"Something like a mood board\"\n",
    "      - https://player.vimeo.com/video/36579366\n",
    "    - http://worrydream.com/Tangle/\"\"\"\n",
    "    \"\"\"https://idyll-lang.org/gallery/how-to-tune-a-guitar\"\"\"\n",
    "    \"\"\"\n",
    "    - http://nytlabs.com/blog/2015/10/20/particles/\n",
    "    - http://printingcode.runemadsen.com/lecture-color/\"\"\"\n",
    "    \"\"\"https://www.theartstory.org/movement-bauhaus.htm#key_ideas_header\"\"\"\n",
    "    \"\"\"- Old lab notebooks\"\"\""
   ]
  },
  {
   "cell_type": "markdown",
   "metadata": {},
   "source": [
    "# Literacy + Reproducibility = Reusability"
   ]
  },
  {
   "cell_type": "code",
   "execution_count": 152,
   "metadata": {},
   "outputs": [],
   "source": [
    "%reload_ext reincarnation"
   ]
  },
  {
   "cell_type": "code",
   "execution_count": 156,
   "metadata": {},
   "outputs": [],
   "source": [
    "rrr = \"\"\"digraph {rankdir=LR readable -> reproducible -> reusable -> readable }\"\"\""
   ]
  },
  {
   "cell_type": "code",
   "execution_count": 180,
   "metadata": {},
   "outputs": [],
   "source": [
    "tech_rrr = \"\"\"digraph {\n",
    "    subgraph cluster_lit{\n",
    "        label=Literacies\n",
    "        readable -> reproducible -> reusable -> readable \n",
    "        subgraph cluster_text {label=Textual readable nbconvert nbviewer github}\n",
    "        subgraph cluster_procedural {label=Procedural reusable notebook lab nteract}\n",
    "        subgraph cluster_computational {label=Computational reproducible nbformat}\n",
    "    }\n",
    "}\"\"\""
   ]
  },
  {
   "cell_type": "code",
   "execution_count": 181,
   "metadata": {},
   "outputs": [],
   "source": [
    "interactive_rrr = ' '.join(\"\"\"digraph {\n",
    "    rankdir=LR\n",
    "    subgraph cluster_lit{\n",
    "        label=Literacies\n",
    "        readable -> reproducible -> reusable -> readable \n",
    "        subgraph cluster_text {label=Input readable}\n",
    "        subgraph cluster_procedural {label=Output reusable}\n",
    "        subgraph cluster_computational {label=Compute reproducible}\n",
    "    }\n",
    "}\"\"\".splitlines())"
   ]
  },
  {
   "cell_type": "code",
   "execution_count": 158,
   "metadata": {},
   "outputs": [],
   "source": [
    "lit_rrr = ' '.join(\"\"\"digraph {\n",
    "    rankdir=LR\n",
    "    subgraph cluster_lit{\n",
    "        label=Literacies\n",
    "        readable -> reproducible -> reusable -> readable \n",
    "        subgraph cluster_text {label=Textual readable}\n",
    "        subgraph cluster_procedural {label=Procedural reusable}\n",
    "        subgraph cluster_computational {label=Computational reproducible}\n",
    "    }\n",
    "}\"\"\".splitlines())"
   ]
  },
  {
   "cell_type": "code",
   "execution_count": 159,
   "metadata": {},
   "outputs": [
    {
     "data": {
      "text/html": [
       "<div class=\"flexed-container flexed-row\"><div class=\"flexed-item\" style=\"order: 0;\"><?xml version=\"1.0\" encoding=\"UTF-8\" standalone=\"no\"?>\r\n",
       "<!DOCTYPE svg PUBLIC \"-//W3C//DTD SVG 1.1//EN\"\r\n",
       " \"http://www.w3.org/Graphics/SVG/1.1/DTD/svg11.dtd\">\r\n",
       "<!-- Generated by graphviz version 2.38.0 (20140413.2041)\r\n",
       " -->\r\n",
       "<!-- Title: %3 Pages: 1 -->\r\n",
       "<svg width=\"356pt\" height=\"67pt\"\r\n",
       " viewBox=\"0.00 0.00 355.58 67.00\" xmlns=\"http://www.w3.org/2000/svg\" xmlns:xlink=\"http://www.w3.org/1999/xlink\">\r\n",
       "<g id=\"graph0\" class=\"graph\" transform=\"scale(1 1) rotate(0) translate(4 63)\">\r\n",
       "<title>%3</title>\r\n",
       "<polygon fill=\"white\" stroke=\"none\" points=\"-4,4 -4,-63 351.576,-63 351.576,4 -4,4\"/>\r\n",
       "<!-- readable -->\r\n",
       "<g id=\"node1\" class=\"node\"><title>readable</title>\r\n",
       "<ellipse fill=\"none\" stroke=\"black\" cx=\"40.9464\" cy=\"-18\" rx=\"40.8928\" ry=\"18\"/>\r\n",
       "<text text-anchor=\"middle\" x=\"40.9464\" y=\"-14.3\" font-family=\"Times New Roman,serif\" font-size=\"14.00\">readable</text>\r\n",
       "</g>\r\n",
       "<!-- reproducible -->\r\n",
       "<g id=\"node2\" class=\"node\"><title>reproducible</title>\r\n",
       "<ellipse fill=\"none\" stroke=\"black\" cx=\"174.438\" cy=\"-41\" rx=\"56.59\" ry=\"18\"/>\r\n",
       "<text text-anchor=\"middle\" x=\"174.438\" y=\"-37.3\" font-family=\"Times New Roman,serif\" font-size=\"14.00\">reproducible</text>\r\n",
       "</g>\r\n",
       "<!-- readable&#45;&gt;reproducible -->\r\n",
       "<g id=\"edge1\" class=\"edge\"><title>readable&#45;&gt;reproducible</title>\r\n",
       "<path fill=\"none\" stroke=\"black\" d=\"M79.2748,-24.5294C90.1893,-26.4385 102.398,-28.5739 114.313,-30.6581\"/>\r\n",
       "<polygon fill=\"black\" stroke=\"black\" points=\"113.765,-34.1152 124.218,-32.3907 114.971,-27.2199 113.765,-34.1152\"/>\r\n",
       "</g>\r\n",
       "<!-- reusable -->\r\n",
       "<g id=\"node3\" class=\"node\"><title>reusable</title>\r\n",
       "<ellipse fill=\"none\" stroke=\"black\" cx=\"307.279\" cy=\"-18\" rx=\"40.0939\" ry=\"18\"/>\r\n",
       "<text text-anchor=\"middle\" x=\"307.279\" y=\"-14.3\" font-family=\"Times New Roman,serif\" font-size=\"14.00\">reusable</text>\r\n",
       "</g>\r\n",
       "<!-- reproducible&#45;&gt;reusable -->\r\n",
       "<g id=\"edge2\" class=\"edge\"><title>reproducible&#45;&gt;reusable</title>\r\n",
       "<path fill=\"none\" stroke=\"black\" d=\"M224.53,-32.3702C235.967,-30.3598 248.115,-28.2244 259.451,-26.2317\"/>\r\n",
       "<polygon fill=\"black\" stroke=\"black\" points=\"260.346,-29.6281 269.589,-24.4496 259.134,-22.7338 260.346,-29.6281\"/>\r\n",
       "</g>\r\n",
       "<!-- reusable&#45;&gt;readable -->\r\n",
       "<g id=\"edge3\" class=\"edge\"><title>reusable&#45;&gt;readable</title>\r\n",
       "<path fill=\"none\" stroke=\"black\" d=\"M267.215,-15.5299C255.563,-14.8998 242.76,-14.3126 230.983,-14 180.738,-12.6664 168.138,-12.6778 117.893,-14 109.45,-14.2222 100.484,-14.5831 91.7841,-14.9995\"/>\r\n",
       "<polygon fill=\"black\" stroke=\"black\" points=\"91.5504,-11.5068 81.7406,-15.5089 91.9051,-18.4978 91.5504,-11.5068\"/>\r\n",
       "</g>\r\n",
       "</g>\r\n",
       "</svg>\r\n",
       "</div><div class=\"flexed-item\" style=\"order: 0;\">\n",
       "        <iframe\n",
       "            width=\"500\"\n",
       "            height=\"450\"\n",
       "            src=\"http://gael-varoquaux.info/programming/of-software-and-science-reproducible-science-what-why-and-how.html\"\n",
       "            frameborder=\"0\"\n",
       "            allowfullscreen\n",
       "        ></iframe>\n",
       "        </div></div>"
      ],
      "text/plain": [
       "Row(content=['digraph {rankdir=LR readable -> reproducible -> reusable -> readable }', 'http://gael-varoquaux.info/programming/of-software-and-science-reproducible-science-what-why-and-how.html'])"
      ]
     },
     "metadata": {},
     "output_type": "display_data"
    }
   ],
   "source": [
    "    F\"\"\"- {rrr}\n",
    "    - http://gael-varoquaux.info/programming/of-software-and-science-reproducible-science-what-why-and-how.html\"\"\""
   ]
  },
  {
   "cell_type": "code",
   "execution_count": 160,
   "metadata": {},
   "outputs": [],
   "source": [
    "textual = \"\"\"\n",
    "- - |\n",
    "    # Literacy Makes Programming a Human Problem\n",
    "\n",
    "    > _Computational literacy builds on textual literacy because it entails textual writing and reading, but it is also quite distinct from textual literacy. In programming, one must \n",
    "    build structures out of explicitly defined components. As Wittgenstein argued, human language works differently: not through explicit definitions, but through use and exchange._\n",
    "    >> [Annette Vee - Understanding Computer programming as a Literacy](http://licsjournal.org/OJS/index.php/LiCS/article/view/24/26)\n",
    "  - html: \n",
    "        src: http://licsjournal.org/OJS/index.php/LiCS/article/view/24/26#\n",
    "        width: 100%\n",
    "    \n",
    "\"\"\"\n",
    "    "
   ]
  },
  {
   "cell_type": "code",
   "execution_count": 161,
   "metadata": {},
   "outputs": [],
   "source": [
    "computational = \"\"\"\n",
    "- - \"### Computational<br>Literacy\"\n",
    "  - https://en.m.wikipedia.org/wiki/Guido_van_Rossum#Computer_Programming_for_Everybody\n",
    "  - |\n",
    "    > ### We compare mass ability to read and write so ware with mass literacy, and predict equally pervasive changes to society. Hardware is now sufficiently fast and cheap to make mass computer education possible: the next big change will happen when most computer users have the knowledge and power to create and modify software.\n",
    "    > > ## Guido van Rossum, from [a 1999 DARPA grant application to support the teaching of computer programming.](https://www.python.org/doc/essays/cp4e/)\n",
    "\n",
    "\"\"\""
   ]
  },
  {
   "cell_type": "code",
   "execution_count": 162,
   "metadata": {},
   "outputs": [],
   "source": [
    "    procedural = F\"\"\"\n",
    "    - - {rrr}\n",
    "      - |\n",
    "        # Reusability is procedural literacy\n",
    "\n",
    "        > ... procedural literacy entails the ability to reconfigure basic concepts and rules to understand and solve problems, not just on the computer, but in general.\n",
    "        >> [Ian Bogost - Procedural Literacy: Problem Solving with Programming, Systems, & Play](http://bogost.com/downloads/I.%20Bogost%20Procedural%20Literacy.pdf)\n",
    "    \"\"\""
   ]
  },
  {
   "cell_type": "code",
   "execution_count": 163,
   "metadata": {},
   "outputs": [
    {
     "data": {
      "image/svg+xml": [
       "<?xml version=\"1.0\" encoding=\"UTF-8\" standalone=\"no\"?>\r\n",
       "<!DOCTYPE svg PUBLIC \"-//W3C//DTD SVG 1.1//EN\"\r\n",
       " \"http://www.w3.org/Graphics/SVG/1.1/DTD/svg11.dtd\">\r\n",
       "<!-- Generated by graphviz version 2.38.0 (20140413.2041)\r\n",
       " -->\r\n",
       "<!-- Title: %3 Pages: 1 -->\r\n",
       "<svg width=\"404pt\" height=\"148pt\"\r\n",
       " viewBox=\"0.00 0.00 403.58 148.00\" xmlns=\"http://www.w3.org/2000/svg\" xmlns:xlink=\"http://www.w3.org/1999/xlink\">\r\n",
       "<g id=\"graph0\" class=\"graph\" transform=\"scale(1 1) rotate(0) translate(4 144)\">\r\n",
       "<title>%3</title>\r\n",
       "<polygon fill=\"white\" stroke=\"none\" points=\"-4,4 -4,-144 399.576,-144 399.576,4 -4,4\"/>\r\n",
       "<g id=\"clust1\" class=\"cluster\"><title>cluster_lit</title>\r\n",
       "<polygon fill=\"none\" stroke=\"black\" points=\"8,-8 8,-132 387.576,-132 387.576,-8 8,-8\"/>\r\n",
       "<text text-anchor=\"middle\" x=\"197.788\" y=\"-116.8\" font-family=\"Times New Roman,serif\" font-size=\"14.00\">Literacies</text>\r\n",
       "</g>\r\n",
       "<g id=\"clust2\" class=\"cluster\"><title>cluster_text</title>\r\n",
       "<polygon fill=\"none\" stroke=\"black\" points=\"16,-21 16,-96 113.893,-96 113.893,-21 16,-21\"/>\r\n",
       "<text text-anchor=\"middle\" x=\"64.9464\" y=\"-80.8\" font-family=\"Times New Roman,serif\" font-size=\"14.00\">Textual</text>\r\n",
       "</g>\r\n",
       "<g id=\"clust4\" class=\"cluster\"><title>cluster_computational</title>\r\n",
       "<polygon fill=\"none\" stroke=\"black\" points=\"133.893,-16 133.893,-91 262.983,-91 262.983,-16 133.893,-16\"/>\r\n",
       "<text text-anchor=\"middle\" x=\"198.438\" y=\"-75.8\" font-family=\"Times New Roman,serif\" font-size=\"14.00\">Computational</text>\r\n",
       "</g>\r\n",
       "<g id=\"clust3\" class=\"cluster\"><title>cluster_procedural</title>\r\n",
       "<polygon fill=\"none\" stroke=\"black\" points=\"282.983,-21 282.983,-96 379.576,-96 379.576,-21 282.983,-21\"/>\r\n",
       "<text text-anchor=\"middle\" x=\"331.279\" y=\"-80.8\" font-family=\"Times New Roman,serif\" font-size=\"14.00\">Procedural</text>\r\n",
       "</g>\r\n",
       "<!-- readable -->\r\n",
       "<g id=\"node1\" class=\"node\"><title>readable</title>\r\n",
       "<ellipse fill=\"none\" stroke=\"black\" cx=\"64.9464\" cy=\"-47\" rx=\"40.8928\" ry=\"18\"/>\r\n",
       "<text text-anchor=\"middle\" x=\"64.9464\" y=\"-43.3\" font-family=\"Times New Roman,serif\" font-size=\"14.00\">readable</text>\r\n",
       "</g>\r\n",
       "<!-- reproducible -->\r\n",
       "<g id=\"node2\" class=\"node\"><title>reproducible</title>\r\n",
       "<ellipse fill=\"none\" stroke=\"black\" cx=\"198.438\" cy=\"-42\" rx=\"56.59\" ry=\"18\"/>\r\n",
       "<text text-anchor=\"middle\" x=\"198.438\" y=\"-38.3\" font-family=\"Times New Roman,serif\" font-size=\"14.00\">reproducible</text>\r\n",
       "</g>\r\n",
       "<!-- readable&#45;&gt;reproducible -->\r\n",
       "<g id=\"edge1\" class=\"edge\"><title>readable&#45;&gt;reproducible</title>\r\n",
       "<path fill=\"none\" stroke=\"black\" d=\"M105.755,-45.4863C114.103,-45.1688 123.115,-44.8261 132.117,-44.4839\"/>\r\n",
       "<polygon fill=\"black\" stroke=\"black\" points=\"132.379,-47.9765 142.239,-44.0989 132.113,-40.9815 132.379,-47.9765\"/>\r\n",
       "</g>\r\n",
       "<!-- reusable -->\r\n",
       "<g id=\"node3\" class=\"node\"><title>reusable</title>\r\n",
       "<ellipse fill=\"none\" stroke=\"black\" cx=\"331.279\" cy=\"-47\" rx=\"40.0939\" ry=\"18\"/>\r\n",
       "<text text-anchor=\"middle\" x=\"331.279\" y=\"-43.3\" font-family=\"Times New Roman,serif\" font-size=\"14.00\">reusable</text>\r\n",
       "</g>\r\n",
       "<!-- reproducible&#45;&gt;reusable -->\r\n",
       "<g id=\"edge2\" class=\"edge\"><title>reproducible&#45;&gt;reusable</title>\r\n",
       "<path fill=\"none\" stroke=\"black\" d=\"M254.926,-44.1205C263.542,-44.4497 272.393,-44.7879 280.863,-45.1116\"/>\r\n",
       "<polygon fill=\"black\" stroke=\"black\" points=\"280.838,-48.6131 290.964,-45.4976 281.105,-41.6182 280.838,-48.6131\"/>\r\n",
       "</g>\r\n",
       "<!-- reusable&#45;&gt;readable -->\r\n",
       "<g id=\"edge3\" class=\"edge\"><title>reusable&#45;&gt;readable</title>\r\n",
       "<path fill=\"none\" stroke=\"black\" d=\"M313.675,-63.3824C300.974,-74.6985 282.391,-88.7876 262.983,-95 208.34,-112.491 188.575,-112.367 133.893,-95 118.011,-89.9561 102.644,-79.709 90.5527,-69.9733\"/>\r\n",
       "<polygon fill=\"black\" stroke=\"black\" points=\"92.6407,-67.1557 82.7395,-63.3851 88.1282,-72.5072 92.6407,-67.1557\"/>\r\n",
       "</g>\r\n",
       "</g>\r\n",
       "</svg>\r\n"
      ],
      "text/plain": [
       "<graphviz.files.Source at 0x2c62b34beb8>"
      ]
     },
     "metadata": {},
     "output_type": "display_data"
    }
   ],
   "source": [
    "F\"\"\"{lit_rrr}\"\"\""
   ]
  },
  {
   "cell_type": "code",
   "execution_count": 164,
   "metadata": {},
   "outputs": [
    {
     "data": {
      "text/html": [
       "<div class=\"flexed-container flexed-row\"><div class=\"flexed-container flexed-column\"><div class=\"flexed-item\" style=\"order: 0;\"><h1>Literacy Makes Programming a Human Problem</h1>\n",
       "<blockquote><p><em>Computational literacy builds on textual literacy because it entails textual writing and reading, but it is also quite distinct from textual literacy. In programming, one must \n",
       "build structures out of explicitly defined components. As Wittgenstein argued, human language works differently: not through explicit definitions, but through use and exchange.</em></p>\n",
       "<blockquote><p><a href=\"http://licsjournal.org/OJS/index.php/LiCS/article/view/24/26\">Annette Vee - Understanding Computer programming as a Literacy</a></p>\n",
       "</blockquote>\n",
       "</blockquote>\n",
       "</div><div class=\"flexed-item\" style=\"order: 0;\">\n",
       "        <iframe\n",
       "            width=\"100%\"\n",
       "            height=\"450\"\n",
       "            src=\"http://licsjournal.org/OJS/index.php/LiCS/article/view/24/26#\"\n",
       "            frameborder=\"0\"\n",
       "            allowfullscreen\n",
       "        ></iframe>\n",
       "        </div></div><div class=\"flexed-container flexed-column\"><div class=\"flexed-item\" style=\"order: 0;\"><h3>Computational<br>Literacy</h3>\n",
       "</div><div class=\"flexed-item\" style=\"order: 0;\">\n",
       "        <iframe\n",
       "            width=\"500\"\n",
       "            height=\"450\"\n",
       "            src=\"https://en.m.wikipedia.org/wiki/Guido_van_Rossum#Computer_Programming_for_Everybody\"\n",
       "            frameborder=\"0\"\n",
       "            allowfullscreen\n",
       "        ></iframe>\n",
       "        </div><div class=\"flexed-item\" style=\"order: 0;\"><blockquote><h3>We compare mass ability to read and write so ware with mass literacy, and predict equally pervasive changes to society. Hardware is now sufficiently fast and cheap to make mass computer education possible: the next big change will happen when most computer users have the knowledge and power to create and modify software.</h3>\n",
       "<blockquote><h2>Guido van Rossum, from <a href=\"https://www.python.org/doc/essays/cp4e/\">a 1999 DARPA grant application to support the teaching of computer programming.</a></h2>\n",
       "</blockquote>\n",
       "</blockquote>\n",
       "</div></div><div class=\"flexed-container flexed-column\"><div class=\"flexed-item\" style=\"order: 0;\"><?xml version=\"1.0\" encoding=\"UTF-8\" standalone=\"no\"?>\r\n",
       "<!DOCTYPE svg PUBLIC \"-//W3C//DTD SVG 1.1//EN\"\r\n",
       " \"http://www.w3.org/Graphics/SVG/1.1/DTD/svg11.dtd\">\r\n",
       "<!-- Generated by graphviz version 2.38.0 (20140413.2041)\r\n",
       " -->\r\n",
       "<!-- Title: %3 Pages: 1 -->\r\n",
       "<svg width=\"356pt\" height=\"67pt\"\r\n",
       " viewBox=\"0.00 0.00 355.58 67.00\" xmlns=\"http://www.w3.org/2000/svg\" xmlns:xlink=\"http://www.w3.org/1999/xlink\">\r\n",
       "<g id=\"graph0\" class=\"graph\" transform=\"scale(1 1) rotate(0) translate(4 63)\">\r\n",
       "<title>%3</title>\r\n",
       "<polygon fill=\"white\" stroke=\"none\" points=\"-4,4 -4,-63 351.576,-63 351.576,4 -4,4\"/>\r\n",
       "<!-- readable -->\r\n",
       "<g id=\"node1\" class=\"node\"><title>readable</title>\r\n",
       "<ellipse fill=\"none\" stroke=\"black\" cx=\"40.9464\" cy=\"-18\" rx=\"40.8928\" ry=\"18\"/>\r\n",
       "<text text-anchor=\"middle\" x=\"40.9464\" y=\"-14.3\" font-family=\"Times New Roman,serif\" font-size=\"14.00\">readable</text>\r\n",
       "</g>\r\n",
       "<!-- reproducible -->\r\n",
       "<g id=\"node2\" class=\"node\"><title>reproducible</title>\r\n",
       "<ellipse fill=\"none\" stroke=\"black\" cx=\"174.438\" cy=\"-41\" rx=\"56.59\" ry=\"18\"/>\r\n",
       "<text text-anchor=\"middle\" x=\"174.438\" y=\"-37.3\" font-family=\"Times New Roman,serif\" font-size=\"14.00\">reproducible</text>\r\n",
       "</g>\r\n",
       "<!-- readable&#45;&gt;reproducible -->\r\n",
       "<g id=\"edge1\" class=\"edge\"><title>readable&#45;&gt;reproducible</title>\r\n",
       "<path fill=\"none\" stroke=\"black\" d=\"M79.2748,-24.5294C90.1893,-26.4385 102.398,-28.5739 114.313,-30.6581\"/>\r\n",
       "<polygon fill=\"black\" stroke=\"black\" points=\"113.765,-34.1152 124.218,-32.3907 114.971,-27.2199 113.765,-34.1152\"/>\r\n",
       "</g>\r\n",
       "<!-- reusable -->\r\n",
       "<g id=\"node3\" class=\"node\"><title>reusable</title>\r\n",
       "<ellipse fill=\"none\" stroke=\"black\" cx=\"307.279\" cy=\"-18\" rx=\"40.0939\" ry=\"18\"/>\r\n",
       "<text text-anchor=\"middle\" x=\"307.279\" y=\"-14.3\" font-family=\"Times New Roman,serif\" font-size=\"14.00\">reusable</text>\r\n",
       "</g>\r\n",
       "<!-- reproducible&#45;&gt;reusable -->\r\n",
       "<g id=\"edge2\" class=\"edge\"><title>reproducible&#45;&gt;reusable</title>\r\n",
       "<path fill=\"none\" stroke=\"black\" d=\"M224.53,-32.3702C235.967,-30.3598 248.115,-28.2244 259.451,-26.2317\"/>\r\n",
       "<polygon fill=\"black\" stroke=\"black\" points=\"260.346,-29.6281 269.589,-24.4496 259.134,-22.7338 260.346,-29.6281\"/>\r\n",
       "</g>\r\n",
       "<!-- reusable&#45;&gt;readable -->\r\n",
       "<g id=\"edge3\" class=\"edge\"><title>reusable&#45;&gt;readable</title>\r\n",
       "<path fill=\"none\" stroke=\"black\" d=\"M267.215,-15.5299C255.563,-14.8998 242.76,-14.3126 230.983,-14 180.738,-12.6664 168.138,-12.6778 117.893,-14 109.45,-14.2222 100.484,-14.5831 91.7841,-14.9995\"/>\r\n",
       "<polygon fill=\"black\" stroke=\"black\" points=\"91.5504,-11.5068 81.7406,-15.5089 91.9051,-18.4978 91.5504,-11.5068\"/>\r\n",
       "</g>\r\n",
       "</g>\r\n",
       "</svg>\r\n",
       "</div><div class=\"flexed-item\" style=\"order: 0;\"><h1>Reusability is procedural literacy</h1>\n",
       "<blockquote><p>... procedural literacy entails the ability to reconfigure basic concepts and rules to understand and solve problems, not just on the computer, but in general.</p>\n",
       "<blockquote><p><a href=\"http://bogost.com/downloads/I.%20Bogost%20Procedural%20Literacy.pdf\">Ian Bogost - Procedural Literacy: Problem Solving with Programming, Systems, &amp; Play</a></p>\n",
       "</blockquote>\n",
       "</blockquote>\n",
       "</div></div></div>"
      ],
      "text/plain": [
       "Row(content=[['# Literacy Makes Programming a Human Problem\\n> _Computational literacy builds on textual literacy because it entails textual writing and reading, but it is also quite distinct from textual literacy. In programming, one must \\nbuild structures out of explicitly defined components. As Wittgenstein argued, human language works differently: not through explicit definitions, but through use and exchange._\\n>> [Annette Vee - Understanding Computer programming as a Literacy](http://licsjournal.org/OJS/index.php/LiCS/article/view/24/26)\\n', {'html': {'src': 'http://licsjournal.org/OJS/index.php/LiCS/article/view/24/26#', 'width': '100%'}}], ['### Computational<br>Literacy', 'https://en.m.wikipedia.org/wiki/Guido_van_Rossum#Computer_Programming_for_Everybody', '> ### We compare mass ability to read and write so ware with mass literacy, and predict equally pervasive changes to society. Hardware is now sufficiently fast and cheap to make mass computer education possible: the next big change will happen when most computer users have the knowledge and power to create and modify software.\\n> > ## Guido van Rossum, from [a 1999 DARPA grant application to support the teaching of computer programming.](https://www.python.org/doc/essays/cp4e/)\\n'], ['digraph {rankdir=LR readable -> reproducible -> reusable -> readable }', '# Reusability is procedural literacy\\n> ... procedural literacy entails the ability to reconfigure basic concepts and rules to understand and solve problems, not just on the computer, but in general.\\n>> [Ian Bogost - Procedural Literacy: Problem Solving with Programming, Systems, & Play](http://bogost.com/downloads/I.%20Bogost%20Procedural%20Literacy.pdf)\\n']])"
      ]
     },
     "metadata": {},
     "output_type": "display_data"
    }
   ],
   "source": [
    "F\"\"\"\n",
    "{textual}\n",
    "{computational}\n",
    "{procedural}\n",
    "\"\"\""
   ]
  },
  {
   "cell_type": "code",
   "execution_count": 132,
   "metadata": {},
   "outputs": [
    {
     "data": {
      "text/html": [
       "<div class=\"flexed-container flexed-row\"><div class=\"flexed-item\" style=\"order: 0;\"><p>Notebook authors can  create</p>\n",
       "</div><div class=\"flexed-item\" style=\"order: 0;\"><?xml version=\"1.0\" encoding=\"UTF-8\" standalone=\"no\"?>\r\n",
       "<!DOCTYPE svg PUBLIC \"-//W3C//DTD SVG 1.1//EN\"\r\n",
       " \"http://www.w3.org/Graphics/SVG/1.1/DTD/svg11.dtd\">\r\n",
       "<!-- Generated by graphviz version 2.38.0 (20140413.2041)\r\n",
       " -->\r\n",
       "<!-- Title: %3 Pages: 1 -->\r\n",
       "<svg width=\"356pt\" height=\"67pt\"\r\n",
       " viewBox=\"0.00 0.00 355.58 67.00\" xmlns=\"http://www.w3.org/2000/svg\" xmlns:xlink=\"http://www.w3.org/1999/xlink\">\r\n",
       "<g id=\"graph0\" class=\"graph\" transform=\"scale(1 1) rotate(0) translate(4 63)\">\r\n",
       "<title>%3</title>\r\n",
       "<polygon fill=\"white\" stroke=\"none\" points=\"-4,4 -4,-63 351.576,-63 351.576,4 -4,4\"/>\r\n",
       "<!-- readable -->\r\n",
       "<g id=\"node1\" class=\"node\"><title>readable</title>\r\n",
       "<ellipse fill=\"none\" stroke=\"black\" cx=\"40.9464\" cy=\"-18\" rx=\"40.8928\" ry=\"18\"/>\r\n",
       "<text text-anchor=\"middle\" x=\"40.9464\" y=\"-14.3\" font-family=\"Times New Roman,serif\" font-size=\"14.00\">readable</text>\r\n",
       "</g>\r\n",
       "<!-- reproducible -->\r\n",
       "<g id=\"node2\" class=\"node\"><title>reproducible</title>\r\n",
       "<ellipse fill=\"none\" stroke=\"black\" cx=\"174.438\" cy=\"-41\" rx=\"56.59\" ry=\"18\"/>\r\n",
       "<text text-anchor=\"middle\" x=\"174.438\" y=\"-37.3\" font-family=\"Times New Roman,serif\" font-size=\"14.00\">reproducible</text>\r\n",
       "</g>\r\n",
       "<!-- readable&#45;&gt;reproducible -->\r\n",
       "<g id=\"edge1\" class=\"edge\"><title>readable&#45;&gt;reproducible</title>\r\n",
       "<path fill=\"none\" stroke=\"black\" d=\"M79.2748,-24.5294C90.1893,-26.4385 102.398,-28.5739 114.313,-30.6581\"/>\r\n",
       "<polygon fill=\"black\" stroke=\"black\" points=\"113.765,-34.1152 124.218,-32.3907 114.971,-27.2199 113.765,-34.1152\"/>\r\n",
       "</g>\r\n",
       "<!-- reusable -->\r\n",
       "<g id=\"node3\" class=\"node\"><title>reusable</title>\r\n",
       "<ellipse fill=\"none\" stroke=\"black\" cx=\"307.279\" cy=\"-18\" rx=\"40.0939\" ry=\"18\"/>\r\n",
       "<text text-anchor=\"middle\" x=\"307.279\" y=\"-14.3\" font-family=\"Times New Roman,serif\" font-size=\"14.00\">reusable</text>\r\n",
       "</g>\r\n",
       "<!-- reproducible&#45;&gt;reusable -->\r\n",
       "<g id=\"edge2\" class=\"edge\"><title>reproducible&#45;&gt;reusable</title>\r\n",
       "<path fill=\"none\" stroke=\"black\" d=\"M224.53,-32.3702C235.967,-30.3598 248.115,-28.2244 259.451,-26.2317\"/>\r\n",
       "<polygon fill=\"black\" stroke=\"black\" points=\"260.346,-29.6281 269.589,-24.4496 259.134,-22.7338 260.346,-29.6281\"/>\r\n",
       "</g>\r\n",
       "<!-- reusable&#45;&gt;readable -->\r\n",
       "<g id=\"edge3\" class=\"edge\"><title>reusable&#45;&gt;readable</title>\r\n",
       "<path fill=\"none\" stroke=\"black\" d=\"M267.215,-15.5299C255.563,-14.8998 242.76,-14.3126 230.983,-14 180.738,-12.6664 168.138,-12.6778 117.893,-14 109.45,-14.2222 100.484,-14.5831 91.7841,-14.9995\"/>\r\n",
       "<polygon fill=\"black\" stroke=\"black\" points=\"91.5504,-11.5068 81.7406,-15.5089 91.9051,-18.4978 91.5504,-11.5068\"/>\r\n",
       "</g>\r\n",
       "</g>\r\n",
       "</svg>\r\n",
       "</div><div class=\"flexed-item\" style=\"order: 0;\"><p>documents, but there is no style guidelines.</p>\n",
       "</div></div>"
      ],
      "text/plain": [
       "Row(content=[' Notebook authors can  create', 'digraph {rankdir=LR readable -> reproducible -> reusable -> readable }', ' documents, but there is no style guidelines.'])"
      ]
     },
     "metadata": {},
     "output_type": "display_data"
    }
   ],
   "source": [
    "F\"\"\"\n",
    "- \" Notebook authors can  create\"  \n",
    "- {rrr}\n",
    "- \" documents, but there is no style guidelines.\"\n",
    "\"\"\"\n"
   ]
  },
  {
   "cell_type": "code",
   "execution_count": 133,
   "metadata": {},
   "outputs": [],
   "source": [
    "    import this"
   ]
  },
  {
   "cell_type": "code",
   "execution_count": 134,
   "metadata": {},
   "outputs": [
    {
     "data": {
      "text/html": [
       "\n",
       "        <iframe\n",
       "            width=\"100%\"\n",
       "            height=\"450\"\n",
       "            src=\"https://pymbook.readthedocs.io/en/latest/pep8.html#comments\"\n",
       "            frameborder=\"0\"\n",
       "            allowfullscreen\n",
       "        ></iframe>\n",
       "        "
      ],
      "text/plain": [
       "<IPython.lib.display.IFrame at 0x2c62b342390>"
      ]
     },
     "metadata": {},
     "output_type": "display_data"
    }
   ],
   "source": [
    "    \"\"\"https://pymbook.readthedocs.io/en/latest/pep8.html#comments\"\"\""
   ]
  },
  {
   "cell_type": "code",
   "execution_count": 96,
   "metadata": {},
   "outputs": [],
   "source": [
    "    np = \"\"\"\n",
    "        # [Zen of NumPy](http://technicaldiscovery.blogspot.com/2010/11/zen-of-numpy.html?m=1)\n",
    "\n",
    "\n",
    "        * Strided is better than scattered\n",
    "        * Contiguous is better than strided\n",
    "        * Descriptive is better than imperative (use data-types)\n",
    "        * Array-oriented is often better than object-oriented\n",
    "        * Broadcasting is a great idea -- use where possible\n",
    "        * Vectorized is better than an explicit loop\n",
    "        * Unless it’s complicated --- then use numexpr, weave, or Cython\n",
    "        * Think in higher dimensions\"\"\"\n",
    "    sympy = \"\"\"\n",
    "        # [Zen of SymPy](https://github.com/sympy/sympy/wiki/The-Zen-of-SymPy)\n",
    "\n",
    "        * Unevaluated is better than evaluated.\n",
    "        * The user interface matters.\n",
    "        * Printing matters.\n",
    "        * Pure Python can be fast enough.\n",
    "        * If it's too slow, it's (probably) your fault.\n",
    "        * Documentation matters.\n",
    "        * Correctness is more important than speed.\n",
    "        * Push it in now and improve upon it later.\n",
    "        * Coverage by testing matters.\n",
    "        * Smart tests are better than random tests.\n",
    "        * But random tests sometimes find what your smartest test missed.\n",
    "        * The Python way is probably the right way.\n",
    "        * Community is more important than code.\n",
    "        \"\"\"\n",
    "    bobp = \"\"\"\n",
    "        # [The Best of the Best Practices (BOBP) Guide for Python](https://gist.github.com/sloria/7001839#file-bobp-python-md)\n",
    "\n",
    "        A \"Best of the Best Practices\" (BOBP) guide to developing in Python.\n",
    "\n",
    "        ## In General\n",
    "\n",
    "        ### Values\n",
    "\n",
    "        - \"Build tools for others that you want to be built for you.\" - Kenneth Reitz\n",
    "        - \"Simplicity is alway better than functionality.\" - Pieter Hintjens\n",
    "        - \"Fit the 90% use-case. Ignore the nay sayers.\" - Kenneth Reitz\n",
    "        - \"Beautiful is better than ugly.\" - [PEP 20][]\n",
    "        - Build for open source (even for closed source projects).\n",
    "\n",
    "        ### General Development Guidelines\n",
    "\n",
    "        - \"Explicit is better than implicit\" - [PEP 20][]\n",
    "        - \"Readability counts.\" - [PEP 20][]\n",
    "        - \"Anybody can fix anything.\" - [Khan Academy Development Docs][]\n",
    "        - Fix each [broken window](http://www.artima.com/intv/fixit2.html) (bad design, wrong decision, or poor code) *as soon as it is discovered*.\n",
    "        - \"Now is better than never.\" - [PEP 20][]\n",
    "        - __Test ruthlessly. Write docs for new features.__\n",
    "        - Even more important that Test-Driven Development--*Human-Driven Development*\n",
    "        - These guidelines may--and probably will--change.\"\"\""
   ]
  },
  {
   "cell_type": "code",
   "execution_count": 97,
   "metadata": {},
   "outputs": [
    {
     "data": {
      "text/html": [
       "<div class=\"flexed-container flexed-row\"><div class=\"flexed-item\" style=\"order: 0;\"><h1><a href=\"http://technicaldiscovery.blogspot.com/2010/11/zen-of-numpy.html?m=1\">Zen of NumPy</a></h1>\n",
       "<ul>\n",
       "<li>Strided is better than scattered</li>\n",
       "<li>Contiguous is better than strided</li>\n",
       "<li>Descriptive is better than imperative (use data-types)</li>\n",
       "<li>Array-oriented is often better than object-oriented</li>\n",
       "<li>Broadcasting is a great idea -- use where possible</li>\n",
       "<li>Vectorized is better than an explicit loop</li>\n",
       "<li>Unless it’s complicated --- then use numexpr, weave, or Cython</li>\n",
       "<li>Think in higher dimensions</li>\n",
       "</ul>\n",
       "</div><div class=\"flexed-item\" style=\"order: 0;\"><h1><a href=\"https://github.com/sympy/sympy/wiki/The-Zen-of-SymPy\">Zen of SymPy</a></h1>\n",
       "<ul>\n",
       "<li>Unevaluated is better than evaluated.</li>\n",
       "<li>The user interface matters.</li>\n",
       "<li>Printing matters.</li>\n",
       "<li>Pure Python can be fast enough.</li>\n",
       "<li>If it's too slow, it's (probably) your fault.</li>\n",
       "<li>Documentation matters.</li>\n",
       "<li>Correctness is more important than speed.</li>\n",
       "<li>Push it in now and improve upon it later.</li>\n",
       "<li>Coverage by testing matters.</li>\n",
       "<li>Smart tests are better than random tests.</li>\n",
       "<li>But random tests sometimes find what your smartest test missed.</li>\n",
       "<li>The Python way is probably the right way.</li>\n",
       "<li>Community is more important than code.</li>\n",
       "</ul>\n",
       "</div><div class=\"flexed-item\" style=\"order: 0;\"><h1><a href=\"https://gist.github.com/sloria/7001839#file-bobp-python-md\">The Best of the Best Practices (BOBP) Guide for Python</a></h1>\n",
       "<p>A \"Best of the Best Practices\" (BOBP) guide to developing in Python.</p>\n",
       "<h2>In General</h2>\n",
       "<h3>Values</h3>\n",
       "<ul>\n",
       "<li>\"Build tools for others that you want to be built for you.\" - Kenneth Reitz</li>\n",
       "<li>\"Simplicity is alway better than functionality.\" - Pieter Hintjens</li>\n",
       "<li>\"Fit the 90% use-case. Ignore the nay sayers.\" - Kenneth Reitz</li>\n",
       "<li>\"Beautiful is better than ugly.\" - [PEP 20][]</li>\n",
       "<li>Build for open source (even for closed source projects).\n",
       "### General Development Guidelines</li>\n",
       "<li>\"Explicit is better than implicit\" - [PEP 20][]</li>\n",
       "<li>\"Readability counts.\" - [PEP 20][]</li>\n",
       "<li>\"Anybody can fix anything.\" - [Khan Academy Development Docs][]</li>\n",
       "<li>Fix each <a href=\"http://www.artima.com/intv/fixit2.html\">broken window</a> (bad design, wrong decision, or poor code) <em>as soon as it is discovered</em>.</li>\n",
       "<li>\"Now is better than never.\" - [PEP 20][]</li>\n",
       "<li><strong>Test ruthlessly. Write docs for new features.</strong></li>\n",
       "<li>Even more important that Test-Driven Development--<em>Human-Driven Development</em></li>\n",
       "<li>These guidelines may--and probably will--change.</li>\n",
       "</ul>\n",
       "</div></div>"
      ],
      "text/plain": [
       "Row(content=['\\n# [Zen of NumPy](http://technicaldiscovery.blogspot.com/2010/11/zen-of-numpy.html?m=1)\\n* Strided is better than scattered\\n* Contiguous is better than strided\\n* Descriptive is better than imperative (use data-types)\\n* Array-oriented is often better than object-oriented\\n* Broadcasting is a great idea -- use where possible\\n* Vectorized is better than an explicit loop\\n* Unless it’s complicated --- then use numexpr, weave, or Cython\\n* Think in higher dimensions\\n', \"\\n# [Zen of SymPy](https://github.com/sympy/sympy/wiki/The-Zen-of-SymPy)\\n* Unevaluated is better than evaluated.\\n* The user interface matters.\\n* Printing matters.\\n* Pure Python can be fast enough.\\n* If it's too slow, it's (probably) your fault.\\n* Documentation matters.\\n* Correctness is more important than speed.\\n* Push it in now and improve upon it later.\\n* Coverage by testing matters.\\n* Smart tests are better than random tests.\\n* But random tests sometimes find what your smartest test missed.\\n* The Python way is probably the right way.\\n* Community is more important than code.\\n\", '\\n# [The Best of the Best Practices (BOBP) Guide for Python](https://gist.github.com/sloria/7001839#file-bobp-python-md)\\nA \"Best of the Best Practices\" (BOBP) guide to developing in Python.\\n## In General\\n### Values\\n- \"Build tools for others that you want to be built for you.\" - Kenneth Reitz\\n- \"Simplicity is alway better than functionality.\" - Pieter Hintjens\\n- \"Fit the 90% use-case. Ignore the nay sayers.\" - Kenneth Reitz\\n- \"Beautiful is better than ugly.\" - [PEP 20][]\\n- Build for open source (even for closed source projects).\\n### General Development Guidelines\\n- \"Explicit is better than implicit\" - [PEP 20][]\\n- \"Readability counts.\" - [PEP 20][]\\n- \"Anybody can fix anything.\" - [Khan Academy Development Docs][]\\n- Fix each [broken window](http://www.artima.com/intv/fixit2.html) (bad design, wrong decision, or poor code) *as soon as it is discovered*.\\n- \"Now is better than never.\" - [PEP 20][]\\n- __Test ruthlessly. Write docs for new features.__\\n- Even more important that Test-Driven Development--*Human-Driven Development*\\n- These guidelines may--and probably will--change.'])"
      ]
     },
     "metadata": {},
     "output_type": "display_data"
    }
   ],
   "source": [
    "    F\"\"\"\n",
    "    - |\n",
    "    {np}\n",
    "    - | \n",
    "    {sympy}\n",
    "    - | \n",
    "    {bobp}\"\"\""
   ]
  },
  {
   "cell_type": "code",
   "execution_count": 166,
   "metadata": {},
   "outputs": [
    {
     "data": {
      "text/html": [
       "<div class=\"flexed-container flexed-row\"><div class=\"flexed-item\" style=\"order: 0;\"><h2>Computer programs have styleguides</h2>\n",
       "</div><div class=\"flexed-item\" style=\"order: 0;\"><h2>Computer programmers have idioms</h2>\n",
       "</div></div>"
      ],
      "text/plain": [
       "Row(content=['## Computer programs have styleguides\\n', '## Computer programmers have idioms\\n'])"
      ]
     },
     "metadata": {},
     "output_type": "display_data"
    }
   ],
   "source": [
    "\"\"\"\n",
    "- |\n",
    "    ## Computer programs have styleguides\n",
    "- |\n",
    "    ## Computer programmers have idioms\n",
    "\"\"\""
   ]
  },
  {
   "cell_type": "markdown",
   "metadata": {},
   "source": [
    "# Black is the only color"
   ]
  },
  {
   "cell_type": "code",
   "execution_count": 197,
   "metadata": {},
   "outputs": [],
   "source": [
    "    %%blacken\n",
    "    print(11)"
   ]
  },
  {
   "cell_type": "markdown",
   "metadata": {},
   "source": [
    "## Alan Perlisisms"
   ]
  },
  {
   "cell_type": "code",
   "execution_count": 165,
   "metadata": {},
   "outputs": [
    {
     "data": {
      "text/html": [
       "\n",
       "        <iframe\n",
       "            width=\"100%\"\n",
       "            height=\"450\"\n",
       "            src=\"http://www.cs.yale.edu/homes/perlis-alan/quotes.html\"\n",
       "            frameborder=\"0\"\n",
       "            allowfullscreen\n",
       "        ></iframe>\n",
       "        "
      ],
      "text/plain": [
       "<IPython.lib.display.IFrame at 0x2c62b34bf60>"
      ]
     },
     "metadata": {},
     "output_type": "display_data"
    }
   ],
   "source": [
    "\"\"\"http://www.cs.yale.edu/homes/perlis-alan/quotes.html\"\"\""
   ]
  },
  {
   "cell_type": "code",
   "execution_count": 99,
   "metadata": {},
   "outputs": [
    {
     "data": {
      "text/html": [
       "<div class=\"flexed-container flexed-row\"><div class=\"flexed-container flexed-column\"><div class=\"flexed-container flexed-row\"><div class=\"flexed-item\" style=\"order: 0;\"><img src=\"http://nbviewer.jupyter.org/github/jupyterday-atlanta-2016/oriole_jupyterday_atl/blob/master/don_knuth.jpg\"/></div><div class=\"flexed-item\" style=\"order: 0;\"><h1><a href=\"https://en.wikipedia.org/wiki/Donald_Knuth\">Donald Knuth</a></h1>\n",
       "<ul>\n",
       "<li><a href=\"https://en.wikipedia.org/wiki/TeX\">$\\TeX$</a></li>\n",
       "<li><a href=\"https://en.wikipedia.org/wiki/The_Art_of_Computer_Programming\">The Art of Computer Programming</a></li>\n",
       "<li><a href=\"http://yakshav.es/the-patron-saint-of-yakshaves/\">40 years of tests!</a></li>\n",
       "<li><a href=\"https://web.archive.org/web/20080820030403/http://www.americanscientist.org/bookshelf/pub/100-or-so-books-that-shaped-a-century-of-science\">Book of the Century</a></li>\n",
       "</ul>\n",
       "</div></div><div class=\"flexed-container flexed-row\"><div class=\"flexed-item\" style=\"order: 0;\"><blockquote><h3><em>By coining the phrase “literate programming,” I am imposincg a moral commitment on everyone who hears the term;</em> <strong>surely nobody wants to admit writing an illiterate program</strong>.</h3>\n",
       "</blockquote>\n",
       "</div><div class=\"flexed-item\" style=\"order: 0;\">\n",
       "        <iframe\n",
       "            width=\"500\"\n",
       "            height=\"450\"\n",
       "            src=\"http://roxygen.org/knuth-literate-programming.pdf\"\n",
       "            frameborder=\"0\"\n",
       "            allowfullscreen\n",
       "        ></iframe>\n",
       "        </div></div></div></div>"
      ],
      "text/plain": [
       "Row(content=[[['http://nbviewer.jupyter.org/github/jupyterday-atlanta-2016/oriole_jupyterday_atl/blob/master/don_knuth.jpg', '# [Donald Knuth](https://en.wikipedia.org/wiki/Donald_Knuth)\\n\\n* [$\\\\TeX$](https://en.wikipedia.org/wiki/TeX)\\n* [The Art of Computer Programming](https://en.wikipedia.org/wiki/The_Art_of_Computer_Programming)\\n* [40 years of tests!](http://yakshav.es/the-patron-saint-of-yakshaves/)\\n* [Book of the Century](https://web.archive.org/web/20080820030403/http://www.americanscientist.org/bookshelf/pub/100-or-so-books-that-shaped-a-century-of-science)\\n'], ['> ### _By coining the phrase “literate programming,” I am imposincg a moral commitment on everyone who hears the term;_ __surely nobody wants to admit writing an illiterate program__.\\n', {'html': 'http://roxygen.org/knuth-literate-programming.pdf'}]]])"
      ]
     },
     "metadata": {},
     "output_type": "display_data"
    }
   ],
   "source": [
    "    \"\"\"\n",
    "    - - - http://nbviewer.jupyter.org/github/jupyterday-atlanta-2016/oriole_jupyterday_atl/blob/master/don_knuth.jpg\n",
    "        - |\n",
    "            # [Donald Knuth](https://en.wikipedia.org/wiki/Donald_Knuth)\n",
    "            \n",
    "            * [$\\TeX$](https://en.wikipedia.org/wiki/TeX)\n",
    "            * [The Art of Computer Programming](https://en.wikipedia.org/wiki/The_Art_of_Computer_Programming)\n",
    "            * [40 years of tests!](http://yakshav.es/the-patron-saint-of-yakshaves/)\n",
    "            * [Book of the Century](https://web.archive.org/web/20080820030403/http://www.americanscientist.org/bookshelf/pub/100-or-so-books-that-shaped-a-century-of-science)\n",
    "      - - |\n",
    "          > ### _By coining the phrase “literate programming,” I am imposincg a moral commitment on everyone who hears the term;_ __surely nobody wants to admit writing an illiterate program__.\n",
    "        - html: http://roxygen.org/knuth-literate-programming.pdf\n",
    "    \"\"\""
   ]
  },
  {
   "cell_type": "code",
   "execution_count": 135,
   "metadata": {},
   "outputs": [
    {
     "data": {
      "text/html": [
       "<div class=\"flexed-container flexed-row\"><div class=\"flexed-container flexed-column\"><div class=\"flexed-item\" style=\"order: 0;\"><p>We can learn some best practices for the notebook from composing computational essays.</p>\n",
       "</div><div class=\"flexed-item\" style=\"order: 0;\">\n",
       "        <iframe\n",
       "            width=\"500\"\n",
       "            height=\"450\"\n",
       "            src=\"http://blog.stephenwolfram.com/2017/11/what-is-a-computational-essay/#a-new-form-of-student-work\"\n",
       "            frameborder=\"0\"\n",
       "            allowfullscreen\n",
       "        ></iframe>\n",
       "        </div></div><div class=\"flexed-item\" style=\"order: 0;\"><blockquote><p>When you write a computational essay, the code in your computational essay has to produce results that fit with the story you’re telling. It’s not like you’re doing a mathematical derivation, and then some teacher tells you you’ve got the wrong answer. <strong>You can immediately see what your code does, and whether it fits with the story you’re telling. If it doesn’t, well then maybe your code is wrong—or maybe your story is wrong.</strong></p>\n",
       "</blockquote>\n",
       "</div></div>"
      ],
      "text/plain": [
       "Row(content=[['We can learn some best practices for the notebook from composing computational essays.', {'html': 'http://blog.stephenwolfram.com/2017/11/what-is-a-computational-essay/#a-new-form-of-student-work'}], '> When you write a computational essay, the code in your computational essay has to produce results that fit with the story you’re telling. It’s not like you’re doing a mathematical derivation, and then some teacher tells you you’ve got the wrong answer. __You can immediately see what your code does, and whether it fits with the story you’re telling. If it doesn’t, well then maybe your code is wrong—or maybe your story is wrong.__'])"
      ]
     },
     "metadata": {},
     "output_type": "display_data"
    }
   ],
   "source": [
    "    \"\"\"\n",
    "    - - We can learn some best practices for the notebook from composing computational essays.\n",
    "      - html: http://blog.stephenwolfram.com/2017/11/what-is-a-computational-essay/#a-new-form-of-student-work\n",
    "    - \"> When you write a computational essay, the code in your computational essay has to produce results that fit with the story you’re telling. It’s not like you’re doing a mathematical derivation, and then some teacher tells you you’ve got the wrong answer. __You can immediately see what your code does, and whether it fits with the story you’re telling. If it doesn’t, well then maybe your code is wrong—or maybe your story is wrong.__\"\n",
    "    \"\"\""
   ]
  },
  {
   "cell_type": "code",
   "execution_count": 137,
   "metadata": {},
   "outputs": [],
   "source": [
    "    from textwrap import indent; nbstyle = indent(\"\"\"focus on a concise \"unit of thought\"\n",
    "    invest the time and editorial effort to create a good introduction\n",
    "    keep your narrative simple and reasonably linear\n",
    "    \"chunk\" both the text and the code into understandable parts\n",
    "    alternate between text, code, output, further links, etc.\n",
    "    leverage markdown by providing interesting links for background, deep-dive, etc.\n",
    "    code cells should not be long, < 10 lines\n",
    "    code cells must show that they've run, producing at least some output\n",
    "    load data from the container, not the network\n",
    "    **clear all output then \"Run All\" -- or it didn't happen**\n",
    "    video narratives: there's text, and there's subtext...\n",
    "    pause after each \"beat\" -- smile, breathe, allow people to follow you\"\"\", ' * ')"
   ]
  },
  {
   "cell_type": "code",
   "execution_count": 138,
   "metadata": {},
   "outputs": [
    {
     "data": {
      "text/html": [
       "<div class=\"flexed-container flexed-row\"><div class=\"flexed-item\" style=\"order: 0;\"><h1>Notebook Style is not about Programming Style</h1>\n",
       "<hr>\n",
       "<blockquote><h2>What we learned about teaching with notebooks (in Oriole)</h2>\n",
       "<blockquote><p><a href=\"http://nbviewer.jupyter.org/github/jupyterday-atlanta-2016/oriole_jupyterday_atl/blob/master/oriole_talk.ipynb#What-we-learned-about-teaching-with-notebooks\">Paco Nathan - Oriole: a new learning medium based on Jupyter + Docker</a></p>\n",
       "</blockquote>\n",
       "</blockquote>\n",
       "</div><div class=\"flexed-item\" style=\"order: 0;\"><ul>\n",
       "<li>focus on a concise \"unit of thought\"</li>\n",
       "<li>invest the time and editorial effort to create a good introduction</li>\n",
       "<li>keep your narrative simple and reasonably linear</li>\n",
       "<li>\"chunk\" both the text and the code into understandable parts</li>\n",
       "<li>alternate between text, code, output, further links, etc.</li>\n",
       "<li>leverage markdown by providing interesting links for background, deep-dive, etc.</li>\n",
       "<li>code cells should not be long, &lt; 10 lines</li>\n",
       "<li>code cells must show that they've run, producing at least some output</li>\n",
       "<li>load data from the container, not the network</li>\n",
       "<li><strong>clear all output then \"Run All\" -- or it didn't happen</strong></li>\n",
       "<li>video narratives: there's text, and there's subtext...</li>\n",
       "<li>pause after each \"beat\" -- smile, breathe, allow people to follow you</li>\n",
       "</ul>\n",
       "</div></div>"
      ],
      "text/plain": [
       "Row(content=['# Notebook Style is not about Programming Style\\n---\\n> ## What we learned about teaching with notebooks (in Oriole)\\n>> [Paco Nathan - Oriole: a new learning medium based on Jupyter + Docker](http://nbviewer.jupyter.org/github/jupyterday-atlanta-2016/oriole_jupyterday_atl/blob/master/oriole_talk.ipynb#What-we-learned-about-teaching-with-notebooks)\\n', '* focus on a concise \"unit of thought\"\\n* invest the time and editorial effort to create a good introduction\\n* keep your narrative simple and reasonably linear\\n* \"chunk\" both the text and the code into understandable parts\\n* alternate between text, code, output, further links, etc.\\n* leverage markdown by providing interesting links for background, deep-dive, etc.\\n* code cells should not be long, < 10 lines\\n* code cells must show that they\\'ve run, producing at least some output\\n* load data from the container, not the network\\n* **clear all output then \"Run All\" -- or it didn\\'t happen**\\n* video narratives: there\\'s text, and there\\'s subtext...\\n* pause after each \"beat\" -- smile, breathe, allow people to follow you\\n'])"
      ]
     },
     "metadata": {},
     "output_type": "display_data"
    }
   ],
   "source": [
    "F\"\"\"- |\n",
    "    # Notebook Style is not about Programming Style\n",
    "\n",
    "    ---\n",
    "\n",
    "    > ## What we learned about teaching with notebooks (in Oriole)\n",
    "    >> [Paco Nathan - Oriole: a new learning medium based on Jupyter + Docker](http://nbviewer.jupyter.org/github/jupyterday-atlanta-2016/oriole_jupyterday_atl/blob/master/oriole_talk.ipynb#What-we-learned-about-teaching-with-notebooks)\n",
    "- |\n",
    "{nbstyle}\n",
    "\"\"\""
   ]
  },
  {
   "cell_type": "markdown",
   "metadata": {},
   "source": [
    "# Over time style will develop but restart and run all will persist."
   ]
  },
  {
   "cell_type": "markdown",
   "metadata": {},
   "source": [
    "# Accessibility\n",
    "\n",
    "* 👂\n",
    "* 👁\n",
    "* 👐\n",
    "* 👅\n",
    "* 👃 - the smell test"
   ]
  },
  {
   "cell_type": "code",
   "execution_count": null,
   "metadata": {},
   "outputs": [],
   "source": [
    "    __import__('importnb').Remote().load(\n",
    "        'https://gist.githubusercontent.com/robclewley/a5730e22592724dbd11c67adf1eb0a05/raw/f7e99c4b32c803ca73d173ee52ffd4e76031ccd7/tqdm_audio_ticker.ipynb')"
   ]
  },
  {
   "cell_type": "markdown",
   "metadata": {},
   "source": [
    "    Benchmarks"
   ]
  },
  {
   "cell_type": "code",
   "execution_count": 172,
   "metadata": {},
   "outputs": [],
   "source": [
    "%reload_ext reincarnation"
   ]
  },
  {
   "cell_type": "markdown",
   "metadata": {},
   "source": [
    "# Deathbeds\n",
    "\n",
    "\n",
    "Theres are things we can do now.  They are readable through nbviewer, reproducible on binder and in travis's _failing_ tests, and reusable on github.\n",
    "\n",
    "deathbeds link"
   ]
  },
  {
   "cell_type": "code",
   "execution_count": 195,
   "metadata": {},
   "outputs": [
    {
     "data": {
      "image/svg+xml": [
       "<?xml version=\"1.0\" encoding=\"UTF-8\" standalone=\"no\"?>\r\n",
       "<!DOCTYPE svg PUBLIC \"-//W3C//DTD SVG 1.1//EN\"\r\n",
       " \"http://www.w3.org/Graphics/SVG/1.1/DTD/svg11.dtd\">\r\n",
       "<!-- Generated by graphviz version 2.38.0 (20140413.2041)\r\n",
       " -->\r\n",
       "<!-- Title: %3 Pages: 1 -->\r\n",
       "<svg width=\"523pt\" height=\"153pt\"\r\n",
       " viewBox=\"0.00 0.00 522.67 153.00\" xmlns=\"http://www.w3.org/2000/svg\" xmlns:xlink=\"http://www.w3.org/1999/xlink\">\r\n",
       "<g id=\"graph0\" class=\"graph\" transform=\"scale(1 1) rotate(0) translate(4 149)\">\r\n",
       "<title>%3</title>\r\n",
       "<polygon fill=\"white\" stroke=\"none\" points=\"-4,4 -4,-149 518.67,-149 518.67,4 -4,4\"/>\r\n",
       "<g id=\"clust1\" class=\"cluster\"><title>clusterc</title>\r\n",
       "<polygon fill=\"none\" stroke=\"black\" points=\"8,-8 8,-137 290.784,-137 290.784,-8 8,-8\"/>\r\n",
       "<text text-anchor=\"middle\" x=\"149.392\" y=\"-121.8\" font-family=\"Times New Roman,serif\" font-size=\"14.00\">literate computing</text>\r\n",
       "</g>\r\n",
       "<!-- data -->\r\n",
       "<g id=\"node1\" class=\"node\"><title>data</title>\r\n",
       "<ellipse fill=\"none\" stroke=\"black\" cx=\"43\" cy=\"-61\" rx=\"27\" ry=\"18\"/>\r\n",
       "<text text-anchor=\"middle\" x=\"43\" y=\"-57.3\" font-family=\"Times New Roman,serif\" font-size=\"14.00\">data</text>\r\n",
       "</g>\r\n",
       "<!-- interactive computing -->\r\n",
       "<g id=\"node2\" class=\"node\"><title>interactive computing</title>\r\n",
       "<ellipse fill=\"none\" stroke=\"black\" cx=\"194.392\" cy=\"-88\" rx=\"88.2844\" ry=\"18\"/>\r\n",
       "<text text-anchor=\"middle\" x=\"194.392\" y=\"-84.3\" font-family=\"Times New Roman,serif\" font-size=\"14.00\">interactive computing</text>\r\n",
       "</g>\r\n",
       "<!-- data&#45;&gt;interactive computing -->\r\n",
       "<g id=\"edge1\" class=\"edge\"><title>data&#45;&gt;interactive computing</title>\r\n",
       "<path fill=\"none\" stroke=\"black\" d=\"M70.0221,-60.4362C88.0818,-62.3929 112.865,-66.429 135.483,-70.9377\"/>\r\n",
       "<polygon fill=\"black\" stroke=\"black\" points=\"134.853,-74.3814 145.353,-72.9652 136.262,-67.5246 134.853,-74.3814\"/>\r\n",
       "</g>\r\n",
       "<!-- literate programming -->\r\n",
       "<g id=\"node3\" class=\"node\"><title>literate programming</title>\r\n",
       "<ellipse fill=\"none\" stroke=\"black\" cx=\"194.392\" cy=\"-34\" rx=\"85.2851\" ry=\"18\"/>\r\n",
       "<text text-anchor=\"middle\" x=\"194.392\" y=\"-30.3\" font-family=\"Times New Roman,serif\" font-size=\"14.00\">literate programming</text>\r\n",
       "</g>\r\n",
       "<!-- data&#45;&gt;literate programming -->\r\n",
       "<g id=\"edge3\" class=\"edge\"><title>data&#45;&gt;literate programming</title>\r\n",
       "<path fill=\"none\" stroke=\"black\" d=\"M66.3655,-51.9754C77.344,-49.0742 91.3533,-45.982 106.035,-43.1252\"/>\r\n",
       "<polygon fill=\"black\" stroke=\"black\" points=\"107.101,-46.4858 116.277,-41.1903 105.801,-39.6075 107.101,-46.4858\"/>\r\n",
       "</g>\r\n",
       "<!-- interactive computing&#45;&gt;data -->\r\n",
       "<g id=\"edge2\" class=\"edge\"><title>interactive computing&#45;&gt;data</title>\r\n",
       "<path fill=\"none\" stroke=\"black\" d=\"M113.964,-80.3827C100.564,-77.8925 87.3678,-75.1485 76.1099,-72.4641\"/>\r\n",
       "<polygon fill=\"black\" stroke=\"black\" points=\"76.9162,-69.0581 66.3655,-70.0246 75.2161,-75.8485 76.9162,-69.0581\"/>\r\n",
       "</g>\r\n",
       "<!-- machines -->\r\n",
       "<g id=\"node4\" class=\"node\"><title>machines</title>\r\n",
       "<ellipse fill=\"none\" stroke=\"black\" cx=\"362.98\" cy=\"-88\" rx=\"44.393\" ry=\"18\"/>\r\n",
       "<text text-anchor=\"middle\" x=\"362.98\" y=\"-84.3\" font-family=\"Times New Roman,serif\" font-size=\"14.00\">machines</text>\r\n",
       "</g>\r\n",
       "<!-- interactive computing&#45;&gt;machines -->\r\n",
       "<g id=\"edge5\" class=\"edge\"><title>interactive computing&#45;&gt;machines</title>\r\n",
       "<path fill=\"none\" stroke=\"black\" d=\"M283.077,-88C291.785,-88 300.429,-88 308.627,-88\"/>\r\n",
       "<polygon fill=\"black\" stroke=\"black\" points=\"308.743,-91.5001 318.743,-88 308.743,-84.5001 308.743,-91.5001\"/>\r\n",
       "</g>\r\n",
       "<!-- literate programming&#45;&gt;data -->\r\n",
       "<g id=\"edge4\" class=\"edge\"><title>literate programming&#45;&gt;data</title>\r\n",
       "<path fill=\"none\" stroke=\"black\" d=\"M145.957,-48.9066C124.654,-53.4363 99.922,-57.7542 80.152,-60.3438\"/>\r\n",
       "<polygon fill=\"black\" stroke=\"black\" points=\"79.5319,-56.8931 70.0221,-61.5638 80.3689,-63.8429 79.5319,-56.8931\"/>\r\n",
       "</g>\r\n",
       "<!-- literate programming&#45;&gt;machines -->\r\n",
       "<g id=\"edge6\" class=\"edge\"><title>literate programming&#45;&gt;machines</title>\r\n",
       "<path fill=\"none\" stroke=\"black\" d=\"M248.122,-48.0434C262.067,-51.9973 277.057,-56.4637 290.784,-61 300.669,-64.2664 311.209,-68.0781 321.067,-71.7906\"/>\r\n",
       "<polygon fill=\"black\" stroke=\"black\" points=\"320.056,-75.1511 330.647,-75.4462 322.552,-68.611 320.056,-75.1511\"/>\r\n",
       "</g>\r\n",
       "<!-- people -->\r\n",
       "<g id=\"node5\" class=\"node\"><title>people</title>\r\n",
       "<ellipse fill=\"none\" stroke=\"black\" cx=\"362.98\" cy=\"-34\" rx=\"35.194\" ry=\"18\"/>\r\n",
       "<text text-anchor=\"middle\" x=\"362.98\" y=\"-30.3\" font-family=\"Times New Roman,serif\" font-size=\"14.00\">people</text>\r\n",
       "</g>\r\n",
       "<!-- literate programming&#45;&gt;people -->\r\n",
       "<g id=\"edge7\" class=\"edge\"><title>literate programming&#45;&gt;people</title>\r\n",
       "<path fill=\"none\" stroke=\"black\" d=\"M279.662,-34C292.638,-34 305.581,-34 317.234,-34\"/>\r\n",
       "<polygon fill=\"black\" stroke=\"black\" points=\"317.536,-37.5001 327.536,-34 317.536,-30.5001 317.536,-37.5001\"/>\r\n",
       "</g>\r\n",
       "<!-- 🙉🙈🙊 -->\r\n",
       "<g id=\"node6\" class=\"node\"><title>🙉🙈🙊</title>\r\n",
       "<ellipse fill=\"none\" stroke=\"black\" cx=\"478.923\" cy=\"-61\" rx=\"35.9954\" ry=\"18\"/>\r\n",
       "<text text-anchor=\"middle\" x=\"478.923\" y=\"-57.3\" font-family=\"Times New Roman,serif\" font-size=\"14.00\">🙉🙈🙊</text>\r\n",
       "</g>\r\n",
       "<!-- machines&#45;&gt;🙉🙈🙊 -->\r\n",
       "<g id=\"edge8\" class=\"edge\"><title>machines&#45;&gt;🙉🙈🙊</title>\r\n",
       "<path fill=\"none\" stroke=\"black\" d=\"M401.605,-79.0844C412.623,-76.4736 424.736,-73.6032 436.003,-70.9334\"/>\r\n",
       "<polygon fill=\"black\" stroke=\"black\" points=\"437.134,-74.2625 446.057,-68.551 435.52,-67.4512 437.134,-74.2625\"/>\r\n",
       "</g>\r\n",
       "<!-- people&#45;&gt;🙉🙈🙊 -->\r\n",
       "<g id=\"edge9\" class=\"edge\"><title>people&#45;&gt;🙉🙈🙊</title>\r\n",
       "<path fill=\"none\" stroke=\"black\" d=\"M395.116,-41.3779C407.718,-44.364 422.459,-47.8571 435.983,-51.0618\"/>\r\n",
       "<polygon fill=\"black\" stroke=\"black\" points=\"435.495,-54.543 446.032,-53.4431 437.109,-47.7316 435.495,-54.543\"/>\r\n",
       "</g>\r\n",
       "</g>\r\n",
       "</svg>\r\n"
      ],
      "text/plain": [
       "<graphviz.files.Source at 0x2c62b358518>"
      ]
     },
     "metadata": {},
     "output_type": "display_data"
    }
   ],
   "source": [
    "\"\"\"digraph {rankdir=\"LR\"; subgraph clusterc{ label=\"literate computing\"; data->\"interactive computing\" -> data -> \"literate programming\" ->data} {\"interactive computing\" \"literate programming\"} -> machines \"literate programming\" -> people {machines people} -> 🙉🙈🙊}\"\"\""
   ]
  },
  {
   "cell_type": "code",
   "execution_count": 194,
   "metadata": {},
   "outputs": [
    {
     "data": {
      "text/html": [
       "<div class=\"flexed-container flexed-row\"><div class=\"flexed-item\" style=\"order: 0;\"><p>At deathbeds we use notebooks daily to combine understand the act of the literate computing in the notebook.</p>\n",
       "</div><div class=\"flexed-item\" style=\"order: 0;\"><?xml version=\"1.0\" encoding=\"UTF-8\" standalone=\"no\"?>\r\n",
       "<!DOCTYPE svg PUBLIC \"-//W3C//DTD SVG 1.1//EN\"\r\n",
       " \"http://www.w3.org/Graphics/SVG/1.1/DTD/svg11.dtd\">\r\n",
       "<!-- Generated by graphviz version 2.38.0 (20140413.2041)\r\n",
       " -->\r\n",
       "<!-- Title: %3 Pages: 1 -->\r\n",
       "<svg width=\"404pt\" height=\"148pt\"\r\n",
       " viewBox=\"0.00 0.00 403.58 148.00\" xmlns=\"http://www.w3.org/2000/svg\" xmlns:xlink=\"http://www.w3.org/1999/xlink\">\r\n",
       "<g id=\"graph0\" class=\"graph\" transform=\"scale(1 1) rotate(0) translate(4 144)\">\r\n",
       "<title>%3</title>\r\n",
       "<polygon fill=\"white\" stroke=\"none\" points=\"-4,4 -4,-144 399.576,-144 399.576,4 -4,4\"/>\r\n",
       "<g id=\"clust1\" class=\"cluster\"><title>cluster_lit</title>\r\n",
       "<polygon fill=\"none\" stroke=\"black\" points=\"8,-8 8,-132 387.576,-132 387.576,-8 8,-8\"/>\r\n",
       "<text text-anchor=\"middle\" x=\"197.788\" y=\"-116.8\" font-family=\"Times New Roman,serif\" font-size=\"14.00\">Literacies</text>\r\n",
       "</g>\r\n",
       "<g id=\"clust4\" class=\"cluster\"><title>cluster_computational</title>\r\n",
       "<polygon fill=\"none\" stroke=\"black\" points=\"133.893,-16 133.893,-91 262.983,-91 262.983,-16 133.893,-16\"/>\r\n",
       "<text text-anchor=\"middle\" x=\"198.438\" y=\"-75.8\" font-family=\"Times New Roman,serif\" font-size=\"14.00\">Compute</text>\r\n",
       "</g>\r\n",
       "<g id=\"clust2\" class=\"cluster\"><title>cluster_text</title>\r\n",
       "<polygon fill=\"none\" stroke=\"black\" points=\"16,-21 16,-96 113.893,-96 113.893,-21 16,-21\"/>\r\n",
       "<text text-anchor=\"middle\" x=\"64.9464\" y=\"-80.8\" font-family=\"Times New Roman,serif\" font-size=\"14.00\">Input</text>\r\n",
       "</g>\r\n",
       "<g id=\"clust3\" class=\"cluster\"><title>cluster_procedural</title>\r\n",
       "<polygon fill=\"none\" stroke=\"black\" points=\"282.983,-21 282.983,-96 379.576,-96 379.576,-21 282.983,-21\"/>\r\n",
       "<text text-anchor=\"middle\" x=\"331.279\" y=\"-80.8\" font-family=\"Times New Roman,serif\" font-size=\"14.00\">Output</text>\r\n",
       "</g>\r\n",
       "<!-- readable -->\r\n",
       "<g id=\"node1\" class=\"node\"><title>readable</title>\r\n",
       "<ellipse fill=\"none\" stroke=\"black\" cx=\"64.9464\" cy=\"-47\" rx=\"40.8928\" ry=\"18\"/>\r\n",
       "<text text-anchor=\"middle\" x=\"64.9464\" y=\"-43.3\" font-family=\"Times New Roman,serif\" font-size=\"14.00\">readable</text>\r\n",
       "</g>\r\n",
       "<!-- reproducible -->\r\n",
       "<g id=\"node2\" class=\"node\"><title>reproducible</title>\r\n",
       "<ellipse fill=\"none\" stroke=\"black\" cx=\"198.438\" cy=\"-42\" rx=\"56.59\" ry=\"18\"/>\r\n",
       "<text text-anchor=\"middle\" x=\"198.438\" y=\"-38.3\" font-family=\"Times New Roman,serif\" font-size=\"14.00\">reproducible</text>\r\n",
       "</g>\r\n",
       "<!-- readable&#45;&gt;reproducible -->\r\n",
       "<g id=\"edge1\" class=\"edge\"><title>readable&#45;&gt;reproducible</title>\r\n",
       "<path fill=\"none\" stroke=\"black\" d=\"M105.755,-45.4863C114.103,-45.1688 123.115,-44.8261 132.117,-44.4839\"/>\r\n",
       "<polygon fill=\"black\" stroke=\"black\" points=\"132.379,-47.9765 142.239,-44.0989 132.113,-40.9815 132.379,-47.9765\"/>\r\n",
       "</g>\r\n",
       "<!-- reusable -->\r\n",
       "<g id=\"node3\" class=\"node\"><title>reusable</title>\r\n",
       "<ellipse fill=\"none\" stroke=\"black\" cx=\"331.279\" cy=\"-47\" rx=\"40.0939\" ry=\"18\"/>\r\n",
       "<text text-anchor=\"middle\" x=\"331.279\" y=\"-43.3\" font-family=\"Times New Roman,serif\" font-size=\"14.00\">reusable</text>\r\n",
       "</g>\r\n",
       "<!-- reproducible&#45;&gt;reusable -->\r\n",
       "<g id=\"edge2\" class=\"edge\"><title>reproducible&#45;&gt;reusable</title>\r\n",
       "<path fill=\"none\" stroke=\"black\" d=\"M254.926,-44.1205C263.542,-44.4497 272.393,-44.7879 280.863,-45.1116\"/>\r\n",
       "<polygon fill=\"black\" stroke=\"black\" points=\"280.838,-48.6131 290.964,-45.4976 281.105,-41.6182 280.838,-48.6131\"/>\r\n",
       "</g>\r\n",
       "<!-- reusable&#45;&gt;readable -->\r\n",
       "<g id=\"edge3\" class=\"edge\"><title>reusable&#45;&gt;readable</title>\r\n",
       "<path fill=\"none\" stroke=\"black\" d=\"M313.675,-63.3824C300.974,-74.6985 282.391,-88.7876 262.983,-95 208.34,-112.491 188.575,-112.367 133.893,-95 118.011,-89.9561 102.644,-79.709 90.5527,-69.9733\"/>\r\n",
       "<polygon fill=\"black\" stroke=\"black\" points=\"92.6407,-67.1557 82.7395,-63.3851 88.1282,-72.5072 92.6407,-67.1557\"/>\r\n",
       "</g>\r\n",
       "</g>\r\n",
       "</svg>\r\n",
       "</div></div>"
      ],
      "text/plain": [
       "Row(content=['At deathbeds we use notebooks daily to combine understand the act of the literate computing in the notebook.\\n', 'digraph {     rankdir=LR     subgraph cluster_lit{         label=Literacies         readable -> reproducible -> reusable -> readable          subgraph cluster_text {label=Input readable}         subgraph cluster_procedural {label=Output reusable}         subgraph cluster_computational {label=Compute reproducible}     } }'])"
      ]
     },
     "metadata": {},
     "output_type": "display_data"
    }
   ],
   "source": [
    "F\"\"\"- |\n",
    "    At deathbeds we use notebooks daily to combine understand the act of the literate computing in the notebook.\n",
    "\n",
    "- {interactive_rrr}\"\"\""
   ]
  },
  {
   "cell_type": "markdown",
   "metadata": {},
   "source": [
    "# Old notebooks as input"
   ]
  },
  {
   "cell_type": "markdown",
   "metadata": {},
   "source": [
    "Restart and run all"
   ]
  },
  {
   "cell_type": "markdown",
   "metadata": {},
   "source": [
    "## Importing notebooks"
   ]
  },
  {
   "cell_type": "markdown",
   "metadata": {},
   "source": [
    "# Input transformers"
   ]
  },
  {
   "cell_type": "code",
   "execution_count": 211,
   "metadata": {},
   "outputs": [],
   "source": [
    "    ip = get_ipython()"
   ]
  },
  {
   "cell_type": "code",
   "execution_count": 210,
   "metadata": {},
   "outputs": [
    {
     "data": {
      "text/plain": [
       "(<IPython.core.inputsplitter.IPythonInputSplitter at 0x2c62cc346a0>,\n",
       " [<deathbeds.2018-06-19-String-Node-Transformer.GraphViz at 0x2c62a5eb710>,\n",
       "  <deathbeds.2018-06-19-String-Node-Transformer.YamlDefinition at 0x2c62af65ba8>,\n",
       "  <deathbeds.2018-06-19-String-Node-Transformer.IframeDisplay at 0x2c62a626e10>,\n",
       "  <deathbeds.2018-08-16-HTML-Flexbox.FlexBoxTransformer at 0x2c62a132128>])"
      ]
     },
     "execution_count": 210,
     "metadata": {},
     "output_type": "execute_result"
    }
   ],
   "source": [
    "    ip.input_splitter, ip.ast_transformers"
   ]
  },
  {
   "cell_type": "markdown",
   "metadata": {},
   "source": [
    "# Compute\n",
    "\n",
    "kernels, parameterization, testing, "
   ]
  },
  {
   "cell_type": "markdown",
   "metadata": {},
   "source": [
    "Code as UI, the notebook is completely hackable."
   ]
  },
  {
   "cell_type": "markdown",
   "metadata": {},
   "source": [
    "# Outputs\n",
    "\n",
    "fonts, "
   ]
  },
  {
   "cell_type": "markdown",
   "metadata": {},
   "source": [
    "# Takeaways\n",
    "\n",
    "* Restart and run all\n",
    "* Write notebooks"
   ]
  },
  {
   "cell_type": "code",
   "execution_count": null,
   "metadata": {},
   "outputs": [],
   "source": []
  }
 ],
 "metadata": {
  "kernelspec": {
   "display_name": "Python 3",
   "language": "python",
   "name": "python3"
  },
  "language_info": {
   "codemirror_mode": {
    "name": "ipython",
    "version": 3
   },
   "file_extension": ".py",
   "mimetype": "text/x-python",
   "name": "python",
   "nbconvert_exporter": "python",
   "pygments_lexer": "ipython3",
   "version": "3.6.5"
  }
 },
 "nbformat": 4,
 "nbformat_minor": 2
}
